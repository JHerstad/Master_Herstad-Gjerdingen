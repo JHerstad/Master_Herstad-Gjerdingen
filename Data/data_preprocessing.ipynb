{
 "cells": [
  {
   "cell_type": "markdown",
   "metadata": {},
   "source": [
    "### Dataset\n",
    "\n",
    "#### Import"
   ]
  },
  {
   "cell_type": "code",
   "execution_count": 70,
   "metadata": {},
   "outputs": [],
   "source": [
    "import pandas as pd\n",
    "import numpy as np \n",
    "from keras.preprocessing.sequence import pad_sequences"
   ]
  },
  {
   "cell_type": "code",
   "execution_count": 71,
   "metadata": {},
   "outputs": [
    {
     "data": {
      "text/html": [
       "<div>\n",
       "<style scoped>\n",
       "    .dataframe tbody tr th:only-of-type {\n",
       "        vertical-align: middle;\n",
       "    }\n",
       "\n",
       "    .dataframe tbody tr th {\n",
       "        vertical-align: top;\n",
       "    }\n",
       "\n",
       "    .dataframe thead th {\n",
       "        text-align: right;\n",
       "    }\n",
       "</style>\n",
       "<table border=\"1\" class=\"dataframe\">\n",
       "  <thead>\n",
       "    <tr style=\"text-align: right;\">\n",
       "      <th></th>\n",
       "      <th>Cell</th>\n",
       "      <th>Sample</th>\n",
       "      <th>History_Cycle</th>\n",
       "      <th>History</th>\n",
       "      <th>Target_Cycle_Expanded</th>\n",
       "      <th>Target_expanded</th>\n",
       "      <th>Target_Cycle</th>\n",
       "      <th>Target</th>\n",
       "    </tr>\n",
       "  </thead>\n",
       "  <tbody>\n",
       "    <tr>\n",
       "      <th>0</th>\n",
       "      <td>1</td>\n",
       "      <td>1</td>\n",
       "      <td>[0, 5, 10, 15, 20, 25, 30, 35, 40, 45, 50, 55,...</td>\n",
       "      <td>[1.834012342776987, 1.8321873038112761, 1.8303...</td>\n",
       "      <td>[105, 110, 115, 120, 125, 130, 135, 140, 145, ...</td>\n",
       "      <td>[1.7973466099593307, 1.7957194104838883, 1.794...</td>\n",
       "      <td>[105, 150, 195, 240, 285, 330, 375, 420, 465, ...</td>\n",
       "      <td>[1.7973466099593307, 1.7832393947563925, 1.770...</td>\n",
       "    </tr>\n",
       "    <tr>\n",
       "      <th>1</th>\n",
       "      <td>1</td>\n",
       "      <td>2</td>\n",
       "      <td>[0, 5, 10, 15, 20, 25, 30, 35, 40, 45, 50, 55,...</td>\n",
       "      <td>[1.834012342776987, 1.8321873038112761, 1.8303...</td>\n",
       "      <td>[110, 115, 120, 125, 130, 135, 140, 145, 150, ...</td>\n",
       "      <td>[1.7957194104838883, 1.794106179214274, 1.7925...</td>\n",
       "      <td>[110, 155, 200, 245, 290, 335, 380, 425, 470, ...</td>\n",
       "      <td>[1.7957194104838883, 1.7817527911332156, 1.769...</td>\n",
       "    </tr>\n",
       "    <tr>\n",
       "      <th>2</th>\n",
       "      <td>1</td>\n",
       "      <td>3</td>\n",
       "      <td>[0, 5, 10, 15, 20, 25, 30, 35, 40, 45, 50, 55,...</td>\n",
       "      <td>[1.834012342776987, 1.8321873038112761, 1.8303...</td>\n",
       "      <td>[115, 120, 125, 130, 135, 140, 145, 150, 155, ...</td>\n",
       "      <td>[1.794106179214274, 1.7925073295393719, 1.7909...</td>\n",
       "      <td>[115, 160, 205, 250, 295, 340, 385, 430, 475, ...</td>\n",
       "      <td>[1.794106179214274, 1.7802836132202329, 1.7676...</td>\n",
       "    </tr>\n",
       "    <tr>\n",
       "      <th>3</th>\n",
       "      <td>1</td>\n",
       "      <td>4</td>\n",
       "      <td>[0, 5, 10, 15, 20, 25, 30, 35, 40, 45, 50, 55,...</td>\n",
       "      <td>[1.834012342776987, 1.8321873038112761, 1.8303...</td>\n",
       "      <td>[120, 125, 130, 135, 140, 145, 150, 155, 160, ...</td>\n",
       "      <td>[1.7925073295393719, 1.7909232748480652, 1.789...</td>\n",
       "      <td>[120, 165, 210, 255, 300, 345, 390, 435, 480, ...</td>\n",
       "      <td>[1.7925073295393719, 1.7788295719024707, 1.766...</td>\n",
       "    </tr>\n",
       "    <tr>\n",
       "      <th>4</th>\n",
       "      <td>1</td>\n",
       "      <td>5</td>\n",
       "      <td>[0, 5, 10, 15, 20, 25, 30, 35, 40, 45, 50, 55,...</td>\n",
       "      <td>[1.834012342776987, 1.8321873038112761, 1.8303...</td>\n",
       "      <td>[125, 130, 135, 140, 145, 150, 155, 160, 165, ...</td>\n",
       "      <td>[1.7909232748480652, 1.7893544285292378, 1.787...</td>\n",
       "      <td>[125, 170, 215, 260, 305, 350, 395, 440, 485, ...</td>\n",
       "      <td>[1.7909232748480652, 1.7773897124807985, 1.765...</td>\n",
       "    </tr>\n",
       "  </tbody>\n",
       "</table>\n",
       "</div>"
      ],
      "text/plain": [
       "   Cell  Sample                                      History_Cycle  \\\n",
       "0     1       1  [0, 5, 10, 15, 20, 25, 30, 35, 40, 45, 50, 55,...   \n",
       "1     1       2  [0, 5, 10, 15, 20, 25, 30, 35, 40, 45, 50, 55,...   \n",
       "2     1       3  [0, 5, 10, 15, 20, 25, 30, 35, 40, 45, 50, 55,...   \n",
       "3     1       4  [0, 5, 10, 15, 20, 25, 30, 35, 40, 45, 50, 55,...   \n",
       "4     1       5  [0, 5, 10, 15, 20, 25, 30, 35, 40, 45, 50, 55,...   \n",
       "\n",
       "                                             History  \\\n",
       "0  [1.834012342776987, 1.8321873038112761, 1.8303...   \n",
       "1  [1.834012342776987, 1.8321873038112761, 1.8303...   \n",
       "2  [1.834012342776987, 1.8321873038112761, 1.8303...   \n",
       "3  [1.834012342776987, 1.8321873038112761, 1.8303...   \n",
       "4  [1.834012342776987, 1.8321873038112761, 1.8303...   \n",
       "\n",
       "                               Target_Cycle_Expanded  \\\n",
       "0  [105, 110, 115, 120, 125, 130, 135, 140, 145, ...   \n",
       "1  [110, 115, 120, 125, 130, 135, 140, 145, 150, ...   \n",
       "2  [115, 120, 125, 130, 135, 140, 145, 150, 155, ...   \n",
       "3  [120, 125, 130, 135, 140, 145, 150, 155, 160, ...   \n",
       "4  [125, 130, 135, 140, 145, 150, 155, 160, 165, ...   \n",
       "\n",
       "                                     Target_expanded  \\\n",
       "0  [1.7973466099593307, 1.7957194104838883, 1.794...   \n",
       "1  [1.7957194104838883, 1.794106179214274, 1.7925...   \n",
       "2  [1.794106179214274, 1.7925073295393719, 1.7909...   \n",
       "3  [1.7925073295393719, 1.7909232748480652, 1.789...   \n",
       "4  [1.7909232748480652, 1.7893544285292378, 1.787...   \n",
       "\n",
       "                                        Target_Cycle  \\\n",
       "0  [105, 150, 195, 240, 285, 330, 375, 420, 465, ...   \n",
       "1  [110, 155, 200, 245, 290, 335, 380, 425, 470, ...   \n",
       "2  [115, 160, 205, 250, 295, 340, 385, 430, 475, ...   \n",
       "3  [120, 165, 210, 255, 300, 345, 390, 435, 480, ...   \n",
       "4  [125, 170, 215, 260, 305, 350, 395, 440, 485, ...   \n",
       "\n",
       "                                              Target  \n",
       "0  [1.7973466099593307, 1.7832393947563925, 1.770...  \n",
       "1  [1.7957194104838883, 1.7817527911332156, 1.769...  \n",
       "2  [1.794106179214274, 1.7802836132202329, 1.7676...  \n",
       "3  [1.7925073295393719, 1.7788295719024707, 1.766...  \n",
       "4  [1.7909232748480652, 1.7773897124807985, 1.765...  "
      ]
     },
     "execution_count": 71,
     "metadata": {},
     "output_type": "execute_result"
    }
   ],
   "source": [
    "data_loader = mpy.loadmat(\"Degradation_Prediction_Dataset_ISEA.mat\")\n",
    "\n",
    "data = pd.DataFrame.from_dict(data_loader[\"TDS\"])\n",
    "\n",
    "data.head()"
   ]
  },
  {
   "cell_type": "code",
   "execution_count": 72,
   "metadata": {},
   "outputs": [
    {
     "data": {
      "image/png": "[encoded data removed]",
      "text/plain": [
       "<Figure size 640x480 with 1 Axes>"
      ]
     },
     "metadata": {},
     "output_type": "display_data"
    }
   ],
   "source": [
    "import matplotlib.pyplot as plt\n",
    "\n",
    "# Plot History and Target for a single sample\n",
    "sample_idx = 8002\n",
    "plt.plot(data['History_Cycle'][sample_idx], data['History'][sample_idx], label='History')\n",
    "plt.plot(data['Target_Cycle'][sample_idx], data['Target'][sample_idx], label='Target')\n",
    "plt.xlabel('Cycle')\n",
    "plt.ylabel('Normalized Capacity')\n",
    "plt.legend()\n",
    "plt.show()"
   ]
  },
  {
   "cell_type": "code",
   "execution_count": 89,
   "metadata": {},
   "outputs": [
    {
     "name": "stdout",
     "output_type": "stream",
     "text": [
      "Maximum history length: 288\n",
      "Maximum target length: 39\n"
     ]
    }
   ],
   "source": [
    "# Fint the maximum length of the history and target sequences\n",
    "max_history_length = data['History_Cycle'].apply(len).max()\n",
    "max_target_length = data['Target_Cycle'].apply(len).max()\n",
    "\n",
    "print(f'Maximum history length: {max_history_length}')\n",
    "print(f'Maximum target length: {max_target_length}')"
   ]
  },
  {
   "cell_type": "code",
   "execution_count": 93,
   "metadata": {},
   "outputs": [],
   "source": [
    "# Padding the sequences in 'History' and 'Target'\n",
    "data['Padded_History'] = pad_sequences(data['History'], padding='pre', dtype='float32').tolist()\n",
    "data['Padded_Target'] = pad_sequences(data['Target'], padding='post', dtype='float32').tolist()"
   ]
  },
  {
   "cell_type": "code",
   "execution_count": 97,
   "metadata": {},
   "outputs": [
    {
     "name": "stdout",
     "output_type": "stream",
     "text": [
      "       Cell  Sample                                      History_Cycle  \\\n",
      "0         1       1  [0, 5, 10, 15, 20, 25, 30, 35, 40, 45, 50, 55,...   \n",
      "1         1       2  [0, 5, 10, 15, 20, 25, 30, 35, 40, 45, 50, 55,...   \n",
      "2         1       3  [0, 5, 10, 15, 20, 25, 30, 35, 40, 45, 50, 55,...   \n",
      "3         1       4  [0, 5, 10, 15, 20, 25, 30, 35, 40, 45, 50, 55,...   \n",
      "4         1       5  [0, 5, 10, 15, 20, 25, 30, 35, 40, 45, 50, 55,...   \n",
      "...     ...     ...                                                ...   \n",
      "10681    47   10682  [0, 5, 10, 15, 20, 25, 30, 35, 40, 45, 50, 55,...   \n",
      "10682    47   10683  [0, 5, 10, 15, 20, 25, 30, 35, 40, 45, 50, 55,...   \n",
      "10683    47   10684  [0, 5, 10, 15, 20, 25, 30, 35, 40, 45, 50, 55,...   \n",
      "10684    47   10685  [0, 5, 10, 15, 20, 25, 30, 35, 40, 45, 50, 55,...   \n",
      "10685    47   10686  [0, 5, 10, 15, 20, 25, 30, 35, 40, 45, 50, 55,...   \n",
      "\n",
      "                                            Target_Cycle  \\\n",
      "0      [105, 150, 195, 240, 285, 330, 375, 420, 465, ...   \n",
      "1      [110, 155, 200, 245, 290, 335, 380, 425, 470, ...   \n",
      "2      [115, 160, 205, 250, 295, 340, 385, 430, 475, ...   \n",
      "3      [120, 165, 210, 255, 300, 345, 390, 435, 480, ...   \n",
      "4      [125, 170, 215, 260, 305, 350, 395, 440, 485, ...   \n",
      "...                                                  ...   \n",
      "10681  [1195, 1240, 1285, 1330, 1375, 1420, 1465, 151...   \n",
      "10682  [1200, 1245, 1290, 1335, 1380, 1425, 1470, 151...   \n",
      "10683  [1205, 1250, 1295, 1340, 1385, 1430, 1475, 152...   \n",
      "10684  [1210, 1255, 1300, 1345, 1390, 1435, 1480, 152...   \n",
      "10685  [1215, 1260, 1305, 1350, 1395, 1440, 1485, 153...   \n",
      "\n",
      "                                          Padded_History  \\\n",
      "0      [0.0, 0.0, 0.0, 0.0, 0.0, 0.0, 0.0, 0.0, 0.0, ...   \n",
      "1      [0.0, 0.0, 0.0, 0.0, 0.0, 0.0, 0.0, 0.0, 0.0, ...   \n",
      "2      [0.0, 0.0, 0.0, 0.0, 0.0, 0.0, 0.0, 0.0, 0.0, ...   \n",
      "3      [0.0, 0.0, 0.0, 0.0, 0.0, 0.0, 0.0, 0.0, 0.0, ...   \n",
      "4      [0.0, 0.0, 0.0, 0.0, 0.0, 0.0, 0.0, 0.0, 0.0, ...   \n",
      "...                                                  ...   \n",
      "10681  [0.0, 0.0, 0.0, 0.0, 0.0, 0.0, 0.0, 0.0, 0.0, ...   \n",
      "10682  [0.0, 0.0, 0.0, 0.0, 0.0, 0.0, 0.0, 0.0, 0.0, ...   \n",
      "10683  [0.0, 0.0, 0.0, 0.0, 0.0, 0.0, 0.0, 0.0, 0.0, ...   \n",
      "10684  [0.0, 0.0, 0.0, 0.0, 0.0, 0.0, 0.0, 0.0, 0.0, ...   \n",
      "10685  [0.0, 0.0, 0.0, 0.0, 0.0, 0.0, 0.0, 0.0, 0.0, ...   \n",
      "\n",
      "                                           Padded_Target  \n",
      "0      [1.797346591949463, 1.7832393646240234, 1.7703...  \n",
      "1      [1.7957193851470947, 1.7817528247833252, 1.769...  \n",
      "2      [1.794106125831604, 1.7802835702896118, 1.7676...  \n",
      "3      [1.792507290840149, 1.778829574584961, 1.76633...  \n",
      "4      [1.7909232378005981, 1.7773897647857666, 1.765...  \n",
      "...                                                  ...  \n",
      "10681  [1.402721643447876, 1.3580654859542847, 1.3096...  \n",
      "10682  [1.3979442119598389, 1.3528860807418823, 1.303...  \n",
      "10683  [1.3931186199188232, 1.3476662635803223, 1.298...  \n",
      "10684  [1.3882458209991455, 1.3424068689346313, 1.292...  \n",
      "10685  [1.3833266496658325, 1.3371087312698364, 1.286...  \n",
      "\n",
      "[10686 rows x 6 columns]\n"
     ]
    }
   ],
   "source": [
    "# Initialize a list to store the processed data\n",
    "processed_data = []\n",
    "\n",
    "# Iterate over the DataFrame rows\n",
    "for _, row in data.iterrows():\n",
    "    # Create a dictionary for each entry\n",
    "    processed_entry = {\n",
    "        'Cell': row['Cell'],                     # Cell ID\n",
    "        'Sample': row['Sample'],                 # Sample number\n",
    "        'History_Cycle': row['History_Cycle'],   # Capacity history cycle numbers\n",
    "        'Target_Cycle': row['Target_Cycle'],     # Target cycle numbers\n",
    "        'Padded_History': row['Padded_History'], # Use padded history\n",
    "        'Padded_Target': row['Padded_Target']    # Use padded target\n",
    "    }\n",
    "    # Append the processed entry to the list\n",
    "    processed_data.append(processed_entry)\n",
    "\n",
    "# Convert the list of dictionaries into a DataFrame\n",
    "import pandas as pd\n",
    "processed_df = pd.DataFrame(processed_data)\n",
    "\n",
    "print(processed_df)"
   ]
  },
  {
   "cell_type": "code",
   "execution_count": 95,
   "metadata": {},
   "outputs": [],
   "source": [
    "def generate_dataset(data, shuffle=False):\n",
    "    number_of_rows = len(data)                                  # number of rows of the data frame\n",
    "    number_of_samples = 0                                       # variable for number of samples in each input row\n",
    "    number_of_targets = 0                                       # variable for number of samples in each target row\n",
    "    inputlist = []                                              # initiate input array as list\n",
    "    targetlist = []                                             # initiate target array as list\n",
    "\n",
    "    # Extract each row from the data frame\n",
    "    for row in range(number_of_rows):\n",
    "        input_row = data.iloc[row, -2]                          # extract capacity history as input\n",
    "        number_of_samples = len(input_row)                      # number of samples in the current input row\n",
    "        current_input_row = np.zeros((number_of_samples, 1))    # initiate current input row as numpy array\n",
    "        for sample in range(number_of_samples):\n",
    "            # populate current row with sample values from capacity history\n",
    "            current_input_row[sample, 0] = input_row[sample]\n",
    "        inputlist.append(current_input_row)                     # append current row to input list\n",
    "\n",
    "        target_row = data.iloc[row, -1]                         # extract future capacity degradation curve as output\n",
    "        number_of_targets = len(target_row)\n",
    "        targetlist.append(target_row)                           # append current target row to target list\n",
    "\n",
    "    # convert input and target lists to numpy arrays and assert proper dimensions\n",
    "    input_array = np.asarray(inputlist).reshape((number_of_rows, number_of_samples, 1))\n",
    "    target_array = np.asarray(targetlist).reshape((number_of_rows, number_of_targets, 1))\n",
    "\n",
    "    if shuffle:\n",
    "        # shuffle input and target arrays in tandem if shuffle = true in function parameters\n",
    "        features_file, labels_file = array_shuffler(input_array, target_array)\n",
    "        print('Shuffled set', end=' - ')\n",
    "    else:\n",
    "        # If shuffle = false, then just pass the original arrays\n",
    "        print('Non Shuffled set', end=' - ')\n",
    "        features_file, labels_file = input_array, target_array\n",
    "\n",
    "    print(features_file.shape, labels_file.shape)             # confirm proper dimensions of the input and target files\n",
    "    return features_file, labels_file"
   ]
  },
  {
   "cell_type": "code",
   "execution_count": 96,
   "metadata": {},
   "outputs": [
    {
     "name": "stdout",
     "output_type": "stream",
     "text": [
      "Non Shuffled set - (10686, 288, 1) (10686, 39, 1)\n"
     ]
    }
   ],
   "source": [
    "features_file, labels_file = generate_dataset(processed_df)"
   ]
  },
  {
   "cell_type": "code",
   "execution_count": null,
   "metadata": {},
   "outputs": [],
   "source": []
  }
 ],
 "metadata": {
  "kernelspec": {
   "display_name": "D2D_env",
   "language": "python",
   "name": "python3"
  },
  "language_info": {
   "codemirror_mode": {
    "name": "ipython",
    "version": 3
   },
   "file_extension": ".py",
   "mimetype": "text/x-python",
   "name": "python",
   "nbconvert_exporter": "python",
   "pygments_lexer": "ipython3",
   "version": "3.11.9"
  }
 },
 "nbformat": 4,
 "nbformat_minor": 2
}
