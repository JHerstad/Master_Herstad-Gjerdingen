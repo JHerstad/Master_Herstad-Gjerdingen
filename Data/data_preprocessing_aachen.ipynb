{
 "cells": [
  {
   "cell_type": "markdown",
   "metadata": {},
   "source": [
    "### Dataset\n",
    "\n",
    "#### Import"
   ]
  },
  {
   "cell_type": "code",
   "execution_count": 2,
   "metadata": {},
   "outputs": [],
   "source": [
    "import pandas as pd\n",
    "import numpy as np \n",
    "from keras.preprocessing.sequence import pad_sequences\n",
    "import mat4py as mpy"
   ]
  },
  {
   "cell_type": "code",
   "execution_count": 3,
   "metadata": {},
   "outputs": [],
   "source": [
    "filename_mat = \"Degradation_Prediction_Dataset_ISEA.mat\""
   ]
  },
  {
   "cell_type": "code",
   "execution_count": 4,
   "metadata": {},
   "outputs": [],
   "source": [
    "data_loader = mpy.loadmat(filename_mat)\n",
    "\n",
    "data = pd.DataFrame.from_dict(data_loader[\"TDS\"])"
   ]
  },
  {
   "cell_type": "code",
   "execution_count": 5,
   "metadata": {},
   "outputs": [],
   "source": [
    "# Padding the sequences in 'History' and 'Target'\n",
    "data['Padded_History'] = pad_sequences(data['History'], padding='pre', dtype='float32').tolist()\n",
    "data['Padded_Target'] = pad_sequences(data['Target'], padding='post', dtype='float32').tolist()"
   ]
  },
  {
   "cell_type": "code",
   "execution_count": 6,
   "metadata": {},
   "outputs": [],
   "source": [
    "# Initialize a list to store the processed data\n",
    "processed_data = []\n",
    "\n",
    "# Iterate over the DataFrame rows\n",
    "for _, row in data.iterrows():\n",
    "    # Create a dictionary for each entry\n",
    "    processed_entry = {\n",
    "        'Cell': row['Cell'],                     # Cell ID\n",
    "        'Sample': row['Sample'],                 # Sample number\n",
    "        'History_Cycle': row['History_Cycle'],   # Capacity history cycle numbers\n",
    "        'Target_Cycle': row['Target_Cycle'],     # Target cycle numbers\n",
    "        'Padded_History': row['Padded_History'], # Use padded history\n",
    "        'Padded_Target': row['Padded_Target']    # Use padded target\n",
    "    }\n",
    "    # Append the processed entry to the list\n",
    "    processed_data.append(processed_entry)\n",
    "\n",
    "# Convert the list of dictionaries into a DataFrame\n",
    "processed_df = pd.DataFrame(processed_data)"
   ]
  },
  {
   "cell_type": "code",
   "execution_count": 7,
   "metadata": {},
   "outputs": [],
   "source": [
    "def generate_dataset(data, shuffle=False):\n",
    "    number_of_rows = len(data)  # number of rows in the DataFrame\n",
    "    inputlist = []             # list to store processed input arrays\n",
    "    targetlist = []            # list to store processed target arrays\n",
    "\n",
    "    # Extract each row from the DataFrame\n",
    "    for row in range(number_of_rows):\n",
    "        # Extract input (capacity history)\n",
    "        input_row = data.iloc[row, -2]  # Extract capacity history\n",
    "        input_row = np.array(input_row, dtype=np.float32)\n",
    "        inputlist.append(input_row)\n",
    "\n",
    "        # Extract target (capacity degradation curve)\n",
    "        target_row = data.iloc[row, -1]  # Extract target degradation curve\n",
    "        target_row = np.array(target_row, dtype=np.float32)  # Ensure it is a NumPy array of floats\n",
    "        targetlist.append(target_row)\n",
    "\n",
    "    # Convert lists to NumPy arrays\n",
    "    input_array = np.array(inputlist, dtype=np.float32)  # Create a 3D array: (number_of_rows, number_of_samples, 1)\n",
    "    target_array = np.array(targetlist, dtype=np.float32)  # Create a 3D array: (number_of_rows, number_of_targets, 1)\n",
    "\n",
    "    if shuffle:\n",
    "        # Shuffle input and target arrays in tandem\n",
    "        indices = np.arange(number_of_rows)\n",
    "        np.random.shuffle(indices)\n",
    "        input_array = input_array[indices]\n",
    "        target_array = target_array[indices]\n",
    "        print('Shuffled set', end=' - ')\n",
    "    else:\n",
    "        print('Non Shuffled set', end=' - ')\n",
    "\n",
    "    print(input_array.shape, target_array.shape)  # Print the shape of the processed arrays\n",
    "    return input_array, target_array"
   ]
  },
  {
   "cell_type": "code",
   "execution_count": 8,
   "metadata": {},
   "outputs": [
    {
     "name": "stdout",
     "output_type": "stream",
     "text": [
      "Non Shuffled set - (10686, 288) (10686, 39)\n"
     ]
    }
   ],
   "source": [
    "features_file, labels_file = generate_dataset(processed_df)"
   ]
  },
  {
   "cell_type": "code",
   "execution_count": 28,
   "metadata": {},
   "outputs": [
    {
     "data": {
      "text/plain": [
       "array([[1.7973466, 1.7832394, 1.7703887, ..., 0.       , 0.       ,\n",
       "        0.       ],\n",
       "       [1.7957194, 1.7817528, 1.7690253, ..., 0.       , 0.       ,\n",
       "        0.       ],\n",
       "       [1.7941061, 1.7802836, 1.7676731, ..., 0.       , 0.       ,\n",
       "        0.       ],\n",
       "       ...,\n",
       "       [1.3931186, 1.3476663, 1.2980216, ..., 0.       , 0.       ,\n",
       "        0.       ],\n",
       "       [1.3882458, 1.3424069, 1.2921164, ..., 0.       , 0.       ,\n",
       "        0.       ],\n",
       "       [1.3833266, 1.3371087, 1.2861387, ..., 0.       , 0.       ,\n",
       "        0.       ]], dtype=float32)"
      ]
     },
     "execution_count": 28,
     "metadata": {},
     "output_type": "execute_result"
    }
   ],
   "source": [
    "features_file"
   ]
  },
  {
   "cell_type": "code",
   "execution_count": 9,
   "metadata": {},
   "outputs": [
    {
     "data": {
      "text/plain": [
       "array([[1.7973466, 1.7832394, 1.7703887, ..., 0.       , 0.       ,\n",
       "        0.       ],\n",
       "       [1.7957194, 1.7817528, 1.7690253, ..., 0.       , 0.       ,\n",
       "        0.       ],\n",
       "       [1.7941061, 1.7802836, 1.7676731, ..., 0.       , 0.       ,\n",
       "        0.       ],\n",
       "       ...,\n",
       "       [1.3931186, 1.3476663, 1.2980216, ..., 0.       , 0.       ,\n",
       "        0.       ],\n",
       "       [1.3882458, 1.3424069, 1.2921164, ..., 0.       , 0.       ,\n",
       "        0.       ],\n",
       "       [1.3833266, 1.3371087, 1.2861387, ..., 0.       , 0.       ,\n",
       "        0.       ]], dtype=float32)"
      ]
     },
     "execution_count": 9,
     "metadata": {},
     "output_type": "execute_result"
    }
   ],
   "source": [
    "labels_file"
   ]
  }
 ],
 "metadata": {
  "kernelspec": {
   "display_name": "D2D_env",
   "language": "python",
   "name": "python3"
  },
  "language_info": {
   "codemirror_mode": {
    "name": "ipython",
    "version": 3
   },
   "file_extension": ".py",
   "mimetype": "text/x-python",
   "name": "python",
   "nbconvert_exporter": "python",
   "pygments_lexer": "ipython3",
   "version": "3.11.9"
  }
 },
 "nbformat": 4,
 "nbformat_minor": 2
}
