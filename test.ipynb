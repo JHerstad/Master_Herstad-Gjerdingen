{
 "cells": [
  {
   "cell_type": "markdown",
   "metadata": {},
   "source": [
    "### Imports\n"
   ]
  },
  {
   "cell_type": "code",
   "execution_count": 1,
   "metadata": {},
   "outputs": [],
   "source": [
    "import numpy as np\n",
    "import pandas as pd\n",
    "\n",
    "import sys\n",
    "import os\n",
    "\n",
    "\n"
   ]
  },
  {
   "cell_type": "code",
   "execution_count": null,
   "metadata": {},
   "outputs": [],
   "source": [
    "# Import from src/ and config/\n",
    "from src.preprocessing import preprocess_aachen_dataset\n",
    "from config.defaults import Config\n",
    "\n",
    "# Load the default configuration\n",
    "config = Config()\n",
    "\n",
    "# Preprocess the dataset for classification (CNN)\n",
    "preprocessed_classification = preprocess_aachen_dataset(\n",
    "    data_path=config.data_path,\n",
    "    test_cell_count=config.test_cell_count,\n",
    "    random_state=config.random_state,\n",
    "    log_transform=config.log_transform,\n",
    "    classification=True  # Explore classification (CNN) output\n",
    ")\n",
    "\n",
    "# Preprocess the dataset for regression (LSTM)\n",
    "preprocessed_regression = preprocess_aachen_dataset(\n",
    "    data_path=config.data_path,\n",
    "    test_cell_count=config.test_cell_count,\n",
    "    random_state=config.random_state,\n",
    "    log_transform=config.log_transform,\n",
    "    classification=False  # Explore regression (LSTM) output\n",
    ")"
   ]
  },
  {
   "cell_type": "markdown",
   "metadata": {},
   "source": [
    "## LSTM\n",
    "\n",
    "### Data Load"
   ]
  },
  {
   "cell_type": "code",
   "execution_count": null,
   "metadata": {},
   "outputs": [
    {
     "name": "stderr",
     "output_type": "stream",
     "text": [
      "2025-03-03 13:03:51,683 - INFO - Loaded preprocessed data and metadata for regression with EOL 0.65\n"
     ]
    }
   ],
   "source": [
    "from src.models import load_preprocessed_data\n",
    "\n",
    "model_type = \"regression\"\n",
    "\n",
    "# Load preprocessed data\n",
    "X_train, X_val, X_test, y_train, y_val, y_test, metadata = load_preprocessed_data(\n",
    "    model_type, config.eol_capacity\n",
    ")"
   ]
  },
  {
   "cell_type": "markdown",
   "metadata": {},
   "source": [
    "### Grid Search"
   ]
  },
  {
   "cell_type": "code",
   "execution_count": null,
   "metadata": {},
   "outputs": [],
   "source": [
    "from src.grid_search import run_hyperparameter_search\n",
    "\n",
    "run_hyperparameter_search(config, model_type=\"lstm\")"
   ]
  },
  {
   "cell_type": "markdown",
   "metadata": {},
   "source": [
    "## CNN\n",
    "\n",
    "### Data Load"
   ]
  },
  {
   "cell_type": "code",
   "execution_count": 1,
   "metadata": {},
   "outputs": [
    {
     "name": "stderr",
     "output_type": "stream",
     "text": [
      "2025-03-05 09:11:50,310 - INFO - Loaded preprocessed data and metadata for classification with EOL 0.65\n"
     ]
    }
   ],
   "source": [
    "from src.models import load_preprocessed_data\n",
    "from config.defaults import Config\n",
    "\n",
    "# Load the default configuration\n",
    "config = Config()\n",
    "\n",
    "model_type = \"classification\"\n",
    "\n",
    "# Load preprocessed data\n",
    "X_train, X_val, X_test, y_train, y_val, y_test, metadata = load_preprocessed_data(\n",
    "    model_type, config.eol_capacity\n",
    ")"
   ]
  },
  {
   "cell_type": "markdown",
   "metadata": {},
   "source": [
    "### Grid Search"
   ]
  },
  {
   "cell_type": "code",
   "execution_count": 2,
   "metadata": {},
   "outputs": [
    {
     "name": "stderr",
     "output_type": "stream",
     "text": [
      "2025-03-05 09:11:50,487 - INFO - Task type set to: classification, Model type: cnn\n",
      "2025-03-05 09:11:50,487 - INFO - Loading preprocessed data for hyperparameter tuning...\n",
      "2025-03-05 09:11:50,490 - INFO - Loaded preprocessed data and metadata for classification with EOL 0.65\n",
      "2025-03-05 09:11:50,507 - INFO - Starting hyperparameter tuning...\n",
      "2025-03-05 09:11:50,507 - INFO - Best hyperparameters found: {'conv1_filters': 16, 'conv1_kernel_size': 13, 'l2_reg': 0.0001, 'conv2_filters': 64, 'conv2_kernel_size': 5, 'conv3_filters': 128, 'conv3_kernel_size': 3, 'cnn_dense_units': 128, 'cnn_dropout_rate': 0.3, 'learning_rate': 0.0001}\n",
      "2025-03-05 09:11:50,508 - INFO - Best hyperparameters saved to: experiments/hyperparameter_tuning/Experiment1_cnn_tuning_eol65_best_params.json\n"
     ]
    },
    {
     "name": "stdout",
     "output_type": "stream",
     "text": [
      "Reloading Tuner from experiments/hyperparameter_tuning/Experiment1_cnn_tuning_eol65/tuner0.json\n"
     ]
    },
    {
     "data": {
      "text/plain": [
       "{'conv1_filters': 16,\n",
       " 'conv1_kernel_size': 13,\n",
       " 'l2_reg': 0.0001,\n",
       " 'conv2_filters': 64,\n",
       " 'conv2_kernel_size': 5,\n",
       " 'conv3_filters': 128,\n",
       " 'conv3_kernel_size': 3,\n",
       " 'cnn_dense_units': 128,\n",
       " 'cnn_dropout_rate': 0.3,\n",
       " 'learning_rate': 0.0001}"
      ]
     },
     "execution_count": 2,
     "metadata": {},
     "output_type": "execute_result"
    }
   ],
   "source": [
    "from src.grid_search import run_hyperparameter_search\n",
    "\n",
    "run_hyperparameter_search(config, model_type=\"cnn\")"
   ]
  },
  {
   "cell_type": "markdown",
   "metadata": {},
   "source": [
    "### Train model"
   ]
  },
  {
   "cell_type": "code",
   "execution_count": 3,
   "metadata": {},
   "outputs": [
    {
     "name": "stdout",
     "output_type": "stream",
     "text": [
      "Loaded best hyperparameters from experiments/hyperparameter_tuning/Experiment1_cnn_tuning_eol65_best_params.json: {'conv1_filters': 16, 'conv1_kernel_size': 13, 'l2_reg': 0.0001, 'conv2_filters': 64, 'conv2_kernel_size': 5, 'conv3_filters': 128, 'conv3_kernel_size': 3, 'cnn_dense_units': 128, 'cnn_dropout_rate': 0.3, 'learning_rate': 0.0001}\n"
     ]
    },
    {
     "ename": "NameError",
     "evalue": "name 'l2' is not defined",
     "output_type": "error",
     "traceback": [
      "\u001b[0;31m---------------------------------------------------------------------------\u001b[0m",
      "\u001b[0;31mNameError\u001b[0m                                 Traceback (most recent call last)",
      "Cell \u001b[0;32mIn[3], line 9\u001b[0m\n\u001b[1;32m      6\u001b[0m \u001b[38;5;66;03m# Input shape for the CNN model\u001b[39;00m\n\u001b[1;32m      7\u001b[0m input_shape \u001b[38;5;241m=\u001b[39m (config\u001b[38;5;241m.\u001b[39mseq_len, \u001b[38;5;241m1\u001b[39m)\n\u001b[0;32m----> 9\u001b[0m train_cnn_model(config, X_train, y_train, X_val, y_val, input_shape)\n",
      "File \u001b[0;32m~/Student/Master kode/Master_Herstad-Gjerdingen/src/models.py:160\u001b[0m, in \u001b[0;36mtrain_cnn_model\u001b[0;34m(config, X_train, y_train, X_val, y_val, input_shape)\u001b[0m\n\u001b[1;32m    141\u001b[0m \u001b[38;5;250m\u001b[39m\u001b[38;5;124;03m\"\"\"\u001b[39;00m\n\u001b[1;32m    142\u001b[0m \u001b[38;5;124;03mTrains a CNN model for RUL classification using tuned hyperparameters from config.\u001b[39;00m\n\u001b[1;32m    143\u001b[0m \n\u001b[0;32m   (...)\u001b[0m\n\u001b[1;32m    151\u001b[0m \u001b[38;5;124;03m    Tuple: (trained model, training history).\u001b[39;00m\n\u001b[1;32m    152\u001b[0m \u001b[38;5;124;03m\"\"\"\u001b[39;00m\n\u001b[1;32m    153\u001b[0m \u001b[38;5;66;03m# Build model using tuned parameters from config\u001b[39;00m\n\u001b[1;32m    154\u001b[0m model \u001b[38;5;241m=\u001b[39m Sequential([\n\u001b[1;32m    155\u001b[0m     Input(shape\u001b[38;5;241m=\u001b[39minput_shape),\n\u001b[1;32m    156\u001b[0m     Conv1D(\n\u001b[1;32m    157\u001b[0m         filters\u001b[38;5;241m=\u001b[39mconfig\u001b[38;5;241m.\u001b[39mconv1_filters,\n\u001b[1;32m    158\u001b[0m         kernel_size\u001b[38;5;241m=\u001b[39mconfig\u001b[38;5;241m.\u001b[39mconv1_kernel_size,\n\u001b[1;32m    159\u001b[0m         activation\u001b[38;5;241m=\u001b[39m\u001b[38;5;124m'\u001b[39m\u001b[38;5;124mrelu\u001b[39m\u001b[38;5;124m'\u001b[39m,\n\u001b[0;32m--> 160\u001b[0m         kernel_regularizer\u001b[38;5;241m=\u001b[39ml2(config\u001b[38;5;241m.\u001b[39ml2_reg)\n\u001b[1;32m    161\u001b[0m     ),\n\u001b[1;32m    162\u001b[0m     BatchNormalization(),\n\u001b[1;32m    163\u001b[0m     MaxPooling1D(pool_size\u001b[38;5;241m=\u001b[39m\u001b[38;5;241m2\u001b[39m),\n\u001b[1;32m    164\u001b[0m     Conv1D(\n\u001b[1;32m    165\u001b[0m         filters\u001b[38;5;241m=\u001b[39mconfig\u001b[38;5;241m.\u001b[39mconv2_filters,\n\u001b[1;32m    166\u001b[0m         kernel_size\u001b[38;5;241m=\u001b[39mconfig\u001b[38;5;241m.\u001b[39mconv2_kernel_size,\n\u001b[1;32m    167\u001b[0m         activation\u001b[38;5;241m=\u001b[39m\u001b[38;5;124m'\u001b[39m\u001b[38;5;124mrelu\u001b[39m\u001b[38;5;124m'\u001b[39m,\n\u001b[1;32m    168\u001b[0m         kernel_regularizer\u001b[38;5;241m=\u001b[39ml2(config\u001b[38;5;241m.\u001b[39ml2_reg)\n\u001b[1;32m    169\u001b[0m     ),\n\u001b[1;32m    170\u001b[0m     BatchNormalization(),\n\u001b[1;32m    171\u001b[0m     MaxPooling1D(pool_size\u001b[38;5;241m=\u001b[39m\u001b[38;5;241m2\u001b[39m),\n\u001b[1;32m    172\u001b[0m     Conv1D(\n\u001b[1;32m    173\u001b[0m         filters\u001b[38;5;241m=\u001b[39mconfig\u001b[38;5;241m.\u001b[39mconv3_filters,\n\u001b[1;32m    174\u001b[0m         kernel_size\u001b[38;5;241m=\u001b[39mconfig\u001b[38;5;241m.\u001b[39mconv3_kernel_size,\n\u001b[1;32m    175\u001b[0m         activation\u001b[38;5;241m=\u001b[39m\u001b[38;5;124m'\u001b[39m\u001b[38;5;124mrelu\u001b[39m\u001b[38;5;124m'\u001b[39m,\n\u001b[1;32m    176\u001b[0m         kernel_regularizer\u001b[38;5;241m=\u001b[39ml2(config\u001b[38;5;241m.\u001b[39ml2_reg)\n\u001b[1;32m    177\u001b[0m     ),\n\u001b[1;32m    178\u001b[0m     BatchNormalization(),\n\u001b[1;32m    179\u001b[0m     MaxPooling1D(pool_size\u001b[38;5;241m=\u001b[39m\u001b[38;5;241m2\u001b[39m),\n\u001b[1;32m    180\u001b[0m     Flatten(),\n\u001b[1;32m    181\u001b[0m     Dense(\n\u001b[1;32m    182\u001b[0m         units\u001b[38;5;241m=\u001b[39mconfig\u001b[38;5;241m.\u001b[39mcnn_dense_units,\n\u001b[1;32m    183\u001b[0m         activation\u001b[38;5;241m=\u001b[39m\u001b[38;5;124m'\u001b[39m\u001b[38;5;124mrelu\u001b[39m\u001b[38;5;124m'\u001b[39m,\n\u001b[1;32m    184\u001b[0m         kernel_regularizer\u001b[38;5;241m=\u001b[39ml2(config\u001b[38;5;241m.\u001b[39ml2_reg)\n\u001b[1;32m    185\u001b[0m     ),\n\u001b[1;32m    186\u001b[0m     Dropout(config\u001b[38;5;241m.\u001b[39mcnn_dropout_rate),\n\u001b[1;32m    187\u001b[0m     Dense(\u001b[38;5;241m7\u001b[39m, activation\u001b[38;5;241m=\u001b[39m\u001b[38;5;124m'\u001b[39m\u001b[38;5;124msoftmax\u001b[39m\u001b[38;5;124m'\u001b[39m)\n\u001b[1;32m    188\u001b[0m ])\n\u001b[1;32m    189\u001b[0m optimizer \u001b[38;5;241m=\u001b[39m Adam(learning_rate\u001b[38;5;241m=\u001b[39mconfig\u001b[38;5;241m.\u001b[39mlearning_rate)\n\u001b[1;32m    190\u001b[0m model\u001b[38;5;241m.\u001b[39mcompile(optimizer\u001b[38;5;241m=\u001b[39moptimizer, loss\u001b[38;5;241m=\u001b[39m\u001b[38;5;124m'\u001b[39m\u001b[38;5;124mcategorical_crossentropy\u001b[39m\u001b[38;5;124m'\u001b[39m, metrics\u001b[38;5;241m=\u001b[39m[\u001b[38;5;124m'\u001b[39m\u001b[38;5;124maccuracy\u001b[39m\u001b[38;5;124m'\u001b[39m])\n",
      "\u001b[0;31mNameError\u001b[0m: name 'l2' is not defined"
     ]
    }
   ],
   "source": [
    "from src.models import train_cnn_model\n",
    "\n",
    "# Update the configuration\n",
    "config.load_best_params(\"cnn\")\n",
    "\n",
    "# Input shape for the CNN model\n",
    "input_shape = (config.seq_len, 1)\n",
    "\n",
    "train_cnn_model(config, X_train, y_train, X_val, y_val, input_shape)\n",
    "\n"
   ]
  },
  {
   "cell_type": "code",
   "execution_count": null,
   "metadata": {},
   "outputs": [],
   "source": []
  }
 ],
 "metadata": {
  "kernelspec": {
   "display_name": "Python (D2D_env)",
   "language": "python",
   "name": "d2d_env"
  },
  "language_info": {
   "codemirror_mode": {
    "name": "ipython",
    "version": 3
   },
   "file_extension": ".py",
   "mimetype": "text/x-python",
   "name": "python",
   "nbconvert_exporter": "python",
   "pygments_lexer": "ipython3",
   "version": "3.11.9"
  }
 },
 "nbformat": 4,
 "nbformat_minor": 2
}
