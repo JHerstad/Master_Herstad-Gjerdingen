{
 "cells": [
  {
   "cell_type": "markdown",
   "metadata": {},
   "source": [
    "### Imports\n"
   ]
  },
  {
   "cell_type": "code",
   "execution_count": 1,
   "metadata": {},
   "outputs": [],
   "source": [
    "import numpy as np\n",
    "import pandas as pd\n",
    "\n",
    "import sys\n",
    "import os\n",
    "\n"
   ]
  },
  {
   "cell_type": "markdown",
   "metadata": {},
   "source": [
    "## Preprossessing"
   ]
  },
  {
   "cell_type": "code",
   "execution_count": 2,
   "metadata": {},
   "outputs": [],
   "source": [
    "# Import from src/ and config/\n",
    "from src.preprocessing import preprocess_aachen_dataset\n",
    "from config.defaults import Config"
   ]
  },
  {
   "cell_type": "code",
   "execution_count": 3,
   "metadata": {},
   "outputs": [],
   "source": [
    "# Load the default configuration\n",
    "config = Config()\n",
    "\n",
    "# Preprocess the dataset for classification (CNN)\n",
    "preprocessed_classification = preprocess_aachen_dataset(\n",
    "    data_path=config.data_path,\n",
    "    test_cell_count=config.test_cell_count,\n",
    "    random_state=config.random_state,\n",
    "    log_transform=config.log_transform,\n",
    "    classification=True  # Explore classification (CNN) output\n",
    ")\n",
    "\n",
    "# Preprocess the dataset for regression (LSTM)\n",
    "preprocessed_regression = preprocess_aachen_dataset(\n",
    "    data_path=config.data_path,\n",
    "    test_cell_count=config.test_cell_count,\n",
    "    random_state=config.random_state,\n",
    "    log_transform=config.log_transform,\n",
    "    classification=False  # Explore regression (LSTM) output\n",
    ")"
   ]
  },
  {
   "cell_type": "markdown",
   "metadata": {},
   "source": [
    "### Data Load"
   ]
  },
  {
   "cell_type": "code",
   "execution_count": 4,
   "metadata": {},
   "outputs": [
    {
     "name": "stderr",
     "output_type": "stream",
     "text": [
      "2025-03-03 09:45:38,604 - INFO - Loaded preprocessed data and metadata for regression with EOL 0.65\n"
     ]
    }
   ],
   "source": [
    "from src.models import load_preprocessed_data\n",
    "\n",
    "model_type = \"regression\"\n",
    "\n",
    "# Load preprocessed data\n",
    "X_train, X_val, X_test, y_train, y_val, y_test, metadata = load_preprocessed_data(\n",
    "    model_type, config.eol_capacity\n",
    ")"
   ]
  },
  {
   "cell_type": "code",
   "execution_count": 5,
   "metadata": {},
   "outputs": [
    {
     "name": "stdout",
     "output_type": "stream",
     "text": [
      "X_train shape: (4513, 120, 1)\n",
      "X_val shape: (1129, 120, 1)\n",
      "X_test shape: (391, 120, 1)\n",
      "y_train shape: (4513,)\n",
      "y_val shape: (1129,)\n",
      "y_test shape: (391,)\n"
     ]
    },
    {
     "data": {
      "text/plain": [
       "{'y_max': 995.0,\n",
       " 'max_sequence_length': 120,\n",
       " 'eol_capacity': 0.65,\n",
       " 'classification': False,\n",
       " 'timestamp': '20250303_094538'}"
      ]
     },
     "execution_count": 5,
     "metadata": {},
     "output_type": "execute_result"
    }
   ],
   "source": [
    "# Shape of the data\n",
    "print(\"X_train shape:\", X_train.shape)\n",
    "print(\"X_val shape:\", X_val.shape)\n",
    "print(\"X_test shape:\", X_test.shape)\n",
    "print(\"y_train shape:\", y_train.shape)\n",
    "print(\"y_val shape:\", y_val.shape)\n",
    "print(\"y_test shape:\", y_test.shape)\n",
    "metadata\n"
   ]
  },
  {
   "cell_type": "markdown",
   "metadata": {},
   "source": [
    "## Model build"
   ]
  },
  {
   "cell_type": "code",
   "execution_count": 6,
   "metadata": {},
   "outputs": [],
   "source": [
    "from src.models import build_lstm_model, train_lstm_model, load_saved_model"
   ]
  },
  {
   "cell_type": "code",
   "execution_count": 7,
   "metadata": {},
   "outputs": [
    {
     "name": "stderr",
     "output_type": "stream",
     "text": [
      "2025-03-03 09:45:42,083 - INFO - No saved model found for regression with EOL 0.65\n"
     ]
    }
   ],
   "source": [
    "# check for saved model\n",
    "saved_model = load_saved_model(model_type, config.eol_capacity, config)"
   ]
  },
  {
   "cell_type": "code",
   "execution_count": 17,
   "metadata": {},
   "outputs": [
    {
     "name": "stderr",
     "output_type": "stream",
     "text": [
      "2025-03-03 08:44:49,642 - INFO - LSTM model built for regression with config: Config(data_path='data/raw/Degradation_Prediction_Dataset_ISEA.mat', eol_capacity=0.65, test_cell_count=3, random_state=42, log_transform=False, classification=False, seq_len=120, train_split_ratio=0.8, val_split_ratio=0.2, lstm_units=32, dropout_rate=0.2, dense_units=16, learning_rate=0.001, clipnorm=1.0, patience=15, batch_size=32, epochs=50)\n"
     ]
    }
   ],
   "source": [
    "# Build and train the LSTM model\n",
    "model = build_lstm_model((metadata[\"max_sequence_length\"], 1), config)"
   ]
  },
  {
   "cell_type": "code",
   "execution_count": 9,
   "metadata": {},
   "outputs": [
    {
     "name": "stdout",
     "output_type": "stream",
     "text": [
      "Epoch 1/50\n",
      "\u001b[1m139/142\u001b[0m \u001b[32m━━━━━━━━━━━━━━━━━━━\u001b[0m\u001b[37m━\u001b[0m \u001b[1m0s\u001b[0m 13ms/step - loss: 0.0793 - mae: 0.2023\n",
      "Epoch 1: val_loss improved from inf to 0.00468, saving model to experiments/models/lstm_regression_eol65_20250303_082852_best.keras\n",
      "\u001b[1m142/142\u001b[0m \u001b[32m━━━━━━━━━━━━━━━━━━━━\u001b[0m\u001b[37m\u001b[0m \u001b[1m3s\u001b[0m 15ms/step - loss: 0.0780 - mae: 0.2001 - val_loss: 0.0047 - val_mae: 0.0527\n",
      "Epoch 2/50\n",
      "\u001b[1m141/142\u001b[0m \u001b[32m━━━━━━━━━━━━━━━━━━━\u001b[0m\u001b[37m━\u001b[0m \u001b[1m0s\u001b[0m 13ms/step - loss: 0.0077 - mae: 0.0649\n",
      "Epoch 2: val_loss did not improve from 0.00468\n",
      "\u001b[1m142/142\u001b[0m \u001b[32m━━━━━━━━━━━━━━━━━━━━\u001b[0m\u001b[37m\u001b[0m \u001b[1m2s\u001b[0m 14ms/step - loss: 0.0077 - mae: 0.0649 - val_loss: 0.0048 - val_mae: 0.0510\n",
      "Epoch 3/50\n",
      "\u001b[1m139/142\u001b[0m \u001b[32m━━━━━━━━━━━━━━━━━━━\u001b[0m\u001b[37m━\u001b[0m \u001b[1m0s\u001b[0m 14ms/step - loss: 0.0062 - mae: 0.0589\n",
      "Epoch 3: val_loss improved from 0.00468 to 0.00379, saving model to experiments/models/lstm_regression_eol65_20250303_082852_best.keras\n",
      "\u001b[1m142/142\u001b[0m \u001b[32m━━━━━━━━━━━━━━━━━━━━\u001b[0m\u001b[37m\u001b[0m \u001b[1m2s\u001b[0m 14ms/step - loss: 0.0062 - mae: 0.0589 - val_loss: 0.0038 - val_mae: 0.0487\n",
      "Epoch 4/50\n",
      "\u001b[1m141/142\u001b[0m \u001b[32m━━━━━━━━━━━━━━━━━━━\u001b[0m\u001b[37m━\u001b[0m \u001b[1m0s\u001b[0m 14ms/step - loss: 0.0056 - mae: 0.0555\n",
      "Epoch 4: val_loss did not improve from 0.00379\n",
      "\u001b[1m142/142\u001b[0m \u001b[32m━━━━━━━━━━━━━━━━━━━━\u001b[0m\u001b[37m\u001b[0m \u001b[1m2s\u001b[0m 15ms/step - loss: 0.0056 - mae: 0.0555 - val_loss: 0.0038 - val_mae: 0.0467\n",
      "Epoch 5/50\n",
      "\u001b[1m141/142\u001b[0m \u001b[32m━━━━━━━━━━━━━━━━━━━\u001b[0m\u001b[37m━\u001b[0m \u001b[1m0s\u001b[0m 14ms/step - loss: 0.0054 - mae: 0.0552\n",
      "Epoch 5: val_loss improved from 0.00379 to 0.00370, saving model to experiments/models/lstm_regression_eol65_20250303_082852_best.keras\n",
      "\u001b[1m142/142\u001b[0m \u001b[32m━━━━━━━━━━━━━━━━━━━━\u001b[0m\u001b[37m\u001b[0m \u001b[1m2s\u001b[0m 15ms/step - loss: 0.0054 - mae: 0.0552 - val_loss: 0.0037 - val_mae: 0.0482\n",
      "Epoch 6/50\n",
      "\u001b[1m142/142\u001b[0m \u001b[32m━━━━━━━━━━━━━━━━━━━━\u001b[0m\u001b[37m\u001b[0m \u001b[1m0s\u001b[0m 14ms/step - loss: 0.0050 - mae: 0.0527\n",
      "Epoch 6: val_loss improved from 0.00370 to 0.00355, saving model to experiments/models/lstm_regression_eol65_20250303_082852_best.keras\n",
      "\u001b[1m142/142\u001b[0m \u001b[32m━━━━━━━━━━━━━━━━━━━━\u001b[0m\u001b[37m\u001b[0m \u001b[1m2s\u001b[0m 15ms/step - loss: 0.0050 - mae: 0.0527 - val_loss: 0.0035 - val_mae: 0.0467\n",
      "Epoch 7/50\n",
      "\u001b[1m141/142\u001b[0m \u001b[32m━━━━━━━━━━━━━━━━━━━\u001b[0m\u001b[37m━\u001b[0m \u001b[1m0s\u001b[0m 13ms/step - loss: 0.0048 - mae: 0.0516\n",
      "Epoch 7: val_loss did not improve from 0.00355\n",
      "\u001b[1m142/142\u001b[0m \u001b[32m━━━━━━━━━━━━━━━━━━━━\u001b[0m\u001b[37m\u001b[0m \u001b[1m2s\u001b[0m 14ms/step - loss: 0.0048 - mae: 0.0516 - val_loss: 0.0040 - val_mae: 0.0486\n",
      "Epoch 8/50\n",
      "\u001b[1m142/142\u001b[0m \u001b[32m━━━━━━━━━━━━━━━━━━━━\u001b[0m\u001b[37m\u001b[0m \u001b[1m0s\u001b[0m 14ms/step - loss: 0.0045 - mae: 0.0503\n",
      "Epoch 8: val_loss did not improve from 0.00355\n",
      "\u001b[1m142/142\u001b[0m \u001b[32m━━━━━━━━━━━━━━━━━━━━\u001b[0m\u001b[37m\u001b[0m \u001b[1m2s\u001b[0m 15ms/step - loss: 0.0045 - mae: 0.0503 - val_loss: 0.0041 - val_mae: 0.0465\n",
      "Epoch 9/50\n",
      "\u001b[1m139/142\u001b[0m \u001b[32m━━━━━━━━━━━━━━━━━━━\u001b[0m\u001b[37m━\u001b[0m \u001b[1m0s\u001b[0m 14ms/step - loss: 0.0048 - mae: 0.0512\n",
      "Epoch 9: val_loss did not improve from 0.00355\n",
      "\u001b[1m142/142\u001b[0m \u001b[32m━━━━━━━━━━━━━━━━━━━━\u001b[0m\u001b[37m\u001b[0m \u001b[1m2s\u001b[0m 15ms/step - loss: 0.0048 - mae: 0.0512 - val_loss: 0.0043 - val_mae: 0.0469\n",
      "Epoch 10/50\n",
      "\u001b[1m141/142\u001b[0m \u001b[32m━━━━━━━━━━━━━━━━━━━\u001b[0m\u001b[37m━\u001b[0m \u001b[1m0s\u001b[0m 13ms/step - loss: 0.0051 - mae: 0.0529\n",
      "Epoch 10: val_loss did not improve from 0.00355\n",
      "\u001b[1m142/142\u001b[0m \u001b[32m━━━━━━━━━━━━━━━━━━━━\u001b[0m\u001b[37m\u001b[0m \u001b[1m2s\u001b[0m 14ms/step - loss: 0.0051 - mae: 0.0528 - val_loss: 0.0041 - val_mae: 0.0458\n",
      "Epoch 11/50\n",
      "\u001b[1m142/142\u001b[0m \u001b[32m━━━━━━━━━━━━━━━━━━━━\u001b[0m\u001b[37m\u001b[0m \u001b[1m0s\u001b[0m 14ms/step - loss: 0.0039 - mae: 0.0462\n",
      "Epoch 11: val_loss improved from 0.00355 to 0.00347, saving model to experiments/models/lstm_regression_eol65_20250303_082852_best.keras\n",
      "\u001b[1m142/142\u001b[0m \u001b[32m━━━━━━━━━━━━━━━━━━━━\u001b[0m\u001b[37m\u001b[0m \u001b[1m2s\u001b[0m 15ms/step - loss: 0.0039 - mae: 0.0462 - val_loss: 0.0035 - val_mae: 0.0438\n",
      "Epoch 12/50\n",
      "\u001b[1m139/142\u001b[0m \u001b[32m━━━━━━━━━━━━━━━━━━━\u001b[0m\u001b[37m━\u001b[0m \u001b[1m0s\u001b[0m 14ms/step - loss: 0.0043 - mae: 0.0496\n",
      "Epoch 12: val_loss did not improve from 0.00347\n",
      "\u001b[1m142/142\u001b[0m \u001b[32m━━━━━━━━━━━━━━━━━━━━\u001b[0m\u001b[37m\u001b[0m \u001b[1m2s\u001b[0m 15ms/step - loss: 0.0043 - mae: 0.0496 - val_loss: 0.0041 - val_mae: 0.0460\n",
      "Epoch 13/50\n",
      "\u001b[1m141/142\u001b[0m \u001b[32m━━━━━━━━━━━━━━━━━━━\u001b[0m\u001b[37m━\u001b[0m \u001b[1m0s\u001b[0m 13ms/step - loss: 0.0042 - mae: 0.0477\n",
      "Epoch 13: val_loss did not improve from 0.00347\n",
      "\u001b[1m142/142\u001b[0m \u001b[32m━━━━━━━━━━━━━━━━━━━━\u001b[0m\u001b[37m\u001b[0m \u001b[1m2s\u001b[0m 14ms/step - loss: 0.0042 - mae: 0.0477 - val_loss: 0.0063 - val_mae: 0.0591\n",
      "Epoch 14/50\n",
      "\u001b[1m140/142\u001b[0m \u001b[32m━━━━━━━━━━━━━━━━━━━\u001b[0m\u001b[37m━\u001b[0m \u001b[1m0s\u001b[0m 15ms/step - loss: 0.0047 - mae: 0.0512\n",
      "Epoch 14: val_loss improved from 0.00347 to 0.00335, saving model to experiments/models/lstm_regression_eol65_20250303_082852_best.keras\n",
      "\u001b[1m142/142\u001b[0m \u001b[32m━━━━━━━━━━━━━━━━━━━━\u001b[0m\u001b[37m\u001b[0m \u001b[1m2s\u001b[0m 16ms/step - loss: 0.0047 - mae: 0.0511 - val_loss: 0.0034 - val_mae: 0.0443\n",
      "Epoch 15/50\n",
      "\u001b[1m142/142\u001b[0m \u001b[32m━━━━━━━━━━━━━━━━━━━━\u001b[0m\u001b[37m\u001b[0m \u001b[1m0s\u001b[0m 14ms/step - loss: 0.0039 - mae: 0.0468\n",
      "Epoch 15: val_loss did not improve from 0.00335\n",
      "\u001b[1m142/142\u001b[0m \u001b[32m━━━━━━━━━━━━━━━━━━━━\u001b[0m\u001b[37m\u001b[0m \u001b[1m2s\u001b[0m 15ms/step - loss: 0.0039 - mae: 0.0468 - val_loss: 0.0039 - val_mae: 0.0469\n",
      "Epoch 16/50\n",
      "\u001b[1m141/142\u001b[0m \u001b[32m━━━━━━━━━━━━━━━━━━━\u001b[0m\u001b[37m━\u001b[0m \u001b[1m0s\u001b[0m 14ms/step - loss: 0.0041 - mae: 0.0478\n",
      "Epoch 16: val_loss improved from 0.00335 to 0.00321, saving model to experiments/models/lstm_regression_eol65_20250303_082852_best.keras\n",
      "\u001b[1m142/142\u001b[0m \u001b[32m━━━━━━━━━━━━━━━━━━━━\u001b[0m\u001b[37m\u001b[0m \u001b[1m2s\u001b[0m 15ms/step - loss: 0.0041 - mae: 0.0478 - val_loss: 0.0032 - val_mae: 0.0435\n",
      "Epoch 17/50\n",
      "\u001b[1m139/142\u001b[0m \u001b[32m━━━━━━━━━━━━━━━━━━━\u001b[0m\u001b[37m━\u001b[0m \u001b[1m0s\u001b[0m 14ms/step - loss: 0.0040 - mae: 0.0478\n",
      "Epoch 17: val_loss did not improve from 0.00321\n",
      "\u001b[1m142/142\u001b[0m \u001b[32m━━━━━━━━━━━━━━━━━━━━\u001b[0m\u001b[37m\u001b[0m \u001b[1m2s\u001b[0m 15ms/step - loss: 0.0040 - mae: 0.0478 - val_loss: 0.0032 - val_mae: 0.0430\n",
      "Epoch 18/50\n",
      "\u001b[1m139/142\u001b[0m \u001b[32m━━━━━━━━━━━━━━━━━━━\u001b[0m\u001b[37m━\u001b[0m \u001b[1m0s\u001b[0m 14ms/step - loss: 0.0037 - mae: 0.0465\n",
      "Epoch 18: val_loss did not improve from 0.00321\n",
      "\u001b[1m142/142\u001b[0m \u001b[32m━━━━━━━━━━━━━━━━━━━━\u001b[0m\u001b[37m\u001b[0m \u001b[1m2s\u001b[0m 15ms/step - loss: 0.0037 - mae: 0.0465 - val_loss: 0.0033 - val_mae: 0.0425\n",
      "Epoch 19/50\n",
      "\u001b[1m141/142\u001b[0m \u001b[32m━━━━━━━━━━━━━━━━━━━\u001b[0m\u001b[37m━\u001b[0m \u001b[1m0s\u001b[0m 14ms/step - loss: 0.0038 - mae: 0.0457\n",
      "Epoch 19: val_loss did not improve from 0.00321\n",
      "\u001b[1m142/142\u001b[0m \u001b[32m━━━━━━━━━━━━━━━━━━━━\u001b[0m\u001b[37m\u001b[0m \u001b[1m2s\u001b[0m 14ms/step - loss: 0.0038 - mae: 0.0457 - val_loss: 0.0033 - val_mae: 0.0444\n",
      "Epoch 20/50\n",
      "\u001b[1m139/142\u001b[0m \u001b[32m━━━━━━━━━━━━━━━━━━━\u001b[0m\u001b[37m━\u001b[0m \u001b[1m0s\u001b[0m 14ms/step - loss: 0.0038 - mae: 0.0461\n",
      "Epoch 20: val_loss did not improve from 0.00321\n",
      "\u001b[1m142/142\u001b[0m \u001b[32m━━━━━━━━━━━━━━━━━━━━\u001b[0m\u001b[37m\u001b[0m \u001b[1m2s\u001b[0m 15ms/step - loss: 0.0038 - mae: 0.0461 - val_loss: 0.0034 - val_mae: 0.0445\n",
      "Epoch 21/50\n",
      "\u001b[1m140/142\u001b[0m \u001b[32m━━━━━━━━━━━━━━━━━━━\u001b[0m\u001b[37m━\u001b[0m \u001b[1m0s\u001b[0m 14ms/step - loss: 0.0037 - mae: 0.0463\n",
      "Epoch 21: val_loss did not improve from 0.00321\n",
      "\u001b[1m142/142\u001b[0m \u001b[32m━━━━━━━━━━━━━━━━━━━━\u001b[0m\u001b[37m\u001b[0m \u001b[1m2s\u001b[0m 15ms/step - loss: 0.0037 - mae: 0.0463 - val_loss: 0.0037 - val_mae: 0.0445\n",
      "Epoch 22/50\n",
      "\u001b[1m141/142\u001b[0m \u001b[32m━━━━━━━━━━━━━━━━━━━\u001b[0m\u001b[37m━\u001b[0m \u001b[1m0s\u001b[0m 13ms/step - loss: 0.0037 - mae: 0.0458\n",
      "Epoch 22: val_loss improved from 0.00321 to 0.00319, saving model to experiments/models/lstm_regression_eol65_20250303_082852_best.keras\n",
      "\u001b[1m142/142\u001b[0m \u001b[32m━━━━━━━━━━━━━━━━━━━━\u001b[0m\u001b[37m\u001b[0m \u001b[1m2s\u001b[0m 14ms/step - loss: 0.0037 - mae: 0.0458 - val_loss: 0.0032 - val_mae: 0.0420\n",
      "Epoch 23/50\n",
      "\u001b[1m139/142\u001b[0m \u001b[32m━━━━━━━━━━━━━━━━━━━\u001b[0m\u001b[37m━\u001b[0m \u001b[1m0s\u001b[0m 14ms/step - loss: 0.0039 - mae: 0.0477\n",
      "Epoch 23: val_loss did not improve from 0.00319\n",
      "\u001b[1m142/142\u001b[0m \u001b[32m━━━━━━━━━━━━━━━━━━━━\u001b[0m\u001b[37m\u001b[0m \u001b[1m2s\u001b[0m 15ms/step - loss: 0.0039 - mae: 0.0476 - val_loss: 0.0035 - val_mae: 0.0432\n",
      "Epoch 24/50\n",
      "\u001b[1m142/142\u001b[0m \u001b[32m━━━━━━━━━━━━━━━━━━━━\u001b[0m\u001b[37m\u001b[0m \u001b[1m0s\u001b[0m 14ms/step - loss: 0.0037 - mae: 0.0453\n",
      "Epoch 24: val_loss improved from 0.00319 to 0.00307, saving model to experiments/models/lstm_regression_eol65_20250303_082852_best.keras\n",
      "\u001b[1m142/142\u001b[0m \u001b[32m━━━━━━━━━━━━━━━━━━━━\u001b[0m\u001b[37m\u001b[0m \u001b[1m2s\u001b[0m 15ms/step - loss: 0.0037 - mae: 0.0453 - val_loss: 0.0031 - val_mae: 0.0415\n",
      "Epoch 25/50\n",
      "\u001b[1m141/142\u001b[0m \u001b[32m━━━━━━━━━━━━━━━━━━━\u001b[0m\u001b[37m━\u001b[0m \u001b[1m0s\u001b[0m 14ms/step - loss: 0.0037 - mae: 0.0454\n",
      "Epoch 25: val_loss did not improve from 0.00307\n",
      "\u001b[1m142/142\u001b[0m \u001b[32m━━━━━━━━━━━━━━━━━━━━\u001b[0m\u001b[37m\u001b[0m \u001b[1m2s\u001b[0m 14ms/step - loss: 0.0037 - mae: 0.0454 - val_loss: 0.0040 - val_mae: 0.0444\n",
      "Epoch 26/50\n",
      "\u001b[1m141/142\u001b[0m \u001b[32m━━━━━━━━━━━━━━━━━━━\u001b[0m\u001b[37m━\u001b[0m \u001b[1m0s\u001b[0m 14ms/step - loss: 0.0038 - mae: 0.0462\n",
      "Epoch 26: val_loss improved from 0.00307 to 0.00292, saving model to experiments/models/lstm_regression_eol65_20250303_082852_best.keras\n",
      "\u001b[1m142/142\u001b[0m \u001b[32m━━━━━━━━━━━━━━━━━━━━\u001b[0m\u001b[37m\u001b[0m \u001b[1m2s\u001b[0m 15ms/step - loss: 0.0038 - mae: 0.0462 - val_loss: 0.0029 - val_mae: 0.0406\n",
      "Epoch 27/50\n",
      "\u001b[1m141/142\u001b[0m \u001b[32m━━━━━━━━━━━━━━━━━━━\u001b[0m\u001b[37m━\u001b[0m \u001b[1m0s\u001b[0m 14ms/step - loss: 0.0037 - mae: 0.0455\n",
      "Epoch 27: val_loss did not improve from 0.00292\n",
      "\u001b[1m142/142\u001b[0m \u001b[32m━━━━━━━━━━━━━━━━━━━━\u001b[0m\u001b[37m\u001b[0m \u001b[1m2s\u001b[0m 15ms/step - loss: 0.0037 - mae: 0.0455 - val_loss: 0.0032 - val_mae: 0.0431\n",
      "Epoch 28/50\n",
      "\u001b[1m141/142\u001b[0m \u001b[32m━━━━━━━━━━━━━━━━━━━\u001b[0m\u001b[37m━\u001b[0m \u001b[1m0s\u001b[0m 14ms/step - loss: 0.0038 - mae: 0.0468\n",
      "Epoch 28: val_loss did not improve from 0.00292\n",
      "\u001b[1m142/142\u001b[0m \u001b[32m━━━━━━━━━━━━━━━━━━━━\u001b[0m\u001b[37m\u001b[0m \u001b[1m2s\u001b[0m 15ms/step - loss: 0.0038 - mae: 0.0467 - val_loss: 0.0031 - val_mae: 0.0403\n",
      "Epoch 29/50\n",
      "\u001b[1m142/142\u001b[0m \u001b[32m━━━━━━━━━━━━━━━━━━━━\u001b[0m\u001b[37m\u001b[0m \u001b[1m0s\u001b[0m 15ms/step - loss: 0.0037 - mae: 0.0452\n",
      "Epoch 29: val_loss improved from 0.00292 to 0.00283, saving model to experiments/models/lstm_regression_eol65_20250303_082852_best.keras\n",
      "\u001b[1m142/142\u001b[0m \u001b[32m━━━━━━━━━━━━━━━━━━━━\u001b[0m\u001b[37m\u001b[0m \u001b[1m2s\u001b[0m 16ms/step - loss: 0.0037 - mae: 0.0452 - val_loss: 0.0028 - val_mae: 0.0390\n",
      "Epoch 30/50\n",
      "\u001b[1m142/142\u001b[0m \u001b[32m━━━━━━━━━━━━━━━━━━━━\u001b[0m\u001b[37m\u001b[0m \u001b[1m0s\u001b[0m 14ms/step - loss: 0.0032 - mae: 0.0426\n",
      "Epoch 30: val_loss did not improve from 0.00283\n",
      "\u001b[1m142/142\u001b[0m \u001b[32m━━━━━━━━━━━━━━━━━━━━\u001b[0m\u001b[37m\u001b[0m \u001b[1m2s\u001b[0m 15ms/step - loss: 0.0032 - mae: 0.0426 - val_loss: 0.0032 - val_mae: 0.0416\n",
      "Epoch 31/50\n",
      "\u001b[1m139/142\u001b[0m \u001b[32m━━━━━━━━━━━━━━━━━━━\u001b[0m\u001b[37m━\u001b[0m \u001b[1m0s\u001b[0m 14ms/step - loss: 0.0037 - mae: 0.0454\n",
      "Epoch 31: val_loss did not improve from 0.00283\n",
      "\u001b[1m142/142\u001b[0m \u001b[32m━━━━━━━━━━━━━━━━━━━━\u001b[0m\u001b[37m\u001b[0m \u001b[1m2s\u001b[0m 15ms/step - loss: 0.0037 - mae: 0.0454 - val_loss: 0.0039 - val_mae: 0.0449\n",
      "Epoch 32/50\n",
      "\u001b[1m141/142\u001b[0m \u001b[32m━━━━━━━━━━━━━━━━━━━\u001b[0m\u001b[37m━\u001b[0m \u001b[1m0s\u001b[0m 14ms/step - loss: 0.0037 - mae: 0.0451\n",
      "Epoch 32: val_loss did not improve from 0.00283\n",
      "\u001b[1m142/142\u001b[0m \u001b[32m━━━━━━━━━━━━━━━━━━━━\u001b[0m\u001b[37m\u001b[0m \u001b[1m2s\u001b[0m 14ms/step - loss: 0.0037 - mae: 0.0451 - val_loss: 0.0030 - val_mae: 0.0409\n",
      "Epoch 33/50\n",
      "\u001b[1m142/142\u001b[0m \u001b[32m━━━━━━━━━━━━━━━━━━━━\u001b[0m\u001b[37m\u001b[0m \u001b[1m0s\u001b[0m 14ms/step - loss: 0.0036 - mae: 0.0450\n",
      "Epoch 33: val_loss did not improve from 0.00283\n",
      "\u001b[1m142/142\u001b[0m \u001b[32m━━━━━━━━━━━━━━━━━━━━\u001b[0m\u001b[37m\u001b[0m \u001b[1m2s\u001b[0m 15ms/step - loss: 0.0036 - mae: 0.0450 - val_loss: 0.0030 - val_mae: 0.0409\n",
      "Epoch 34/50\n",
      "\u001b[1m139/142\u001b[0m \u001b[32m━━━━━━━━━━━━━━━━━━━\u001b[0m\u001b[37m━\u001b[0m \u001b[1m0s\u001b[0m 14ms/step - loss: 0.0035 - mae: 0.0447\n",
      "Epoch 34: val_loss did not improve from 0.00283\n",
      "\u001b[1m142/142\u001b[0m \u001b[32m━━━━━━━━━━━━━━━━━━━━\u001b[0m\u001b[37m\u001b[0m \u001b[1m2s\u001b[0m 15ms/step - loss: 0.0035 - mae: 0.0447 - val_loss: 0.0032 - val_mae: 0.0416\n",
      "Epoch 35/50\n",
      "\u001b[1m141/142\u001b[0m \u001b[32m━━━━━━━━━━━━━━━━━━━\u001b[0m\u001b[37m━\u001b[0m \u001b[1m0s\u001b[0m 14ms/step - loss: 0.0038 - mae: 0.0458\n",
      "Epoch 35: val_loss did not improve from 0.00283\n",
      "\u001b[1m142/142\u001b[0m \u001b[32m━━━━━━━━━━━━━━━━━━━━\u001b[0m\u001b[37m\u001b[0m \u001b[1m2s\u001b[0m 14ms/step - loss: 0.0038 - mae: 0.0458 - val_loss: 0.0034 - val_mae: 0.0431\n",
      "Epoch 36/50\n",
      "\u001b[1m139/142\u001b[0m \u001b[32m━━━━━━━━━━━━━━━━━━━\u001b[0m\u001b[37m━\u001b[0m \u001b[1m0s\u001b[0m 14ms/step - loss: 0.0036 - mae: 0.0452\n",
      "Epoch 36: val_loss did not improve from 0.00283\n",
      "\u001b[1m142/142\u001b[0m \u001b[32m━━━━━━━━━━━━━━━━━━━━\u001b[0m\u001b[37m\u001b[0m \u001b[1m2s\u001b[0m 15ms/step - loss: 0.0036 - mae: 0.0452 - val_loss: 0.0030 - val_mae: 0.0398\n",
      "Epoch 37/50\n",
      "\u001b[1m142/142\u001b[0m \u001b[32m━━━━━━━━━━━━━━━━━━━━\u001b[0m\u001b[37m\u001b[0m \u001b[1m0s\u001b[0m 14ms/step - loss: 0.0034 - mae: 0.0446\n",
      "Epoch 37: val_loss improved from 0.00283 to 0.00278, saving model to experiments/models/lstm_regression_eol65_20250303_082852_best.keras\n",
      "\u001b[1m142/142\u001b[0m \u001b[32m━━━━━━━━━━━━━━━━━━━━\u001b[0m\u001b[37m\u001b[0m \u001b[1m2s\u001b[0m 15ms/step - loss: 0.0034 - mae: 0.0446 - val_loss: 0.0028 - val_mae: 0.0394\n",
      "Epoch 38/50\n",
      "\u001b[1m141/142\u001b[0m \u001b[32m━━━━━━━━━━━━━━━━━━━\u001b[0m\u001b[37m━\u001b[0m \u001b[1m0s\u001b[0m 14ms/step - loss: 0.0034 - mae: 0.0435\n",
      "Epoch 38: val_loss did not improve from 0.00278\n",
      "\u001b[1m142/142\u001b[0m \u001b[32m━━━━━━━━━━━━━━━━━━━━\u001b[0m\u001b[37m\u001b[0m \u001b[1m2s\u001b[0m 15ms/step - loss: 0.0034 - mae: 0.0435 - val_loss: 0.0030 - val_mae: 0.0411\n",
      "Epoch 39/50\n",
      "\u001b[1m139/142\u001b[0m \u001b[32m━━━━━━━━━━━━━━━━━━━\u001b[0m\u001b[37m━\u001b[0m \u001b[1m0s\u001b[0m 14ms/step - loss: 0.0032 - mae: 0.0428\n",
      "Epoch 39: val_loss did not improve from 0.00278\n",
      "\u001b[1m142/142\u001b[0m \u001b[32m━━━━━━━━━━━━━━━━━━━━\u001b[0m\u001b[37m\u001b[0m \u001b[1m2s\u001b[0m 15ms/step - loss: 0.0032 - mae: 0.0428 - val_loss: 0.0029 - val_mae: 0.0403\n",
      "Epoch 40/50\n",
      "\u001b[1m139/142\u001b[0m \u001b[32m━━━━━━━━━━━━━━━━━━━\u001b[0m\u001b[37m━\u001b[0m \u001b[1m0s\u001b[0m 14ms/step - loss: 0.0034 - mae: 0.0441\n",
      "Epoch 40: val_loss did not improve from 0.00278\n",
      "\u001b[1m142/142\u001b[0m \u001b[32m━━━━━━━━━━━━━━━━━━━━\u001b[0m\u001b[37m\u001b[0m \u001b[1m2s\u001b[0m 15ms/step - loss: 0.0034 - mae: 0.0441 - val_loss: 0.0029 - val_mae: 0.0392\n",
      "Epoch 41/50\n",
      "\u001b[1m139/142\u001b[0m \u001b[32m━━━━━━━━━━━━━━━━━━━\u001b[0m\u001b[37m━\u001b[0m \u001b[1m0s\u001b[0m 14ms/step - loss: 0.0036 - mae: 0.0449\n",
      "Epoch 41: val_loss improved from 0.00278 to 0.00276, saving model to experiments/models/lstm_regression_eol65_20250303_082852_best.keras\n",
      "\u001b[1m142/142\u001b[0m \u001b[32m━━━━━━━━━━━━━━━━━━━━\u001b[0m\u001b[37m\u001b[0m \u001b[1m2s\u001b[0m 15ms/step - loss: 0.0036 - mae: 0.0448 - val_loss: 0.0028 - val_mae: 0.0391\n",
      "Epoch 42/50\n",
      "\u001b[1m140/142\u001b[0m \u001b[32m━━━━━━━━━━━━━━━━━━━\u001b[0m\u001b[37m━\u001b[0m \u001b[1m0s\u001b[0m 14ms/step - loss: 0.0033 - mae: 0.0438\n",
      "Epoch 42: val_loss did not improve from 0.00276\n",
      "\u001b[1m142/142\u001b[0m \u001b[32m━━━━━━━━━━━━━━━━━━━━\u001b[0m\u001b[37m\u001b[0m \u001b[1m2s\u001b[0m 15ms/step - loss: 0.0033 - mae: 0.0437 - val_loss: 0.0033 - val_mae: 0.0416\n",
      "Epoch 43/50\n",
      "\u001b[1m141/142\u001b[0m \u001b[32m━━━━━━━━━━━━━━━━━━━\u001b[0m\u001b[37m━\u001b[0m \u001b[1m0s\u001b[0m 15ms/step - loss: 0.0034 - mae: 0.0444\n",
      "Epoch 43: val_loss did not improve from 0.00276\n",
      "\u001b[1m142/142\u001b[0m \u001b[32m━━━━━━━━━━━━━━━━━━━━\u001b[0m\u001b[37m\u001b[0m \u001b[1m2s\u001b[0m 16ms/step - loss: 0.0034 - mae: 0.0444 - val_loss: 0.0035 - val_mae: 0.0429\n",
      "Epoch 44/50\n",
      "\u001b[1m142/142\u001b[0m \u001b[32m━━━━━━━━━━━━━━━━━━━━\u001b[0m\u001b[37m\u001b[0m \u001b[1m0s\u001b[0m 14ms/step - loss: 0.0037 - mae: 0.0455\n",
      "Epoch 44: val_loss did not improve from 0.00276\n",
      "\u001b[1m142/142\u001b[0m \u001b[32m━━━━━━━━━━━━━━━━━━━━\u001b[0m\u001b[37m\u001b[0m \u001b[1m2s\u001b[0m 15ms/step - loss: 0.0037 - mae: 0.0455 - val_loss: 0.0045 - val_mae: 0.0456\n",
      "Epoch 45/50\n",
      "\u001b[1m141/142\u001b[0m \u001b[32m━━━━━━━━━━━━━━━━━━━\u001b[0m\u001b[37m━\u001b[0m \u001b[1m0s\u001b[0m 14ms/step - loss: 0.0037 - mae: 0.0450\n",
      "Epoch 45: val_loss did not improve from 0.00276\n",
      "\u001b[1m142/142\u001b[0m \u001b[32m━━━━━━━━━━━━━━━━━━━━\u001b[0m\u001b[37m\u001b[0m \u001b[1m2s\u001b[0m 15ms/step - loss: 0.0037 - mae: 0.0450 - val_loss: 0.0028 - val_mae: 0.0393\n",
      "Epoch 46/50\n",
      "\u001b[1m141/142\u001b[0m \u001b[32m━━━━━━━━━━━━━━━━━━━\u001b[0m\u001b[37m━\u001b[0m \u001b[1m0s\u001b[0m 14ms/step - loss: 0.0033 - mae: 0.0433\n",
      "Epoch 46: val_loss did not improve from 0.00276\n",
      "\u001b[1m142/142\u001b[0m \u001b[32m━━━━━━━━━━━━━━━━━━━━\u001b[0m\u001b[37m\u001b[0m \u001b[1m2s\u001b[0m 14ms/step - loss: 0.0033 - mae: 0.0433 - val_loss: 0.0029 - val_mae: 0.0384\n",
      "Epoch 47/50\n",
      "\u001b[1m142/142\u001b[0m \u001b[32m━━━━━━━━━━━━━━━━━━━━\u001b[0m\u001b[37m\u001b[0m \u001b[1m0s\u001b[0m 14ms/step - loss: 0.0034 - mae: 0.0436\n",
      "Epoch 47: val_loss did not improve from 0.00276\n",
      "\u001b[1m142/142\u001b[0m \u001b[32m━━━━━━━━━━━━━━━━━━━━\u001b[0m\u001b[37m\u001b[0m \u001b[1m2s\u001b[0m 15ms/step - loss: 0.0034 - mae: 0.0436 - val_loss: 0.0028 - val_mae: 0.0382\n",
      "Epoch 48/50\n",
      "\u001b[1m139/142\u001b[0m \u001b[32m━━━━━━━━━━━━━━━━━━━\u001b[0m\u001b[37m━\u001b[0m \u001b[1m0s\u001b[0m 14ms/step - loss: 0.0032 - mae: 0.0424\n",
      "Epoch 48: val_loss did not improve from 0.00276\n",
      "\u001b[1m142/142\u001b[0m \u001b[32m━━━━━━━━━━━━━━━━━━━━\u001b[0m\u001b[37m\u001b[0m \u001b[1m2s\u001b[0m 15ms/step - loss: 0.0032 - mae: 0.0424 - val_loss: 0.0029 - val_mae: 0.0390\n",
      "Epoch 49/50\n",
      "\u001b[1m141/142\u001b[0m \u001b[32m━━━━━━━━━━━━━━━━━━━\u001b[0m\u001b[37m━\u001b[0m \u001b[1m0s\u001b[0m 14ms/step - loss: 0.0031 - mae: 0.0420\n",
      "Epoch 49: val_loss improved from 0.00276 to 0.00260, saving model to experiments/models/lstm_regression_eol65_20250303_082852_best.keras\n",
      "\u001b[1m142/142\u001b[0m \u001b[32m━━━━━━━━━━━━━━━━━━━━\u001b[0m\u001b[37m\u001b[0m \u001b[1m2s\u001b[0m 15ms/step - loss: 0.0031 - mae: 0.0420 - val_loss: 0.0026 - val_mae: 0.0376\n",
      "Epoch 50/50\n",
      "\u001b[1m141/142\u001b[0m \u001b[32m━━━━━━━━━━━━━━━━━━━\u001b[0m\u001b[37m━\u001b[0m \u001b[1m0s\u001b[0m 14ms/step - loss: 0.0031 - mae: 0.0416\n",
      "Epoch 50: val_loss did not improve from 0.00260\n",
      "\u001b[1m142/142\u001b[0m \u001b[32m━━━━━━━━━━━━━━━━━━━━\u001b[0m\u001b[37m\u001b[0m \u001b[1m2s\u001b[0m 14ms/step - loss: 0.0031 - mae: 0.0416 - val_loss: 0.0027 - val_mae: 0.0388\n"
     ]
    },
    {
     "name": "stderr",
     "output_type": "stream",
     "text": [
      "2025-03-03 08:30:38,695 - WARNING - The `save_format` argument is deprecated in Keras 3. We recommend removing this argument as it can be inferred from the file path. Received: save_format=keras\n",
      "2025-03-03 08:30:38,705 - INFO - Final LSTM model saved to experiments/models/lstm_regression_eol65_20250303_083038_final.keras in native Keras format\n",
      "2025-03-03 08:30:38,705 - INFO - LSTM model trained successfully with config: Config(data_path='data/raw/Degradation_Prediction_Dataset_ISEA.mat', eol_capacity=0.65, test_cell_count=3, random_state=42, log_transform=False, classification=False, seq_len=120, train_split_ratio=0.8, val_split_ratio=0.2, lstm_units=32, dropout_rate=0.2, dense_units=16, learning_rate=0.001, clipnorm=1.0, patience=15, batch_size=32, epochs=50)\n"
     ]
    }
   ],
   "source": [
    "\n",
    "history = train_lstm_model(model, X_train, y_train, X_val, y_val, config)\n"
   ]
  },
  {
   "cell_type": "code",
   "execution_count": 20,
   "metadata": {},
   "outputs": [
    {
     "name": "stdout",
     "output_type": "stream",
     "text": [
      "\u001b[1m13/13\u001b[0m \u001b[32m━━━━━━━━━━━━━━━━━━━━\u001b[0m\u001b[37m\u001b[0m \u001b[1m0s\u001b[0m 4ms/step - loss: 0.3117 - mae: 0.5216 \n",
      "Training completed successfully!\n",
      "Training Loss: 0.0032\n",
      "Validation Loss: 0.0027\n",
      "Test Loss: 0.2396\n",
      "Test MAE (rescaled): 0.4491\n"
     ]
    },
    {
     "data": {
      "text/plain": [
       "446.8504226044621"
      ]
     },
     "execution_count": 20,
     "metadata": {},
     "output_type": "execute_result"
    }
   ],
   "source": [
    "from src.evaluation import evaluate_lstm_model\n",
    "\n",
    "y_max = preprocessed_regression[\"y_max\"]\n",
    "\n",
    "# Evaluate the model\n",
    "# Evaluate the model on the test set, reporting progress\n",
    "test_loss, test_mae = model.evaluate(X_test, y_test, verbose=1)\n",
    "    \n",
    "# Generate predictions for the test set silently\n",
    "y_pred = model.predict(X_test, verbose=0).flatten()\n",
    "\n",
    "# Rescale predictions and actual values to the original RUL range using y_max\n",
    "y_pred_rescaled = y_pred * y_max\n",
    "y_test_rescaled = y_test * y_max\n",
    "\n",
    "# Calculate the rescaled MAE for better interpretability\n",
    "mae_rescaled = np.mean(np.abs(y_test_rescaled - y_pred_rescaled))\n",
    "    \n",
    "# Print training and evaluation results for verification\n",
    "print(\"Training completed successfully!\")\n",
    "print(f\"Training Loss: {history['loss'][-1]:.4f}\")\n",
    "print(f\"Validation Loss: {history['val_loss'][-1]:.4f}\")\n",
    "print(f\"Test Loss: {test_loss:.4f}\")\n",
    "print(f\"Test MAE (rescaled): {test_mae:.4f}\")\n",
    "\n",
    "mae_rescaled"
   ]
  }
 ],
 "metadata": {
  "kernelspec": {
   "display_name": "Python (D2D_env)",
   "language": "python",
   "name": "d2d_env"
  },
  "language_info": {
   "codemirror_mode": {
    "name": "ipython",
    "version": 3
   },
   "file_extension": ".py",
   "mimetype": "text/x-python",
   "name": "python",
   "nbconvert_exporter": "python",
   "pygments_lexer": "ipython3",
   "version": "3.11.9"
  }
 },
 "nbformat": 4,
 "nbformat_minor": 2
}
