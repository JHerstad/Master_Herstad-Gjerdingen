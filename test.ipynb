{
 "cells": [
  {
   "cell_type": "markdown",
   "metadata": {},
   "source": [
    "### Imports\n"
   ]
  },
  {
   "cell_type": "code",
   "execution_count": 1,
   "metadata": {},
   "outputs": [],
   "source": [
    "# Import from src/ and config/\n",
    "from src.preprocessing import preprocess_aachen_dataset\n",
    "from config.defaults import Config\n",
    "\n",
    "# Load the default configuration\n",
    "config = Config()\n",
    "\n",
    "# Preprocess the dataset for classification (CNN)\n",
    "preprocessed_classification = preprocess_aachen_dataset(\n",
    "    data_path=config.data_path,\n",
    "    test_cell_count=config.test_cell_count,\n",
    "    random_state=config.random_state,\n",
    "    log_transform=config.log_transform,\n",
    "    classification=True  # Explore classification (CNN) output\n",
    ")\n",
    "\n",
    "# Preprocess the dataset for regression (LSTM)\n",
    "preprocessed_regression = preprocess_aachen_dataset(\n",
    "    data_path=config.data_path,\n",
    "    test_cell_count=config.test_cell_count,\n",
    "    random_state=config.random_state,\n",
    "    log_transform=config.log_transform,\n",
    "    classification=False  # Explore regression (LSTM) output\n",
    ")"
   ]
  },
  {
   "cell_type": "markdown",
   "metadata": {},
   "source": [
    "## LSTM\n",
    "\n",
    "### Data Load"
   ]
  },
  {
   "cell_type": "code",
   "execution_count": 2,
   "metadata": {},
   "outputs": [
    {
     "name": "stderr",
     "output_type": "stream",
     "text": [
      "2025-03-05 13:22:57,827 - INFO - Loaded preprocessed data and metadata for lstm_regression with EOL 0.65\n"
     ]
    }
   ],
   "source": [
    "from src.models import load_preprocessed_data\n",
    "\n",
    "model_task = \"lstm_regression\"\n",
    "\n",
    "# Load preprocessed data\n",
    "X_train, X_val, X_test, y_train, y_val, y_test, metadata = load_preprocessed_data(\n",
    "    model_task, config.eol_capacity\n",
    ")"
   ]
  },
  {
   "cell_type": "markdown",
   "metadata": {},
   "source": [
    "### Grid Search"
   ]
  },
  {
   "cell_type": "code",
   "execution_count": 15,
   "metadata": {},
   "outputs": [
    {
     "name": "stderr",
     "output_type": "stream",
     "text": [
      "2025-03-05 13:11:31,470 - INFO - Running hyperparameter search for: lstm_regression\n",
      "2025-03-05 13:11:31,471 - INFO - Loading preprocessed data for hyperparameter tuning with lstm_regression...\n",
      "2025-03-05 13:11:31,488 - INFO - Loaded preprocessed data and metadata for lstm_regression with EOL 0.65\n",
      "2025-03-05 13:11:31,514 - INFO - Starting hyperparameter tuning...\n",
      "2025-03-05 13:11:31,518 - INFO - Best hyperparameters found: {'lstm_units': 32, 'lstm_dropout_rate': 0.30000000000000004, 'lstm_dense_units': 56, 'learning_rate': 0.01, 'clipnorm': 1.0}\n",
      "2025-03-05 13:11:31,521 - INFO - Best hyperparameters saved to: experiments/hyperparameter_tuning/Experiment1_lstm_regression_tuning_eol65_best_params.json\n"
     ]
    },
    {
     "name": "stdout",
     "output_type": "stream",
     "text": [
      "Reloading Tuner from experiments/hyperparameter_tuning/Experiment1_lstm_regression_tuning_eol65/tuner0.json\n"
     ]
    },
    {
     "data": {
      "text/plain": [
       "{'lstm_units': 32,\n",
       " 'lstm_dropout_rate': 0.30000000000000004,\n",
       " 'lstm_dense_units': 56,\n",
       " 'learning_rate': 0.01,\n",
       " 'clipnorm': 1.0}"
      ]
     },
     "execution_count": 15,
     "metadata": {},
     "output_type": "execute_result"
    }
   ],
   "source": [
    "from src.grid_search import run_hyperparameter_search\n",
    "\n",
    "run_hyperparameter_search(config, model_task)"
   ]
  },
  {
   "cell_type": "markdown",
   "metadata": {},
   "source": [
    "### Train model"
   ]
  },
  {
   "cell_type": "code",
   "execution_count": 3,
   "metadata": {},
   "outputs": [
    {
     "name": "stderr",
     "output_type": "stream",
     "text": [
      "2025-03-05 13:22:58,650 - INFO - LSTM model built with tuned config: Config(project_name='Experiment1', data_path='data/raw/Degradation_Prediction_Dataset_ISEA.mat', eol_capacity=0.65, test_cell_count=3, random_state=42, log_transform=False, classification=False, seq_len=120, train_split_ratio=0.8, val_split_ratio=0.2, batch_size=32, max_trials=5, tuning_epochs=10, tuner_directory='experiments/hyperparameter_tuning', conv1_filters=32, conv1_kernel_size=11, conv2_filters=64, conv2_kernel_size=7, conv3_filters=64, conv3_kernel_size=5, l2_reg=0.001, cnn_dense_units=64, cnn_dropout_rate=0.2)\n"
     ]
    },
    {
     "name": "stdout",
     "output_type": "stream",
     "text": [
      "Loaded best hyperparameters from experiments/hyperparameter_tuning/Experiment1_lstm_regression_tuning_eol65_best_params.json: {'lstm_units': 32, 'lstm_dropout_rate': 0.30000000000000004, 'lstm_dense_units': 56, 'learning_rate': 0.01, 'clipnorm': 1.0}\n",
      "Epoch 1/50\n",
      "\u001b[1m140/142\u001b[0m \u001b[32m━━━━━━━━━━━━━━━━━━━\u001b[0m\u001b[37m━\u001b[0m \u001b[1m0s\u001b[0m 14ms/step - loss: 0.0197 - mae: 0.0999\n",
      "Epoch 1: val_loss improved from inf to 0.03175, saving model to experiments/models/lstm_regression_eol65_20250305_132258_best.keras\n",
      "\u001b[1m142/142\u001b[0m \u001b[32m━━━━━━━━━━━━━━━━━━━━\u001b[0m\u001b[37m\u001b[0m \u001b[1m3s\u001b[0m 16ms/step - loss: 0.0195 - mae: 0.0994 - val_loss: 0.0318 - val_mae: 0.1439\n",
      "Epoch 2/50\n",
      "\u001b[1m142/142\u001b[0m \u001b[32m━━━━━━━━━━━━━━━━━━━━\u001b[0m\u001b[37m\u001b[0m \u001b[1m0s\u001b[0m 14ms/step - loss: 0.0106 - mae: 0.0726\n",
      "Epoch 2: val_loss improved from 0.03175 to 0.00681, saving model to experiments/models/lstm_regression_eol65_20250305_132258_best.keras\n",
      "\u001b[1m142/142\u001b[0m \u001b[32m━━━━━━━━━━━━━━━━━━━━\u001b[0m\u001b[37m\u001b[0m \u001b[1m2s\u001b[0m 15ms/step - loss: 0.0106 - mae: 0.0725 - val_loss: 0.0068 - val_mae: 0.0679\n",
      "Epoch 3/50\n",
      "\u001b[1m142/142\u001b[0m \u001b[32m━━━━━━━━━━━━━━━━━━━━\u001b[0m\u001b[37m\u001b[0m \u001b[1m0s\u001b[0m 14ms/step - loss: 0.0054 - mae: 0.0570\n",
      "Epoch 3: val_loss did not improve from 0.00681\n",
      "\u001b[1m142/142\u001b[0m \u001b[32m━━━━━━━━━━━━━━━━━━━━\u001b[0m\u001b[37m\u001b[0m \u001b[1m2s\u001b[0m 15ms/step - loss: 0.0054 - mae: 0.0570 - val_loss: 0.0364 - val_mae: 0.1541\n",
      "Epoch 4/50\n",
      "\u001b[1m141/142\u001b[0m \u001b[32m━━━━━━━━━━━━━━━━━━━\u001b[0m\u001b[37m━\u001b[0m \u001b[1m0s\u001b[0m 15ms/step - loss: 0.0105 - mae: 0.0768\n",
      "Epoch 4: val_loss improved from 0.00681 to 0.00401, saving model to experiments/models/lstm_regression_eol65_20250305_132258_best.keras\n",
      "\u001b[1m142/142\u001b[0m \u001b[32m━━━━━━━━━━━━━━━━━━━━\u001b[0m\u001b[37m\u001b[0m \u001b[1m2s\u001b[0m 16ms/step - loss: 0.0105 - mae: 0.0766 - val_loss: 0.0040 - val_mae: 0.0447\n",
      "Epoch 5/50\n",
      "\u001b[1m142/142\u001b[0m \u001b[32m━━━━━━━━━━━━━━━━━━━━\u001b[0m\u001b[37m\u001b[0m \u001b[1m0s\u001b[0m 15ms/step - loss: 0.0043 - mae: 0.0500\n",
      "Epoch 5: val_loss did not improve from 0.00401\n",
      "\u001b[1m142/142\u001b[0m \u001b[32m━━━━━━━━━━━━━━━━━━━━\u001b[0m\u001b[37m\u001b[0m \u001b[1m2s\u001b[0m 16ms/step - loss: 0.0043 - mae: 0.0501 - val_loss: 0.0106 - val_mae: 0.0821\n",
      "Epoch 6/50\n",
      "\u001b[1m140/142\u001b[0m \u001b[32m━━━━━━━━━━━━━━━━━━━\u001b[0m\u001b[37m━\u001b[0m \u001b[1m0s\u001b[0m 15ms/step - loss: 0.0079 - mae: 0.0669\n",
      "Epoch 6: val_loss did not improve from 0.00401\n",
      "\u001b[1m142/142\u001b[0m \u001b[32m━━━━━━━━━━━━━━━━━━━━\u001b[0m\u001b[37m\u001b[0m \u001b[1m2s\u001b[0m 16ms/step - loss: 0.0079 - mae: 0.0667 - val_loss: 0.0044 - val_mae: 0.0458\n",
      "Epoch 7/50\n",
      "\u001b[1m139/142\u001b[0m \u001b[32m━━━━━━━━━━━━━━━━━━━\u001b[0m\u001b[37m━\u001b[0m \u001b[1m0s\u001b[0m 14ms/step - loss: 0.0047 - mae: 0.0517\n",
      "Epoch 7: val_loss improved from 0.00401 to 0.00320, saving model to experiments/models/lstm_regression_eol65_20250305_132258_best.keras\n",
      "\u001b[1m142/142\u001b[0m \u001b[32m━━━━━━━━━━━━━━━━━━━━\u001b[0m\u001b[37m\u001b[0m \u001b[1m2s\u001b[0m 15ms/step - loss: 0.0046 - mae: 0.0517 - val_loss: 0.0032 - val_mae: 0.0426\n",
      "Epoch 8/50\n",
      "\u001b[1m141/142\u001b[0m \u001b[32m━━━━━━━━━━━━━━━━━━━\u001b[0m\u001b[37m━\u001b[0m \u001b[1m0s\u001b[0m 15ms/step - loss: 0.0041 - mae: 0.0488\n",
      "Epoch 8: val_loss did not improve from 0.00320\n",
      "\u001b[1m142/142\u001b[0m \u001b[32m━━━━━━━━━━━━━━━━━━━━\u001b[0m\u001b[37m\u001b[0m \u001b[1m2s\u001b[0m 15ms/step - loss: 0.0041 - mae: 0.0488 - val_loss: 0.0082 - val_mae: 0.0676\n",
      "Epoch 9/50\n",
      "\u001b[1m141/142\u001b[0m \u001b[32m━━━━━━━━━━━━━━━━━━━\u001b[0m\u001b[37m━\u001b[0m \u001b[1m0s\u001b[0m 14ms/step - loss: 0.0058 - mae: 0.0566\n",
      "Epoch 9: val_loss did not improve from 0.00320\n",
      "\u001b[1m142/142\u001b[0m \u001b[32m━━━━━━━━━━━━━━━━━━━━\u001b[0m\u001b[37m\u001b[0m \u001b[1m2s\u001b[0m 15ms/step - loss: 0.0058 - mae: 0.0565 - val_loss: 0.0067 - val_mae: 0.0640\n",
      "Epoch 10/50\n",
      "\u001b[1m141/142\u001b[0m \u001b[32m━━━━━━━━━━━━━━━━━━━\u001b[0m\u001b[37m━\u001b[0m \u001b[1m0s\u001b[0m 14ms/step - loss: 0.0046 - mae: 0.0523\n",
      "Epoch 10: val_loss did not improve from 0.00320\n",
      "\u001b[1m142/142\u001b[0m \u001b[32m━━━━━━━━━━━━━━━━━━━━\u001b[0m\u001b[37m\u001b[0m \u001b[1m2s\u001b[0m 15ms/step - loss: 0.0046 - mae: 0.0522 - val_loss: 0.0050 - val_mae: 0.0523\n",
      "Epoch 11/50\n",
      "\u001b[1m142/142\u001b[0m \u001b[32m━━━━━━━━━━━━━━━━━━━━\u001b[0m\u001b[37m\u001b[0m \u001b[1m0s\u001b[0m 14ms/step - loss: 0.0043 - mae: 0.0500\n",
      "Epoch 11: val_loss did not improve from 0.00320\n",
      "\u001b[1m142/142\u001b[0m \u001b[32m━━━━━━━━━━━━━━━━━━━━\u001b[0m\u001b[37m\u001b[0m \u001b[1m2s\u001b[0m 15ms/step - loss: 0.0043 - mae: 0.0500 - val_loss: 0.0037 - val_mae: 0.0430\n",
      "Epoch 12/50\n",
      "\u001b[1m142/142\u001b[0m \u001b[32m━━━━━━━━━━━━━━━━━━━━\u001b[0m\u001b[37m\u001b[0m \u001b[1m0s\u001b[0m 14ms/step - loss: 0.0856 - mae: 0.1101\n",
      "Epoch 12: val_loss did not improve from 0.00320\n",
      "\u001b[1m142/142\u001b[0m \u001b[32m━━━━━━━━━━━━━━━━━━━━\u001b[0m\u001b[37m\u001b[0m \u001b[1m2s\u001b[0m 15ms/step - loss: 0.0853 - mae: 0.1099 - val_loss: 0.0040 - val_mae: 0.0500\n",
      "Epoch 13/50\n",
      "\u001b[1m140/142\u001b[0m \u001b[32m━━━━━━━━━━━━━━━━━━━\u001b[0m\u001b[37m━\u001b[0m \u001b[1m0s\u001b[0m 14ms/step - loss: 0.0054 - mae: 0.0570\n",
      "Epoch 13: val_loss improved from 0.00320 to 0.00313, saving model to experiments/models/lstm_regression_eol65_20250305_132258_best.keras\n",
      "\u001b[1m142/142\u001b[0m \u001b[32m━━━━━━━━━━━━━━━━━━━━\u001b[0m\u001b[37m\u001b[0m \u001b[1m2s\u001b[0m 15ms/step - loss: 0.0054 - mae: 0.0569 - val_loss: 0.0031 - val_mae: 0.0421\n",
      "Epoch 14/50\n",
      "\u001b[1m142/142\u001b[0m \u001b[32m━━━━━━━━━━━━━━━━━━━━\u001b[0m\u001b[37m\u001b[0m \u001b[1m0s\u001b[0m 14ms/step - loss: 0.0046 - mae: 0.0521\n",
      "Epoch 14: val_loss did not improve from 0.00313\n",
      "\u001b[1m142/142\u001b[0m \u001b[32m━━━━━━━━━━━━━━━━━━━━\u001b[0m\u001b[37m\u001b[0m \u001b[1m2s\u001b[0m 15ms/step - loss: 0.0046 - mae: 0.0521 - val_loss: 0.0043 - val_mae: 0.0471\n",
      "Epoch 15/50\n",
      "\u001b[1m139/142\u001b[0m \u001b[32m━━━━━━━━━━━━━━━━━━━\u001b[0m\u001b[37m━\u001b[0m \u001b[1m0s\u001b[0m 15ms/step - loss: 0.0042 - mae: 0.0494\n",
      "Epoch 15: val_loss did not improve from 0.00313\n",
      "\u001b[1m142/142\u001b[0m \u001b[32m━━━━━━━━━━━━━━━━━━━━\u001b[0m\u001b[37m\u001b[0m \u001b[1m2s\u001b[0m 16ms/step - loss: 0.0042 - mae: 0.0494 - val_loss: 0.0069 - val_mae: 0.0582\n",
      "Epoch 16/50\n",
      "\u001b[1m141/142\u001b[0m \u001b[32m━━━━━━━━━━━━━━━━━━━\u001b[0m\u001b[37m━\u001b[0m \u001b[1m0s\u001b[0m 14ms/step - loss: 0.0045 - mae: 0.0508\n",
      "Epoch 16: val_loss did not improve from 0.00313\n",
      "\u001b[1m142/142\u001b[0m \u001b[32m━━━━━━━━━━━━━━━━━━━━\u001b[0m\u001b[37m\u001b[0m \u001b[1m2s\u001b[0m 15ms/step - loss: 0.0045 - mae: 0.0508 - val_loss: 0.0031 - val_mae: 0.0425\n",
      "Epoch 17/50\n",
      "\u001b[1m141/142\u001b[0m \u001b[32m━━━━━━━━━━━━━━━━━━━\u001b[0m\u001b[37m━\u001b[0m \u001b[1m0s\u001b[0m 14ms/step - loss: 0.0041 - mae: 0.0484\n",
      "Epoch 17: val_loss improved from 0.00313 to 0.00310, saving model to experiments/models/lstm_regression_eol65_20250305_132258_best.keras\n",
      "\u001b[1m142/142\u001b[0m \u001b[32m━━━━━━━━━━━━━━━━━━━━\u001b[0m\u001b[37m\u001b[0m \u001b[1m2s\u001b[0m 15ms/step - loss: 0.0041 - mae: 0.0484 - val_loss: 0.0031 - val_mae: 0.0419\n",
      "Epoch 18/50\n",
      "\u001b[1m141/142\u001b[0m \u001b[32m━━━━━━━━━━━━━━━━━━━\u001b[0m\u001b[37m━\u001b[0m \u001b[1m0s\u001b[0m 14ms/step - loss: 0.0043 - mae: 0.0494\n",
      "Epoch 18: val_loss did not improve from 0.00310\n",
      "\u001b[1m142/142\u001b[0m \u001b[32m━━━━━━━━━━━━━━━━━━━━\u001b[0m\u001b[37m\u001b[0m \u001b[1m2s\u001b[0m 15ms/step - loss: 0.0043 - mae: 0.0494 - val_loss: 0.0034 - val_mae: 0.0449\n",
      "Epoch 19/50\n",
      "\u001b[1m142/142\u001b[0m \u001b[32m━━━━━━━━━━━━━━━━━━━━\u001b[0m\u001b[37m\u001b[0m \u001b[1m0s\u001b[0m 14ms/step - loss: 0.0043 - mae: 0.0505\n",
      "Epoch 19: val_loss did not improve from 0.00310\n",
      "\u001b[1m142/142\u001b[0m \u001b[32m━━━━━━━━━━━━━━━━━━━━\u001b[0m\u001b[37m\u001b[0m \u001b[1m2s\u001b[0m 15ms/step - loss: 0.0043 - mae: 0.0505 - val_loss: 0.0058 - val_mae: 0.0564\n",
      "Epoch 20/50\n",
      "\u001b[1m139/142\u001b[0m \u001b[32m━━━━━━━━━━━━━━━━━━━\u001b[0m\u001b[37m━\u001b[0m \u001b[1m0s\u001b[0m 14ms/step - loss: 0.0045 - mae: 0.0505\n",
      "Epoch 20: val_loss did not improve from 0.00310\n",
      "\u001b[1m142/142\u001b[0m \u001b[32m━━━━━━━━━━━━━━━━━━━━\u001b[0m\u001b[37m\u001b[0m \u001b[1m2s\u001b[0m 15ms/step - loss: 0.0045 - mae: 0.0504 - val_loss: 0.0031 - val_mae: 0.0433\n",
      "Epoch 21/50\n",
      "\u001b[1m142/142\u001b[0m \u001b[32m━━━━━━━━━━━━━━━━━━━━\u001b[0m\u001b[37m\u001b[0m \u001b[1m0s\u001b[0m 14ms/step - loss: 0.0042 - mae: 0.0495\n",
      "Epoch 21: val_loss did not improve from 0.00310\n",
      "\u001b[1m142/142\u001b[0m \u001b[32m━━━━━━━━━━━━━━━━━━━━\u001b[0m\u001b[37m\u001b[0m \u001b[1m2s\u001b[0m 15ms/step - loss: 0.0042 - mae: 0.0495 - val_loss: 0.0032 - val_mae: 0.0433\n",
      "Epoch 22/50\n",
      "\u001b[1m139/142\u001b[0m \u001b[32m━━━━━━━━━━━━━━━━━━━\u001b[0m\u001b[37m━\u001b[0m \u001b[1m0s\u001b[0m 14ms/step - loss: 0.0038 - mae: 0.0472\n",
      "Epoch 22: val_loss did not improve from 0.00310\n",
      "\u001b[1m142/142\u001b[0m \u001b[32m━━━━━━━━━━━━━━━━━━━━\u001b[0m\u001b[37m\u001b[0m \u001b[1m2s\u001b[0m 15ms/step - loss: 0.0039 - mae: 0.0472 - val_loss: 0.0045 - val_mae: 0.0518\n",
      "Epoch 23/50\n",
      "\u001b[1m142/142\u001b[0m \u001b[32m━━━━━━━━━━━━━━━━━━━━\u001b[0m\u001b[37m\u001b[0m \u001b[1m0s\u001b[0m 14ms/step - loss: 0.0042 - mae: 0.0491\n",
      "Epoch 23: val_loss did not improve from 0.00310\n",
      "\u001b[1m142/142\u001b[0m \u001b[32m━━━━━━━━━━━━━━━━━━━━\u001b[0m\u001b[37m\u001b[0m \u001b[1m2s\u001b[0m 15ms/step - loss: 0.0042 - mae: 0.0491 - val_loss: 0.0097 - val_mae: 0.0748\n",
      "Epoch 24/50\n",
      "\u001b[1m142/142\u001b[0m \u001b[32m━━━━━━━━━━━━━━━━━━━━\u001b[0m\u001b[37m\u001b[0m \u001b[1m0s\u001b[0m 14ms/step - loss: 0.0053 - mae: 0.0548\n",
      "Epoch 24: val_loss did not improve from 0.00310\n",
      "\u001b[1m142/142\u001b[0m \u001b[32m━━━━━━━━━━━━━━━━━━━━\u001b[0m\u001b[37m\u001b[0m \u001b[1m2s\u001b[0m 15ms/step - loss: 0.0053 - mae: 0.0548 - val_loss: 0.0032 - val_mae: 0.0434\n",
      "Epoch 25/50\n",
      "\u001b[1m142/142\u001b[0m \u001b[32m━━━━━━━━━━━━━━━━━━━━\u001b[0m\u001b[37m\u001b[0m \u001b[1m0s\u001b[0m 14ms/step - loss: 0.0040 - mae: 0.0481\n",
      "Epoch 25: val_loss did not improve from 0.00310\n",
      "\u001b[1m142/142\u001b[0m \u001b[32m━━━━━━━━━━━━━━━━━━━━\u001b[0m\u001b[37m\u001b[0m \u001b[1m2s\u001b[0m 15ms/step - loss: 0.0040 - mae: 0.0481 - val_loss: 0.0036 - val_mae: 0.0426\n",
      "Epoch 26/50\n",
      "\u001b[1m142/142\u001b[0m \u001b[32m━━━━━━━━━━━━━━━━━━━━\u001b[0m\u001b[37m\u001b[0m \u001b[1m0s\u001b[0m 14ms/step - loss: 0.0042 - mae: 0.0494\n",
      "Epoch 26: val_loss did not improve from 0.00310\n",
      "\u001b[1m142/142\u001b[0m \u001b[32m━━━━━━━━━━━━━━━━━━━━\u001b[0m\u001b[37m\u001b[0m \u001b[1m2s\u001b[0m 15ms/step - loss: 0.0042 - mae: 0.0494 - val_loss: 0.0043 - val_mae: 0.0451\n",
      "Epoch 27/50\n",
      "\u001b[1m142/142\u001b[0m \u001b[32m━━━━━━━━━━━━━━━━━━━━\u001b[0m\u001b[37m\u001b[0m \u001b[1m0s\u001b[0m 14ms/step - loss: 0.0051 - mae: 0.0520\n",
      "Epoch 27: val_loss did not improve from 0.00310\n",
      "\u001b[1m142/142\u001b[0m \u001b[32m━━━━━━━━━━━━━━━━━━━━\u001b[0m\u001b[37m\u001b[0m \u001b[1m2s\u001b[0m 15ms/step - loss: 0.0051 - mae: 0.0521 - val_loss: 0.0051 - val_mae: 0.0524\n",
      "Epoch 28/50\n",
      "\u001b[1m142/142\u001b[0m \u001b[32m━━━━━━━━━━━━━━━━━━━━\u001b[0m\u001b[37m\u001b[0m \u001b[1m0s\u001b[0m 14ms/step - loss: 0.0077 - mae: 0.0673\n",
      "Epoch 28: val_loss did not improve from 0.00310\n",
      "\u001b[1m142/142\u001b[0m \u001b[32m━━━━━━━━━━━━━━━━━━━━\u001b[0m\u001b[37m\u001b[0m \u001b[1m2s\u001b[0m 15ms/step - loss: 0.0077 - mae: 0.0672 - val_loss: 0.0034 - val_mae: 0.0423\n",
      "Epoch 29/50\n",
      "\u001b[1m138/142\u001b[0m \u001b[32m━━━━━━━━━━━━━━━━━━━\u001b[0m\u001b[37m━\u001b[0m \u001b[1m0s\u001b[0m 14ms/step - loss: 0.0045 - mae: 0.0514\n",
      "Epoch 29: val_loss did not improve from 0.00310\n",
      "\u001b[1m142/142\u001b[0m \u001b[32m━━━━━━━━━━━━━━━━━━━━\u001b[0m\u001b[37m\u001b[0m \u001b[1m2s\u001b[0m 15ms/step - loss: 0.0045 - mae: 0.0514 - val_loss: 0.0033 - val_mae: 0.0445\n",
      "Epoch 30/50\n",
      "\u001b[1m139/142\u001b[0m \u001b[32m━━━━━━━━━━━━━━━━━━━\u001b[0m\u001b[37m━\u001b[0m \u001b[1m0s\u001b[0m 14ms/step - loss: 0.0042 - mae: 0.0499\n",
      "Epoch 30: val_loss did not improve from 0.00310\n",
      "\u001b[1m142/142\u001b[0m \u001b[32m━━━━━━━━━━━━━━━━━━━━\u001b[0m\u001b[37m\u001b[0m \u001b[1m2s\u001b[0m 15ms/step - loss: 0.0042 - mae: 0.0499 - val_loss: 0.0036 - val_mae: 0.0446\n",
      "Epoch 31/50\n",
      "\u001b[1m139/142\u001b[0m \u001b[32m━━━━━━━━━━━━━━━━━━━\u001b[0m\u001b[37m━\u001b[0m \u001b[1m0s\u001b[0m 14ms/step - loss: 0.0043 - mae: 0.0501\n",
      "Epoch 31: val_loss did not improve from 0.00310\n",
      "\u001b[1m142/142\u001b[0m \u001b[32m━━━━━━━━━━━━━━━━━━━━\u001b[0m\u001b[37m\u001b[0m \u001b[1m2s\u001b[0m 15ms/step - loss: 0.0043 - mae: 0.0500 - val_loss: 0.0066 - val_mae: 0.0558\n",
      "Epoch 32/50\n",
      "\u001b[1m139/142\u001b[0m \u001b[32m━━━━━━━━━━━━━━━━━━━\u001b[0m\u001b[37m━\u001b[0m \u001b[1m0s\u001b[0m 14ms/step - loss: 0.0063 - mae: 0.0597\n",
      "Epoch 32: val_loss did not improve from 0.00310\n",
      "\u001b[1m142/142\u001b[0m \u001b[32m━━━━━━━━━━━━━━━━━━━━\u001b[0m\u001b[37m\u001b[0m \u001b[1m2s\u001b[0m 15ms/step - loss: 0.0062 - mae: 0.0595 - val_loss: 0.0038 - val_mae: 0.0462\n",
      "Epoch 33/50\n",
      "\u001b[1m142/142\u001b[0m \u001b[32m━━━━━━━━━━━━━━━━━━━━\u001b[0m\u001b[37m\u001b[0m \u001b[1m0s\u001b[0m 14ms/step - loss: 0.0041 - mae: 0.0490\n",
      "Epoch 33: val_loss did not improve from 0.00310\n",
      "\u001b[1m142/142\u001b[0m \u001b[32m━━━━━━━━━━━━━━━━━━━━\u001b[0m\u001b[37m\u001b[0m \u001b[1m2s\u001b[0m 15ms/step - loss: 0.0041 - mae: 0.0489 - val_loss: 0.0031 - val_mae: 0.0421\n",
      "Epoch 34/50\n",
      "\u001b[1m139/142\u001b[0m \u001b[32m━━━━━━━━━━━━━━━━━━━\u001b[0m\u001b[37m━\u001b[0m \u001b[1m0s\u001b[0m 14ms/step - loss: 0.0037 - mae: 0.0463\n",
      "Epoch 34: val_loss did not improve from 0.00310\n",
      "\u001b[1m142/142\u001b[0m \u001b[32m━━━━━━━━━━━━━━━━━━━━\u001b[0m\u001b[37m\u001b[0m \u001b[1m2s\u001b[0m 15ms/step - loss: 0.0037 - mae: 0.0464 - val_loss: 0.0032 - val_mae: 0.0428\n",
      "Epoch 35/50\n",
      "\u001b[1m142/142\u001b[0m \u001b[32m━━━━━━━━━━━━━━━━━━━━\u001b[0m\u001b[37m\u001b[0m \u001b[1m0s\u001b[0m 14ms/step - loss: 0.0040 - mae: 0.0477\n",
      "Epoch 35: val_loss did not improve from 0.00310\n",
      "\u001b[1m142/142\u001b[0m \u001b[32m━━━━━━━━━━━━━━━━━━━━\u001b[0m\u001b[37m\u001b[0m \u001b[1m2s\u001b[0m 15ms/step - loss: 0.0040 - mae: 0.0477 - val_loss: 0.0031 - val_mae: 0.0413\n",
      "Epoch 36/50\n",
      "\u001b[1m140/142\u001b[0m \u001b[32m━━━━━━━━━━━━━━━━━━━\u001b[0m\u001b[37m━\u001b[0m \u001b[1m0s\u001b[0m 15ms/step - loss: 0.0039 - mae: 0.0480\n",
      "Epoch 36: val_loss did not improve from 0.00310\n",
      "\u001b[1m142/142\u001b[0m \u001b[32m━━━━━━━━━━━━━━━━━━━━\u001b[0m\u001b[37m\u001b[0m \u001b[1m2s\u001b[0m 16ms/step - loss: 0.0039 - mae: 0.0480 - val_loss: 0.0036 - val_mae: 0.0454\n",
      "Epoch 37/50\n",
      "\u001b[1m140/142\u001b[0m \u001b[32m━━━━━━━━━━━━━━━━━━━\u001b[0m\u001b[37m━\u001b[0m \u001b[1m0s\u001b[0m 14ms/step - loss: 0.0038 - mae: 0.0468\n",
      "Epoch 37: val_loss did not improve from 0.00310\n",
      "\u001b[1m142/142\u001b[0m \u001b[32m━━━━━━━━━━━━━━━━━━━━\u001b[0m\u001b[37m\u001b[0m \u001b[1m2s\u001b[0m 15ms/step - loss: 0.0038 - mae: 0.0468 - val_loss: 0.0041 - val_mae: 0.0463\n"
     ]
    },
    {
     "name": "stderr",
     "output_type": "stream",
     "text": [
      "2025-03-05 13:24:19,230 - INFO - Final LSTM model saved to experiments/models/lstm_regression_eol65_20250305_132419_final.keras\n"
     ]
    }
   ],
   "source": [
    "from src.models import train_lstm_model\n",
    "\n",
    "# Update the configuration\n",
    "config.load_best_params(model_task)\n",
    "\n",
    "# Input shape for the CNN model\n",
    "input_shape = (config.seq_len, 1)\n",
    "\n",
    "lstm_model, history = train_lstm_model(config, X_train, y_train, X_val, y_val, input_shape)"
   ]
  },
  {
   "cell_type": "markdown",
   "metadata": {},
   "source": [
    "## CNN\n",
    "\n",
    "### Data Load"
   ]
  },
  {
   "cell_type": "code",
   "execution_count": 4,
   "metadata": {},
   "outputs": [
    {
     "name": "stderr",
     "output_type": "stream",
     "text": [
      "2025-03-05 13:24:19,285 - INFO - Loaded preprocessed data and metadata for cnn_classification with EOL 0.65\n"
     ]
    }
   ],
   "source": [
    "from src.models import load_preprocessed_data\n",
    "from config.defaults import Config\n",
    "\n",
    "# Load the default configuration\n",
    "config = Config()\n",
    "\n",
    "model_task = \"cnn_classification\"\n",
    "\n",
    "# Load preprocessed data\n",
    "X_train, X_val, X_test, y_train, y_val, y_test, metadata = load_preprocessed_data(\n",
    "    model_task, config.eol_capacity\n",
    ")"
   ]
  },
  {
   "cell_type": "markdown",
   "metadata": {},
   "source": [
    "### Grid Search"
   ]
  },
  {
   "cell_type": "code",
   "execution_count": 19,
   "metadata": {},
   "outputs": [
    {
     "name": "stderr",
     "output_type": "stream",
     "text": [
      "2025-03-05 13:13:10,960 - INFO - Running hyperparameter search for: cnn_classification\n",
      "2025-03-05 13:13:10,963 - INFO - Loading preprocessed data for hyperparameter tuning with cnn_classification...\n",
      "2025-03-05 13:13:10,967 - INFO - Loaded preprocessed data and metadata for cnn_classification with EOL 0.65\n",
      "2025-03-05 13:13:10,987 - INFO - Starting hyperparameter tuning...\n",
      "2025-03-05 13:13:10,989 - INFO - Best hyperparameters found: {'conv1_filters': 32, 'conv1_kernel_size': 9, 'l2_reg': 0.0005, 'conv2_filters': 64, 'conv2_kernel_size': 9, 'conv3_filters': 64, 'conv3_kernel_size': 3, 'cnn_dense_units': 192, 'cnn_dropout_rate': 0.4, 'learning_rate': 0.0001}\n",
      "2025-03-05 13:13:10,992 - INFO - Best hyperparameters saved to: experiments/hyperparameter_tuning/Experiment1_cnn_classification_tuning_eol65_best_params.json\n"
     ]
    },
    {
     "name": "stdout",
     "output_type": "stream",
     "text": [
      "Reloading Tuner from experiments/hyperparameter_tuning/Experiment1_cnn_classification_tuning_eol65/tuner0.json\n"
     ]
    },
    {
     "data": {
      "text/plain": [
       "{'conv1_filters': 32,\n",
       " 'conv1_kernel_size': 9,\n",
       " 'l2_reg': 0.0005,\n",
       " 'conv2_filters': 64,\n",
       " 'conv2_kernel_size': 9,\n",
       " 'conv3_filters': 64,\n",
       " 'conv3_kernel_size': 3,\n",
       " 'cnn_dense_units': 192,\n",
       " 'cnn_dropout_rate': 0.4,\n",
       " 'learning_rate': 0.0001}"
      ]
     },
     "execution_count": 19,
     "metadata": {},
     "output_type": "execute_result"
    }
   ],
   "source": [
    "from src.grid_search import run_hyperparameter_search\n",
    "\n",
    "run_hyperparameter_search(config, model_task)"
   ]
  },
  {
   "cell_type": "markdown",
   "metadata": {},
   "source": [
    "### Train model"
   ]
  },
  {
   "cell_type": "code",
   "execution_count": 7,
   "metadata": {},
   "outputs": [
    {
     "name": "stderr",
     "output_type": "stream",
     "text": [
      "2025-03-05 13:27:03,029 - INFO - CNN model built with tuned config: Config(project_name='Experiment1', data_path='data/raw/Degradation_Prediction_Dataset_ISEA.mat', eol_capacity=0.65, test_cell_count=3, random_state=42, log_transform=False, classification=False, seq_len=120, train_split_ratio=0.8, val_split_ratio=0.2, batch_size=32, max_trials=5, tuning_epochs=10, tuner_directory='experiments/hyperparameter_tuning', conv1_filters=32, conv1_kernel_size=9, conv2_filters=64, conv2_kernel_size=9, conv3_filters=64, conv3_kernel_size=3, l2_reg=0.0005, cnn_dense_units=192, cnn_dropout_rate=0.4)\n"
     ]
    },
    {
     "name": "stdout",
     "output_type": "stream",
     "text": [
      "Loaded best hyperparameters from experiments/hyperparameter_tuning/Experiment1_cnn_classification_tuning_eol65_best_params.json: {'conv1_filters': 32, 'conv1_kernel_size': 9, 'l2_reg': 0.0005, 'conv2_filters': 64, 'conv2_kernel_size': 9, 'conv3_filters': 64, 'conv3_kernel_size': 3, 'cnn_dense_units': 192, 'cnn_dropout_rate': 0.4, 'learning_rate': 0.0001}\n",
      "Epoch 1/50\n",
      "\u001b[1m133/142\u001b[0m \u001b[32m━━━━━━━━━━━━━━━━━━\u001b[0m\u001b[37m━━\u001b[0m \u001b[1m0s\u001b[0m 5ms/step - accuracy: 0.3593 - loss: 1.8154\n",
      "Epoch 1: val_loss improved from inf to 2.15596, saving model to experiments/models/cnn_classification_eol65_20250305_132703_best.keras\n",
      "\u001b[1m142/142\u001b[0m \u001b[32m━━━━━━━━━━━━━━━━━━━━\u001b[0m\u001b[37m\u001b[0m \u001b[1m2s\u001b[0m 6ms/step - accuracy: 0.3645 - loss: 1.7963 - val_accuracy: 0.1709 - val_loss: 2.1560\n",
      "Epoch 2/50\n",
      "\u001b[1m141/142\u001b[0m \u001b[32m━━━━━━━━━━━━━━━━━━━\u001b[0m\u001b[37m━\u001b[0m \u001b[1m0s\u001b[0m 5ms/step - accuracy: 0.5324 - loss: 1.2877\n",
      "Epoch 2: val_loss did not improve from 2.15596\n",
      "\u001b[1m142/142\u001b[0m \u001b[32m━━━━━━━━━━━━━━━━━━━━\u001b[0m\u001b[37m\u001b[0m \u001b[1m1s\u001b[0m 6ms/step - accuracy: 0.5327 - loss: 1.2871 - val_accuracy: 0.2232 - val_loss: 2.1752\n",
      "Epoch 3/50\n",
      "\u001b[1m139/142\u001b[0m \u001b[32m━━━━━━━━━━━━━━━━━━━\u001b[0m\u001b[37m━\u001b[0m \u001b[1m0s\u001b[0m 5ms/step - accuracy: 0.5655 - loss: 1.1902\n",
      "Epoch 3: val_loss did not improve from 2.15596\n",
      "\u001b[1m142/142\u001b[0m \u001b[32m━━━━━━━━━━━━━━━━━━━━\u001b[0m\u001b[37m\u001b[0m \u001b[1m1s\u001b[0m 6ms/step - accuracy: 0.5661 - loss: 1.1891 - val_accuracy: 0.2046 - val_loss: 2.5018\n",
      "Epoch 4/50\n",
      "\u001b[1m134/142\u001b[0m \u001b[32m━━━━━━━━━━━━━━━━━━\u001b[0m\u001b[37m━━\u001b[0m \u001b[1m0s\u001b[0m 6ms/step - accuracy: 0.6085 - loss: 1.0910\n",
      "Epoch 4: val_loss improved from 2.15596 to 1.70477, saving model to experiments/models/cnn_classification_eol65_20250305_132703_best.keras\n",
      "\u001b[1m142/142\u001b[0m \u001b[32m━━━━━━━━━━━━━━━━━━━━\u001b[0m\u001b[37m\u001b[0m \u001b[1m1s\u001b[0m 6ms/step - accuracy: 0.6092 - loss: 1.0900 - val_accuracy: 0.2985 - val_loss: 1.7048\n",
      "Epoch 5/50\n",
      "\u001b[1m133/142\u001b[0m \u001b[32m━━━━━━━━━━━━━━━━━━\u001b[0m\u001b[37m━━\u001b[0m \u001b[1m0s\u001b[0m 5ms/step - accuracy: 0.6163 - loss: 1.0646\n",
      "Epoch 5: val_loss improved from 1.70477 to 1.25544, saving model to experiments/models/cnn_classification_eol65_20250305_132703_best.keras\n",
      "\u001b[1m142/142\u001b[0m \u001b[32m━━━━━━━━━━━━━━━━━━━━\u001b[0m\u001b[37m\u001b[0m \u001b[1m1s\u001b[0m 6ms/step - accuracy: 0.6161 - loss: 1.0652 - val_accuracy: 0.5376 - val_loss: 1.2554\n",
      "Epoch 6/50\n",
      "\u001b[1m140/142\u001b[0m \u001b[32m━━━━━━━━━━━━━━━━━━━\u001b[0m\u001b[37m━\u001b[0m \u001b[1m0s\u001b[0m 5ms/step - accuracy: 0.6150 - loss: 1.0743\n",
      "Epoch 6: val_loss did not improve from 1.25544\n",
      "\u001b[1m142/142\u001b[0m \u001b[32m━━━━━━━━━━━━━━━━━━━━\u001b[0m\u001b[37m\u001b[0m \u001b[1m1s\u001b[0m 6ms/step - accuracy: 0.6155 - loss: 1.0734 - val_accuracy: 0.4934 - val_loss: 1.3200\n",
      "Epoch 7/50\n",
      "\u001b[1m138/142\u001b[0m \u001b[32m━━━━━━━━━━━━━━━━━━━\u001b[0m\u001b[37m━\u001b[0m \u001b[1m0s\u001b[0m 5ms/step - accuracy: 0.6543 - loss: 1.0305\n",
      "Epoch 7: val_loss improved from 1.25544 to 1.19655, saving model to experiments/models/cnn_classification_eol65_20250305_132703_best.keras\n",
      "\u001b[1m142/142\u001b[0m \u001b[32m━━━━━━━━━━━━━━━━━━━━\u001b[0m\u001b[37m\u001b[0m \u001b[1m1s\u001b[0m 6ms/step - accuracy: 0.6545 - loss: 1.0295 - val_accuracy: 0.5217 - val_loss: 1.1965\n",
      "Epoch 8/50\n",
      "\u001b[1m141/142\u001b[0m \u001b[32m━━━━━━━━━━━━━━━━━━━\u001b[0m\u001b[37m━\u001b[0m \u001b[1m0s\u001b[0m 5ms/step - accuracy: 0.6484 - loss: 1.0029\n",
      "Epoch 8: val_loss did not improve from 1.19655\n",
      "\u001b[1m142/142\u001b[0m \u001b[32m━━━━━━━━━━━━━━━━━━━━\u001b[0m\u001b[37m\u001b[0m \u001b[1m1s\u001b[0m 6ms/step - accuracy: 0.6484 - loss: 1.0029 - val_accuracy: 0.5527 - val_loss: 1.2589\n",
      "Epoch 9/50\n",
      "\u001b[1m132/142\u001b[0m \u001b[32m━━━━━━━━━━━━━━━━━━\u001b[0m\u001b[37m━━\u001b[0m \u001b[1m0s\u001b[0m 6ms/step - accuracy: 0.6403 - loss: 1.0301\n",
      "Epoch 9: val_loss improved from 1.19655 to 1.03155, saving model to experiments/models/cnn_classification_eol65_20250305_132703_best.keras\n",
      "\u001b[1m142/142\u001b[0m \u001b[32m━━━━━━━━━━━━━━━━━━━━\u001b[0m\u001b[37m\u001b[0m \u001b[1m1s\u001b[0m 8ms/step - accuracy: 0.6417 - loss: 1.0268 - val_accuracy: 0.6129 - val_loss: 1.0315\n",
      "Epoch 10/50\n",
      "\u001b[1m137/142\u001b[0m \u001b[32m━━━━━━━━━━━━━━━━━━━\u001b[0m\u001b[37m━\u001b[0m \u001b[1m0s\u001b[0m 5ms/step - accuracy: 0.6424 - loss: 1.0204\n",
      "Epoch 10: val_loss improved from 1.03155 to 0.98575, saving model to experiments/models/cnn_classification_eol65_20250305_132703_best.keras\n",
      "\u001b[1m142/142\u001b[0m \u001b[32m━━━━━━━━━━━━━━━━━━━━\u001b[0m\u001b[37m\u001b[0m \u001b[1m1s\u001b[0m 6ms/step - accuracy: 0.6432 - loss: 1.0189 - val_accuracy: 0.6280 - val_loss: 0.9858\n",
      "Epoch 11/50\n",
      "\u001b[1m135/142\u001b[0m \u001b[32m━━━━━━━━━━━━━━━━━━━\u001b[0m\u001b[37m━\u001b[0m \u001b[1m0s\u001b[0m 6ms/step - accuracy: 0.6393 - loss: 1.0205\n",
      "Epoch 11: val_loss did not improve from 0.98575\n",
      "\u001b[1m142/142\u001b[0m \u001b[32m━━━━━━━━━━━━━━━━━━━━\u001b[0m\u001b[37m\u001b[0m \u001b[1m1s\u001b[0m 6ms/step - accuracy: 0.6406 - loss: 1.0180 - val_accuracy: 0.4987 - val_loss: 1.5784\n",
      "Epoch 12/50\n",
      "\u001b[1m140/142\u001b[0m \u001b[32m━━━━━━━━━━━━━━━━━━━\u001b[0m\u001b[37m━\u001b[0m \u001b[1m0s\u001b[0m 6ms/step - accuracy: 0.6821 - loss: 0.9395\n",
      "Epoch 12: val_loss did not improve from 0.98575\n",
      "\u001b[1m142/142\u001b[0m \u001b[32m━━━━━━━━━━━━━━━━━━━━\u001b[0m\u001b[37m\u001b[0m \u001b[1m1s\u001b[0m 7ms/step - accuracy: 0.6820 - loss: 0.9398 - val_accuracy: 0.5252 - val_loss: 1.2627\n",
      "Epoch 13/50\n",
      "\u001b[1m137/142\u001b[0m \u001b[32m━━━━━━━━━━━━━━━━━━━\u001b[0m\u001b[37m━\u001b[0m \u001b[1m0s\u001b[0m 5ms/step - accuracy: 0.6860 - loss: 0.9262\n",
      "Epoch 13: val_loss did not improve from 0.98575\n",
      "\u001b[1m142/142\u001b[0m \u001b[32m━━━━━━━━━━━━━━━━━━━━\u001b[0m\u001b[37m\u001b[0m \u001b[1m1s\u001b[0m 5ms/step - accuracy: 0.6859 - loss: 0.9262 - val_accuracy: 0.5394 - val_loss: 1.2487\n",
      "Epoch 14/50\n",
      "\u001b[1m133/142\u001b[0m \u001b[32m━━━━━━━━━━━━━━━━━━\u001b[0m\u001b[37m━━\u001b[0m \u001b[1m0s\u001b[0m 6ms/step - accuracy: 0.6765 - loss: 0.9680\n",
      "Epoch 14: val_loss did not improve from 0.98575\n",
      "\u001b[1m142/142\u001b[0m \u001b[32m━━━━━━━━━━━━━━━━━━━━\u001b[0m\u001b[37m\u001b[0m \u001b[1m1s\u001b[0m 6ms/step - accuracy: 0.6772 - loss: 0.9652 - val_accuracy: 0.5235 - val_loss: 1.5142\n",
      "Epoch 15/50\n",
      "\u001b[1m136/142\u001b[0m \u001b[32m━━━━━━━━━━━━━━━━━━━\u001b[0m\u001b[37m━\u001b[0m \u001b[1m0s\u001b[0m 5ms/step - accuracy: 0.6777 - loss: 0.9424\n",
      "Epoch 15: val_loss did not improve from 0.98575\n",
      "\u001b[1m142/142\u001b[0m \u001b[32m━━━━━━━━━━━━━━━━━━━━\u001b[0m\u001b[37m\u001b[0m \u001b[1m1s\u001b[0m 6ms/step - accuracy: 0.6779 - loss: 0.9421 - val_accuracy: 0.5252 - val_loss: 1.5471\n",
      "Epoch 16/50\n",
      "\u001b[1m139/142\u001b[0m \u001b[32m━━━━━━━━━━━━━━━━━━━\u001b[0m\u001b[37m━\u001b[0m \u001b[1m0s\u001b[0m 6ms/step - accuracy: 0.6784 - loss: 0.9325\n",
      "Epoch 16: val_loss did not improve from 0.98575\n",
      "\u001b[1m142/142\u001b[0m \u001b[32m━━━━━━━━━━━━━━━━━━━━\u001b[0m\u001b[37m\u001b[0m \u001b[1m1s\u001b[0m 6ms/step - accuracy: 0.6781 - loss: 0.9329 - val_accuracy: 0.4278 - val_loss: 1.5824\n",
      "Epoch 17/50\n",
      "\u001b[1m140/142\u001b[0m \u001b[32m━━━━━━━━━━━━━━━━━━━\u001b[0m\u001b[37m━\u001b[0m \u001b[1m0s\u001b[0m 6ms/step - accuracy: 0.6868 - loss: 0.9220\n",
      "Epoch 17: val_loss did not improve from 0.98575\n",
      "\u001b[1m142/142\u001b[0m \u001b[32m━━━━━━━━━━━━━━━━━━━━\u001b[0m\u001b[37m\u001b[0m \u001b[1m1s\u001b[0m 6ms/step - accuracy: 0.6869 - loss: 0.9218 - val_accuracy: 0.6182 - val_loss: 1.0308\n",
      "Epoch 18/50\n",
      "\u001b[1m134/142\u001b[0m \u001b[32m━━━━━━━━━━━━━━━━━━\u001b[0m\u001b[37m━━\u001b[0m \u001b[1m0s\u001b[0m 5ms/step - accuracy: 0.7282 - loss: 0.8575\n",
      "Epoch 18: val_loss did not improve from 0.98575\n",
      "\u001b[1m142/142\u001b[0m \u001b[32m━━━━━━━━━━━━━━━━━━━━\u001b[0m\u001b[37m\u001b[0m \u001b[1m1s\u001b[0m 6ms/step - accuracy: 0.7266 - loss: 0.8594 - val_accuracy: 0.4464 - val_loss: 1.4898\n",
      "Epoch 19/50\n",
      "\u001b[1m138/142\u001b[0m \u001b[32m━━━━━━━━━━━━━━━━━━━\u001b[0m\u001b[37m━\u001b[0m \u001b[1m0s\u001b[0m 6ms/step - accuracy: 0.7044 - loss: 0.8664\n",
      "Epoch 19: val_loss improved from 0.98575 to 0.83310, saving model to experiments/models/cnn_classification_eol65_20250305_132703_best.keras\n",
      "\u001b[1m142/142\u001b[0m \u001b[32m━━━━━━━━━━━━━━━━━━━━\u001b[0m\u001b[37m\u001b[0m \u001b[1m1s\u001b[0m 7ms/step - accuracy: 0.7043 - loss: 0.8661 - val_accuracy: 0.7166 - val_loss: 0.8331\n",
      "Epoch 20/50\n",
      "\u001b[1m132/142\u001b[0m \u001b[32m━━━━━━━━━━━━━━━━━━\u001b[0m\u001b[37m━━\u001b[0m \u001b[1m0s\u001b[0m 7ms/step - accuracy: 0.7061 - loss: 0.8642\n",
      "Epoch 20: val_loss did not improve from 0.83310\n",
      "\u001b[1m142/142\u001b[0m \u001b[32m━━━━━━━━━━━━━━━━━━━━\u001b[0m\u001b[37m\u001b[0m \u001b[1m1s\u001b[0m 7ms/step - accuracy: 0.7059 - loss: 0.8645 - val_accuracy: 0.5810 - val_loss: 1.1714\n",
      "Epoch 21/50\n",
      "\u001b[1m133/142\u001b[0m \u001b[32m━━━━━━━━━━━━━━━━━━\u001b[0m\u001b[37m━━\u001b[0m \u001b[1m0s\u001b[0m 6ms/step - accuracy: 0.7333 - loss: 0.8141\n",
      "Epoch 21: val_loss did not improve from 0.83310\n",
      "\u001b[1m142/142\u001b[0m \u001b[32m━━━━━━━━━━━━━━━━━━━━\u001b[0m\u001b[37m\u001b[0m \u001b[1m1s\u001b[0m 6ms/step - accuracy: 0.7331 - loss: 0.8144 - val_accuracy: 0.6475 - val_loss: 1.3358\n",
      "Epoch 22/50\n",
      "\u001b[1m137/142\u001b[0m \u001b[32m━━━━━━━━━━━━━━━━━━━\u001b[0m\u001b[37m━\u001b[0m \u001b[1m0s\u001b[0m 5ms/step - accuracy: 0.7109 - loss: 0.8705\n",
      "Epoch 22: val_loss did not improve from 0.83310\n",
      "\u001b[1m142/142\u001b[0m \u001b[32m━━━━━━━━━━━━━━━━━━━━\u001b[0m\u001b[37m\u001b[0m \u001b[1m1s\u001b[0m 5ms/step - accuracy: 0.7118 - loss: 0.8688 - val_accuracy: 0.5979 - val_loss: 1.0661\n",
      "Epoch 23/50\n",
      "\u001b[1m134/142\u001b[0m \u001b[32m━━━━━━━━━━━━━━━━━━\u001b[0m\u001b[37m━━\u001b[0m \u001b[1m0s\u001b[0m 6ms/step - accuracy: 0.7061 - loss: 0.8458\n",
      "Epoch 23: val_loss did not improve from 0.83310\n",
      "\u001b[1m142/142\u001b[0m \u001b[32m━━━━━━━━━━━━━━━━━━━━\u001b[0m\u001b[37m\u001b[0m \u001b[1m1s\u001b[0m 7ms/step - accuracy: 0.7066 - loss: 0.8453 - val_accuracy: 0.6546 - val_loss: 1.0194\n",
      "Epoch 24/50\n",
      "\u001b[1m134/142\u001b[0m \u001b[32m━━━━━━━━━━━━━━━━━━\u001b[0m\u001b[37m━━\u001b[0m \u001b[1m0s\u001b[0m 5ms/step - accuracy: 0.7407 - loss: 0.8145\n",
      "Epoch 24: val_loss did not improve from 0.83310\n",
      "\u001b[1m142/142\u001b[0m \u001b[32m━━━━━━━━━━━━━━━━━━━━\u001b[0m\u001b[37m\u001b[0m \u001b[1m1s\u001b[0m 6ms/step - accuracy: 0.7404 - loss: 0.8146 - val_accuracy: 0.6377 - val_loss: 0.9953\n",
      "Epoch 25/50\n",
      "\u001b[1m133/142\u001b[0m \u001b[32m━━━━━━━━━━━━━━━━━━\u001b[0m\u001b[37m━━\u001b[0m \u001b[1m0s\u001b[0m 5ms/step - accuracy: 0.7283 - loss: 0.8225\n",
      "Epoch 25: val_loss did not improve from 0.83310\n",
      "\u001b[1m142/142\u001b[0m \u001b[32m━━━━━━━━━━━━━━━━━━━━\u001b[0m\u001b[37m\u001b[0m \u001b[1m1s\u001b[0m 5ms/step - accuracy: 0.7280 - loss: 0.8219 - val_accuracy: 0.6067 - val_loss: 1.0803\n",
      "Epoch 26/50\n",
      "\u001b[1m132/142\u001b[0m \u001b[32m━━━━━━━━━━━━━━━━━━\u001b[0m\u001b[37m━━\u001b[0m \u001b[1m0s\u001b[0m 5ms/step - accuracy: 0.7341 - loss: 0.7776\n",
      "Epoch 26: val_loss did not improve from 0.83310\n",
      "\u001b[1m142/142\u001b[0m \u001b[32m━━━━━━━━━━━━━━━━━━━━\u001b[0m\u001b[37m\u001b[0m \u001b[1m1s\u001b[0m 6ms/step - accuracy: 0.7335 - loss: 0.7798 - val_accuracy: 0.5722 - val_loss: 1.5648\n",
      "Epoch 27/50\n",
      "\u001b[1m139/142\u001b[0m \u001b[32m━━━━━━━━━━━━━━━━━━━\u001b[0m\u001b[37m━\u001b[0m \u001b[1m0s\u001b[0m 5ms/step - accuracy: 0.7489 - loss: 0.7756\n",
      "Epoch 27: val_loss did not improve from 0.83310\n",
      "\u001b[1m142/142\u001b[0m \u001b[32m━━━━━━━━━━━━━━━━━━━━\u001b[0m\u001b[37m\u001b[0m \u001b[1m1s\u001b[0m 5ms/step - accuracy: 0.7485 - loss: 0.7765 - val_accuracy: 0.5695 - val_loss: 1.3744\n",
      "Epoch 28/50\n",
      "\u001b[1m134/142\u001b[0m \u001b[32m━━━━━━━━━━━━━━━━━━\u001b[0m\u001b[37m━━\u001b[0m \u001b[1m0s\u001b[0m 5ms/step - accuracy: 0.7349 - loss: 0.7993\n",
      "Epoch 28: val_loss did not improve from 0.83310\n",
      "\u001b[1m142/142\u001b[0m \u001b[32m━━━━━━━━━━━━━━━━━━━━\u001b[0m\u001b[37m\u001b[0m \u001b[1m1s\u001b[0m 5ms/step - accuracy: 0.7354 - loss: 0.7985 - val_accuracy: 0.6926 - val_loss: 0.8412\n",
      "Epoch 29/50\n",
      "\u001b[1m139/142\u001b[0m \u001b[32m━━━━━━━━━━━━━━━━━━━\u001b[0m\u001b[37m━\u001b[0m \u001b[1m0s\u001b[0m 5ms/step - accuracy: 0.7634 - loss: 0.7563\n",
      "Epoch 29: val_loss improved from 0.83310 to 0.81257, saving model to experiments/models/cnn_classification_eol65_20250305_132703_best.keras\n",
      "\u001b[1m142/142\u001b[0m \u001b[32m━━━━━━━━━━━━━━━━━━━━\u001b[0m\u001b[37m\u001b[0m \u001b[1m1s\u001b[0m 6ms/step - accuracy: 0.7633 - loss: 0.7560 - val_accuracy: 0.7573 - val_loss: 0.8126\n",
      "Epoch 30/50\n",
      "\u001b[1m139/142\u001b[0m \u001b[32m━━━━━━━━━━━━━━━━━━━\u001b[0m\u001b[37m━\u001b[0m \u001b[1m0s\u001b[0m 5ms/step - accuracy: 0.7529 - loss: 0.7641\n",
      "Epoch 30: val_loss did not improve from 0.81257\n",
      "\u001b[1m142/142\u001b[0m \u001b[32m━━━━━━━━━━━━━━━━━━━━\u001b[0m\u001b[37m\u001b[0m \u001b[1m1s\u001b[0m 5ms/step - accuracy: 0.7534 - loss: 0.7632 - val_accuracy: 0.6510 - val_loss: 1.2544\n",
      "Epoch 31/50\n",
      "\u001b[1m133/142\u001b[0m \u001b[32m━━━━━━━━━━━━━━━━━━\u001b[0m\u001b[37m━━\u001b[0m \u001b[1m0s\u001b[0m 6ms/step - accuracy: 0.7385 - loss: 0.7839\n",
      "Epoch 31: val_loss improved from 0.81257 to 0.75114, saving model to experiments/models/cnn_classification_eol65_20250305_132703_best.keras\n",
      "\u001b[1m142/142\u001b[0m \u001b[32m━━━━━━━━━━━━━━━━━━━━\u001b[0m\u001b[37m\u001b[0m \u001b[1m1s\u001b[0m 6ms/step - accuracy: 0.7392 - loss: 0.7832 - val_accuracy: 0.7360 - val_loss: 0.7511\n",
      "Epoch 32/50\n",
      "\u001b[1m132/142\u001b[0m \u001b[32m━━━━━━━━━━━━━━━━━━\u001b[0m\u001b[37m━━\u001b[0m \u001b[1m0s\u001b[0m 5ms/step - accuracy: 0.7610 - loss: 0.7416\n",
      "Epoch 32: val_loss did not improve from 0.75114\n",
      "\u001b[1m142/142\u001b[0m \u001b[32m━━━━━━━━━━━━━━━━━━━━\u001b[0m\u001b[37m\u001b[0m \u001b[1m1s\u001b[0m 5ms/step - accuracy: 0.7616 - loss: 0.7405 - val_accuracy: 0.6236 - val_loss: 0.9986\n",
      "Epoch 33/50\n",
      "\u001b[1m131/142\u001b[0m \u001b[32m━━━━━━━━━━━━━━━━━━\u001b[0m\u001b[37m━━\u001b[0m \u001b[1m0s\u001b[0m 6ms/step - accuracy: 0.7674 - loss: 0.7228\n",
      "Epoch 33: val_loss did not improve from 0.75114\n",
      "\u001b[1m142/142\u001b[0m \u001b[32m━━━━━━━━━━━━━━━━━━━━\u001b[0m\u001b[37m\u001b[0m \u001b[1m1s\u001b[0m 6ms/step - accuracy: 0.7672 - loss: 0.7235 - val_accuracy: 0.6643 - val_loss: 1.1572\n",
      "Epoch 34/50\n",
      "\u001b[1m136/142\u001b[0m \u001b[32m━━━━━━━━━━━━━━━━━━━\u001b[0m\u001b[37m━\u001b[0m \u001b[1m0s\u001b[0m 5ms/step - accuracy: 0.7592 - loss: 0.7559\n",
      "Epoch 34: val_loss did not improve from 0.75114\n",
      "\u001b[1m142/142\u001b[0m \u001b[32m━━━━━━━━━━━━━━━━━━━━\u001b[0m\u001b[37m\u001b[0m \u001b[1m1s\u001b[0m 6ms/step - accuracy: 0.7592 - loss: 0.7551 - val_accuracy: 0.5509 - val_loss: 1.1912\n",
      "Epoch 35/50\n",
      "\u001b[1m133/142\u001b[0m \u001b[32m━━━━━━━━━━━━━━━━━━\u001b[0m\u001b[37m━━\u001b[0m \u001b[1m0s\u001b[0m 5ms/step - accuracy: 0.7652 - loss: 0.7376\n",
      "Epoch 35: val_loss improved from 0.75114 to 0.71169, saving model to experiments/models/cnn_classification_eol65_20250305_132703_best.keras\n",
      "\u001b[1m142/142\u001b[0m \u001b[32m━━━━━━━━━━━━━━━━━━━━\u001b[0m\u001b[37m\u001b[0m \u001b[1m1s\u001b[0m 6ms/step - accuracy: 0.7651 - loss: 0.7376 - val_accuracy: 0.7688 - val_loss: 0.7117\n",
      "Epoch 36/50\n",
      "\u001b[1m138/142\u001b[0m \u001b[32m━━━━━━━━━━━━━━━━━━━\u001b[0m\u001b[37m━\u001b[0m \u001b[1m0s\u001b[0m 5ms/step - accuracy: 0.7681 - loss: 0.7179\n",
      "Epoch 36: val_loss did not improve from 0.71169\n",
      "\u001b[1m142/142\u001b[0m \u001b[32m━━━━━━━━━━━━━━━━━━━━\u001b[0m\u001b[37m\u001b[0m \u001b[1m1s\u001b[0m 6ms/step - accuracy: 0.7678 - loss: 0.7184 - val_accuracy: 0.7467 - val_loss: 0.7282\n",
      "Epoch 37/50\n",
      "\u001b[1m139/142\u001b[0m \u001b[32m━━━━━━━━━━━━━━━━━━━\u001b[0m\u001b[37m━\u001b[0m \u001b[1m0s\u001b[0m 5ms/step - accuracy: 0.7598 - loss: 0.7344\n",
      "Epoch 37: val_loss did not improve from 0.71169\n",
      "\u001b[1m142/142\u001b[0m \u001b[32m━━━━━━━━━━━━━━━━━━━━\u001b[0m\u001b[37m\u001b[0m \u001b[1m1s\u001b[0m 6ms/step - accuracy: 0.7598 - loss: 0.7343 - val_accuracy: 0.6404 - val_loss: 1.2950\n",
      "Epoch 38/50\n",
      "\u001b[1m139/142\u001b[0m \u001b[32m━━━━━━━━━━━━━━━━━━━\u001b[0m\u001b[37m━\u001b[0m \u001b[1m0s\u001b[0m 5ms/step - accuracy: 0.7579 - loss: 0.7539\n",
      "Epoch 38: val_loss did not improve from 0.71169\n",
      "\u001b[1m142/142\u001b[0m \u001b[32m━━━━━━━━━━━━━━━━━━━━\u001b[0m\u001b[37m\u001b[0m \u001b[1m1s\u001b[0m 6ms/step - accuracy: 0.7578 - loss: 0.7539 - val_accuracy: 0.6935 - val_loss: 0.9509\n",
      "Epoch 39/50\n",
      "\u001b[1m140/142\u001b[0m \u001b[32m━━━━━━━━━━━━━━━━━━━\u001b[0m\u001b[37m━\u001b[0m \u001b[1m0s\u001b[0m 5ms/step - accuracy: 0.7528 - loss: 0.7643\n",
      "Epoch 39: val_loss did not improve from 0.71169\n",
      "\u001b[1m142/142\u001b[0m \u001b[32m━━━━━━━━━━━━━━━━━━━━\u001b[0m\u001b[37m\u001b[0m \u001b[1m1s\u001b[0m 5ms/step - accuracy: 0.7531 - loss: 0.7636 - val_accuracy: 0.6218 - val_loss: 1.3119\n",
      "Epoch 40/50\n",
      "\u001b[1m139/142\u001b[0m \u001b[32m━━━━━━━━━━━━━━━━━━━\u001b[0m\u001b[37m━\u001b[0m \u001b[1m0s\u001b[0m 5ms/step - accuracy: 0.7589 - loss: 0.7309\n",
      "Epoch 40: val_loss improved from 0.71169 to 0.68028, saving model to experiments/models/cnn_classification_eol65_20250305_132703_best.keras\n",
      "\u001b[1m142/142\u001b[0m \u001b[32m━━━━━━━━━━━━━━━━━━━━\u001b[0m\u001b[37m\u001b[0m \u001b[1m1s\u001b[0m 6ms/step - accuracy: 0.7591 - loss: 0.7305 - val_accuracy: 0.7839 - val_loss: 0.6803\n",
      "Epoch 41/50\n",
      "\u001b[1m139/142\u001b[0m \u001b[32m━━━━━━━━━━━━━━━━━━━\u001b[0m\u001b[37m━\u001b[0m \u001b[1m0s\u001b[0m 5ms/step - accuracy: 0.7740 - loss: 0.7170\n",
      "Epoch 41: val_loss improved from 0.68028 to 0.66979, saving model to experiments/models/cnn_classification_eol65_20250305_132703_best.keras\n",
      "\u001b[1m142/142\u001b[0m \u001b[32m━━━━━━━━━━━━━━━━━━━━\u001b[0m\u001b[37m\u001b[0m \u001b[1m1s\u001b[0m 6ms/step - accuracy: 0.7741 - loss: 0.7167 - val_accuracy: 0.7697 - val_loss: 0.6698\n",
      "Epoch 42/50\n",
      "\u001b[1m136/142\u001b[0m \u001b[32m━━━━━━━━━━━━━━━━━━━\u001b[0m\u001b[37m━\u001b[0m \u001b[1m0s\u001b[0m 6ms/step - accuracy: 0.7577 - loss: 0.7393\n",
      "Epoch 42: val_loss did not improve from 0.66979\n",
      "\u001b[1m142/142\u001b[0m \u001b[32m━━━━━━━━━━━━━━━━━━━━\u001b[0m\u001b[37m\u001b[0m \u001b[1m1s\u001b[0m 6ms/step - accuracy: 0.7581 - loss: 0.7384 - val_accuracy: 0.5368 - val_loss: 3.1225\n",
      "Epoch 43/50\n",
      "\u001b[1m138/142\u001b[0m \u001b[32m━━━━━━━━━━━━━━━━━━━\u001b[0m\u001b[37m━\u001b[0m \u001b[1m0s\u001b[0m 5ms/step - accuracy: 0.7523 - loss: 0.7518\n",
      "Epoch 43: val_loss did not improve from 0.66979\n",
      "\u001b[1m142/142\u001b[0m \u001b[32m━━━━━━━━━━━━━━━━━━━━\u001b[0m\u001b[37m\u001b[0m \u001b[1m1s\u001b[0m 6ms/step - accuracy: 0.7527 - loss: 0.7509 - val_accuracy: 0.4925 - val_loss: 3.4839\n",
      "Epoch 44/50\n",
      "\u001b[1m137/142\u001b[0m \u001b[32m━━━━━━━━━━━━━━━━━━━\u001b[0m\u001b[37m━\u001b[0m \u001b[1m0s\u001b[0m 6ms/step - accuracy: 0.7794 - loss: 0.7047\n",
      "Epoch 44: val_loss did not improve from 0.66979\n",
      "\u001b[1m142/142\u001b[0m \u001b[32m━━━━━━━━━━━━━━━━━━━━\u001b[0m\u001b[37m\u001b[0m \u001b[1m1s\u001b[0m 6ms/step - accuracy: 0.7794 - loss: 0.7044 - val_accuracy: 0.6749 - val_loss: 1.1738\n",
      "Epoch 45/50\n",
      "\u001b[1m140/142\u001b[0m \u001b[32m━━━━━━━━━━━━━━━━━━━\u001b[0m\u001b[37m━\u001b[0m \u001b[1m0s\u001b[0m 5ms/step - accuracy: 0.7712 - loss: 0.6950\n",
      "Epoch 45: val_loss did not improve from 0.66979\n",
      "\u001b[1m142/142\u001b[0m \u001b[32m━━━━━━━━━━━━━━━━━━━━\u001b[0m\u001b[37m\u001b[0m \u001b[1m1s\u001b[0m 6ms/step - accuracy: 0.7713 - loss: 0.6950 - val_accuracy: 0.6926 - val_loss: 0.8873\n",
      "Epoch 46/50\n",
      "\u001b[1m136/142\u001b[0m \u001b[32m━━━━━━━━━━━━━━━━━━━\u001b[0m\u001b[37m━\u001b[0m \u001b[1m0s\u001b[0m 5ms/step - accuracy: 0.7739 - loss: 0.7056\n",
      "Epoch 46: val_loss did not improve from 0.66979\n",
      "\u001b[1m142/142\u001b[0m \u001b[32m━━━━━━━━━━━━━━━━━━━━\u001b[0m\u001b[37m\u001b[0m \u001b[1m1s\u001b[0m 6ms/step - accuracy: 0.7735 - loss: 0.7060 - val_accuracy: 0.6289 - val_loss: 1.5036\n",
      "Epoch 47/50\n",
      "\u001b[1m139/142\u001b[0m \u001b[32m━━━━━━━━━━━━━━━━━━━\u001b[0m\u001b[37m━\u001b[0m \u001b[1m0s\u001b[0m 5ms/step - accuracy: 0.7795 - loss: 0.6799\n",
      "Epoch 47: val_loss did not improve from 0.66979\n",
      "\u001b[1m142/142\u001b[0m \u001b[32m━━━━━━━━━━━━━━━━━━━━\u001b[0m\u001b[37m\u001b[0m \u001b[1m1s\u001b[0m 5ms/step - accuracy: 0.7796 - loss: 0.6796 - val_accuracy: 0.6732 - val_loss: 0.9224\n",
      "Epoch 48/50\n",
      "\u001b[1m140/142\u001b[0m \u001b[32m━━━━━━━━━━━━━━━━━━━\u001b[0m\u001b[37m━\u001b[0m \u001b[1m0s\u001b[0m 5ms/step - accuracy: 0.7819 - loss: 0.6877\n",
      "Epoch 48: val_loss improved from 0.66979 to 0.57371, saving model to experiments/models/cnn_classification_eol65_20250305_132703_best.keras\n",
      "\u001b[1m142/142\u001b[0m \u001b[32m━━━━━━━━━━━━━━━━━━━━\u001b[0m\u001b[37m\u001b[0m \u001b[1m1s\u001b[0m 6ms/step - accuracy: 0.7821 - loss: 0.6872 - val_accuracy: 0.8388 - val_loss: 0.5737\n",
      "Epoch 49/50\n",
      "\u001b[1m132/142\u001b[0m \u001b[32m━━━━━━━━━━━━━━━━━━\u001b[0m\u001b[37m━━\u001b[0m \u001b[1m0s\u001b[0m 5ms/step - accuracy: 0.8083 - loss: 0.6400\n",
      "Epoch 49: val_loss did not improve from 0.57371\n",
      "\u001b[1m142/142\u001b[0m \u001b[32m━━━━━━━━━━━━━━━━━━━━\u001b[0m\u001b[37m\u001b[0m \u001b[1m1s\u001b[0m 5ms/step - accuracy: 0.8066 - loss: 0.6427 - val_accuracy: 0.5562 - val_loss: 2.4275\n",
      "Epoch 50/50\n",
      "\u001b[1m136/142\u001b[0m \u001b[32m━━━━━━━━━━━━━━━━━━━\u001b[0m\u001b[37m━\u001b[0m \u001b[1m0s\u001b[0m 6ms/step - accuracy: 0.7456 - loss: 0.7499\n",
      "Epoch 50: val_loss did not improve from 0.57371\n",
      "\u001b[1m142/142\u001b[0m \u001b[32m━━━━━━━━━━━━━━━━━━━━\u001b[0m\u001b[37m\u001b[0m \u001b[1m1s\u001b[0m 6ms/step - accuracy: 0.7466 - loss: 0.7478 - val_accuracy: 0.6050 - val_loss: 1.3332\n"
     ]
    },
    {
     "name": "stderr",
     "output_type": "stream",
     "text": [
      "2025-03-05 13:27:46,071 - INFO - Final CNN model saved to experiments/models/cnn_classification_eol65_20250305_132746_final.keras\n"
     ]
    }
   ],
   "source": [
    "from src.models import train_cnn_model\n",
    "\n",
    "# Update the configuration\n",
    "config.load_best_params(model_task)\n",
    "\n",
    "# Input shape for the CNN model\n",
    "input_shape = (config.seq_len, 1)\n",
    "\n",
    "cnn_model, history = train_cnn_model(config, X_train, y_train, X_val, y_val, input_shape)"
   ]
  },
  {
   "cell_type": "code",
   "execution_count": 8,
   "metadata": {},
   "outputs": [
    {
     "name": "stderr",
     "output_type": "stream",
     "text": [
      "2025-03-05 13:29:10,439 - INFO - Loaded saved best CNN model from experiments/models/cnn_classification_eol65_20250305_132703_best.keras\n"
     ]
    }
   ],
   "source": [
    "from src.models import load_saved_model\n",
    "\n",
    "cnn_model = load_saved_model(model_task, config.eol_capacity, config)"
   ]
  },
  {
   "cell_type": "code",
   "execution_count": 9,
   "metadata": {},
   "outputs": [
    {
     "name": "stdout",
     "output_type": "stream",
     "text": [
      "\u001b[1m13/13\u001b[0m \u001b[32m━━━━━━━━━━━━━━━━━━━━\u001b[0m\u001b[37m\u001b[0m \u001b[1m0s\u001b[0m 3ms/step - accuracy: 0.6691 - loss: 0.8268  \n"
     ]
    },
    {
     "name": "stderr",
     "output_type": "stream",
     "text": [
      "2025-03-05 13:29:18,881 - INFO - Test Loss (Crossentropy): 0.7636\n",
      "2025-03-05 13:29:18,882 - INFO - Test Accuracy: 0.7161\n"
     ]
    },
    {
     "data": {
      "image/png": "[encoded data removed]",
      "text/plain": [
       "<Figure size 600x600 with 2 Axes>"
      ]
     },
     "metadata": {},
     "output_type": "display_data"
    },
    {
     "name": "stderr",
     "output_type": "stream",
     "text": [
      "2025-03-05 13:29:18,999 - INFO - Classification Report:\n",
      "              precision    recall  f1-score   support\n",
      "\n",
      "       0-200       0.88      1.00      0.93        57\n",
      "     200-300       0.83      0.87      0.85        60\n",
      "     300-400       0.84      0.82      0.83        60\n",
      "     400-500       0.95      0.67      0.78        60\n",
      "     500-600       0.60      0.92      0.72        60\n",
      "     600-700       0.39      0.28      0.33        60\n",
      "        700+       0.37      0.29      0.33        34\n",
      "\n",
      "    accuracy                           0.72       391\n",
      "   macro avg       0.69      0.69      0.68       391\n",
      "weighted avg       0.71      0.72      0.70       391\n",
      "\n"
     ]
    }
   ],
   "source": [
    "from src.evaluation import evaluate_classification_model\n",
    "\n",
    "labels = [\"0-200\", \"200-300\", \"300-400\", \"400-500\", \"500-600\", \"600-700\", \"700+\"]\n",
    "\n",
    "test_loss, test_accuracy, y_pred = evaluate_classification_model(cnn_model, X_test, y_test, labels=labels)"
   ]
  },
  {
   "cell_type": "code",
   "execution_count": null,
   "metadata": {},
   "outputs": [],
   "source": []
  }
 ],
 "metadata": {
  "kernelspec": {
   "display_name": "Python (D2D_env)",
   "language": "python",
   "name": "d2d_env"
  },
  "language_info": {
   "codemirror_mode": {
    "name": "ipython",
    "version": 3
   },
   "file_extension": ".py",
   "mimetype": "text/x-python",
   "name": "python",
   "nbconvert_exporter": "python",
   "pygments_lexer": "ipython3",
   "version": "3.11.9"
  }
 },
 "nbformat": 4,
 "nbformat_minor": 2
}
