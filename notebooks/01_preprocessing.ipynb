{
 "cells": [
  {
   "cell_type": "markdown",
   "metadata": {},
   "source": [
    "# Preprocessing"
   ]
  },
  {
   "cell_type": "code",
   "execution_count": 1,
   "metadata": {},
   "outputs": [],
   "source": [
    "# Aachen dataset\n",
    "\n",
    "# Set root directory of the project as the current working directory\n",
    "import os\n",
    "initial_dir = os.getcwd()  # Save initial directory (notebooks/)\n",
    "os.chdir('..')  # Move to project/\n",
    "\n",
    "# Import Config from config.defaults and preprocess_aachen_dataset from src.preprocessing\n",
    "from config.defaults import Config\n",
    "from src.preprocessing import preprocess_aachen_dataset\n",
    "\n",
    "# Load the default configuration\n",
    "config = Config()\n",
    "\n",
    "# Preprocess the dataset for regression\n",
    "preprocess_aachen_dataset(config)\n",
    "\n",
    "# Preprocess the dataset for classification\n",
    "config.classification = True \n",
    "preprocess_aachen_dataset(config)"
   ]
  },
  {
   "cell_type": "code",
   "execution_count": 1,
   "metadata": {},
   "outputs": [
    {
     "name": "stderr",
     "output_type": "stream",
     "text": [
      "/Users/johannesherstad/Master_Herstad-Gjerdingen/src/preprocessing.py:325: FutureWarning: Series.fillna with 'method' is deprecated and will raise in a future version. Use obj.ffill() or obj.bfill() instead.\n",
      "  seq = pd.Series(seq).interpolate(method='linear', limit_direction='both').fillna(method='bfill').fillna(method='ffill').values\n"
     ]
    },
    {
     "name": "stdout",
     "output_type": "stream",
     "text": [
      "Preprocessing complete! Data saved in data/MIT_Stanford/processed/\n"
     ]
    },
    {
     "name": "stderr",
     "output_type": "stream",
     "text": [
      "/Users/johannesherstad/Master_Herstad-Gjerdingen/src/preprocessing.py:325: FutureWarning: Series.fillna with 'method' is deprecated and will raise in a future version. Use obj.ffill() or obj.bfill() instead.\n",
      "  seq = pd.Series(seq).interpolate(method='linear', limit_direction='both').fillna(method='bfill').fillna(method='ffill').values\n",
      "/Users/johannesherstad/Master_Herstad-Gjerdingen/src/preprocessing.py:447: FutureWarning: The default value of 'ignore' for the `na_action` parameter in pandas.Categorical.map is deprecated and will be changed to 'None' in a future version. Please set na_action to the desired value to avoid seeing this warning\n",
      "  y_train_int = cat_y_train.map(label_mapping).astype(int)\n",
      "/Users/johannesherstad/Master_Herstad-Gjerdingen/src/preprocessing.py:448: FutureWarning: The default value of 'ignore' for the `na_action` parameter in pandas.Categorical.map is deprecated and will be changed to 'None' in a future version. Please set na_action to the desired value to avoid seeing this warning\n",
      "  y_val_int = cat_y_val.map(label_mapping).astype(int)\n",
      "/Users/johannesherstad/Master_Herstad-Gjerdingen/src/preprocessing.py:449: FutureWarning: The default value of 'ignore' for the `na_action` parameter in pandas.Categorical.map is deprecated and will be changed to 'None' in a future version. Please set na_action to the desired value to avoid seeing this warning\n",
      "  y_test_int = cat_y_test.map(label_mapping).astype(int)\n"
     ]
    },
    {
     "name": "stdout",
     "output_type": "stream",
     "text": [
      "Preprocessing complete! Data saved in data/MIT_Stanford/processed/\n"
     ]
    }
   ],
   "source": [
    "# Set root directory of the project as the current working directory\n",
    "import os\n",
    "initial_dir = os.getcwd()  # Save initial directory (notebooks/)\n",
    "os.chdir('..')  # Move to project root\n",
    "\n",
    "# Import Config and preprocessing functions\n",
    "from config.defaults import Config\n",
    "from src.preprocessing import preprocess_mit_stanford_dataset\n",
    "\n",
    "# Load the default configuration\n",
    "config = Config()\n",
    "\n",
    "# Preprocess MIT-Stanford dataset for regression\n",
    "config.classification = False  \n",
    "preprocess_mit_stanford_dataset(config)\n",
    "\n",
    "# Preprocess MIT-Stanford dataset for classification\n",
    "config.classification = True\n",
    "preprocess_mit_stanford_dataset(config)\n"
   ]
  },
  {
   "cell_type": "code",
   "execution_count": null,
   "metadata": {},
   "outputs": [],
   "source": []
  }
 ],
 "metadata": {
  "kernelspec": {
   "display_name": "D2D_env",
   "language": "python",
   "name": "python3"
  },
  "language_info": {
   "codemirror_mode": {
    "name": "ipython",
    "version": 3
   },
   "file_extension": ".py",
   "mimetype": "text/x-python",
   "name": "python",
   "nbconvert_exporter": "python",
   "pygments_lexer": "ipython3",
   "version": "3.11.9"
  }
 },
 "nbformat": 4,
 "nbformat_minor": 2
}
