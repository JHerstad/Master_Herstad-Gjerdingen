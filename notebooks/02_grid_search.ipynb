{
 "cells": [
  {
   "cell_type": "markdown",
   "metadata": {},
   "source": [
    "# Grid Search"
   ]
  },
  {
   "cell_type": "code",
   "execution_count": 1,
   "metadata": {},
   "outputs": [],
   "source": [
    "# Set root directory of the project as the current working directory\n",
    "import os\n",
    "initial_dir = os.getcwd()  # Save initial directory (notebooks/)\n",
    "os.chdir('..')  # Move to project/\n",
    "\n",
    "# Import Config from config.defaults, run_hyperparameter_search from src.grid_search and load_preprocessed_data from src.models\n",
    "from config.defaults import Config\n",
    "from src.grid_search import run_hyperparameter_search\n",
    "from src.models import load_preprocessed_data\n",
    "\n",
    "# Load the default configuration\n",
    "config = Config()"
   ]
  },
  {
   "cell_type": "markdown",
   "metadata": {},
   "source": [
    "## LSTM"
   ]
  },
  {
   "cell_type": "code",
   "execution_count": 3,
   "metadata": {},
   "outputs": [
    {
     "name": "stderr",
     "output_type": "stream",
     "text": [
      "2025-03-25 10:42:58,395 - INFO - Best hyperparameters found: {'lstm_units': 48, 'lstm_dropout_rate': 0.1, 'lstm_dense_units': 16, 'learning_rate': 0.01, 'clipnorm': 1.0}\n",
      "2025-03-25 10:42:58,396 - INFO - Best hyperparameters saved to: experiments/hyperparameter_tuning/Experiment1_lstm_regression_tuning_eol80_best_params.json\n"
     ]
    },
    {
     "name": "stdout",
     "output_type": "stream",
     "text": [
      "Trial 20 Complete [00h 01m 00s]\n",
      "val_loss: 0.009228862822055817\n",
      "\n",
      "Best val_loss So Far: 0.006055440288037062\n",
      "Total elapsed time: 00h 21m 35s\n"
     ]
    },
    {
     "name": "stderr",
     "output_type": "stream",
     "text": [
      "/Users/johannesherstad/miniconda3/envs/D2D_env/lib/python3.11/site-packages/keras/src/saving/saving_lib.py:757: UserWarning: Skipping variable loading for optimizer 'adam', because it has 2 variables whereas the saved optimizer has 16 variables. \n",
      "  saveable.load_own_variables(weights_store.get(inner_path))\n",
      "2025-03-25 10:42:58,971 - INFO - Best model saved to: models/MIT_Stanford_lstm_regression.keras\n"
     ]
    },
    {
     "data": {
      "text/plain": [
       "{'lstm_units': 48,\n",
       " 'lstm_dropout_rate': 0.1,\n",
       " 'lstm_dense_units': 16,\n",
       " 'learning_rate': 0.01,\n",
       " 'clipnorm': 1.0}"
      ]
     },
     "execution_count": 3,
     "metadata": {},
     "output_type": "execute_result"
    }
   ],
   "source": [
    "model_task = \"lstm_regression\"\n",
    "dataset = \"MIT_Stanford\"\n",
    "\n",
    "\n",
    "# Load preprocessed data\n",
    "\"\"\"X_train, X_val, X_test, y_train, y_val, y_test, metadata = load_preprocessed_data(\n",
    "    model_task, config.eol_capacity, dataset=dataset)\"\"\"\n",
    "\n",
    "run_hyperparameter_search(config, dataset, model_task)"
   ]
  },
  {
   "cell_type": "markdown",
   "metadata": {},
   "source": [
    "## CNN"
   ]
  },
  {
   "cell_type": "code",
   "execution_count": 5,
   "metadata": {},
   "outputs": [
    {
     "name": "stderr",
     "output_type": "stream",
     "text": [
      "2025-03-31 13:17:29,487 - INFO - Best hyperparameters found: {'conv1_filters': 48, 'conv1_kernel_size': 5, 'l2_reg': 0.0005, 'conv2_filters': 48, 'conv2_kernel_size': 5, 'cnn_dense_units': 64, 'cnn_dropout_rate': 0.5, 'learning_rate': 0.001}\n",
      "2025-03-31 13:17:29,488 - INFO - Best hyperparameters saved to: experiments/hyperparameter_tuning/Experiment1_cnn_classification_tuning_eol80_best_params.json\n"
     ]
    },
    {
     "name": "stdout",
     "output_type": "stream",
     "text": [
      "Trial 20 Complete [00h 00m 40s]\n",
      "val_loss: 0.6426928043365479\n",
      "\n",
      "Best val_loss So Far: 0.5330769419670105\n",
      "Total elapsed time: 00h 12m 22s\n"
     ]
    },
    {
     "name": "stderr",
     "output_type": "stream",
     "text": [
      "2025-03-31 13:17:29,865 - INFO - Best model saved to: models/MIT_Stanford_cnn_classification.keras\n"
     ]
    },
    {
     "data": {
      "text/plain": [
       "{'conv1_filters': 48,\n",
       " 'conv1_kernel_size': 5,\n",
       " 'l2_reg': 0.0005,\n",
       " 'conv2_filters': 48,\n",
       " 'conv2_kernel_size': 5,\n",
       " 'cnn_dense_units': 64,\n",
       " 'cnn_dropout_rate': 0.5,\n",
       " 'learning_rate': 0.001}"
      ]
     },
     "execution_count": 5,
     "metadata": {},
     "output_type": "execute_result"
    }
   ],
   "source": [
    "model_task = \"cnn_classification\"\n",
    "dataset = \"MIT_Stanford\"\n",
    "\n",
    "\n",
    "\n",
    "run_hyperparameter_search(config, dataset, model_task)"
   ]
  },
  {
   "cell_type": "code",
   "execution_count": null,
   "metadata": {},
   "outputs": [],
   "source": []
  }
 ],
 "metadata": {
  "kernelspec": {
   "display_name": "D2D_env",
   "language": "python",
   "name": "python3"
  },
  "language_info": {
   "codemirror_mode": {
    "name": "ipython",
    "version": 3
   },
   "file_extension": ".py",
   "mimetype": "text/x-python",
   "name": "python",
   "nbconvert_exporter": "python",
   "pygments_lexer": "ipython3",
   "version": "3.11.9"
  }
 },
 "nbformat": 4,
 "nbformat_minor": 2
}
