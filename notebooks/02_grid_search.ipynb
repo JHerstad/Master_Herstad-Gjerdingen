{
 "cells": [
  {
   "cell_type": "markdown",
   "metadata": {},
   "source": [
    "# Grid Search"
   ]
  },
  {
   "cell_type": "code",
   "execution_count": 1,
   "metadata": {},
   "outputs": [],
   "source": [
    "# Set root directory of the project as the current working directory\n",
    "import os\n",
    "initial_dir = os.getcwd()  # Save initial directory (notebooks/)\n",
    "os.chdir('..')  # Move to project/\n",
    "\n",
    "# Import Config from config.defaults, run_hyperparameter_search from src.grid_search and load_preprocessed_data from src.models\n",
    "from config.defaults import Config\n",
    "from src.grid_search import run_hyperparameter_search, run_grid_search_models\n",
    "from src.models import load_preprocessed_data\n",
    "\n",
    "# Load the default configuration\n",
    "config = Config()"
   ]
  },
  {
   "cell_type": "markdown",
   "metadata": {},
   "source": [
    "## MIT_Stanford"
   ]
  },
  {
   "cell_type": "code",
   "execution_count": null,
   "metadata": {},
   "outputs": [],
   "source": [
    "config.use_aachen = True # Activate MIT_Stanford dataset"
   ]
  },
  {
   "cell_type": "markdown",
   "metadata": {},
   "source": [
    "### LSTM"
   ]
  },
  {
   "cell_type": "code",
   "execution_count": null,
   "metadata": {},
   "outputs": [],
   "source": [
    "config.model_task = \"lstm_regression\""
   ]
  },
  {
   "cell_type": "code",
   "execution_count": 3,
   "metadata": {},
   "outputs": [
    {
     "name": "stderr",
     "output_type": "stream",
     "text": [
      "2025-04-22 08:40:55,399 - INFO - Running hyperparameter search for: lstm_regression\n",
      "2025-04-22 08:40:55,400 - INFO - Loading preprocessed data for hyperparameter tuning with lstm_regression...\n",
      "2025-04-22 08:40:55,405 - INFO - Loaded preprocessed data and metadata for lstm_regression with EOL 0.8\n",
      "2025-04-22 08:40:55,406 - INFO - Input shape: (20, 1), X_train shape: (13690, 20, 1), y_train shape: (13690,)\n",
      "2025-04-22 08:40:55,422 - INFO - Starting hyperparameter tuning...\n",
      "2025-04-22 08:40:55,423 - INFO - Best hyperparameters found: {'lstm_units': 48, 'lstm_dropout_rate': 0.30000000000000004, 'lstm_dense_units': 8, 'learning_rate': 0.01, 'clipnorm': 1.0}\n",
      "2025-04-22 08:40:55,424 - INFO - Best hyperparameters saved to: experiments/hyperparameter_tuning/mit_stanford/Experiment1_lstm_regression_tuning_eol80_best_params.json\n"
     ]
    },
    {
     "name": "stdout",
     "output_type": "stream",
     "text": [
      "Reloading Tuner from experiments/hyperparameter_tuning/mit_stanford/Experiment1_lstm_regression_tuning_eol80/tuner0.json\n"
     ]
    },
    {
     "data": {
      "text/plain": [
       "{'lstm_units': 48,\n",
       " 'lstm_dropout_rate': 0.30000000000000004,\n",
       " 'lstm_dense_units': 8,\n",
       " 'learning_rate': 0.01,\n",
       " 'clipnorm': 1.0}"
      ]
     },
     "execution_count": 3,
     "metadata": {},
     "output_type": "execute_result"
    }
   ],
   "source": [
    "run_hyperparameter_search(config)"
   ]
  },
  {
   "cell_type": "markdown",
   "metadata": {},
   "source": [
    "### CNN"
   ]
  },
  {
   "cell_type": "code",
   "execution_count": null,
   "metadata": {},
   "outputs": [],
   "source": [
    "config.model_task = \"cnn_classification\""
   ]
  },
  {
   "cell_type": "code",
   "execution_count": 5,
   "metadata": {},
   "outputs": [
    {
     "name": "stderr",
     "output_type": "stream",
     "text": [
      "2025-04-22 08:45:26,521 - INFO - Best hyperparameters found: {'conv1_filters': 48, 'conv1_kernel_size': 7, 'l2_reg': 0.001, 'conv2_filters': 48, 'conv2_kernel_size': 5, 'cnn_dense_units': 64, 'cnn_dropout_rate': 0.3, 'learning_rate': 0.001}\n",
      "2025-04-22 08:45:26,522 - INFO - Best hyperparameters saved to: experiments/hyperparameter_tuning/aachen/Experiment1_cnn_classification_tuning_eol80_best_params.json\n"
     ]
    },
    {
     "name": "stdout",
     "output_type": "stream",
     "text": [
      "Trial 20 Complete [00h 00m 15s]\n",
      "val_loss: 0.6528729796409607\n",
      "\n",
      "Best val_loss So Far: 0.64618319272995\n",
      "Total elapsed time: 00h 36m 15s\n"
     ]
    },
    {
     "data": {
      "text/plain": [
       "{'conv1_filters': 48,\n",
       " 'conv1_kernel_size': 7,\n",
       " 'l2_reg': 0.001,\n",
       " 'conv2_filters': 48,\n",
       " 'conv2_kernel_size': 5,\n",
       " 'cnn_dense_units': 64,\n",
       " 'cnn_dropout_rate': 0.3,\n",
       " 'learning_rate': 0.001}"
      ]
     },
     "execution_count": 5,
     "metadata": {},
     "output_type": "execute_result"
    }
   ],
   "source": [
    "run_hyperparameter_search(config)"
   ]
  },
  {
   "cell_type": "markdown",
   "metadata": {},
   "source": [
    "### DecisionTreeRegressor"
   ]
  },
  {
   "cell_type": "code",
   "execution_count": null,
   "metadata": {},
   "outputs": [
    {
     "name": "stderr",
     "output_type": "stream",
     "text": [
      "2025-04-10 12:48:29,342 - INFO - Loaded preprocessed data and metadata for dt_regression with EOL 0.8\n",
      "2025-04-10 12:48:32,415 - INFO - Best Decision Tree parameters: {'max_depth': 4, 'min_samples_leaf': 1, 'min_samples_split': 2}\n",
      "2025-04-10 12:48:32,421 - INFO - Best hyperparameters saved to: experiments/hyperparameter_tuning/mit_stanford/Experiment1_dt_regression_tuning_eol80_best_params.json\n"
     ]
    },
    {
     "data": {
      "text/plain": [
       "{'max_depth': 4, 'min_samples_leaf': 1, 'min_samples_split': 2}"
      ]
     },
     "execution_count": 2,
     "metadata": {},
     "output_type": "execute_result"
    }
   ],
   "source": [
    "config.model_task = \"dt_regression\"\n",
    "\n",
    "run_grid_search_models(config)"
   ]
  },
  {
   "cell_type": "markdown",
   "metadata": {},
   "source": [
    "### LinearRegression"
   ]
  },
  {
   "cell_type": "code",
   "execution_count": null,
   "metadata": {},
   "outputs": [
    {
     "name": "stderr",
     "output_type": "stream",
     "text": [
      "2025-04-09 20:49:10,728 - INFO - Loaded preprocessed data and metadata for lr_regression with EOL 0.8\n",
      "2025-04-09 20:49:13,176 - INFO - Best Linear Regression parameters: {'fit_intercept': True}\n",
      "2025-04-09 20:49:13,179 - INFO - Best hyperparameters saved to: experiments/hyperparameter_tuning/mit_stanford/Experiment1_lr_regression_tuning_eol80_best_params.json\n"
     ]
    },
    {
     "data": {
      "text/plain": [
       "{'fit_intercept': True}"
      ]
     },
     "execution_count": 4,
     "metadata": {},
     "output_type": "execute_result"
    }
   ],
   "source": [
    "config.model_task = \"lr_regression\"\n",
    "\n",
    "run_grid_search_models(config)"
   ]
  },
  {
   "cell_type": "markdown",
   "metadata": {},
   "source": [
    "### LassoRegression"
   ]
  },
  {
   "cell_type": "code",
   "execution_count": null,
   "metadata": {},
   "outputs": [
    {
     "name": "stderr",
     "output_type": "stream",
     "text": [
      "2025-04-09 20:49:17,336 - INFO - Loaded preprocessed data and metadata for lasso_regression with EOL 0.8\n",
      "/opt/miniconda3/envs/D2D_env/lib/python3.11/site-packages/sklearn/linear_model/_coordinate_descent.py:697: ConvergenceWarning: Objective did not converge. You might want to increase the number of iterations, check the scale of the features or consider increasing regularisation. Duality gap: 2.043e+00, tolerance: 3.142e-02\n",
      "  model = cd_fast.enet_coordinate_descent(\n",
      "/opt/miniconda3/envs/D2D_env/lib/python3.11/site-packages/sklearn/linear_model/_coordinate_descent.py:697: ConvergenceWarning: Objective did not converge. You might want to increase the number of iterations, check the scale of the features or consider increasing regularisation. Duality gap: 1.324e-01, tolerance: 3.168e-02\n",
      "  model = cd_fast.enet_coordinate_descent(\n",
      "/opt/miniconda3/envs/D2D_env/lib/python3.11/site-packages/sklearn/linear_model/_coordinate_descent.py:697: ConvergenceWarning: Objective did not converge. You might want to increase the number of iterations, check the scale of the features or consider increasing regularisation. Duality gap: 9.987e-01, tolerance: 3.169e-02\n",
      "  model = cd_fast.enet_coordinate_descent(\n",
      "/opt/miniconda3/envs/D2D_env/lib/python3.11/site-packages/sklearn/linear_model/_coordinate_descent.py:697: ConvergenceWarning: Objective did not converge. You might want to increase the number of iterations, check the scale of the features or consider increasing regularisation. Duality gap: 5.088e-01, tolerance: 3.202e-02\n",
      "  model = cd_fast.enet_coordinate_descent(\n",
      "/opt/miniconda3/envs/D2D_env/lib/python3.11/site-packages/sklearn/linear_model/_coordinate_descent.py:697: ConvergenceWarning: Objective did not converge. You might want to increase the number of iterations, check the scale of the features or consider increasing regularisation. Duality gap: 5.088e-01, tolerance: 3.202e-01\n",
      "  model = cd_fast.enet_coordinate_descent(\n",
      "/opt/miniconda3/envs/D2D_env/lib/python3.11/site-packages/sklearn/linear_model/_coordinate_descent.py:697: ConvergenceWarning: Objective did not converge. You might want to increase the number of iterations, check the scale of the features or consider increasing regularisation. Duality gap: 1.732e-01, tolerance: 3.153e-02\n",
      "  model = cd_fast.enet_coordinate_descent(\n",
      "/opt/miniconda3/envs/D2D_env/lib/python3.11/site-packages/sklearn/linear_model/_coordinate_descent.py:697: ConvergenceWarning: Objective did not converge. You might want to increase the number of iterations, check the scale of the features or consider increasing regularisation. Duality gap: 2.043e+00, tolerance: 3.142e-01\n",
      "  model = cd_fast.enet_coordinate_descent(\n",
      "/opt/miniconda3/envs/D2D_env/lib/python3.11/site-packages/sklearn/linear_model/_coordinate_descent.py:697: ConvergenceWarning: Objective did not converge. You might want to increase the number of iterations, check the scale of the features or consider increasing regularisation. Duality gap: 9.987e-01, tolerance: 3.169e-01\n",
      "  model = cd_fast.enet_coordinate_descent(\n",
      "/opt/miniconda3/envs/D2D_env/lib/python3.11/site-packages/sklearn/linear_model/_coordinate_descent.py:697: ConvergenceWarning: Objective did not converge. You might want to increase the number of iterations, check the scale of the features or consider increasing regularisation. Duality gap: 1.558e-01, tolerance: 3.169e-02\n",
      "  model = cd_fast.enet_coordinate_descent(\n",
      "/opt/miniconda3/envs/D2D_env/lib/python3.11/site-packages/sklearn/linear_model/_coordinate_descent.py:697: ConvergenceWarning: Objective did not converge. You might want to increase the number of iterations, check the scale of the features or consider increasing regularisation. Duality gap: 2.067e+00, tolerance: 3.142e-02\n",
      "  model = cd_fast.enet_coordinate_descent(\n",
      "/opt/miniconda3/envs/D2D_env/lib/python3.11/site-packages/sklearn/linear_model/_coordinate_descent.py:697: ConvergenceWarning: Objective did not converge. You might want to increase the number of iterations, check the scale of the features or consider increasing regularisation. Duality gap: 8.975e-01, tolerance: 3.153e-02\n",
      "  model = cd_fast.enet_coordinate_descent(\n",
      "/opt/miniconda3/envs/D2D_env/lib/python3.11/site-packages/sklearn/linear_model/_coordinate_descent.py:697: ConvergenceWarning: Objective did not converge. You might want to increase the number of iterations, check the scale of the features or consider increasing regularisation. Duality gap: 2.129e+00, tolerance: 3.202e-01\n",
      "  model = cd_fast.enet_coordinate_descent(\n",
      "/opt/miniconda3/envs/D2D_env/lib/python3.11/site-packages/sklearn/linear_model/_coordinate_descent.py:697: ConvergenceWarning: Objective did not converge. You might want to increase the number of iterations, check the scale of the features or consider increasing regularisation. Duality gap: 9.569e+00, tolerance: 3.202e-02\n",
      "  model = cd_fast.enet_coordinate_descent(\n",
      "/opt/miniconda3/envs/D2D_env/lib/python3.11/site-packages/sklearn/linear_model/_coordinate_descent.py:697: ConvergenceWarning: Objective did not converge. You might want to increase the number of iterations, check the scale of the features or consider increasing regularisation. Duality gap: 5.315e-01, tolerance: 3.168e-02\n",
      "  model = cd_fast.enet_coordinate_descent(\n",
      "/opt/miniconda3/envs/D2D_env/lib/python3.11/site-packages/sklearn/linear_model/_coordinate_descent.py:697: ConvergenceWarning: Objective did not converge. You might want to increase the number of iterations, check the scale of the features or consider increasing regularisation. Duality gap: 6.191e-02, tolerance: 3.202e-02\n",
      "  model = cd_fast.enet_coordinate_descent(\n",
      "/opt/miniconda3/envs/D2D_env/lib/python3.11/site-packages/sklearn/linear_model/_coordinate_descent.py:697: ConvergenceWarning: Objective did not converge. You might want to increase the number of iterations, check the scale of the features or consider increasing regularisation. Duality gap: 2.760e-01, tolerance: 3.142e-02\n",
      "  model = cd_fast.enet_coordinate_descent(\n",
      "2025-04-09 20:49:19,132 - INFO - Best Lasso Regression parameters: {'alpha': 0.0001, 'max_iter': 5000, 'selection': 'cyclic', 'tol': 0.001}\n",
      "2025-04-09 20:49:19,133 - INFO - Best hyperparameters saved to: experiments/hyperparameter_tuning/mit_stanford/Experiment1_lasso_regression_tuning_eol80_best_params.json\n"
     ]
    },
    {
     "data": {
      "text/plain": [
       "{'alpha': 0.0001, 'max_iter': 5000, 'selection': 'cyclic', 'tol': 0.001}"
      ]
     },
     "execution_count": 5,
     "metadata": {},
     "output_type": "execute_result"
    }
   ],
   "source": [
    "config.model_task = \"lasso_regression\"\n",
    "\n",
    "run_grid_search_models(config)"
   ]
  },
  {
   "cell_type": "markdown",
   "metadata": {},
   "source": [
    "## AAchen"
   ]
  },
  {
   "cell_type": "code",
   "execution_count": null,
   "metadata": {},
   "outputs": [],
   "source": [
    "config.use_aachen = True # Activate Aachen dataset"
   ]
  },
  {
   "cell_type": "markdown",
   "metadata": {},
   "source": [
    "### LSTM"
   ]
  },
  {
   "cell_type": "code",
   "execution_count": null,
   "metadata": {},
   "outputs": [
    {
     "name": "stderr",
     "output_type": "stream",
     "text": [
      "2025-04-09 14:28:35,902 - INFO - Best hyperparameters found: {'lstm_units': 16, 'lstm_dropout_rate': 0.1, 'lstm_dense_units': 16, 'learning_rate': 0.01, 'clipnorm': 1.0}\n",
      "2025-04-09 14:28:35,903 - INFO - Best hyperparameters saved to: experiments/hyperparameter_tuning/aachen/Experiment1_lstm_regression_tuning_eol80_best_params.json\n"
     ]
    },
    {
     "name": "stdout",
     "output_type": "stream",
     "text": [
      "Trial 20 Complete [00h 00m 26s]\n",
      "val_loss: 0.0036813088227063417\n",
      "\n",
      "Best val_loss So Far: 0.0035196144599467516\n",
      "Total elapsed time: 00h 08m 45s\n"
     ]
    },
    {
     "data": {
      "text/plain": [
       "{'lstm_units': 16,\n",
       " 'lstm_dropout_rate': 0.1,\n",
       " 'lstm_dense_units': 16,\n",
       " 'learning_rate': 0.01,\n",
       " 'clipnorm': 1.0}"
      ]
     },
     "execution_count": 4,
     "metadata": {},
     "output_type": "execute_result"
    }
   ],
   "source": [
    "config.model_task = \"lstm_regression\"\n",
    "\n",
    "run_hyperparameter_search(config)"
   ]
  },
  {
   "cell_type": "markdown",
   "metadata": {},
   "source": [
    "### CNN"
   ]
  },
  {
   "cell_type": "code",
   "execution_count": null,
   "metadata": {},
   "outputs": [],
   "source": [
    "config.model_task = \"cnn_classification\""
   ]
  },
  {
   "cell_type": "code",
   "execution_count": null,
   "metadata": {},
   "outputs": [
    {
     "name": "stderr",
     "output_type": "stream",
     "text": [
      "2025-04-22 08:45:26,521 - INFO - Best hyperparameters found: {'conv1_filters': 48, 'conv1_kernel_size': 7, 'l2_reg': 0.001, 'conv2_filters': 48, 'conv2_kernel_size': 5, 'cnn_dense_units': 64, 'cnn_dropout_rate': 0.3, 'learning_rate': 0.001}\n",
      "2025-04-22 08:45:26,522 - INFO - Best hyperparameters saved to: experiments/hyperparameter_tuning/aachen/Experiment1_cnn_classification_tuning_eol80_best_params.json\n"
     ]
    },
    {
     "name": "stdout",
     "output_type": "stream",
     "text": [
      "Trial 20 Complete [00h 00m 15s]\n",
      "val_loss: 0.6528729796409607\n",
      "\n",
      "Best val_loss So Far: 0.64618319272995\n",
      "Total elapsed time: 00h 36m 15s\n"
     ]
    },
    {
     "data": {
      "text/plain": [
       "{'conv1_filters': 48,\n",
       " 'conv1_kernel_size': 7,\n",
       " 'l2_reg': 0.001,\n",
       " 'conv2_filters': 48,\n",
       " 'conv2_kernel_size': 5,\n",
       " 'cnn_dense_units': 64,\n",
       " 'cnn_dropout_rate': 0.3,\n",
       " 'learning_rate': 0.001}"
      ]
     },
     "metadata": {},
     "output_type": "display_data"
    }
   ],
   "source": [
    "run_hyperparameter_search(config)"
   ]
  },
  {
   "cell_type": "markdown",
   "metadata": {},
   "source": [
    "### DecisionTreeRegressor"
   ]
  },
  {
   "cell_type": "code",
   "execution_count": null,
   "metadata": {},
   "outputs": [
    {
     "name": "stderr",
     "output_type": "stream",
     "text": [
      "2025-04-10 12:48:29,342 - INFO - Loaded preprocessed data and metadata for dt_regression with EOL 0.8\n",
      "2025-04-10 12:48:32,415 - INFO - Best Decision Tree parameters: {'max_depth': 4, 'min_samples_leaf': 1, 'min_samples_split': 2}\n",
      "2025-04-10 12:48:32,421 - INFO - Best hyperparameters saved to: experiments/hyperparameter_tuning/mit_stanford/Experiment1_dt_regression_tuning_eol80_best_params.json\n"
     ]
    },
    {
     "data": {
      "text/plain": [
       "{'max_depth': 4, 'min_samples_leaf': 1, 'min_samples_split': 2}"
      ]
     },
     "metadata": {},
     "output_type": "display_data"
    }
   ],
   "source": [
    "config.model_task = \"dt_regression\"\n",
    "\n",
    "run_grid_search_models(config)"
   ]
  },
  {
   "cell_type": "markdown",
   "metadata": {},
   "source": [
    "### LinearRegression"
   ]
  },
  {
   "cell_type": "code",
   "execution_count": null,
   "metadata": {},
   "outputs": [
    {
     "name": "stderr",
     "output_type": "stream",
     "text": [
      "2025-04-09 20:49:10,728 - INFO - Loaded preprocessed data and metadata for lr_regression with EOL 0.8\n",
      "2025-04-09 20:49:13,176 - INFO - Best Linear Regression parameters: {'fit_intercept': True}\n",
      "2025-04-09 20:49:13,179 - INFO - Best hyperparameters saved to: experiments/hyperparameter_tuning/mit_stanford/Experiment1_lr_regression_tuning_eol80_best_params.json\n"
     ]
    },
    {
     "data": {
      "text/plain": [
       "{'fit_intercept': True}"
      ]
     },
     "metadata": {},
     "output_type": "display_data"
    }
   ],
   "source": [
    "config.model_task = \"lr_regression\"\n",
    "\n",
    "run_grid_search_models(config)"
   ]
  },
  {
   "cell_type": "markdown",
   "metadata": {},
   "source": [
    "### LassoRegression"
   ]
  },
  {
   "cell_type": "code",
   "execution_count": null,
   "metadata": {},
   "outputs": [
    {
     "name": "stderr",
     "output_type": "stream",
     "text": [
      "2025-04-09 20:49:17,336 - INFO - Loaded preprocessed data and metadata for lasso_regression with EOL 0.8\n",
      "/opt/miniconda3/envs/D2D_env/lib/python3.11/site-packages/sklearn/linear_model/_coordinate_descent.py:697: ConvergenceWarning: Objective did not converge. You might want to increase the number of iterations, check the scale of the features or consider increasing regularisation. Duality gap: 2.043e+00, tolerance: 3.142e-02\n",
      "  model = cd_fast.enet_coordinate_descent(\n",
      "/opt/miniconda3/envs/D2D_env/lib/python3.11/site-packages/sklearn/linear_model/_coordinate_descent.py:697: ConvergenceWarning: Objective did not converge. You might want to increase the number of iterations, check the scale of the features or consider increasing regularisation. Duality gap: 1.324e-01, tolerance: 3.168e-02\n",
      "  model = cd_fast.enet_coordinate_descent(\n",
      "/opt/miniconda3/envs/D2D_env/lib/python3.11/site-packages/sklearn/linear_model/_coordinate_descent.py:697: ConvergenceWarning: Objective did not converge. You might want to increase the number of iterations, check the scale of the features or consider increasing regularisation. Duality gap: 9.987e-01, tolerance: 3.169e-02\n",
      "  model = cd_fast.enet_coordinate_descent(\n",
      "/opt/miniconda3/envs/D2D_env/lib/python3.11/site-packages/sklearn/linear_model/_coordinate_descent.py:697: ConvergenceWarning: Objective did not converge. You might want to increase the number of iterations, check the scale of the features or consider increasing regularisation. Duality gap: 5.088e-01, tolerance: 3.202e-02\n",
      "  model = cd_fast.enet_coordinate_descent(\n",
      "/opt/miniconda3/envs/D2D_env/lib/python3.11/site-packages/sklearn/linear_model/_coordinate_descent.py:697: ConvergenceWarning: Objective did not converge. You might want to increase the number of iterations, check the scale of the features or consider increasing regularisation. Duality gap: 5.088e-01, tolerance: 3.202e-01\n",
      "  model = cd_fast.enet_coordinate_descent(\n",
      "/opt/miniconda3/envs/D2D_env/lib/python3.11/site-packages/sklearn/linear_model/_coordinate_descent.py:697: ConvergenceWarning: Objective did not converge. You might want to increase the number of iterations, check the scale of the features or consider increasing regularisation. Duality gap: 1.732e-01, tolerance: 3.153e-02\n",
      "  model = cd_fast.enet_coordinate_descent(\n",
      "/opt/miniconda3/envs/D2D_env/lib/python3.11/site-packages/sklearn/linear_model/_coordinate_descent.py:697: ConvergenceWarning: Objective did not converge. You might want to increase the number of iterations, check the scale of the features or consider increasing regularisation. Duality gap: 2.043e+00, tolerance: 3.142e-01\n",
      "  model = cd_fast.enet_coordinate_descent(\n",
      "/opt/miniconda3/envs/D2D_env/lib/python3.11/site-packages/sklearn/linear_model/_coordinate_descent.py:697: ConvergenceWarning: Objective did not converge. You might want to increase the number of iterations, check the scale of the features or consider increasing regularisation. Duality gap: 9.987e-01, tolerance: 3.169e-01\n",
      "  model = cd_fast.enet_coordinate_descent(\n",
      "/opt/miniconda3/envs/D2D_env/lib/python3.11/site-packages/sklearn/linear_model/_coordinate_descent.py:697: ConvergenceWarning: Objective did not converge. You might want to increase the number of iterations, check the scale of the features or consider increasing regularisation. Duality gap: 1.558e-01, tolerance: 3.169e-02\n",
      "  model = cd_fast.enet_coordinate_descent(\n",
      "/opt/miniconda3/envs/D2D_env/lib/python3.11/site-packages/sklearn/linear_model/_coordinate_descent.py:697: ConvergenceWarning: Objective did not converge. You might want to increase the number of iterations, check the scale of the features or consider increasing regularisation. Duality gap: 2.067e+00, tolerance: 3.142e-02\n",
      "  model = cd_fast.enet_coordinate_descent(\n",
      "/opt/miniconda3/envs/D2D_env/lib/python3.11/site-packages/sklearn/linear_model/_coordinate_descent.py:697: ConvergenceWarning: Objective did not converge. You might want to increase the number of iterations, check the scale of the features or consider increasing regularisation. Duality gap: 8.975e-01, tolerance: 3.153e-02\n",
      "  model = cd_fast.enet_coordinate_descent(\n",
      "/opt/miniconda3/envs/D2D_env/lib/python3.11/site-packages/sklearn/linear_model/_coordinate_descent.py:697: ConvergenceWarning: Objective did not converge. You might want to increase the number of iterations, check the scale of the features or consider increasing regularisation. Duality gap: 2.129e+00, tolerance: 3.202e-01\n",
      "  model = cd_fast.enet_coordinate_descent(\n",
      "/opt/miniconda3/envs/D2D_env/lib/python3.11/site-packages/sklearn/linear_model/_coordinate_descent.py:697: ConvergenceWarning: Objective did not converge. You might want to increase the number of iterations, check the scale of the features or consider increasing regularisation. Duality gap: 9.569e+00, tolerance: 3.202e-02\n",
      "  model = cd_fast.enet_coordinate_descent(\n",
      "/opt/miniconda3/envs/D2D_env/lib/python3.11/site-packages/sklearn/linear_model/_coordinate_descent.py:697: ConvergenceWarning: Objective did not converge. You might want to increase the number of iterations, check the scale of the features or consider increasing regularisation. Duality gap: 5.315e-01, tolerance: 3.168e-02\n",
      "  model = cd_fast.enet_coordinate_descent(\n",
      "/opt/miniconda3/envs/D2D_env/lib/python3.11/site-packages/sklearn/linear_model/_coordinate_descent.py:697: ConvergenceWarning: Objective did not converge. You might want to increase the number of iterations, check the scale of the features or consider increasing regularisation. Duality gap: 6.191e-02, tolerance: 3.202e-02\n",
      "  model = cd_fast.enet_coordinate_descent(\n",
      "/opt/miniconda3/envs/D2D_env/lib/python3.11/site-packages/sklearn/linear_model/_coordinate_descent.py:697: ConvergenceWarning: Objective did not converge. You might want to increase the number of iterations, check the scale of the features or consider increasing regularisation. Duality gap: 2.760e-01, tolerance: 3.142e-02\n",
      "  model = cd_fast.enet_coordinate_descent(\n",
      "2025-04-09 20:49:19,132 - INFO - Best Lasso Regression parameters: {'alpha': 0.0001, 'max_iter': 5000, 'selection': 'cyclic', 'tol': 0.001}\n",
      "2025-04-09 20:49:19,133 - INFO - Best hyperparameters saved to: experiments/hyperparameter_tuning/mit_stanford/Experiment1_lasso_regression_tuning_eol80_best_params.json\n"
     ]
    },
    {
     "data": {
      "text/plain": [
       "{'alpha': 0.0001, 'max_iter': 5000, 'selection': 'cyclic', 'tol': 0.001}"
      ]
     },
     "metadata": {},
     "output_type": "display_data"
    }
   ],
   "source": [
    "config.model_task = \"lasso_regression\"\n",
    "\n",
    "run_grid_search_models(config)"
   ]
  }
 ],
 "metadata": {
  "kernelspec": {
   "display_name": "D2D_env",
   "language": "python",
   "name": "python3"
  },
  "language_info": {
   "codemirror_mode": {
    "name": "ipython",
    "version": 3
   },
   "file_extension": ".py",
   "mimetype": "text/x-python",
   "name": "python",
   "nbconvert_exporter": "python",
   "pygments_lexer": "ipython3",
   "version": "3.11.9"
  }
 },
 "nbformat": 4,
 "nbformat_minor": 2
}
