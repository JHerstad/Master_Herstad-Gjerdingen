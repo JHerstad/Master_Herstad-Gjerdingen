{
 "cells": [
  {
   "cell_type": "markdown",
   "metadata": {},
   "source": [
    "# Grid Search"
   ]
  },
  {
   "cell_type": "code",
   "execution_count": null,
   "metadata": {},
   "outputs": [],
   "source": [
    "# Set root directory of the project as the current working directory\n",
    "import os\n",
    "initial_dir = os.getcwd()  # Save initial directory (notebooks/)\n",
    "os.chdir('..')  # Move to project/\n",
    "\n",
    "# Import Config from config.defaults and run_hyperparameter_search from src.grid_search\n",
    "from config.defaults import Config\n",
    "from src.preprocessing import run_hyperparameter_search\n",
    "from src.models import load_preprocessed_data\n",
    "\n",
    "# Load the default configuration\n",
    "config = Config()"
   ]
  },
  {
   "cell_type": "markdown",
   "metadata": {},
   "source": [
    "## LSTM"
   ]
  },
  {
   "cell_type": "code",
   "execution_count": null,
   "metadata": {},
   "outputs": [],
   "source": [
    "model_task = \"lstm_regression\"\n",
    "\n",
    "# Load preprocessed data\n",
    "X_train, X_val, X_test, y_train, y_val, y_test, metadata = load_preprocessed_data(\n",
    "    model_task, config.eol_capacity\n",
    ")\n",
    "\n",
    "run_hyperparameter_search(config, model_task)"
   ]
  },
  {
   "cell_type": "markdown",
   "metadata": {},
   "source": [
    "## CNN"
   ]
  },
  {
   "cell_type": "code",
   "execution_count": null,
   "metadata": {},
   "outputs": [],
   "source": [
    "model_task = \"cnn_classification\"\n",
    "\n",
    "# Load preprocessed data\n",
    "X_train, X_val, X_test, y_train, y_val, y_test, metadata = load_preprocessed_data(\n",
    "    model_task, config.eol_capacity\n",
    ")\n",
    "\n",
    "run_hyperparameter_search(config, model_task)"
   ]
  }
 ],
 "metadata": {
  "kernelspec": {
   "display_name": "Python (D2D_env)",
   "language": "python",
   "name": "d2d_env"
  },
  "language_info": {
   "name": "python",
   "version": "3.11.9"
  }
 },
 "nbformat": 4,
 "nbformat_minor": 2
}
