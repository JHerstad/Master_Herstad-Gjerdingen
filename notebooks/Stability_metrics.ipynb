{
 "cells": [
  {
   "cell_type": "markdown",
   "metadata": {},
   "source": [
    "## Stability"
   ]
  },
  {
   "cell_type": "code",
   "execution_count": 1,
   "metadata": {},
   "outputs": [],
   "source": [
    "# Set root directory of the project as the current working directory\n",
    "import os\n",
    "initial_dir = os.getcwd()  # Save initial directory (notebooks/)\n",
    "os.chdir('..')  # Move to project/"
   ]
  },
  {
   "cell_type": "code",
   "execution_count": 2,
   "metadata": {},
   "outputs": [],
   "source": [
    "# Other imports\n",
    "import numpy as np\n",
    "import shap\n",
    "\n",
    "import logging\n",
    "logging.basicConfig(level=logging.WARNING)\n",
    "\n",
    "# Set the random seed for reproducibility\n",
    "np.random.seed(42)\n",
    "\n",
    "# Import Config from config.defaults and load_preprocessed_data, train_lstm_model, train_cnn_model from src.models\n",
    "from config.defaults import Config\n",
    "from src.models import load_saved_model, load_preprocessed_data\n",
    "from src.stability import (calculate_relative_input_stability, \n",
    "                            calculate_relative_representation_stability, \n",
    "                            calculate_relative_output_stability)\n",
    "from src.evaluation import evaluate_regression_model\n",
    "# Load the default configuration\n",
    "config = Config()\n",
    "model_task = 'lstm_regression'\n",
    "\n",
    "# Load preprocessed data\n",
    "X_train, X_val, X_test, y_train_reg, y_val_reg, y_test_reg, metadata = load_preprocessed_data(model_task = model_task, eol_capacity=config.eol_capacity)\n",
    "\n",
    "# Load saved LSTM model\n",
    "lstm_model = load_saved_model(model_task, config)\n",
    "\n",
    "def predict_wrapper(X):\n",
    "    print(\"Input shape to model:\", X.reshape(-1, X.shape[1], 1).shape)\n",
    "    return model.predict(X.reshape(-1, X.shape[1], 1), verbose=0)"
   ]
  },
  {
   "cell_type": "code",
   "execution_count": 3,
   "metadata": {},
   "outputs": [
    {
     "name": "stdout",
     "output_type": "stream",
     "text": [
      "\u001b[1m13/13\u001b[0m \u001b[32m━━━━━━━━━━━━━━━━━━━━\u001b[0m\u001b[37m\u001b[0m \u001b[1m0s\u001b[0m 3ms/step - loss: 0.0011 - mae: 0.0282  \n"
     ]
    },
    {
     "data": {
      "text/plain": [
       "(0.001062121824361384, 26.86453514391809)"
      ]
     },
     "execution_count": 3,
     "metadata": {},
     "output_type": "execute_result"
    }
   ],
   "source": [
    "evaluate_regression_model(lstm_model, X_test, y_test_reg, metadata[\"y_max\"])"
   ]
  },
  {
   "cell_type": "code",
   "execution_count": 4,
   "metadata": {},
   "outputs": [
    {
     "data": {
      "text/html": [
       "<pre style=\"white-space:pre;overflow-x:auto;line-height:normal;font-family:Menlo,'DejaVu Sans Mono',consolas,'Courier New',monospace\"><span style=\"font-weight: bold\">Model: \"functional\"</span>\n",
       "</pre>\n"
      ],
      "text/plain": [
       "\u001b[1mModel: \"functional\"\u001b[0m\n"
      ]
     },
     "metadata": {},
     "output_type": "display_data"
    },
    {
     "data": {
      "text/html": [
       "<pre style=\"white-space:pre;overflow-x:auto;line-height:normal;font-family:Menlo,'DejaVu Sans Mono',consolas,'Courier New',monospace\">┏━━━━━━━━━━━━━━━━━━━━━━━━━━━━━━━━━┳━━━━━━━━━━━━━━━━━━━━━━━━┳━━━━━━━━━━━━━━━┓\n",
       "┃<span style=\"font-weight: bold\"> Layer (type)                    </span>┃<span style=\"font-weight: bold\"> Output Shape           </span>┃<span style=\"font-weight: bold\">       Param # </span>┃\n",
       "┡━━━━━━━━━━━━━━━━━━━━━━━━━━━━━━━━━╇━━━━━━━━━━━━━━━━━━━━━━━━╇━━━━━━━━━━━━━━━┩\n",
       "│ input_layer (<span style=\"color: #0087ff; text-decoration-color: #0087ff\">InputLayer</span>)        │ (<span style=\"color: #00d7ff; text-decoration-color: #00d7ff\">None</span>, <span style=\"color: #00af00; text-decoration-color: #00af00\">120</span>, <span style=\"color: #00af00; text-decoration-color: #00af00\">1</span>)         │             <span style=\"color: #00af00; text-decoration-color: #00af00\">0</span> │\n",
       "├─────────────────────────────────┼────────────────────────┼───────────────┤\n",
       "│ lstm (<span style=\"color: #0087ff; text-decoration-color: #0087ff\">LSTM</span>)                     │ (<span style=\"color: #00d7ff; text-decoration-color: #00d7ff\">None</span>, <span style=\"color: #00af00; text-decoration-color: #00af00\">32</span>)             │         <span style=\"color: #00af00; text-decoration-color: #00af00\">4,352</span> │\n",
       "├─────────────────────────────────┼────────────────────────┼───────────────┤\n",
       "│ dropout (<span style=\"color: #0087ff; text-decoration-color: #0087ff\">Dropout</span>)               │ (<span style=\"color: #00d7ff; text-decoration-color: #00d7ff\">None</span>, <span style=\"color: #00af00; text-decoration-color: #00af00\">32</span>)             │             <span style=\"color: #00af00; text-decoration-color: #00af00\">0</span> │\n",
       "├─────────────────────────────────┼────────────────────────┼───────────────┤\n",
       "│ dense (<span style=\"color: #0087ff; text-decoration-color: #0087ff\">Dense</span>)                   │ (<span style=\"color: #00d7ff; text-decoration-color: #00d7ff\">None</span>, <span style=\"color: #00af00; text-decoration-color: #00af00\">16</span>)             │           <span style=\"color: #00af00; text-decoration-color: #00af00\">528</span> │\n",
       "├─────────────────────────────────┼────────────────────────┼───────────────┤\n",
       "│ dense_1 (<span style=\"color: #0087ff; text-decoration-color: #0087ff\">Dense</span>)                 │ (<span style=\"color: #00d7ff; text-decoration-color: #00d7ff\">None</span>, <span style=\"color: #00af00; text-decoration-color: #00af00\">1</span>)              │            <span style=\"color: #00af00; text-decoration-color: #00af00\">17</span> │\n",
       "└─────────────────────────────────┴────────────────────────┴───────────────┘\n",
       "</pre>\n"
      ],
      "text/plain": [
       "┏━━━━━━━━━━━━━━━━━━━━━━━━━━━━━━━━━┳━━━━━━━━━━━━━━━━━━━━━━━━┳━━━━━━━━━━━━━━━┓\n",
       "┃\u001b[1m \u001b[0m\u001b[1mLayer (type)                   \u001b[0m\u001b[1m \u001b[0m┃\u001b[1m \u001b[0m\u001b[1mOutput Shape          \u001b[0m\u001b[1m \u001b[0m┃\u001b[1m \u001b[0m\u001b[1m      Param #\u001b[0m\u001b[1m \u001b[0m┃\n",
       "┡━━━━━━━━━━━━━━━━━━━━━━━━━━━━━━━━━╇━━━━━━━━━━━━━━━━━━━━━━━━╇━━━━━━━━━━━━━━━┩\n",
       "│ input_layer (\u001b[38;5;33mInputLayer\u001b[0m)        │ (\u001b[38;5;45mNone\u001b[0m, \u001b[38;5;34m120\u001b[0m, \u001b[38;5;34m1\u001b[0m)         │             \u001b[38;5;34m0\u001b[0m │\n",
       "├─────────────────────────────────┼────────────────────────┼───────────────┤\n",
       "│ lstm (\u001b[38;5;33mLSTM\u001b[0m)                     │ (\u001b[38;5;45mNone\u001b[0m, \u001b[38;5;34m32\u001b[0m)             │         \u001b[38;5;34m4,352\u001b[0m │\n",
       "├─────────────────────────────────┼────────────────────────┼───────────────┤\n",
       "│ dropout (\u001b[38;5;33mDropout\u001b[0m)               │ (\u001b[38;5;45mNone\u001b[0m, \u001b[38;5;34m32\u001b[0m)             │             \u001b[38;5;34m0\u001b[0m │\n",
       "├─────────────────────────────────┼────────────────────────┼───────────────┤\n",
       "│ dense (\u001b[38;5;33mDense\u001b[0m)                   │ (\u001b[38;5;45mNone\u001b[0m, \u001b[38;5;34m16\u001b[0m)             │           \u001b[38;5;34m528\u001b[0m │\n",
       "├─────────────────────────────────┼────────────────────────┼───────────────┤\n",
       "│ dense_1 (\u001b[38;5;33mDense\u001b[0m)                 │ (\u001b[38;5;45mNone\u001b[0m, \u001b[38;5;34m1\u001b[0m)              │            \u001b[38;5;34m17\u001b[0m │\n",
       "└─────────────────────────────────┴────────────────────────┴───────────────┘\n"
      ]
     },
     "metadata": {},
     "output_type": "display_data"
    },
    {
     "data": {
      "text/html": [
       "<pre style=\"white-space:pre;overflow-x:auto;line-height:normal;font-family:Menlo,'DejaVu Sans Mono',consolas,'Courier New',monospace\"><span style=\"font-weight: bold\"> Total params: </span><span style=\"color: #00af00; text-decoration-color: #00af00\">14,693</span> (57.40 KB)\n",
       "</pre>\n"
      ],
      "text/plain": [
       "\u001b[1m Total params: \u001b[0m\u001b[38;5;34m14,693\u001b[0m (57.40 KB)\n"
      ]
     },
     "metadata": {},
     "output_type": "display_data"
    },
    {
     "data": {
      "text/html": [
       "<pre style=\"white-space:pre;overflow-x:auto;line-height:normal;font-family:Menlo,'DejaVu Sans Mono',consolas,'Courier New',monospace\"><span style=\"font-weight: bold\"> Trainable params: </span><span style=\"color: #00af00; text-decoration-color: #00af00\">4,897</span> (19.13 KB)\n",
       "</pre>\n"
      ],
      "text/plain": [
       "\u001b[1m Trainable params: \u001b[0m\u001b[38;5;34m4,897\u001b[0m (19.13 KB)\n"
      ]
     },
     "metadata": {},
     "output_type": "display_data"
    },
    {
     "data": {
      "text/html": [
       "<pre style=\"white-space:pre;overflow-x:auto;line-height:normal;font-family:Menlo,'DejaVu Sans Mono',consolas,'Courier New',monospace\"><span style=\"font-weight: bold\"> Non-trainable params: </span><span style=\"color: #00af00; text-decoration-color: #00af00\">0</span> (0.00 B)\n",
       "</pre>\n"
      ],
      "text/plain": [
       "\u001b[1m Non-trainable params: \u001b[0m\u001b[38;5;34m0\u001b[0m (0.00 B)\n"
      ]
     },
     "metadata": {},
     "output_type": "display_data"
    },
    {
     "data": {
      "text/html": [
       "<pre style=\"white-space:pre;overflow-x:auto;line-height:normal;font-family:Menlo,'DejaVu Sans Mono',consolas,'Courier New',monospace\"><span style=\"font-weight: bold\"> Optimizer params: </span><span style=\"color: #00af00; text-decoration-color: #00af00\">9,796</span> (38.27 KB)\n",
       "</pre>\n"
      ],
      "text/plain": [
       "\u001b[1m Optimizer params: \u001b[0m\u001b[38;5;34m9,796\u001b[0m (38.27 KB)\n"
      ]
     },
     "metadata": {},
     "output_type": "display_data"
    },
    {
     "name": "stdout",
     "output_type": "stream",
     "text": [
      "Layer names: ['input_layer', 'lstm', 'dropout', 'dense', 'dense_1']\n"
     ]
    }
   ],
   "source": [
    "lstm_model.summary()\n",
    "print(\"Layer names:\", [layer.name for layer in lstm_model.layers])"
   ]
  },
  {
   "cell_type": "code",
   "execution_count": 5,
   "metadata": {},
   "outputs": [],
   "source": [
    "# Sample 50 random sequences from the train set\n",
    "X_train_2d = X_train.reshape(X_train.shape[0], -1)\n",
    "X_background = shap.sample(X_train_2d, 50)\n",
    "\n",
    "# Reshape the test set to 2D\n",
    "X_test_2d = X_test.reshape(X_test.shape[0], -1)\n",
    "\n",
    "# extract one sequence from the test set\n",
    "test_instance = shap.sample(X_test_2d, 1)"
   ]
  },
  {
   "cell_type": "code",
   "execution_count": 6,
   "metadata": {},
   "outputs": [
    {
     "name": "stdout",
     "output_type": "stream",
     "text": [
      "Input diffs: [1.14018086 1.03121432 1.07843374 1.05036322 1.28662305]\n",
      "Value diffs: [0.49739055 0.25368112 0.37438845 0.42267595 0.37607198]\n",
      "Ratios: [0.43623829 0.24600232 0.34715944 0.40240932 0.29229383]\n",
      "RIS - Max: 0.4516, Mean: 0.3211\n"
     ]
    }
   ],
   "source": [
    "# RIS\n",
    "ris_max, ris_mean = calculate_relative_input_stability(\n",
    "    lstm_model, X_background, test_instance, noise_scale=0.1\n",
    ")\n",
    "print(f\"RIS - Max: {ris_max:.4f}, Mean: {ris_mean:.4f}\")"
   ]
  },
  {
   "cell_type": "code",
   "execution_count": 7,
   "metadata": {},
   "outputs": [
    {
     "name": "stdout",
     "output_type": "stream",
     "text": [
      "Input diffs: [1.23494762 1.05092483 1.07971006 1.03236545 1.04533978]\n",
      "Value diffs: [0.10988549 0.07036665 0.09315553 0.09192909 0.19461286]\n",
      "Ratios: [0.08897988 0.06695688 0.08627829 0.08904705 0.18617187]\n",
      "RRS - Max: 0.2891, Mean: 0.1362\n"
     ]
    }
   ],
   "source": [
    "# RRS\n",
    "rrs_max, rrs_mean = calculate_relative_representation_stability(\n",
    "    lstm_model, test_instance, noise_scale=0.1, layer_name=\"lstm\"\n",
    ")\n",
    "print(f\"RRS - Max: {rrs_max:.4f}, Mean: {rrs_mean:.4f}\")"
   ]
  },
  {
   "cell_type": "code",
   "execution_count": 8,
   "metadata": {},
   "outputs": [
    {
     "name": "stdout",
     "output_type": "stream",
     "text": [
      "Input diffs: [0.09989139 0.10856972 0.0994006  0.10499885 0.10906094]\n",
      "Value diffs: [0.01695365 0.01668036 0.07643729 0.02333772 0.03272736]\n",
      "Ratios: [0.16972081 0.15363731 0.76898222 0.22226646 0.30008324]\n",
      "ROS - Max: 2.0407, Mean: 0.4447\n"
     ]
    }
   ],
   "source": [
    "# ROS\n",
    "ros_max, ros_mean = calculate_relative_output_stability(\n",
    "    lstm_model, test_instance, noise_scale=0.01\n",
    ")\n",
    "print(f\"ROS - Max: {ros_max:.4f}, Mean: {ros_mean:.4f}\")"
   ]
  },
  {
   "cell_type": "markdown",
   "metadata": {},
   "source": [
    "## Global"
   ]
  },
  {
   "cell_type": "code",
   "execution_count": 9,
   "metadata": {},
   "outputs": [],
   "source": [
    "global_test_instance = shap.sample(X_test_2d, 10) # 10 random samples from the test set"
   ]
  },
  {
   "cell_type": "code",
   "execution_count": 10,
   "metadata": {},
   "outputs": [
    {
     "name": "stdout",
     "output_type": "stream",
     "text": [
      "Input diffs: [1.11767955 1.24502701 1.02886701 1.20116064 1.04880621]\n",
      "Value diffs: [0.31083553 0.22381322 0.47061802 0.26186448 0.30279894]\n",
      "Ratios: [0.27810791 0.17976575 0.45741384 0.21800954 0.28870818]\n",
      "Input diffs: [1.11777749 1.10828294 1.16733132 1.04792744 1.09437262]\n",
      "Value diffs: [0.10456605 0.09438985 0.22693103 0.18491826 0.12858903]\n",
      "Ratios: [0.09354818 0.08516765 0.19440156 0.17646094 0.11750022]\n",
      "Input diffs: [0.99766896 1.08094892 1.06710654 1.10091836 1.11605771]\n",
      "Value diffs: [0.09108575 0.15350798 0.09309477 0.14985041 0.32953334]\n",
      "Ratios: [0.09129857 0.14201224 0.08724037 0.13611401 0.2952655 ]\n",
      "Input diffs: [1.12942857 1.18075168 1.09263984 1.05423001 1.11991316]\n",
      "Value diffs: [0.37271581 0.45187153 0.32571636 0.37023925 0.25508554]\n",
      "Ratios: [0.33000388 0.38269819 0.29810039 0.351194   0.22777261]\n",
      "Input diffs: [0.94595078 1.10491597 0.98976284 0.98137581 1.22082665]\n",
      "Value diffs: [0.46821974 0.49432986 0.49515209 0.49309316 0.46554443]\n",
      "Ratios: [0.49497262 0.44739136 0.50027347 0.5024509  0.38133541]\n",
      "Input diffs: [1.05421451 1.07786835 1.01816387 0.90970692 0.98538001]\n",
      "Value diffs: [0.22234132 0.09886036 0.14876936 0.14539394 0.15746162]\n",
      "Ratios: [0.21090709 0.0917184  0.14611534 0.15982504 0.15979787]\n",
      "Input diffs: [1.1044881  1.11364262 1.18914268 0.98040428 1.0656868 ]\n",
      "Value diffs: [0.50674969 0.52162154 0.4747406  0.25644311 0.31169594]\n",
      "Ratios: [0.45880955 0.46839222 0.3992293  0.26156873 0.29248363]\n",
      "Input diffs: [1.07078069 1.07401852 1.28208269 1.1053504  1.20853159]\n",
      "Value diffs: [0.47075783 0.48241361 0.38608748 0.43364723 0.47303246]\n",
      "Ratios: [0.43963982 0.44916694 0.30114086 0.39231652 0.39141092]\n",
      "Input diffs: [1.10095399 0.98317107 1.25409497 1.04901622 1.01721448]\n",
      "Value diffs: [0.16637614 0.13424028 0.34205553 0.12733377 0.12567368]\n",
      "Ratios: [0.15111997 0.13653806 0.2727509  0.12138399 0.12354689]\n",
      "Input diffs: [1.13812193 1.06276564 1.15316531 1.04295959 1.15716355]\n",
      "Value diffs: [0.32490013 0.34845128 0.23322061 0.25439451 0.30041326]\n",
      "Ratios: [0.2854704  0.32787217 0.20224386 0.24391598 0.25961175]\n",
      "Global RIS - Mean: 0.2589, Max: 0.4282\n"
     ]
    }
   ],
   "source": [
    "# Global RIS\n",
    "ris_values = []\n",
    "for i in range(global_test_instance.shape[0]):\n",
    "    ris_max, ris_mean = calculate_relative_input_stability(\n",
    "        lstm_model, X_background, global_test_instance[i:i+1], n_perturbations=20, noise_scale=0.1\n",
    "    )\n",
    "    ris_values.append(ris_mean)  # Collect mean RIS for each instance\n",
    "global_ris_mean = np.mean(ris_values)\n",
    "global_ris_max = np.max(ris_values)\n",
    "print(f\"Global RIS - Mean: {global_ris_mean:.4f}, Max: {global_ris_max:.4f}\")"
   ]
  },
  {
   "cell_type": "code",
   "execution_count": 11,
   "metadata": {},
   "outputs": [
    {
     "name": "stdout",
     "output_type": "stream",
     "text": [
      "Input diffs: [1.1887315  1.14681767 1.21390049 1.20294554 1.01258612]\n",
      "Value diffs: [0.10120568 0.05639018 0.17637578 0.12560715 0.47241464]\n",
      "Ratios: [0.08513755 0.04917101 0.14529673 0.10441632 0.46654268]\n",
      "Input diffs: [1.09786653 1.17413946 1.06485412 1.03716282 1.04448509]\n",
      "Value diffs: [0.02864805 0.04491398 0.02330704 0.02604211 0.02043968]\n",
      "Ratios: [0.0260943  0.03825268 0.02188754 0.02510899 0.01956915]\n",
      "Input diffs: [1.17540547 0.95220878 1.16206093 1.07134558 1.06705923]\n",
      "Value diffs: [0.03077552 0.04177838 0.04610085 0.07303858 0.03809875]\n",
      "Ratios: [0.0261829  0.04387523 0.03967163 0.06817462 0.03570443]\n",
      "Input diffs: [0.9945987  1.06927491 1.19346891 1.08153827 1.07396728]\n",
      "Value diffs: [0.26342827 0.17491704 0.38065392 0.46122858 0.06716336]\n",
      "Ratios: [0.26485885 0.16358472 0.31894749 0.42645609 0.06253763]\n",
      "Input diffs: [1.20457784 1.06748922 0.99623858 1.09195186 1.07548679]\n",
      "Value diffs: [0.22181326 0.24565317 0.4312835  0.45031872 0.54491192]\n",
      "Ratios: [0.18414191 0.23012239 0.43291187 0.41239796 0.50666538]\n",
      "Input diffs: [1.05804486 1.10656559 1.26503964 0.9744764  1.15166074]\n",
      "Value diffs: [0.05266998 0.08171371 0.09382814 0.07093611 0.06028239]\n",
      "Ratios: [0.04978048 0.07384443 0.07417012 0.07279407 0.05234388]\n",
      "Input diffs: [1.01062078 1.21669141 1.09558225 1.04964425 0.96298262]\n",
      "Value diffs: [0.6251843  0.44400692 0.0966714  0.06223997 0.29615316]\n",
      "Ratios: [0.61861413 0.36492977 0.08823746 0.05929625 0.30753739]\n",
      "Input diffs: [1.06041261 1.05777221 1.0235336  1.25101663 1.08589314]\n",
      "Value diffs: [0.68715113 0.29434526 0.14956789 0.10033492 0.12539919]\n",
      "Ratios: [0.64800355 0.27826904 0.14612895 0.08020271 0.11548023]\n",
      "Input diffs: [1.0462996  1.09404339 1.14851532 1.14788678 1.18534544]\n",
      "Value diffs: [0.04104306 0.04014852 0.01138042 0.07603049 0.05041676]\n",
      "Ratios: [0.03922687 0.03669737 0.00990881 0.06623518 0.04253339]\n",
      "Input diffs: [0.98745934 1.01742215 1.11884323 1.15578566 1.0131245 ]\n",
      "Value diffs: [0.10324407 0.26493838 0.0823639  0.08322632 0.06619565]\n",
      "Ratios: [0.10455526 0.26040163 0.07361523 0.07200844 0.06533812]\n",
      "Global RRS - Mean: 0.1322, Max: 0.2665\n"
     ]
    }
   ],
   "source": [
    "# Global RRS\n",
    "rrs_values = []\n",
    "for i in range(global_test_instance.shape[0]):\n",
    "    rrs_max, rrs_mean = calculate_relative_representation_stability(\n",
    "        lstm_model, global_test_instance[i:i+1], noise_scale=0.1, layer_name=\"lstm\"\n",
    "    )\n",
    "    rrs_values.append(rrs_mean)  # Collect mean RRS for each instance\n",
    "global_rrs_mean = np.mean(rrs_values)\n",
    "global_rrs_max = np.max(rrs_values)\n",
    "print(f\"Global RRS - Mean: {global_rrs_mean:.4f}, Max: {global_rrs_max:.4f}\")"
   ]
  },
  {
   "cell_type": "code",
   "execution_count": 12,
   "metadata": {},
   "outputs": [
    {
     "name": "stdout",
     "output_type": "stream",
     "text": [
      "Input diffs: [0.11837491 0.11617759 0.09744951 0.11172301 0.10100911]\n",
      "Value diffs: [0.07466733 0.01750356 0.01493222 0.02530938 0.00204003]\n",
      "Ratios: [0.63076995 0.1506621  0.15323027 0.2265369  0.02019648]\n",
      "Input diffs: [0.1210551  0.1082736  0.10398619 0.10648161 0.10129266]\n",
      "Value diffs: [0.00772291 0.00267419 0.00739193 0.00156619 0.00015458]\n",
      "Ratios: [0.06379669 0.02469847 0.07108569 0.01470852 0.00152612]\n",
      "Input diffs: [0.10111916 0.10732325 0.10808296 0.10806764 0.1123309 ]\n",
      "Value diffs: [0.01506421 0.01256183 0.00065097 0.01073611 0.01326421]\n",
      "Ratios: [0.14897484 0.11704666 0.00602289 0.09934618 0.11808157]\n",
      "Input diffs: [0.10606648 0.11126982 0.1085583  0.10931437 0.09207107]\n",
      "Value diffs: [0.05122739 0.09804016 0.01185226 0.0529846  0.09439963]\n",
      "Ratios: [0.48297438 0.88110291 0.10917879 0.48469925 1.02529091]\n",
      "Input diffs: [0.09717911 0.11853475 0.10391157 0.1119242  0.11779533]\n",
      "Value diffs: [0.0449056  0.05144829 0.02839941 0.00866604 0.00128084]\n",
      "Ratios: [0.46209111 0.43403546 0.27330361 0.07742775 0.01087347]\n",
      "Input diffs: [0.12037698 0.1119491  0.11058014 0.11880391 0.10664643]\n",
      "Value diffs: [0.01332563 0.01498213 0.00833035 0.00069058 0.0114907 ]\n",
      "Ratios: [0.11069917 0.13382988 0.07533311 0.00581277 0.10774578]\n",
      "Input diffs: [0.10685744 0.11160412 0.09135033 0.1120744  0.11253266]\n",
      "Value diffs: [0.08905226 0.08569098 0.01946521 0.03149247 0.05872464]\n",
      "Ratios: [0.83337445 0.76781195 0.21308305 0.28099613 0.52184531]\n",
      "Input diffs: [0.11101061 0.11099912 0.11577203 0.10854657 0.10317447]\n",
      "Value diffs: [0.00075144 0.01397228 0.04552114 0.01369941 0.07063353]\n",
      "Ratios: [0.00676904 0.12587741 0.39319636 0.1262077  0.68460282]\n",
      "Input diffs: [0.12947982 0.11291813 0.11565537 0.11119782 0.10983627]\n",
      "Value diffs: [0.02590656 0.00523794 0.01181501 0.00061357 0.00354844]\n",
      "Ratios: [0.20008186 0.04638703 0.10215705 0.00551783 0.03230666]\n",
      "Input diffs: [0.11619494 0.11131193 0.12575381 0.11091636 0.11341627]\n",
      "Value diffs: [0.03056049 0.02484128 0.05922496 0.07283044 0.03309411]\n",
      "Ratios: [0.26301054 0.22316817 0.47095958 0.65662488 0.2917933 ]\n",
      "Global ROS - Mean: 0.3343, Max: 0.6362\n"
     ]
    }
   ],
   "source": [
    "# Global ROS\n",
    "ros_values = []\n",
    "for i in range(global_test_instance.shape[0]):\n",
    "    ros_max, ros_mean = calculate_relative_output_stability(\n",
    "        lstm_model, global_test_instance[i:i+1], n_perturbations=20, noise_scale=0.01\n",
    "    )\n",
    "    ros_values.append(ros_mean)  # Collect mean ROS for each instance\n",
    "global_ros_mean = np.mean(ros_values)\n",
    "global_ros_max = np.max(ros_values)\n",
    "print(f\"Global ROS - Mean: {global_ros_mean:.4f}, Max: {global_ros_max:.4f}\")"
   ]
  }
 ],
 "metadata": {
  "kernelspec": {
   "display_name": "Python (D2D_env)",
   "language": "python",
   "name": "d2d_env"
  },
  "language_info": {
   "codemirror_mode": {
    "name": "ipython",
    "version": 3
   },
   "file_extension": ".py",
   "mimetype": "text/x-python",
   "name": "python",
   "nbconvert_exporter": "python",
   "pygments_lexer": "ipython3",
   "version": "3.11.9"
  }
 },
 "nbformat": 4,
 "nbformat_minor": 2
}
