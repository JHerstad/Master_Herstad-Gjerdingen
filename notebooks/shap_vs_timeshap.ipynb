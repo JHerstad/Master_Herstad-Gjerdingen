{
 "cells": [
  {
   "cell_type": "code",
   "execution_count": null,
   "metadata": {},
   "outputs": [],
   "source": [
    "# Set root directory of the project as the current working directory\n",
    "import os\n",
    "initial_dir = os.getcwd()  # Save initial directory (notebooks/)\n",
    "os.chdir('..')  # Move to project/\n",
    "\n",
    "from config.defaults import Config\n",
    "from src.models import load_preprocessed_data, load_saved_model\n",
    "from src.TimeSHAP import local_event_explainer\n",
    "from tensorflow.keras.models import Model\n",
    "\n",
    "# Load the default configuration\n",
    "config = Config()\n",
    "\n",
    "import plotly.graph_objects as go\n",
    "import numpy as np\n",
    "import shap\n",
    "from scipy.stats import pearsonr\n",
    "import pandas as pd\n",
    "\n",
    "# set the random seed for reproducibility\n",
    "np.random.seed(42)\n"
   ]
  },
  {
   "cell_type": "code",
   "execution_count": 2,
   "metadata": {},
   "outputs": [],
   "source": [
    "import logging\n",
    "\n",
    "# Suppress all INFO logs at the root level\n",
    "logging.getLogger().setLevel(logging.WARNING)"
   ]
  },
  {
   "cell_type": "code",
   "execution_count": 3,
   "metadata": {},
   "outputs": [],
   "source": [
    "# Load preprocessed data\n",
    "model_task = \"lstm_regression\"\n",
    "\n",
    "config = Config()\n",
    "\n",
    "X_train, X_val, X_test, y_train_reg, y_val_reg, y_test_reg, metadata = load_preprocessed_data(model_task = model_task, eol_capacity=config.eol_capacity)\n",
    "\n",
    "# Load the trained model\n",
    "model = load_saved_model(model_task, config)"
   ]
  },
  {
   "cell_type": "code",
   "execution_count": 4,
   "metadata": {},
   "outputs": [],
   "source": [
    "# Prediction function for TimeSHAP (3D input)\n",
    "def f_timeshap(X):\n",
    "    return model.predict(X, verbose=0)  # Input: (batch_size, 120, 1), Output: (batch_size, 1)\n",
    "\n",
    "# Prediction function for SHAP (2D input)\n",
    "def f_shap(X):\n",
    "    X_3d = X.reshape(-1, 120, 1)  # Reshape 2D (batch_size, 120) to 3D (batch_size, 120, 1)\n",
    "    return model.predict(X_3d, verbose=0)  # Output: (batch_size, 1)\n",
    "\n",
    "# Prepare the baseline for SHAP\n",
    "baseline_shap = X_train[:50].reshape(-1, 120) # Shape: (50, 120)\n",
    "\n",
    "# Baseline for TimeSHAP (subset of training data)\n",
    "baseline_timeshap = X_train[:50]  # Shape: (50, 120, 1)"
   ]
  },
  {
   "cell_type": "code",
   "execution_count": 13,
   "metadata": {},
   "outputs": [],
   "source": [
    "# Compute correlations\n",
    "def compute_correlations(test_data, baseline_shap, baseline_timeshap, label, mode=\"event\", pruned_idx=0, reverse=False):\n",
    "    correlations = []\n",
    "    for idx in range(test_data.shape[0]):\n",
    "        test_3d = test_data[idx:idx+1]\n",
    "        test_2d = test_3d.reshape(1, -1)\n",
    "        \n",
    "        # SHAP\n",
    "        explainer = shap.KernelExplainer(f_shap, baseline_shap)\n",
    "        shap_values = explainer.shap_values(test_2d, silent=True, nsamples=300)\n",
    "        shap_first = shap_values[0].flatten()\n",
    "        \n",
    "        # TimeSHAP\n",
    "        event_explanation = local_event_explainer(\n",
    "            f_timeshap, test_3d, baseline_timeshap, pruned_idx=pruned_idx, nsamples=3000)\n",
    "        \n",
    "        correlation, _ = pearsonr(shap_first, event_explanation[\"Shapley Value\"])\n",
    "        correlations.append(correlation)\n",
    "        print(f\"Correlation for sequence {idx} ({label}, mode={mode}, pruned_idx={pruned_idx}, reverse={reverse}): {correlation:.4f}\")\n",
    "        \n",
    "        if idx < 3:\n",
    "            fig = go.Figure()\n",
    "            fig.add_trace(go.Scatter(x=np.arange(120), y=shap_first, mode='lines+markers', name='SHAP', line=dict(color='blue')))\n",
    "            fig.add_trace(go.Scatter(x=event_explanation.index, y=event_explanation[\"Shapley Value\"], mode='lines+markers', name='TimeSHAP', line=dict(color='red')))\n",
    "            fig.update_layout(\n",
    "                title=f\"SHAP vs TimeSHAP for Sequence {idx} ({label}, mode={mode}, pruned_idx={pruned_idx}, reverse={reverse})\",\n",
    "                xaxis_title=\"Timestep\",\n",
    "                yaxis_title=\"Explanation Value\",\n",
    "                template=\"plotly_white\"\n",
    "            )\n",
    "            fig.add_hline(y=0, line_dash=\"dash\", line_color=\"gray\")\n",
    "            fig.show()\n",
    "\n",
    "    print(f\"\\nResults for {label} (mode={mode}, pruned_idx={pruned_idx}, reverse={reverse}):\")\n",
    "    print(f\"Mean Correlation: {np.mean(correlations):.4f}\")\n",
    "    print(f\"Median Correlation: {np.median(correlations):.4f}\")\n",
    "    print(f\"Min Correlation: {np.min(correlations):.4f}\")\n",
    "    print(f\"Max Correlation: {np.max(correlations):.4f}\")\n",
    "    print(f\"Standard Deviation: {np.std(correlations):.4f}\")\n",
    "    return correlations"
   ]
  },
  {
   "cell_type": "code",
   "execution_count": 6,
   "metadata": {},
   "outputs": [
    {
     "name": "stdout",
     "output_type": "stream",
     "text": [
      "Correlation for sequence 0 (Synthetic Background, mode=event, pruned_idx=0, reverse=True): 0.9603\n"
     ]
    },
    {
     "data": {
      "application/vnd.plotly.v1+json": {
       "config": {
        "plotlyServerURL": "https://plot.ly"
       },
       "data": [
        {
         "line": {
          "color": "blue"
         },
         "mode": "lines+markers",
         "name": "SHAP",
         "type": "scatter",
         "x": {
          "bdata": "AAECAwQFBgcICQoLDA0ODxAREhMUFRYXGBkaGxwdHh8gISIjJCUmJygpKissLS4vMDEyMzQ1Njc4OTo7PD0+P0BBQkNERUZHSElKS0xNTk9QUVJTVFVWV1hZWltcXV5fYGFiY2RlZmdoaWprbG1ub3BxcnN0dXZ3",
          "dtype": "i1"
         },
         "y": {
          "bdata": "AAAAAAAAAAAguWt37ptDP4A99dgtUIU/AAAAAAAAAACg4hXLUCR3P8B9FpZjMnY/gCToqY6AZj8AAAAAAAAAAIC757X1t4a/OEPemv87jr8AAAAAAAAAAFoEyoCRF5A/AAAAAAAAAAAQKw+rouWNv+TsLC8/yJ+/AAAAAAAAAADAO106o35+P+MvtGe8n5K/MGdJcsiagz8AAAAAAAAAAAAAAAAAAAAAwBTXDQzXdb9AdT5DW7tlPyBcK+h26Zi/oAYU6+RKZ78AAAAAAAAAAAAAAAAAAAAAAAAAAAAAAAAwnmbIrfWGP+Md/zqstJG/AAAAAAAAAAAAP9GOXLJ0PwAAAAAAAAAAAAAAAAAAAAAAAAAAAAAAAHARG1Hx+Y+/AAAAAAAAAAAAAAAAAAAAAAAAAAAAAAAAQGLoUkjdk78AAAAAAAAAAAAAAAAAAAAAAAAAAAAAAAAAvk/sQZB9PwAAAAAAAAAAAAAAAAAAAAAAAAAAAAAAAAAAAAAAAAAAqNoIvqIgkz+AdEL7/qV7PwAAAAAAAAAAAAERHgOJdj8AAAAAAAAAAMAJ8KZCvJw/AAAAAAAAAAAAAAAAAAAAAAAAAAAAAAAAAAAAAAAAAABgPZn9e02DvwAAAAAAAAAAAAAAAAAAAAAAAAAAAAAAAF4H+tUuFJi/RAJFsdGok78AcPaiDrd5vyZiYquPBaS/AAAAAAAAAAAAAAAAAAAAAAPjkkbixaA/zIiqsFJ/kj+Af90GRyCOPwB8w1bMyY8/AAAAAAAAAABAdvZBYHtkP4Rymb3hxZS/UDZqdUdipb8AAAAAAAAAAAAAAAAAAAAAyHT79el0iz8AAAAAAAAAAEzIK/1fvJ8/AAAAAAAAAAAAAAAAAAAAAADD8H5KcYs/AAAAAAAAAACU1W4NDyV8vwAAAAAAAAAAIAdc3a9LoL8cDGzoWAKav8C2q84tfZu/YIOPeNFMWT8AAAAAAAAAAMAOoiDvAnk/EF6OrxAZmj/g7SVvteqZP+bMJQtjmac/qFWVc36moj/gAH33PNGfP5hBglSFQLQ/0J8aVP0opj/4te9XlaOhPwAAAAAAAAAAAAAAAAAAAACQ1vraj5mgv94XCujAxrG/MPHmwDztub8JXd9KOTu3vzJgw2danb2/+C39APWJvr/8VypDv8G9v/QrU9VjsL+/lFVLn3Hksr+gJ5rWvE2Xv7jolPgidZI/Cf5F9Yr0rz86AyhiZbSzP2KWxfqBcsI/luPDXifTyD9MZnQ/m5PMP7YxRM9bock/",
          "dtype": "f8"
         }
        },
        {
         "line": {
          "color": "red"
         },
         "mode": "lines+markers",
         "name": "TimeSHAP",
         "type": "scatter",
         "x": {
          "bdata": "AAECAwQFBgcICQoLDA0ODxAREhMUFRYXGBkaGxwdHh8gISIjJCUmJygpKissLS4vMDEyMzQ1Njc4OTo7PD0+P0BBQkNERUZHSElKS0xNTk9QUVJTVFVWV1hZWltcXV5fYGFiY2RlZmdoaWprbG1ub3BxcnN0dXZ3",
          "dtype": "i1"
         },
         "y": {
          "bdata": "AAAAAAAAAABAMt764fB1PwBVcrpbaH8/4B2SvW0iZL8AAAAAAAAAAAAAAAAAAAAAMFDUvD+nd78AAAAAAAAAAMDgslYaqX2/QLqU59qgXb8AAAAAAAAAAHhDAdo4xHO/IKiGz0lmYj+AnMVNPKp5vwAAAAAAAAAAAAAAAAAAAABggXDb5nxxvwAAAAAAAAAAAORAbXZlbj8AAAAAAAAAAEAcDQ9eR2u/AAAAAAAAAADg2yZqdKJhPwAAAAAAAAAAgD2bUe7Ebr+Ak12stblvP6COuoUw43G/4GO7yqXEaj8AAAAAAAAAAAAAAAAAAAAAAAAAAAAAAAAAAAAAAAAAACC9oKnfu2a/gF74jLkOar8AHzZA93Rlv4CYxZsr610/ADSFCCf9Wj8AAAAAAAAAAEBLtN2dhWW/AAAAAAAAAABAcjDAqzlovwAAAAAAAAAAQCWeulrecD8AAAAAAAAAAAAAAAAAAAAAAAAAAAAAAAAAAAAAAAAAAAAAAAAAAAAAMHpnpUv3bj8AAAAAAAAAAEDLPk2Xami/AAAAAAAAAAAAAAAAAAAAACCE1pnDZHY/wO9Ajo2yab8AAAAAAAAAAMD0PprNmXA/AAAAAAAAAAAAAAAAAAAAAEAKidauBGW/AAAAAAAAAAAAAAAAAAAAAAAAAAAAAAAAgK/4KuU0ar8AAAAAAAAAAAAAAAAAAAAAIPE1emX8cr8AAAAAAAAAAFAdjx3+eXW/4B4gONI5dD+gY9Ewf8hzvwBH9ywAuYS/AF+q1KfbcL8AAAAAAAAAAECC3XmUqmi/AAAAAAAAAACgdxxcYUt+P/CqYjGGBII/+F0dytVMgz9YttiP0tyEPwB5yLX7MoI/COniRV6hiD9gBWxEshFxPwAAAAAAAAAAgAYQGWs2aL84iOShfxiHv3hlLDzP8pK/+H2WYVj6k78gDVXvPieav4AX/Eib0ZS/KFD4GoWLlr8Idn8RV/uDvwAAAAAAAAAAQCykRk5+iz8c5s76GRWbP6nxOJjAFaM/2NATrOLDpT92zhQC7pmpP4w7893Lwqg/ROqUAMCJpT+gggAnzmqdP3ALvEm7E5M/YI0hGnuNfL+IK6ZBu++Vv5yV4+a/Aam/gM57S0DWsr/QNuz49DC3vzZT1/Tvjru/kolHH7LIvb+qV3oLXE69v7qw5oJKbrq/ZuXvie/7s7/+InVyk4GovyhEtOCVT5C/sndWnnttoj+4i+5zkRe3P+MXzvns4MI/GGZV4CAnyT/PZbgEM/nMP/zD7sc298Y/",
          "dtype": "f8"
         }
        }
       ],
       "layout": {
        "shapes": [
         {
          "line": {
           "color": "gray",
           "dash": "dash"
          },
          "type": "line",
          "x0": 0,
          "x1": 1,
          "xref": "x domain",
          "y0": 0,
          "y1": 0,
          "yref": "y"
         }
        ],
        "template": {
         "data": {
          "bar": [
           {
            "error_x": {
             "color": "#2a3f5f"
            },
            "error_y": {
             "color": "#2a3f5f"
            },
            "marker": {
             "line": {
              "color": "white",
              "width": 0.5
             },
             "pattern": {
              "fillmode": "overlay",
              "size": 10,
              "solidity": 0.2
             }
            },
            "type": "bar"
           }
          ],
          "barpolar": [
           {
            "marker": {
             "line": {
              "color": "white",
              "width": 0.5
             },
             "pattern": {
              "fillmode": "overlay",
              "size": 10,
              "solidity": 0.2
             }
            },
            "type": "barpolar"
           }
          ],
          "carpet": [
           {
            "aaxis": {
             "endlinecolor": "#2a3f5f",
             "gridcolor": "#C8D4E3",
             "linecolor": "#C8D4E3",
             "minorgridcolor": "#C8D4E3",
             "startlinecolor": "#2a3f5f"
            },
            "baxis": {
             "endlinecolor": "#2a3f5f",
             "gridcolor": "#C8D4E3",
             "linecolor": "#C8D4E3",
             "minorgridcolor": "#C8D4E3",
             "startlinecolor": "#2a3f5f"
            },
            "type": "carpet"
           }
          ],
          "choropleth": [
           {
            "colorbar": {
             "outlinewidth": 0,
             "ticks": ""
            },
            "type": "choropleth"
           }
          ],
          "contour": [
           {
            "colorbar": {
             "outlinewidth": 0,
             "ticks": ""
            },
            "colorscale": [
             [
              0,
              "#0d0887"
             ],
             [
              0.1111111111111111,
              "#46039f"
             ],
             [
              0.2222222222222222,
              "#7201a8"
             ],
             [
              0.3333333333333333,
              "#9c179e"
             ],
             [
              0.4444444444444444,
              "#bd3786"
             ],
             [
              0.5555555555555556,
              "#d8576b"
             ],
             [
              0.6666666666666666,
              "#ed7953"
             ],
             [
              0.7777777777777778,
              "#fb9f3a"
             ],
             [
              0.8888888888888888,
              "#fdca26"
             ],
             [
              1,
              "#f0f921"
             ]
            ],
            "type": "contour"
           }
          ],
          "contourcarpet": [
           {
            "colorbar": {
             "outlinewidth": 0,
             "ticks": ""
            },
            "type": "contourcarpet"
           }
          ],
          "heatmap": [
           {
            "colorbar": {
             "outlinewidth": 0,
             "ticks": ""
            },
            "colorscale": [
             [
              0,
              "#0d0887"
             ],
             [
              0.1111111111111111,
              "#46039f"
             ],
             [
              0.2222222222222222,
              "#7201a8"
             ],
             [
              0.3333333333333333,
              "#9c179e"
             ],
             [
              0.4444444444444444,
              "#bd3786"
             ],
             [
              0.5555555555555556,
              "#d8576b"
             ],
             [
              0.6666666666666666,
              "#ed7953"
             ],
             [
              0.7777777777777778,
              "#fb9f3a"
             ],
             [
              0.8888888888888888,
              "#fdca26"
             ],
             [
              1,
              "#f0f921"
             ]
            ],
            "type": "heatmap"
           }
          ],
          "histogram": [
           {
            "marker": {
             "pattern": {
              "fillmode": "overlay",
              "size": 10,
              "solidity": 0.2
             }
            },
            "type": "histogram"
           }
          ],
          "histogram2d": [
           {
            "colorbar": {
             "outlinewidth": 0,
             "ticks": ""
            },
            "colorscale": [
             [
              0,
              "#0d0887"
             ],
             [
              0.1111111111111111,
              "#46039f"
             ],
             [
              0.2222222222222222,
              "#7201a8"
             ],
             [
              0.3333333333333333,
              "#9c179e"
             ],
             [
              0.4444444444444444,
              "#bd3786"
             ],
             [
              0.5555555555555556,
              "#d8576b"
             ],
             [
              0.6666666666666666,
              "#ed7953"
             ],
             [
              0.7777777777777778,
              "#fb9f3a"
             ],
             [
              0.8888888888888888,
              "#fdca26"
             ],
             [
              1,
              "#f0f921"
             ]
            ],
            "type": "histogram2d"
           }
          ],
          "histogram2dcontour": [
           {
            "colorbar": {
             "outlinewidth": 0,
             "ticks": ""
            },
            "colorscale": [
             [
              0,
              "#0d0887"
             ],
             [
              0.1111111111111111,
              "#46039f"
             ],
             [
              0.2222222222222222,
              "#7201a8"
             ],
             [
              0.3333333333333333,
              "#9c179e"
             ],
             [
              0.4444444444444444,
              "#bd3786"
             ],
             [
              0.5555555555555556,
              "#d8576b"
             ],
             [
              0.6666666666666666,
              "#ed7953"
             ],
             [
              0.7777777777777778,
              "#fb9f3a"
             ],
             [
              0.8888888888888888,
              "#fdca26"
             ],
             [
              1,
              "#f0f921"
             ]
            ],
            "type": "histogram2dcontour"
           }
          ],
          "mesh3d": [
           {
            "colorbar": {
             "outlinewidth": 0,
             "ticks": ""
            },
            "type": "mesh3d"
           }
          ],
          "parcoords": [
           {
            "line": {
             "colorbar": {
              "outlinewidth": 0,
              "ticks": ""
             }
            },
            "type": "parcoords"
           }
          ],
          "pie": [
           {
            "automargin": true,
            "type": "pie"
           }
          ],
          "scatter": [
           {
            "fillpattern": {
             "fillmode": "overlay",
             "size": 10,
             "solidity": 0.2
            },
            "type": "scatter"
           }
          ],
          "scatter3d": [
           {
            "line": {
             "colorbar": {
              "outlinewidth": 0,
              "ticks": ""
             }
            },
            "marker": {
             "colorbar": {
              "outlinewidth": 0,
              "ticks": ""
             }
            },
            "type": "scatter3d"
           }
          ],
          "scattercarpet": [
           {
            "marker": {
             "colorbar": {
              "outlinewidth": 0,
              "ticks": ""
             }
            },
            "type": "scattercarpet"
           }
          ],
          "scattergeo": [
           {
            "marker": {
             "colorbar": {
              "outlinewidth": 0,
              "ticks": ""
             }
            },
            "type": "scattergeo"
           }
          ],
          "scattergl": [
           {
            "marker": {
             "colorbar": {
              "outlinewidth": 0,
              "ticks": ""
             }
            },
            "type": "scattergl"
           }
          ],
          "scattermap": [
           {
            "marker": {
             "colorbar": {
              "outlinewidth": 0,
              "ticks": ""
             }
            },
            "type": "scattermap"
           }
          ],
          "scattermapbox": [
           {
            "marker": {
             "colorbar": {
              "outlinewidth": 0,
              "ticks": ""
             }
            },
            "type": "scattermapbox"
           }
          ],
          "scatterpolar": [
           {
            "marker": {
             "colorbar": {
              "outlinewidth": 0,
              "ticks": ""
             }
            },
            "type": "scatterpolar"
           }
          ],
          "scatterpolargl": [
           {
            "marker": {
             "colorbar": {
              "outlinewidth": 0,
              "ticks": ""
             }
            },
            "type": "scatterpolargl"
           }
          ],
          "scatterternary": [
           {
            "marker": {
             "colorbar": {
              "outlinewidth": 0,
              "ticks": ""
             }
            },
            "type": "scatterternary"
           }
          ],
          "surface": [
           {
            "colorbar": {
             "outlinewidth": 0,
             "ticks": ""
            },
            "colorscale": [
             [
              0,
              "#0d0887"
             ],
             [
              0.1111111111111111,
              "#46039f"
             ],
             [
              0.2222222222222222,
              "#7201a8"
             ],
             [
              0.3333333333333333,
              "#9c179e"
             ],
             [
              0.4444444444444444,
              "#bd3786"
             ],
             [
              0.5555555555555556,
              "#d8576b"
             ],
             [
              0.6666666666666666,
              "#ed7953"
             ],
             [
              0.7777777777777778,
              "#fb9f3a"
             ],
             [
              0.8888888888888888,
              "#fdca26"
             ],
             [
              1,
              "#f0f921"
             ]
            ],
            "type": "surface"
           }
          ],
          "table": [
           {
            "cells": {
             "fill": {
              "color": "#EBF0F8"
             },
             "line": {
              "color": "white"
             }
            },
            "header": {
             "fill": {
              "color": "#C8D4E3"
             },
             "line": {
              "color": "white"
             }
            },
            "type": "table"
           }
          ]
         },
         "layout": {
          "annotationdefaults": {
           "arrowcolor": "#2a3f5f",
           "arrowhead": 0,
           "arrowwidth": 1
          },
          "autotypenumbers": "strict",
          "coloraxis": {
           "colorbar": {
            "outlinewidth": 0,
            "ticks": ""
           }
          },
          "colorscale": {
           "diverging": [
            [
             0,
             "#8e0152"
            ],
            [
             0.1,
             "#c51b7d"
            ],
            [
             0.2,
             "#de77ae"
            ],
            [
             0.3,
             "#f1b6da"
            ],
            [
             0.4,
             "#fde0ef"
            ],
            [
             0.5,
             "#f7f7f7"
            ],
            [
             0.6,
             "#e6f5d0"
            ],
            [
             0.7,
             "#b8e186"
            ],
            [
             0.8,
             "#7fbc41"
            ],
            [
             0.9,
             "#4d9221"
            ],
            [
             1,
             "#276419"
            ]
           ],
           "sequential": [
            [
             0,
             "#0d0887"
            ],
            [
             0.1111111111111111,
             "#46039f"
            ],
            [
             0.2222222222222222,
             "#7201a8"
            ],
            [
             0.3333333333333333,
             "#9c179e"
            ],
            [
             0.4444444444444444,
             "#bd3786"
            ],
            [
             0.5555555555555556,
             "#d8576b"
            ],
            [
             0.6666666666666666,
             "#ed7953"
            ],
            [
             0.7777777777777778,
             "#fb9f3a"
            ],
            [
             0.8888888888888888,
             "#fdca26"
            ],
            [
             1,
             "#f0f921"
            ]
           ],
           "sequentialminus": [
            [
             0,
             "#0d0887"
            ],
            [
             0.1111111111111111,
             "#46039f"
            ],
            [
             0.2222222222222222,
             "#7201a8"
            ],
            [
             0.3333333333333333,
             "#9c179e"
            ],
            [
             0.4444444444444444,
             "#bd3786"
            ],
            [
             0.5555555555555556,
             "#d8576b"
            ],
            [
             0.6666666666666666,
             "#ed7953"
            ],
            [
             0.7777777777777778,
             "#fb9f3a"
            ],
            [
             0.8888888888888888,
             "#fdca26"
            ],
            [
             1,
             "#f0f921"
            ]
           ]
          },
          "colorway": [
           "#636efa",
           "#EF553B",
           "#00cc96",
           "#ab63fa",
           "#FFA15A",
           "#19d3f3",
           "#FF6692",
           "#B6E880",
           "#FF97FF",
           "#FECB52"
          ],
          "font": {
           "color": "#2a3f5f"
          },
          "geo": {
           "bgcolor": "white",
           "lakecolor": "white",
           "landcolor": "white",
           "showlakes": true,
           "showland": true,
           "subunitcolor": "#C8D4E3"
          },
          "hoverlabel": {
           "align": "left"
          },
          "hovermode": "closest",
          "mapbox": {
           "style": "light"
          },
          "paper_bgcolor": "white",
          "plot_bgcolor": "white",
          "polar": {
           "angularaxis": {
            "gridcolor": "#EBF0F8",
            "linecolor": "#EBF0F8",
            "ticks": ""
           },
           "bgcolor": "white",
           "radialaxis": {
            "gridcolor": "#EBF0F8",
            "linecolor": "#EBF0F8",
            "ticks": ""
           }
          },
          "scene": {
           "xaxis": {
            "backgroundcolor": "white",
            "gridcolor": "#DFE8F3",
            "gridwidth": 2,
            "linecolor": "#EBF0F8",
            "showbackground": true,
            "ticks": "",
            "zerolinecolor": "#EBF0F8"
           },
           "yaxis": {
            "backgroundcolor": "white",
            "gridcolor": "#DFE8F3",
            "gridwidth": 2,
            "linecolor": "#EBF0F8",
            "showbackground": true,
            "ticks": "",
            "zerolinecolor": "#EBF0F8"
           },
           "zaxis": {
            "backgroundcolor": "white",
            "gridcolor": "#DFE8F3",
            "gridwidth": 2,
            "linecolor": "#EBF0F8",
            "showbackground": true,
            "ticks": "",
            "zerolinecolor": "#EBF0F8"
           }
          },
          "shapedefaults": {
           "line": {
            "color": "#2a3f5f"
           }
          },
          "ternary": {
           "aaxis": {
            "gridcolor": "#DFE8F3",
            "linecolor": "#A2B1C6",
            "ticks": ""
           },
           "baxis": {
            "gridcolor": "#DFE8F3",
            "linecolor": "#A2B1C6",
            "ticks": ""
           },
           "bgcolor": "white",
           "caxis": {
            "gridcolor": "#DFE8F3",
            "linecolor": "#A2B1C6",
            "ticks": ""
           }
          },
          "title": {
           "x": 0.05
          },
          "xaxis": {
           "automargin": true,
           "gridcolor": "#EBF0F8",
           "linecolor": "#EBF0F8",
           "ticks": "",
           "title": {
            "standoff": 15
           },
           "zerolinecolor": "#EBF0F8",
           "zerolinewidth": 2
          },
          "yaxis": {
           "automargin": true,
           "gridcolor": "#EBF0F8",
           "linecolor": "#EBF0F8",
           "ticks": "",
           "title": {
            "standoff": 15
           },
           "zerolinecolor": "#EBF0F8",
           "zerolinewidth": 2
          }
         }
        },
        "title": {
         "text": "SHAP vs TimeSHAP for Sequence 0 (Synthetic Background, mode=event, pruned_idx=0, reverse=True)"
        },
        "xaxis": {
         "title": {
          "text": "Timestep"
         }
        },
        "yaxis": {
         "title": {
          "text": "Explanation Value"
         }
        }
       }
      }
     },
     "metadata": {},
     "output_type": "display_data"
    },
    {
     "name": "stdout",
     "output_type": "stream",
     "text": [
      "Correlation for sequence 1 (Synthetic Background, mode=event, pruned_idx=0, reverse=True): 0.9078\n"
     ]
    },
    {
     "data": {
      "application/vnd.plotly.v1+json": {
       "config": {
        "plotlyServerURL": "https://plot.ly"
       },
       "data": [
        {
         "line": {
          "color": "blue"
         },
         "mode": "lines+markers",
         "name": "SHAP",
         "type": "scatter",
         "x": {
          "bdata": "AAECAwQFBgcICQoLDA0ODxAREhMUFRYXGBkaGxwdHh8gISIjJCUmJygpKissLS4vMDEyMzQ1Njc4OTo7PD0+P0BBQkNERUZHSElKS0xNTk9QUVJTVFVWV1hZWltcXV5fYGFiY2RlZmdoaWprbG1ub3BxcnN0dXZ3",
          "dtype": "i1"
         },
         "y": {
          "bdata": "AAAAAAAAAAAAAAAAAAAAABWd6+XaHHa/AAAAAAAAAAAAAAAAAAAAAAAAAAAAAAAASD8IK4FJOj8AAAAAAAAAAAAAAAAAAAAAAAAAAAAAAAAAAAAAAAAAAAAAAAAAAAAAAAAAAAAAAAAAAAAAAAAAAAAAAAAAAAAAQUhIkQaMgT8AAAAAAAAAAAAAAAAAAAAAAAAAAAAAAAAAAAAAAAAAAAAAAAAAAAAAAAAAAAAAAACnqG7zZ2F6PwAAAAAAAAAAAAAAAAAAAAAAAAAAAAAAAAAAAAAAAAAAAAAAAAAAAAAAAAAAAAAAACJDCvT/hHy/AAAAAAAAAAAAAAAAAAAAAAAAAAAAAAAAAAAAAAAAAAAAAAAAAAAAAAAAAAAAAAAAAAAAAAAAAAAAAAAAAAAAAAAAAAAAAAAAAAAAAAAAAAAAAAAAAAAAAMkXvE7VBJO/AAAAAAAAAAA47YLv9MuAv4EL5FlKjm4/AAAAAAAAAAAAAAAAAAAAAAAAAAAAAAAAAAAAAAAAAAAAAAAAAAAAAAAAAAAAAAAAAAAAAAAAAAAAAAAAAAAAAAMoJHFVy4E/AAAAAAAAAAAAAAAAAAAAAAAAAAAAAAAAAAAAAAAAAAAAAAAAAAAAAAAAAAAAAAAAAAAAAAAAAABNS4wUgm2KvwAAAAAAAAAAQvdjAKbdf78AAAAAAAAAAEG5YhaFQVi/AAAAAAAAAAAAAAAAAAAAAM2XTxkP1nu/9qCwH1DOg78AAAAAAAAAABEWyXXxxXS/AAAAAAAAAAA9gJwAs3wZPwAAAAAAAAAAAAAAAAAAAABIM0CzOEGSPwAAAAAAAAAAAAAAAAAAAAAAAAAAAAAAAAAAAAAAAAAAAAAAAAAAAAAAAAAAAAAAAAAAAAAAAAAAAAAAAAAAAAAAAAAAAAAAAAAAAAAAAAAAAAAAAAAAAAAAAAAAAAAAAAAAAAAAAAAAAAAAAAAAAAAAAAAAAAAAAAAAAAAAAAAAAAAAAAAAAAAAAAAAAAAAADabvZVJcWI/AAAAAAAAAAAAAAAAAAAAAAAAAAAAAAAAv39f/R31db8AAAAAAAAAAAAAAAAAAAAA1oLcE/Fxgz8AAAAAAAAAAAAAAAAAAAAAAAAAAAAAAAAAAAAAAAAAAKVHkXm4Zo2/AAAAAAAAAAB6Hh6kAjWOv4yiNC9oCIm/iRYz4eu2kb/jKxdoQLhxvzTmaZY930k/AAAAAAAAAAAAAAAAAAAAAB8RhiIVRZY/jJhEMQgApz/sKvOHf+SxP3BOkw425rE/",
          "dtype": "f8"
         }
        },
        {
         "line": {
          "color": "red"
         },
         "mode": "lines+markers",
         "name": "TimeSHAP",
         "type": "scatter",
         "x": {
          "bdata": "AAECAwQFBgcICQoLDA0ODxAREhMUFRYXGBkaGxwdHh8gISIjJCUmJygpKissLS4vMDEyMzQ1Njc4OTo7PD0+P0BBQkNERUZHSElKS0xNTk9QUVJTVFVWV1hZWltcXV5fYGFiY2RlZmdoaWprbG1ub3BxcnN0dXZ3",
          "dtype": "i1"
         },
         "y": {
          "bdata": "4DTfhDKoZD8AAAAAAAAAAAAAAAAAAAAAAAAAAAAAAACUx5TqCL1gvwAAAAAAAAAAXBWisRGqaL8AAAAAAAAAAMOzv0dhG2S/bnWPf458Wz8AAAAAAAAAAEvLlAv+3WC/XO/w8OhvYj8AAAAAAAAAAAAAAAAAAAAAAAAAAAAAAADKJ6giOlFqvwAAAAAAAAAAAAAAAAAAAAAAAAAAAAAAADat/Lx3jVu/AAAAAAAAAABysaqUbK1evwAAAAAAAAAAAAAAAAAAAAAAAAAAAAAAALz4MKtmfFu/AAAAAAAAAAAAAAAAAAAAAAAAAAAAAAAAAAAAAAAAAAAAAAAAAAAAALcgfpA8fU2/AAAAAAAAAAAAAAAAAAAAAAAAAAAAAAAAAAAAAAAAAAAAAAAAAAAAAAAAAAAAAAAAAAAAAAAAAAAAAAAAAAAAAAAAAAAAAAAAAAAAAAAAAAAAAAAAAAAAAAAAAAAAAAAAr6xIvE//VD8AAAAAAAAAAAAAAAAAAAAAWcQ0CUH/Wr8AAAAAAAAAAIF4DWl/rlS/3K8oozjdaj8AAAAAAAAAANmZcayay2g/AAAAAAAAAAAUH4bmPE9lP7QUNnsM42Q/406TyHiZYz8AAAAAAAAAAMPF2dLVkmC/3ef7VzPTZr8sB/LyQ9dVvxgQrsGOomC/zDDjawhubr8NKzD13pJgv1I2DiKl7Vy/UqOr7uR3XL8AAAAAAAAAAAAAAAAAAAAA4dCAQZEOaz8AAAAAAAAAAGTD0W9gxl8/FbZjGBqIcz8AdUO6USNnPwAAAAAAAAAAAAAAAAAAAAAAAAAAAAAAAAAAAAAAAAAAOH4KQ9Efc78rKT/AHCFfv80gZ2vmllG/Vn5NLkeKYL/n/wCe6pRfvwAAAAAAAAAAAAAAAAAAAAAAAAAAAAAAACnfBHfWlHI/CA2IL3WAfD+DYIKASh+AP6VFTRWxGoM/dRIyNScBZD8AAAAAAAAAAIGIY8+DBGA/KfOIG5uRY78CgaKdPgNbv07h4VNNeHC/6KhrmSf6cr+oFujKPFN4v7ncRnOCZ3O/h/I0R6jrdb9wgiO+/+NwvwAAAAAAAAAA6+/CRdQfVL8AAAAAAAAAAAAAAAAAAAAAkdfpxw5uYr/YKsaomJJ1v2wvzVJwKXW/VTqR8FMgg79WgzXOAaGJv5Ws7P1mE4y/ZOZ1UXmpi79hViDUBdaHv3zJqkVYhYq/R3jmNfpDdr/gq+83plZ9P6whGfKheZY/CAaja7hEpz+at6Y96UWxP94JAuT+q7Q/",
          "dtype": "f8"
         }
        }
       ],
       "layout": {
        "shapes": [
         {
          "line": {
           "color": "gray",
           "dash": "dash"
          },
          "type": "line",
          "x0": 0,
          "x1": 1,
          "xref": "x domain",
          "y0": 0,
          "y1": 0,
          "yref": "y"
         }
        ],
        "template": {
         "data": {
          "bar": [
           {
            "error_x": {
             "color": "#2a3f5f"
            },
            "error_y": {
             "color": "#2a3f5f"
            },
            "marker": {
             "line": {
              "color": "white",
              "width": 0.5
             },
             "pattern": {
              "fillmode": "overlay",
              "size": 10,
              "solidity": 0.2
             }
            },
            "type": "bar"
           }
          ],
          "barpolar": [
           {
            "marker": {
             "line": {
              "color": "white",
              "width": 0.5
             },
             "pattern": {
              "fillmode": "overlay",
              "size": 10,
              "solidity": 0.2
             }
            },
            "type": "barpolar"
           }
          ],
          "carpet": [
           {
            "aaxis": {
             "endlinecolor": "#2a3f5f",
             "gridcolor": "#C8D4E3",
             "linecolor": "#C8D4E3",
             "minorgridcolor": "#C8D4E3",
             "startlinecolor": "#2a3f5f"
            },
            "baxis": {
             "endlinecolor": "#2a3f5f",
             "gridcolor": "#C8D4E3",
             "linecolor": "#C8D4E3",
             "minorgridcolor": "#C8D4E3",
             "startlinecolor": "#2a3f5f"
            },
            "type": "carpet"
           }
          ],
          "choropleth": [
           {
            "colorbar": {
             "outlinewidth": 0,
             "ticks": ""
            },
            "type": "choropleth"
           }
          ],
          "contour": [
           {
            "colorbar": {
             "outlinewidth": 0,
             "ticks": ""
            },
            "colorscale": [
             [
              0,
              "#0d0887"
             ],
             [
              0.1111111111111111,
              "#46039f"
             ],
             [
              0.2222222222222222,
              "#7201a8"
             ],
             [
              0.3333333333333333,
              "#9c179e"
             ],
             [
              0.4444444444444444,
              "#bd3786"
             ],
             [
              0.5555555555555556,
              "#d8576b"
             ],
             [
              0.6666666666666666,
              "#ed7953"
             ],
             [
              0.7777777777777778,
              "#fb9f3a"
             ],
             [
              0.8888888888888888,
              "#fdca26"
             ],
             [
              1,
              "#f0f921"
             ]
            ],
            "type": "contour"
           }
          ],
          "contourcarpet": [
           {
            "colorbar": {
             "outlinewidth": 0,
             "ticks": ""
            },
            "type": "contourcarpet"
           }
          ],
          "heatmap": [
           {
            "colorbar": {
             "outlinewidth": 0,
             "ticks": ""
            },
            "colorscale": [
             [
              0,
              "#0d0887"
             ],
             [
              0.1111111111111111,
              "#46039f"
             ],
             [
              0.2222222222222222,
              "#7201a8"
             ],
             [
              0.3333333333333333,
              "#9c179e"
             ],
             [
              0.4444444444444444,
              "#bd3786"
             ],
             [
              0.5555555555555556,
              "#d8576b"
             ],
             [
              0.6666666666666666,
              "#ed7953"
             ],
             [
              0.7777777777777778,
              "#fb9f3a"
             ],
             [
              0.8888888888888888,
              "#fdca26"
             ],
             [
              1,
              "#f0f921"
             ]
            ],
            "type": "heatmap"
           }
          ],
          "histogram": [
           {
            "marker": {
             "pattern": {
              "fillmode": "overlay",
              "size": 10,
              "solidity": 0.2
             }
            },
            "type": "histogram"
           }
          ],
          "histogram2d": [
           {
            "colorbar": {
             "outlinewidth": 0,
             "ticks": ""
            },
            "colorscale": [
             [
              0,
              "#0d0887"
             ],
             [
              0.1111111111111111,
              "#46039f"
             ],
             [
              0.2222222222222222,
              "#7201a8"
             ],
             [
              0.3333333333333333,
              "#9c179e"
             ],
             [
              0.4444444444444444,
              "#bd3786"
             ],
             [
              0.5555555555555556,
              "#d8576b"
             ],
             [
              0.6666666666666666,
              "#ed7953"
             ],
             [
              0.7777777777777778,
              "#fb9f3a"
             ],
             [
              0.8888888888888888,
              "#fdca26"
             ],
             [
              1,
              "#f0f921"
             ]
            ],
            "type": "histogram2d"
           }
          ],
          "histogram2dcontour": [
           {
            "colorbar": {
             "outlinewidth": 0,
             "ticks": ""
            },
            "colorscale": [
             [
              0,
              "#0d0887"
             ],
             [
              0.1111111111111111,
              "#46039f"
             ],
             [
              0.2222222222222222,
              "#7201a8"
             ],
             [
              0.3333333333333333,
              "#9c179e"
             ],
             [
              0.4444444444444444,
              "#bd3786"
             ],
             [
              0.5555555555555556,
              "#d8576b"
             ],
             [
              0.6666666666666666,
              "#ed7953"
             ],
             [
              0.7777777777777778,
              "#fb9f3a"
             ],
             [
              0.8888888888888888,
              "#fdca26"
             ],
             [
              1,
              "#f0f921"
             ]
            ],
            "type": "histogram2dcontour"
           }
          ],
          "mesh3d": [
           {
            "colorbar": {
             "outlinewidth": 0,
             "ticks": ""
            },
            "type": "mesh3d"
           }
          ],
          "parcoords": [
           {
            "line": {
             "colorbar": {
              "outlinewidth": 0,
              "ticks": ""
             }
            },
            "type": "parcoords"
           }
          ],
          "pie": [
           {
            "automargin": true,
            "type": "pie"
           }
          ],
          "scatter": [
           {
            "fillpattern": {
             "fillmode": "overlay",
             "size": 10,
             "solidity": 0.2
            },
            "type": "scatter"
           }
          ],
          "scatter3d": [
           {
            "line": {
             "colorbar": {
              "outlinewidth": 0,
              "ticks": ""
             }
            },
            "marker": {
             "colorbar": {
              "outlinewidth": 0,
              "ticks": ""
             }
            },
            "type": "scatter3d"
           }
          ],
          "scattercarpet": [
           {
            "marker": {
             "colorbar": {
              "outlinewidth": 0,
              "ticks": ""
             }
            },
            "type": "scattercarpet"
           }
          ],
          "scattergeo": [
           {
            "marker": {
             "colorbar": {
              "outlinewidth": 0,
              "ticks": ""
             }
            },
            "type": "scattergeo"
           }
          ],
          "scattergl": [
           {
            "marker": {
             "colorbar": {
              "outlinewidth": 0,
              "ticks": ""
             }
            },
            "type": "scattergl"
           }
          ],
          "scattermap": [
           {
            "marker": {
             "colorbar": {
              "outlinewidth": 0,
              "ticks": ""
             }
            },
            "type": "scattermap"
           }
          ],
          "scattermapbox": [
           {
            "marker": {
             "colorbar": {
              "outlinewidth": 0,
              "ticks": ""
             }
            },
            "type": "scattermapbox"
           }
          ],
          "scatterpolar": [
           {
            "marker": {
             "colorbar": {
              "outlinewidth": 0,
              "ticks": ""
             }
            },
            "type": "scatterpolar"
           }
          ],
          "scatterpolargl": [
           {
            "marker": {
             "colorbar": {
              "outlinewidth": 0,
              "ticks": ""
             }
            },
            "type": "scatterpolargl"
           }
          ],
          "scatterternary": [
           {
            "marker": {
             "colorbar": {
              "outlinewidth": 0,
              "ticks": ""
             }
            },
            "type": "scatterternary"
           }
          ],
          "surface": [
           {
            "colorbar": {
             "outlinewidth": 0,
             "ticks": ""
            },
            "colorscale": [
             [
              0,
              "#0d0887"
             ],
             [
              0.1111111111111111,
              "#46039f"
             ],
             [
              0.2222222222222222,
              "#7201a8"
             ],
             [
              0.3333333333333333,
              "#9c179e"
             ],
             [
              0.4444444444444444,
              "#bd3786"
             ],
             [
              0.5555555555555556,
              "#d8576b"
             ],
             [
              0.6666666666666666,
              "#ed7953"
             ],
             [
              0.7777777777777778,
              "#fb9f3a"
             ],
             [
              0.8888888888888888,
              "#fdca26"
             ],
             [
              1,
              "#f0f921"
             ]
            ],
            "type": "surface"
           }
          ],
          "table": [
           {
            "cells": {
             "fill": {
              "color": "#EBF0F8"
             },
             "line": {
              "color": "white"
             }
            },
            "header": {
             "fill": {
              "color": "#C8D4E3"
             },
             "line": {
              "color": "white"
             }
            },
            "type": "table"
           }
          ]
         },
         "layout": {
          "annotationdefaults": {
           "arrowcolor": "#2a3f5f",
           "arrowhead": 0,
           "arrowwidth": 1
          },
          "autotypenumbers": "strict",
          "coloraxis": {
           "colorbar": {
            "outlinewidth": 0,
            "ticks": ""
           }
          },
          "colorscale": {
           "diverging": [
            [
             0,
             "#8e0152"
            ],
            [
             0.1,
             "#c51b7d"
            ],
            [
             0.2,
             "#de77ae"
            ],
            [
             0.3,
             "#f1b6da"
            ],
            [
             0.4,
             "#fde0ef"
            ],
            [
             0.5,
             "#f7f7f7"
            ],
            [
             0.6,
             "#e6f5d0"
            ],
            [
             0.7,
             "#b8e186"
            ],
            [
             0.8,
             "#7fbc41"
            ],
            [
             0.9,
             "#4d9221"
            ],
            [
             1,
             "#276419"
            ]
           ],
           "sequential": [
            [
             0,
             "#0d0887"
            ],
            [
             0.1111111111111111,
             "#46039f"
            ],
            [
             0.2222222222222222,
             "#7201a8"
            ],
            [
             0.3333333333333333,
             "#9c179e"
            ],
            [
             0.4444444444444444,
             "#bd3786"
            ],
            [
             0.5555555555555556,
             "#d8576b"
            ],
            [
             0.6666666666666666,
             "#ed7953"
            ],
            [
             0.7777777777777778,
             "#fb9f3a"
            ],
            [
             0.8888888888888888,
             "#fdca26"
            ],
            [
             1,
             "#f0f921"
            ]
           ],
           "sequentialminus": [
            [
             0,
             "#0d0887"
            ],
            [
             0.1111111111111111,
             "#46039f"
            ],
            [
             0.2222222222222222,
             "#7201a8"
            ],
            [
             0.3333333333333333,
             "#9c179e"
            ],
            [
             0.4444444444444444,
             "#bd3786"
            ],
            [
             0.5555555555555556,
             "#d8576b"
            ],
            [
             0.6666666666666666,
             "#ed7953"
            ],
            [
             0.7777777777777778,
             "#fb9f3a"
            ],
            [
             0.8888888888888888,
             "#fdca26"
            ],
            [
             1,
             "#f0f921"
            ]
           ]
          },
          "colorway": [
           "#636efa",
           "#EF553B",
           "#00cc96",
           "#ab63fa",
           "#FFA15A",
           "#19d3f3",
           "#FF6692",
           "#B6E880",
           "#FF97FF",
           "#FECB52"
          ],
          "font": {
           "color": "#2a3f5f"
          },
          "geo": {
           "bgcolor": "white",
           "lakecolor": "white",
           "landcolor": "white",
           "showlakes": true,
           "showland": true,
           "subunitcolor": "#C8D4E3"
          },
          "hoverlabel": {
           "align": "left"
          },
          "hovermode": "closest",
          "mapbox": {
           "style": "light"
          },
          "paper_bgcolor": "white",
          "plot_bgcolor": "white",
          "polar": {
           "angularaxis": {
            "gridcolor": "#EBF0F8",
            "linecolor": "#EBF0F8",
            "ticks": ""
           },
           "bgcolor": "white",
           "radialaxis": {
            "gridcolor": "#EBF0F8",
            "linecolor": "#EBF0F8",
            "ticks": ""
           }
          },
          "scene": {
           "xaxis": {
            "backgroundcolor": "white",
            "gridcolor": "#DFE8F3",
            "gridwidth": 2,
            "linecolor": "#EBF0F8",
            "showbackground": true,
            "ticks": "",
            "zerolinecolor": "#EBF0F8"
           },
           "yaxis": {
            "backgroundcolor": "white",
            "gridcolor": "#DFE8F3",
            "gridwidth": 2,
            "linecolor": "#EBF0F8",
            "showbackground": true,
            "ticks": "",
            "zerolinecolor": "#EBF0F8"
           },
           "zaxis": {
            "backgroundcolor": "white",
            "gridcolor": "#DFE8F3",
            "gridwidth": 2,
            "linecolor": "#EBF0F8",
            "showbackground": true,
            "ticks": "",
            "zerolinecolor": "#EBF0F8"
           }
          },
          "shapedefaults": {
           "line": {
            "color": "#2a3f5f"
           }
          },
          "ternary": {
           "aaxis": {
            "gridcolor": "#DFE8F3",
            "linecolor": "#A2B1C6",
            "ticks": ""
           },
           "baxis": {
            "gridcolor": "#DFE8F3",
            "linecolor": "#A2B1C6",
            "ticks": ""
           },
           "bgcolor": "white",
           "caxis": {
            "gridcolor": "#DFE8F3",
            "linecolor": "#A2B1C6",
            "ticks": ""
           }
          },
          "title": {
           "x": 0.05
          },
          "xaxis": {
           "automargin": true,
           "gridcolor": "#EBF0F8",
           "linecolor": "#EBF0F8",
           "ticks": "",
           "title": {
            "standoff": 15
           },
           "zerolinecolor": "#EBF0F8",
           "zerolinewidth": 2
          },
          "yaxis": {
           "automargin": true,
           "gridcolor": "#EBF0F8",
           "linecolor": "#EBF0F8",
           "ticks": "",
           "title": {
            "standoff": 15
           },
           "zerolinecolor": "#EBF0F8",
           "zerolinewidth": 2
          }
         }
        },
        "title": {
         "text": "SHAP vs TimeSHAP for Sequence 1 (Synthetic Background, mode=event, pruned_idx=0, reverse=True)"
        },
        "xaxis": {
         "title": {
          "text": "Timestep"
         }
        },
        "yaxis": {
         "title": {
          "text": "Explanation Value"
         }
        }
       }
      }
     },
     "metadata": {},
     "output_type": "display_data"
    },
    {
     "name": "stdout",
     "output_type": "stream",
     "text": [
      "Correlation for sequence 2 (Synthetic Background, mode=event, pruned_idx=0, reverse=True): 0.9402\n"
     ]
    },
    {
     "data": {
      "application/vnd.plotly.v1+json": {
       "config": {
        "plotlyServerURL": "https://plot.ly"
       },
       "data": [
        {
         "line": {
          "color": "blue"
         },
         "mode": "lines+markers",
         "name": "SHAP",
         "type": "scatter",
         "x": {
          "bdata": "AAECAwQFBgcICQoLDA0ODxAREhMUFRYXGBkaGxwdHh8gISIjJCUmJygpKissLS4vMDEyMzQ1Njc4OTo7PD0+P0BBQkNERUZHSElKS0xNTk9QUVJTVFVWV1hZWltcXV5fYGFiY2RlZmdoaWprbG1ub3BxcnN0dXZ3",
          "dtype": "i1"
         },
         "y": {
          "bdata": "AAAAAAAAAAAAAAAAAAAAAAAAAAAAAAAAAAAAAAAAAAAAAAAAAAAAAAAAAAAAAAAAAAAAAAAAAAAAAAAAAAAAAAAAAAAAAAAAAAAAAAAAAAAAAAAAAAAAAAAAAAAAAAAAAAAAAAAAAAAAAAAAAAAAAAAAAAAAAAAAgHQjYTW2fD8AAAAAAAAAAAAAAAAAAAAAAAAAAAAAAAAAAAAAAAAAAAAAAAAAAAAAAAAAAAAAAADg8/HjpJ+FPwAAAAAAAAAAAAAAAAAAAAAAuDWyXIBTvwAAAAAAAAAAzqaueIQrkj8AAAAAAAAAAAAAAAAAAAAAAAAAAAAAAAAAAAAAAAAAAAAAAAAAAAAAAAAAAAAAAAAAAAAAAAAAAAAAAAAAAAAAAAAAAAAAAAAAAAAAAAAAAAAAAAAAAAAAAAAAAAAAAAAAAAAAAAAAAGwnCtyMOJq/AAAAAAAAAABEzwz2w6SNvwAAAAAAAAAAAAAAAAAAAAAAAAAAAAAAAAAAAAAAAAAAIFaxTufdlj8AAAAAAAAAAM4IEwi7fnW/AAAAAAAAAAAAAAAAAAAAAAgw+O5MJH8/AAAAAAAAAAAAAAAAAAAAAAAAAAAAAAAAAAAAAAAAAAAAAAAAAAAAAAAAAAAAAAAA1IXLmsXKgL8AAAAAAAAAAAAAAAAAAAAA2b8pN/BLjr8AAAAAAAAAABBnmSD8tXy/AAAAAAAAAAAAAAAAAAAAAAAAAAAAAAAAoFgBkqrYcL8AAAAAAAAAAGCh6GzkQH2/AAAAAAAAAAAAAAAAAAAAACBMcl120ZA/AAAAAAAAAACySe+/L3OYP+BJP6fOXX8/AAAAAAAAAACEeX7IS9WLvwAAAAAAAAAAAAAAAAAAAACgFwdWMeyRvwAAAAAAAAAAAAAAAAAAAAAAAAAAAAAAAAAAAAAAAAAAAAAAAAAAAAAAAAAAAAAAAAAAAAAAAAAAAAAAAAAAAAAAAAAAAAAAAAAAAAAAAAAAAAAAAAAAAAAAAAAAAAAAAAAAAAAAAAAAAMceSatubj8AAAAAAAAAAFU4PWSoxYQ/AAAAAAAAAAAAAAAAAAAAAAAAAAAAAAAAAAAAAAAAAAA4XnjPmjibvwAAAAAAAAAA/IJlSAr5kL8dgwsxDxKIv0xOlkurY6S/8CTdqTiVnb/YzTTm1VKhv1zSzdjSW6O/nWC46yqDnL8QyiMzaNqBv5o+9+15EoS/AJvJGDtrij8QJFH0JzqWPyY+f/4qias/pJxtUH1OtD9qlaEVq327P9qOKgGWdbo/",
          "dtype": "f8"
         }
        },
        {
         "line": {
          "color": "red"
         },
         "mode": "lines+markers",
         "name": "TimeSHAP",
         "type": "scatter",
         "x": {
          "bdata": "AAECAwQFBgcICQoLDA0ODxAREhMUFRYXGBkaGxwdHh8gISIjJCUmJygpKissLS4vMDEyMzQ1Njc4OTo7PD0+P0BBQkNERUZHSElKS0xNTk9QUVJTVFVWV1hZWltcXV5fYGFiY2RlZmdoaWprbG1ub3BxcnN0dXZ3",
          "dtype": "i1"
         },
         "y": {
          "bdata": "QI6JNxukaT8fwvF6eEZbPzw0Rsd5s2Q/AAAAAAAAAAAa+bxrZShUvwAAAAAAAAAApCuYoPxjcL8AAAAAAAAAAI5HpNUWHHG/AAAAAAAAAAAAAAAAAAAAAFwYlOkHK2i/I8bcTXMzaT/QCpmblmljvyjXpen2vlg/AAAAAAAAAAC/EZLH5H5wvwAAAAAAAAAAxoIUcBzfZT8AAAAAAAAAABaynEwQgWS/AAAAAAAAAACv5N/hRx9avwAAAAAAAAAAAAAAAAAAAAAAAAAAAAAAAAun8XNIRGu/AAAAAAAAAAAAAAAAAAAAAAAAAAAAAAAAAAAAAAAAAAAAAAAAAAAAAKPZD3CsG2C/AAAAAAAAAABikjqXJMNcvwAAAAAAAAAAAAAAAAAAAAAAAAAAAAAAAAAAAAAAAAAAAAAAAAAAAABH98Q1X49hvwAAAAAAAAAAJ9rhqZ41YT8AAAAAAAAAAAAAAAAAAAAAIPqQ1z/5Yj9SWxAGryVZPwAAAAAAAAAAAAAAAAAAAAAAAAAAAAAAAHGlhl8qaGu/AAAAAAAAAAAAAAAAAAAAAPmWmJ/5oGQ/AAAAAAAAAABAekcEERlgPw4NbAlnhms/88VVEyAwZT8AAAAAAAAAAAAAAAAAAAAAAAAAAAAAAAAAAAAAAAAAAAAAAAAAAAAAPc2t6iWuc79zSYH+Z3hmv0p9TATKWGe/s5pFLiQQeL+eTKkhWQ5gv/G7xwfxm2e/AAAAAAAAAACHyBjF0pZevwAAAAAAAAAAe/A5Mc5ldD/FCeuUb4l3P4l0XNzv7G4/Bl6MdVjMcD8b60tacFp9PzLcP5Y+NXY/AAAAAAAAAAAAAAAAAAAAAAAAAAAAAAAAAxVmv1tZWb//hSQlU4t0v3Bz3fv3rGu/B0hzRxKQcr9nUFyYwgp5v+0PuBHapHS/PI400QmcWL8AAAAAAAAAAK2s5oHGZ2E/twA2BvmzZ78AAAAAAAAAADL3JgWl8WU/FT0N2XYPZj8Q39JTPbp7PwJ5yJ2g/H8/4nTeeMBLgD/u/MnHIRSDPxRFafn61oQ/dcu7IkwSfD9rVoF1/zJ0P7uQfOchDXc/m6btW7nzW7/fzoGbHsxxv4KOUDIkpoa/SLk/PF7AlL9HvmX5dlubv+uhCiKR8p6/Fq4+716oor+WTjWozDukv3qe0I16HKO/OLLvNQlzn79SDjyCHLOWv4Oaq6rjTJC/gaQfX8Hjaj9aA+83hOObP8nTVv0H/Ko/EQZipCcxtT8Vl35LIaK7P/dJ+JHOVbs/",
          "dtype": "f8"
         }
        }
       ],
       "layout": {
        "shapes": [
         {
          "line": {
           "color": "gray",
           "dash": "dash"
          },
          "type": "line",
          "x0": 0,
          "x1": 1,
          "xref": "x domain",
          "y0": 0,
          "y1": 0,
          "yref": "y"
         }
        ],
        "template": {
         "data": {
          "bar": [
           {
            "error_x": {
             "color": "#2a3f5f"
            },
            "error_y": {
             "color": "#2a3f5f"
            },
            "marker": {
             "line": {
              "color": "white",
              "width": 0.5
             },
             "pattern": {
              "fillmode": "overlay",
              "size": 10,
              "solidity": 0.2
             }
            },
            "type": "bar"
           }
          ],
          "barpolar": [
           {
            "marker": {
             "line": {
              "color": "white",
              "width": 0.5
             },
             "pattern": {
              "fillmode": "overlay",
              "size": 10,
              "solidity": 0.2
             }
            },
            "type": "barpolar"
           }
          ],
          "carpet": [
           {
            "aaxis": {
             "endlinecolor": "#2a3f5f",
             "gridcolor": "#C8D4E3",
             "linecolor": "#C8D4E3",
             "minorgridcolor": "#C8D4E3",
             "startlinecolor": "#2a3f5f"
            },
            "baxis": {
             "endlinecolor": "#2a3f5f",
             "gridcolor": "#C8D4E3",
             "linecolor": "#C8D4E3",
             "minorgridcolor": "#C8D4E3",
             "startlinecolor": "#2a3f5f"
            },
            "type": "carpet"
           }
          ],
          "choropleth": [
           {
            "colorbar": {
             "outlinewidth": 0,
             "ticks": ""
            },
            "type": "choropleth"
           }
          ],
          "contour": [
           {
            "colorbar": {
             "outlinewidth": 0,
             "ticks": ""
            },
            "colorscale": [
             [
              0,
              "#0d0887"
             ],
             [
              0.1111111111111111,
              "#46039f"
             ],
             [
              0.2222222222222222,
              "#7201a8"
             ],
             [
              0.3333333333333333,
              "#9c179e"
             ],
             [
              0.4444444444444444,
              "#bd3786"
             ],
             [
              0.5555555555555556,
              "#d8576b"
             ],
             [
              0.6666666666666666,
              "#ed7953"
             ],
             [
              0.7777777777777778,
              "#fb9f3a"
             ],
             [
              0.8888888888888888,
              "#fdca26"
             ],
             [
              1,
              "#f0f921"
             ]
            ],
            "type": "contour"
           }
          ],
          "contourcarpet": [
           {
            "colorbar": {
             "outlinewidth": 0,
             "ticks": ""
            },
            "type": "contourcarpet"
           }
          ],
          "heatmap": [
           {
            "colorbar": {
             "outlinewidth": 0,
             "ticks": ""
            },
            "colorscale": [
             [
              0,
              "#0d0887"
             ],
             [
              0.1111111111111111,
              "#46039f"
             ],
             [
              0.2222222222222222,
              "#7201a8"
             ],
             [
              0.3333333333333333,
              "#9c179e"
             ],
             [
              0.4444444444444444,
              "#bd3786"
             ],
             [
              0.5555555555555556,
              "#d8576b"
             ],
             [
              0.6666666666666666,
              "#ed7953"
             ],
             [
              0.7777777777777778,
              "#fb9f3a"
             ],
             [
              0.8888888888888888,
              "#fdca26"
             ],
             [
              1,
              "#f0f921"
             ]
            ],
            "type": "heatmap"
           }
          ],
          "histogram": [
           {
            "marker": {
             "pattern": {
              "fillmode": "overlay",
              "size": 10,
              "solidity": 0.2
             }
            },
            "type": "histogram"
           }
          ],
          "histogram2d": [
           {
            "colorbar": {
             "outlinewidth": 0,
             "ticks": ""
            },
            "colorscale": [
             [
              0,
              "#0d0887"
             ],
             [
              0.1111111111111111,
              "#46039f"
             ],
             [
              0.2222222222222222,
              "#7201a8"
             ],
             [
              0.3333333333333333,
              "#9c179e"
             ],
             [
              0.4444444444444444,
              "#bd3786"
             ],
             [
              0.5555555555555556,
              "#d8576b"
             ],
             [
              0.6666666666666666,
              "#ed7953"
             ],
             [
              0.7777777777777778,
              "#fb9f3a"
             ],
             [
              0.8888888888888888,
              "#fdca26"
             ],
             [
              1,
              "#f0f921"
             ]
            ],
            "type": "histogram2d"
           }
          ],
          "histogram2dcontour": [
           {
            "colorbar": {
             "outlinewidth": 0,
             "ticks": ""
            },
            "colorscale": [
             [
              0,
              "#0d0887"
             ],
             [
              0.1111111111111111,
              "#46039f"
             ],
             [
              0.2222222222222222,
              "#7201a8"
             ],
             [
              0.3333333333333333,
              "#9c179e"
             ],
             [
              0.4444444444444444,
              "#bd3786"
             ],
             [
              0.5555555555555556,
              "#d8576b"
             ],
             [
              0.6666666666666666,
              "#ed7953"
             ],
             [
              0.7777777777777778,
              "#fb9f3a"
             ],
             [
              0.8888888888888888,
              "#fdca26"
             ],
             [
              1,
              "#f0f921"
             ]
            ],
            "type": "histogram2dcontour"
           }
          ],
          "mesh3d": [
           {
            "colorbar": {
             "outlinewidth": 0,
             "ticks": ""
            },
            "type": "mesh3d"
           }
          ],
          "parcoords": [
           {
            "line": {
             "colorbar": {
              "outlinewidth": 0,
              "ticks": ""
             }
            },
            "type": "parcoords"
           }
          ],
          "pie": [
           {
            "automargin": true,
            "type": "pie"
           }
          ],
          "scatter": [
           {
            "fillpattern": {
             "fillmode": "overlay",
             "size": 10,
             "solidity": 0.2
            },
            "type": "scatter"
           }
          ],
          "scatter3d": [
           {
            "line": {
             "colorbar": {
              "outlinewidth": 0,
              "ticks": ""
             }
            },
            "marker": {
             "colorbar": {
              "outlinewidth": 0,
              "ticks": ""
             }
            },
            "type": "scatter3d"
           }
          ],
          "scattercarpet": [
           {
            "marker": {
             "colorbar": {
              "outlinewidth": 0,
              "ticks": ""
             }
            },
            "type": "scattercarpet"
           }
          ],
          "scattergeo": [
           {
            "marker": {
             "colorbar": {
              "outlinewidth": 0,
              "ticks": ""
             }
            },
            "type": "scattergeo"
           }
          ],
          "scattergl": [
           {
            "marker": {
             "colorbar": {
              "outlinewidth": 0,
              "ticks": ""
             }
            },
            "type": "scattergl"
           }
          ],
          "scattermap": [
           {
            "marker": {
             "colorbar": {
              "outlinewidth": 0,
              "ticks": ""
             }
            },
            "type": "scattermap"
           }
          ],
          "scattermapbox": [
           {
            "marker": {
             "colorbar": {
              "outlinewidth": 0,
              "ticks": ""
             }
            },
            "type": "scattermapbox"
           }
          ],
          "scatterpolar": [
           {
            "marker": {
             "colorbar": {
              "outlinewidth": 0,
              "ticks": ""
             }
            },
            "type": "scatterpolar"
           }
          ],
          "scatterpolargl": [
           {
            "marker": {
             "colorbar": {
              "outlinewidth": 0,
              "ticks": ""
             }
            },
            "type": "scatterpolargl"
           }
          ],
          "scatterternary": [
           {
            "marker": {
             "colorbar": {
              "outlinewidth": 0,
              "ticks": ""
             }
            },
            "type": "scatterternary"
           }
          ],
          "surface": [
           {
            "colorbar": {
             "outlinewidth": 0,
             "ticks": ""
            },
            "colorscale": [
             [
              0,
              "#0d0887"
             ],
             [
              0.1111111111111111,
              "#46039f"
             ],
             [
              0.2222222222222222,
              "#7201a8"
             ],
             [
              0.3333333333333333,
              "#9c179e"
             ],
             [
              0.4444444444444444,
              "#bd3786"
             ],
             [
              0.5555555555555556,
              "#d8576b"
             ],
             [
              0.6666666666666666,
              "#ed7953"
             ],
             [
              0.7777777777777778,
              "#fb9f3a"
             ],
             [
              0.8888888888888888,
              "#fdca26"
             ],
             [
              1,
              "#f0f921"
             ]
            ],
            "type": "surface"
           }
          ],
          "table": [
           {
            "cells": {
             "fill": {
              "color": "#EBF0F8"
             },
             "line": {
              "color": "white"
             }
            },
            "header": {
             "fill": {
              "color": "#C8D4E3"
             },
             "line": {
              "color": "white"
             }
            },
            "type": "table"
           }
          ]
         },
         "layout": {
          "annotationdefaults": {
           "arrowcolor": "#2a3f5f",
           "arrowhead": 0,
           "arrowwidth": 1
          },
          "autotypenumbers": "strict",
          "coloraxis": {
           "colorbar": {
            "outlinewidth": 0,
            "ticks": ""
           }
          },
          "colorscale": {
           "diverging": [
            [
             0,
             "#8e0152"
            ],
            [
             0.1,
             "#c51b7d"
            ],
            [
             0.2,
             "#de77ae"
            ],
            [
             0.3,
             "#f1b6da"
            ],
            [
             0.4,
             "#fde0ef"
            ],
            [
             0.5,
             "#f7f7f7"
            ],
            [
             0.6,
             "#e6f5d0"
            ],
            [
             0.7,
             "#b8e186"
            ],
            [
             0.8,
             "#7fbc41"
            ],
            [
             0.9,
             "#4d9221"
            ],
            [
             1,
             "#276419"
            ]
           ],
           "sequential": [
            [
             0,
             "#0d0887"
            ],
            [
             0.1111111111111111,
             "#46039f"
            ],
            [
             0.2222222222222222,
             "#7201a8"
            ],
            [
             0.3333333333333333,
             "#9c179e"
            ],
            [
             0.4444444444444444,
             "#bd3786"
            ],
            [
             0.5555555555555556,
             "#d8576b"
            ],
            [
             0.6666666666666666,
             "#ed7953"
            ],
            [
             0.7777777777777778,
             "#fb9f3a"
            ],
            [
             0.8888888888888888,
             "#fdca26"
            ],
            [
             1,
             "#f0f921"
            ]
           ],
           "sequentialminus": [
            [
             0,
             "#0d0887"
            ],
            [
             0.1111111111111111,
             "#46039f"
            ],
            [
             0.2222222222222222,
             "#7201a8"
            ],
            [
             0.3333333333333333,
             "#9c179e"
            ],
            [
             0.4444444444444444,
             "#bd3786"
            ],
            [
             0.5555555555555556,
             "#d8576b"
            ],
            [
             0.6666666666666666,
             "#ed7953"
            ],
            [
             0.7777777777777778,
             "#fb9f3a"
            ],
            [
             0.8888888888888888,
             "#fdca26"
            ],
            [
             1,
             "#f0f921"
            ]
           ]
          },
          "colorway": [
           "#636efa",
           "#EF553B",
           "#00cc96",
           "#ab63fa",
           "#FFA15A",
           "#19d3f3",
           "#FF6692",
           "#B6E880",
           "#FF97FF",
           "#FECB52"
          ],
          "font": {
           "color": "#2a3f5f"
          },
          "geo": {
           "bgcolor": "white",
           "lakecolor": "white",
           "landcolor": "white",
           "showlakes": true,
           "showland": true,
           "subunitcolor": "#C8D4E3"
          },
          "hoverlabel": {
           "align": "left"
          },
          "hovermode": "closest",
          "mapbox": {
           "style": "light"
          },
          "paper_bgcolor": "white",
          "plot_bgcolor": "white",
          "polar": {
           "angularaxis": {
            "gridcolor": "#EBF0F8",
            "linecolor": "#EBF0F8",
            "ticks": ""
           },
           "bgcolor": "white",
           "radialaxis": {
            "gridcolor": "#EBF0F8",
            "linecolor": "#EBF0F8",
            "ticks": ""
           }
          },
          "scene": {
           "xaxis": {
            "backgroundcolor": "white",
            "gridcolor": "#DFE8F3",
            "gridwidth": 2,
            "linecolor": "#EBF0F8",
            "showbackground": true,
            "ticks": "",
            "zerolinecolor": "#EBF0F8"
           },
           "yaxis": {
            "backgroundcolor": "white",
            "gridcolor": "#DFE8F3",
            "gridwidth": 2,
            "linecolor": "#EBF0F8",
            "showbackground": true,
            "ticks": "",
            "zerolinecolor": "#EBF0F8"
           },
           "zaxis": {
            "backgroundcolor": "white",
            "gridcolor": "#DFE8F3",
            "gridwidth": 2,
            "linecolor": "#EBF0F8",
            "showbackground": true,
            "ticks": "",
            "zerolinecolor": "#EBF0F8"
           }
          },
          "shapedefaults": {
           "line": {
            "color": "#2a3f5f"
           }
          },
          "ternary": {
           "aaxis": {
            "gridcolor": "#DFE8F3",
            "linecolor": "#A2B1C6",
            "ticks": ""
           },
           "baxis": {
            "gridcolor": "#DFE8F3",
            "linecolor": "#A2B1C6",
            "ticks": ""
           },
           "bgcolor": "white",
           "caxis": {
            "gridcolor": "#DFE8F3",
            "linecolor": "#A2B1C6",
            "ticks": ""
           }
          },
          "title": {
           "x": 0.05
          },
          "xaxis": {
           "automargin": true,
           "gridcolor": "#EBF0F8",
           "linecolor": "#EBF0F8",
           "ticks": "",
           "title": {
            "standoff": 15
           },
           "zerolinecolor": "#EBF0F8",
           "zerolinewidth": 2
          },
          "yaxis": {
           "automargin": true,
           "gridcolor": "#EBF0F8",
           "linecolor": "#EBF0F8",
           "ticks": "",
           "title": {
            "standoff": 15
           },
           "zerolinecolor": "#EBF0F8",
           "zerolinewidth": 2
          }
         }
        },
        "title": {
         "text": "SHAP vs TimeSHAP for Sequence 2 (Synthetic Background, mode=event, pruned_idx=0, reverse=True)"
        },
        "xaxis": {
         "title": {
          "text": "Timestep"
         }
        },
        "yaxis": {
         "title": {
          "text": "Explanation Value"
         }
        }
       }
      }
     },
     "metadata": {},
     "output_type": "display_data"
    },
    {
     "name": "stdout",
     "output_type": "stream",
     "text": [
      "Correlation for sequence 3 (Synthetic Background, mode=event, pruned_idx=0, reverse=True): 0.8682\n",
      "Correlation for sequence 4 (Synthetic Background, mode=event, pruned_idx=0, reverse=True): 0.9531\n",
      "Correlation for sequence 5 (Synthetic Background, mode=event, pruned_idx=0, reverse=True): 0.9375\n",
      "Correlation for sequence 6 (Synthetic Background, mode=event, pruned_idx=0, reverse=True): 0.7661\n",
      "Correlation for sequence 7 (Synthetic Background, mode=event, pruned_idx=0, reverse=True): 0.9281\n",
      "Correlation for sequence 8 (Synthetic Background, mode=event, pruned_idx=0, reverse=True): 0.9486\n",
      "Correlation for sequence 9 (Synthetic Background, mode=event, pruned_idx=0, reverse=True): 0.9433\n",
      "Correlation for sequence 10 (Synthetic Background, mode=event, pruned_idx=0, reverse=True): 0.9119\n",
      "Correlation for sequence 11 (Synthetic Background, mode=event, pruned_idx=0, reverse=True): 0.9573\n",
      "Correlation for sequence 12 (Synthetic Background, mode=event, pruned_idx=0, reverse=True): 0.9611\n",
      "Correlation for sequence 13 (Synthetic Background, mode=event, pruned_idx=0, reverse=True): 0.9552\n",
      "Correlation for sequence 14 (Synthetic Background, mode=event, pruned_idx=0, reverse=True): 0.9621\n",
      "Correlation for sequence 15 (Synthetic Background, mode=event, pruned_idx=0, reverse=True): 0.9067\n",
      "Correlation for sequence 16 (Synthetic Background, mode=event, pruned_idx=0, reverse=True): 0.9627\n",
      "Correlation for sequence 17 (Synthetic Background, mode=event, pruned_idx=0, reverse=True): 0.9480\n",
      "Correlation for sequence 18 (Synthetic Background, mode=event, pruned_idx=0, reverse=True): 0.9447\n",
      "Correlation for sequence 19 (Synthetic Background, mode=event, pruned_idx=0, reverse=True): 0.9630\n",
      "\n",
      "Results for Synthetic Background (mode=event, pruned_idx=0, reverse=True):\n",
      "Mean Correlation: 0.9313\n",
      "Median Correlation: 0.9463\n",
      "Min Correlation: 0.7661\n",
      "Max Correlation: 0.9630\n",
      "Standard Deviation: 0.0448\n"
     ]
    }
   ],
   "source": [
    "# sample 20 sequences from the test data using numpy\n",
    "\n",
    "sample_idx = np.random.choice(np.arange(X_test.shape[0]), 20, replace=False)\n",
    "test_data = X_test[sample_idx]\n",
    "\n",
    "\n",
    "correlations_event_hs = compute_correlations(test_data, baseline_shap, baseline_timeshap, \"Synthetic Background\", mode=\"event\", pruned_idx=0, reverse=True)"
   ]
  },
  {
   "cell_type": "markdown",
   "metadata": {},
   "source": [
    "## Sequences with knee point"
   ]
  },
  {
   "cell_type": "code",
   "execution_count": 8,
   "metadata": {},
   "outputs": [
    {
     "name": "stdout",
     "output_type": "stream",
     "text": [
      "Shape of lowest_20_sequences: (20, 120, 1)\n"
     ]
    },
    {
     "data": {
      "application/vnd.plotly.v1+json": {
       "config": {
        "plotlyServerURL": "https://plot.ly"
       },
       "data": [
        {
         "line": {
          "width": 1
         },
         "mode": "lines",
         "name": "Sequence 0",
         "type": "scatter",
         "x": {
          "bdata": "AAECAwQFBgcICQoLDA0ODxAREhMUFRYXGBkaGxwdHh8gISIjJCUmJygpKissLS4vMDEyMzQ1Njc4OTo7PD0+P0BBQkNERUZHSElKS0xNTk9QUVJTVFVWV1hZWltcXV5fYGFiY2RlZmdoaWprbG1ub3BxcnN0dXZ3",
          "dtype": "i1"
         },
         "y": {
          "bdata": "WHkk9agn4z9wO414jhXjP9iRdwqCA+M/gIfhr37x4j9MJ8ltf9/iPxx8LEl/zeI/1JAJR3m74j9gcF5saKniP5wlKb5Hl+I/eLtnQRKF4j/MPBj7wnLiP4S0OPBUYOI/hC3HJcNN4j+wssGgCDviP+xOJmYgKOI/HA3zegUV4j8s+CXksgHiP/QavaYj7uE/aIC2x1La4T9gMxBMO8bhP8Q+yDjYseE/fK3ckiSd4T/UgPy/M4jhP8zgfFpjc+E/ZECIgbVe4T8Yu3dkIUrhP3hspDKeNeE/AHBnGyMh4T9A4RlOpwzhP7TbFPoh+OA/4HqxTorj4D9Y2kh7187gP5QVNK8AuuA/IEjMGf2k4D98jWrqw4/gPzABaFBMeuA/xL4de41k4D+44eSZfk7gP5yFFtwWOOA/7MULcU0h4D80vh2IGQrgP+ATS6Hk5N8/YIn485203z/gE/ZmTYPfP3jq9VjhUN8/OESqKEgd3z8gWMU0cOjePzhd+dtHst4/mIr4fL163j9IF3V2v0HeP0g6ISc8B94/sCqv7SHL3T94H9EoX43dP8hPOTfiTd0/SEOorpkL3T+wKOwBmsXcP6ixS1sKfNw/uI8N5REv3D94dHjJ197bP4gR0zKDi9s/cBhkSzs12z/QOnI9J9zaP0AqRDNugNo/WJggVzci2j+gNk7TqcHZP8i2E9LsXtk/SMq3fSf62D/IIoEAgZPYP+BxtoQgK9g/IGmeNC3B1z8gun86zlXXP3gWocAq6dY/wC9J8Wl71j+It772sgzWP3BfSPssndU/ANksKf8s1T/Y1bKqULzUP5AHIapIS9Q/wB++UQ7a0z/4z9DLyGjTP9DJn0Kf99I/4L5x4LiG0j/AYI3PPBbSPwBhOTpSptE/QHG8SiA30T9gzt3OwsjQP6B2IjfhWtA/gBF2+Y/azz8AHHcBsv/OPzAfcEjsJM4/sC2JkAJKzT/QWeqbuG7MPyC2uyzSkss/IFUlBRO2yj9QSU/nPtjJPzClYZUZ+cg/MHuE0WYYyD/Q3d9d6jXHP6Dfm/xnUcY/AJPgb6NqxT+ACtZ5YIHEP6BYpNxilcM/wI9zWm6mwj+Qwmu1RrTBP2ADta+vvsA/gMnuFtqKvz9g8rUVhZC9P0CmD+Dnjbs/QApM+omCuT9AQ7vo8m23P2B2rS+qT7U/QMhyUzcnsz9AXlvYIfSwP0C6boXia60/ANStLVrYqD9AUxSyuSykPwAFhTYg0J4/gKVF5xj9lD8AY5/CJWyFPwAAAAAAAAAA",
          "dtype": "f8"
         }
        },
        {
         "line": {
          "width": 1
         },
         "mode": "lines",
         "name": "Sequence 1",
         "type": "scatter",
         "x": {
          "bdata": "AAECAwQFBgcICQoLDA0ODxAREhMUFRYXGBkaGxwdHh8gISIjJCUmJygpKissLS4vMDEyMzQ1Njc4OTo7PD0+P0BBQkNERUZHSElKS0xNTk9QUVJTVFVWV1hZWltcXV5fYGFiY2RlZmdoaWprbG1ub3BxcnN0dXZ3",
          "dtype": "i1"
         },
         "y": {
          "bdata": "cCMzvHRr4z/0dhV1z1njP0z/5d0gSOM/hCBX+mU24z+wPhvOmyTjP9y95Fy/EuM/GAJmqs0A4z94b1G6w+7iPwhqWZCe3OI/3FUwMFvK4j8Al4id9rfiP4iRFNxtpeI/zIR+DNSS4j8Q7rGbfoDiPzgzLK5ubuI/BAJ0bJtc4j8cCBD/+0riP0Dzho6HOeI/HHFfQzUo4j9kLyBG/BbiP9DbT7/TBeI/FCR117L04T/ctRa3kOPhP+Q+u4Zk0uE/2GzpbiXB4T9w7SeYyq/hP2hu/SpLnuE/ZJ3wT56M4T8gKIgvu3rhP1C8SvKYaOE/qAe/wC5W4T/Yt2vDc0PhP5h61yJfMOE/oP2IB+gc4T+U7gaaBQnhPzj71wKv9OA/NNGCatvf4D9EHo75gcrgPxiQgNiZtOA/ZNTgLxqe4D/cmDUo+obgPzSLBeowb+A/IFnXnbVW4D9UsDFsfz3gP0gHFNVWI+A/jKDeCxAI4D/gt1KMZ9ffP5gyGHOVnN8/0HA9N7tf3z9AMvJD6iDfP4g2ZgQ04N4/UD3J46md3j84BktNXVneP+hQG6xfE94/AN1pa8LL3T8wamb2loLdPxC4QLjuN90/UIYoHNvr3D+QlE2NbZ7cP3ii33a3T9w/qG8ORMr/2z/Quwlgt67bP4hGATaQXNs/gM8kMWYJ2z9QFqS8SrXaP6jarkNPYNo/KNx0MYUK2j+I2iXx/bPZP1CV8e3KXNk/MMwHk/0E2T/QPphLp6zYP+Cs0oLZU9g/8NXmo6X61z+4eQQaHaHXP9BXW1BRR9c/cNmcY07t1j/gbOEi6JLWP6CUO///N9Y/+Gx9DYHc1T9gEnliVoDVPyihABNrI9U/yDXmM6rF1D+I7PvZ/mbUP9jhExpUB9Q/IDIACZWm0z+w+ZK7rETTP/BUnkaG4dI/UGD0vgx90j8YOGc5KxfSP8D4yMrMr9E/oL7rh9xG0T8YpqGFRdzQP5DLvNjyb9A/aEsPls8B0D/wg9akjSPPP2CXRUWHP84/4AkQN2JXzT8QFNqj9GrMP+DuR7UUess/ENP9lJiEyj8w+Z9sVorJP0Ca0mUki8g/4O45qtiGxz/gL3pjSX3GPwCWN7tMbsU/AFoW27hZxD/AtLrsYz/DP3ANBOmBG8I/kPa/6v/mwD/Acn3OGUW/PwDhdZ4nnrw/4GzeJv/auT+ASyxJdv22P+Cx1OZiB7Q/QNVM4Zr6sD9A1RM06LGrPwBOAuWISKU/AP6eMId5nT+ApcshiCSQPwAs+xphy2Q/",
          "dtype": "f8"
         }
        },
        {
         "line": {
          "width": 1
         },
         "mode": "lines",
         "name": "Sequence 2",
         "type": "scatter",
         "x": {
          "bdata": "AAECAwQFBgcICQoLDA0ODxAREhMUFRYXGBkaGxwdHh8gISIjJCUmJygpKissLS4vMDEyMzQ1Njc4OTo7PD0+P0BBQkNERUZHSElKS0xNTk9QUVJTVFVWV1hZWltcXV5fYGFiY2RlZmdoaWprbG1ub3BxcnN0dXZ3",
          "dtype": "i1"
         },
         "y": {
          "bdata": "vEA/e9Y54z9YeST1qCfjP3A7jXiOFeM/2JF3CoID4z+Ah+GvfvHiP0wnyW1/3+I/HHwsSX/N4j/UkAlHebviP2BwXmxoqeI/nCUpvkeX4j94u2dBEoXiP8w8GPvCcuI/hLQ48FRg4j+ELcclw03iP7CywaAIO+I/7E4mZiAo4j8cDfN6BRXiPyz4JeSyAeI/9Bq9piPu4T9ogLbHUtrhP2AzEEw7xuE/xD7IONix4T98rdySJJ3hP9SA/L8ziOE/zOB8WmNz4T9kQIiBtV7hPxi7d2QhSuE/eGykMp414T8AcGcbIyHhP0DhGU6nDOE/tNsU+iH44D/gerFOiuPgP1jaSHvXzuA/lBU0rwC64D8gSMwZ/aTgP3yNaurDj+A/MAFoUEx64D/Evh17jWTgP7jh5Jl+TuA/nIUW3BY44D/sxQtxTSHgPzS+HYgZCuA/4BNLoeTk3z9gifjznbTfP+AT9mZNg98/eOr1WOFQ3z84RKooSB3fPyBYxTRw6N4/OF3520ey3j+Yivh8vXreP0gXdXa/Qd4/SDohJzwH3j+wKq/tIcvdP3gf0Shfjd0/yE85N+JN3T9IQ6iumQvdP7Ao7AGaxdw/qLFLWwp83D+4jw3lES/cP3h0eMnX3ts/iBHTMoOL2z9wGGRLOzXbP9A6cj0n3No/QCpEM26A2j9YmCBXNyLaP6A2TtOpwdk/yLYT0uxe2T9Iyrd9J/rYP8gigQCBk9g/4HG2hCAr2D8gaZ40LcHXPyC6fzrOVdc/eBahwCrp1j/AL0nxaXvWP4i3vvayDNY/cF9I+yyd1T8A2Swp/yzVP9jVsqpQvNQ/kAchqkhL1D/AH75RDtrTP/jP0MvIaNM/0MmfQp/30j/gvnHguIbSP8Bgjc88FtI/AGE5OlKm0T9AcbxKIDfRP2DO3c7CyNA/oHYiN+Fa0D+AEXb5j9rPPwAcdwGy/84/MB9wSOwkzj+wLYmQAkrNP9BZ6pu4bsw/ILa7LNKSyz8gVSUFE7bKP1BJT+c+2Mk/MKVhlRn5yD8we4TRZhjIP9Dd313qNcc/oN+b/GdRxj8Ak+Bvo2rFP4AK1nlggcQ/oFik3GKVwz/Aj3NabqbCP5DCa7VGtME/YAO1r6++wD+Aye4W2oq/P2DytRWFkL0/QKYP4OeNuz9ACkz6iYK5P0BDu+jybbc/YHatL6pPtT9AyHJTNyezP0BeW9gh9LA/QLpuheJrrT8A1K0tWtioP0BTFLK5LKQ/AAWFNiDQnj+ApUXnGP2UPwBjn8IlbIU/",
          "dtype": "f8"
         }
        },
        {
         "line": {
          "width": 1
         },
         "mode": "lines",
         "name": "Sequence 3",
         "type": "scatter",
         "x": {
          "bdata": "AAECAwQFBgcICQoLDA0ODxAREhMUFRYXGBkaGxwdHh8gISIjJCUmJygpKissLS4vMDEyMzQ1Njc4OTo7PD0+P0BBQkNERUZHSElKS0xNTk9QUVJTVFVWV1hZWltcXV5fYGFiY2RlZmdoaWprbG1ub3BxcnN0dXZ3",
          "dtype": "i1"
         },
         "y": {
          "bdata": "qKCMrxN94z9wIzO8dGvjP/R2FXXPWeM/TP/l3SBI4z+EIFf6ZTbjP7A+G86bJOM/3L3kXL8S4z8YAmaqzQDjP3hvUbrD7uI/CGpZkJ7c4j/cVTAwW8riPwCXiJ32t+I/iJEU3G2l4j/MhH4M1JLiPxDusZt+gOI/ODMsrm5u4j8EAnRsm1ziPxwIEP/7SuI/QPOGjoc54j8ccV9DNSjiP2QvIEb8FuI/0NtPv9MF4j8UJHXXsvThP9y1FreQ4+E/5D67hmTS4T/YbOluJcHhP3DtJ5jKr+E/aG79Kkue4T9knfBPnozhPyAoiC+7euE/ULxK8pho4T+oB7/ALlbhP9i3a8NzQ+E/mHrXIl8w4T+g/YgH6BzhP5TuBpoFCeE/OPvXAq/04D800YJq29/gP0QejvmByuA/GJCA2Jm04D9k1OAvGp7gP9yYNSj6huA/NIsF6jBv4D8gWdedtVbgP1SwMWx/PeA/SAcU1VYj4D+MoN4LEAjgP+C3Uoxn198/mDIYc5Wc3z/QcD03u1/fP0Ay8kPqIN8/iDZmBDTg3j9QPcnjqZ3ePzgGS01dWd4/6FAbrF8T3j8A3WlrwsvdPzBqZvaWgt0/ELhAuO433T9Qhigc2+vcP5CUTY1tntw/eKLfdrdP3D+obw5Eyv/bP9C7CWC3rts/iEYBNpBc2z+AzyQxZgnbP1AWpLxKtdo/qNquQ09g2j8o3HQxhQraP4jaJfH9s9k/UJXx7cpc2T8wzAeT/QTZP9A+mEunrNg/4KzSgtlT2D/w1eajpfrXP7h5BBododc/0FdbUFFH1z9w2ZxjTu3WP+Bs4SLoktY/oJQ7//831j/4bH0NgdzVP2ASeWJWgNU/KKEAE2sj1T/INeYzqsXUP4js+9n+ZtQ/2OETGlQH1D8gMgAJlabTP7D5krusRNM/8FSeRobh0j9QYPS+DH3SPxg4ZzkrF9I/wPjIysyv0T+gvuuH3EbRPximoYVF3NA/kMu82PJv0D9oSw+WzwHQP/CD1qSNI88/YJdFRYc/zj/gCRA3YlfNPxAU2qP0asw/4O5HtRR6yz8Q0/2UmITKPzD5n2xWisk/QJrSZSSLyD/g7jmq2IbHP+AvemNJfcY/AJY3u0xuxT8AWhbbuFnEP8C0uuxjP8M/cA0E6YEbwj+Q9r/q/+bAP8Byfc4ZRb8/AOF1nieevD/gbN4m/9q5P4BLLEl2/bY/4LHU5mIHtD9A1UzhmvqwP0DVEzTosas/AE4C5YhIpT8A/p4wh3mdP4ClyyGIJJA/",
          "dtype": "f8"
         }
        },
        {
         "line": {
          "width": 1
         },
         "mode": "lines",
         "name": "Sequence 4",
         "type": "scatter",
         "x": {
          "bdata": "AAECAwQFBgcICQoLDA0ODxAREhMUFRYXGBkaGxwdHh8gISIjJCUmJygpKissLS4vMDEyMzQ1Njc4OTo7PD0+P0BBQkNERUZHSElKS0xNTk9QUVJTVFVWV1hZWltcXV5fYGFiY2RlZmdoaWprbG1ub3BxcnN0dXZ3",
          "dtype": "i1"
         },
         "y": {
          "bdata": "qIbfBRxM4z+8QD971jnjP1h5JPWoJ+M/cDuNeI4V4z/YkXcKggPjP4CH4a9+8eI/TCfJbX/f4j8cfCxJf83iP9SQCUd5u+I/YHBebGip4j+cJSm+R5fiP3i7Z0ESheI/zDwY+8Jy4j+EtDjwVGDiP4QtxyXDTeI/sLLBoAg74j/sTiZmICjiPxwN83oFFeI/LPgl5LIB4j/0Gr2mI+7hP2iAtsdS2uE/YDMQTDvG4T/EPsg42LHhP3yt3JIkneE/1ID8vzOI4T/M4HxaY3PhP2RAiIG1XuE/GLt3ZCFK4T94bKQynjXhPwBwZxsjIeE/QOEZTqcM4T+02xT6IfjgP+B6sU6K4+A/WNpIe9fO4D+UFTSvALrgPyBIzBn9pOA/fI1q6sOP4D8wAWhQTHrgP8S+HXuNZOA/uOHkmX5O4D+chRbcFjjgP+zFC3FNIeA/NL4diBkK4D/gE0uh5OTfP2CJ+POdtN8/4BP2Zk2D3z946vVY4VDfPzhEqihIHd8/IFjFNHDo3j84XfnbR7LeP5iK+Hy9et4/SBd1dr9B3j9IOiEnPAfeP7Aqr+0hy90/eB/RKF+N3T/ITzk34k3dP0hDqK6ZC90/sCjsAZrF3D+osUtbCnzcP7iPDeURL9w/eHR4ydfe2z+IEdMyg4vbP3AYZEs7Nds/0DpyPSfc2j9AKkQzboDaP1iYIFc3Ito/oDZO06nB2T/IthPS7F7ZP0jKt30n+tg/yCKBAIGT2D/gcbaEICvYPyBpnjQtwdc/ILp/Os5V1z94FqHAKunWP8AvSfFpe9Y/iLe+9rIM1j9wX0j7LJ3VPwDZLCn/LNU/2NWyqlC81D+QByGqSEvUP8AfvlEO2tM/+M/Qy8ho0z/QyZ9Cn/fSP+C+ceC4htI/wGCNzzwW0j8AYTk6UqbRP0BxvEogN9E/YM7dzsLI0D+gdiI34VrQP4ARdvmP2s8/ABx3AbL/zj8wH3BI7CTOP7AtiZACSs0/0Fnqm7huzD8gtrss0pLLPyBVJQUTtso/UElP5z7YyT8wpWGVGfnIPzB7hNFmGMg/0N3fXeo1xz+g35v8Z1HGPwCT4G+jasU/gArWeWCBxD+gWKTcYpXDP8CPc1pupsI/kMJrtUa0wT9gA7Wvr77AP4DJ7hbair8/YPK1FYWQvT9Apg/g5427P0AKTPqJgrk/QEO76PJttz9gdq0vqk+1P0DIclM3J7M/QF5b2CH0sD9Aum6F4mutPwDUrS1a2Kg/QFMUsrkspD8ABYU2INCeP4ClRecY/ZQ/",
          "dtype": "f8"
         }
        },
        {
         "line": {
          "width": 1
         },
         "mode": "lines",
         "name": "Sequence 5",
         "type": "scatter",
         "x": {
          "bdata": "AAECAwQFBgcICQoLDA0ODxAREhMUFRYXGBkaGxwdHh8gISIjJCUmJygpKissLS4vMDEyMzQ1Njc4OTo7PD0+P0BBQkNERUZHSElKS0xNTk9QUVJTVFVWV1hZWltcXV5fYGFiY2RlZmdoaWprbG1ub3BxcnN0dXZ3",
          "dtype": "i1"
         },
         "y": {
          "bdata": "lIpvS6+O4z+ooIyvE33jP3AjM7x0a+M/9HYVdc9Z4z9M/+XdIEjjP4QgV/plNuM/sD4bzpsk4z/cveRcvxLjPxgCZqrNAOM/eG9RusPu4j8IalmQntziP9xVMDBbyuI/AJeInfa34j+IkRTcbaXiP8yEfgzUkuI/EO6xm36A4j84Myyubm7iPwQCdGybXOI/HAgQ//tK4j9A84aOhzniPxxxX0M1KOI/ZC8gRvwW4j/Q20+/0wXiPxQkddey9OE/3LUWt5Dj4T/kPruGZNLhP9hs6W4lweE/cO0nmMqv4T9obv0qS57hP2Sd8E+ejOE/ICiIL7t64T9QvErymGjhP6gHv8AuVuE/2Ldrw3ND4T+YetciXzDhP6D9iAfoHOE/lO4GmgUJ4T84+9cCr/TgPzTRgmrb3+A/RB6O+YHK4D8YkIDYmbTgP2TU4C8anuA/3Jg1KPqG4D80iwXqMG/gPyBZ1521VuA/VLAxbH894D9IBxTVViPgP4yg3gsQCOA/4LdSjGfX3z+YMhhzlZzfP9BwPTe7X98/QDLyQ+og3z+INmYENODeP1A9yeOpnd4/OAZLTV1Z3j/oUBusXxPePwDdaWvCy90/MGpm9paC3T8QuEC47jfdP1CGKBzb69w/kJRNjW2e3D94ot92t0/cP6hvDkTK/9s/0LsJYLeu2z+IRgE2kFzbP4DPJDFmCds/UBakvEq12j+o2q5DT2DaPyjcdDGFCto/iNol8f2z2T9QlfHtylzZPzDMB5P9BNk/0D6YS6es2D/grNKC2VPYP/DV5qOl+tc/uHkEGh2h1z/QV1tQUUfXP3DZnGNO7dY/4GzhIuiS1j+glDv//zfWP/hsfQ2B3NU/YBJ5YlaA1T8ooQATayPVP8g15jOqxdQ/iOz72f5m1D/Y4RMaVAfUPyAyAAmVptM/sPmSu6xE0z/wVJ5GhuHSP1Bg9L4MfdI/GDhnOSsX0j/A+MjKzK/RP6C+64fcRtE/GKahhUXc0D+Qy7zY8m/QP2hLD5bPAdA/8IPWpI0jzz9gl0VFhz/OP+AJEDdiV80/EBTao/RqzD/g7ke1FHrLPxDT/ZSYhMo/MPmfbFaKyT9AmtJlJIvIP+DuOarYhsc/4C96Y0l9xj8Alje7TG7FPwBaFtu4WcQ/wLS67GM/wz9wDQTpgRvCP5D2v+r/5sA/wHJ9zhlFvz8A4XWeJ568P+Bs3ib/2rk/gEssSXb9tj/gsdTmYge0P0DVTOGa+rA/QNUTNOixqz8ATgLliEilPwD+njCHeZ0/",
          "dtype": "f8"
         }
        },
        {
         "line": {
          "width": 1
         },
         "mode": "lines",
         "name": "Sequence 6",
         "type": "scatter",
         "x": {
          "bdata": "AAECAwQFBgcICQoLDA0ODxAREhMUFRYXGBkaGxwdHh8gISIjJCUmJygpKissLS4vMDEyMzQ1Njc4OTo7PD0+P0BBQkNERUZHSElKS0xNTk9QUVJTVFVWV1hZWltcXV5fYGFiY2RlZmdoaWprbG1ub3BxcnN0dXZ3",
          "dtype": "i1"
         },
         "y": {
          "bdata": "REAHkH5e4z+oht8FHEzjP7xAP3vWOeM/WHkk9agn4z9wO414jhXjP9iRdwqCA+M/gIfhr37x4j9MJ8ltf9/iPxx8LEl/zeI/1JAJR3m74j9gcF5saKniP5wlKb5Hl+I/eLtnQRKF4j/MPBj7wnLiP4S0OPBUYOI/hC3HJcNN4j+wssGgCDviP+xOJmYgKOI/HA3zegUV4j8s+CXksgHiP/QavaYj7uE/aIC2x1La4T9gMxBMO8bhP8Q+yDjYseE/fK3ckiSd4T/UgPy/M4jhP8zgfFpjc+E/ZECIgbVe4T8Yu3dkIUrhP3hspDKeNeE/AHBnGyMh4T9A4RlOpwzhP7TbFPoh+OA/4HqxTorj4D9Y2kh7187gP5QVNK8AuuA/IEjMGf2k4D98jWrqw4/gPzABaFBMeuA/xL4de41k4D+44eSZfk7gP5yFFtwWOOA/7MULcU0h4D80vh2IGQrgP+ATS6Hk5N8/YIn485203z/gE/ZmTYPfP3jq9VjhUN8/OESqKEgd3z8gWMU0cOjePzhd+dtHst4/mIr4fL163j9IF3V2v0HeP0g6ISc8B94/sCqv7SHL3T94H9EoX43dP8hPOTfiTd0/SEOorpkL3T+wKOwBmsXcP6ixS1sKfNw/uI8N5REv3D94dHjJ197bP4gR0zKDi9s/cBhkSzs12z/QOnI9J9zaP0AqRDNugNo/WJggVzci2j+gNk7TqcHZP8i2E9LsXtk/SMq3fSf62D/IIoEAgZPYP+BxtoQgK9g/IGmeNC3B1z8gun86zlXXP3gWocAq6dY/wC9J8Wl71j+It772sgzWP3BfSPssndU/ANksKf8s1T/Y1bKqULzUP5AHIapIS9Q/wB++UQ7a0z/4z9DLyGjTP9DJn0Kf99I/4L5x4LiG0j/AYI3PPBbSPwBhOTpSptE/QHG8SiA30T9gzt3OwsjQP6B2IjfhWtA/gBF2+Y/azz8AHHcBsv/OPzAfcEjsJM4/sC2JkAJKzT/QWeqbuG7MPyC2uyzSkss/IFUlBRO2yj9QSU/nPtjJPzClYZUZ+cg/MHuE0WYYyD/Q3d9d6jXHP6Dfm/xnUcY/AJPgb6NqxT+ACtZ5YIHEP6BYpNxilcM/wI9zWm6mwj+Qwmu1RrTBP2ADta+vvsA/gMnuFtqKvz9g8rUVhZC9P0CmD+Dnjbs/QApM+omCuT9AQ7vo8m23P2B2rS+qT7U/QMhyUzcnsz9AXlvYIfSwP0C6boXia60/ANStLVrYqD9AUxSyuSykPwAFhTYg0J4/",
          "dtype": "f8"
         }
        },
        {
         "line": {
          "width": 1
         },
         "mode": "lines",
         "name": "Sequence 7",
         "type": "scatter",
         "x": {
          "bdata": "AAECAwQFBgcICQoLDA0ODxAREhMUFRYXGBkaGxwdHh8gISIjJCUmJygpKissLS4vMDEyMzQ1Njc4OTo7PD0+P0BBQkNERUZHSElKS0xNTk9QUVJTVFVWV1hZWltcXV5fYGFiY2RlZmdoaWprbG1ub3BxcnN0dXZ3",
          "dtype": "i1"
         },
         "y": {
          "bdata": "nGK4FANx4z9EQAeQfl7jP6iG3wUcTOM/vEA/e9Y54z9YeST1qCfjP3A7jXiOFeM/2JF3CoID4z+Ah+GvfvHiP0wnyW1/3+I/HHwsSX/N4j/UkAlHebviP2BwXmxoqeI/nCUpvkeX4j94u2dBEoXiP8w8GPvCcuI/hLQ48FRg4j+ELcclw03iP7CywaAIO+I/7E4mZiAo4j8cDfN6BRXiPyz4JeSyAeI/9Bq9piPu4T9ogLbHUtrhP2AzEEw7xuE/xD7IONix4T98rdySJJ3hP9SA/L8ziOE/zOB8WmNz4T9kQIiBtV7hPxi7d2QhSuE/eGykMp414T8AcGcbIyHhP0DhGU6nDOE/tNsU+iH44D/gerFOiuPgP1jaSHvXzuA/lBU0rwC64D8gSMwZ/aTgP3yNaurDj+A/MAFoUEx64D/Evh17jWTgP7jh5Jl+TuA/nIUW3BY44D/sxQtxTSHgPzS+HYgZCuA/4BNLoeTk3z9gifjznbTfP+AT9mZNg98/eOr1WOFQ3z84RKooSB3fPyBYxTRw6N4/OF3520ey3j+Yivh8vXreP0gXdXa/Qd4/SDohJzwH3j+wKq/tIcvdP3gf0Shfjd0/yE85N+JN3T9IQ6iumQvdP7Ao7AGaxdw/qLFLWwp83D+4jw3lES/cP3h0eMnX3ts/iBHTMoOL2z9wGGRLOzXbP9A6cj0n3No/QCpEM26A2j9YmCBXNyLaP6A2TtOpwdk/yLYT0uxe2T9Iyrd9J/rYP8gigQCBk9g/4HG2hCAr2D8gaZ40LcHXPyC6fzrOVdc/eBahwCrp1j/AL0nxaXvWP4i3vvayDNY/cF9I+yyd1T8A2Swp/yzVP9jVsqpQvNQ/kAchqkhL1D/AH75RDtrTP/jP0MvIaNM/0MmfQp/30j/gvnHguIbSP8Bgjc88FtI/AGE5OlKm0T9AcbxKIDfRP2DO3c7CyNA/oHYiN+Fa0D+AEXb5j9rPPwAcdwGy/84/MB9wSOwkzj+wLYmQAkrNP9BZ6pu4bsw/ILa7LNKSyz8gVSUFE7bKP1BJT+c+2Mk/MKVhlRn5yD8we4TRZhjIP9Dd313qNcc/oN+b/GdRxj8Ak+Bvo2rFP4AK1nlggcQ/oFik3GKVwz/Aj3NabqbCP5DCa7VGtME/YAO1r6++wD+Aye4W2oq/P2DytRWFkL0/QKYP4OeNuz9ACkz6iYK5P0BDu+jybbc/YHatL6pPtT9AyHJTNyezP0BeW9gh9LA/QLpuheJrrT8A1K0tWtioP0BTFLK5LKQ/",
          "dtype": "f8"
         }
        },
        {
         "line": {
          "width": 1
         },
         "mode": "lines",
         "name": "Sequence 8",
         "type": "scatter",
         "x": {
          "bdata": "AAECAwQFBgcICQoLDA0ODxAREhMUFRYXGBkaGxwdHh8gISIjJCUmJygpKissLS4vMDEyMzQ1Njc4OTo7PD0+P0BBQkNERUZHSElKS0xNTk9QUVJTVFVWV1hZWltcXV5fYGFiY2RlZmdoaWprbG1ub3BxcnN0dXZ3",
          "dtype": "i1"
         },
         "y": {
          "bdata": "IH0pjEqg4z+Uim9Lr47jP6igjK8TfeM/cCMzvHRr4z/0dhV1z1njP0z/5d0gSOM/hCBX+mU24z+wPhvOmyTjP9y95Fy/EuM/GAJmqs0A4z94b1G6w+7iPwhqWZCe3OI/3FUwMFvK4j8Al4id9rfiP4iRFNxtpeI/zIR+DNSS4j8Q7rGbfoDiPzgzLK5ubuI/BAJ0bJtc4j8cCBD/+0riP0Dzho6HOeI/HHFfQzUo4j9kLyBG/BbiP9DbT7/TBeI/FCR117L04T/ctRa3kOPhP+Q+u4Zk0uE/2GzpbiXB4T9w7SeYyq/hP2hu/SpLnuE/ZJ3wT56M4T8gKIgvu3rhP1C8SvKYaOE/qAe/wC5W4T/Yt2vDc0PhP5h61yJfMOE/oP2IB+gc4T+U7gaaBQnhPzj71wKv9OA/NNGCatvf4D9EHo75gcrgPxiQgNiZtOA/ZNTgLxqe4D/cmDUo+obgPzSLBeowb+A/IFnXnbVW4D9UsDFsfz3gP0gHFNVWI+A/jKDeCxAI4D/gt1KMZ9ffP5gyGHOVnN8/0HA9N7tf3z9AMvJD6iDfP4g2ZgQ04N4/UD3J46md3j84BktNXVneP+hQG6xfE94/AN1pa8LL3T8wamb2loLdPxC4QLjuN90/UIYoHNvr3D+QlE2NbZ7cP3ii33a3T9w/qG8ORMr/2z/Quwlgt67bP4hGATaQXNs/gM8kMWYJ2z9QFqS8SrXaP6jarkNPYNo/KNx0MYUK2j+I2iXx/bPZP1CV8e3KXNk/MMwHk/0E2T/QPphLp6zYP+Cs0oLZU9g/8NXmo6X61z+4eQQaHaHXP9BXW1BRR9c/cNmcY07t1j/gbOEi6JLWP6CUO///N9Y/+Gx9DYHc1T9gEnliVoDVPyihABNrI9U/yDXmM6rF1D+I7PvZ/mbUP9jhExpUB9Q/IDIACZWm0z+w+ZK7rETTP/BUnkaG4dI/UGD0vgx90j8YOGc5KxfSP8D4yMrMr9E/oL7rh9xG0T8YpqGFRdzQP5DLvNjyb9A/aEsPls8B0D/wg9akjSPPP2CXRUWHP84/4AkQN2JXzT8QFNqj9GrMP+DuR7UUess/ENP9lJiEyj8w+Z9sVorJP0Ca0mUki8g/4O45qtiGxz/gL3pjSX3GPwCWN7tMbsU/AFoW27hZxD/AtLrsYz/DP3ANBOmBG8I/kPa/6v/mwD/Acn3OGUW/PwDhdZ4nnrw/4GzeJv/auT+ASyxJdv22P+Cx1OZiB7Q/QNVM4Zr6sD9A1RM06LGrPwBOAuWISKU/",
          "dtype": "f8"
         }
        },
        {
         "line": {
          "width": 1
         },
         "mode": "lines",
         "name": "Sequence 9",
         "type": "scatter",
         "x": {
          "bdata": "AAECAwQFBgcICQoLDA0ODxAREhMUFRYXGBkaGxwdHh8gISIjJCUmJygpKissLS4vMDEyMzQ1Njc4OTo7PD0+P0BBQkNERUZHSElKS0xNTk9QUVJTVFVWV1hZWltcXV5fYGFiY2RlZmdoaWprbG1ub3BxcnN0dXZ3",
          "dtype": "i1"
         },
         "y": {
          "bdata": "3OL0jq6D4z+cYrgUA3HjP0RAB5B+XuM/qIbfBRxM4z+8QD971jnjP1h5JPWoJ+M/cDuNeI4V4z/YkXcKggPjP4CH4a9+8eI/TCfJbX/f4j8cfCxJf83iP9SQCUd5u+I/YHBebGip4j+cJSm+R5fiP3i7Z0ESheI/zDwY+8Jy4j+EtDjwVGDiP4QtxyXDTeI/sLLBoAg74j/sTiZmICjiPxwN83oFFeI/LPgl5LIB4j/0Gr2mI+7hP2iAtsdS2uE/YDMQTDvG4T/EPsg42LHhP3yt3JIkneE/1ID8vzOI4T/M4HxaY3PhP2RAiIG1XuE/GLt3ZCFK4T94bKQynjXhPwBwZxsjIeE/QOEZTqcM4T+02xT6IfjgP+B6sU6K4+A/WNpIe9fO4D+UFTSvALrgPyBIzBn9pOA/fI1q6sOP4D8wAWhQTHrgP8S+HXuNZOA/uOHkmX5O4D+chRbcFjjgP+zFC3FNIeA/NL4diBkK4D/gE0uh5OTfP2CJ+POdtN8/4BP2Zk2D3z946vVY4VDfPzhEqihIHd8/IFjFNHDo3j84XfnbR7LeP5iK+Hy9et4/SBd1dr9B3j9IOiEnPAfeP7Aqr+0hy90/eB/RKF+N3T/ITzk34k3dP0hDqK6ZC90/sCjsAZrF3D+osUtbCnzcP7iPDeURL9w/eHR4ydfe2z+IEdMyg4vbP3AYZEs7Nds/0DpyPSfc2j9AKkQzboDaP1iYIFc3Ito/oDZO06nB2T/IthPS7F7ZP0jKt30n+tg/yCKBAIGT2D/gcbaEICvYPyBpnjQtwdc/ILp/Os5V1z94FqHAKunWP8AvSfFpe9Y/iLe+9rIM1j9wX0j7LJ3VPwDZLCn/LNU/2NWyqlC81D+QByGqSEvUP8AfvlEO2tM/+M/Qy8ho0z/QyZ9Cn/fSP+C+ceC4htI/wGCNzzwW0j8AYTk6UqbRP0BxvEogN9E/YM7dzsLI0D+gdiI34VrQP4ARdvmP2s8/ABx3AbL/zj8wH3BI7CTOP7AtiZACSs0/0Fnqm7huzD8gtrss0pLLPyBVJQUTtso/UElP5z7YyT8wpWGVGfnIPzB7hNFmGMg/0N3fXeo1xz+g35v8Z1HGPwCT4G+jasU/gArWeWCBxD+gWKTcYpXDP8CPc1pupsI/kMJrtUa0wT9gA7Wvr77AP4DJ7hbair8/YPK1FYWQvT9Apg/g5427P0AKTPqJgrk/QEO76PJttz9gdq0vqk+1P0DIclM3J7M/QF5b2CH0sD9Aum6F4mutPwDUrS1a2Kg/",
          "dtype": "f8"
         }
        },
        {
         "line": {
          "width": 1
         },
         "mode": "lines",
         "name": "Sequence 10",
         "type": "scatter",
         "x": {
          "bdata": "AAECAwQFBgcICQoLDA0ODxAREhMUFRYXGBkaGxwdHh8gISIjJCUmJygpKissLS4vMDEyMzQ1Njc4OTo7PD0+P0BBQkNERUZHSElKS0xNTk9QUVJTVFVWV1hZWltcXV5fYGFiY2RlZmdoaWprbG1ub3BxcnN0dXZ3",
          "dtype": "i1"
         },
         "y": {
          "bdata": "QBQIbuix4z8gfSmMSqDjP5SKb0uvjuM/qKCMrxN94z9wIzO8dGvjP/R2FXXPWeM/TP/l3SBI4z+EIFf6ZTbjP7A+G86bJOM/3L3kXL8S4z8YAmaqzQDjP3hvUbrD7uI/CGpZkJ7c4j/cVTAwW8riPwCXiJ32t+I/iJEU3G2l4j/MhH4M1JLiPxDusZt+gOI/ODMsrm5u4j8EAnRsm1ziPxwIEP/7SuI/QPOGjoc54j8ccV9DNSjiP2QvIEb8FuI/0NtPv9MF4j8UJHXXsvThP9y1FreQ4+E/5D67hmTS4T/YbOluJcHhP3DtJ5jKr+E/aG79Kkue4T9knfBPnozhPyAoiC+7euE/ULxK8pho4T+oB7/ALlbhP9i3a8NzQ+E/mHrXIl8w4T+g/YgH6BzhP5TuBpoFCeE/OPvXAq/04D800YJq29/gP0QejvmByuA/GJCA2Jm04D9k1OAvGp7gP9yYNSj6huA/NIsF6jBv4D8gWdedtVbgP1SwMWx/PeA/SAcU1VYj4D+MoN4LEAjgP+C3Uoxn198/mDIYc5Wc3z/QcD03u1/fP0Ay8kPqIN8/iDZmBDTg3j9QPcnjqZ3ePzgGS01dWd4/6FAbrF8T3j8A3WlrwsvdPzBqZvaWgt0/ELhAuO433T9Qhigc2+vcP5CUTY1tntw/eKLfdrdP3D+obw5Eyv/bP9C7CWC3rts/iEYBNpBc2z+AzyQxZgnbP1AWpLxKtdo/qNquQ09g2j8o3HQxhQraP4jaJfH9s9k/UJXx7cpc2T8wzAeT/QTZP9A+mEunrNg/4KzSgtlT2D/w1eajpfrXP7h5BBododc/0FdbUFFH1z9w2ZxjTu3WP+Bs4SLoktY/oJQ7//831j/4bH0NgdzVP2ASeWJWgNU/KKEAE2sj1T/INeYzqsXUP4js+9n+ZtQ/2OETGlQH1D8gMgAJlabTP7D5krusRNM/8FSeRobh0j9QYPS+DH3SPxg4ZzkrF9I/wPjIysyv0T+gvuuH3EbRPximoYVF3NA/kMu82PJv0D9oSw+WzwHQP/CD1qSNI88/YJdFRYc/zj/gCRA3YlfNPxAU2qP0asw/4O5HtRR6yz8Q0/2UmITKPzD5n2xWisk/QJrSZSSLyD/g7jmq2IbHP+AvemNJfcY/AJY3u0xuxT8AWhbbuFnEP8C0uuxjP8M/cA0E6YEbwj+Q9r/q/+bAP8Byfc4ZRb8/AOF1nieevD/gbN4m/9q5P4BLLEl2/bY/4LHU5mIHtD9A1UzhmvqwP0DVEzTosas/",
          "dtype": "f8"
         }
        },
        {
         "line": {
          "width": 1
         },
         "mode": "lines",
         "name": "Sequence 11",
         "type": "scatter",
         "x": {
          "bdata": "AAECAwQFBgcICQoLDA0ODxAREhMUFRYXGBkaGxwdHh8gISIjJCUmJygpKissLS4vMDEyMzQ1Njc4OTo7PD0+P0BBQkNERUZHSElKS0xNTk9QUVJTVFVWV1hZWltcXV5fYGFiY2RlZmdoaWprbG1ub3BxcnN0dXZ3",
          "dtype": "i1"
         },
         "y": {
          "bdata": "CNFB7qAt5T/AARPUBRnlP3zTPzJDBOU/iKzwA1fv5D88801EP9rkP+wNgO75xOQ/5GKv/YSv5D90WARt3pnkP/BUpzcEhOQ/sL7AWPRt5D8A/HjLrFfkPzD5jZA3QeQ/3CXeqcIq5D9kcag6ThTkPyjaAfjU/eM/lF7/llHn4z8Q/bXMvtDjP/yzOk4XuuM/yIGi0FWj4z/YZAIJdYzjP5Rbb6xvdeM/XGT+b0Be4z+gfcQI4kbjP8Sl1itPL+M/MNtJjoIX4z9MHDPldv/iP3xnp+Um5+I/LLu7RI3O4j/AFYW3pLXiP5h1GPNnnOI/LNmKrNGC4j/UPvGY3GjiP/ykYG2DTuI/DAru3sAz4j9wbK6ijxjiP4TKtm3q/OE/vCIc9cvg4T9wc/PtLsThPxS7UQ0Op+E/EPhLCGSJ4T/AKPeTK2vhP5BLaGVfTOE/7F60Mfos4T/wJ7OEpwzhP4wf3Bcg6+A/0NGzZHLI4D/gyr7krKTgP8yWgRHef+A/tMGAZBRa4D+s10BXXjPgP9BkRmPKC+A/YOorBM7G3z/gKWhahXTfP0CgSrzXIN8/wGXcHOLL3j+AkiZvwXXeP7g+MqaSHt4/qIIItXLG3T9wdrKOfm3dP0AyOSbTE90/WM6lbo253D/gYgFbyl7cPwgIVd6mA9w/ANap6z+o2z8A5Qh2skzbPzhNe3Ab8do/0CYKzpeV2j8Qir6BRDraPwiPoX4+39k/CE68t6KE2T8w3xcgjirZP7havaod0dg/yNi1Sm542D+gcQrznCDYP2hnsMLVydc/eBbu1ah01z/gma7QDCHXPzgVQZTRztY/KKz0Acd91j9Qghj7vC3WP1C7+2CD3tU/wHrtFOqP1T9Q5Dz4wEHVP5AbOezX89Q/KEQx0v6l1D+4gXSLBVjUP9j3Ufm7CdQ/OMoY/fG60z9oHBh4d2vTPxgSn0scG9M/4M78WLDJ0j9YdoCBA3fSPygseablItI/8BM2qSbN0T9QUQZrlnXRP+gHOc0EHNE/YFsdsUHA0D9AbwL4HGLQP0hnN4NmAdA/8M0WaNw7zz8gJJvXB2/OPzAYmhfvm80/cPGx6jHCzD8g94ATcOHLP4BwpVRJ+co/4KS9cF0Jyj/ghHhYTg7JPzCMvCYzAsg/cMO1UKflxj9g2V0reLnFP3B8rgtzfsQ/cFuhRmU1wz/wJDAxHN/BP6CHVCBlfMA/AGQQ0hocvj/ApYnAxCm7P6AxCLZiI7g/AGV/XI8KtT/gnOJd5eCxP4BtSsj+T60/",
          "dtype": "f8"
         }
        },
        {
         "line": {
          "width": 1
         },
         "mode": "lines",
         "name": "Sequence 12",
         "type": "scatter",
         "x": {
          "bdata": "AAECAwQFBgcICQoLDA0ODxAREhMUFRYXGBkaGxwdHh8gISIjJCUmJygpKissLS4vMDEyMzQ1Njc4OTo7PD0+P0BBQkNERUZHSElKS0xNTk9QUVJTVFVWV1hZWltcXV5fYGFiY2RlZmdoaWprbG1ub3BxcnN0dXZ3",
          "dtype": "i1"
         },
         "y": {
          "bdata": "GLa++YWW4z/c4vSOroPjP5xiuBQDceM/REAHkH5e4z+oht8FHEzjP7xAP3vWOeM/WHkk9agn4z9wO414jhXjP9iRdwqCA+M/gIfhr37x4j9MJ8ltf9/iPxx8LEl/zeI/1JAJR3m74j9gcF5saKniP5wlKb5Hl+I/eLtnQRKF4j/MPBj7wnLiP4S0OPBUYOI/hC3HJcNN4j+wssGgCDviP+xOJmYgKOI/HA3zegUV4j8s+CXksgHiP/QavaYj7uE/aIC2x1La4T9gMxBMO8bhP8Q+yDjYseE/fK3ckiSd4T/UgPy/M4jhP8zgfFpjc+E/ZECIgbVe4T8Yu3dkIUrhP3hspDKeNeE/AHBnGyMh4T9A4RlOpwzhP7TbFPoh+OA/4HqxTorj4D9Y2kh7187gP5QVNK8AuuA/IEjMGf2k4D98jWrqw4/gPzABaFBMeuA/xL4de41k4D+44eSZfk7gP5yFFtwWOOA/7MULcU0h4D80vh2IGQrgP+ATS6Hk5N8/YIn485203z/gE/ZmTYPfP3jq9VjhUN8/OESqKEgd3z8gWMU0cOjePzhd+dtHst4/mIr4fL163j9IF3V2v0HeP0g6ISc8B94/sCqv7SHL3T94H9EoX43dP8hPOTfiTd0/SEOorpkL3T+wKOwBmsXcP6ixS1sKfNw/uI8N5REv3D94dHjJ197bP4gR0zKDi9s/cBhkSzs12z/QOnI9J9zaP0AqRDNugNo/WJggVzci2j+gNk7TqcHZP8i2E9LsXtk/SMq3fSf62D/IIoEAgZPYP+BxtoQgK9g/IGmeNC3B1z8gun86zlXXP3gWocAq6dY/wC9J8Wl71j+It772sgzWP3BfSPssndU/ANksKf8s1T/Y1bKqULzUP5AHIapIS9Q/wB++UQ7a0z/4z9DLyGjTP9DJn0Kf99I/4L5x4LiG0j/AYI3PPBbSPwBhOTpSptE/QHG8SiA30T9gzt3OwsjQP6B2IjfhWtA/gBF2+Y/azz8AHHcBsv/OPzAfcEjsJM4/sC2JkAJKzT/QWeqbuG7MPyC2uyzSkss/IFUlBRO2yj9QSU/nPtjJPzClYZUZ+cg/MHuE0WYYyD/Q3d9d6jXHP6Dfm/xnUcY/AJPgb6NqxT+ACtZ5YIHEP6BYpNxilcM/wI9zWm6mwj+Qwmu1RrTBP2ADta+vvsA/gMnuFtqKvz9g8rUVhZC9P0CmD+Dnjbs/QApM+omCuT9AQ7vo8m23P2B2rS+qT7U/QMhyUzcnsz9AXlvYIfSwP0C6boXia60/",
          "dtype": "f8"
         }
        },
        {
         "line": {
          "width": 1
         },
         "mode": "lines",
         "name": "Sequence 13",
         "type": "scatter",
         "x": {
          "bdata": "AAECAwQFBgcICQoLDA0ODxAREhMUFRYXGBkaGxwdHh8gISIjJCUmJygpKissLS4vMDEyMzQ1Njc4OTo7PD0+P0BBQkNERUZHSElKS0xNTk9QUVJTVFVWV1hZWltcXV5fYGFiY2RlZmdoaWprbG1ub3BxcnN0dXZ3",
          "dtype": "i1"
         },
         "y": {
          "bdata": "aNEXUI6p4z8Ytr75hZbjP9zi9I6ug+M/nGK4FANx4z9EQAeQfl7jP6iG3wUcTOM/vEA/e9Y54z9YeST1qCfjP3A7jXiOFeM/2JF3CoID4z+Ah+GvfvHiP0wnyW1/3+I/HHwsSX/N4j/UkAlHebviP2BwXmxoqeI/nCUpvkeX4j94u2dBEoXiP8w8GPvCcuI/hLQ48FRg4j+ELcclw03iP7CywaAIO+I/7E4mZiAo4j8cDfN6BRXiPyz4JeSyAeI/9Bq9piPu4T9ogLbHUtrhP2AzEEw7xuE/xD7IONix4T98rdySJJ3hP9SA/L8ziOE/zOB8WmNz4T9kQIiBtV7hPxi7d2QhSuE/eGykMp414T8AcGcbIyHhP0DhGU6nDOE/tNsU+iH44D/gerFOiuPgP1jaSHvXzuA/lBU0rwC64D8gSMwZ/aTgP3yNaurDj+A/MAFoUEx64D/Evh17jWTgP7jh5Jl+TuA/nIUW3BY44D/sxQtxTSHgPzS+HYgZCuA/4BNLoeTk3z9gifjznbTfP+AT9mZNg98/eOr1WOFQ3z84RKooSB3fPyBYxTRw6N4/OF3520ey3j+Yivh8vXreP0gXdXa/Qd4/SDohJzwH3j+wKq/tIcvdP3gf0Shfjd0/yE85N+JN3T9IQ6iumQvdP7Ao7AGaxdw/qLFLWwp83D+4jw3lES/cP3h0eMnX3ts/iBHTMoOL2z9wGGRLOzXbP9A6cj0n3No/QCpEM26A2j9YmCBXNyLaP6A2TtOpwdk/yLYT0uxe2T9Iyrd9J/rYP8gigQCBk9g/4HG2hCAr2D8gaZ40LcHXPyC6fzrOVdc/eBahwCrp1j/AL0nxaXvWP4i3vvayDNY/cF9I+yyd1T8A2Swp/yzVP9jVsqpQvNQ/kAchqkhL1D/AH75RDtrTP/jP0MvIaNM/0MmfQp/30j/gvnHguIbSP8Bgjc88FtI/AGE5OlKm0T9AcbxKIDfRP2DO3c7CyNA/oHYiN+Fa0D+AEXb5j9rPPwAcdwGy/84/MB9wSOwkzj+wLYmQAkrNP9BZ6pu4bsw/ILa7LNKSyz8gVSUFE7bKP1BJT+c+2Mk/MKVhlRn5yD8we4TRZhjIP9Dd313qNcc/oN+b/GdRxj8Ak+Bvo2rFP4AK1nlggcQ/oFik3GKVwz/Aj3NabqbCP5DCa7VGtME/YAO1r6++wD+Aye4W2oq/P2DytRWFkL0/QKYP4OeNuz9ACkz6iYK5P0BDu+jybbc/YHatL6pPtT9AyHJTNyezP0BeW9gh9LA/",
          "dtype": "f8"
         }
        },
        {
         "line": {
          "width": 1
         },
         "mode": "lines",
         "name": "Sequence 14",
         "type": "scatter",
         "x": {
          "bdata": "AAECAwQFBgcICQoLDA0ODxAREhMUFRYXGBkaGxwdHh8gISIjJCUmJygpKissLS4vMDEyMzQ1Njc4OTo7PD0+P0BBQkNERUZHSElKS0xNTk9QUVJTVFVWV1hZWltcXV5fYGFiY2RlZmdoaWprbG1ub3BxcnN0dXZ3",
          "dtype": "i1"
         },
         "y": {
          "bdata": "4OtY7YvD4z9AFAhu6LHjPyB9KYxKoOM/lIpvS6+O4z+ooIyvE33jP3AjM7x0a+M/9HYVdc9Z4z9M/+XdIEjjP4QgV/plNuM/sD4bzpsk4z/cveRcvxLjPxgCZqrNAOM/eG9RusPu4j8IalmQntziP9xVMDBbyuI/AJeInfa34j+IkRTcbaXiP8yEfgzUkuI/EO6xm36A4j84Myyubm7iPwQCdGybXOI/HAgQ//tK4j9A84aOhzniPxxxX0M1KOI/ZC8gRvwW4j/Q20+/0wXiPxQkddey9OE/3LUWt5Dj4T/kPruGZNLhP9hs6W4lweE/cO0nmMqv4T9obv0qS57hP2Sd8E+ejOE/ICiIL7t64T9QvErymGjhP6gHv8AuVuE/2Ldrw3ND4T+YetciXzDhP6D9iAfoHOE/lO4GmgUJ4T84+9cCr/TgPzTRgmrb3+A/RB6O+YHK4D8YkIDYmbTgP2TU4C8anuA/3Jg1KPqG4D80iwXqMG/gPyBZ1521VuA/VLAxbH894D9IBxTVViPgP4yg3gsQCOA/4LdSjGfX3z+YMhhzlZzfP9BwPTe7X98/QDLyQ+og3z+INmYENODeP1A9yeOpnd4/OAZLTV1Z3j/oUBusXxPePwDdaWvCy90/MGpm9paC3T8QuEC47jfdP1CGKBzb69w/kJRNjW2e3D94ot92t0/cP6hvDkTK/9s/0LsJYLeu2z+IRgE2kFzbP4DPJDFmCds/UBakvEq12j+o2q5DT2DaPyjcdDGFCto/iNol8f2z2T9QlfHtylzZPzDMB5P9BNk/0D6YS6es2D/grNKC2VPYP/DV5qOl+tc/uHkEGh2h1z/QV1tQUUfXP3DZnGNO7dY/4GzhIuiS1j+glDv//zfWP/hsfQ2B3NU/YBJ5YlaA1T8ooQATayPVP8g15jOqxdQ/iOz72f5m1D/Y4RMaVAfUPyAyAAmVptM/sPmSu6xE0z/wVJ5GhuHSP1Bg9L4MfdI/GDhnOSsX0j/A+MjKzK/RP6C+64fcRtE/GKahhUXc0D+Qy7zY8m/QP2hLD5bPAdA/8IPWpI0jzz9gl0VFhz/OP+AJEDdiV80/EBTao/RqzD/g7ke1FHrLPxDT/ZSYhMo/MPmfbFaKyT9AmtJlJIvIP+DuOarYhsc/4C96Y0l9xj8Alje7TG7FPwBaFtu4WcQ/wLS67GM/wz9wDQTpgRvCP5D2v+r/5sA/wHJ9zhlFvz8A4XWeJ568P+Bs3ib/2rk/gEssSXb9tj/gsdTmYge0P0DVTOGa+rA/",
          "dtype": "f8"
         }
        },
        {
         "line": {
          "width": 1
         },
         "mode": "lines",
         "name": "Sequence 15",
         "type": "scatter",
         "x": {
          "bdata": "AAECAwQFBgcICQoLDA0ODxAREhMUFRYXGBkaGxwdHh8gISIjJCUmJygpKissLS4vMDEyMzQ1Njc4OTo7PD0+P0BBQkNERUZHSElKS0xNTk9QUVJTVFVWV1hZWltcXV5fYGFiY2RlZmdoaWprbG1ub3BxcnN0dXZ3",
          "dtype": "i1"
         },
         "y": {
          "bdata": "CNujhRZC5T8I0UHuoC3lP8ABE9QFGeU/fNM/MkME5T+IrPADV+/kPzzzTUQ/2uQ/7A2A7vnE5D/kYq/9hK/kP3RYBG3emeQ/8FSnNwSE5D+wvsBY9G3kPwD8eMusV+Q/MPmNkDdB5D/cJd6pwirkP2RxqDpOFOQ/KNoB+NT94z+UXv+WUefjPxD9tcy+0OM//LM6The64z/IgaLQVaPjP9hkAgl1jOM/lFtvrG914z9cZP5vQF7jP6B9xAjiRuM/xKXWK08v4z8w20mOghfjP0wcM+V2/+I/fGen5Sbn4j8su7tEjc7iP8AVhbekteI/mHUY82ec4j8s2Yqs0YLiP9Q+8ZjcaOI//KRgbYNO4j8MCu7ewDPiP3BsrqKPGOI/hMq2ber84T+8Ihz1y+DhP3Bz8+0uxOE/FLtRDQ6n4T8Q+EsIZInhP8Ao95Mra+E/kEtoZV9M4T/sXrQx+izhP/Ans4SnDOE/jB/cFyDr4D/Q0bNkcsjgP+DKvuSspOA/zJaBEd5/4D+0wYBkFFrgP6zXQFdeM+A/0GRGY8oL4D9g6isEzsbfP+ApaFqFdN8/QKBKvNcg3z/AZdwc4sveP4CSJm/Bdd4/uD4yppIe3j+oggi1csbdP3B2so5+bd0/QDI5JtMT3T9YzqVujbncP+BiAVvKXtw/CAhV3qYD3D8A1qnrP6jbPwDlCHayTNs/OE17cBvx2j/QJgrOl5XaPxCKvoFEOto/CI+hfj7f2T8ITry3ooTZPzDfFyCOKtk/uFq9qh3R2D/I2LVKbnjYP6BxCvOcINg/aGewwtXJ1z94Fu7VqHTXP+CZrtAMIdc/OBVBlNHO1j8orPQBx33WP1CCGPu8LdY/ULv7YIPe1T/Aeu0U6o/VP1DkPPjAQdU/kBs57Nfz1D8oRDHS/qXUP7iBdIsFWNQ/2PdR+bsJ1D84yhj98brTP2gcGHh3a9M/GBKfSxwb0z/gzvxYsMnSP1h2gIEDd9I/KCx5puUi0j/wEzapJs3RP1BRBmuWddE/6Ac5zQQc0T9gWx2xQcDQP0BvAvgcYtA/SGc3g2YB0D/wzRZo3DvPPyAkm9cHb84/MBiaF++bzT9w8bHqMcLMPyD3gBNw4cs/gHClVEn5yj/gpL1wXQnKP+CEeFhODsk/MIy8JjMCyD9ww7VQp+XGP2DZXSt4ucU/cHyuC3N+xD9wW6FGZTXDP/AkMDEc38E/oIdUIGV8wD8AZBDSGhy+P8ClicDEKbs/oDEItmIjuD8AZX9cjwq1P+Cc4l3l4LE/",
          "dtype": "f8"
         }
        },
        {
         "line": {
          "width": 1
         },
         "mode": "lines",
         "name": "Sequence 16",
         "type": "scatter",
         "x": {
          "bdata": "AAECAwQFBgcICQoLDA0ODxAREhMUFRYXGBkaGxwdHh8gISIjJCUmJygpKissLS4vMDEyMzQ1Njc4OTo7PD0+P0BBQkNERUZHSElKS0xNTk9QUVJTVFVWV1hZWltcXV5fYGFiY2RlZmdoaWprbG1ub3BxcnN0dXZ3",
          "dtype": "i1"
         },
         "y": {
          "bdata": "6CkCjcy84z9o0RdQjqnjPxi2vvmFluM/3OL0jq6D4z+cYrgUA3HjP0RAB5B+XuM/qIbfBRxM4z+8QD971jnjP1h5JPWoJ+M/cDuNeI4V4z/YkXcKggPjP4CH4a9+8eI/TCfJbX/f4j8cfCxJf83iP9SQCUd5u+I/YHBebGip4j+cJSm+R5fiP3i7Z0ESheI/zDwY+8Jy4j+EtDjwVGDiP4QtxyXDTeI/sLLBoAg74j/sTiZmICjiPxwN83oFFeI/LPgl5LIB4j/0Gr2mI+7hP2iAtsdS2uE/YDMQTDvG4T/EPsg42LHhP3yt3JIkneE/1ID8vzOI4T/M4HxaY3PhP2RAiIG1XuE/GLt3ZCFK4T94bKQynjXhPwBwZxsjIeE/QOEZTqcM4T+02xT6IfjgP+B6sU6K4+A/WNpIe9fO4D+UFTSvALrgPyBIzBn9pOA/fI1q6sOP4D8wAWhQTHrgP8S+HXuNZOA/uOHkmX5O4D+chRbcFjjgP+zFC3FNIeA/NL4diBkK4D/gE0uh5OTfP2CJ+POdtN8/4BP2Zk2D3z946vVY4VDfPzhEqihIHd8/IFjFNHDo3j84XfnbR7LeP5iK+Hy9et4/SBd1dr9B3j9IOiEnPAfeP7Aqr+0hy90/eB/RKF+N3T/ITzk34k3dP0hDqK6ZC90/sCjsAZrF3D+osUtbCnzcP7iPDeURL9w/eHR4ydfe2z+IEdMyg4vbP3AYZEs7Nds/0DpyPSfc2j9AKkQzboDaP1iYIFc3Ito/oDZO06nB2T/IthPS7F7ZP0jKt30n+tg/yCKBAIGT2D/gcbaEICvYPyBpnjQtwdc/ILp/Os5V1z94FqHAKunWP8AvSfFpe9Y/iLe+9rIM1j9wX0j7LJ3VPwDZLCn/LNU/2NWyqlC81D+QByGqSEvUP8AfvlEO2tM/+M/Qy8ho0z/QyZ9Cn/fSP+C+ceC4htI/wGCNzzwW0j8AYTk6UqbRP0BxvEogN9E/YM7dzsLI0D+gdiI34VrQP4ARdvmP2s8/ABx3AbL/zj8wH3BI7CTOP7AtiZACSs0/0Fnqm7huzD8gtrss0pLLPyBVJQUTtso/UElP5z7YyT8wpWGVGfnIPzB7hNFmGMg/0N3fXeo1xz+g35v8Z1HGPwCT4G+jasU/gArWeWCBxD+gWKTcYpXDP8CPc1pupsI/kMJrtUa0wT9gA7Wvr77AP4DJ7hbair8/YPK1FYWQvT9Apg/g5427P0AKTPqJgrk/QEO76PJttz9gdq0vqk+1P0DIclM3J7M/",
          "dtype": "f8"
         }
        },
        {
         "line": {
          "width": 1
         },
         "mode": "lines",
         "name": "Sequence 17",
         "type": "scatter",
         "x": {
          "bdata": "AAECAwQFBgcICQoLDA0ODxAREhMUFRYXGBkaGxwdHh8gISIjJCUmJygpKissLS4vMDEyMzQ1Njc4OTo7PD0+P0BBQkNERUZHSElKS0xNTk9QUVJTVFVWV1hZWltcXV5fYGFiY2RlZmdoaWprbG1ub3BxcnN0dXZ3",
          "dtype": "i1"
         },
         "y": {
          "bdata": "8J9pBjjV4z/g61jti8PjP0AUCG7oseM/IH0pjEqg4z+Uim9Lr47jP6igjK8TfeM/cCMzvHRr4z/0dhV1z1njP0z/5d0gSOM/hCBX+mU24z+wPhvOmyTjP9y95Fy/EuM/GAJmqs0A4z94b1G6w+7iPwhqWZCe3OI/3FUwMFvK4j8Al4id9rfiP4iRFNxtpeI/zIR+DNSS4j8Q7rGbfoDiPzgzLK5ubuI/BAJ0bJtc4j8cCBD/+0riP0Dzho6HOeI/HHFfQzUo4j9kLyBG/BbiP9DbT7/TBeI/FCR117L04T/ctRa3kOPhP+Q+u4Zk0uE/2GzpbiXB4T9w7SeYyq/hP2hu/SpLnuE/ZJ3wT56M4T8gKIgvu3rhP1C8SvKYaOE/qAe/wC5W4T/Yt2vDc0PhP5h61yJfMOE/oP2IB+gc4T+U7gaaBQnhPzj71wKv9OA/NNGCatvf4D9EHo75gcrgPxiQgNiZtOA/ZNTgLxqe4D/cmDUo+obgPzSLBeowb+A/IFnXnbVW4D9UsDFsfz3gP0gHFNVWI+A/jKDeCxAI4D/gt1KMZ9ffP5gyGHOVnN8/0HA9N7tf3z9AMvJD6iDfP4g2ZgQ04N4/UD3J46md3j84BktNXVneP+hQG6xfE94/AN1pa8LL3T8wamb2loLdPxC4QLjuN90/UIYoHNvr3D+QlE2NbZ7cP3ii33a3T9w/qG8ORMr/2z/Quwlgt67bP4hGATaQXNs/gM8kMWYJ2z9QFqS8SrXaP6jarkNPYNo/KNx0MYUK2j+I2iXx/bPZP1CV8e3KXNk/MMwHk/0E2T/QPphLp6zYP+Cs0oLZU9g/8NXmo6X61z+4eQQaHaHXP9BXW1BRR9c/cNmcY07t1j/gbOEi6JLWP6CUO///N9Y/+Gx9DYHc1T9gEnliVoDVPyihABNrI9U/yDXmM6rF1D+I7PvZ/mbUP9jhExpUB9Q/IDIACZWm0z+w+ZK7rETTP/BUnkaG4dI/UGD0vgx90j8YOGc5KxfSP8D4yMrMr9E/oL7rh9xG0T8YpqGFRdzQP5DLvNjyb9A/aEsPls8B0D/wg9akjSPPP2CXRUWHP84/4AkQN2JXzT8QFNqj9GrMP+DuR7UUess/ENP9lJiEyj8w+Z9sVorJP0Ca0mUki8g/4O45qtiGxz/gL3pjSX3GPwCWN7tMbsU/AFoW27hZxD/AtLrsYz/DP3ANBOmBG8I/kPa/6v/mwD/Acn3OGUW/PwDhdZ4nnrw/4GzeJv/auT+ASyxJdv22P+Cx1OZiB7Q/",
          "dtype": "f8"
         }
        },
        {
         "line": {
          "width": 1
         },
         "mode": "lines",
         "name": "Sequence 18",
         "type": "scatter",
         "x": {
          "bdata": "AAECAwQFBgcICQoLDA0ODxAREhMUFRYXGBkaGxwdHh8gISIjJCUmJygpKissLS4vMDEyMzQ1Njc4OTo7PD0+P0BBQkNERUZHSElKS0xNTk9QUVJTVFVWV1hZWltcXV5fYGFiY2RlZmdoaWprbG1ub3BxcnN0dXZ3",
          "dtype": "i1"
         },
         "y": {
          "bdata": "ZLkQn2hW5T8I26OFFkLlPwjRQe6gLeU/wAET1AUZ5T980z8yQwTlP4is8ANX7+Q/PPNNRD/a5D/sDYDu+cTkP+Rir/2Er+Q/dFgEbd6Z5D/wVKc3BITkP7C+wFj0beQ/APx4y6xX5D8w+Y2QN0HkP9wl3qnCKuQ/ZHGoOk4U5D8o2gH41P3jP5Re/5ZR5+M/EP21zL7Q4z/8szpOF7rjP8iBotBVo+M/2GQCCXWM4z+UW2+sb3XjP1xk/m9AXuM/oH3ECOJG4z/EpdYrTy/jPzDbSY6CF+M/TBwz5Xb/4j98Z6flJufiPyy7u0SNzuI/wBWFt6S14j+YdRjzZ5ziPyzZiqzRguI/1D7xmNxo4j/8pGBtg07iPwwK7t7AM+I/cGyuoo8Y4j+EyrZt6vzhP7wiHPXL4OE/cHPz7S7E4T8Uu1ENDqfhPxD4SwhkieE/wCj3kytr4T+QS2hlX0zhP+xetDH6LOE/8CezhKcM4T+MH9wXIOvgP9DRs2RyyOA/4Mq+5Kyk4D/MloER3n/gP7TBgGQUWuA/rNdAV14z4D/QZEZjygvgP2DqKwTOxt8/4CloWoV03z9AoEq81yDfP8Bl3Bziy94/gJImb8F13j+4PjKmkh7eP6iCCLVyxt0/cHayjn5t3T9AMjkm0xPdP1jOpW6Nudw/4GIBW8pe3D8ICFXepgPcPwDWqes/qNs/AOUIdrJM2z84TXtwG/HaP9AmCs6Xldo/EIq+gUQ62j8Ij6F+Pt/ZPwhOvLeihNk/MN8XII4q2T+4Wr2qHdHYP8jYtUpueNg/oHEK85wg2D9oZ7DC1cnXP3gW7tWodNc/4Jmu0Awh1z84FUGU0c7WPyis9AHHfdY/UIIY+7wt1j9Qu/tgg97VP8B67RTqj9U/UOQ8+MBB1T+QGzns1/PUPyhEMdL+pdQ/uIF0iwVY1D/Y91H5uwnUPzjKGP3xutM/aBwYeHdr0z8YEp9LHBvTP+DO/FiwydI/WHaAgQN30j8oLHmm5SLSP/ATNqkmzdE/UFEGa5Z10T/oBznNBBzRP2BbHbFBwNA/QG8C+Bxi0D9IZzeDZgHQP/DNFmjcO88/ICSb1wdvzj8wGJoX75vNP3Dxseoxwsw/IPeAE3Dhyz+AcKVUSfnKP+CkvXBdCco/4IR4WE4OyT8wjLwmMwLIP3DDtVCn5cY/YNldK3i5xT9wfK4Lc37EP3BboUZlNcM/8CQwMRzfwT+gh1QgZXzAPwBkENIaHL4/wKWJwMQpuz+gMQi2YiO4PwBlf1yPCrU/",
          "dtype": "f8"
         }
        },
        {
         "line": {
          "width": 1
         },
         "mode": "lines",
         "name": "Sequence 19",
         "type": "scatter",
         "x": {
          "bdata": "AAECAwQFBgcICQoLDA0ODxAREhMUFRYXGBkaGxwdHh8gISIjJCUmJygpKissLS4vMDEyMzQ1Njc4OTo7PD0+P0BBQkNERUZHSElKS0xNTk9QUVJTVFVWV1hZWltcXV5fYGFiY2RlZmdoaWprbG1ub3BxcnN0dXZ3",
          "dtype": "i1"
         },
         "y": {
          "bdata": "uLR/q0XQ4z/oKQKNzLzjP2jRF1COqeM/GLa++YWW4z/c4vSOroPjP5xiuBQDceM/REAHkH5e4z+oht8FHEzjP7xAP3vWOeM/WHkk9agn4z9wO414jhXjP9iRdwqCA+M/gIfhr37x4j9MJ8ltf9/iPxx8LEl/zeI/1JAJR3m74j9gcF5saKniP5wlKb5Hl+I/eLtnQRKF4j/MPBj7wnLiP4S0OPBUYOI/hC3HJcNN4j+wssGgCDviP+xOJmYgKOI/HA3zegUV4j8s+CXksgHiP/QavaYj7uE/aIC2x1La4T9gMxBMO8bhP8Q+yDjYseE/fK3ckiSd4T/UgPy/M4jhP8zgfFpjc+E/ZECIgbVe4T8Yu3dkIUrhP3hspDKeNeE/AHBnGyMh4T9A4RlOpwzhP7TbFPoh+OA/4HqxTorj4D9Y2kh7187gP5QVNK8AuuA/IEjMGf2k4D98jWrqw4/gPzABaFBMeuA/xL4de41k4D+44eSZfk7gP5yFFtwWOOA/7MULcU0h4D80vh2IGQrgP+ATS6Hk5N8/YIn485203z/gE/ZmTYPfP3jq9VjhUN8/OESqKEgd3z8gWMU0cOjePzhd+dtHst4/mIr4fL163j9IF3V2v0HeP0g6ISc8B94/sCqv7SHL3T94H9EoX43dP8hPOTfiTd0/SEOorpkL3T+wKOwBmsXcP6ixS1sKfNw/uI8N5REv3D94dHjJ197bP4gR0zKDi9s/cBhkSzs12z/QOnI9J9zaP0AqRDNugNo/WJggVzci2j+gNk7TqcHZP8i2E9LsXtk/SMq3fSf62D/IIoEAgZPYP+BxtoQgK9g/IGmeNC3B1z8gun86zlXXP3gWocAq6dY/wC9J8Wl71j+It772sgzWP3BfSPssndU/ANksKf8s1T/Y1bKqULzUP5AHIapIS9Q/wB++UQ7a0z/4z9DLyGjTP9DJn0Kf99I/4L5x4LiG0j/AYI3PPBbSPwBhOTpSptE/QHG8SiA30T9gzt3OwsjQP6B2IjfhWtA/gBF2+Y/azz8AHHcBsv/OPzAfcEjsJM4/sC2JkAJKzT/QWeqbuG7MPyC2uyzSkss/IFUlBRO2yj9QSU/nPtjJPzClYZUZ+cg/MHuE0WYYyD/Q3d9d6jXHP6Dfm/xnUcY/AJPgb6NqxT+ACtZ5YIHEP6BYpNxilcM/wI9zWm6mwj+Qwmu1RrTBP2ADta+vvsA/gMnuFtqKvz9g8rUVhZC9P0CmD+Dnjbs/QApM+omCuT9AQ7vo8m23P2B2rS+qT7U/",
          "dtype": "f8"
         }
        }
       ],
       "layout": {
        "template": {
         "data": {
          "bar": [
           {
            "error_x": {
             "color": "#2a3f5f"
            },
            "error_y": {
             "color": "#2a3f5f"
            },
            "marker": {
             "line": {
              "color": "white",
              "width": 0.5
             },
             "pattern": {
              "fillmode": "overlay",
              "size": 10,
              "solidity": 0.2
             }
            },
            "type": "bar"
           }
          ],
          "barpolar": [
           {
            "marker": {
             "line": {
              "color": "white",
              "width": 0.5
             },
             "pattern": {
              "fillmode": "overlay",
              "size": 10,
              "solidity": 0.2
             }
            },
            "type": "barpolar"
           }
          ],
          "carpet": [
           {
            "aaxis": {
             "endlinecolor": "#2a3f5f",
             "gridcolor": "#C8D4E3",
             "linecolor": "#C8D4E3",
             "minorgridcolor": "#C8D4E3",
             "startlinecolor": "#2a3f5f"
            },
            "baxis": {
             "endlinecolor": "#2a3f5f",
             "gridcolor": "#C8D4E3",
             "linecolor": "#C8D4E3",
             "minorgridcolor": "#C8D4E3",
             "startlinecolor": "#2a3f5f"
            },
            "type": "carpet"
           }
          ],
          "choropleth": [
           {
            "colorbar": {
             "outlinewidth": 0,
             "ticks": ""
            },
            "type": "choropleth"
           }
          ],
          "contour": [
           {
            "colorbar": {
             "outlinewidth": 0,
             "ticks": ""
            },
            "colorscale": [
             [
              0,
              "#0d0887"
             ],
             [
              0.1111111111111111,
              "#46039f"
             ],
             [
              0.2222222222222222,
              "#7201a8"
             ],
             [
              0.3333333333333333,
              "#9c179e"
             ],
             [
              0.4444444444444444,
              "#bd3786"
             ],
             [
              0.5555555555555556,
              "#d8576b"
             ],
             [
              0.6666666666666666,
              "#ed7953"
             ],
             [
              0.7777777777777778,
              "#fb9f3a"
             ],
             [
              0.8888888888888888,
              "#fdca26"
             ],
             [
              1,
              "#f0f921"
             ]
            ],
            "type": "contour"
           }
          ],
          "contourcarpet": [
           {
            "colorbar": {
             "outlinewidth": 0,
             "ticks": ""
            },
            "type": "contourcarpet"
           }
          ],
          "heatmap": [
           {
            "colorbar": {
             "outlinewidth": 0,
             "ticks": ""
            },
            "colorscale": [
             [
              0,
              "#0d0887"
             ],
             [
              0.1111111111111111,
              "#46039f"
             ],
             [
              0.2222222222222222,
              "#7201a8"
             ],
             [
              0.3333333333333333,
              "#9c179e"
             ],
             [
              0.4444444444444444,
              "#bd3786"
             ],
             [
              0.5555555555555556,
              "#d8576b"
             ],
             [
              0.6666666666666666,
              "#ed7953"
             ],
             [
              0.7777777777777778,
              "#fb9f3a"
             ],
             [
              0.8888888888888888,
              "#fdca26"
             ],
             [
              1,
              "#f0f921"
             ]
            ],
            "type": "heatmap"
           }
          ],
          "histogram": [
           {
            "marker": {
             "pattern": {
              "fillmode": "overlay",
              "size": 10,
              "solidity": 0.2
             }
            },
            "type": "histogram"
           }
          ],
          "histogram2d": [
           {
            "colorbar": {
             "outlinewidth": 0,
             "ticks": ""
            },
            "colorscale": [
             [
              0,
              "#0d0887"
             ],
             [
              0.1111111111111111,
              "#46039f"
             ],
             [
              0.2222222222222222,
              "#7201a8"
             ],
             [
              0.3333333333333333,
              "#9c179e"
             ],
             [
              0.4444444444444444,
              "#bd3786"
             ],
             [
              0.5555555555555556,
              "#d8576b"
             ],
             [
              0.6666666666666666,
              "#ed7953"
             ],
             [
              0.7777777777777778,
              "#fb9f3a"
             ],
             [
              0.8888888888888888,
              "#fdca26"
             ],
             [
              1,
              "#f0f921"
             ]
            ],
            "type": "histogram2d"
           }
          ],
          "histogram2dcontour": [
           {
            "colorbar": {
             "outlinewidth": 0,
             "ticks": ""
            },
            "colorscale": [
             [
              0,
              "#0d0887"
             ],
             [
              0.1111111111111111,
              "#46039f"
             ],
             [
              0.2222222222222222,
              "#7201a8"
             ],
             [
              0.3333333333333333,
              "#9c179e"
             ],
             [
              0.4444444444444444,
              "#bd3786"
             ],
             [
              0.5555555555555556,
              "#d8576b"
             ],
             [
              0.6666666666666666,
              "#ed7953"
             ],
             [
              0.7777777777777778,
              "#fb9f3a"
             ],
             [
              0.8888888888888888,
              "#fdca26"
             ],
             [
              1,
              "#f0f921"
             ]
            ],
            "type": "histogram2dcontour"
           }
          ],
          "mesh3d": [
           {
            "colorbar": {
             "outlinewidth": 0,
             "ticks": ""
            },
            "type": "mesh3d"
           }
          ],
          "parcoords": [
           {
            "line": {
             "colorbar": {
              "outlinewidth": 0,
              "ticks": ""
             }
            },
            "type": "parcoords"
           }
          ],
          "pie": [
           {
            "automargin": true,
            "type": "pie"
           }
          ],
          "scatter": [
           {
            "fillpattern": {
             "fillmode": "overlay",
             "size": 10,
             "solidity": 0.2
            },
            "type": "scatter"
           }
          ],
          "scatter3d": [
           {
            "line": {
             "colorbar": {
              "outlinewidth": 0,
              "ticks": ""
             }
            },
            "marker": {
             "colorbar": {
              "outlinewidth": 0,
              "ticks": ""
             }
            },
            "type": "scatter3d"
           }
          ],
          "scattercarpet": [
           {
            "marker": {
             "colorbar": {
              "outlinewidth": 0,
              "ticks": ""
             }
            },
            "type": "scattercarpet"
           }
          ],
          "scattergeo": [
           {
            "marker": {
             "colorbar": {
              "outlinewidth": 0,
              "ticks": ""
             }
            },
            "type": "scattergeo"
           }
          ],
          "scattergl": [
           {
            "marker": {
             "colorbar": {
              "outlinewidth": 0,
              "ticks": ""
             }
            },
            "type": "scattergl"
           }
          ],
          "scattermap": [
           {
            "marker": {
             "colorbar": {
              "outlinewidth": 0,
              "ticks": ""
             }
            },
            "type": "scattermap"
           }
          ],
          "scattermapbox": [
           {
            "marker": {
             "colorbar": {
              "outlinewidth": 0,
              "ticks": ""
             }
            },
            "type": "scattermapbox"
           }
          ],
          "scatterpolar": [
           {
            "marker": {
             "colorbar": {
              "outlinewidth": 0,
              "ticks": ""
             }
            },
            "type": "scatterpolar"
           }
          ],
          "scatterpolargl": [
           {
            "marker": {
             "colorbar": {
              "outlinewidth": 0,
              "ticks": ""
             }
            },
            "type": "scatterpolargl"
           }
          ],
          "scatterternary": [
           {
            "marker": {
             "colorbar": {
              "outlinewidth": 0,
              "ticks": ""
             }
            },
            "type": "scatterternary"
           }
          ],
          "surface": [
           {
            "colorbar": {
             "outlinewidth": 0,
             "ticks": ""
            },
            "colorscale": [
             [
              0,
              "#0d0887"
             ],
             [
              0.1111111111111111,
              "#46039f"
             ],
             [
              0.2222222222222222,
              "#7201a8"
             ],
             [
              0.3333333333333333,
              "#9c179e"
             ],
             [
              0.4444444444444444,
              "#bd3786"
             ],
             [
              0.5555555555555556,
              "#d8576b"
             ],
             [
              0.6666666666666666,
              "#ed7953"
             ],
             [
              0.7777777777777778,
              "#fb9f3a"
             ],
             [
              0.8888888888888888,
              "#fdca26"
             ],
             [
              1,
              "#f0f921"
             ]
            ],
            "type": "surface"
           }
          ],
          "table": [
           {
            "cells": {
             "fill": {
              "color": "#EBF0F8"
             },
             "line": {
              "color": "white"
             }
            },
            "header": {
             "fill": {
              "color": "#C8D4E3"
             },
             "line": {
              "color": "white"
             }
            },
            "type": "table"
           }
          ]
         },
         "layout": {
          "annotationdefaults": {
           "arrowcolor": "#2a3f5f",
           "arrowhead": 0,
           "arrowwidth": 1
          },
          "autotypenumbers": "strict",
          "coloraxis": {
           "colorbar": {
            "outlinewidth": 0,
            "ticks": ""
           }
          },
          "colorscale": {
           "diverging": [
            [
             0,
             "#8e0152"
            ],
            [
             0.1,
             "#c51b7d"
            ],
            [
             0.2,
             "#de77ae"
            ],
            [
             0.3,
             "#f1b6da"
            ],
            [
             0.4,
             "#fde0ef"
            ],
            [
             0.5,
             "#f7f7f7"
            ],
            [
             0.6,
             "#e6f5d0"
            ],
            [
             0.7,
             "#b8e186"
            ],
            [
             0.8,
             "#7fbc41"
            ],
            [
             0.9,
             "#4d9221"
            ],
            [
             1,
             "#276419"
            ]
           ],
           "sequential": [
            [
             0,
             "#0d0887"
            ],
            [
             0.1111111111111111,
             "#46039f"
            ],
            [
             0.2222222222222222,
             "#7201a8"
            ],
            [
             0.3333333333333333,
             "#9c179e"
            ],
            [
             0.4444444444444444,
             "#bd3786"
            ],
            [
             0.5555555555555556,
             "#d8576b"
            ],
            [
             0.6666666666666666,
             "#ed7953"
            ],
            [
             0.7777777777777778,
             "#fb9f3a"
            ],
            [
             0.8888888888888888,
             "#fdca26"
            ],
            [
             1,
             "#f0f921"
            ]
           ],
           "sequentialminus": [
            [
             0,
             "#0d0887"
            ],
            [
             0.1111111111111111,
             "#46039f"
            ],
            [
             0.2222222222222222,
             "#7201a8"
            ],
            [
             0.3333333333333333,
             "#9c179e"
            ],
            [
             0.4444444444444444,
             "#bd3786"
            ],
            [
             0.5555555555555556,
             "#d8576b"
            ],
            [
             0.6666666666666666,
             "#ed7953"
            ],
            [
             0.7777777777777778,
             "#fb9f3a"
            ],
            [
             0.8888888888888888,
             "#fdca26"
            ],
            [
             1,
             "#f0f921"
            ]
           ]
          },
          "colorway": [
           "#636efa",
           "#EF553B",
           "#00cc96",
           "#ab63fa",
           "#FFA15A",
           "#19d3f3",
           "#FF6692",
           "#B6E880",
           "#FF97FF",
           "#FECB52"
          ],
          "font": {
           "color": "#2a3f5f"
          },
          "geo": {
           "bgcolor": "white",
           "lakecolor": "white",
           "landcolor": "white",
           "showlakes": true,
           "showland": true,
           "subunitcolor": "#C8D4E3"
          },
          "hoverlabel": {
           "align": "left"
          },
          "hovermode": "closest",
          "mapbox": {
           "style": "light"
          },
          "paper_bgcolor": "white",
          "plot_bgcolor": "white",
          "polar": {
           "angularaxis": {
            "gridcolor": "#EBF0F8",
            "linecolor": "#EBF0F8",
            "ticks": ""
           },
           "bgcolor": "white",
           "radialaxis": {
            "gridcolor": "#EBF0F8",
            "linecolor": "#EBF0F8",
            "ticks": ""
           }
          },
          "scene": {
           "xaxis": {
            "backgroundcolor": "white",
            "gridcolor": "#DFE8F3",
            "gridwidth": 2,
            "linecolor": "#EBF0F8",
            "showbackground": true,
            "ticks": "",
            "zerolinecolor": "#EBF0F8"
           },
           "yaxis": {
            "backgroundcolor": "white",
            "gridcolor": "#DFE8F3",
            "gridwidth": 2,
            "linecolor": "#EBF0F8",
            "showbackground": true,
            "ticks": "",
            "zerolinecolor": "#EBF0F8"
           },
           "zaxis": {
            "backgroundcolor": "white",
            "gridcolor": "#DFE8F3",
            "gridwidth": 2,
            "linecolor": "#EBF0F8",
            "showbackground": true,
            "ticks": "",
            "zerolinecolor": "#EBF0F8"
           }
          },
          "shapedefaults": {
           "line": {
            "color": "#2a3f5f"
           }
          },
          "ternary": {
           "aaxis": {
            "gridcolor": "#DFE8F3",
            "linecolor": "#A2B1C6",
            "ticks": ""
           },
           "baxis": {
            "gridcolor": "#DFE8F3",
            "linecolor": "#A2B1C6",
            "ticks": ""
           },
           "bgcolor": "white",
           "caxis": {
            "gridcolor": "#DFE8F3",
            "linecolor": "#A2B1C6",
            "ticks": ""
           }
          },
          "title": {
           "x": 0.05
          },
          "xaxis": {
           "automargin": true,
           "gridcolor": "#EBF0F8",
           "linecolor": "#EBF0F8",
           "ticks": "",
           "title": {
            "standoff": 15
           },
           "zerolinecolor": "#EBF0F8",
           "zerolinewidth": 2
          },
          "yaxis": {
           "automargin": true,
           "gridcolor": "#EBF0F8",
           "linecolor": "#EBF0F8",
           "ticks": "",
           "title": {
            "standoff": 15
           },
           "zerolinecolor": "#EBF0F8",
           "zerolinewidth": 2
          }
         }
        },
        "title": {
         "text": "Lowest Capacity at end Sequences"
        },
        "xaxis": {
         "title": {
          "text": "Timestep"
         }
        },
        "yaxis": {
         "title": {
          "text": "Capacity"
         }
        }
       }
      }
     },
     "metadata": {},
     "output_type": "display_data"
    }
   ],
   "source": [
    "n_sequences = 20\n",
    "\n",
    "end_capacities = []\n",
    "for idx in range(X_test.shape[0]):  # Loop over all sequences\n",
    "    last_value = X_test[idx, -1, 0]  # Capacity at the end: [idx, 119, 0]\n",
    "    end_capacities.append((idx, last_value))\n",
    "\n",
    "# Convert to numpy array for easier manipulation\n",
    "end_capacities = np.array([(idx, val) for idx, val in end_capacities])\n",
    "\n",
    "# Step 2: Get indices of the 20 sequences with the lowest end capacity\n",
    "# Use argsort to get indices sorted by end capacity (ascending), then take the first 20 (lowest)\n",
    "lowest_indices = np.argsort(end_capacities[:, 1])[:n_sequences]\n",
    "lowest_indices = end_capacities[lowest_indices, 0].astype(int)  # Extract the sequence indices\n",
    "\n",
    "# Step 3: Extract the top 20 sequences from X_test\n",
    "lowest_20_sequences = X_test[lowest_indices]\n",
    "\n",
    "# Verify the shape\n",
    "print(\"Shape of lowest_20_sequences:\", lowest_20_sequences.shape)\n",
    "\n",
    "# Plot the sequences in a line plot\n",
    "fig = go.Figure()\n",
    "for idx, sequence in enumerate(lowest_20_sequences):\n",
    "    fig.add_trace(go.Scatter\n",
    "    (\n",
    "        x=np.arange(120),\n",
    "        y=sequence.flatten(),\n",
    "        mode='lines',\n",
    "        name=f\"Sequence {idx}\",\n",
    "        line=dict(width=1)\n",
    "    ))\n",
    "fig.update_layout(\n",
    "    title=\"Lowest Capacity at end Sequences\",\n",
    "    xaxis_title=\"Timestep\",\n",
    "    yaxis_title=\"Capacity\",\n",
    "    template=\"plotly_white\"\n",
    ")\n",
    "fig.show()"
   ]
  },
  {
   "cell_type": "code",
   "execution_count": 9,
   "metadata": {},
   "outputs": [
    {
     "name": "stdout",
     "output_type": "stream",
     "text": [
      "Correlation for sequence 0 (Lowest capacity, mode=event, pruned_idx=0, reverse=True): 0.9059\n"
     ]
    },
    {
     "data": {
      "application/vnd.plotly.v1+json": {
       "config": {
        "plotlyServerURL": "https://plot.ly"
       },
       "data": [
        {
         "line": {
          "color": "blue"
         },
         "mode": "lines+markers",
         "name": "SHAP",
         "type": "scatter",
         "x": {
          "bdata": "AAECAwQFBgcICQoLDA0ODxAREhMUFRYXGBkaGxwdHh8gISIjJCUmJygpKissLS4vMDEyMzQ1Njc4OTo7PD0+P0BBQkNERUZHSElKS0xNTk9QUVJTVFVWV1hZWltcXV5fYGFiY2RlZmdoaWprbG1ub3BxcnN0dXZ3",
          "dtype": "i1"
         },
         "y": {
          "bdata": "AAAAAAAAAACTSX54yrCnvwAAAAAAAAAAyegfVheboz8AAAAAAAAAAAAAAAAAAAAAAAAAAAAAAAAAAAAAAAAAAAAAAAAAAAAAAAAAAAAAAAAAAAAAAAAAAAAAAAAAAAAAAAAAAAAAAAAAAAAAAAAAAAAAAAAAAAAA23DMMALXk78AAAAAAAAAAAAAAAAAAAAAAAAAAAAAAADXRqGspjWUPwAAAAAAAAAAAAAAAAAAAAAKHgrrKRCTv5mhRH+VWoK/AAAAAAAAAAAAAAAAAAAAADoG+0igY6q/eynbWQd+ob8AAAAAAAAAAAAAAAAAAAAAAAAAAAAAAAAlQYHYLqOVPwAAAAAAAAAAMzQo901Hnj8AAAAAAAAAAAAAAAAAAAAAAAAAAAAAAAAAAAAAAAAAAP/uQsYFkpy/4DY+8p/NiL/J6IW1NeedP0N9s6FHWbA/ZqAoo0gSiL8eKEwiS6xoPwAAAAAAAAAAV4/+ZtEpoD8AAAAAAAAAAAAAAAAAAAAArGFI8NDXrr8AAAAAAAAAAAAAAAAAAAAAAAAAAAAAAACsVlswfiJxv4z6JRpXlaW/AAAAAAAAAAAAAAAAAAAAAAAAAAAAAAAAAAAAAAAAAAAAAAAAAAAAAAAAAAAAAAAAqczDl7lllj9jBirImFyoPwAAAAAAAAAAHmIIdHw+dD8AAAAAAAAAAAAAAAAAAAAAAAAAAAAAAAAAAAAAAAAAAAAAAAAAAAAAk5Ja+Uk5oD8AAAAAAAAAAHPfQGHGMo8/AAAAAAAAAAAAAAAAAAAAAFc5tYelRJu/AAAAAAAAAAAUU5VWxgqjvxfwtCSiqY+/AAAAAAAAAAADTFa0qZeTPwAAAAAAAAAAAAAAAAAAAACmI/EJHd+cPwAAAAAAAAAAAAAAAAAAAAAAAAAAAAAAAAAAAAAAAAAAAAAAAAAAAAAAAAAAAAAAAAAAAAAAAAAAAAAAAAAAAAAAAAAAAAAAAGG66ooSgYs/AAAAAAAAAAA2aO4O7LKgPwAAAAAAAAAAAAAAAAAAAAAAAAAAAAAAAK5mUgQCMYW/AAAAAAAAAAAAAAAAAAAAAAAAAAAAAAAAw5Rikgxuob8NLg8U4besP1AQ/EcNPIg/y8GToCl2mT8AAAAAAAAAANMTmTmLPLk/cZfbZO1msz/LL60/uhCwP1BvzPUQpbI/PEiTvLhUsj9ie7eNlLaCP2xLxBdOuaA/2PaVsdU5kL9hvQjGU4+iv7u+02uMfL6/VPEQsekJx78URkmr25XPv4QDTxtZMdG/",
          "dtype": "f8"
         }
        },
        {
         "line": {
          "color": "red"
         },
         "mode": "lines+markers",
         "name": "TimeSHAP",
         "type": "scatter",
         "x": {
          "bdata": "AAECAwQFBgcICQoLDA0ODxAREhMUFRYXGBkaGxwdHh8gISIjJCUmJygpKissLS4vMDEyMzQ1Njc4OTo7PD0+P0BBQkNERUZHSElKS0xNTk9QUVJTVFVWV1hZWltcXV5fYGFiY2RlZmdoaWprbG1ub3BxcnN0dXZ3",
          "dtype": "i1"
         },
         "y": {
          "bdata": "AAAAAAAAAAAAAAAAAAAAAICwC6JsuX6/AAAAAAAAAAAAAAAAAAAAAAAAAAAAAAAAOSi7i8PFfD8AAAAAAAAAAAAAAAAAAAAAAAAAAAAAAAAAAAAAAAAAAGcdr6laZHc/AAAAAAAAAAAAAAAAAAAAAAAAAAAAAAAAAAAAAAAAAAAAAAAAAAAAAAAAAAAAAAAAAAAAAAAAAAAAAAAAAAAAAAAAAAAAAAAAAAAAAAAAAAAAAAAAAAAAAAAAAAAAAAAAAAAAAAAAAAAAAAAAAAAAAAAAAAAAAAAAAAAAAAAAAAAAAAAAAAAAAAAAAAAAAAAAAAAAAAAAAAAAAAAAAAAAANnNLEvYsng/AAAAAAAAAAAAAAAAAAAAAAAAAAAAAAAAAAAAAAAAAAAAAAAAAAAAAAAAAAAAAAAAAAAAAAAAAAAAAAAAAAAAAAAAAAAAAAAABd+l4UzaeL8AAAAAAAAAAAAAAAAAAAAA0xyachFler8AAAAAAAAAAAAAAAAAAAAAAAAAAAAAAAAAAAAAAAAAAAAAAAAAAAAAAAAAAAAAAAAAAAAAAAAAAAAAAAAAAAAAAAAAAAAAAAAAAAAAAAAAAAAAAAAAAAAAAAAAAAAAAAAAAAAAAAAAAAAAAAAAAAAAAAAAAAAAAAAAAAAAAAAAAAAAAAAAAAAAAAAAAAAAAAAAAAAAAAAAAAAAAAAAAAAAAAAAAAAAAAAAAAAAAAAAAAAAAAAAAAAAAAAAAAAAAAAAAAAAAAAAAAAAAAAAAAAAAAAAAAAAAAAAAAAAAAAAAAAAAAAAAAAAAAAAAAAAAAD0Ow4YePJ8vwAAAAAAAAAAAAAAAAAAAAAAAAAAAAAAAAAAAAAAAAAAAAAAAAAAAAAAAAAAAAAAAAAAAAAAAAAAAAAAAAAAAAAAAAAAAAAAAAAAAAAAAAAAAAAAAAAAAAAAAAAAAAAAAAAAAAAAAAAAldHEqOkigD+sGJxTR7qBPwAAAAAAAAAAAAAAAAAAAAAAAAAAAAAAANnfZgQWzn6/Rx6BXGDNf7+qNTQgqAF6v/bLv4WcT4O/S+syBDUOd7+nIEaE08d2v7Fz+jZeJH6/AAAAAAAAAAD2FBeAVfaBP99MhcyRMZc/TCDyhSjooz/b0oJ5is+pPwRjhzd4fas//1/FzZ9FsD8UwEqY8n2yP4M88+psGrI/H4L4MyR3rD9nG9aD9nmlP5JFufcbOJ4/AAAAAAAAAABmjalwv1eovxDPfyGUkbe/9U+95we/xL+Sgf3rjbbMv3lFkv1zQdO/",
          "dtype": "f8"
         }
        }
       ],
       "layout": {
        "shapes": [
         {
          "line": {
           "color": "gray",
           "dash": "dash"
          },
          "type": "line",
          "x0": 0,
          "x1": 1,
          "xref": "x domain",
          "y0": 0,
          "y1": 0,
          "yref": "y"
         }
        ],
        "template": {
         "data": {
          "bar": [
           {
            "error_x": {
             "color": "#2a3f5f"
            },
            "error_y": {
             "color": "#2a3f5f"
            },
            "marker": {
             "line": {
              "color": "white",
              "width": 0.5
             },
             "pattern": {
              "fillmode": "overlay",
              "size": 10,
              "solidity": 0.2
             }
            },
            "type": "bar"
           }
          ],
          "barpolar": [
           {
            "marker": {
             "line": {
              "color": "white",
              "width": 0.5
             },
             "pattern": {
              "fillmode": "overlay",
              "size": 10,
              "solidity": 0.2
             }
            },
            "type": "barpolar"
           }
          ],
          "carpet": [
           {
            "aaxis": {
             "endlinecolor": "#2a3f5f",
             "gridcolor": "#C8D4E3",
             "linecolor": "#C8D4E3",
             "minorgridcolor": "#C8D4E3",
             "startlinecolor": "#2a3f5f"
            },
            "baxis": {
             "endlinecolor": "#2a3f5f",
             "gridcolor": "#C8D4E3",
             "linecolor": "#C8D4E3",
             "minorgridcolor": "#C8D4E3",
             "startlinecolor": "#2a3f5f"
            },
            "type": "carpet"
           }
          ],
          "choropleth": [
           {
            "colorbar": {
             "outlinewidth": 0,
             "ticks": ""
            },
            "type": "choropleth"
           }
          ],
          "contour": [
           {
            "colorbar": {
             "outlinewidth": 0,
             "ticks": ""
            },
            "colorscale": [
             [
              0,
              "#0d0887"
             ],
             [
              0.1111111111111111,
              "#46039f"
             ],
             [
              0.2222222222222222,
              "#7201a8"
             ],
             [
              0.3333333333333333,
              "#9c179e"
             ],
             [
              0.4444444444444444,
              "#bd3786"
             ],
             [
              0.5555555555555556,
              "#d8576b"
             ],
             [
              0.6666666666666666,
              "#ed7953"
             ],
             [
              0.7777777777777778,
              "#fb9f3a"
             ],
             [
              0.8888888888888888,
              "#fdca26"
             ],
             [
              1,
              "#f0f921"
             ]
            ],
            "type": "contour"
           }
          ],
          "contourcarpet": [
           {
            "colorbar": {
             "outlinewidth": 0,
             "ticks": ""
            },
            "type": "contourcarpet"
           }
          ],
          "heatmap": [
           {
            "colorbar": {
             "outlinewidth": 0,
             "ticks": ""
            },
            "colorscale": [
             [
              0,
              "#0d0887"
             ],
             [
              0.1111111111111111,
              "#46039f"
             ],
             [
              0.2222222222222222,
              "#7201a8"
             ],
             [
              0.3333333333333333,
              "#9c179e"
             ],
             [
              0.4444444444444444,
              "#bd3786"
             ],
             [
              0.5555555555555556,
              "#d8576b"
             ],
             [
              0.6666666666666666,
              "#ed7953"
             ],
             [
              0.7777777777777778,
              "#fb9f3a"
             ],
             [
              0.8888888888888888,
              "#fdca26"
             ],
             [
              1,
              "#f0f921"
             ]
            ],
            "type": "heatmap"
           }
          ],
          "histogram": [
           {
            "marker": {
             "pattern": {
              "fillmode": "overlay",
              "size": 10,
              "solidity": 0.2
             }
            },
            "type": "histogram"
           }
          ],
          "histogram2d": [
           {
            "colorbar": {
             "outlinewidth": 0,
             "ticks": ""
            },
            "colorscale": [
             [
              0,
              "#0d0887"
             ],
             [
              0.1111111111111111,
              "#46039f"
             ],
             [
              0.2222222222222222,
              "#7201a8"
             ],
             [
              0.3333333333333333,
              "#9c179e"
             ],
             [
              0.4444444444444444,
              "#bd3786"
             ],
             [
              0.5555555555555556,
              "#d8576b"
             ],
             [
              0.6666666666666666,
              "#ed7953"
             ],
             [
              0.7777777777777778,
              "#fb9f3a"
             ],
             [
              0.8888888888888888,
              "#fdca26"
             ],
             [
              1,
              "#f0f921"
             ]
            ],
            "type": "histogram2d"
           }
          ],
          "histogram2dcontour": [
           {
            "colorbar": {
             "outlinewidth": 0,
             "ticks": ""
            },
            "colorscale": [
             [
              0,
              "#0d0887"
             ],
             [
              0.1111111111111111,
              "#46039f"
             ],
             [
              0.2222222222222222,
              "#7201a8"
             ],
             [
              0.3333333333333333,
              "#9c179e"
             ],
             [
              0.4444444444444444,
              "#bd3786"
             ],
             [
              0.5555555555555556,
              "#d8576b"
             ],
             [
              0.6666666666666666,
              "#ed7953"
             ],
             [
              0.7777777777777778,
              "#fb9f3a"
             ],
             [
              0.8888888888888888,
              "#fdca26"
             ],
             [
              1,
              "#f0f921"
             ]
            ],
            "type": "histogram2dcontour"
           }
          ],
          "mesh3d": [
           {
            "colorbar": {
             "outlinewidth": 0,
             "ticks": ""
            },
            "type": "mesh3d"
           }
          ],
          "parcoords": [
           {
            "line": {
             "colorbar": {
              "outlinewidth": 0,
              "ticks": ""
             }
            },
            "type": "parcoords"
           }
          ],
          "pie": [
           {
            "automargin": true,
            "type": "pie"
           }
          ],
          "scatter": [
           {
            "fillpattern": {
             "fillmode": "overlay",
             "size": 10,
             "solidity": 0.2
            },
            "type": "scatter"
           }
          ],
          "scatter3d": [
           {
            "line": {
             "colorbar": {
              "outlinewidth": 0,
              "ticks": ""
             }
            },
            "marker": {
             "colorbar": {
              "outlinewidth": 0,
              "ticks": ""
             }
            },
            "type": "scatter3d"
           }
          ],
          "scattercarpet": [
           {
            "marker": {
             "colorbar": {
              "outlinewidth": 0,
              "ticks": ""
             }
            },
            "type": "scattercarpet"
           }
          ],
          "scattergeo": [
           {
            "marker": {
             "colorbar": {
              "outlinewidth": 0,
              "ticks": ""
             }
            },
            "type": "scattergeo"
           }
          ],
          "scattergl": [
           {
            "marker": {
             "colorbar": {
              "outlinewidth": 0,
              "ticks": ""
             }
            },
            "type": "scattergl"
           }
          ],
          "scattermap": [
           {
            "marker": {
             "colorbar": {
              "outlinewidth": 0,
              "ticks": ""
             }
            },
            "type": "scattermap"
           }
          ],
          "scattermapbox": [
           {
            "marker": {
             "colorbar": {
              "outlinewidth": 0,
              "ticks": ""
             }
            },
            "type": "scattermapbox"
           }
          ],
          "scatterpolar": [
           {
            "marker": {
             "colorbar": {
              "outlinewidth": 0,
              "ticks": ""
             }
            },
            "type": "scatterpolar"
           }
          ],
          "scatterpolargl": [
           {
            "marker": {
             "colorbar": {
              "outlinewidth": 0,
              "ticks": ""
             }
            },
            "type": "scatterpolargl"
           }
          ],
          "scatterternary": [
           {
            "marker": {
             "colorbar": {
              "outlinewidth": 0,
              "ticks": ""
             }
            },
            "type": "scatterternary"
           }
          ],
          "surface": [
           {
            "colorbar": {
             "outlinewidth": 0,
             "ticks": ""
            },
            "colorscale": [
             [
              0,
              "#0d0887"
             ],
             [
              0.1111111111111111,
              "#46039f"
             ],
             [
              0.2222222222222222,
              "#7201a8"
             ],
             [
              0.3333333333333333,
              "#9c179e"
             ],
             [
              0.4444444444444444,
              "#bd3786"
             ],
             [
              0.5555555555555556,
              "#d8576b"
             ],
             [
              0.6666666666666666,
              "#ed7953"
             ],
             [
              0.7777777777777778,
              "#fb9f3a"
             ],
             [
              0.8888888888888888,
              "#fdca26"
             ],
             [
              1,
              "#f0f921"
             ]
            ],
            "type": "surface"
           }
          ],
          "table": [
           {
            "cells": {
             "fill": {
              "color": "#EBF0F8"
             },
             "line": {
              "color": "white"
             }
            },
            "header": {
             "fill": {
              "color": "#C8D4E3"
             },
             "line": {
              "color": "white"
             }
            },
            "type": "table"
           }
          ]
         },
         "layout": {
          "annotationdefaults": {
           "arrowcolor": "#2a3f5f",
           "arrowhead": 0,
           "arrowwidth": 1
          },
          "autotypenumbers": "strict",
          "coloraxis": {
           "colorbar": {
            "outlinewidth": 0,
            "ticks": ""
           }
          },
          "colorscale": {
           "diverging": [
            [
             0,
             "#8e0152"
            ],
            [
             0.1,
             "#c51b7d"
            ],
            [
             0.2,
             "#de77ae"
            ],
            [
             0.3,
             "#f1b6da"
            ],
            [
             0.4,
             "#fde0ef"
            ],
            [
             0.5,
             "#f7f7f7"
            ],
            [
             0.6,
             "#e6f5d0"
            ],
            [
             0.7,
             "#b8e186"
            ],
            [
             0.8,
             "#7fbc41"
            ],
            [
             0.9,
             "#4d9221"
            ],
            [
             1,
             "#276419"
            ]
           ],
           "sequential": [
            [
             0,
             "#0d0887"
            ],
            [
             0.1111111111111111,
             "#46039f"
            ],
            [
             0.2222222222222222,
             "#7201a8"
            ],
            [
             0.3333333333333333,
             "#9c179e"
            ],
            [
             0.4444444444444444,
             "#bd3786"
            ],
            [
             0.5555555555555556,
             "#d8576b"
            ],
            [
             0.6666666666666666,
             "#ed7953"
            ],
            [
             0.7777777777777778,
             "#fb9f3a"
            ],
            [
             0.8888888888888888,
             "#fdca26"
            ],
            [
             1,
             "#f0f921"
            ]
           ],
           "sequentialminus": [
            [
             0,
             "#0d0887"
            ],
            [
             0.1111111111111111,
             "#46039f"
            ],
            [
             0.2222222222222222,
             "#7201a8"
            ],
            [
             0.3333333333333333,
             "#9c179e"
            ],
            [
             0.4444444444444444,
             "#bd3786"
            ],
            [
             0.5555555555555556,
             "#d8576b"
            ],
            [
             0.6666666666666666,
             "#ed7953"
            ],
            [
             0.7777777777777778,
             "#fb9f3a"
            ],
            [
             0.8888888888888888,
             "#fdca26"
            ],
            [
             1,
             "#f0f921"
            ]
           ]
          },
          "colorway": [
           "#636efa",
           "#EF553B",
           "#00cc96",
           "#ab63fa",
           "#FFA15A",
           "#19d3f3",
           "#FF6692",
           "#B6E880",
           "#FF97FF",
           "#FECB52"
          ],
          "font": {
           "color": "#2a3f5f"
          },
          "geo": {
           "bgcolor": "white",
           "lakecolor": "white",
           "landcolor": "white",
           "showlakes": true,
           "showland": true,
           "subunitcolor": "#C8D4E3"
          },
          "hoverlabel": {
           "align": "left"
          },
          "hovermode": "closest",
          "mapbox": {
           "style": "light"
          },
          "paper_bgcolor": "white",
          "plot_bgcolor": "white",
          "polar": {
           "angularaxis": {
            "gridcolor": "#EBF0F8",
            "linecolor": "#EBF0F8",
            "ticks": ""
           },
           "bgcolor": "white",
           "radialaxis": {
            "gridcolor": "#EBF0F8",
            "linecolor": "#EBF0F8",
            "ticks": ""
           }
          },
          "scene": {
           "xaxis": {
            "backgroundcolor": "white",
            "gridcolor": "#DFE8F3",
            "gridwidth": 2,
            "linecolor": "#EBF0F8",
            "showbackground": true,
            "ticks": "",
            "zerolinecolor": "#EBF0F8"
           },
           "yaxis": {
            "backgroundcolor": "white",
            "gridcolor": "#DFE8F3",
            "gridwidth": 2,
            "linecolor": "#EBF0F8",
            "showbackground": true,
            "ticks": "",
            "zerolinecolor": "#EBF0F8"
           },
           "zaxis": {
            "backgroundcolor": "white",
            "gridcolor": "#DFE8F3",
            "gridwidth": 2,
            "linecolor": "#EBF0F8",
            "showbackground": true,
            "ticks": "",
            "zerolinecolor": "#EBF0F8"
           }
          },
          "shapedefaults": {
           "line": {
            "color": "#2a3f5f"
           }
          },
          "ternary": {
           "aaxis": {
            "gridcolor": "#DFE8F3",
            "linecolor": "#A2B1C6",
            "ticks": ""
           },
           "baxis": {
            "gridcolor": "#DFE8F3",
            "linecolor": "#A2B1C6",
            "ticks": ""
           },
           "bgcolor": "white",
           "caxis": {
            "gridcolor": "#DFE8F3",
            "linecolor": "#A2B1C6",
            "ticks": ""
           }
          },
          "title": {
           "x": 0.05
          },
          "xaxis": {
           "automargin": true,
           "gridcolor": "#EBF0F8",
           "linecolor": "#EBF0F8",
           "ticks": "",
           "title": {
            "standoff": 15
           },
           "zerolinecolor": "#EBF0F8",
           "zerolinewidth": 2
          },
          "yaxis": {
           "automargin": true,
           "gridcolor": "#EBF0F8",
           "linecolor": "#EBF0F8",
           "ticks": "",
           "title": {
            "standoff": 15
           },
           "zerolinecolor": "#EBF0F8",
           "zerolinewidth": 2
          }
         }
        },
        "title": {
         "text": "SHAP vs TimeSHAP for Sequence 0 (Lowest capacity, mode=event, pruned_idx=0, reverse=True)"
        },
        "xaxis": {
         "title": {
          "text": "Timestep"
         }
        },
        "yaxis": {
         "title": {
          "text": "Explanation Value"
         }
        }
       }
      }
     },
     "metadata": {},
     "output_type": "display_data"
    },
    {
     "name": "stdout",
     "output_type": "stream",
     "text": [
      "Correlation for sequence 1 (Lowest capacity, mode=event, pruned_idx=0, reverse=True): 0.8909\n"
     ]
    },
    {
     "data": {
      "application/vnd.plotly.v1+json": {
       "config": {
        "plotlyServerURL": "https://plot.ly"
       },
       "data": [
        {
         "line": {
          "color": "blue"
         },
         "mode": "lines+markers",
         "name": "SHAP",
         "type": "scatter",
         "x": {
          "bdata": "AAECAwQFBgcICQoLDA0ODxAREhMUFRYXGBkaGxwdHh8gISIjJCUmJygpKissLS4vMDEyMzQ1Njc4OTo7PD0+P0BBQkNERUZHSElKS0xNTk9QUVJTVFVWV1hZWltcXV5fYGFiY2RlZmdoaWprbG1ub3BxcnN0dXZ3",
          "dtype": "i1"
         },
         "y": {
          "bdata": "AAAAAAAAAABsGquosL6kvwAAAAAAAAAAOODSaqAEpD8AAAAAAAAAAAAAAAAAAAAAAAAAAAAAAAAAAAAAAAAAAAAAAAAAAAAAAAAAAAAAAAAAAAAAAAAAAAAAAAAAAAAAAAAAAAAAAAAAAAAAAAAAAAAAAAAAAAAAMI3/a+d6lb8AAAAAAAAAAAAAAAAAAAAAAAAAAAAAAABOjZfWRQKcPwAAAAAAAAAAAAAAAAAAAAAIhu0XrpqDv2E5BwWtUHi/AAAAAAAAAAAAAAAAAAAAAGAbH2XcBq2/MPzfZgFRor/gzx/O+E+VPwAAAAAAAAAA22TEPSLRpb9S2TI70AeUPwAAAAAAAAAAqqlobHsToj8AAAAAAAAAAAAAAAAAAAAAAAAAAAAAAAAAAAAAAAAAAH3WysFty6C/oqdL4MuVlb/YxDOKXXqaP+4z0y0EMLM/AAAAAAAAAACAP6Td7SSAPwAAAAAAAAAAROVrlTDlnz8AAAAAAAAAAAAAAAAAAAAAkKzn/CBVr78AAAAAAAAAAAAAAAAAAAAAAAAAAAAAAACAorWHfWiEv/TMnRWuNqi/AAAAAAAAAAAc/Bp0FXSRPwAAAAAAAAAAAAAAAAAAAAAAAAAAAAAAAAAAAAAAAAAA583DgtIvlz8Ifn6xQzuiPwAAAAAAAAAAkL5lJleRdj8AAAAAAAAAAAAAAAAAAAAAAAAAAAAAAAAAAAAAAAAAAAAAAAAAAAAAGhT5GBaonz8AAAAAAAAAAEBKFcIK1Yw/AAAAAAAAAAAAAAAAAAAAAJB2iDELipe/AAAAAAAAAADUw746cRmkvzTdtE6ZAJS/AAAAAAAAAADgWQVERsaQPwAAAAAAAAAAAAAAAAAAAADu+OlO4OWhPwAAAAAAAAAAAAAAAAAAAAAAAAAAAAAAAAAAAAAAAAAAAAAAAAAAAAAAAAAAAAAAAAAAAAAAAAAAiIhjmVoLnT8AAAAAAAAAAAjZ80vr4Jg/AAAAAAAAAACtlzIh6J6VPwAAAAAAAAAAAAAAAAAAAAAAAAAAAAAAAIid9ktZk4i/AAAAAAAAAAAAAAAAAAAAAAAAAAAAAAAAqG4DSggEoL+QMCs5Z9mqP5zIoOw3qpA/AAVjNOPhjj8AAAAAAAAAAPUC5zFn57k/6ydAFLNHsD93gn0yfpOwP1I1FMu/RLI/Ckbnw+I2sz8Akmhvd+Ulv2BO02vJVpU/CC6lZv7Lkr+EI5rOXf2nv1oZ/+HUuL6/bBlbRwbIxb9RJubFVYDPv2JH7PQq+dC/",
          "dtype": "f8"
         }
        },
        {
         "line": {
          "color": "red"
         },
         "mode": "lines+markers",
         "name": "TimeSHAP",
         "type": "scatter",
         "x": {
          "bdata": "AAECAwQFBgcICQoLDA0ODxAREhMUFRYXGBkaGxwdHh8gISIjJCUmJygpKissLS4vMDEyMzQ1Njc4OTo7PD0+P0BBQkNERUZHSElKS0xNTk9QUVJTVFVWV1hZWltcXV5fYGFiY2RlZmdoaWprbG1ub3BxcnN0dXZ3",
          "dtype": "i1"
         },
         "y": {
          "bdata": "AAAAAAAAAAAAAAAAAAAAAMAXpnwzlnu/AAAAAAAAAAAAAAAAAAAAAAAAAAAAAAAACuWtQMnjfj8AAAAAAAAAANgkXEP6QHg/AAAAAAAAAAAAAAAAAAAAAO4BSBTLTXg/AAAAAAAAAAD7sNB8Vk5+PwAAAAAAAAAAF4quiQfMdL8AAAAAAAAAAAAAAAAAAAAAAAAAAAAAAAAAAAAAAAAAAAAAAAAAAAAAAAAAAAAAAAAAAAAAAAAAAAAAAAAAAAAAAAAAAAAAAAAAAAAAAAAAAAAAAAAAAAAAAAAAAAAAAAAAAAAAAAAAAAAAAAAAAAAAAAAAAAAAAAAAAAAAAAAAAMMSdtFR4Hk/AAAAAAAAAAAAAAAAAAAAAAAAAAAAAAAAAAAAAAAAAAAAAAAAAAAAAAAAAAAAAAAAAAAAAAAAAAAAAAAAAAAAAAAAAAAAAAAAeuHOk7C6dL8AAAAAAAAAAAAAAAAAAAAAhH9WfVV5fL8AAAAAAAAAAAAAAAAAAAAAAAAAAAAAAAAAAAAAAAAAAAAAAAAAAAAAAAAAAAAAAAAAAAAAAAAAAAAAAAAAAAAAAAAAAAAAAAAAAAAAAAAAAAAAAAAAAAAAAAAAAAAAAAAAAAAAAAAAAAAAAAAAAAAAAAAAAAAAAAAAAAAAAAAAAAAAAAAAAAAAAAAAAAAAAAAAAAAAAAAAAAAAAAAAAAAAAAAAAAAAAAAAAAAAAAAAAAAAAAAAAAAAAAAAAAAAAAAAAAAAAAAAAAAAAAAAAAAAAAAAAAAAAAAAAAAAAAAAAAAAAAAAAAAAAAAAAAAAAAC3tQ80sD19vwAAAAAAAAAAAAAAAAAAAAAAAAAAAAAAAAAAAAAAAAAAAAAAAAAAAAAAAAAAAAAAAAAAAAAAAAAAAAAAAAAAAAAAAAAAAAAAAAAAAAAAAAAAAAAAAAAAAAAAAAAAAAAAAAAAAAAAAAAABAuD0plMgD8HnF+uWoyBPwAAAAAAAAAAAAAAAAAAAACIAiKXU7x7vxz+ec3vF3+/H+h22Cu+gb8GRpfddgGAv0MWvWl714W/AAS9VP47eb9BO26O0gl6v8VyvyUlzoC/AAAAAAAAAAB6U+kNoth/P0FaQkqJEpY/u86fZA3loz8J+/kheKepP3UjuuFFMKs/xulScQM9sD8QnFhuHXSyP9DDOIzj97E/szGnCDZGrD+0DprqhI2lPwDzI7u17p4/AAAAAAAAAADtkyFd5Fqovy7nLEWCa7e/JaODMWyRxL+pfDs20aTMv1viXKQ8OtO/",
          "dtype": "f8"
         }
        }
       ],
       "layout": {
        "shapes": [
         {
          "line": {
           "color": "gray",
           "dash": "dash"
          },
          "type": "line",
          "x0": 0,
          "x1": 1,
          "xref": "x domain",
          "y0": 0,
          "y1": 0,
          "yref": "y"
         }
        ],
        "template": {
         "data": {
          "bar": [
           {
            "error_x": {
             "color": "#2a3f5f"
            },
            "error_y": {
             "color": "#2a3f5f"
            },
            "marker": {
             "line": {
              "color": "white",
              "width": 0.5
             },
             "pattern": {
              "fillmode": "overlay",
              "size": 10,
              "solidity": 0.2
             }
            },
            "type": "bar"
           }
          ],
          "barpolar": [
           {
            "marker": {
             "line": {
              "color": "white",
              "width": 0.5
             },
             "pattern": {
              "fillmode": "overlay",
              "size": 10,
              "solidity": 0.2
             }
            },
            "type": "barpolar"
           }
          ],
          "carpet": [
           {
            "aaxis": {
             "endlinecolor": "#2a3f5f",
             "gridcolor": "#C8D4E3",
             "linecolor": "#C8D4E3",
             "minorgridcolor": "#C8D4E3",
             "startlinecolor": "#2a3f5f"
            },
            "baxis": {
             "endlinecolor": "#2a3f5f",
             "gridcolor": "#C8D4E3",
             "linecolor": "#C8D4E3",
             "minorgridcolor": "#C8D4E3",
             "startlinecolor": "#2a3f5f"
            },
            "type": "carpet"
           }
          ],
          "choropleth": [
           {
            "colorbar": {
             "outlinewidth": 0,
             "ticks": ""
            },
            "type": "choropleth"
           }
          ],
          "contour": [
           {
            "colorbar": {
             "outlinewidth": 0,
             "ticks": ""
            },
            "colorscale": [
             [
              0,
              "#0d0887"
             ],
             [
              0.1111111111111111,
              "#46039f"
             ],
             [
              0.2222222222222222,
              "#7201a8"
             ],
             [
              0.3333333333333333,
              "#9c179e"
             ],
             [
              0.4444444444444444,
              "#bd3786"
             ],
             [
              0.5555555555555556,
              "#d8576b"
             ],
             [
              0.6666666666666666,
              "#ed7953"
             ],
             [
              0.7777777777777778,
              "#fb9f3a"
             ],
             [
              0.8888888888888888,
              "#fdca26"
             ],
             [
              1,
              "#f0f921"
             ]
            ],
            "type": "contour"
           }
          ],
          "contourcarpet": [
           {
            "colorbar": {
             "outlinewidth": 0,
             "ticks": ""
            },
            "type": "contourcarpet"
           }
          ],
          "heatmap": [
           {
            "colorbar": {
             "outlinewidth": 0,
             "ticks": ""
            },
            "colorscale": [
             [
              0,
              "#0d0887"
             ],
             [
              0.1111111111111111,
              "#46039f"
             ],
             [
              0.2222222222222222,
              "#7201a8"
             ],
             [
              0.3333333333333333,
              "#9c179e"
             ],
             [
              0.4444444444444444,
              "#bd3786"
             ],
             [
              0.5555555555555556,
              "#d8576b"
             ],
             [
              0.6666666666666666,
              "#ed7953"
             ],
             [
              0.7777777777777778,
              "#fb9f3a"
             ],
             [
              0.8888888888888888,
              "#fdca26"
             ],
             [
              1,
              "#f0f921"
             ]
            ],
            "type": "heatmap"
           }
          ],
          "histogram": [
           {
            "marker": {
             "pattern": {
              "fillmode": "overlay",
              "size": 10,
              "solidity": 0.2
             }
            },
            "type": "histogram"
           }
          ],
          "histogram2d": [
           {
            "colorbar": {
             "outlinewidth": 0,
             "ticks": ""
            },
            "colorscale": [
             [
              0,
              "#0d0887"
             ],
             [
              0.1111111111111111,
              "#46039f"
             ],
             [
              0.2222222222222222,
              "#7201a8"
             ],
             [
              0.3333333333333333,
              "#9c179e"
             ],
             [
              0.4444444444444444,
              "#bd3786"
             ],
             [
              0.5555555555555556,
              "#d8576b"
             ],
             [
              0.6666666666666666,
              "#ed7953"
             ],
             [
              0.7777777777777778,
              "#fb9f3a"
             ],
             [
              0.8888888888888888,
              "#fdca26"
             ],
             [
              1,
              "#f0f921"
             ]
            ],
            "type": "histogram2d"
           }
          ],
          "histogram2dcontour": [
           {
            "colorbar": {
             "outlinewidth": 0,
             "ticks": ""
            },
            "colorscale": [
             [
              0,
              "#0d0887"
             ],
             [
              0.1111111111111111,
              "#46039f"
             ],
             [
              0.2222222222222222,
              "#7201a8"
             ],
             [
              0.3333333333333333,
              "#9c179e"
             ],
             [
              0.4444444444444444,
              "#bd3786"
             ],
             [
              0.5555555555555556,
              "#d8576b"
             ],
             [
              0.6666666666666666,
              "#ed7953"
             ],
             [
              0.7777777777777778,
              "#fb9f3a"
             ],
             [
              0.8888888888888888,
              "#fdca26"
             ],
             [
              1,
              "#f0f921"
             ]
            ],
            "type": "histogram2dcontour"
           }
          ],
          "mesh3d": [
           {
            "colorbar": {
             "outlinewidth": 0,
             "ticks": ""
            },
            "type": "mesh3d"
           }
          ],
          "parcoords": [
           {
            "line": {
             "colorbar": {
              "outlinewidth": 0,
              "ticks": ""
             }
            },
            "type": "parcoords"
           }
          ],
          "pie": [
           {
            "automargin": true,
            "type": "pie"
           }
          ],
          "scatter": [
           {
            "fillpattern": {
             "fillmode": "overlay",
             "size": 10,
             "solidity": 0.2
            },
            "type": "scatter"
           }
          ],
          "scatter3d": [
           {
            "line": {
             "colorbar": {
              "outlinewidth": 0,
              "ticks": ""
             }
            },
            "marker": {
             "colorbar": {
              "outlinewidth": 0,
              "ticks": ""
             }
            },
            "type": "scatter3d"
           }
          ],
          "scattercarpet": [
           {
            "marker": {
             "colorbar": {
              "outlinewidth": 0,
              "ticks": ""
             }
            },
            "type": "scattercarpet"
           }
          ],
          "scattergeo": [
           {
            "marker": {
             "colorbar": {
              "outlinewidth": 0,
              "ticks": ""
             }
            },
            "type": "scattergeo"
           }
          ],
          "scattergl": [
           {
            "marker": {
             "colorbar": {
              "outlinewidth": 0,
              "ticks": ""
             }
            },
            "type": "scattergl"
           }
          ],
          "scattermap": [
           {
            "marker": {
             "colorbar": {
              "outlinewidth": 0,
              "ticks": ""
             }
            },
            "type": "scattermap"
           }
          ],
          "scattermapbox": [
           {
            "marker": {
             "colorbar": {
              "outlinewidth": 0,
              "ticks": ""
             }
            },
            "type": "scattermapbox"
           }
          ],
          "scatterpolar": [
           {
            "marker": {
             "colorbar": {
              "outlinewidth": 0,
              "ticks": ""
             }
            },
            "type": "scatterpolar"
           }
          ],
          "scatterpolargl": [
           {
            "marker": {
             "colorbar": {
              "outlinewidth": 0,
              "ticks": ""
             }
            },
            "type": "scatterpolargl"
           }
          ],
          "scatterternary": [
           {
            "marker": {
             "colorbar": {
              "outlinewidth": 0,
              "ticks": ""
             }
            },
            "type": "scatterternary"
           }
          ],
          "surface": [
           {
            "colorbar": {
             "outlinewidth": 0,
             "ticks": ""
            },
            "colorscale": [
             [
              0,
              "#0d0887"
             ],
             [
              0.1111111111111111,
              "#46039f"
             ],
             [
              0.2222222222222222,
              "#7201a8"
             ],
             [
              0.3333333333333333,
              "#9c179e"
             ],
             [
              0.4444444444444444,
              "#bd3786"
             ],
             [
              0.5555555555555556,
              "#d8576b"
             ],
             [
              0.6666666666666666,
              "#ed7953"
             ],
             [
              0.7777777777777778,
              "#fb9f3a"
             ],
             [
              0.8888888888888888,
              "#fdca26"
             ],
             [
              1,
              "#f0f921"
             ]
            ],
            "type": "surface"
           }
          ],
          "table": [
           {
            "cells": {
             "fill": {
              "color": "#EBF0F8"
             },
             "line": {
              "color": "white"
             }
            },
            "header": {
             "fill": {
              "color": "#C8D4E3"
             },
             "line": {
              "color": "white"
             }
            },
            "type": "table"
           }
          ]
         },
         "layout": {
          "annotationdefaults": {
           "arrowcolor": "#2a3f5f",
           "arrowhead": 0,
           "arrowwidth": 1
          },
          "autotypenumbers": "strict",
          "coloraxis": {
           "colorbar": {
            "outlinewidth": 0,
            "ticks": ""
           }
          },
          "colorscale": {
           "diverging": [
            [
             0,
             "#8e0152"
            ],
            [
             0.1,
             "#c51b7d"
            ],
            [
             0.2,
             "#de77ae"
            ],
            [
             0.3,
             "#f1b6da"
            ],
            [
             0.4,
             "#fde0ef"
            ],
            [
             0.5,
             "#f7f7f7"
            ],
            [
             0.6,
             "#e6f5d0"
            ],
            [
             0.7,
             "#b8e186"
            ],
            [
             0.8,
             "#7fbc41"
            ],
            [
             0.9,
             "#4d9221"
            ],
            [
             1,
             "#276419"
            ]
           ],
           "sequential": [
            [
             0,
             "#0d0887"
            ],
            [
             0.1111111111111111,
             "#46039f"
            ],
            [
             0.2222222222222222,
             "#7201a8"
            ],
            [
             0.3333333333333333,
             "#9c179e"
            ],
            [
             0.4444444444444444,
             "#bd3786"
            ],
            [
             0.5555555555555556,
             "#d8576b"
            ],
            [
             0.6666666666666666,
             "#ed7953"
            ],
            [
             0.7777777777777778,
             "#fb9f3a"
            ],
            [
             0.8888888888888888,
             "#fdca26"
            ],
            [
             1,
             "#f0f921"
            ]
           ],
           "sequentialminus": [
            [
             0,
             "#0d0887"
            ],
            [
             0.1111111111111111,
             "#46039f"
            ],
            [
             0.2222222222222222,
             "#7201a8"
            ],
            [
             0.3333333333333333,
             "#9c179e"
            ],
            [
             0.4444444444444444,
             "#bd3786"
            ],
            [
             0.5555555555555556,
             "#d8576b"
            ],
            [
             0.6666666666666666,
             "#ed7953"
            ],
            [
             0.7777777777777778,
             "#fb9f3a"
            ],
            [
             0.8888888888888888,
             "#fdca26"
            ],
            [
             1,
             "#f0f921"
            ]
           ]
          },
          "colorway": [
           "#636efa",
           "#EF553B",
           "#00cc96",
           "#ab63fa",
           "#FFA15A",
           "#19d3f3",
           "#FF6692",
           "#B6E880",
           "#FF97FF",
           "#FECB52"
          ],
          "font": {
           "color": "#2a3f5f"
          },
          "geo": {
           "bgcolor": "white",
           "lakecolor": "white",
           "landcolor": "white",
           "showlakes": true,
           "showland": true,
           "subunitcolor": "#C8D4E3"
          },
          "hoverlabel": {
           "align": "left"
          },
          "hovermode": "closest",
          "mapbox": {
           "style": "light"
          },
          "paper_bgcolor": "white",
          "plot_bgcolor": "white",
          "polar": {
           "angularaxis": {
            "gridcolor": "#EBF0F8",
            "linecolor": "#EBF0F8",
            "ticks": ""
           },
           "bgcolor": "white",
           "radialaxis": {
            "gridcolor": "#EBF0F8",
            "linecolor": "#EBF0F8",
            "ticks": ""
           }
          },
          "scene": {
           "xaxis": {
            "backgroundcolor": "white",
            "gridcolor": "#DFE8F3",
            "gridwidth": 2,
            "linecolor": "#EBF0F8",
            "showbackground": true,
            "ticks": "",
            "zerolinecolor": "#EBF0F8"
           },
           "yaxis": {
            "backgroundcolor": "white",
            "gridcolor": "#DFE8F3",
            "gridwidth": 2,
            "linecolor": "#EBF0F8",
            "showbackground": true,
            "ticks": "",
            "zerolinecolor": "#EBF0F8"
           },
           "zaxis": {
            "backgroundcolor": "white",
            "gridcolor": "#DFE8F3",
            "gridwidth": 2,
            "linecolor": "#EBF0F8",
            "showbackground": true,
            "ticks": "",
            "zerolinecolor": "#EBF0F8"
           }
          },
          "shapedefaults": {
           "line": {
            "color": "#2a3f5f"
           }
          },
          "ternary": {
           "aaxis": {
            "gridcolor": "#DFE8F3",
            "linecolor": "#A2B1C6",
            "ticks": ""
           },
           "baxis": {
            "gridcolor": "#DFE8F3",
            "linecolor": "#A2B1C6",
            "ticks": ""
           },
           "bgcolor": "white",
           "caxis": {
            "gridcolor": "#DFE8F3",
            "linecolor": "#A2B1C6",
            "ticks": ""
           }
          },
          "title": {
           "x": 0.05
          },
          "xaxis": {
           "automargin": true,
           "gridcolor": "#EBF0F8",
           "linecolor": "#EBF0F8",
           "ticks": "",
           "title": {
            "standoff": 15
           },
           "zerolinecolor": "#EBF0F8",
           "zerolinewidth": 2
          },
          "yaxis": {
           "automargin": true,
           "gridcolor": "#EBF0F8",
           "linecolor": "#EBF0F8",
           "ticks": "",
           "title": {
            "standoff": 15
           },
           "zerolinecolor": "#EBF0F8",
           "zerolinewidth": 2
          }
         }
        },
        "title": {
         "text": "SHAP vs TimeSHAP for Sequence 1 (Lowest capacity, mode=event, pruned_idx=0, reverse=True)"
        },
        "xaxis": {
         "title": {
          "text": "Timestep"
         }
        },
        "yaxis": {
         "title": {
          "text": "Explanation Value"
         }
        }
       }
      }
     },
     "metadata": {},
     "output_type": "display_data"
    },
    {
     "name": "stdout",
     "output_type": "stream",
     "text": [
      "Correlation for sequence 2 (Lowest capacity, mode=event, pruned_idx=0, reverse=True): 0.9067\n"
     ]
    },
    {
     "data": {
      "application/vnd.plotly.v1+json": {
       "config": {
        "plotlyServerURL": "https://plot.ly"
       },
       "data": [
        {
         "line": {
          "color": "blue"
         },
         "mode": "lines+markers",
         "name": "SHAP",
         "type": "scatter",
         "x": {
          "bdata": "AAECAwQFBgcICQoLDA0ODxAREhMUFRYXGBkaGxwdHh8gISIjJCUmJygpKissLS4vMDEyMzQ1Njc4OTo7PD0+P0BBQkNERUZHSElKS0xNTk9QUVJTVFVWV1hZWltcXV5fYGFiY2RlZmdoaWprbG1ub3BxcnN0dXZ3",
          "dtype": "i1"
         },
         "y": {
          "bdata": "AAAAAAAAAAAvhYERPCSmvwAAAAAAAAAALpEO2yOmoj8AAAAAAAAAAAAAAAAAAAAAAAAAAAAAAAAAAAAAAAAAAAAAAAAAAAAAAAAAAAAAAAAAAAAAAAAAAAAAAAAAAAAAAAAAAAAAAAAAAAAAAAAAAAAAAAAAAAAA1nJvlmOvjL8AAAAAAAAAAAAAAAAAAAAAAAAAAAAAAAAAAAAAAAAAAAAAAAAAAAAAAAAAAAAAAABe/6DcvNWZv/LbTPY1B36/AAAAAAAAAAAAAAAAAAAAAJQE0+m1Sau/zlhgfHXUm78AAAAAAAAAAAAAAAAAAAAAAAAAAAAAAAAAAAAAAAAAAAAAAAAAAAAAkx4UNZ78oD8AAAAAAAAAAAAAAAAAAAAAAAAAAAAAAAAAAAAAAAAAAB6Ra4H3W5y/lLXltanFhb8UmSL8d6egP0XBCvZQX64/AEugSQb6f7/cCOyJb1F5PwAAAAAAAAAAPqUxZPQDnj8AAAAAAAAAAAAAAAAAAAAAjG5Vt6xurL8AAAAAAAAAAAAAAAAAAAAAAAAAAAAAAAA9Hlg59I56v53AeV4ogKS/AAAAAAAAAAAAAAAAAAAAAAAAAAAAAAAAAAAAAAAAAAAAAAAAAAAAAAAAAAAAAAAAJMx1E8Famz+GhUzx2VmnPwAAAAAAAAAAoH3cLo0qhD8AAAAAAAAAAAAAAAAAAAAAAAAAAAAAAAAAAAAAAAAAAAAAAAAAAAAAjZaHGk34oD8AAAAAAAAAAANM0w81rXo/AAAAAAAAAAAAAAAAAAAAAO0XKh4saZ6/AAAAAAAAAABhNX/KMXikv7IwysXh5YS/AAAAAAAAAABf4Tr8qGKSPwAAAAAAAAAAAAAAAAAAAAAV6O0eTRubPwAAAAAAAAAAAAAAAAAAAAAAAAAAAAAAAAAAAAAAAAAAAAAAAAAAAAAAAAAAAAAAAAAAAAAAAAAAAAAAAAAAAAAAAAAAAAAAAAAAAAAAAAAAAAAAAAAAAABOE7DmV4+hPwAAAAAAAAAAAAAAAAAAAAAAAAAAAAAAALd+QulTtoC/AAAAAAAAAAAAAAAAAAAAAAAAAAAAAAAA1DRqr3PRnr9zexg5ppqvPzDeDCv634U/oUe9+MY0mz8AAAAAAAAAAFdf4ARrVrk/ilV0A8HHtD960s1KS5WvPyco9HIrt7E/SYkenB3fsT/UzFkmzD+IP6yCfVnIPqQ/Hp7nXwz3kr98+rPmoM6gv0cfXyHLNL6/eWNV0VP7xb+cwr+/O+zOv/wd4Zp2D9G/",
          "dtype": "f8"
         }
        },
        {
         "line": {
          "color": "red"
         },
         "mode": "lines+markers",
         "name": "TimeSHAP",
         "type": "scatter",
         "x": {
          "bdata": "AAECAwQFBgcICQoLDA0ODxAREhMUFRYXGBkaGxwdHh8gISIjJCUmJygpKissLS4vMDEyMzQ1Njc4OTo7PD0+P0BBQkNERUZHSElKS0xNTk9QUVJTVFVWV1hZWltcXV5fYGFiY2RlZmdoaWprbG1ub3BxcnN0dXZ3",
          "dtype": "i1"
         },
         "y": {
          "bdata": "AAAAAAAAAAAAAAAAAAAAAMCG93JdeXy/AAAAAAAAAAAAAAAAAAAAAAAAAAAAAAAAdSok0UQnfj8AAAAAAAAAADmS/6fMg3c/AAAAAAAAAAAAAAAAAAAAAIUUfwZvr3g/AAAAAAAAAADWdyKh+Qx+PwAAAAAAAAAAR/EcmYd4dL8AAAAAAAAAAAAAAAAAAAAAAAAAAAAAAAAAAAAAAAAAAAAAAAAAAAAAAAAAAAAAAAAAAAAAAAAAAAAAAAAAAAAAAAAAAAAAAAAAAAAAAAAAAAAAAAAAAAAAAAAAAAAAAAAAAAAAAAAAAAAAAAAAAAAAAAAAAAAAAAAAAAAAAAAAALlM/PDSpHk/AAAAAAAAAAAAAAAAAAAAAAAAAAAAAAAAAAAAAAAAAAAAAAAAAAAAAAAAAAAAAAAAAAAAAAAAAAAAAAAAAAAAAAAAAAAAAAAAisEHgbSqdb8AAAAAAAAAAAAAAAAAAAAAtuuTdh+4e78AAAAAAAAAAAAAAAAAAAAAAAAAAAAAAAAAAAAAAAAAAAAAAAAAAAAAAAAAAAAAAAAAAAAAAAAAAAAAAAAAAAAAAAAAAAAAAAAAAAAAAAAAAAAAAAAAAAAAAAAAAAAAAAAAAAAAAAAAAAAAAAAAAAAAAAAAAAAAAAAAAAAAAAAAAAAAAAAAAAAAAAAAAAAAAAAAAAAAAAAAAAAAAAAAAAAAAAAAAAAAAAAAAAAAAAAAAAAAAAAAAAAAAAAAAAAAAAAAAAAAAAAAAAAAAAAAAAAAAAAAAAAAAAAAAAAAAAAAAAAAAAAAAAAAAAAAAAAAAABMsWQA2Ct9vwAAAAAAAAAAAAAAAAAAAAAAAAAAAAAAAAAAAAAAAAAAAAAAAAAAAAAAAAAAAAAAAAAAAAAAAAAAAAAAAAAAAAAAAAAAAAAAAAAAAAAAAAAAAAAAAAAAAAAAAAAAAAAAAAAAAAAAAAAAkGzGWdjRfz8Kq6zHqeaBPwAAAAAAAAAAAAAAAAAAAAB6EdxzP+56vwPRXBkWoX2/Yy4/aPV0gL/+RwK3VFd+vzZ6HxtJ+4S/fuw/taeAeL9ho2oj+9F3v54QO6jBI4C/AAAAAAAAAAB478gsf/KAPxgdD7NknpY/HnU9ARAjpD+J+df4AfepPzRa6Z7Ikas/1aMEEbRysD+nQwoXpJ6yP6PlXoGBDrI/O6wABoxDrD9bXFenqpSlPxb+moiXqZ4/AAAAAAAAAAD/gOcTKNGov5sodUD2vLe/x0RP0GK6xL+KiDOsx7PMv3qggHCtDtO/",
          "dtype": "f8"
         }
        }
       ],
       "layout": {
        "shapes": [
         {
          "line": {
           "color": "gray",
           "dash": "dash"
          },
          "type": "line",
          "x0": 0,
          "x1": 1,
          "xref": "x domain",
          "y0": 0,
          "y1": 0,
          "yref": "y"
         }
        ],
        "template": {
         "data": {
          "bar": [
           {
            "error_x": {
             "color": "#2a3f5f"
            },
            "error_y": {
             "color": "#2a3f5f"
            },
            "marker": {
             "line": {
              "color": "white",
              "width": 0.5
             },
             "pattern": {
              "fillmode": "overlay",
              "size": 10,
              "solidity": 0.2
             }
            },
            "type": "bar"
           }
          ],
          "barpolar": [
           {
            "marker": {
             "line": {
              "color": "white",
              "width": 0.5
             },
             "pattern": {
              "fillmode": "overlay",
              "size": 10,
              "solidity": 0.2
             }
            },
            "type": "barpolar"
           }
          ],
          "carpet": [
           {
            "aaxis": {
             "endlinecolor": "#2a3f5f",
             "gridcolor": "#C8D4E3",
             "linecolor": "#C8D4E3",
             "minorgridcolor": "#C8D4E3",
             "startlinecolor": "#2a3f5f"
            },
            "baxis": {
             "endlinecolor": "#2a3f5f",
             "gridcolor": "#C8D4E3",
             "linecolor": "#C8D4E3",
             "minorgridcolor": "#C8D4E3",
             "startlinecolor": "#2a3f5f"
            },
            "type": "carpet"
           }
          ],
          "choropleth": [
           {
            "colorbar": {
             "outlinewidth": 0,
             "ticks": ""
            },
            "type": "choropleth"
           }
          ],
          "contour": [
           {
            "colorbar": {
             "outlinewidth": 0,
             "ticks": ""
            },
            "colorscale": [
             [
              0,
              "#0d0887"
             ],
             [
              0.1111111111111111,
              "#46039f"
             ],
             [
              0.2222222222222222,
              "#7201a8"
             ],
             [
              0.3333333333333333,
              "#9c179e"
             ],
             [
              0.4444444444444444,
              "#bd3786"
             ],
             [
              0.5555555555555556,
              "#d8576b"
             ],
             [
              0.6666666666666666,
              "#ed7953"
             ],
             [
              0.7777777777777778,
              "#fb9f3a"
             ],
             [
              0.8888888888888888,
              "#fdca26"
             ],
             [
              1,
              "#f0f921"
             ]
            ],
            "type": "contour"
           }
          ],
          "contourcarpet": [
           {
            "colorbar": {
             "outlinewidth": 0,
             "ticks": ""
            },
            "type": "contourcarpet"
           }
          ],
          "heatmap": [
           {
            "colorbar": {
             "outlinewidth": 0,
             "ticks": ""
            },
            "colorscale": [
             [
              0,
              "#0d0887"
             ],
             [
              0.1111111111111111,
              "#46039f"
             ],
             [
              0.2222222222222222,
              "#7201a8"
             ],
             [
              0.3333333333333333,
              "#9c179e"
             ],
             [
              0.4444444444444444,
              "#bd3786"
             ],
             [
              0.5555555555555556,
              "#d8576b"
             ],
             [
              0.6666666666666666,
              "#ed7953"
             ],
             [
              0.7777777777777778,
              "#fb9f3a"
             ],
             [
              0.8888888888888888,
              "#fdca26"
             ],
             [
              1,
              "#f0f921"
             ]
            ],
            "type": "heatmap"
           }
          ],
          "histogram": [
           {
            "marker": {
             "pattern": {
              "fillmode": "overlay",
              "size": 10,
              "solidity": 0.2
             }
            },
            "type": "histogram"
           }
          ],
          "histogram2d": [
           {
            "colorbar": {
             "outlinewidth": 0,
             "ticks": ""
            },
            "colorscale": [
             [
              0,
              "#0d0887"
             ],
             [
              0.1111111111111111,
              "#46039f"
             ],
             [
              0.2222222222222222,
              "#7201a8"
             ],
             [
              0.3333333333333333,
              "#9c179e"
             ],
             [
              0.4444444444444444,
              "#bd3786"
             ],
             [
              0.5555555555555556,
              "#d8576b"
             ],
             [
              0.6666666666666666,
              "#ed7953"
             ],
             [
              0.7777777777777778,
              "#fb9f3a"
             ],
             [
              0.8888888888888888,
              "#fdca26"
             ],
             [
              1,
              "#f0f921"
             ]
            ],
            "type": "histogram2d"
           }
          ],
          "histogram2dcontour": [
           {
            "colorbar": {
             "outlinewidth": 0,
             "ticks": ""
            },
            "colorscale": [
             [
              0,
              "#0d0887"
             ],
             [
              0.1111111111111111,
              "#46039f"
             ],
             [
              0.2222222222222222,
              "#7201a8"
             ],
             [
              0.3333333333333333,
              "#9c179e"
             ],
             [
              0.4444444444444444,
              "#bd3786"
             ],
             [
              0.5555555555555556,
              "#d8576b"
             ],
             [
              0.6666666666666666,
              "#ed7953"
             ],
             [
              0.7777777777777778,
              "#fb9f3a"
             ],
             [
              0.8888888888888888,
              "#fdca26"
             ],
             [
              1,
              "#f0f921"
             ]
            ],
            "type": "histogram2dcontour"
           }
          ],
          "mesh3d": [
           {
            "colorbar": {
             "outlinewidth": 0,
             "ticks": ""
            },
            "type": "mesh3d"
           }
          ],
          "parcoords": [
           {
            "line": {
             "colorbar": {
              "outlinewidth": 0,
              "ticks": ""
             }
            },
            "type": "parcoords"
           }
          ],
          "pie": [
           {
            "automargin": true,
            "type": "pie"
           }
          ],
          "scatter": [
           {
            "fillpattern": {
             "fillmode": "overlay",
             "size": 10,
             "solidity": 0.2
            },
            "type": "scatter"
           }
          ],
          "scatter3d": [
           {
            "line": {
             "colorbar": {
              "outlinewidth": 0,
              "ticks": ""
             }
            },
            "marker": {
             "colorbar": {
              "outlinewidth": 0,
              "ticks": ""
             }
            },
            "type": "scatter3d"
           }
          ],
          "scattercarpet": [
           {
            "marker": {
             "colorbar": {
              "outlinewidth": 0,
              "ticks": ""
             }
            },
            "type": "scattercarpet"
           }
          ],
          "scattergeo": [
           {
            "marker": {
             "colorbar": {
              "outlinewidth": 0,
              "ticks": ""
             }
            },
            "type": "scattergeo"
           }
          ],
          "scattergl": [
           {
            "marker": {
             "colorbar": {
              "outlinewidth": 0,
              "ticks": ""
             }
            },
            "type": "scattergl"
           }
          ],
          "scattermap": [
           {
            "marker": {
             "colorbar": {
              "outlinewidth": 0,
              "ticks": ""
             }
            },
            "type": "scattermap"
           }
          ],
          "scattermapbox": [
           {
            "marker": {
             "colorbar": {
              "outlinewidth": 0,
              "ticks": ""
             }
            },
            "type": "scattermapbox"
           }
          ],
          "scatterpolar": [
           {
            "marker": {
             "colorbar": {
              "outlinewidth": 0,
              "ticks": ""
             }
            },
            "type": "scatterpolar"
           }
          ],
          "scatterpolargl": [
           {
            "marker": {
             "colorbar": {
              "outlinewidth": 0,
              "ticks": ""
             }
            },
            "type": "scatterpolargl"
           }
          ],
          "scatterternary": [
           {
            "marker": {
             "colorbar": {
              "outlinewidth": 0,
              "ticks": ""
             }
            },
            "type": "scatterternary"
           }
          ],
          "surface": [
           {
            "colorbar": {
             "outlinewidth": 0,
             "ticks": ""
            },
            "colorscale": [
             [
              0,
              "#0d0887"
             ],
             [
              0.1111111111111111,
              "#46039f"
             ],
             [
              0.2222222222222222,
              "#7201a8"
             ],
             [
              0.3333333333333333,
              "#9c179e"
             ],
             [
              0.4444444444444444,
              "#bd3786"
             ],
             [
              0.5555555555555556,
              "#d8576b"
             ],
             [
              0.6666666666666666,
              "#ed7953"
             ],
             [
              0.7777777777777778,
              "#fb9f3a"
             ],
             [
              0.8888888888888888,
              "#fdca26"
             ],
             [
              1,
              "#f0f921"
             ]
            ],
            "type": "surface"
           }
          ],
          "table": [
           {
            "cells": {
             "fill": {
              "color": "#EBF0F8"
             },
             "line": {
              "color": "white"
             }
            },
            "header": {
             "fill": {
              "color": "#C8D4E3"
             },
             "line": {
              "color": "white"
             }
            },
            "type": "table"
           }
          ]
         },
         "layout": {
          "annotationdefaults": {
           "arrowcolor": "#2a3f5f",
           "arrowhead": 0,
           "arrowwidth": 1
          },
          "autotypenumbers": "strict",
          "coloraxis": {
           "colorbar": {
            "outlinewidth": 0,
            "ticks": ""
           }
          },
          "colorscale": {
           "diverging": [
            [
             0,
             "#8e0152"
            ],
            [
             0.1,
             "#c51b7d"
            ],
            [
             0.2,
             "#de77ae"
            ],
            [
             0.3,
             "#f1b6da"
            ],
            [
             0.4,
             "#fde0ef"
            ],
            [
             0.5,
             "#f7f7f7"
            ],
            [
             0.6,
             "#e6f5d0"
            ],
            [
             0.7,
             "#b8e186"
            ],
            [
             0.8,
             "#7fbc41"
            ],
            [
             0.9,
             "#4d9221"
            ],
            [
             1,
             "#276419"
            ]
           ],
           "sequential": [
            [
             0,
             "#0d0887"
            ],
            [
             0.1111111111111111,
             "#46039f"
            ],
            [
             0.2222222222222222,
             "#7201a8"
            ],
            [
             0.3333333333333333,
             "#9c179e"
            ],
            [
             0.4444444444444444,
             "#bd3786"
            ],
            [
             0.5555555555555556,
             "#d8576b"
            ],
            [
             0.6666666666666666,
             "#ed7953"
            ],
            [
             0.7777777777777778,
             "#fb9f3a"
            ],
            [
             0.8888888888888888,
             "#fdca26"
            ],
            [
             1,
             "#f0f921"
            ]
           ],
           "sequentialminus": [
            [
             0,
             "#0d0887"
            ],
            [
             0.1111111111111111,
             "#46039f"
            ],
            [
             0.2222222222222222,
             "#7201a8"
            ],
            [
             0.3333333333333333,
             "#9c179e"
            ],
            [
             0.4444444444444444,
             "#bd3786"
            ],
            [
             0.5555555555555556,
             "#d8576b"
            ],
            [
             0.6666666666666666,
             "#ed7953"
            ],
            [
             0.7777777777777778,
             "#fb9f3a"
            ],
            [
             0.8888888888888888,
             "#fdca26"
            ],
            [
             1,
             "#f0f921"
            ]
           ]
          },
          "colorway": [
           "#636efa",
           "#EF553B",
           "#00cc96",
           "#ab63fa",
           "#FFA15A",
           "#19d3f3",
           "#FF6692",
           "#B6E880",
           "#FF97FF",
           "#FECB52"
          ],
          "font": {
           "color": "#2a3f5f"
          },
          "geo": {
           "bgcolor": "white",
           "lakecolor": "white",
           "landcolor": "white",
           "showlakes": true,
           "showland": true,
           "subunitcolor": "#C8D4E3"
          },
          "hoverlabel": {
           "align": "left"
          },
          "hovermode": "closest",
          "mapbox": {
           "style": "light"
          },
          "paper_bgcolor": "white",
          "plot_bgcolor": "white",
          "polar": {
           "angularaxis": {
            "gridcolor": "#EBF0F8",
            "linecolor": "#EBF0F8",
            "ticks": ""
           },
           "bgcolor": "white",
           "radialaxis": {
            "gridcolor": "#EBF0F8",
            "linecolor": "#EBF0F8",
            "ticks": ""
           }
          },
          "scene": {
           "xaxis": {
            "backgroundcolor": "white",
            "gridcolor": "#DFE8F3",
            "gridwidth": 2,
            "linecolor": "#EBF0F8",
            "showbackground": true,
            "ticks": "",
            "zerolinecolor": "#EBF0F8"
           },
           "yaxis": {
            "backgroundcolor": "white",
            "gridcolor": "#DFE8F3",
            "gridwidth": 2,
            "linecolor": "#EBF0F8",
            "showbackground": true,
            "ticks": "",
            "zerolinecolor": "#EBF0F8"
           },
           "zaxis": {
            "backgroundcolor": "white",
            "gridcolor": "#DFE8F3",
            "gridwidth": 2,
            "linecolor": "#EBF0F8",
            "showbackground": true,
            "ticks": "",
            "zerolinecolor": "#EBF0F8"
           }
          },
          "shapedefaults": {
           "line": {
            "color": "#2a3f5f"
           }
          },
          "ternary": {
           "aaxis": {
            "gridcolor": "#DFE8F3",
            "linecolor": "#A2B1C6",
            "ticks": ""
           },
           "baxis": {
            "gridcolor": "#DFE8F3",
            "linecolor": "#A2B1C6",
            "ticks": ""
           },
           "bgcolor": "white",
           "caxis": {
            "gridcolor": "#DFE8F3",
            "linecolor": "#A2B1C6",
            "ticks": ""
           }
          },
          "title": {
           "x": 0.05
          },
          "xaxis": {
           "automargin": true,
           "gridcolor": "#EBF0F8",
           "linecolor": "#EBF0F8",
           "ticks": "",
           "title": {
            "standoff": 15
           },
           "zerolinecolor": "#EBF0F8",
           "zerolinewidth": 2
          },
          "yaxis": {
           "automargin": true,
           "gridcolor": "#EBF0F8",
           "linecolor": "#EBF0F8",
           "ticks": "",
           "title": {
            "standoff": 15
           },
           "zerolinecolor": "#EBF0F8",
           "zerolinewidth": 2
          }
         }
        },
        "title": {
         "text": "SHAP vs TimeSHAP for Sequence 2 (Lowest capacity, mode=event, pruned_idx=0, reverse=True)"
        },
        "xaxis": {
         "title": {
          "text": "Timestep"
         }
        },
        "yaxis": {
         "title": {
          "text": "Explanation Value"
         }
        }
       }
      }
     },
     "metadata": {},
     "output_type": "display_data"
    },
    {
     "name": "stdout",
     "output_type": "stream",
     "text": [
      "Correlation for sequence 3 (Lowest capacity, mode=event, pruned_idx=0, reverse=True): 0.9083\n",
      "Correlation for sequence 4 (Lowest capacity, mode=event, pruned_idx=0, reverse=True): 0.9077\n",
      "Correlation for sequence 5 (Lowest capacity, mode=event, pruned_idx=0, reverse=True): 0.9093\n",
      "Correlation for sequence 6 (Lowest capacity, mode=event, pruned_idx=0, reverse=True): 0.9207\n",
      "Correlation for sequence 7 (Lowest capacity, mode=event, pruned_idx=0, reverse=True): 0.9123\n",
      "Correlation for sequence 8 (Lowest capacity, mode=event, pruned_idx=0, reverse=True): 0.9154\n",
      "Correlation for sequence 9 (Lowest capacity, mode=event, pruned_idx=0, reverse=True): 0.9132\n",
      "Correlation for sequence 10 (Lowest capacity, mode=event, pruned_idx=0, reverse=True): 0.9121\n",
      "Correlation for sequence 11 (Lowest capacity, mode=event, pruned_idx=0, reverse=True): 0.9110\n",
      "Correlation for sequence 12 (Lowest capacity, mode=event, pruned_idx=0, reverse=True): 0.9104\n",
      "Correlation for sequence 13 (Lowest capacity, mode=event, pruned_idx=0, reverse=True): 0.9119\n",
      "Correlation for sequence 14 (Lowest capacity, mode=event, pruned_idx=0, reverse=True): 0.9141\n",
      "Correlation for sequence 15 (Lowest capacity, mode=event, pruned_idx=0, reverse=True): 0.9132\n",
      "Correlation for sequence 16 (Lowest capacity, mode=event, pruned_idx=0, reverse=True): 0.9130\n",
      "Correlation for sequence 17 (Lowest capacity, mode=event, pruned_idx=0, reverse=True): 0.9190\n",
      "Correlation for sequence 18 (Lowest capacity, mode=event, pruned_idx=0, reverse=True): 0.9318\n",
      "Correlation for sequence 19 (Lowest capacity, mode=event, pruned_idx=0, reverse=True): 0.9064\n",
      "\n",
      "Results for Lowest capacity (mode=event, pruned_idx=0, reverse=True):\n",
      "Mean Correlation: 0.9117\n",
      "Median Correlation: 0.9120\n",
      "Min Correlation: 0.8909\n",
      "Max Correlation: 0.9318\n",
      "Standard Deviation: 0.0075\n"
     ]
    }
   ],
   "source": [
    "# Compute correlations for the lowest 20 sequences\n",
    "correlations_event_hs = compute_correlations(lowest_20_sequences, baseline_shap, baseline_timeshap, \"Lowest capacity\", mode=\"event\", pruned_idx=0, reverse=True)"
   ]
  },
  {
   "cell_type": "markdown",
   "metadata": {},
   "source": [
    "## With Hidden States\n",
    "\n",
    "Not working currently."
   ]
  },
  {
   "cell_type": "code",
   "execution_count": 24,
   "metadata": {},
   "outputs": [],
   "source": [
    "def compute_correlations_hidden(test_data, baseline_shap, baseline_timeshap, label, mode=\"event\", pruned_idx=0, reverse=False):\n",
    "    correlations = []\n",
    "    for idx in range(test_data.shape[0]):\n",
    "        test_3d = test_data[idx:idx+1]\n",
    "        test_2d = test_3d.reshape(1, -1)\n",
    "        \n",
    "        # SHAP (final output)\n",
    "        explainer = shap.KernelExplainer(f_shap, baseline_shap)\n",
    "        shap_values = explainer.shap_values(test_2d, silent=True, nsamples=300)\n",
    "        shap_first = shap_values[0].flatten()  # (120,)\n",
    "        \n",
    "        # TimeSHAP (hidden state mean)\n",
    "        event_explanation = local_event_explainer(\n",
    "            f_timeshap_hidden_mean, test_3d, baseline_timeshap, \n",
    "            pruned_idx=pruned_idx, nsamples=3000\n",
    "        )\n",
    "        \n",
    "        correlation, _ = pearsonr(shap_first, event_explanation[\"Shapley Value\"])\n",
    "        correlations.append(correlation)\n",
    "        print(f\"Correlation for sequence {idx} ({label}, mode={mode}, pruned_idx={pruned_idx}, reverse={reverse}): {correlation:.4f}\")\n",
    "        \n",
    "        if idx < 3:\n",
    "            fig = go.Figure()\n",
    "            fig.add_trace(go.Scatter(x=np.arange(120), y=shap_first, mode='lines+markers', name='SHAP (Output)', line=dict(color='blue')))\n",
    "            fig.add_trace(go.Scatter(x=event_explanation.index, y=event_explanation[\"Shapley Value\"], mode='lines+markers', name='TimeSHAP (Hidden Mean)', line=dict(color='red')))\n",
    "            fig.update_layout(\n",
    "                title=f\"SHAP (Output) vs TimeSHAP (Hidden Mean) for Sequence {idx} ({label}, mode={mode})\",\n",
    "                xaxis_title=\"Timestep\",\n",
    "                yaxis_title=\"Explanation Value\",\n",
    "                template=\"plotly_white\"\n",
    "            )\n",
    "            fig.add_hline(y=0, line_dash=\"dash\", line_color=\"gray\")\n",
    "            fig.show()\n",
    "\n",
    "    print(f\"\\nResults for {label} (mode={mode}, pruned_idx={pruned_idx}, reverse={reverse}):\")\n",
    "    print(f\"Mean Correlation: {np.mean(correlations):.4f}\")\n",
    "    print(f\"Median Correlation: {np.median(correlations):.4f}\")\n",
    "    print(f\"Min Correlation: {np.min(correlations):.4f}\")\n",
    "    print(f\"Max Correlation: {np.max(correlations):.4f}\")\n",
    "    print(f\"Standard Deviation: {np.std(correlations):.4f}\")\n",
    "    return correlations"
   ]
  },
  {
   "cell_type": "code",
   "execution_count": 20,
   "metadata": {},
   "outputs": [
    {
     "data": {
      "text/html": [
       "<pre style=\"white-space:pre;overflow-x:auto;line-height:normal;font-family:Menlo,'DejaVu Sans Mono',consolas,'Courier New',monospace\"><span style=\"font-weight: bold\">Model: \"functional\"</span>\n",
       "</pre>\n"
      ],
      "text/plain": [
       "\u001b[1mModel: \"functional\"\u001b[0m\n"
      ]
     },
     "metadata": {},
     "output_type": "display_data"
    },
    {
     "data": {
      "text/html": [
       "<pre style=\"white-space:pre;overflow-x:auto;line-height:normal;font-family:Menlo,'DejaVu Sans Mono',consolas,'Courier New',monospace\">┏━━━━━━━━━━━━━━━━━━━━━━━━━━━━━━━━━┳━━━━━━━━━━━━━━━━━━━━━━━━┳━━━━━━━━━━━━━━━┓\n",
       "┃<span style=\"font-weight: bold\"> Layer (type)                    </span>┃<span style=\"font-weight: bold\"> Output Shape           </span>┃<span style=\"font-weight: bold\">       Param # </span>┃\n",
       "┡━━━━━━━━━━━━━━━━━━━━━━━━━━━━━━━━━╇━━━━━━━━━━━━━━━━━━━━━━━━╇━━━━━━━━━━━━━━━┩\n",
       "│ input_layer (<span style=\"color: #0087ff; text-decoration-color: #0087ff\">InputLayer</span>)        │ (<span style=\"color: #00d7ff; text-decoration-color: #00d7ff\">None</span>, <span style=\"color: #00af00; text-decoration-color: #00af00\">120</span>, <span style=\"color: #00af00; text-decoration-color: #00af00\">1</span>)         │             <span style=\"color: #00af00; text-decoration-color: #00af00\">0</span> │\n",
       "├─────────────────────────────────┼────────────────────────┼───────────────┤\n",
       "│ lstm (<span style=\"color: #0087ff; text-decoration-color: #0087ff\">LSTM</span>)                     │ (<span style=\"color: #00d7ff; text-decoration-color: #00d7ff\">None</span>, <span style=\"color: #00af00; text-decoration-color: #00af00\">32</span>)             │         <span style=\"color: #00af00; text-decoration-color: #00af00\">4,352</span> │\n",
       "├─────────────────────────────────┼────────────────────────┼───────────────┤\n",
       "│ dropout (<span style=\"color: #0087ff; text-decoration-color: #0087ff\">Dropout</span>)               │ (<span style=\"color: #00d7ff; text-decoration-color: #00d7ff\">None</span>, <span style=\"color: #00af00; text-decoration-color: #00af00\">32</span>)             │             <span style=\"color: #00af00; text-decoration-color: #00af00\">0</span> │\n",
       "├─────────────────────────────────┼────────────────────────┼───────────────┤\n",
       "│ dense (<span style=\"color: #0087ff; text-decoration-color: #0087ff\">Dense</span>)                   │ (<span style=\"color: #00d7ff; text-decoration-color: #00d7ff\">None</span>, <span style=\"color: #00af00; text-decoration-color: #00af00\">16</span>)             │           <span style=\"color: #00af00; text-decoration-color: #00af00\">528</span> │\n",
       "├─────────────────────────────────┼────────────────────────┼───────────────┤\n",
       "│ dense_1 (<span style=\"color: #0087ff; text-decoration-color: #0087ff\">Dense</span>)                 │ (<span style=\"color: #00d7ff; text-decoration-color: #00d7ff\">None</span>, <span style=\"color: #00af00; text-decoration-color: #00af00\">1</span>)              │            <span style=\"color: #00af00; text-decoration-color: #00af00\">17</span> │\n",
       "└─────────────────────────────────┴────────────────────────┴───────────────┘\n",
       "</pre>\n"
      ],
      "text/plain": [
       "┏━━━━━━━━━━━━━━━━━━━━━━━━━━━━━━━━━┳━━━━━━━━━━━━━━━━━━━━━━━━┳━━━━━━━━━━━━━━━┓\n",
       "┃\u001b[1m \u001b[0m\u001b[1mLayer (type)                   \u001b[0m\u001b[1m \u001b[0m┃\u001b[1m \u001b[0m\u001b[1mOutput Shape          \u001b[0m\u001b[1m \u001b[0m┃\u001b[1m \u001b[0m\u001b[1m      Param #\u001b[0m\u001b[1m \u001b[0m┃\n",
       "┡━━━━━━━━━━━━━━━━━━━━━━━━━━━━━━━━━╇━━━━━━━━━━━━━━━━━━━━━━━━╇━━━━━━━━━━━━━━━┩\n",
       "│ input_layer (\u001b[38;5;33mInputLayer\u001b[0m)        │ (\u001b[38;5;45mNone\u001b[0m, \u001b[38;5;34m120\u001b[0m, \u001b[38;5;34m1\u001b[0m)         │             \u001b[38;5;34m0\u001b[0m │\n",
       "├─────────────────────────────────┼────────────────────────┼───────────────┤\n",
       "│ lstm (\u001b[38;5;33mLSTM\u001b[0m)                     │ (\u001b[38;5;45mNone\u001b[0m, \u001b[38;5;34m32\u001b[0m)             │         \u001b[38;5;34m4,352\u001b[0m │\n",
       "├─────────────────────────────────┼────────────────────────┼───────────────┤\n",
       "│ dropout (\u001b[38;5;33mDropout\u001b[0m)               │ (\u001b[38;5;45mNone\u001b[0m, \u001b[38;5;34m32\u001b[0m)             │             \u001b[38;5;34m0\u001b[0m │\n",
       "├─────────────────────────────────┼────────────────────────┼───────────────┤\n",
       "│ dense (\u001b[38;5;33mDense\u001b[0m)                   │ (\u001b[38;5;45mNone\u001b[0m, \u001b[38;5;34m16\u001b[0m)             │           \u001b[38;5;34m528\u001b[0m │\n",
       "├─────────────────────────────────┼────────────────────────┼───────────────┤\n",
       "│ dense_1 (\u001b[38;5;33mDense\u001b[0m)                 │ (\u001b[38;5;45mNone\u001b[0m, \u001b[38;5;34m1\u001b[0m)              │            \u001b[38;5;34m17\u001b[0m │\n",
       "└─────────────────────────────────┴────────────────────────┴───────────────┘\n"
      ]
     },
     "metadata": {},
     "output_type": "display_data"
    },
    {
     "data": {
      "text/html": [
       "<pre style=\"white-space:pre;overflow-x:auto;line-height:normal;font-family:Menlo,'DejaVu Sans Mono',consolas,'Courier New',monospace\"><span style=\"font-weight: bold\"> Total params: </span><span style=\"color: #00af00; text-decoration-color: #00af00\">14,693</span> (57.40 KB)\n",
       "</pre>\n"
      ],
      "text/plain": [
       "\u001b[1m Total params: \u001b[0m\u001b[38;5;34m14,693\u001b[0m (57.40 KB)\n"
      ]
     },
     "metadata": {},
     "output_type": "display_data"
    },
    {
     "data": {
      "text/html": [
       "<pre style=\"white-space:pre;overflow-x:auto;line-height:normal;font-family:Menlo,'DejaVu Sans Mono',consolas,'Courier New',monospace\"><span style=\"font-weight: bold\"> Trainable params: </span><span style=\"color: #00af00; text-decoration-color: #00af00\">4,897</span> (19.13 KB)\n",
       "</pre>\n"
      ],
      "text/plain": [
       "\u001b[1m Trainable params: \u001b[0m\u001b[38;5;34m4,897\u001b[0m (19.13 KB)\n"
      ]
     },
     "metadata": {},
     "output_type": "display_data"
    },
    {
     "data": {
      "text/html": [
       "<pre style=\"white-space:pre;overflow-x:auto;line-height:normal;font-family:Menlo,'DejaVu Sans Mono',consolas,'Courier New',monospace\"><span style=\"font-weight: bold\"> Non-trainable params: </span><span style=\"color: #00af00; text-decoration-color: #00af00\">0</span> (0.00 B)\n",
       "</pre>\n"
      ],
      "text/plain": [
       "\u001b[1m Non-trainable params: \u001b[0m\u001b[38;5;34m0\u001b[0m (0.00 B)\n"
      ]
     },
     "metadata": {},
     "output_type": "display_data"
    },
    {
     "data": {
      "text/html": [
       "<pre style=\"white-space:pre;overflow-x:auto;line-height:normal;font-family:Menlo,'DejaVu Sans Mono',consolas,'Courier New',monospace\"><span style=\"font-weight: bold\"> Optimizer params: </span><span style=\"color: #00af00; text-decoration-color: #00af00\">9,796</span> (38.27 KB)\n",
       "</pre>\n"
      ],
      "text/plain": [
       "\u001b[1m Optimizer params: \u001b[0m\u001b[38;5;34m9,796\u001b[0m (38.27 KB)\n"
      ]
     },
     "metadata": {},
     "output_type": "display_data"
    }
   ],
   "source": [
    "model.summary()"
   ]
  },
  {
   "cell_type": "code",
   "execution_count": null,
   "metadata": {},
   "outputs": [],
   "source": [
    "# Create a new model that outputs the LSTM hidden state\n",
    "\n",
    "lstm_layer_output = model.get_layer(\"lstm\").output  # Shape: (batch_size, 32)\n",
    "hidden_state_model = Model(inputs=model.input, outputs=lstm_layer_output)\n",
    "\n",
    "def f_timeshap_hidden_mean(X):\n",
    "    hidden_states = hidden_state_model.predict(X, verbose=0)  # (batch_size, 32)\n",
    "    return np.mean(hidden_states, axis=1, keepdims=True)  # (batch_size, 1)"
   ]
  },
  {
   "cell_type": "code",
   "execution_count": 21,
   "metadata": {},
   "outputs": [
    {
     "name": "stdout",
     "output_type": "stream",
     "text": [
      "Hidden states shape: (1, 32)\n",
      "Hidden states sample: [ 0.01498125 -0.05079614 -0.47480452 -0.06650043 -0.2100757 ]\n",
      "Hidden states mean: [-0.01559193]\n"
     ]
    }
   ],
   "source": [
    "# Test the hidden state output directly\n",
    "dummy_input = np.ones((1, 120, 1))  # Use ones instead of zeros to ensure non-trivial input\n",
    "hidden_states = hidden_state_model.predict(dummy_input, verbose=0)\n",
    "print(\"Hidden states shape:\", hidden_states.shape)  # Should be (1, 32)\n",
    "print(\"Hidden states sample:\", hidden_states[0][:5])  # First 5 values\n",
    "print(\"Hidden states mean:\", np.mean(hidden_states, axis=1))  # Should not be zero\n"
   ]
  },
  {
   "cell_type": "code",
   "execution_count": 23,
   "metadata": {},
   "outputs": [
    {
     "name": "stdout",
     "output_type": "stream",
     "text": [
      "Input shape: (1, 120, 1)\n",
      "Hidden states sample: [ 0.00771899 -0.01324994 -0.01000896 -0.0199471  -0.0091048 ]\n",
      "Mean value: [0.00753458]\n",
      "Result: [[0.00753458]]\n"
     ]
    }
   ],
   "source": [
    "def f_timeshap_hidden_mean(X):\n",
    "    hidden_states = hidden_state_model.predict(X, verbose=0)  # (batch_size, 32)\n",
    "    mean_values = np.mean(hidden_states, axis=1, keepdims=True)  # (batch_size, 1)\n",
    "    print(\"Input shape:\", X.shape)\n",
    "    print(\"Hidden states sample:\", hidden_states[0][:5])\n",
    "    print(\"Mean value:\", mean_values[0])\n",
    "    return mean_values\n",
    "\n",
    "# Test with synthetic data\n",
    "test_input = test_data[0:1]  # (1, 120, 1)\n",
    "result = f_timeshap_hidden_mean(test_input)\n",
    "print(\"Result:\", result)"
   ]
  },
  {
   "cell_type": "code",
   "execution_count": 19,
   "metadata": {},
   "outputs": [
    {
     "name": "stdout",
     "output_type": "stream",
     "text": [
      "Correlation for sequence 0 (Synthetic Background (Hidden Mean), mode=event, pruned_idx=0, reverse=True): -0.2150\n"
     ]
    },
    {
     "data": {
      "application/vnd.plotly.v1+json": {
       "config": {
        "plotlyServerURL": "https://plot.ly"
       },
       "data": [
        {
         "line": {
          "color": "blue"
         },
         "mode": "lines+markers",
         "name": "SHAP (Output)",
         "type": "scatter",
         "x": {
          "bdata": "AAECAwQFBgcICQoLDA0ODxAREhMUFRYXGBkaGxwdHh8gISIjJCUmJygpKissLS4vMDEyMzQ1Njc4OTo7PD0+P0BBQkNERUZHSElKS0xNTk9QUVJTVFVWV1hZWltcXV5fYGFiY2RlZmdoaWprbG1ub3BxcnN0dXZ3",
          "dtype": "i1"
         },
         "y": {
          "bdata": "V62gbNQkcj8AAAAAAAAAAAAAAAAAAAAAFIvCUsc3oj/HNIBGnX+iPwAAAAAAAAAAK2hLNoRdhj8AAAAAAAAAAIVJ0f4YF6G/AAAAAAAAAAD1OudLLb+aPwAAAAAAAAAAAAAAAAAAAAAAAAAAAAAAAMl0rYLfB32/AAAAAAAAAACQasgNCb5jvwAAAAAAAAAAAAAAAAAAAAAAAAAAAAAAAAAAAAAAAAAA88tN1B5jlT8AAAAAAAAAAFKBLRM16Yw/RNip7NFDhz8DD+Dr6TiivwAAAAAAAAAAB+NcY+Nbgj/F+p0ZEP2WPwAAAAAAAAAAPdJBVhvEUr/WxcQGHOCbvwAAAAAAAAAAAAAAAAAAAAAAAAAAAAAAAAAAAAAAAAAAAAAAAAAAAAAAAAAAAAAAAAAAAAAAAAAAAAAAAAAAAAAb55okY6Zxv7XqdZMn4Zm/AAAAAAAAAAAAAAAAAAAAAFugB9UrRZc/lMxHI4a/lz8AAAAAAAAAAAAAAAAAAAAAAAAAAAAAAAAhuYYSActQvwAAAAAAAAAAAAAAAAAAAAAAAAAAAAAAAAAAAAAAAAAAAAAAAAAAAAAAAAAAAAAAAGRgk1u4LaI/AAAAAAAAAAAAAAAAAAAAAO6hS0xpXoK/AAAAAAAAAAAZYtI8V4GSPwAAAAAAAAAAfrrqoqXVJ782vA9Fi7uLvwAAAAAAAAAAAAAAAAAAAAC9eGlnVdOBvwAAAAAAAAAAAAAAAAAAAAAAAAAAAAAAAAAAAAAAAAAAAAAAAAAAAAAAAAAAAAAAAAAAAAAAAAAA7TnpgIlJgj8AAAAAAAAAALA58ugveC6/E55GwKpuhL8AAAAAAAAAAAAAAAAAAAAAqubOqFztjD8AAAAAAAAAAAAAAAAAAAAADwBHpjCJnL+Xc2VZG2Fgv5u5jerSNoG/wmti1ECom7/o9tQ+rAahv7D6+1B8X6W/rBuulVZ6jL8AAAAAAAAAAAAAAAAAAAAApoTXSsPDpj+b+mPf1ZqQP29XCrisDpQ/3VWRlFEVnD9ZGWgKABOqPx8P4Qsdfas/Z9r8Eg7hrD/MCz8HbKmqPwAAAAAAAAAAAAAAAAAAAACpquIgWc+nv/shI/ZLwrK/EGr7gLQUtb8GOt7FCry0vyBAOrbmocC/ZVQsytfuvr8fSCb2YKjBv/t4PqRwvLi/zSM16nB9ur9YFhmjTuepvwAAAAAAAAAAJh47OL8XsD+FV4ktfOW1P+X4c0TbT8U/q4127Bw1yD/13uqRn7nIP4oIO9//NsU/",
          "dtype": "f8"
         }
        },
        {
         "line": {
          "color": "red"
         },
         "mode": "lines+markers",
         "name": "TimeSHAP (Hidden Mean)",
         "type": "scatter",
         "x": {
          "bdata": "AAECAwQFBgcICQoLDA0ODxAREhMUFRYXGBkaGxwdHh8gISIjJCUmJygpKissLS4vMDEyMzQ1Njc4OTo7PD0+P0BBQkNERUZHSElKS0xNTk9QUVJTVFVWV1hZWltcXV5fYGFiY2RlZmdoaWprbG1ub3BxcnN0dXZ3",
          "dtype": "i1"
         },
         "y": {
          "bdata": "AAAAAAAAAAAAAAAAAAAAAAAAAAAAAAAAAAAAAAAAAAAAAAAAAAAAAAAAAAAAAAAAAHHbhMptGz8AAAAAAAAAAAAAAAAAAAAAAAAAAAAAAAAAAAAAAAAAAAAAAAAAAAAAAAAAAAAAAAAAAAAAAAAAAAAAAAAAAAAAGRFEUfN6AT9PBY30FHgYPwAAAAAAAAAAAAAAAAAAAAAAAAAAAAAAAAAAAAAAAAAA0PFOo4fRBD8AAAAAAAAAAEPhaVPHLBY/AAAAAAAAAAAAAAAAAAAAAAEIPXxtlww/AAAAAAAAAAAAAAAAAAAAAAAAAAAAAAAAAAAAAAAAAAAAAAAAAAAAADIsgBMwsAg/AAAAAAAAAAAAAAAAAAAAAAAAAAAAAAAAAAAAAAAAAAAAAAAAAAAAALyS7MG5gSC/AAAAAAAAAAC6Ks8MSXT/PgAAAAAAAAAAAAAAAAAAAAAAAAAAAAAAAAAAAAAAAAAAAAAAAAAAAAAAAAAAAAAAAAAAAAAAAAAAAAAAAAAAAAAAAAAAAAAAAMFZmBm8AhM/AAAAAAAAAAAAAAAAAAAAAAAAAAAAAAAAAAAAAAAAAAAAAAAAAAAAAAAAAAAAAAAAAAAAAAAAAAAAAAAAAAAAAAj4nnckQiC/AAAAAAAAAABnDdlbtKIevwAAAAAAAAAAAAAAAAAAAACJB9YhO7z0PgAAAAAAAAAAQzuJm354FT8AAAAAAAAAAAAAAAAAAAAAAAAAAAAAAAAAAAAAAAAAAAAAAAAAAAAAAAAAAAAAAAAAAAAAAAAAAAAAAAAAAAAAAAAAAAAAAAAAAAAAAAAAAAAAAAAAAAAAzFZI/LePBT8AAAAAAAAAAAAAAAAAAAAAAAAAAAAAAAAAAAAAAAAAAAAAAAAAAAAAAAAAAAAAAABs+MNIpGsKPwAAAAAAAAAAAAAAAAAAAACU8C/EJmoJPwAAAAAAAAAAwgTpFNGMIj/XgMpT2qQYPxEs2sSNBhM/AAAAAAAAAAAAAAAAAAAAAAAAAAAAAAAA2P9Ys3WNG78sY4TY+v4gvwUQIZW0Pyi/AAAAAAAAAAAAAAAAAAAAAFqsPPJcLiS/d5rlOJQSAz/KjxEhqWspPwrXoDf0lzE/SSiWqRVoOD//IvFp0txCP9pulG8jqEM/Hm+qTLKVRT8BglhYtsxDPxqwPynMuUM/E5gf+CQbQz953VrI5mw7P6EZpisqVj8/MIuGJiDWOj+o7cLzziUzPy7U5BvVsDQ/glvA9WjWOz/9d5mFmVM5P/9xZDnQqjg/",
          "dtype": "f8"
         }
        }
       ],
       "layout": {
        "shapes": [
         {
          "line": {
           "color": "gray",
           "dash": "dash"
          },
          "type": "line",
          "x0": 0,
          "x1": 1,
          "xref": "x domain",
          "y0": 0,
          "y1": 0,
          "yref": "y"
         }
        ],
        "template": {
         "data": {
          "bar": [
           {
            "error_x": {
             "color": "#2a3f5f"
            },
            "error_y": {
             "color": "#2a3f5f"
            },
            "marker": {
             "line": {
              "color": "white",
              "width": 0.5
             },
             "pattern": {
              "fillmode": "overlay",
              "size": 10,
              "solidity": 0.2
             }
            },
            "type": "bar"
           }
          ],
          "barpolar": [
           {
            "marker": {
             "line": {
              "color": "white",
              "width": 0.5
             },
             "pattern": {
              "fillmode": "overlay",
              "size": 10,
              "solidity": 0.2
             }
            },
            "type": "barpolar"
           }
          ],
          "carpet": [
           {
            "aaxis": {
             "endlinecolor": "#2a3f5f",
             "gridcolor": "#C8D4E3",
             "linecolor": "#C8D4E3",
             "minorgridcolor": "#C8D4E3",
             "startlinecolor": "#2a3f5f"
            },
            "baxis": {
             "endlinecolor": "#2a3f5f",
             "gridcolor": "#C8D4E3",
             "linecolor": "#C8D4E3",
             "minorgridcolor": "#C8D4E3",
             "startlinecolor": "#2a3f5f"
            },
            "type": "carpet"
           }
          ],
          "choropleth": [
           {
            "colorbar": {
             "outlinewidth": 0,
             "ticks": ""
            },
            "type": "choropleth"
           }
          ],
          "contour": [
           {
            "colorbar": {
             "outlinewidth": 0,
             "ticks": ""
            },
            "colorscale": [
             [
              0,
              "#0d0887"
             ],
             [
              0.1111111111111111,
              "#46039f"
             ],
             [
              0.2222222222222222,
              "#7201a8"
             ],
             [
              0.3333333333333333,
              "#9c179e"
             ],
             [
              0.4444444444444444,
              "#bd3786"
             ],
             [
              0.5555555555555556,
              "#d8576b"
             ],
             [
              0.6666666666666666,
              "#ed7953"
             ],
             [
              0.7777777777777778,
              "#fb9f3a"
             ],
             [
              0.8888888888888888,
              "#fdca26"
             ],
             [
              1,
              "#f0f921"
             ]
            ],
            "type": "contour"
           }
          ],
          "contourcarpet": [
           {
            "colorbar": {
             "outlinewidth": 0,
             "ticks": ""
            },
            "type": "contourcarpet"
           }
          ],
          "heatmap": [
           {
            "colorbar": {
             "outlinewidth": 0,
             "ticks": ""
            },
            "colorscale": [
             [
              0,
              "#0d0887"
             ],
             [
              0.1111111111111111,
              "#46039f"
             ],
             [
              0.2222222222222222,
              "#7201a8"
             ],
             [
              0.3333333333333333,
              "#9c179e"
             ],
             [
              0.4444444444444444,
              "#bd3786"
             ],
             [
              0.5555555555555556,
              "#d8576b"
             ],
             [
              0.6666666666666666,
              "#ed7953"
             ],
             [
              0.7777777777777778,
              "#fb9f3a"
             ],
             [
              0.8888888888888888,
              "#fdca26"
             ],
             [
              1,
              "#f0f921"
             ]
            ],
            "type": "heatmap"
           }
          ],
          "histogram": [
           {
            "marker": {
             "pattern": {
              "fillmode": "overlay",
              "size": 10,
              "solidity": 0.2
             }
            },
            "type": "histogram"
           }
          ],
          "histogram2d": [
           {
            "colorbar": {
             "outlinewidth": 0,
             "ticks": ""
            },
            "colorscale": [
             [
              0,
              "#0d0887"
             ],
             [
              0.1111111111111111,
              "#46039f"
             ],
             [
              0.2222222222222222,
              "#7201a8"
             ],
             [
              0.3333333333333333,
              "#9c179e"
             ],
             [
              0.4444444444444444,
              "#bd3786"
             ],
             [
              0.5555555555555556,
              "#d8576b"
             ],
             [
              0.6666666666666666,
              "#ed7953"
             ],
             [
              0.7777777777777778,
              "#fb9f3a"
             ],
             [
              0.8888888888888888,
              "#fdca26"
             ],
             [
              1,
              "#f0f921"
             ]
            ],
            "type": "histogram2d"
           }
          ],
          "histogram2dcontour": [
           {
            "colorbar": {
             "outlinewidth": 0,
             "ticks": ""
            },
            "colorscale": [
             [
              0,
              "#0d0887"
             ],
             [
              0.1111111111111111,
              "#46039f"
             ],
             [
              0.2222222222222222,
              "#7201a8"
             ],
             [
              0.3333333333333333,
              "#9c179e"
             ],
             [
              0.4444444444444444,
              "#bd3786"
             ],
             [
              0.5555555555555556,
              "#d8576b"
             ],
             [
              0.6666666666666666,
              "#ed7953"
             ],
             [
              0.7777777777777778,
              "#fb9f3a"
             ],
             [
              0.8888888888888888,
              "#fdca26"
             ],
             [
              1,
              "#f0f921"
             ]
            ],
            "type": "histogram2dcontour"
           }
          ],
          "mesh3d": [
           {
            "colorbar": {
             "outlinewidth": 0,
             "ticks": ""
            },
            "type": "mesh3d"
           }
          ],
          "parcoords": [
           {
            "line": {
             "colorbar": {
              "outlinewidth": 0,
              "ticks": ""
             }
            },
            "type": "parcoords"
           }
          ],
          "pie": [
           {
            "automargin": true,
            "type": "pie"
           }
          ],
          "scatter": [
           {
            "fillpattern": {
             "fillmode": "overlay",
             "size": 10,
             "solidity": 0.2
            },
            "type": "scatter"
           }
          ],
          "scatter3d": [
           {
            "line": {
             "colorbar": {
              "outlinewidth": 0,
              "ticks": ""
             }
            },
            "marker": {
             "colorbar": {
              "outlinewidth": 0,
              "ticks": ""
             }
            },
            "type": "scatter3d"
           }
          ],
          "scattercarpet": [
           {
            "marker": {
             "colorbar": {
              "outlinewidth": 0,
              "ticks": ""
             }
            },
            "type": "scattercarpet"
           }
          ],
          "scattergeo": [
           {
            "marker": {
             "colorbar": {
              "outlinewidth": 0,
              "ticks": ""
             }
            },
            "type": "scattergeo"
           }
          ],
          "scattergl": [
           {
            "marker": {
             "colorbar": {
              "outlinewidth": 0,
              "ticks": ""
             }
            },
            "type": "scattergl"
           }
          ],
          "scattermap": [
           {
            "marker": {
             "colorbar": {
              "outlinewidth": 0,
              "ticks": ""
             }
            },
            "type": "scattermap"
           }
          ],
          "scattermapbox": [
           {
            "marker": {
             "colorbar": {
              "outlinewidth": 0,
              "ticks": ""
             }
            },
            "type": "scattermapbox"
           }
          ],
          "scatterpolar": [
           {
            "marker": {
             "colorbar": {
              "outlinewidth": 0,
              "ticks": ""
             }
            },
            "type": "scatterpolar"
           }
          ],
          "scatterpolargl": [
           {
            "marker": {
             "colorbar": {
              "outlinewidth": 0,
              "ticks": ""
             }
            },
            "type": "scatterpolargl"
           }
          ],
          "scatterternary": [
           {
            "marker": {
             "colorbar": {
              "outlinewidth": 0,
              "ticks": ""
             }
            },
            "type": "scatterternary"
           }
          ],
          "surface": [
           {
            "colorbar": {
             "outlinewidth": 0,
             "ticks": ""
            },
            "colorscale": [
             [
              0,
              "#0d0887"
             ],
             [
              0.1111111111111111,
              "#46039f"
             ],
             [
              0.2222222222222222,
              "#7201a8"
             ],
             [
              0.3333333333333333,
              "#9c179e"
             ],
             [
              0.4444444444444444,
              "#bd3786"
             ],
             [
              0.5555555555555556,
              "#d8576b"
             ],
             [
              0.6666666666666666,
              "#ed7953"
             ],
             [
              0.7777777777777778,
              "#fb9f3a"
             ],
             [
              0.8888888888888888,
              "#fdca26"
             ],
             [
              1,
              "#f0f921"
             ]
            ],
            "type": "surface"
           }
          ],
          "table": [
           {
            "cells": {
             "fill": {
              "color": "#EBF0F8"
             },
             "line": {
              "color": "white"
             }
            },
            "header": {
             "fill": {
              "color": "#C8D4E3"
             },
             "line": {
              "color": "white"
             }
            },
            "type": "table"
           }
          ]
         },
         "layout": {
          "annotationdefaults": {
           "arrowcolor": "#2a3f5f",
           "arrowhead": 0,
           "arrowwidth": 1
          },
          "autotypenumbers": "strict",
          "coloraxis": {
           "colorbar": {
            "outlinewidth": 0,
            "ticks": ""
           }
          },
          "colorscale": {
           "diverging": [
            [
             0,
             "#8e0152"
            ],
            [
             0.1,
             "#c51b7d"
            ],
            [
             0.2,
             "#de77ae"
            ],
            [
             0.3,
             "#f1b6da"
            ],
            [
             0.4,
             "#fde0ef"
            ],
            [
             0.5,
             "#f7f7f7"
            ],
            [
             0.6,
             "#e6f5d0"
            ],
            [
             0.7,
             "#b8e186"
            ],
            [
             0.8,
             "#7fbc41"
            ],
            [
             0.9,
             "#4d9221"
            ],
            [
             1,
             "#276419"
            ]
           ],
           "sequential": [
            [
             0,
             "#0d0887"
            ],
            [
             0.1111111111111111,
             "#46039f"
            ],
            [
             0.2222222222222222,
             "#7201a8"
            ],
            [
             0.3333333333333333,
             "#9c179e"
            ],
            [
             0.4444444444444444,
             "#bd3786"
            ],
            [
             0.5555555555555556,
             "#d8576b"
            ],
            [
             0.6666666666666666,
             "#ed7953"
            ],
            [
             0.7777777777777778,
             "#fb9f3a"
            ],
            [
             0.8888888888888888,
             "#fdca26"
            ],
            [
             1,
             "#f0f921"
            ]
           ],
           "sequentialminus": [
            [
             0,
             "#0d0887"
            ],
            [
             0.1111111111111111,
             "#46039f"
            ],
            [
             0.2222222222222222,
             "#7201a8"
            ],
            [
             0.3333333333333333,
             "#9c179e"
            ],
            [
             0.4444444444444444,
             "#bd3786"
            ],
            [
             0.5555555555555556,
             "#d8576b"
            ],
            [
             0.6666666666666666,
             "#ed7953"
            ],
            [
             0.7777777777777778,
             "#fb9f3a"
            ],
            [
             0.8888888888888888,
             "#fdca26"
            ],
            [
             1,
             "#f0f921"
            ]
           ]
          },
          "colorway": [
           "#636efa",
           "#EF553B",
           "#00cc96",
           "#ab63fa",
           "#FFA15A",
           "#19d3f3",
           "#FF6692",
           "#B6E880",
           "#FF97FF",
           "#FECB52"
          ],
          "font": {
           "color": "#2a3f5f"
          },
          "geo": {
           "bgcolor": "white",
           "lakecolor": "white",
           "landcolor": "white",
           "showlakes": true,
           "showland": true,
           "subunitcolor": "#C8D4E3"
          },
          "hoverlabel": {
           "align": "left"
          },
          "hovermode": "closest",
          "mapbox": {
           "style": "light"
          },
          "paper_bgcolor": "white",
          "plot_bgcolor": "white",
          "polar": {
           "angularaxis": {
            "gridcolor": "#EBF0F8",
            "linecolor": "#EBF0F8",
            "ticks": ""
           },
           "bgcolor": "white",
           "radialaxis": {
            "gridcolor": "#EBF0F8",
            "linecolor": "#EBF0F8",
            "ticks": ""
           }
          },
          "scene": {
           "xaxis": {
            "backgroundcolor": "white",
            "gridcolor": "#DFE8F3",
            "gridwidth": 2,
            "linecolor": "#EBF0F8",
            "showbackground": true,
            "ticks": "",
            "zerolinecolor": "#EBF0F8"
           },
           "yaxis": {
            "backgroundcolor": "white",
            "gridcolor": "#DFE8F3",
            "gridwidth": 2,
            "linecolor": "#EBF0F8",
            "showbackground": true,
            "ticks": "",
            "zerolinecolor": "#EBF0F8"
           },
           "zaxis": {
            "backgroundcolor": "white",
            "gridcolor": "#DFE8F3",
            "gridwidth": 2,
            "linecolor": "#EBF0F8",
            "showbackground": true,
            "ticks": "",
            "zerolinecolor": "#EBF0F8"
           }
          },
          "shapedefaults": {
           "line": {
            "color": "#2a3f5f"
           }
          },
          "ternary": {
           "aaxis": {
            "gridcolor": "#DFE8F3",
            "linecolor": "#A2B1C6",
            "ticks": ""
           },
           "baxis": {
            "gridcolor": "#DFE8F3",
            "linecolor": "#A2B1C6",
            "ticks": ""
           },
           "bgcolor": "white",
           "caxis": {
            "gridcolor": "#DFE8F3",
            "linecolor": "#A2B1C6",
            "ticks": ""
           }
          },
          "title": {
           "x": 0.05
          },
          "xaxis": {
           "automargin": true,
           "gridcolor": "#EBF0F8",
           "linecolor": "#EBF0F8",
           "ticks": "",
           "title": {
            "standoff": 15
           },
           "zerolinecolor": "#EBF0F8",
           "zerolinewidth": 2
          },
          "yaxis": {
           "automargin": true,
           "gridcolor": "#EBF0F8",
           "linecolor": "#EBF0F8",
           "ticks": "",
           "title": {
            "standoff": 15
           },
           "zerolinecolor": "#EBF0F8",
           "zerolinewidth": 2
          }
         }
        },
        "title": {
         "text": "SHAP (Output) vs TimeSHAP (Hidden Mean) for Sequence 0 (Synthetic Background (Hidden Mean), mode=event)"
        },
        "xaxis": {
         "title": {
          "text": "Timestep"
         }
        },
        "yaxis": {
         "title": {
          "text": "Explanation Value"
         }
        }
       }
      }
     },
     "metadata": {},
     "output_type": "display_data"
    },
    {
     "name": "stdout",
     "output_type": "stream",
     "text": [
      "Correlation for sequence 1 (Synthetic Background (Hidden Mean), mode=event, pruned_idx=0, reverse=True): 0.5195\n"
     ]
    },
    {
     "data": {
      "application/vnd.plotly.v1+json": {
       "config": {
        "plotlyServerURL": "https://plot.ly"
       },
       "data": [
        {
         "line": {
          "color": "blue"
         },
         "mode": "lines+markers",
         "name": "SHAP (Output)",
         "type": "scatter",
         "x": {
          "bdata": "AAECAwQFBgcICQoLDA0ODxAREhMUFRYXGBkaGxwdHh8gISIjJCUmJygpKissLS4vMDEyMzQ1Njc4OTo7PD0+P0BBQkNERUZHSElKS0xNTk9QUVJTVFVWV1hZWltcXV5fYGFiY2RlZmdoaWprbG1ub3BxcnN0dXZ3",
          "dtype": "i1"
         },
         "y": {
          "bdata": "AAAAAAAAAAAAAAAAAAAAABWd6+XaHHa/AAAAAAAAAAAAAAAAAAAAAAAAAAAAAAAASD8IK4FJOj8AAAAAAAAAAAAAAAAAAAAAAAAAAAAAAAAAAAAAAAAAAAAAAAAAAAAAAAAAAAAAAAAAAAAAAAAAAAAAAAAAAAAAQUhIkQaMgT8AAAAAAAAAAAAAAAAAAAAAAAAAAAAAAAAAAAAAAAAAAAAAAAAAAAAAAAAAAAAAAACnqG7zZ2F6PwAAAAAAAAAAAAAAAAAAAAAAAAAAAAAAAAAAAAAAAAAAAAAAAAAAAAAAAAAAAAAAACJDCvT/hHy/AAAAAAAAAAAAAAAAAAAAAAAAAAAAAAAAAAAAAAAAAAAAAAAAAAAAAAAAAAAAAAAAAAAAAAAAAAAAAAAAAAAAAAAAAAAAAAAAAAAAAAAAAAAAAAAAAAAAAMkXvE7VBJO/AAAAAAAAAAA47YLv9MuAv4EL5FlKjm4/AAAAAAAAAAAAAAAAAAAAAAAAAAAAAAAAAAAAAAAAAAAAAAAAAAAAAAAAAAAAAAAAAAAAAAAAAAAAAAAAAAAAAAMoJHFVy4E/AAAAAAAAAAAAAAAAAAAAAAAAAAAAAAAAAAAAAAAAAAAAAAAAAAAAAAAAAAAAAAAAAAAAAAAAAABNS4wUgm2KvwAAAAAAAAAAQvdjAKbdf78AAAAAAAAAAEG5YhaFQVi/AAAAAAAAAAAAAAAAAAAAAM2XTxkP1nu/9qCwH1DOg78AAAAAAAAAABEWyXXxxXS/AAAAAAAAAAA9gJwAs3wZPwAAAAAAAAAAAAAAAAAAAABIM0CzOEGSPwAAAAAAAAAAAAAAAAAAAAAAAAAAAAAAAAAAAAAAAAAAAAAAAAAAAAAAAAAAAAAAAAAAAAAAAAAAAAAAAAAAAAAAAAAAAAAAAAAAAAAAAAAAAAAAAAAAAAAAAAAAAAAAAAAAAAAAAAAAAAAAAAAAAAAAAAAAAAAAAAAAAAAAAAAAAAAAAAAAAAAAAAAAAAAAADabvZVJcWI/AAAAAAAAAAAAAAAAAAAAAAAAAAAAAAAAv39f/R31db8AAAAAAAAAAAAAAAAAAAAA1oLcE/Fxgz8AAAAAAAAAAAAAAAAAAAAAAAAAAAAAAAAAAAAAAAAAAKVHkXm4Zo2/AAAAAAAAAAB6Hh6kAjWOv4yiNC9oCIm/iRYz4eu2kb/jKxdoQLhxvzTmaZY930k/AAAAAAAAAAAAAAAAAAAAAB8RhiIVRZY/jJhEMQgApz/sKvOHf+SxP3BOkw425rE/",
          "dtype": "f8"
         }
        },
        {
         "line": {
          "color": "red"
         },
         "mode": "lines+markers",
         "name": "TimeSHAP (Hidden Mean)",
         "type": "scatter",
         "x": {
          "bdata": "AAECAwQFBgcICQoLDA0ODxAREhMUFRYXGBkaGxwdHh8gISIjJCUmJygpKissLS4vMDEyMzQ1Njc4OTo7PD0+P0BBQkNERUZHSElKS0xNTk9QUVJTVFVWV1hZWltcXV5fYGFiY2RlZmdoaWprbG1ub3BxcnN0dXZ3",
          "dtype": "i1"
         },
         "y": {
          "bdata": "AAAAAAAAAAAAAAAAAAAAAAAAAAAAAAAAAAAAAAAAAAAAAAAAAAAAAAAAAAAAAAAAAMDW79/Vyj4AAAAAAAAAAAAAAAAAAAAAAAAAAAAAAAAAAAAAAAAAAAAAAAAAAAAAAAAAAAAAAAAAAAAAAAAAAAAAAAAAAAAAAAAAAAAAAAB9hmi9T2vlPgAAAAAAAAAAAAAAAAAAAAAAAAAAAAAAAAAAAAAAAAAAAAAAAAAAAAAAAAAAAAAAAAAAAAAAAAAAAAAAAAAAAACoQSxa9XvWPrV35iqsDso+AAAAAAAAAAAAAAAAAAAAAAAAAAAAAAAAAAAAAAAAAAAAAAAAAAAAAAAAAAAAAAAAAAAAAAAAAAAAAAAAAAAAAAAAAAAAAAAAAAAAAAAAAAAAAAAAAAAAAAAAAAAAAAAAAAAAAAAAAAAAAAAAAAAAAAAAAAAAAAAAAAAAAAAAAAAAAAAAAAAAAAAAAAAAAAAAAAAAAAAAAAAAAAAAAAAAAAAAAAAAAAAAAAAAAAAAAAAAAAAAAAAAAAAAAAAAAAAAAAAAAAAAAAAAAAAAAAAAAAAAAAAAAAAAAAAAAAAAAAAAAAAAAAAAAAAAAAAAAAAAAAAAAAAAAAAAAAAAAAAAAAAAAAAAAAAAAAAAAAAAAAAAAAAAAAAAAAAAAAAAAAAAAAAAAAAAAAAAAAAAAAAAAAAAAAAAAAAAdBzramld/D4AAAAAAAAAAAAAAAAAAAAAAAAAAAAAAAAAAAAAAAAAAAAAAAAAAAAAAAAAAAAAAAAAAAAAAAAAAAAAAAAAAAAAAAAAAAAAAAAAAAAAAAAAAAAAAAAAAAAAQT/4eEO/4z4AAAAAAAAAAAAAAAAAAAAAAAAAAAAAAAAAAAAAAAAAAAAAAAAAAAAAAAAAAAAAAAAAAAAAAAAAAAAAAAAAAAAAAAAAAAAAAAAAAAAAAAAAAAAAAAAAAAAAAAAAAAAAAACvGVBZEAXzPkOF+gI8LLo+AAAAAAAAAABib2h1GhLcPrIorgAblgA/FHqEc+Kk6z4fb3fWrQ8DPw0CB/NXj9g+HzGYX84a7T4AAAAAAAAAAAAAAAAAAAAAAAAAAAAAAAAAAAAAAAAAAAAAAAAAAAAAAAAAAAAAAAAAAAAAAAAAAAAAAAAAAAAAHl5h5zcGED++umgO19UTP32f7Mz6USA/QKn4PrS9Jj9xQx8w1vQvP3dHeOIJIjY/RTGpRZxHOj9Vx4Wvukw/PxAgl8ykqUE/mSFasR+UQD/9DRPrAnQ5P275AwjMCTI/",
          "dtype": "f8"
         }
        }
       ],
       "layout": {
        "shapes": [
         {
          "line": {
           "color": "gray",
           "dash": "dash"
          },
          "type": "line",
          "x0": 0,
          "x1": 1,
          "xref": "x domain",
          "y0": 0,
          "y1": 0,
          "yref": "y"
         }
        ],
        "template": {
         "data": {
          "bar": [
           {
            "error_x": {
             "color": "#2a3f5f"
            },
            "error_y": {
             "color": "#2a3f5f"
            },
            "marker": {
             "line": {
              "color": "white",
              "width": 0.5
             },
             "pattern": {
              "fillmode": "overlay",
              "size": 10,
              "solidity": 0.2
             }
            },
            "type": "bar"
           }
          ],
          "barpolar": [
           {
            "marker": {
             "line": {
              "color": "white",
              "width": 0.5
             },
             "pattern": {
              "fillmode": "overlay",
              "size": 10,
              "solidity": 0.2
             }
            },
            "type": "barpolar"
           }
          ],
          "carpet": [
           {
            "aaxis": {
             "endlinecolor": "#2a3f5f",
             "gridcolor": "#C8D4E3",
             "linecolor": "#C8D4E3",
             "minorgridcolor": "#C8D4E3",
             "startlinecolor": "#2a3f5f"
            },
            "baxis": {
             "endlinecolor": "#2a3f5f",
             "gridcolor": "#C8D4E3",
             "linecolor": "#C8D4E3",
             "minorgridcolor": "#C8D4E3",
             "startlinecolor": "#2a3f5f"
            },
            "type": "carpet"
           }
          ],
          "choropleth": [
           {
            "colorbar": {
             "outlinewidth": 0,
             "ticks": ""
            },
            "type": "choropleth"
           }
          ],
          "contour": [
           {
            "colorbar": {
             "outlinewidth": 0,
             "ticks": ""
            },
            "colorscale": [
             [
              0,
              "#0d0887"
             ],
             [
              0.1111111111111111,
              "#46039f"
             ],
             [
              0.2222222222222222,
              "#7201a8"
             ],
             [
              0.3333333333333333,
              "#9c179e"
             ],
             [
              0.4444444444444444,
              "#bd3786"
             ],
             [
              0.5555555555555556,
              "#d8576b"
             ],
             [
              0.6666666666666666,
              "#ed7953"
             ],
             [
              0.7777777777777778,
              "#fb9f3a"
             ],
             [
              0.8888888888888888,
              "#fdca26"
             ],
             [
              1,
              "#f0f921"
             ]
            ],
            "type": "contour"
           }
          ],
          "contourcarpet": [
           {
            "colorbar": {
             "outlinewidth": 0,
             "ticks": ""
            },
            "type": "contourcarpet"
           }
          ],
          "heatmap": [
           {
            "colorbar": {
             "outlinewidth": 0,
             "ticks": ""
            },
            "colorscale": [
             [
              0,
              "#0d0887"
             ],
             [
              0.1111111111111111,
              "#46039f"
             ],
             [
              0.2222222222222222,
              "#7201a8"
             ],
             [
              0.3333333333333333,
              "#9c179e"
             ],
             [
              0.4444444444444444,
              "#bd3786"
             ],
             [
              0.5555555555555556,
              "#d8576b"
             ],
             [
              0.6666666666666666,
              "#ed7953"
             ],
             [
              0.7777777777777778,
              "#fb9f3a"
             ],
             [
              0.8888888888888888,
              "#fdca26"
             ],
             [
              1,
              "#f0f921"
             ]
            ],
            "type": "heatmap"
           }
          ],
          "histogram": [
           {
            "marker": {
             "pattern": {
              "fillmode": "overlay",
              "size": 10,
              "solidity": 0.2
             }
            },
            "type": "histogram"
           }
          ],
          "histogram2d": [
           {
            "colorbar": {
             "outlinewidth": 0,
             "ticks": ""
            },
            "colorscale": [
             [
              0,
              "#0d0887"
             ],
             [
              0.1111111111111111,
              "#46039f"
             ],
             [
              0.2222222222222222,
              "#7201a8"
             ],
             [
              0.3333333333333333,
              "#9c179e"
             ],
             [
              0.4444444444444444,
              "#bd3786"
             ],
             [
              0.5555555555555556,
              "#d8576b"
             ],
             [
              0.6666666666666666,
              "#ed7953"
             ],
             [
              0.7777777777777778,
              "#fb9f3a"
             ],
             [
              0.8888888888888888,
              "#fdca26"
             ],
             [
              1,
              "#f0f921"
             ]
            ],
            "type": "histogram2d"
           }
          ],
          "histogram2dcontour": [
           {
            "colorbar": {
             "outlinewidth": 0,
             "ticks": ""
            },
            "colorscale": [
             [
              0,
              "#0d0887"
             ],
             [
              0.1111111111111111,
              "#46039f"
             ],
             [
              0.2222222222222222,
              "#7201a8"
             ],
             [
              0.3333333333333333,
              "#9c179e"
             ],
             [
              0.4444444444444444,
              "#bd3786"
             ],
             [
              0.5555555555555556,
              "#d8576b"
             ],
             [
              0.6666666666666666,
              "#ed7953"
             ],
             [
              0.7777777777777778,
              "#fb9f3a"
             ],
             [
              0.8888888888888888,
              "#fdca26"
             ],
             [
              1,
              "#f0f921"
             ]
            ],
            "type": "histogram2dcontour"
           }
          ],
          "mesh3d": [
           {
            "colorbar": {
             "outlinewidth": 0,
             "ticks": ""
            },
            "type": "mesh3d"
           }
          ],
          "parcoords": [
           {
            "line": {
             "colorbar": {
              "outlinewidth": 0,
              "ticks": ""
             }
            },
            "type": "parcoords"
           }
          ],
          "pie": [
           {
            "automargin": true,
            "type": "pie"
           }
          ],
          "scatter": [
           {
            "fillpattern": {
             "fillmode": "overlay",
             "size": 10,
             "solidity": 0.2
            },
            "type": "scatter"
           }
          ],
          "scatter3d": [
           {
            "line": {
             "colorbar": {
              "outlinewidth": 0,
              "ticks": ""
             }
            },
            "marker": {
             "colorbar": {
              "outlinewidth": 0,
              "ticks": ""
             }
            },
            "type": "scatter3d"
           }
          ],
          "scattercarpet": [
           {
            "marker": {
             "colorbar": {
              "outlinewidth": 0,
              "ticks": ""
             }
            },
            "type": "scattercarpet"
           }
          ],
          "scattergeo": [
           {
            "marker": {
             "colorbar": {
              "outlinewidth": 0,
              "ticks": ""
             }
            },
            "type": "scattergeo"
           }
          ],
          "scattergl": [
           {
            "marker": {
             "colorbar": {
              "outlinewidth": 0,
              "ticks": ""
             }
            },
            "type": "scattergl"
           }
          ],
          "scattermap": [
           {
            "marker": {
             "colorbar": {
              "outlinewidth": 0,
              "ticks": ""
             }
            },
            "type": "scattermap"
           }
          ],
          "scattermapbox": [
           {
            "marker": {
             "colorbar": {
              "outlinewidth": 0,
              "ticks": ""
             }
            },
            "type": "scattermapbox"
           }
          ],
          "scatterpolar": [
           {
            "marker": {
             "colorbar": {
              "outlinewidth": 0,
              "ticks": ""
             }
            },
            "type": "scatterpolar"
           }
          ],
          "scatterpolargl": [
           {
            "marker": {
             "colorbar": {
              "outlinewidth": 0,
              "ticks": ""
             }
            },
            "type": "scatterpolargl"
           }
          ],
          "scatterternary": [
           {
            "marker": {
             "colorbar": {
              "outlinewidth": 0,
              "ticks": ""
             }
            },
            "type": "scatterternary"
           }
          ],
          "surface": [
           {
            "colorbar": {
             "outlinewidth": 0,
             "ticks": ""
            },
            "colorscale": [
             [
              0,
              "#0d0887"
             ],
             [
              0.1111111111111111,
              "#46039f"
             ],
             [
              0.2222222222222222,
              "#7201a8"
             ],
             [
              0.3333333333333333,
              "#9c179e"
             ],
             [
              0.4444444444444444,
              "#bd3786"
             ],
             [
              0.5555555555555556,
              "#d8576b"
             ],
             [
              0.6666666666666666,
              "#ed7953"
             ],
             [
              0.7777777777777778,
              "#fb9f3a"
             ],
             [
              0.8888888888888888,
              "#fdca26"
             ],
             [
              1,
              "#f0f921"
             ]
            ],
            "type": "surface"
           }
          ],
          "table": [
           {
            "cells": {
             "fill": {
              "color": "#EBF0F8"
             },
             "line": {
              "color": "white"
             }
            },
            "header": {
             "fill": {
              "color": "#C8D4E3"
             },
             "line": {
              "color": "white"
             }
            },
            "type": "table"
           }
          ]
         },
         "layout": {
          "annotationdefaults": {
           "arrowcolor": "#2a3f5f",
           "arrowhead": 0,
           "arrowwidth": 1
          },
          "autotypenumbers": "strict",
          "coloraxis": {
           "colorbar": {
            "outlinewidth": 0,
            "ticks": ""
           }
          },
          "colorscale": {
           "diverging": [
            [
             0,
             "#8e0152"
            ],
            [
             0.1,
             "#c51b7d"
            ],
            [
             0.2,
             "#de77ae"
            ],
            [
             0.3,
             "#f1b6da"
            ],
            [
             0.4,
             "#fde0ef"
            ],
            [
             0.5,
             "#f7f7f7"
            ],
            [
             0.6,
             "#e6f5d0"
            ],
            [
             0.7,
             "#b8e186"
            ],
            [
             0.8,
             "#7fbc41"
            ],
            [
             0.9,
             "#4d9221"
            ],
            [
             1,
             "#276419"
            ]
           ],
           "sequential": [
            [
             0,
             "#0d0887"
            ],
            [
             0.1111111111111111,
             "#46039f"
            ],
            [
             0.2222222222222222,
             "#7201a8"
            ],
            [
             0.3333333333333333,
             "#9c179e"
            ],
            [
             0.4444444444444444,
             "#bd3786"
            ],
            [
             0.5555555555555556,
             "#d8576b"
            ],
            [
             0.6666666666666666,
             "#ed7953"
            ],
            [
             0.7777777777777778,
             "#fb9f3a"
            ],
            [
             0.8888888888888888,
             "#fdca26"
            ],
            [
             1,
             "#f0f921"
            ]
           ],
           "sequentialminus": [
            [
             0,
             "#0d0887"
            ],
            [
             0.1111111111111111,
             "#46039f"
            ],
            [
             0.2222222222222222,
             "#7201a8"
            ],
            [
             0.3333333333333333,
             "#9c179e"
            ],
            [
             0.4444444444444444,
             "#bd3786"
            ],
            [
             0.5555555555555556,
             "#d8576b"
            ],
            [
             0.6666666666666666,
             "#ed7953"
            ],
            [
             0.7777777777777778,
             "#fb9f3a"
            ],
            [
             0.8888888888888888,
             "#fdca26"
            ],
            [
             1,
             "#f0f921"
            ]
           ]
          },
          "colorway": [
           "#636efa",
           "#EF553B",
           "#00cc96",
           "#ab63fa",
           "#FFA15A",
           "#19d3f3",
           "#FF6692",
           "#B6E880",
           "#FF97FF",
           "#FECB52"
          ],
          "font": {
           "color": "#2a3f5f"
          },
          "geo": {
           "bgcolor": "white",
           "lakecolor": "white",
           "landcolor": "white",
           "showlakes": true,
           "showland": true,
           "subunitcolor": "#C8D4E3"
          },
          "hoverlabel": {
           "align": "left"
          },
          "hovermode": "closest",
          "mapbox": {
           "style": "light"
          },
          "paper_bgcolor": "white",
          "plot_bgcolor": "white",
          "polar": {
           "angularaxis": {
            "gridcolor": "#EBF0F8",
            "linecolor": "#EBF0F8",
            "ticks": ""
           },
           "bgcolor": "white",
           "radialaxis": {
            "gridcolor": "#EBF0F8",
            "linecolor": "#EBF0F8",
            "ticks": ""
           }
          },
          "scene": {
           "xaxis": {
            "backgroundcolor": "white",
            "gridcolor": "#DFE8F3",
            "gridwidth": 2,
            "linecolor": "#EBF0F8",
            "showbackground": true,
            "ticks": "",
            "zerolinecolor": "#EBF0F8"
           },
           "yaxis": {
            "backgroundcolor": "white",
            "gridcolor": "#DFE8F3",
            "gridwidth": 2,
            "linecolor": "#EBF0F8",
            "showbackground": true,
            "ticks": "",
            "zerolinecolor": "#EBF0F8"
           },
           "zaxis": {
            "backgroundcolor": "white",
            "gridcolor": "#DFE8F3",
            "gridwidth": 2,
            "linecolor": "#EBF0F8",
            "showbackground": true,
            "ticks": "",
            "zerolinecolor": "#EBF0F8"
           }
          },
          "shapedefaults": {
           "line": {
            "color": "#2a3f5f"
           }
          },
          "ternary": {
           "aaxis": {
            "gridcolor": "#DFE8F3",
            "linecolor": "#A2B1C6",
            "ticks": ""
           },
           "baxis": {
            "gridcolor": "#DFE8F3",
            "linecolor": "#A2B1C6",
            "ticks": ""
           },
           "bgcolor": "white",
           "caxis": {
            "gridcolor": "#DFE8F3",
            "linecolor": "#A2B1C6",
            "ticks": ""
           }
          },
          "title": {
           "x": 0.05
          },
          "xaxis": {
           "automargin": true,
           "gridcolor": "#EBF0F8",
           "linecolor": "#EBF0F8",
           "ticks": "",
           "title": {
            "standoff": 15
           },
           "zerolinecolor": "#EBF0F8",
           "zerolinewidth": 2
          },
          "yaxis": {
           "automargin": true,
           "gridcolor": "#EBF0F8",
           "linecolor": "#EBF0F8",
           "ticks": "",
           "title": {
            "standoff": 15
           },
           "zerolinecolor": "#EBF0F8",
           "zerolinewidth": 2
          }
         }
        },
        "title": {
         "text": "SHAP (Output) vs TimeSHAP (Hidden Mean) for Sequence 1 (Synthetic Background (Hidden Mean), mode=event)"
        },
        "xaxis": {
         "title": {
          "text": "Timestep"
         }
        },
        "yaxis": {
         "title": {
          "text": "Explanation Value"
         }
        }
       }
      }
     },
     "metadata": {},
     "output_type": "display_data"
    },
    {
     "name": "stdout",
     "output_type": "stream",
     "text": [
      "Correlation for sequence 2 (Synthetic Background (Hidden Mean), mode=event, pruned_idx=0, reverse=True): 0.4415\n"
     ]
    },
    {
     "data": {
      "application/vnd.plotly.v1+json": {
       "config": {
        "plotlyServerURL": "https://plot.ly"
       },
       "data": [
        {
         "line": {
          "color": "blue"
         },
         "mode": "lines+markers",
         "name": "SHAP (Output)",
         "type": "scatter",
         "x": {
          "bdata": "AAECAwQFBgcICQoLDA0ODxAREhMUFRYXGBkaGxwdHh8gISIjJCUmJygpKissLS4vMDEyMzQ1Njc4OTo7PD0+P0BBQkNERUZHSElKS0xNTk9QUVJTVFVWV1hZWltcXV5fYGFiY2RlZmdoaWprbG1ub3BxcnN0dXZ3",
          "dtype": "i1"
         },
         "y": {
          "bdata": "AAAAAAAAAAAAAAAAAAAAAAAAAAAAAAAAAAAAAAAAAAAAAAAAAAAAAAAAAAAAAAAAAAAAAAAAAAAAAAAAAAAAAAAAAAAAAAAAAAAAAAAAAAAAAAAAAAAAAAAAAAAAAAAAAAAAAAAAAAAAAAAAAAAAAAAAAAAAAAAAgHQjYTW2fD8AAAAAAAAAAAAAAAAAAAAAAAAAAAAAAAAAAAAAAAAAAAAAAAAAAAAAAAAAAAAAAADg8/HjpJ+FPwAAAAAAAAAAAAAAAAAAAAAAuDWyXIBTvwAAAAAAAAAAzqaueIQrkj8AAAAAAAAAAAAAAAAAAAAAAAAAAAAAAAAAAAAAAAAAAAAAAAAAAAAAAAAAAAAAAAAAAAAAAAAAAAAAAAAAAAAAAAAAAAAAAAAAAAAAAAAAAAAAAAAAAAAAAAAAAAAAAAAAAAAAAAAAAGwnCtyMOJq/AAAAAAAAAABEzwz2w6SNvwAAAAAAAAAAAAAAAAAAAAAAAAAAAAAAAAAAAAAAAAAAIFaxTufdlj8AAAAAAAAAAM4IEwi7fnW/AAAAAAAAAAAAAAAAAAAAAAgw+O5MJH8/AAAAAAAAAAAAAAAAAAAAAAAAAAAAAAAAAAAAAAAAAAAAAAAAAAAAAAAAAAAAAAAA1IXLmsXKgL8AAAAAAAAAAAAAAAAAAAAA2b8pN/BLjr8AAAAAAAAAABBnmSD8tXy/AAAAAAAAAAAAAAAAAAAAAAAAAAAAAAAAoFgBkqrYcL8AAAAAAAAAAGCh6GzkQH2/AAAAAAAAAAAAAAAAAAAAACBMcl120ZA/AAAAAAAAAACySe+/L3OYP+BJP6fOXX8/AAAAAAAAAACEeX7IS9WLvwAAAAAAAAAAAAAAAAAAAACgFwdWMeyRvwAAAAAAAAAAAAAAAAAAAAAAAAAAAAAAAAAAAAAAAAAAAAAAAAAAAAAAAAAAAAAAAAAAAAAAAAAAAAAAAAAAAAAAAAAAAAAAAAAAAAAAAAAAAAAAAAAAAAAAAAAAAAAAAAAAAAAAAAAAAMceSatubj8AAAAAAAAAAFU4PWSoxYQ/AAAAAAAAAAAAAAAAAAAAAAAAAAAAAAAAAAAAAAAAAAA4XnjPmjibvwAAAAAAAAAA/IJlSAr5kL8dgwsxDxKIv0xOlkurY6S/8CTdqTiVnb/YzTTm1VKhv1zSzdjSW6O/nWC46yqDnL8QyiMzaNqBv5o+9+15EoS/AJvJGDtrij8QJFH0JzqWPyY+f/4qias/pJxtUH1OtD9qlaEVq327P9qOKgGWdbo/",
          "dtype": "f8"
         }
        },
        {
         "line": {
          "color": "red"
         },
         "mode": "lines+markers",
         "name": "TimeSHAP (Hidden Mean)",
         "type": "scatter",
         "x": {
          "bdata": "AAECAwQFBgcICQoLDA0ODxAREhMUFRYXGBkaGxwdHh8gISIjJCUmJygpKissLS4vMDEyMzQ1Njc4OTo7PD0+P0BBQkNERUZHSElKS0xNTk9QUVJTVFVWV1hZWltcXV5fYGFiY2RlZmdoaWprbG1ub3BxcnN0dXZ3",
          "dtype": "i1"
         },
         "y": {
          "bdata": "AAAAAAAAAAAAAAAAAAAAAAAAAAAAAAAAAAAAAAAAAAAAAAAAAAAAAAAAAAAAAAAAAHGk5ri++z4AAAAAAAAAAAAAAAAAAAAAAAAAAAAAAAAAAAAAAAAAAAAAAAAAAAAAAAAAAAAAAAAAAAAAAAAAAAAAAAAAAAAAAAAAAAAAAADKzIGLNFz5PgAAAAAAAAAAAAAAAAAAAADDKZvgN27dPgAAAAAAAAAAAAAAAAAAAAAAAAAAAAAAAJEZj5qnb+0+AAAAAAAAAADG2jez3LDkPokqP7KBQPE+AAAAAAAAAAAAAAAAAAAAAAAAAAAAAAAAAAAAAAAAAAAAAAAAAAAAAKDzKYIb/98+AAAAAAAAAAC1UZIfMNvfPgAAAAAAAAAAAAAAAAAAAAAAAAAAAAAAAAAAAAAAAAAAAAAAAAAAAAAAAAAAAAAAAAAAAAAAAAAAAAAAAAAAAAAAAAAAAAAAAAAAAAAAAAAAAAAAAAAAAAAAAAAAAAAAAAAAAAAAAAAAAAAAAAAAAAAAAAAAAAAAAIsIAkCSCNA+AAAAAAAAAAAAAAAAAAAAAAAAAAAAAAAAAAAAAAAAAAAAAAAAAAAAAAAAAAAAAAAAAAAAAAAAAAAAAAAAAAAAAAAAAAAAAAAAAAAAAAAAAAAAAAAAAAAAAAAAAAAAAAAAAAAAAAAAAAAAAAAAAAAAAAAAAAAAAAAAtl2diicGDj8AAAAAAAAAAAAAAAAAAAAAAAAAAAAAAAAAAAAAAAAAAAAAAAAAAAAAAAAAAAAAAAAAAAAAAAAAAAAAAAAAAAAAAAAAAAAAAAAAAAAAAAAAAAAAAAAAAAAAAoVW7bFr3z4AAAAAAAAAAAAAAAAAAAAAAAAAAAAAAAAAAAAAAAAAAAAAAAAAAAAAAAAAAAAAAADBmWbtO6PzPgAAAAAAAAAAAAAAAAAAAAAAAAAAAAAAAAAAAAAAAAAA4v+wdw9P+D6XDF5Aax0LP5bxxgzU8QA/gbOgvELEij4AAAAAAAAAADFogIpeGvE+AAAAAAAAAAAAAAAAAAAAAAAAAAAAAAAAAAAAAAAAAAAAAAAAAAAAAAAAAAAAAAAAAAAAAAAAAAAAAAAAAAAAAAAAAAAAAAAAAAAAAAAAAADqCCMSUH8bP+2cgNucjxU/XGMnOFN7KT8hdsExlFMpP5Mg8iRMJzA/mVQRWQ+SMz9szzgW+U81P6qv53+jWTs/WiKAr5IQPj8243vf+mdAP+yKCpfl7UE/gisfWFVqQT9FutsqADo7P7vE5zqtpTM/",
          "dtype": "f8"
         }
        }
       ],
       "layout": {
        "shapes": [
         {
          "line": {
           "color": "gray",
           "dash": "dash"
          },
          "type": "line",
          "x0": 0,
          "x1": 1,
          "xref": "x domain",
          "y0": 0,
          "y1": 0,
          "yref": "y"
         }
        ],
        "template": {
         "data": {
          "bar": [
           {
            "error_x": {
             "color": "#2a3f5f"
            },
            "error_y": {
             "color": "#2a3f5f"
            },
            "marker": {
             "line": {
              "color": "white",
              "width": 0.5
             },
             "pattern": {
              "fillmode": "overlay",
              "size": 10,
              "solidity": 0.2
             }
            },
            "type": "bar"
           }
          ],
          "barpolar": [
           {
            "marker": {
             "line": {
              "color": "white",
              "width": 0.5
             },
             "pattern": {
              "fillmode": "overlay",
              "size": 10,
              "solidity": 0.2
             }
            },
            "type": "barpolar"
           }
          ],
          "carpet": [
           {
            "aaxis": {
             "endlinecolor": "#2a3f5f",
             "gridcolor": "#C8D4E3",
             "linecolor": "#C8D4E3",
             "minorgridcolor": "#C8D4E3",
             "startlinecolor": "#2a3f5f"
            },
            "baxis": {
             "endlinecolor": "#2a3f5f",
             "gridcolor": "#C8D4E3",
             "linecolor": "#C8D4E3",
             "minorgridcolor": "#C8D4E3",
             "startlinecolor": "#2a3f5f"
            },
            "type": "carpet"
           }
          ],
          "choropleth": [
           {
            "colorbar": {
             "outlinewidth": 0,
             "ticks": ""
            },
            "type": "choropleth"
           }
          ],
          "contour": [
           {
            "colorbar": {
             "outlinewidth": 0,
             "ticks": ""
            },
            "colorscale": [
             [
              0,
              "#0d0887"
             ],
             [
              0.1111111111111111,
              "#46039f"
             ],
             [
              0.2222222222222222,
              "#7201a8"
             ],
             [
              0.3333333333333333,
              "#9c179e"
             ],
             [
              0.4444444444444444,
              "#bd3786"
             ],
             [
              0.5555555555555556,
              "#d8576b"
             ],
             [
              0.6666666666666666,
              "#ed7953"
             ],
             [
              0.7777777777777778,
              "#fb9f3a"
             ],
             [
              0.8888888888888888,
              "#fdca26"
             ],
             [
              1,
              "#f0f921"
             ]
            ],
            "type": "contour"
           }
          ],
          "contourcarpet": [
           {
            "colorbar": {
             "outlinewidth": 0,
             "ticks": ""
            },
            "type": "contourcarpet"
           }
          ],
          "heatmap": [
           {
            "colorbar": {
             "outlinewidth": 0,
             "ticks": ""
            },
            "colorscale": [
             [
              0,
              "#0d0887"
             ],
             [
              0.1111111111111111,
              "#46039f"
             ],
             [
              0.2222222222222222,
              "#7201a8"
             ],
             [
              0.3333333333333333,
              "#9c179e"
             ],
             [
              0.4444444444444444,
              "#bd3786"
             ],
             [
              0.5555555555555556,
              "#d8576b"
             ],
             [
              0.6666666666666666,
              "#ed7953"
             ],
             [
              0.7777777777777778,
              "#fb9f3a"
             ],
             [
              0.8888888888888888,
              "#fdca26"
             ],
             [
              1,
              "#f0f921"
             ]
            ],
            "type": "heatmap"
           }
          ],
          "histogram": [
           {
            "marker": {
             "pattern": {
              "fillmode": "overlay",
              "size": 10,
              "solidity": 0.2
             }
            },
            "type": "histogram"
           }
          ],
          "histogram2d": [
           {
            "colorbar": {
             "outlinewidth": 0,
             "ticks": ""
            },
            "colorscale": [
             [
              0,
              "#0d0887"
             ],
             [
              0.1111111111111111,
              "#46039f"
             ],
             [
              0.2222222222222222,
              "#7201a8"
             ],
             [
              0.3333333333333333,
              "#9c179e"
             ],
             [
              0.4444444444444444,
              "#bd3786"
             ],
             [
              0.5555555555555556,
              "#d8576b"
             ],
             [
              0.6666666666666666,
              "#ed7953"
             ],
             [
              0.7777777777777778,
              "#fb9f3a"
             ],
             [
              0.8888888888888888,
              "#fdca26"
             ],
             [
              1,
              "#f0f921"
             ]
            ],
            "type": "histogram2d"
           }
          ],
          "histogram2dcontour": [
           {
            "colorbar": {
             "outlinewidth": 0,
             "ticks": ""
            },
            "colorscale": [
             [
              0,
              "#0d0887"
             ],
             [
              0.1111111111111111,
              "#46039f"
             ],
             [
              0.2222222222222222,
              "#7201a8"
             ],
             [
              0.3333333333333333,
              "#9c179e"
             ],
             [
              0.4444444444444444,
              "#bd3786"
             ],
             [
              0.5555555555555556,
              "#d8576b"
             ],
             [
              0.6666666666666666,
              "#ed7953"
             ],
             [
              0.7777777777777778,
              "#fb9f3a"
             ],
             [
              0.8888888888888888,
              "#fdca26"
             ],
             [
              1,
              "#f0f921"
             ]
            ],
            "type": "histogram2dcontour"
           }
          ],
          "mesh3d": [
           {
            "colorbar": {
             "outlinewidth": 0,
             "ticks": ""
            },
            "type": "mesh3d"
           }
          ],
          "parcoords": [
           {
            "line": {
             "colorbar": {
              "outlinewidth": 0,
              "ticks": ""
             }
            },
            "type": "parcoords"
           }
          ],
          "pie": [
           {
            "automargin": true,
            "type": "pie"
           }
          ],
          "scatter": [
           {
            "fillpattern": {
             "fillmode": "overlay",
             "size": 10,
             "solidity": 0.2
            },
            "type": "scatter"
           }
          ],
          "scatter3d": [
           {
            "line": {
             "colorbar": {
              "outlinewidth": 0,
              "ticks": ""
             }
            },
            "marker": {
             "colorbar": {
              "outlinewidth": 0,
              "ticks": ""
             }
            },
            "type": "scatter3d"
           }
          ],
          "scattercarpet": [
           {
            "marker": {
             "colorbar": {
              "outlinewidth": 0,
              "ticks": ""
             }
            },
            "type": "scattercarpet"
           }
          ],
          "scattergeo": [
           {
            "marker": {
             "colorbar": {
              "outlinewidth": 0,
              "ticks": ""
             }
            },
            "type": "scattergeo"
           }
          ],
          "scattergl": [
           {
            "marker": {
             "colorbar": {
              "outlinewidth": 0,
              "ticks": ""
             }
            },
            "type": "scattergl"
           }
          ],
          "scattermap": [
           {
            "marker": {
             "colorbar": {
              "outlinewidth": 0,
              "ticks": ""
             }
            },
            "type": "scattermap"
           }
          ],
          "scattermapbox": [
           {
            "marker": {
             "colorbar": {
              "outlinewidth": 0,
              "ticks": ""
             }
            },
            "type": "scattermapbox"
           }
          ],
          "scatterpolar": [
           {
            "marker": {
             "colorbar": {
              "outlinewidth": 0,
              "ticks": ""
             }
            },
            "type": "scatterpolar"
           }
          ],
          "scatterpolargl": [
           {
            "marker": {
             "colorbar": {
              "outlinewidth": 0,
              "ticks": ""
             }
            },
            "type": "scatterpolargl"
           }
          ],
          "scatterternary": [
           {
            "marker": {
             "colorbar": {
              "outlinewidth": 0,
              "ticks": ""
             }
            },
            "type": "scatterternary"
           }
          ],
          "surface": [
           {
            "colorbar": {
             "outlinewidth": 0,
             "ticks": ""
            },
            "colorscale": [
             [
              0,
              "#0d0887"
             ],
             [
              0.1111111111111111,
              "#46039f"
             ],
             [
              0.2222222222222222,
              "#7201a8"
             ],
             [
              0.3333333333333333,
              "#9c179e"
             ],
             [
              0.4444444444444444,
              "#bd3786"
             ],
             [
              0.5555555555555556,
              "#d8576b"
             ],
             [
              0.6666666666666666,
              "#ed7953"
             ],
             [
              0.7777777777777778,
              "#fb9f3a"
             ],
             [
              0.8888888888888888,
              "#fdca26"
             ],
             [
              1,
              "#f0f921"
             ]
            ],
            "type": "surface"
           }
          ],
          "table": [
           {
            "cells": {
             "fill": {
              "color": "#EBF0F8"
             },
             "line": {
              "color": "white"
             }
            },
            "header": {
             "fill": {
              "color": "#C8D4E3"
             },
             "line": {
              "color": "white"
             }
            },
            "type": "table"
           }
          ]
         },
         "layout": {
          "annotationdefaults": {
           "arrowcolor": "#2a3f5f",
           "arrowhead": 0,
           "arrowwidth": 1
          },
          "autotypenumbers": "strict",
          "coloraxis": {
           "colorbar": {
            "outlinewidth": 0,
            "ticks": ""
           }
          },
          "colorscale": {
           "diverging": [
            [
             0,
             "#8e0152"
            ],
            [
             0.1,
             "#c51b7d"
            ],
            [
             0.2,
             "#de77ae"
            ],
            [
             0.3,
             "#f1b6da"
            ],
            [
             0.4,
             "#fde0ef"
            ],
            [
             0.5,
             "#f7f7f7"
            ],
            [
             0.6,
             "#e6f5d0"
            ],
            [
             0.7,
             "#b8e186"
            ],
            [
             0.8,
             "#7fbc41"
            ],
            [
             0.9,
             "#4d9221"
            ],
            [
             1,
             "#276419"
            ]
           ],
           "sequential": [
            [
             0,
             "#0d0887"
            ],
            [
             0.1111111111111111,
             "#46039f"
            ],
            [
             0.2222222222222222,
             "#7201a8"
            ],
            [
             0.3333333333333333,
             "#9c179e"
            ],
            [
             0.4444444444444444,
             "#bd3786"
            ],
            [
             0.5555555555555556,
             "#d8576b"
            ],
            [
             0.6666666666666666,
             "#ed7953"
            ],
            [
             0.7777777777777778,
             "#fb9f3a"
            ],
            [
             0.8888888888888888,
             "#fdca26"
            ],
            [
             1,
             "#f0f921"
            ]
           ],
           "sequentialminus": [
            [
             0,
             "#0d0887"
            ],
            [
             0.1111111111111111,
             "#46039f"
            ],
            [
             0.2222222222222222,
             "#7201a8"
            ],
            [
             0.3333333333333333,
             "#9c179e"
            ],
            [
             0.4444444444444444,
             "#bd3786"
            ],
            [
             0.5555555555555556,
             "#d8576b"
            ],
            [
             0.6666666666666666,
             "#ed7953"
            ],
            [
             0.7777777777777778,
             "#fb9f3a"
            ],
            [
             0.8888888888888888,
             "#fdca26"
            ],
            [
             1,
             "#f0f921"
            ]
           ]
          },
          "colorway": [
           "#636efa",
           "#EF553B",
           "#00cc96",
           "#ab63fa",
           "#FFA15A",
           "#19d3f3",
           "#FF6692",
           "#B6E880",
           "#FF97FF",
           "#FECB52"
          ],
          "font": {
           "color": "#2a3f5f"
          },
          "geo": {
           "bgcolor": "white",
           "lakecolor": "white",
           "landcolor": "white",
           "showlakes": true,
           "showland": true,
           "subunitcolor": "#C8D4E3"
          },
          "hoverlabel": {
           "align": "left"
          },
          "hovermode": "closest",
          "mapbox": {
           "style": "light"
          },
          "paper_bgcolor": "white",
          "plot_bgcolor": "white",
          "polar": {
           "angularaxis": {
            "gridcolor": "#EBF0F8",
            "linecolor": "#EBF0F8",
            "ticks": ""
           },
           "bgcolor": "white",
           "radialaxis": {
            "gridcolor": "#EBF0F8",
            "linecolor": "#EBF0F8",
            "ticks": ""
           }
          },
          "scene": {
           "xaxis": {
            "backgroundcolor": "white",
            "gridcolor": "#DFE8F3",
            "gridwidth": 2,
            "linecolor": "#EBF0F8",
            "showbackground": true,
            "ticks": "",
            "zerolinecolor": "#EBF0F8"
           },
           "yaxis": {
            "backgroundcolor": "white",
            "gridcolor": "#DFE8F3",
            "gridwidth": 2,
            "linecolor": "#EBF0F8",
            "showbackground": true,
            "ticks": "",
            "zerolinecolor": "#EBF0F8"
           },
           "zaxis": {
            "backgroundcolor": "white",
            "gridcolor": "#DFE8F3",
            "gridwidth": 2,
            "linecolor": "#EBF0F8",
            "showbackground": true,
            "ticks": "",
            "zerolinecolor": "#EBF0F8"
           }
          },
          "shapedefaults": {
           "line": {
            "color": "#2a3f5f"
           }
          },
          "ternary": {
           "aaxis": {
            "gridcolor": "#DFE8F3",
            "linecolor": "#A2B1C6",
            "ticks": ""
           },
           "baxis": {
            "gridcolor": "#DFE8F3",
            "linecolor": "#A2B1C6",
            "ticks": ""
           },
           "bgcolor": "white",
           "caxis": {
            "gridcolor": "#DFE8F3",
            "linecolor": "#A2B1C6",
            "ticks": ""
           }
          },
          "title": {
           "x": 0.05
          },
          "xaxis": {
           "automargin": true,
           "gridcolor": "#EBF0F8",
           "linecolor": "#EBF0F8",
           "ticks": "",
           "title": {
            "standoff": 15
           },
           "zerolinecolor": "#EBF0F8",
           "zerolinewidth": 2
          },
          "yaxis": {
           "automargin": true,
           "gridcolor": "#EBF0F8",
           "linecolor": "#EBF0F8",
           "ticks": "",
           "title": {
            "standoff": 15
           },
           "zerolinecolor": "#EBF0F8",
           "zerolinewidth": 2
          }
         }
        },
        "title": {
         "text": "SHAP (Output) vs TimeSHAP (Hidden Mean) for Sequence 2 (Synthetic Background (Hidden Mean), mode=event)"
        },
        "xaxis": {
         "title": {
          "text": "Timestep"
         }
        },
        "yaxis": {
         "title": {
          "text": "Explanation Value"
         }
        }
       }
      }
     },
     "metadata": {},
     "output_type": "display_data"
    },
    {
     "name": "stdout",
     "output_type": "stream",
     "text": [
      "Correlation for sequence 3 (Synthetic Background (Hidden Mean), mode=event, pruned_idx=0, reverse=True): 0.2540\n",
      "Correlation for sequence 4 (Synthetic Background (Hidden Mean), mode=event, pruned_idx=0, reverse=True): 0.3487\n"
     ]
    },
    {
     "ename": "KeyboardInterrupt",
     "evalue": "",
     "output_type": "error",
     "traceback": [
      "\u001b[0;31m---------------------------------------------------------------------------\u001b[0m",
      "\u001b[0;31mKeyboardInterrupt\u001b[0m                         Traceback (most recent call last)",
      "Cell \u001b[0;32mIn[19], line 1\u001b[0m\n\u001b[0;32m----> 1\u001b[0m correlations_hidden \u001b[38;5;241m=\u001b[39m \u001b[43mcompute_correlations_hidden\u001b[49m\u001b[43m(\u001b[49m\n\u001b[1;32m      2\u001b[0m \u001b[43m    \u001b[49m\u001b[43mtest_data\u001b[49m\u001b[43m,\u001b[49m\u001b[43m \u001b[49m\u001b[43mbaseline_shap\u001b[49m\u001b[43m,\u001b[49m\u001b[43m \u001b[49m\u001b[43mbaseline_timeshap\u001b[49m\u001b[43m,\u001b[49m\n\u001b[1;32m      3\u001b[0m \u001b[43m    \u001b[49m\u001b[38;5;124;43m\"\u001b[39;49m\u001b[38;5;124;43mSynthetic Background (Hidden Mean)\u001b[39;49m\u001b[38;5;124;43m\"\u001b[39;49m\u001b[43m,\u001b[49m\u001b[43m \u001b[49m\u001b[43mmode\u001b[49m\u001b[38;5;241;43m=\u001b[39;49m\u001b[38;5;124;43m\"\u001b[39;49m\u001b[38;5;124;43mevent\u001b[39;49m\u001b[38;5;124;43m\"\u001b[39;49m\u001b[43m,\u001b[49m\u001b[43m \u001b[49m\u001b[43mpruned_idx\u001b[49m\u001b[38;5;241;43m=\u001b[39;49m\u001b[38;5;241;43m0\u001b[39;49m\u001b[43m,\u001b[49m\u001b[43m \u001b[49m\u001b[43mreverse\u001b[49m\u001b[38;5;241;43m=\u001b[39;49m\u001b[38;5;28;43;01mTrue\u001b[39;49;00m\n\u001b[1;32m      4\u001b[0m \u001b[43m)\u001b[49m\n",
      "Cell \u001b[0;32mIn[17], line 13\u001b[0m, in \u001b[0;36mcompute_correlations_hidden\u001b[0;34m(test_data, baseline_shap, baseline_timeshap, label, mode, pruned_idx, reverse)\u001b[0m\n\u001b[1;32m     10\u001b[0m shap_first \u001b[38;5;241m=\u001b[39m shap_values[\u001b[38;5;241m0\u001b[39m]\u001b[38;5;241m.\u001b[39mflatten()  \u001b[38;5;66;03m# (120,)\u001b[39;00m\n\u001b[1;32m     12\u001b[0m \u001b[38;5;66;03m# TimeSHAP (hidden state mean)\u001b[39;00m\n\u001b[0;32m---> 13\u001b[0m event_explanation \u001b[38;5;241m=\u001b[39m \u001b[43mlocal_event_explainer\u001b[49m\u001b[43m(\u001b[49m\n\u001b[1;32m     14\u001b[0m \u001b[43m    \u001b[49m\u001b[43mf_timeshap_hidden_mean\u001b[49m\u001b[43m,\u001b[49m\u001b[43m \u001b[49m\u001b[43mtest_3d\u001b[49m\u001b[43m,\u001b[49m\u001b[43m \u001b[49m\u001b[43mbaseline_timeshap\u001b[49m\u001b[43m,\u001b[49m\u001b[43m \u001b[49m\n\u001b[1;32m     15\u001b[0m \u001b[43m    \u001b[49m\u001b[43mpruned_idx\u001b[49m\u001b[38;5;241;43m=\u001b[39;49m\u001b[43mpruned_idx\u001b[49m\u001b[43m,\u001b[49m\u001b[43m \u001b[49m\u001b[43mnsamples\u001b[49m\u001b[38;5;241;43m=\u001b[39;49m\u001b[38;5;241;43m3000\u001b[39;49m\n\u001b[1;32m     16\u001b[0m \u001b[43m\u001b[49m\u001b[43m)\u001b[49m\n\u001b[1;32m     18\u001b[0m correlation, _ \u001b[38;5;241m=\u001b[39m pearsonr(shap_first, event_explanation[\u001b[38;5;124m\"\u001b[39m\u001b[38;5;124mShapley Value\u001b[39m\u001b[38;5;124m\"\u001b[39m])\n\u001b[1;32m     19\u001b[0m correlations\u001b[38;5;241m.\u001b[39mappend(correlation)\n",
      "File \u001b[0;32m~/Student/Master kode/Master_Herstad-Gjerdingen/src/TimeSHAP.py:87\u001b[0m, in \u001b[0;36mlocal_event_explainer\u001b[0;34m(f, data, baseline, pruned_idx, random_seed, nsamples)\u001b[0m\n\u001b[1;32m     63\u001b[0m \u001b[38;5;250m\u001b[39m\u001b[38;5;124;03m\"\"\"\u001b[39;00m\n\u001b[1;32m     64\u001b[0m \u001b[38;5;124;03mComputes event-level Shapley explanations for a given sequence.\u001b[39;00m\n\u001b[1;32m     65\u001b[0m \u001b[38;5;124;03m\u001b[39;00m\n\u001b[0;32m   (...)\u001b[0m\n\u001b[1;32m     84\u001b[0m \u001b[38;5;124;03m    DataFrame with columns [\"Shapley Value\", \"Sequence Value\"] for the explained events.\u001b[39;00m\n\u001b[1;32m     85\u001b[0m \u001b[38;5;124;03m\"\"\"\u001b[39;00m\n\u001b[1;32m     86\u001b[0m explainer \u001b[38;5;241m=\u001b[39m TimeShapKernel(f, baseline, random_seed, mode\u001b[38;5;241m=\u001b[39m\u001b[38;5;124m\"\u001b[39m\u001b[38;5;124mevent\u001b[39m\u001b[38;5;124m\"\u001b[39m)\n\u001b[0;32m---> 87\u001b[0m shap_values_arr \u001b[38;5;241m=\u001b[39m \u001b[43mexplainer\u001b[49m\u001b[38;5;241;43m.\u001b[39;49m\u001b[43mshap_values\u001b[49m\u001b[43m(\u001b[49m\u001b[43mdata\u001b[49m\u001b[43m,\u001b[49m\u001b[43m \u001b[49m\u001b[43mpruning_idx\u001b[49m\u001b[38;5;241;43m=\u001b[39;49m\u001b[43mpruned_idx\u001b[49m\u001b[43m,\u001b[49m\u001b[43m \u001b[49m\u001b[43mnsamples\u001b[49m\u001b[38;5;241;43m=\u001b[39;49m\u001b[43mnsamples\u001b[49m\u001b[43m)\u001b[49m\n\u001b[1;32m     88\u001b[0m shap_values_arr_reversed \u001b[38;5;241m=\u001b[39m shap_values_arr[::\u001b[38;5;241m-\u001b[39m\u001b[38;5;241m1\u001b[39m]\n\u001b[1;32m     89\u001b[0m sequence_values \u001b[38;5;241m=\u001b[39m data[\u001b[38;5;241m0\u001b[39m, pruned_idx:, \u001b[38;5;241m0\u001b[39m]\n",
      "File \u001b[0;32m/opt/miniconda3/envs/timeshap_env/lib/python3.9/site-packages/timeshap/explainer/kernel/timeshap_kernel.py:298\u001b[0m, in \u001b[0;36mTimeShapKernel.shap_values\u001b[0;34m(self, X, pruning_idx, **kwargs)\u001b[0m\n\u001b[1;32m    296\u001b[0m \u001b[38;5;66;03m# single instance\u001b[39;00m\n\u001b[1;32m    297\u001b[0m \u001b[38;5;28;01mif\u001b[39;00m X\u001b[38;5;241m.\u001b[39mshape[\u001b[38;5;241m0\u001b[39m] \u001b[38;5;241m==\u001b[39m \u001b[38;5;241m1\u001b[39m:\n\u001b[0;32m--> 298\u001b[0m     explanation \u001b[38;5;241m=\u001b[39m \u001b[38;5;28;43mself\u001b[39;49m\u001b[38;5;241;43m.\u001b[39;49m\u001b[43mexplain\u001b[49m\u001b[43m(\u001b[49m\u001b[43mX\u001b[49m\u001b[43m,\u001b[49m\u001b[43m \u001b[49m\u001b[38;5;241;43m*\u001b[39;49m\u001b[38;5;241;43m*\u001b[39;49m\u001b[43mkwargs\u001b[49m\u001b[43m)\u001b[49m\n\u001b[1;32m    300\u001b[0m     out \u001b[38;5;241m=\u001b[39m np\u001b[38;5;241m.\u001b[39mzeros(explanation\u001b[38;5;241m.\u001b[39mshape[\u001b[38;5;241m0\u001b[39m])\n\u001b[1;32m    301\u001b[0m     \u001b[38;5;28;01mif\u001b[39;00m \u001b[38;5;28misinstance\u001b[39m(explanation\u001b[38;5;241m.\u001b[39mshape, \u001b[38;5;28mtuple\u001b[39m) \u001b[38;5;129;01mand\u001b[39;00m \u001b[38;5;28mlen\u001b[39m(explanation\u001b[38;5;241m.\u001b[39mshape) \u001b[38;5;241m==\u001b[39m \u001b[38;5;241m2\u001b[39m:\n",
      "File \u001b[0;32m/opt/miniconda3/envs/timeshap_env/lib/python3.9/site-packages/timeshap/explainer/kernel/timeshap_kernel.py:513\u001b[0m, in \u001b[0;36mTimeShapKernel.explain\u001b[0;34m(self, incoming_instance, **kwargs)\u001b[0m\n\u001b[1;32m    510\u001b[0m     \u001b[38;5;28mself\u001b[39m\u001b[38;5;241m.\u001b[39mkernelWeights[nfixed_samples:] \u001b[38;5;241m*\u001b[39m\u001b[38;5;241m=\u001b[39m weight_left \u001b[38;5;241m/\u001b[39m \u001b[38;5;28mself\u001b[39m\u001b[38;5;241m.\u001b[39mkernelWeights[nfixed_samples:]\u001b[38;5;241m.\u001b[39msum()\n\u001b[1;32m    512\u001b[0m \u001b[38;5;66;03m# execute the model on the synthetic samples we have created\u001b[39;00m\n\u001b[0;32m--> 513\u001b[0m \u001b[38;5;28;43mself\u001b[39;49m\u001b[38;5;241;43m.\u001b[39;49m\u001b[43mrun\u001b[49m\u001b[43m(\u001b[49m\u001b[43m)\u001b[49m\n\u001b[1;32m    515\u001b[0m \u001b[38;5;66;03m# solve then expand the feature importance (Shapley value) vector to contain the non-varying features\u001b[39;00m\n\u001b[1;32m    516\u001b[0m phi \u001b[38;5;241m=\u001b[39m np\u001b[38;5;241m.\u001b[39mzeros((\u001b[38;5;28mself\u001b[39m\u001b[38;5;241m.\u001b[39mdata\u001b[38;5;241m.\u001b[39mgroups_size, \u001b[38;5;28mself\u001b[39m\u001b[38;5;241m.\u001b[39mD))\n",
      "File \u001b[0;32m/opt/miniconda3/envs/timeshap_env/lib/python3.9/site-packages/timeshap/explainer/kernel/timeshap_kernel.py:782\u001b[0m, in \u001b[0;36mTimeShapKernel.run\u001b[0;34m(self)\u001b[0m\n\u001b[1;32m    780\u001b[0m     modelOut, _ \u001b[38;5;241m=\u001b[39m \u001b[38;5;28mself\u001b[39m\u001b[38;5;241m.\u001b[39mmodel\u001b[38;5;241m.\u001b[39mf(data)\n\u001b[1;32m    781\u001b[0m \u001b[38;5;28;01melse\u001b[39;00m:\n\u001b[0;32m--> 782\u001b[0m     modelOut \u001b[38;5;241m=\u001b[39m \u001b[38;5;28;43mself\u001b[39;49m\u001b[38;5;241;43m.\u001b[39;49m\u001b[43mmodel\u001b[49m\u001b[38;5;241;43m.\u001b[39;49m\u001b[43mf\u001b[49m\u001b[43m(\u001b[49m\u001b[43mdata\u001b[49m\u001b[43m)\u001b[49m\n\u001b[1;32m    784\u001b[0m \u001b[38;5;28;01mif\u001b[39;00m \u001b[38;5;28misinstance\u001b[39m(modelOut, (pd\u001b[38;5;241m.\u001b[39mDataFrame, pd\u001b[38;5;241m.\u001b[39mSeries)):\n\u001b[1;32m    785\u001b[0m     modelOut \u001b[38;5;241m=\u001b[39m modelOut\u001b[38;5;241m.\u001b[39mvalues\n",
      "Cell \u001b[0;32mIn[18], line 6\u001b[0m, in \u001b[0;36mf_timeshap_hidden_mean\u001b[0;34m(X)\u001b[0m\n\u001b[1;32m      5\u001b[0m \u001b[38;5;28;01mdef\u001b[39;00m\u001b[38;5;250m \u001b[39m\u001b[38;5;21mf_timeshap_hidden_mean\u001b[39m(X):\n\u001b[0;32m----> 6\u001b[0m     hidden_states \u001b[38;5;241m=\u001b[39m \u001b[43mhidden_state_model\u001b[49m\u001b[38;5;241;43m.\u001b[39;49m\u001b[43mpredict\u001b[49m\u001b[43m(\u001b[49m\u001b[43mX\u001b[49m\u001b[43m,\u001b[49m\u001b[43m \u001b[49m\u001b[43mverbose\u001b[49m\u001b[38;5;241;43m=\u001b[39;49m\u001b[38;5;241;43m0\u001b[39;49m\u001b[43m)\u001b[49m  \u001b[38;5;66;03m# (batch_size, 32)\u001b[39;00m\n\u001b[1;32m      7\u001b[0m     \u001b[38;5;28;01mreturn\u001b[39;00m np\u001b[38;5;241m.\u001b[39mmean(hidden_states, axis\u001b[38;5;241m=\u001b[39m\u001b[38;5;241m1\u001b[39m, keepdims\u001b[38;5;241m=\u001b[39m\u001b[38;5;28;01mTrue\u001b[39;00m)\n",
      "File \u001b[0;32m/opt/miniconda3/envs/timeshap_env/lib/python3.9/site-packages/keras/src/utils/traceback_utils.py:117\u001b[0m, in \u001b[0;36mfilter_traceback.<locals>.error_handler\u001b[0;34m(*args, **kwargs)\u001b[0m\n\u001b[1;32m    115\u001b[0m filtered_tb \u001b[38;5;241m=\u001b[39m \u001b[38;5;28;01mNone\u001b[39;00m\n\u001b[1;32m    116\u001b[0m \u001b[38;5;28;01mtry\u001b[39;00m:\n\u001b[0;32m--> 117\u001b[0m     \u001b[38;5;28;01mreturn\u001b[39;00m \u001b[43mfn\u001b[49m\u001b[43m(\u001b[49m\u001b[38;5;241;43m*\u001b[39;49m\u001b[43margs\u001b[49m\u001b[43m,\u001b[49m\u001b[43m \u001b[49m\u001b[38;5;241;43m*\u001b[39;49m\u001b[38;5;241;43m*\u001b[39;49m\u001b[43mkwargs\u001b[49m\u001b[43m)\u001b[49m\n\u001b[1;32m    118\u001b[0m \u001b[38;5;28;01mexcept\u001b[39;00m \u001b[38;5;167;01mException\u001b[39;00m \u001b[38;5;28;01mas\u001b[39;00m e:\n\u001b[1;32m    119\u001b[0m     filtered_tb \u001b[38;5;241m=\u001b[39m _process_traceback_frames(e\u001b[38;5;241m.\u001b[39m__traceback__)\n",
      "File \u001b[0;32m/opt/miniconda3/envs/timeshap_env/lib/python3.9/site-packages/keras/src/backend/tensorflow/trainer.py:562\u001b[0m, in \u001b[0;36mTensorFlowTrainer.predict\u001b[0;34m(self, x, batch_size, verbose, steps, callbacks)\u001b[0m\n\u001b[1;32m    560\u001b[0m callbacks\u001b[38;5;241m.\u001b[39mon_predict_batch_begin(step)\n\u001b[1;32m    561\u001b[0m data \u001b[38;5;241m=\u001b[39m get_data(iterator)\n\u001b[0;32m--> 562\u001b[0m batch_outputs \u001b[38;5;241m=\u001b[39m \u001b[38;5;28;43mself\u001b[39;49m\u001b[38;5;241;43m.\u001b[39;49m\u001b[43mpredict_function\u001b[49m\u001b[43m(\u001b[49m\u001b[43mdata\u001b[49m\u001b[43m)\u001b[49m\n\u001b[1;32m    563\u001b[0m outputs \u001b[38;5;241m=\u001b[39m append_to_outputs(batch_outputs, outputs)\n\u001b[1;32m    564\u001b[0m callbacks\u001b[38;5;241m.\u001b[39mon_predict_batch_end(step, {\u001b[38;5;124m\"\u001b[39m\u001b[38;5;124moutputs\u001b[39m\u001b[38;5;124m\"\u001b[39m: batch_outputs})\n",
      "File \u001b[0;32m/opt/miniconda3/envs/timeshap_env/lib/python3.9/site-packages/tensorflow/python/util/traceback_utils.py:150\u001b[0m, in \u001b[0;36mfilter_traceback.<locals>.error_handler\u001b[0;34m(*args, **kwargs)\u001b[0m\n\u001b[1;32m    148\u001b[0m filtered_tb \u001b[38;5;241m=\u001b[39m \u001b[38;5;28;01mNone\u001b[39;00m\n\u001b[1;32m    149\u001b[0m \u001b[38;5;28;01mtry\u001b[39;00m:\n\u001b[0;32m--> 150\u001b[0m   \u001b[38;5;28;01mreturn\u001b[39;00m \u001b[43mfn\u001b[49m\u001b[43m(\u001b[49m\u001b[38;5;241;43m*\u001b[39;49m\u001b[43margs\u001b[49m\u001b[43m,\u001b[49m\u001b[43m \u001b[49m\u001b[38;5;241;43m*\u001b[39;49m\u001b[38;5;241;43m*\u001b[39;49m\u001b[43mkwargs\u001b[49m\u001b[43m)\u001b[49m\n\u001b[1;32m    151\u001b[0m \u001b[38;5;28;01mexcept\u001b[39;00m \u001b[38;5;167;01mException\u001b[39;00m \u001b[38;5;28;01mas\u001b[39;00m e:\n\u001b[1;32m    152\u001b[0m   filtered_tb \u001b[38;5;241m=\u001b[39m _process_traceback_frames(e\u001b[38;5;241m.\u001b[39m__traceback__)\n",
      "File \u001b[0;32m/opt/miniconda3/envs/timeshap_env/lib/python3.9/site-packages/tensorflow/python/eager/polymorphic_function/polymorphic_function.py:833\u001b[0m, in \u001b[0;36mFunction.__call__\u001b[0;34m(self, *args, **kwds)\u001b[0m\n\u001b[1;32m    830\u001b[0m compiler \u001b[38;5;241m=\u001b[39m \u001b[38;5;124m\"\u001b[39m\u001b[38;5;124mxla\u001b[39m\u001b[38;5;124m\"\u001b[39m \u001b[38;5;28;01mif\u001b[39;00m \u001b[38;5;28mself\u001b[39m\u001b[38;5;241m.\u001b[39m_jit_compile \u001b[38;5;28;01melse\u001b[39;00m \u001b[38;5;124m\"\u001b[39m\u001b[38;5;124mnonXla\u001b[39m\u001b[38;5;124m\"\u001b[39m\n\u001b[1;32m    832\u001b[0m \u001b[38;5;28;01mwith\u001b[39;00m OptionalXlaContext(\u001b[38;5;28mself\u001b[39m\u001b[38;5;241m.\u001b[39m_jit_compile):\n\u001b[0;32m--> 833\u001b[0m   result \u001b[38;5;241m=\u001b[39m \u001b[38;5;28;43mself\u001b[39;49m\u001b[38;5;241;43m.\u001b[39;49m\u001b[43m_call\u001b[49m\u001b[43m(\u001b[49m\u001b[38;5;241;43m*\u001b[39;49m\u001b[43margs\u001b[49m\u001b[43m,\u001b[49m\u001b[43m \u001b[49m\u001b[38;5;241;43m*\u001b[39;49m\u001b[38;5;241;43m*\u001b[39;49m\u001b[43mkwds\u001b[49m\u001b[43m)\u001b[49m\n\u001b[1;32m    835\u001b[0m new_tracing_count \u001b[38;5;241m=\u001b[39m \u001b[38;5;28mself\u001b[39m\u001b[38;5;241m.\u001b[39mexperimental_get_tracing_count()\n\u001b[1;32m    836\u001b[0m without_tracing \u001b[38;5;241m=\u001b[39m (tracing_count \u001b[38;5;241m==\u001b[39m new_tracing_count)\n",
      "File \u001b[0;32m/opt/miniconda3/envs/timeshap_env/lib/python3.9/site-packages/tensorflow/python/eager/polymorphic_function/polymorphic_function.py:878\u001b[0m, in \u001b[0;36mFunction._call\u001b[0;34m(self, *args, **kwds)\u001b[0m\n\u001b[1;32m    875\u001b[0m \u001b[38;5;28mself\u001b[39m\u001b[38;5;241m.\u001b[39m_lock\u001b[38;5;241m.\u001b[39mrelease()\n\u001b[1;32m    876\u001b[0m \u001b[38;5;66;03m# In this case we have not created variables on the first call. So we can\u001b[39;00m\n\u001b[1;32m    877\u001b[0m \u001b[38;5;66;03m# run the first trace but we should fail if variables are created.\u001b[39;00m\n\u001b[0;32m--> 878\u001b[0m results \u001b[38;5;241m=\u001b[39m \u001b[43mtracing_compilation\u001b[49m\u001b[38;5;241;43m.\u001b[39;49m\u001b[43mcall_function\u001b[49m\u001b[43m(\u001b[49m\n\u001b[1;32m    879\u001b[0m \u001b[43m    \u001b[49m\u001b[43margs\u001b[49m\u001b[43m,\u001b[49m\u001b[43m \u001b[49m\u001b[43mkwds\u001b[49m\u001b[43m,\u001b[49m\u001b[43m \u001b[49m\u001b[38;5;28;43mself\u001b[39;49m\u001b[38;5;241;43m.\u001b[39;49m\u001b[43m_variable_creation_config\u001b[49m\n\u001b[1;32m    880\u001b[0m \u001b[43m\u001b[49m\u001b[43m)\u001b[49m\n\u001b[1;32m    881\u001b[0m \u001b[38;5;28;01mif\u001b[39;00m \u001b[38;5;28mself\u001b[39m\u001b[38;5;241m.\u001b[39m_created_variables:\n\u001b[1;32m    882\u001b[0m   \u001b[38;5;28;01mraise\u001b[39;00m \u001b[38;5;167;01mValueError\u001b[39;00m(\u001b[38;5;124m\"\u001b[39m\u001b[38;5;124mCreating variables on a non-first call to a function\u001b[39m\u001b[38;5;124m\"\u001b[39m\n\u001b[1;32m    883\u001b[0m                    \u001b[38;5;124m\"\u001b[39m\u001b[38;5;124m decorated with tf.function.\u001b[39m\u001b[38;5;124m\"\u001b[39m)\n",
      "File \u001b[0;32m/opt/miniconda3/envs/timeshap_env/lib/python3.9/site-packages/tensorflow/python/eager/polymorphic_function/tracing_compilation.py:139\u001b[0m, in \u001b[0;36mcall_function\u001b[0;34m(args, kwargs, tracing_options)\u001b[0m\n\u001b[1;32m    137\u001b[0m bound_args \u001b[38;5;241m=\u001b[39m function\u001b[38;5;241m.\u001b[39mfunction_type\u001b[38;5;241m.\u001b[39mbind(\u001b[38;5;241m*\u001b[39margs, \u001b[38;5;241m*\u001b[39m\u001b[38;5;241m*\u001b[39mkwargs)\n\u001b[1;32m    138\u001b[0m flat_inputs \u001b[38;5;241m=\u001b[39m function\u001b[38;5;241m.\u001b[39mfunction_type\u001b[38;5;241m.\u001b[39munpack_inputs(bound_args)\n\u001b[0;32m--> 139\u001b[0m \u001b[38;5;28;01mreturn\u001b[39;00m \u001b[43mfunction\u001b[49m\u001b[38;5;241;43m.\u001b[39;49m\u001b[43m_call_flat\u001b[49m\u001b[43m(\u001b[49m\u001b[43m  \u001b[49m\u001b[38;5;66;43;03m# pylint: disable=protected-access\u001b[39;49;00m\n\u001b[1;32m    140\u001b[0m \u001b[43m    \u001b[49m\u001b[43mflat_inputs\u001b[49m\u001b[43m,\u001b[49m\u001b[43m \u001b[49m\u001b[43mcaptured_inputs\u001b[49m\u001b[38;5;241;43m=\u001b[39;49m\u001b[43mfunction\u001b[49m\u001b[38;5;241;43m.\u001b[39;49m\u001b[43mcaptured_inputs\u001b[49m\n\u001b[1;32m    141\u001b[0m \u001b[43m\u001b[49m\u001b[43m)\u001b[49m\n",
      "File \u001b[0;32m/opt/miniconda3/envs/timeshap_env/lib/python3.9/site-packages/tensorflow/python/eager/polymorphic_function/concrete_function.py:1322\u001b[0m, in \u001b[0;36mConcreteFunction._call_flat\u001b[0;34m(self, tensor_inputs, captured_inputs)\u001b[0m\n\u001b[1;32m   1318\u001b[0m possible_gradient_type \u001b[38;5;241m=\u001b[39m gradients_util\u001b[38;5;241m.\u001b[39mPossibleTapeGradientTypes(args)\n\u001b[1;32m   1319\u001b[0m \u001b[38;5;28;01mif\u001b[39;00m (possible_gradient_type \u001b[38;5;241m==\u001b[39m gradients_util\u001b[38;5;241m.\u001b[39mPOSSIBLE_GRADIENT_TYPES_NONE\n\u001b[1;32m   1320\u001b[0m     \u001b[38;5;129;01mand\u001b[39;00m executing_eagerly):\n\u001b[1;32m   1321\u001b[0m   \u001b[38;5;66;03m# No tape is watching; skip to running the function.\u001b[39;00m\n\u001b[0;32m-> 1322\u001b[0m   \u001b[38;5;28;01mreturn\u001b[39;00m \u001b[38;5;28;43mself\u001b[39;49m\u001b[38;5;241;43m.\u001b[39;49m\u001b[43m_inference_function\u001b[49m\u001b[38;5;241;43m.\u001b[39;49m\u001b[43mcall_preflattened\u001b[49m\u001b[43m(\u001b[49m\u001b[43margs\u001b[49m\u001b[43m)\u001b[49m\n\u001b[1;32m   1323\u001b[0m forward_backward \u001b[38;5;241m=\u001b[39m \u001b[38;5;28mself\u001b[39m\u001b[38;5;241m.\u001b[39m_select_forward_and_backward_functions(\n\u001b[1;32m   1324\u001b[0m     args,\n\u001b[1;32m   1325\u001b[0m     possible_gradient_type,\n\u001b[1;32m   1326\u001b[0m     executing_eagerly)\n\u001b[1;32m   1327\u001b[0m forward_function, args_with_tangents \u001b[38;5;241m=\u001b[39m forward_backward\u001b[38;5;241m.\u001b[39mforward()\n",
      "File \u001b[0;32m/opt/miniconda3/envs/timeshap_env/lib/python3.9/site-packages/tensorflow/python/eager/polymorphic_function/atomic_function.py:216\u001b[0m, in \u001b[0;36mAtomicFunction.call_preflattened\u001b[0;34m(self, args)\u001b[0m\n\u001b[1;32m    214\u001b[0m \u001b[38;5;28;01mdef\u001b[39;00m\u001b[38;5;250m \u001b[39m\u001b[38;5;21mcall_preflattened\u001b[39m(\u001b[38;5;28mself\u001b[39m, args: Sequence[core\u001b[38;5;241m.\u001b[39mTensor]) \u001b[38;5;241m-\u001b[39m\u001b[38;5;241m>\u001b[39m Any:\n\u001b[1;32m    215\u001b[0m \u001b[38;5;250m  \u001b[39m\u001b[38;5;124;03m\"\"\"Calls with flattened tensor inputs and returns the structured output.\"\"\"\u001b[39;00m\n\u001b[0;32m--> 216\u001b[0m   flat_outputs \u001b[38;5;241m=\u001b[39m \u001b[38;5;28;43mself\u001b[39;49m\u001b[38;5;241;43m.\u001b[39;49m\u001b[43mcall_flat\u001b[49m\u001b[43m(\u001b[49m\u001b[38;5;241;43m*\u001b[39;49m\u001b[43margs\u001b[49m\u001b[43m)\u001b[49m\n\u001b[1;32m    217\u001b[0m   \u001b[38;5;28;01mreturn\u001b[39;00m \u001b[38;5;28mself\u001b[39m\u001b[38;5;241m.\u001b[39mfunction_type\u001b[38;5;241m.\u001b[39mpack_output(flat_outputs)\n",
      "File \u001b[0;32m/opt/miniconda3/envs/timeshap_env/lib/python3.9/site-packages/tensorflow/python/eager/polymorphic_function/atomic_function.py:251\u001b[0m, in \u001b[0;36mAtomicFunction.call_flat\u001b[0;34m(self, *args)\u001b[0m\n\u001b[1;32m    249\u001b[0m \u001b[38;5;28;01mwith\u001b[39;00m record\u001b[38;5;241m.\u001b[39mstop_recording():\n\u001b[1;32m    250\u001b[0m   \u001b[38;5;28;01mif\u001b[39;00m \u001b[38;5;28mself\u001b[39m\u001b[38;5;241m.\u001b[39m_bound_context\u001b[38;5;241m.\u001b[39mexecuting_eagerly():\n\u001b[0;32m--> 251\u001b[0m     outputs \u001b[38;5;241m=\u001b[39m \u001b[38;5;28;43mself\u001b[39;49m\u001b[38;5;241;43m.\u001b[39;49m\u001b[43m_bound_context\u001b[49m\u001b[38;5;241;43m.\u001b[39;49m\u001b[43mcall_function\u001b[49m\u001b[43m(\u001b[49m\n\u001b[1;32m    252\u001b[0m \u001b[43m        \u001b[49m\u001b[38;5;28;43mself\u001b[39;49m\u001b[38;5;241;43m.\u001b[39;49m\u001b[43mname\u001b[49m\u001b[43m,\u001b[49m\n\u001b[1;32m    253\u001b[0m \u001b[43m        \u001b[49m\u001b[38;5;28;43mlist\u001b[39;49m\u001b[43m(\u001b[49m\u001b[43margs\u001b[49m\u001b[43m)\u001b[49m\u001b[43m,\u001b[49m\n\u001b[1;32m    254\u001b[0m \u001b[43m        \u001b[49m\u001b[38;5;28;43mlen\u001b[39;49m\u001b[43m(\u001b[49m\u001b[38;5;28;43mself\u001b[39;49m\u001b[38;5;241;43m.\u001b[39;49m\u001b[43mfunction_type\u001b[49m\u001b[38;5;241;43m.\u001b[39;49m\u001b[43mflat_outputs\u001b[49m\u001b[43m)\u001b[49m\u001b[43m,\u001b[49m\n\u001b[1;32m    255\u001b[0m \u001b[43m    \u001b[49m\u001b[43m)\u001b[49m\n\u001b[1;32m    256\u001b[0m   \u001b[38;5;28;01melse\u001b[39;00m:\n\u001b[1;32m    257\u001b[0m     outputs \u001b[38;5;241m=\u001b[39m make_call_op_in_graph(\n\u001b[1;32m    258\u001b[0m         \u001b[38;5;28mself\u001b[39m,\n\u001b[1;32m    259\u001b[0m         \u001b[38;5;28mlist\u001b[39m(args),\n\u001b[1;32m    260\u001b[0m         \u001b[38;5;28mself\u001b[39m\u001b[38;5;241m.\u001b[39m_bound_context\u001b[38;5;241m.\u001b[39mfunction_call_options\u001b[38;5;241m.\u001b[39mas_attrs(),\n\u001b[1;32m    261\u001b[0m     )\n",
      "File \u001b[0;32m/opt/miniconda3/envs/timeshap_env/lib/python3.9/site-packages/tensorflow/python/eager/context.py:1683\u001b[0m, in \u001b[0;36mContext.call_function\u001b[0;34m(self, name, tensor_inputs, num_outputs)\u001b[0m\n\u001b[1;32m   1681\u001b[0m cancellation_context \u001b[38;5;241m=\u001b[39m cancellation\u001b[38;5;241m.\u001b[39mcontext()\n\u001b[1;32m   1682\u001b[0m \u001b[38;5;28;01mif\u001b[39;00m cancellation_context \u001b[38;5;129;01mis\u001b[39;00m \u001b[38;5;28;01mNone\u001b[39;00m:\n\u001b[0;32m-> 1683\u001b[0m   outputs \u001b[38;5;241m=\u001b[39m \u001b[43mexecute\u001b[49m\u001b[38;5;241;43m.\u001b[39;49m\u001b[43mexecute\u001b[49m\u001b[43m(\u001b[49m\n\u001b[1;32m   1684\u001b[0m \u001b[43m      \u001b[49m\u001b[43mname\u001b[49m\u001b[38;5;241;43m.\u001b[39;49m\u001b[43mdecode\u001b[49m\u001b[43m(\u001b[49m\u001b[38;5;124;43m\"\u001b[39;49m\u001b[38;5;124;43mutf-8\u001b[39;49m\u001b[38;5;124;43m\"\u001b[39;49m\u001b[43m)\u001b[49m\u001b[43m,\u001b[49m\n\u001b[1;32m   1685\u001b[0m \u001b[43m      \u001b[49m\u001b[43mnum_outputs\u001b[49m\u001b[38;5;241;43m=\u001b[39;49m\u001b[43mnum_outputs\u001b[49m\u001b[43m,\u001b[49m\n\u001b[1;32m   1686\u001b[0m \u001b[43m      \u001b[49m\u001b[43minputs\u001b[49m\u001b[38;5;241;43m=\u001b[39;49m\u001b[43mtensor_inputs\u001b[49m\u001b[43m,\u001b[49m\n\u001b[1;32m   1687\u001b[0m \u001b[43m      \u001b[49m\u001b[43mattrs\u001b[49m\u001b[38;5;241;43m=\u001b[39;49m\u001b[43mattrs\u001b[49m\u001b[43m,\u001b[49m\n\u001b[1;32m   1688\u001b[0m \u001b[43m      \u001b[49m\u001b[43mctx\u001b[49m\u001b[38;5;241;43m=\u001b[39;49m\u001b[38;5;28;43mself\u001b[39;49m\u001b[43m,\u001b[49m\n\u001b[1;32m   1689\u001b[0m \u001b[43m  \u001b[49m\u001b[43m)\u001b[49m\n\u001b[1;32m   1690\u001b[0m \u001b[38;5;28;01melse\u001b[39;00m:\n\u001b[1;32m   1691\u001b[0m   outputs \u001b[38;5;241m=\u001b[39m execute\u001b[38;5;241m.\u001b[39mexecute_with_cancellation(\n\u001b[1;32m   1692\u001b[0m       name\u001b[38;5;241m.\u001b[39mdecode(\u001b[38;5;124m\"\u001b[39m\u001b[38;5;124mutf-8\u001b[39m\u001b[38;5;124m\"\u001b[39m),\n\u001b[1;32m   1693\u001b[0m       num_outputs\u001b[38;5;241m=\u001b[39mnum_outputs,\n\u001b[0;32m   (...)\u001b[0m\n\u001b[1;32m   1697\u001b[0m       cancellation_manager\u001b[38;5;241m=\u001b[39mcancellation_context,\n\u001b[1;32m   1698\u001b[0m   )\n",
      "File \u001b[0;32m/opt/miniconda3/envs/timeshap_env/lib/python3.9/site-packages/tensorflow/python/eager/execute.py:53\u001b[0m, in \u001b[0;36mquick_execute\u001b[0;34m(op_name, num_outputs, inputs, attrs, ctx, name)\u001b[0m\n\u001b[1;32m     51\u001b[0m \u001b[38;5;28;01mtry\u001b[39;00m:\n\u001b[1;32m     52\u001b[0m   ctx\u001b[38;5;241m.\u001b[39mensure_initialized()\n\u001b[0;32m---> 53\u001b[0m   tensors \u001b[38;5;241m=\u001b[39m \u001b[43mpywrap_tfe\u001b[49m\u001b[38;5;241;43m.\u001b[39;49m\u001b[43mTFE_Py_Execute\u001b[49m\u001b[43m(\u001b[49m\u001b[43mctx\u001b[49m\u001b[38;5;241;43m.\u001b[39;49m\u001b[43m_handle\u001b[49m\u001b[43m,\u001b[49m\u001b[43m \u001b[49m\u001b[43mdevice_name\u001b[49m\u001b[43m,\u001b[49m\u001b[43m \u001b[49m\u001b[43mop_name\u001b[49m\u001b[43m,\u001b[49m\n\u001b[1;32m     54\u001b[0m \u001b[43m                                      \u001b[49m\u001b[43minputs\u001b[49m\u001b[43m,\u001b[49m\u001b[43m \u001b[49m\u001b[43mattrs\u001b[49m\u001b[43m,\u001b[49m\u001b[43m \u001b[49m\u001b[43mnum_outputs\u001b[49m\u001b[43m)\u001b[49m\n\u001b[1;32m     55\u001b[0m \u001b[38;5;28;01mexcept\u001b[39;00m core\u001b[38;5;241m.\u001b[39m_NotOkStatusException \u001b[38;5;28;01mas\u001b[39;00m e:\n\u001b[1;32m     56\u001b[0m   \u001b[38;5;28;01mif\u001b[39;00m name \u001b[38;5;129;01mis\u001b[39;00m \u001b[38;5;129;01mnot\u001b[39;00m \u001b[38;5;28;01mNone\u001b[39;00m:\n",
      "\u001b[0;31mKeyboardInterrupt\u001b[0m: "
     ]
    }
   ],
   "source": [
    "correlations_hidden = compute_correlations_hidden(\n",
    "    test_data, baseline_shap, baseline_timeshap,\n",
    "    \"Synthetic Background (Hidden Mean)\", mode=\"event\", pruned_idx=0, reverse=True\n",
    ")"
   ]
  },
  {
   "cell_type": "markdown",
   "metadata": {},
   "source": [
    "## Synthetic data"
   ]
  },
  {
   "cell_type": "code",
   "execution_count": 7,
   "metadata": {},
   "outputs": [
    {
     "name": "stdout",
     "output_type": "stream",
     "text": [
      "Background drop points: [20, 97, 79, 21, 86, 52, 73, 80, 71, 73, 59, 20, 32, 32, 35, 43, 29, 87, 58, 32, 28, 91, 73, 36, 72, 41, 90, 39, 45, 61, 80, 80, 93, 63, 28, 57, 52, 26, 24, 29, 45, 94, 97, 85, 73, 79, 60, 33, 81, 87]\n"
     ]
    }
   ],
   "source": [
    "# Generate synthetic test data\n",
    "def generate_synthetic_sequences(n_seq=3, length=120, noise_std=0.1):\n",
    "    sequences = np.zeros((n_seq, length, 1))\n",
    "    for i in range(n_seq):\n",
    "        sequences[i, :60, 0] = 0.9 + np.random.normal(0, noise_std, 60)\n",
    "        sequences[i, 60:, 0] = np.linspace(0.9, 0.1, 60) + np.random.normal(0, noise_std, 60)\n",
    "    return sequences\n",
    "\n",
    "# Generate synthetic background\n",
    "def generate_synthetic_background(n_seq=50, length=120, drop_range=(20, 100), noise_std=0.1):\n",
    "    sequences = np.zeros((n_seq, length, 1))\n",
    "    drop_points = []\n",
    "    for i in range(n_seq):\n",
    "        drop_point = np.random.randint(drop_range[0], drop_range[1])\n",
    "        drop_points.append(drop_point)\n",
    "        sequences[i, :drop_point, 0] = 0.9 + np.random.normal(0, noise_std, drop_point)\n",
    "        sequences[i, drop_point:, 0] = np.linspace(0.9, 0.1, length - drop_point) + np.random.normal(0, noise_std, length - drop_point)\n",
    "    print(\"Background drop points:\", drop_points)\n",
    "    return sequences\n",
    "\n",
    "# Generate constant background\n",
    "def generate_constant_background(n_seq=50, length=120, value=0.9):\n",
    "    sequences = np.ones((n_seq, length, 1)) * value\n",
    "    return sequences\n",
    "\n",
    "# Generate data\n",
    "synthetic_test_data = generate_synthetic_sequences()\n",
    "synthetic_background = generate_synthetic_background()\n",
    "constant_background = generate_constant_background()\n",
    "\n",
    "# Baselines\n",
    "baseline_shap_synth = synthetic_background.reshape(50, 120)\n",
    "baseline_timeshap_synth = synthetic_background\n",
    "baseline_shap_const = constant_background.reshape(50, 120)\n",
    "baseline_timeshap_const = constant_background"
   ]
  },
  {
   "cell_type": "code",
   "execution_count": 11,
   "metadata": {},
   "outputs": [
    {
     "name": "stdout",
     "output_type": "stream",
     "text": [
      "Provided model function fails when applied to the provided data set.\n"
     ]
    },
    {
     "ename": "AttributeError",
     "evalue": "The layer sequential_1 has never been called and thus has no defined input.",
     "output_type": "error",
     "traceback": [
      "\u001b[0;31m---------------------------------------------------------------------------\u001b[0m",
      "\u001b[0;31mAttributeError\u001b[0m                            Traceback (most recent call last)",
      "Cell \u001b[0;32mIn[11], line 1\u001b[0m\n\u001b[0;32m----> 1\u001b[0m correlations_event_hs \u001b[38;5;241m=\u001b[39m \u001b[43mcompute_correlations\u001b[49m\u001b[43m(\u001b[49m\u001b[43msynthetic_test_data\u001b[49m\u001b[43m,\u001b[49m\u001b[43m \u001b[49m\u001b[43mbaseline_shap_synth\u001b[49m\u001b[43m,\u001b[49m\u001b[43m \u001b[49m\u001b[43mbaseline_timeshap_synth\u001b[49m\u001b[43m,\u001b[49m\u001b[43m \u001b[49m\u001b[38;5;124;43m\"\u001b[39;49m\u001b[38;5;124;43mSynthetic Background\u001b[39;49m\u001b[38;5;124;43m\"\u001b[39;49m\u001b[43m,\u001b[49m\u001b[43m \u001b[49m\u001b[43mmode\u001b[49m\u001b[38;5;241;43m=\u001b[39;49m\u001b[38;5;124;43m\"\u001b[39;49m\u001b[38;5;124;43mevent\u001b[39;49m\u001b[38;5;124;43m\"\u001b[39;49m\u001b[43m,\u001b[49m\u001b[43m \u001b[49m\u001b[43mpruned_idx\u001b[49m\u001b[38;5;241;43m=\u001b[39;49m\u001b[38;5;241;43m0\u001b[39;49m\u001b[43m,\u001b[49m\u001b[43m \u001b[49m\u001b[43mreverse\u001b[49m\u001b[38;5;241;43m=\u001b[39;49m\u001b[38;5;28;43;01mTrue\u001b[39;49;00m\u001b[43m)\u001b[49m\n",
      "Cell \u001b[0;32mIn[9], line 18\u001b[0m, in \u001b[0;36mcompute_correlations\u001b[0;34m(test_data, baseline_shap, baseline_timeshap, label, mode, varying, pruned_idx, reverse)\u001b[0m\n\u001b[1;32m     15\u001b[0m test_2d \u001b[38;5;241m=\u001b[39m test_3d\u001b[38;5;241m.\u001b[39mreshape(\u001b[38;5;241m1\u001b[39m, \u001b[38;5;241m-\u001b[39m\u001b[38;5;241m1\u001b[39m)\n\u001b[1;32m     17\u001b[0m \u001b[38;5;66;03m# SHAP\u001b[39;00m\n\u001b[0;32m---> 18\u001b[0m explainer \u001b[38;5;241m=\u001b[39m \u001b[43mshap\u001b[49m\u001b[38;5;241;43m.\u001b[39;49m\u001b[43mKernelExplainer\u001b[49m\u001b[43m(\u001b[49m\u001b[43mpredict_wrapper\u001b[49m\u001b[43m,\u001b[49m\u001b[43m \u001b[49m\u001b[43mbaseline_shap\u001b[49m\u001b[43m)\u001b[49m\n\u001b[1;32m     19\u001b[0m shap_values \u001b[38;5;241m=\u001b[39m explainer\u001b[38;5;241m.\u001b[39mshap_values(test_2d, silent\u001b[38;5;241m=\u001b[39m\u001b[38;5;28;01mTrue\u001b[39;00m, nsamples\u001b[38;5;241m=\u001b[39m\u001b[38;5;241m3000\u001b[39m)\n\u001b[1;32m     20\u001b[0m shap_first \u001b[38;5;241m=\u001b[39m shap_values[\u001b[38;5;241m0\u001b[39m]\u001b[38;5;241m.\u001b[39mflatten()\n",
      "File \u001b[0;32m/opt/miniconda3/envs/timeshap_env/lib/python3.9/site-packages/shap/explainers/_kernel.py:69\u001b[0m, in \u001b[0;36mKernel.__init__\u001b[0;34m(self, model, data, link, **kwargs)\u001b[0m\n\u001b[1;32m     67\u001b[0m \u001b[38;5;28mself\u001b[39m\u001b[38;5;241m.\u001b[39mkeep_index_ordered \u001b[38;5;241m=\u001b[39m kwargs\u001b[38;5;241m.\u001b[39mget(\u001b[38;5;124m\"\u001b[39m\u001b[38;5;124mkeep_index_ordered\u001b[39m\u001b[38;5;124m\"\u001b[39m, \u001b[38;5;28;01mFalse\u001b[39;00m)\n\u001b[1;32m     68\u001b[0m \u001b[38;5;28mself\u001b[39m\u001b[38;5;241m.\u001b[39mdata \u001b[38;5;241m=\u001b[39m convert_to_data(data, keep_index\u001b[38;5;241m=\u001b[39m\u001b[38;5;28mself\u001b[39m\u001b[38;5;241m.\u001b[39mkeep_index)\n\u001b[0;32m---> 69\u001b[0m model_null \u001b[38;5;241m=\u001b[39m \u001b[43mmatch_model_to_data\u001b[49m\u001b[43m(\u001b[49m\u001b[38;5;28;43mself\u001b[39;49m\u001b[38;5;241;43m.\u001b[39;49m\u001b[43mmodel\u001b[49m\u001b[43m,\u001b[49m\u001b[43m \u001b[49m\u001b[38;5;28;43mself\u001b[39;49m\u001b[38;5;241;43m.\u001b[39;49m\u001b[43mdata\u001b[49m\u001b[43m)\u001b[49m\n\u001b[1;32m     71\u001b[0m \u001b[38;5;66;03m# enforce our current input type limitations\u001b[39;00m\n\u001b[1;32m     72\u001b[0m \u001b[38;5;28;01massert\u001b[39;00m \u001b[38;5;28misinstance\u001b[39m(\u001b[38;5;28mself\u001b[39m\u001b[38;5;241m.\u001b[39mdata, DenseData) \u001b[38;5;129;01mor\u001b[39;00m \u001b[38;5;28misinstance\u001b[39m(\u001b[38;5;28mself\u001b[39m\u001b[38;5;241m.\u001b[39mdata, SparseData), \\\n\u001b[1;32m     73\u001b[0m        \u001b[38;5;124m\"\u001b[39m\u001b[38;5;124mShap explainer only supports the DenseData and SparseData input currently.\u001b[39m\u001b[38;5;124m\"\u001b[39m\n",
      "File \u001b[0;32m/opt/miniconda3/envs/timeshap_env/lib/python3.9/site-packages/shap/utils/_legacy.py:112\u001b[0m, in \u001b[0;36mmatch_model_to_data\u001b[0;34m(model, data)\u001b[0m\n\u001b[1;32m    110\u001b[0m         out_val \u001b[38;5;241m=\u001b[39m model\u001b[38;5;241m.\u001b[39mf(data\u001b[38;5;241m.\u001b[39mconvert_to_df())\n\u001b[1;32m    111\u001b[0m     \u001b[38;5;28;01melse\u001b[39;00m:\n\u001b[0;32m--> 112\u001b[0m         out_val \u001b[38;5;241m=\u001b[39m \u001b[43mmodel\u001b[49m\u001b[38;5;241;43m.\u001b[39;49m\u001b[43mf\u001b[49m\u001b[43m(\u001b[49m\u001b[43mdata\u001b[49m\u001b[38;5;241;43m.\u001b[39;49m\u001b[43mdata\u001b[49m\u001b[43m)\u001b[49m\n\u001b[1;32m    113\u001b[0m \u001b[38;5;28;01mexcept\u001b[39;00m:\n\u001b[1;32m    114\u001b[0m     \u001b[38;5;28mprint\u001b[39m(\u001b[38;5;124m\"\u001b[39m\u001b[38;5;124mProvided model function fails when applied to the provided data set.\u001b[39m\u001b[38;5;124m\"\u001b[39m)\n",
      "Cell \u001b[0;32mIn[5], line 7\u001b[0m, in \u001b[0;36mpredict_wrapper\u001b[0;34m(X)\u001b[0m\n\u001b[1;32m      5\u001b[0m \u001b[38;5;28;01mdef\u001b[39;00m\u001b[38;5;250m \u001b[39m\u001b[38;5;21mpredict_wrapper\u001b[39m(X):\n\u001b[1;32m      6\u001b[0m     \u001b[38;5;66;03m# Create a new model that outputs both predictions and hidden states\u001b[39;00m\n\u001b[0;32m----> 7\u001b[0m     inputs \u001b[38;5;241m=\u001b[39m \u001b[43mlstm_model\u001b[49m\u001b[38;5;241;43m.\u001b[39;49m\u001b[43minput\u001b[49m\n\u001b[1;32m      8\u001b[0m     outputs \u001b[38;5;241m=\u001b[39m lstm_model\u001b[38;5;241m.\u001b[39moutput\n\u001b[1;32m      9\u001b[0m     hidden_states \u001b[38;5;241m=\u001b[39m [layer\u001b[38;5;241m.\u001b[39moutput \u001b[38;5;28;01mfor\u001b[39;00m layer \u001b[38;5;129;01min\u001b[39;00m lstm_model\u001b[38;5;241m.\u001b[39mlayers \u001b[38;5;28;01mif\u001b[39;00m \u001b[38;5;124m\"\u001b[39m\u001b[38;5;124mlstm\u001b[39m\u001b[38;5;124m\"\u001b[39m \u001b[38;5;129;01min\u001b[39;00m layer\u001b[38;5;241m.\u001b[39mname\u001b[38;5;241m.\u001b[39mlower()]\n",
      "File \u001b[0;32m/opt/miniconda3/envs/timeshap_env/lib/python3.9/site-packages/keras/src/ops/operation.py:254\u001b[0m, in \u001b[0;36mOperation.input\u001b[0;34m(self)\u001b[0m\n\u001b[1;32m    244\u001b[0m \u001b[38;5;129m@property\u001b[39m\n\u001b[1;32m    245\u001b[0m \u001b[38;5;28;01mdef\u001b[39;00m\u001b[38;5;250m \u001b[39m\u001b[38;5;21minput\u001b[39m(\u001b[38;5;28mself\u001b[39m):\n\u001b[1;32m    246\u001b[0m \u001b[38;5;250m    \u001b[39m\u001b[38;5;124;03m\"\"\"Retrieves the input tensor(s) of a symbolic operation.\u001b[39;00m\n\u001b[1;32m    247\u001b[0m \n\u001b[1;32m    248\u001b[0m \u001b[38;5;124;03m    Only returns the tensor(s) corresponding to the *first time*\u001b[39;00m\n\u001b[0;32m   (...)\u001b[0m\n\u001b[1;32m    252\u001b[0m \u001b[38;5;124;03m        Input tensor or list of input tensors.\u001b[39;00m\n\u001b[1;32m    253\u001b[0m \u001b[38;5;124;03m    \"\"\"\u001b[39;00m\n\u001b[0;32m--> 254\u001b[0m     \u001b[38;5;28;01mreturn\u001b[39;00m \u001b[38;5;28;43mself\u001b[39;49m\u001b[38;5;241;43m.\u001b[39;49m\u001b[43m_get_node_attribute_at_index\u001b[49m\u001b[43m(\u001b[49m\u001b[38;5;241;43m0\u001b[39;49m\u001b[43m,\u001b[49m\u001b[43m \u001b[49m\u001b[38;5;124;43m\"\u001b[39;49m\u001b[38;5;124;43minput_tensors\u001b[39;49m\u001b[38;5;124;43m\"\u001b[39;49m\u001b[43m,\u001b[49m\u001b[43m \u001b[49m\u001b[38;5;124;43m\"\u001b[39;49m\u001b[38;5;124;43minput\u001b[39;49m\u001b[38;5;124;43m\"\u001b[39;49m\u001b[43m)\u001b[49m\n",
      "File \u001b[0;32m/opt/miniconda3/envs/timeshap_env/lib/python3.9/site-packages/keras/src/ops/operation.py:285\u001b[0m, in \u001b[0;36mOperation._get_node_attribute_at_index\u001b[0;34m(self, node_index, attr, attr_name)\u001b[0m\n\u001b[1;32m    269\u001b[0m \u001b[38;5;250m\u001b[39m\u001b[38;5;124;03m\"\"\"Private utility to retrieves an attribute (e.g. inputs) from a node.\u001b[39;00m\n\u001b[1;32m    270\u001b[0m \n\u001b[1;32m    271\u001b[0m \u001b[38;5;124;03mThis is used to implement the properties:\u001b[39;00m\n\u001b[0;32m   (...)\u001b[0m\n\u001b[1;32m    282\u001b[0m \u001b[38;5;124;03m    The operation's attribute `attr` at the node of index `node_index`.\u001b[39;00m\n\u001b[1;32m    283\u001b[0m \u001b[38;5;124;03m\"\"\"\u001b[39;00m\n\u001b[1;32m    284\u001b[0m \u001b[38;5;28;01mif\u001b[39;00m \u001b[38;5;129;01mnot\u001b[39;00m \u001b[38;5;28mself\u001b[39m\u001b[38;5;241m.\u001b[39m_inbound_nodes:\n\u001b[0;32m--> 285\u001b[0m     \u001b[38;5;28;01mraise\u001b[39;00m \u001b[38;5;167;01mAttributeError\u001b[39;00m(\n\u001b[1;32m    286\u001b[0m         \u001b[38;5;124mf\u001b[39m\u001b[38;5;124m\"\u001b[39m\u001b[38;5;124mThe layer \u001b[39m\u001b[38;5;132;01m{\u001b[39;00m\u001b[38;5;28mself\u001b[39m\u001b[38;5;241m.\u001b[39mname\u001b[38;5;132;01m}\u001b[39;00m\u001b[38;5;124m has never been called \u001b[39m\u001b[38;5;124m\"\u001b[39m\n\u001b[1;32m    287\u001b[0m         \u001b[38;5;124mf\u001b[39m\u001b[38;5;124m\"\u001b[39m\u001b[38;5;124mand thus has no defined \u001b[39m\u001b[38;5;132;01m{\u001b[39;00mattr_name\u001b[38;5;132;01m}\u001b[39;00m\u001b[38;5;124m.\u001b[39m\u001b[38;5;124m\"\u001b[39m\n\u001b[1;32m    288\u001b[0m     )\n\u001b[1;32m    289\u001b[0m \u001b[38;5;28;01mif\u001b[39;00m \u001b[38;5;129;01mnot\u001b[39;00m \u001b[38;5;28mlen\u001b[39m(\u001b[38;5;28mself\u001b[39m\u001b[38;5;241m.\u001b[39m_inbound_nodes) \u001b[38;5;241m>\u001b[39m node_index:\n\u001b[1;32m    290\u001b[0m     \u001b[38;5;28;01mraise\u001b[39;00m \u001b[38;5;167;01mValueError\u001b[39;00m(\n\u001b[1;32m    291\u001b[0m         \u001b[38;5;124mf\u001b[39m\u001b[38;5;124m\"\u001b[39m\u001b[38;5;124mAsked to get \u001b[39m\u001b[38;5;132;01m{\u001b[39;00mattr_name\u001b[38;5;132;01m}\u001b[39;00m\u001b[38;5;124m at node \u001b[39m\u001b[38;5;124m\"\u001b[39m\n\u001b[1;32m    292\u001b[0m         \u001b[38;5;124mf\u001b[39m\u001b[38;5;124m\"\u001b[39m\u001b[38;5;132;01m{\u001b[39;00mnode_index\u001b[38;5;132;01m}\u001b[39;00m\u001b[38;5;124m, but the operation has only \u001b[39m\u001b[38;5;124m\"\u001b[39m\n\u001b[1;32m    293\u001b[0m         \u001b[38;5;124mf\u001b[39m\u001b[38;5;124m\"\u001b[39m\u001b[38;5;132;01m{\u001b[39;00m\u001b[38;5;28mlen\u001b[39m(\u001b[38;5;28mself\u001b[39m\u001b[38;5;241m.\u001b[39m_inbound_nodes)\u001b[38;5;132;01m}\u001b[39;00m\u001b[38;5;124m inbound nodes.\u001b[39m\u001b[38;5;124m\"\u001b[39m\n\u001b[1;32m    294\u001b[0m     )\n",
      "\u001b[0;31mAttributeError\u001b[0m: The layer sequential_1 has never been called and thus has no defined input."
     ]
    }
   ],
   "source": [
    "correlations_event_hs = compute_correlations(synthetic_test_data, baseline_shap_synth, baseline_timeshap_synth, \"Synthetic Background\", mode=\"event\", pruned_idx=0, reverse=True)"
   ]
  },
  {
   "cell_type": "markdown",
   "metadata": {},
   "source": [
    "### Test with synthetic data"
   ]
  },
  {
   "cell_type": "code",
   "execution_count": 43,
   "metadata": {},
   "outputs": [],
   "source": [
    "# Generate synthetic test data with noise in pre-drop period\n",
    "def generate_synthetic_sequences(n_seq=20, length=120, noise_std=0.1):\n",
    "    sequences = np.zeros((n_seq, length, 1))\n",
    "    for i in range(n_seq):\n",
    "        # Noisy constant capacity before drop\n",
    "        sequences[i, :60, 0] = 0.9 + np.random.normal(0, noise_std, 60)\n",
    "        # Linear decline after drop with noise\n",
    "        sequences[i, 60:, 0] = np.linspace(0.9, 0.1, 60) + np.random.normal(0, noise_std, 60)\n",
    "    return sequences\n",
    "\n",
    "# Generate synthetic background with wider drop range\n",
    "def generate_synthetic_background(n_seq=50, length=120, drop_range=(20, 100), noise_std=0.1):\n",
    "    sequences = np.zeros((n_seq, length, 1))\n",
    "    drop_points = []\n",
    "    for i in range(n_seq):\n",
    "        drop_point = np.random.randint(drop_range[0], drop_range[1])\n",
    "        drop_points.append(drop_point)\n",
    "        # Noisy constant capacity before drop\n",
    "        sequences[i, :drop_point, 0] = 0.9 + np.random.normal(0, noise_std, drop_point)\n",
    "        # Linear decline after drop with noise, ensuring continuity\n",
    "        post_drop_length = length - drop_point\n",
    "        linear_part = np.linspace(0.9, 0.1, post_drop_length)\n",
    "        noise = np.random.normal(0, noise_std, post_drop_length)\n",
    "        sequences[i, drop_point:, 0] = linear_part + noise\n",
    "    return sequences\n",
    "\n",
    "# Generate synthetic test and background data\n",
    "synthetic_test_data = generate_synthetic_sequences()\n",
    "synthetic_background = generate_synthetic_background()\n",
    "\n",
    "# Update the baseline for SHAP and TimeSHAP\n",
    "baseline_shap = synthetic_background.reshape(50, 120)  # Shape: (50, 120)\n",
    "baseline_timeshap = synthetic_background  # Shape: (50, 120, 1)"
   ]
  }
 ],
 "metadata": {
  "kernelspec": {
   "display_name": "timeshap_env",
   "language": "python",
   "name": "python3"
  },
  "language_info": {
   "codemirror_mode": {
    "name": "ipython",
    "version": 3
   },
   "file_extension": ".py",
   "mimetype": "text/x-python",
   "name": "python",
   "nbconvert_exporter": "python",
   "pygments_lexer": "ipython3",
   "version": "3.9.21"
  }
 },
 "nbformat": 4,
 "nbformat_minor": 2
}
