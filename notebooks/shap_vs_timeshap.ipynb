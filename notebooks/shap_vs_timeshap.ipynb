{
 "cells": [
  {
   "cell_type": "code",
   "execution_count": 9,
   "metadata": {},
   "outputs": [],
   "source": [
    "# Set root directory of the project as the current working directory\n",
    "import os\n",
    "initial_dir = os.getcwd()  # Save initial directory (notebooks/)\n",
    "os.chdir('..')  # Move to project/\n",
    "\n",
    "# Import Config from config.defaults and load_preprocessed_data, train_lstm_model, train_cnn_model from src.models\n",
    "from config.defaults import Config\n",
    "from src.models import load_preprocessed_data, load_saved_model\n",
    "\n",
    "# Load the default configuration\n",
    "config = Config()\n",
    "\n",
    "import plotly.graph_objects as go\n",
    "import numpy as np\n",
    "import shap"
   ]
  },
  {
   "cell_type": "code",
   "execution_count": 2,
   "metadata": {},
   "outputs": [
    {
     "name": "stderr",
     "output_type": "stream",
     "text": [
      "2025-03-07 09:45:27,472 - INFO - Loaded preprocessed data and metadata for lstm_regression with EOL 0.65\n",
      "2025-03-07 09:45:27,731 - INFO - Loaded saved best LSTM model from experiments/models/lstm_regression_eol65_20250306_090920_best.keras\n"
     ]
    }
   ],
   "source": [
    "# Load preprocessed data\n",
    "model_task = \"lstm_regression\"\n",
    "\n",
    "X_train, X_val, X_test, y_train_reg, y_val_reg, y_test_reg, metadata = load_preprocessed_data(model_task = model_task, eol_capacity=config.eol_capacity)\n",
    "\n",
    "# Load the trained model\n",
    "lstm_model = load_saved_model(model_task = model_task, config = config)"
   ]
  },
  {
   "cell_type": "code",
   "execution_count": 28,
   "metadata": {},
   "outputs": [],
   "source": [
    "# Prediction function\n",
    "f = lambda x: lstm_model.predict(x)\n",
    "\n",
    "# Prepare background and baseline\n",
    "background_2d = X_train.reshape(X_train.shape[0], -1)[:50]  # Shape: (50, 120)\n",
    "data_2d = X_train.squeeze(axis=-1)  # Shape: (n_train, 120)\n",
    "mean_per_timestep = np.mean(data_2d, axis=0)  # Shape: (120,)\n",
    "baseline_sequence = mean_per_timestep.reshape(1, 120, 1)  # Shape: (1, 120, 1)"
   ]
  },
  {
   "cell_type": "markdown",
   "metadata": {},
   "source": [
    "## SHAP"
   ]
  },
  {
   "cell_type": "code",
   "execution_count": 29,
   "metadata": {},
   "outputs": [],
   "source": [
    "# Compute correlations for multiple sequences\n",
    "n_sequences = 10  # Number of sequences to test\n",
    "seq_indices = np.random.randint(0, len(X_test), size=n_sequences)\n",
    "correlations = []"
   ]
  },
  {
   "cell_type": "code",
   "execution_count": 31,
   "metadata": {},
   "outputs": [],
   "source": [
    "# Create a wrapper for the model's predict function\n",
    "def predict_wrapper(X):\n",
    "    # Reshape X from (n, 120) to (n, 120, 1)\n",
    "    return lstm_model.predict(X.reshape(-1, 120, 1))"
   ]
  },
  {
   "cell_type": "code",
   "execution_count": 32,
   "metadata": {},
   "outputs": [
    {
     "name": "stdout",
     "output_type": "stream",
     "text": [
      "\u001b[1m2/2\u001b[0m \u001b[32m━━━━━━━━━━━━━━━━━━━━\u001b[0m\u001b[37m\u001b[0m \u001b[1m0s\u001b[0m 12ms/step\n"
     ]
    },
    {
     "data": {
      "application/vnd.jupyter.widget-view+json": {
       "model_id": "aacd7a5028754274a86bb8b35bcfece6",
       "version_major": 2,
       "version_minor": 0
      },
      "text/plain": [
       "  0%|          | 0/1 [00:00<?, ?it/s]"
      ]
     },
     "metadata": {},
     "output_type": "display_data"
    },
    {
     "name": "stdout",
     "output_type": "stream",
     "text": [
      "\u001b[1m1/1\u001b[0m \u001b[32m━━━━━━━━━━━━━━━━━━━━\u001b[0m\u001b[37m\u001b[0m \u001b[1m0s\u001b[0m 98ms/step\n"
     ]
    },
    {
     "name": "stderr",
     "output_type": "stream",
     "text": [
      "2025-03-07 10:55:41,326 - INFO - num_full_subsets = 1\n",
      "2025-03-07 10:55:41,327 - INFO - remaining_weight_vector = [0.11638774 0.07825501 0.05919721 0.04776958 0.04015718 0.03472504\n",
      " 0.0306557  0.027495   0.02497046 0.02290868 0.02119406 0.01974659\n",
      " 0.0185091  0.01743969 0.01650692 0.01568675 0.01496052 0.01431345\n",
      " 0.01373375 0.01321188 0.01274003 0.01231175 0.01192166 0.01156527\n",
      " 0.01123875 0.01093887 0.01066285 0.0104083  0.01017315 0.0099556\n",
      " 0.00975409 0.00956723 0.00939381 0.00923278 0.00908317 0.00894416\n",
      " 0.00881499 0.008695   0.0085836  0.00848024 0.00838447 0.00829583\n",
      " 0.00821397 0.00813852 0.00806919 0.00800569 0.00794777 0.00789523\n",
      " 0.00784786 0.00780549 0.00776796 0.00773515 0.00770693 0.00768322\n",
      " 0.00766393 0.00764899 0.00763835 0.00763198 0.00762986]\n",
      "2025-03-07 10:55:41,328 - INFO - num_paired_subset_sizes = 59\n",
      "2025-03-07 10:55:41,368 - INFO - weight_left = 0.8118838194333013\n"
     ]
    },
    {
     "name": "stdout",
     "output_type": "stream",
     "text": [
      "\u001b[1m3575/3575\u001b[0m \u001b[32m━━━━━━━━━━━━━━━━━━━━\u001b[0m\u001b[37m\u001b[0m \u001b[1m14s\u001b[0m 4ms/step\n"
     ]
    },
    {
     "name": "stderr",
     "output_type": "stream",
     "text": [
      "2025-03-07 10:55:55,825 - INFO - np.sum(w_aug) = 120.0\n",
      "2025-03-07 10:55:55,825 - INFO - np.sum(self.kernelWeights) = 1.0\n",
      "2025-03-07 10:55:55,937 - INFO - phi = [ 0.00467773  0.          0.          0.         -0.01053442 -0.00455517\n",
      " -0.00598801  0.0092944   0.01017007  0.00533929  0.         -0.01847657\n",
      "  0.01143791  0.0097805  -0.00197135 -0.01429604  0.00967907 -0.00930889\n",
      "  0.          0.         -0.01008252 -0.00856077  0.          0.01276788\n",
      " -0.011874   -0.00720954 -0.00363226  0.         -0.00577749  0.00338211\n",
      " -0.0050582   0.00604163  0.          0.          0.         -0.00521419\n",
      " -0.00392798  0.          0.00757059  0.          0.          0.00488395\n",
      " -0.01155851 -0.003911    0.01107535  0.00752652 -0.00501995  0.00493763\n",
      "  0.          0.00415648  0.00762695  0.00547227 -0.00587844  0.01263062\n",
      " -0.00578543  0.00472871  0.         -0.00465973  0.00601205  0.01457036\n",
      "  0.          0.01190711 -0.00191414 -0.00788876  0.         -0.00630956\n",
      "  0.00653783  0.00409247  0.01178482 -0.0030611   0.         -0.00419157\n",
      "  0.00578518  0.          0.          0.00261335  0.00258659  0.\n",
      " -0.00516306  0.00415856  0.00237498 -0.00695098  0.          0.\n",
      "  0.00483058  0.01228503  0.0093121   0.         -0.00912252  0.\n",
      "  0.          0.00452663  0.          0.          0.00323476 -0.00262166\n",
      " -0.00948748 -0.00850136  0.         -0.00774428 -0.01581297  0.\n",
      "  0.01128891  0.         -0.00400378  0.01876661  0.01486384  0.02146204\n",
      "  0.02357333  0.02633477  0.02675852  0.01585227  0.03816164  0.\n",
      " -0.03689798 -0.05208784 -0.07176893 -0.12792765 -0.16186806 -0.12608347]\n"
     ]
    },
    {
     "name": "stdout",
     "output_type": "stream",
     "text": [
      "\u001b[1m1/1\u001b[0m \u001b[32m━━━━━━━━━━━━━━━━━━━━\u001b[0m\u001b[37m\u001b[0m \u001b[1m0s\u001b[0m 17ms/step\n",
      "\u001b[1m1/1\u001b[0m \u001b[32m━━━━━━━━━━━━━━━━━━━━\u001b[0m\u001b[37m\u001b[0m \u001b[1m0s\u001b[0m 25ms/step\n"
     ]
    },
    {
     "name": "stderr",
     "output_type": "stream",
     "text": [
      "2025-03-07 10:55:56,044 - INFO - num_full_subsets = 1\n",
      "2025-03-07 10:55:56,046 - INFO - remaining_weight_vector = [0.11638774 0.07825501 0.05919721 0.04776958 0.04015718 0.03472504\n",
      " 0.0306557  0.027495   0.02497046 0.02290868 0.02119406 0.01974659\n",
      " 0.0185091  0.01743969 0.01650692 0.01568675 0.01496052 0.01431345\n",
      " 0.01373375 0.01321188 0.01274003 0.01231175 0.01192166 0.01156527\n",
      " 0.01123875 0.01093887 0.01066285 0.0104083  0.01017315 0.0099556\n",
      " 0.00975409 0.00956723 0.00939381 0.00923278 0.00908317 0.00894416\n",
      " 0.00881499 0.008695   0.0085836  0.00848024 0.00838447 0.00829583\n",
      " 0.00821397 0.00813852 0.00806919 0.00800569 0.00794777 0.00789523\n",
      " 0.00784786 0.00780549 0.00776796 0.00773515 0.00770693 0.00768322\n",
      " 0.00766393 0.00764899 0.00763835 0.00763198 0.00762986]\n",
      "2025-03-07 10:55:56,046 - INFO - num_paired_subset_sizes = 59\n",
      "2025-03-07 10:55:56,163 - INFO - weight_left = 0.8118838194333013\n"
     ]
    },
    {
     "name": "stdout",
     "output_type": "stream",
     "text": [
      "\u001b[1m313/313\u001b[0m \u001b[32m━━━━━━━━━━━━━━━━━━━━\u001b[0m\u001b[37m\u001b[0m \u001b[1m1s\u001b[0m 4ms/step\n"
     ]
    },
    {
     "name": "stderr",
     "output_type": "stream",
     "text": [
      "2025-03-07 10:55:57,538 - INFO - np.sum(w_aug) = 120.00000000000001\n",
      "2025-03-07 10:55:57,538 - INFO - np.sum(self.kernelWeights) = 0.9999999999999999\n",
      "2025-03-07 10:55:57,708 - INFO - phi = [-0.11217801 -0.09392918 -0.0758166  -0.05433818 -0.03794048 -0.01889836\n",
      " -0.00400327  0.01094827  0.01594972  0.02004861  0.01847769  0.00628787\n",
      "  0.00857248  0.00765298  0.00730804  0.          0.         -0.00228182\n",
      " -0.00888257 -0.00312139  0.         -0.00234827  0.          0.\n",
      "  0.00255808  0.          0.          0.          0.00608665  0.\n",
      "  0.00730806 -0.00184299 -0.00576404  0.          0.00274179  0.\n",
      "  0.          0.          0.          0.         -0.00214786  0.00235482\n",
      "  0.          0.          0.          0.         -0.00223236  0.\n",
      "  0.          0.          0.         -0.00295323  0.          0.00201248\n",
      "  0.          0.          0.          0.          0.          0.\n",
      "  0.          0.          0.         -0.00570993  0.          0.\n",
      " -0.00455896  0.          0.         -0.00205011  0.00228763  0.\n",
      "  0.00196178 -0.002957    0.          0.          0.00408157  0.\n",
      "  0.          0.00319701  0.          0.00227844  0.00304111  0.\n",
      " -0.00362889  0.          0.          0.          0.          0.00476275\n",
      "  0.00381184  0.00447527  0.00362075 -0.00228589  0.          0.\n",
      "  0.00386154  0.          0.          0.00404704 -0.00387016  0.\n",
      "  0.00231877  0.          0.          0.002589   -0.00527595  0.\n",
      "  0.         -0.00471021  0.00629666 -0.00325157  0.          0.\n",
      "  0.          0.          0.00225931  0.          0.00163049  0.        ]\n"
     ]
    },
    {
     "name": "stdout",
     "output_type": "stream",
     "text": [
      "Correlation for sequence 272: 0.9343\n"
     ]
    },
    {
     "data": {
      "application/vnd.plotly.v1+json": {
       "config": {
        "plotlyServerURL": "https://plot.ly"
       },
       "data": [
        {
         "line": {
          "color": "blue"
         },
         "mode": "lines+markers",
         "name": "SHAP",
         "type": "scatter",
         "x": {
          "bdata": "AAECAwQFBgcICQoLDA0ODxAREhMUFRYXGBkaGxwdHh8gISIjJCUmJygpKissLS4vMDEyMzQ1Njc4OTo7PD0+P0BBQkNERUZHSElKS0xNTk9QUVJTVFVWV1hZWltcXV5fYGFiY2RlZmdoaWprbG1ub3BxcnN0dXZ3",
          "dtype": "i1"
         },
         "y": {
          "bdata": "lI7C1PQocz8AAAAAAAAAAAAAAAAAAAAAAAAAAAAAAAB4VUZFEZOFvx0bz/VxqHK/23I/5eGGeL8sRzTg8AiDPxm4EP0L1IQ/4Y7iTqfedT8AAAAAAAAAAAxMUFeF65K/BEmCs8Fshz/sAG4uzAeEP4XZh6o4JmC/5lcVqT1Hjb86Njs2n9KDP6qRcNCJEIO/AAAAAAAAAAAAAAAAAAAAAHbgiAElpoS/lvdC606Igb8AAAAAAAAAAFnoEtkLJoo/63dAp2VRiL/c7Ol0v4d9v7dU/KllwW2/AAAAAAAAAAB+me60Iqp3vyWklbjNtGs/ZyJbYem3dL9pNqteG794PwAAAAAAAAAAAAAAAAAAAAAAAAAAAAAAABp3CyZ6W3W/jJQWT8gWcL8AAAAAAAAAAH/ujCZXAn8/AAAAAAAAAAAAAAAAAAAAAGtYs5sxAXQ//lQNYPyrh7+79Mz0+QRwv3pFZHesroY/UMmhJyHUfj9RV8O4y490v4J/VPR7OXQ/AAAAAAAAAABAEV+7YgZxP2Sa1eVvPX8/mG/xBBZqdj+bEMWh/hN4v9ri+rMU3ok/PkwJWXeyd79v17ucal5zPwAAAAAAAAAA1aV0JhQWc79+nEmkFqB4P819Mi4R140/AAAAAAAAAAA9d8jnwWKIPx+/UWF3XF+/CpQUnfsngL8AAAAAAAAAAGOq4F8M2Hm/PILpPGnHej8pGzu9Q8NwP1OPVkekIog/26sBUZUTab8AAAAAAAAAAFAAnCsvK3G/b+lZcDKydz8AAAAAAAAAAAAAAAAAAAAALl/tcZZoZT+T2Q1XeTBlPwAAAAAAAAAACa+cAtwldb/ujmthkAhxPwQcdKivdGM/uc1EDKJ4fL8AAAAAAAAAAAAAAAAAAAAAmwXu5DvJcz9uxaOV5CiJP7TnBjw5EoM/AAAAAAAAAAB81Bru066CvwAAAAAAAAAAAAAAAAAAAAAsc5cahIpyPwAAAAAAAAAAAAAAAAAAAADZbia8xn9qPx15or4CemW/W8liqCxug7+Hk1hfKWmBvwAAAAAAAAAAdYq/6He4f7/cHIk5RjGQvwAAAAAAAAAAHKIIAqQehz8AAAAAAAAAAMADQ+5DZnC/cNcHyI03kz+46+Ff73COPx1A8WQl+pU/gGMieZsjmD8GmXRigPeaP8zz/d+VZps/oq7/7JM7kD+kB4Yc7ImjPwAAAAAAAAAAThxtqErkor+v7Cj2Qauqv4ALX8ZyX7K/C2Lg8u5fwL+aUh65F7jEv+/h7dKAI8C/",
          "dtype": "f8"
         }
        },
        {
         "line": {
          "color": "red"
         },
         "mode": "lines+markers",
         "name": "TimeSHAP",
         "type": "scatter",
         "x": {
          "bdata": "AAECAwQFBgcICQoLDA0ODxAREhMUFRYXGBkaGxwdHh8gISIjJCUmJygpKissLS4vMDEyMzQ1Njc4OTo7PD0+P0BBQkNERUZHSElKS0xNTk9QUVJTVFVWV1hZWltcXV5fYGFiY2RlZmdoaWprbG1ub3BxcnN0dXZ3",
          "dtype": "i1"
         },
         "y": {
          "bdata": "AAAAAAAAAAAAnm6LyLZaPwAAAAAAAAAAwAwbix6CYj8AAAAAAAAAAAAAAAAAAAAAAAAAAAAAAAAAAAAAAAAAAECHZ+8Ho2q/ANXBq4fKeT+gL1NABEtzvwAAAAAAAAAAAAAAAAAAAACAWIIPPJx1vwCuZY6HNWU/AAAAAAAAAAAAAAAAAAAAAOCPZufO/mI/AAAAAAAAAACA5K5EUrRvv4CJr2qhk3A/AAAAAAAAAAAAAAAAAAAAAAAYj7A7om8/AAAAAAAAAAAAAAAAAAAAAEAXTorauWK/gEnV6USpbT8AEhzkqVRyP4CawQYDOm8/ABN00xmCcz8AAAAAAAAAAAAAAAAAAAAAAAAAAAAAAAAAAAAAAAAAAACwxcdTum2/AAAAAAAAAABAcVLKqeloP8AdwKc6qmI/AAAAAAAAAAAAdZOVnjBqPwAAAAAAAAAAAAAAAAAAAACAtPM81rdwPwAAAAAAAAAAAAAAAAAAAABAluwaSDlov0DUKDYnEmA/AAAAAAAAAADAhhNrhL1iP8Bm9fpmy2C/AAAAAAAAAAAAAAAAAAAAAKC4owprrHK/AAAAAAAAAAAAAAAAAAAAAKAGsoxKY3e/AAAAAAAAAAAAAAAAAAAAAAAAAAAAAAAAAAAAAAAAAAAAAAAAAAAAAAAAAAAAAAAAAAAAAAAAAAAAAAAAAAAAAAAAAAAAAAAAQAo5w3h8YD8AAAAAAAAAAIAcVhxfMWi/AAAAAAAAAAAAAAAAAAAAAAAAAAAAAAAAAAAAAAAAAAAAnwXAm0livwAAAAAAAAAAAAAAAAAAAAAAAAAAAAAAAAAAAAAAAAAAwCuRPmtKYz/AjfeEYphhvwAAAAAAAAAAAAAAAAAAAAAAAAAAAAAAAAAAAAAAAAAAAAAAAAAAAABA696u83VmPwAAAAAAAAAAADcPGQmcd78ApqTODzJev4AjdAkP730/AAAAAAAAAABg/HMeUO54PwAAAAAAAAAAAAAAAAAAAAAAAAAAAAAAAIAsQVqx9GQ/AAAAAAAAAAAAAAAAAAAAAMBqymOtPGO/AAAAAAAAAADAViWbCZJpv7B2AEIGMYK/AEfaElOxYr8AAAAAAAAAAAAAAAAAAAAAYEXzIwnvfT+gO2+AvFh/P0DLNHZyjoE/YAKOZ0/BeT9oKRK80OuSPzhmFEyfh5Q/WBta2h9VkD+AvjXoC2yGPwAwx0i8ZXC/6JM6mxdak79swAIy72yjvzCcgJs20qu/qkDxcbdos78matQnvgu4v0zdXMGyt7y/",
          "dtype": "f8"
         }
        }
       ],
       "layout": {
        "shapes": [
         {
          "line": {
           "color": "gray",
           "dash": "dash"
          },
          "type": "line",
          "x0": 0,
          "x1": 1,
          "xref": "x domain",
          "y0": 0,
          "y1": 0,
          "yref": "y"
         }
        ],
        "template": {
         "data": {
          "bar": [
           {
            "error_x": {
             "color": "#2a3f5f"
            },
            "error_y": {
             "color": "#2a3f5f"
            },
            "marker": {
             "line": {
              "color": "white",
              "width": 0.5
             },
             "pattern": {
              "fillmode": "overlay",
              "size": 10,
              "solidity": 0.2
             }
            },
            "type": "bar"
           }
          ],
          "barpolar": [
           {
            "marker": {
             "line": {
              "color": "white",
              "width": 0.5
             },
             "pattern": {
              "fillmode": "overlay",
              "size": 10,
              "solidity": 0.2
             }
            },
            "type": "barpolar"
           }
          ],
          "carpet": [
           {
            "aaxis": {
             "endlinecolor": "#2a3f5f",
             "gridcolor": "#C8D4E3",
             "linecolor": "#C8D4E3",
             "minorgridcolor": "#C8D4E3",
             "startlinecolor": "#2a3f5f"
            },
            "baxis": {
             "endlinecolor": "#2a3f5f",
             "gridcolor": "#C8D4E3",
             "linecolor": "#C8D4E3",
             "minorgridcolor": "#C8D4E3",
             "startlinecolor": "#2a3f5f"
            },
            "type": "carpet"
           }
          ],
          "choropleth": [
           {
            "colorbar": {
             "outlinewidth": 0,
             "ticks": ""
            },
            "type": "choropleth"
           }
          ],
          "contour": [
           {
            "colorbar": {
             "outlinewidth": 0,
             "ticks": ""
            },
            "colorscale": [
             [
              0,
              "#0d0887"
             ],
             [
              0.1111111111111111,
              "#46039f"
             ],
             [
              0.2222222222222222,
              "#7201a8"
             ],
             [
              0.3333333333333333,
              "#9c179e"
             ],
             [
              0.4444444444444444,
              "#bd3786"
             ],
             [
              0.5555555555555556,
              "#d8576b"
             ],
             [
              0.6666666666666666,
              "#ed7953"
             ],
             [
              0.7777777777777778,
              "#fb9f3a"
             ],
             [
              0.8888888888888888,
              "#fdca26"
             ],
             [
              1,
              "#f0f921"
             ]
            ],
            "type": "contour"
           }
          ],
          "contourcarpet": [
           {
            "colorbar": {
             "outlinewidth": 0,
             "ticks": ""
            },
            "type": "contourcarpet"
           }
          ],
          "heatmap": [
           {
            "colorbar": {
             "outlinewidth": 0,
             "ticks": ""
            },
            "colorscale": [
             [
              0,
              "#0d0887"
             ],
             [
              0.1111111111111111,
              "#46039f"
             ],
             [
              0.2222222222222222,
              "#7201a8"
             ],
             [
              0.3333333333333333,
              "#9c179e"
             ],
             [
              0.4444444444444444,
              "#bd3786"
             ],
             [
              0.5555555555555556,
              "#d8576b"
             ],
             [
              0.6666666666666666,
              "#ed7953"
             ],
             [
              0.7777777777777778,
              "#fb9f3a"
             ],
             [
              0.8888888888888888,
              "#fdca26"
             ],
             [
              1,
              "#f0f921"
             ]
            ],
            "type": "heatmap"
           }
          ],
          "histogram": [
           {
            "marker": {
             "pattern": {
              "fillmode": "overlay",
              "size": 10,
              "solidity": 0.2
             }
            },
            "type": "histogram"
           }
          ],
          "histogram2d": [
           {
            "colorbar": {
             "outlinewidth": 0,
             "ticks": ""
            },
            "colorscale": [
             [
              0,
              "#0d0887"
             ],
             [
              0.1111111111111111,
              "#46039f"
             ],
             [
              0.2222222222222222,
              "#7201a8"
             ],
             [
              0.3333333333333333,
              "#9c179e"
             ],
             [
              0.4444444444444444,
              "#bd3786"
             ],
             [
              0.5555555555555556,
              "#d8576b"
             ],
             [
              0.6666666666666666,
              "#ed7953"
             ],
             [
              0.7777777777777778,
              "#fb9f3a"
             ],
             [
              0.8888888888888888,
              "#fdca26"
             ],
             [
              1,
              "#f0f921"
             ]
            ],
            "type": "histogram2d"
           }
          ],
          "histogram2dcontour": [
           {
            "colorbar": {
             "outlinewidth": 0,
             "ticks": ""
            },
            "colorscale": [
             [
              0,
              "#0d0887"
             ],
             [
              0.1111111111111111,
              "#46039f"
             ],
             [
              0.2222222222222222,
              "#7201a8"
             ],
             [
              0.3333333333333333,
              "#9c179e"
             ],
             [
              0.4444444444444444,
              "#bd3786"
             ],
             [
              0.5555555555555556,
              "#d8576b"
             ],
             [
              0.6666666666666666,
              "#ed7953"
             ],
             [
              0.7777777777777778,
              "#fb9f3a"
             ],
             [
              0.8888888888888888,
              "#fdca26"
             ],
             [
              1,
              "#f0f921"
             ]
            ],
            "type": "histogram2dcontour"
           }
          ],
          "mesh3d": [
           {
            "colorbar": {
             "outlinewidth": 0,
             "ticks": ""
            },
            "type": "mesh3d"
           }
          ],
          "parcoords": [
           {
            "line": {
             "colorbar": {
              "outlinewidth": 0,
              "ticks": ""
             }
            },
            "type": "parcoords"
           }
          ],
          "pie": [
           {
            "automargin": true,
            "type": "pie"
           }
          ],
          "scatter": [
           {
            "fillpattern": {
             "fillmode": "overlay",
             "size": 10,
             "solidity": 0.2
            },
            "type": "scatter"
           }
          ],
          "scatter3d": [
           {
            "line": {
             "colorbar": {
              "outlinewidth": 0,
              "ticks": ""
             }
            },
            "marker": {
             "colorbar": {
              "outlinewidth": 0,
              "ticks": ""
             }
            },
            "type": "scatter3d"
           }
          ],
          "scattercarpet": [
           {
            "marker": {
             "colorbar": {
              "outlinewidth": 0,
              "ticks": ""
             }
            },
            "type": "scattercarpet"
           }
          ],
          "scattergeo": [
           {
            "marker": {
             "colorbar": {
              "outlinewidth": 0,
              "ticks": ""
             }
            },
            "type": "scattergeo"
           }
          ],
          "scattergl": [
           {
            "marker": {
             "colorbar": {
              "outlinewidth": 0,
              "ticks": ""
             }
            },
            "type": "scattergl"
           }
          ],
          "scattermap": [
           {
            "marker": {
             "colorbar": {
              "outlinewidth": 0,
              "ticks": ""
             }
            },
            "type": "scattermap"
           }
          ],
          "scattermapbox": [
           {
            "marker": {
             "colorbar": {
              "outlinewidth": 0,
              "ticks": ""
             }
            },
            "type": "scattermapbox"
           }
          ],
          "scatterpolar": [
           {
            "marker": {
             "colorbar": {
              "outlinewidth": 0,
              "ticks": ""
             }
            },
            "type": "scatterpolar"
           }
          ],
          "scatterpolargl": [
           {
            "marker": {
             "colorbar": {
              "outlinewidth": 0,
              "ticks": ""
             }
            },
            "type": "scatterpolargl"
           }
          ],
          "scatterternary": [
           {
            "marker": {
             "colorbar": {
              "outlinewidth": 0,
              "ticks": ""
             }
            },
            "type": "scatterternary"
           }
          ],
          "surface": [
           {
            "colorbar": {
             "outlinewidth": 0,
             "ticks": ""
            },
            "colorscale": [
             [
              0,
              "#0d0887"
             ],
             [
              0.1111111111111111,
              "#46039f"
             ],
             [
              0.2222222222222222,
              "#7201a8"
             ],
             [
              0.3333333333333333,
              "#9c179e"
             ],
             [
              0.4444444444444444,
              "#bd3786"
             ],
             [
              0.5555555555555556,
              "#d8576b"
             ],
             [
              0.6666666666666666,
              "#ed7953"
             ],
             [
              0.7777777777777778,
              "#fb9f3a"
             ],
             [
              0.8888888888888888,
              "#fdca26"
             ],
             [
              1,
              "#f0f921"
             ]
            ],
            "type": "surface"
           }
          ],
          "table": [
           {
            "cells": {
             "fill": {
              "color": "#EBF0F8"
             },
             "line": {
              "color": "white"
             }
            },
            "header": {
             "fill": {
              "color": "#C8D4E3"
             },
             "line": {
              "color": "white"
             }
            },
            "type": "table"
           }
          ]
         },
         "layout": {
          "annotationdefaults": {
           "arrowcolor": "#2a3f5f",
           "arrowhead": 0,
           "arrowwidth": 1
          },
          "autotypenumbers": "strict",
          "coloraxis": {
           "colorbar": {
            "outlinewidth": 0,
            "ticks": ""
           }
          },
          "colorscale": {
           "diverging": [
            [
             0,
             "#8e0152"
            ],
            [
             0.1,
             "#c51b7d"
            ],
            [
             0.2,
             "#de77ae"
            ],
            [
             0.3,
             "#f1b6da"
            ],
            [
             0.4,
             "#fde0ef"
            ],
            [
             0.5,
             "#f7f7f7"
            ],
            [
             0.6,
             "#e6f5d0"
            ],
            [
             0.7,
             "#b8e186"
            ],
            [
             0.8,
             "#7fbc41"
            ],
            [
             0.9,
             "#4d9221"
            ],
            [
             1,
             "#276419"
            ]
           ],
           "sequential": [
            [
             0,
             "#0d0887"
            ],
            [
             0.1111111111111111,
             "#46039f"
            ],
            [
             0.2222222222222222,
             "#7201a8"
            ],
            [
             0.3333333333333333,
             "#9c179e"
            ],
            [
             0.4444444444444444,
             "#bd3786"
            ],
            [
             0.5555555555555556,
             "#d8576b"
            ],
            [
             0.6666666666666666,
             "#ed7953"
            ],
            [
             0.7777777777777778,
             "#fb9f3a"
            ],
            [
             0.8888888888888888,
             "#fdca26"
            ],
            [
             1,
             "#f0f921"
            ]
           ],
           "sequentialminus": [
            [
             0,
             "#0d0887"
            ],
            [
             0.1111111111111111,
             "#46039f"
            ],
            [
             0.2222222222222222,
             "#7201a8"
            ],
            [
             0.3333333333333333,
             "#9c179e"
            ],
            [
             0.4444444444444444,
             "#bd3786"
            ],
            [
             0.5555555555555556,
             "#d8576b"
            ],
            [
             0.6666666666666666,
             "#ed7953"
            ],
            [
             0.7777777777777778,
             "#fb9f3a"
            ],
            [
             0.8888888888888888,
             "#fdca26"
            ],
            [
             1,
             "#f0f921"
            ]
           ]
          },
          "colorway": [
           "#636efa",
           "#EF553B",
           "#00cc96",
           "#ab63fa",
           "#FFA15A",
           "#19d3f3",
           "#FF6692",
           "#B6E880",
           "#FF97FF",
           "#FECB52"
          ],
          "font": {
           "color": "#2a3f5f"
          },
          "geo": {
           "bgcolor": "white",
           "lakecolor": "white",
           "landcolor": "white",
           "showlakes": true,
           "showland": true,
           "subunitcolor": "#C8D4E3"
          },
          "hoverlabel": {
           "align": "left"
          },
          "hovermode": "closest",
          "mapbox": {
           "style": "light"
          },
          "paper_bgcolor": "white",
          "plot_bgcolor": "white",
          "polar": {
           "angularaxis": {
            "gridcolor": "#EBF0F8",
            "linecolor": "#EBF0F8",
            "ticks": ""
           },
           "bgcolor": "white",
           "radialaxis": {
            "gridcolor": "#EBF0F8",
            "linecolor": "#EBF0F8",
            "ticks": ""
           }
          },
          "scene": {
           "xaxis": {
            "backgroundcolor": "white",
            "gridcolor": "#DFE8F3",
            "gridwidth": 2,
            "linecolor": "#EBF0F8",
            "showbackground": true,
            "ticks": "",
            "zerolinecolor": "#EBF0F8"
           },
           "yaxis": {
            "backgroundcolor": "white",
            "gridcolor": "#DFE8F3",
            "gridwidth": 2,
            "linecolor": "#EBF0F8",
            "showbackground": true,
            "ticks": "",
            "zerolinecolor": "#EBF0F8"
           },
           "zaxis": {
            "backgroundcolor": "white",
            "gridcolor": "#DFE8F3",
            "gridwidth": 2,
            "linecolor": "#EBF0F8",
            "showbackground": true,
            "ticks": "",
            "zerolinecolor": "#EBF0F8"
           }
          },
          "shapedefaults": {
           "line": {
            "color": "#2a3f5f"
           }
          },
          "ternary": {
           "aaxis": {
            "gridcolor": "#DFE8F3",
            "linecolor": "#A2B1C6",
            "ticks": ""
           },
           "baxis": {
            "gridcolor": "#DFE8F3",
            "linecolor": "#A2B1C6",
            "ticks": ""
           },
           "bgcolor": "white",
           "caxis": {
            "gridcolor": "#DFE8F3",
            "linecolor": "#A2B1C6",
            "ticks": ""
           }
          },
          "title": {
           "x": 0.05
          },
          "xaxis": {
           "automargin": true,
           "gridcolor": "#EBF0F8",
           "linecolor": "#EBF0F8",
           "ticks": "",
           "title": {
            "standoff": 15
           },
           "zerolinecolor": "#EBF0F8",
           "zerolinewidth": 2
          },
          "yaxis": {
           "automargin": true,
           "gridcolor": "#EBF0F8",
           "linecolor": "#EBF0F8",
           "ticks": "",
           "title": {
            "standoff": 15
           },
           "zerolinecolor": "#EBF0F8",
           "zerolinewidth": 2
          }
         }
        },
        "title": {
         "text": "SHAP vs TimeSHAP for Test Sequence 272"
        },
        "xaxis": {
         "title": {
          "text": "Timestep/Event Number"
         }
        },
        "yaxis": {
         "title": {
          "text": "Explanation Value"
         }
        }
       }
      }
     },
     "metadata": {},
     "output_type": "display_data"
    },
    {
     "name": "stdout",
     "output_type": "stream",
     "text": [
      "\u001b[1m2/2\u001b[0m \u001b[32m━━━━━━━━━━━━━━━━━━━━\u001b[0m\u001b[37m\u001b[0m \u001b[1m0s\u001b[0m 11ms/step\n"
     ]
    },
    {
     "data": {
      "application/vnd.jupyter.widget-view+json": {
       "model_id": "44f00c63b0bc4889b8ee73758345a8f0",
       "version_major": 2,
       "version_minor": 0
      },
      "text/plain": [
       "  0%|          | 0/1 [00:00<?, ?it/s]"
      ]
     },
     "metadata": {},
     "output_type": "display_data"
    },
    {
     "name": "stdout",
     "output_type": "stream",
     "text": [
      "\u001b[1m1/1\u001b[0m \u001b[32m━━━━━━━━━━━━━━━━━━━━\u001b[0m\u001b[37m\u001b[0m \u001b[1m0s\u001b[0m 20ms/step\n"
     ]
    },
    {
     "name": "stderr",
     "output_type": "stream",
     "text": [
      "2025-03-07 10:55:58,161 - INFO - num_full_subsets = 1\n",
      "2025-03-07 10:55:58,162 - INFO - remaining_weight_vector = [0.11638774 0.07825501 0.05919721 0.04776958 0.04015718 0.03472504\n",
      " 0.0306557  0.027495   0.02497046 0.02290868 0.02119406 0.01974659\n",
      " 0.0185091  0.01743969 0.01650692 0.01568675 0.01496052 0.01431345\n",
      " 0.01373375 0.01321188 0.01274003 0.01231175 0.01192166 0.01156527\n",
      " 0.01123875 0.01093887 0.01066285 0.0104083  0.01017315 0.0099556\n",
      " 0.00975409 0.00956723 0.00939381 0.00923278 0.00908317 0.00894416\n",
      " 0.00881499 0.008695   0.0085836  0.00848024 0.00838447 0.00829583\n",
      " 0.00821397 0.00813852 0.00806919 0.00800569 0.00794777 0.00789523\n",
      " 0.00784786 0.00780549 0.00776796 0.00773515 0.00770693 0.00768322\n",
      " 0.00766393 0.00764899 0.00763835 0.00763198 0.00762986]\n",
      "2025-03-07 10:55:58,162 - INFO - num_paired_subset_sizes = 59\n",
      "2025-03-07 10:55:58,290 - INFO - weight_left = 0.8118838194333013\n"
     ]
    },
    {
     "name": "stdout",
     "output_type": "stream",
     "text": [
      "\u001b[1m3575/3575\u001b[0m \u001b[32m━━━━━━━━━━━━━━━━━━━━\u001b[0m\u001b[37m\u001b[0m \u001b[1m13s\u001b[0m 4ms/step\n"
     ]
    },
    {
     "name": "stderr",
     "output_type": "stream",
     "text": [
      "2025-03-07 10:56:12,132 - INFO - np.sum(w_aug) = 120.0\n",
      "2025-03-07 10:56:12,132 - INFO - np.sum(self.kernelWeights) = 1.0000000000000002\n",
      "2025-03-07 10:56:12,251 - INFO - phi = [ 0.00534551  0.00526388 -0.01122806  0.          0.00414331  0.01113346\n",
      " -0.00646842  0.0094858   0.         -0.00379968 -0.00587087 -0.00800902\n",
      "  0.          0.00459407  0.00635494  0.00344143 -0.0113386   0.00647768\n",
      "  0.00921556 -0.01274075 -0.00492886  0.         -0.00181254 -0.00278081\n",
      "  0.         -0.00529059  0.         -0.01100692  0.00288394 -0.00257725\n",
      " -0.00184862  0.         -0.00627798  0.00419599  0.         -0.00383391\n",
      "  0.          0.01559477  0.          0.01070956  0.00962668  0.\n",
      " -0.0063598   0.         -0.00380453  0.          0.00543821  0.01072022\n",
      "  0.00267963  0.         -0.00572335 -0.00945093  0.00272946 -0.00180542\n",
      "  0.          0.         -0.0050585   0.01378082 -0.00877601  0.00620342\n",
      "  0.00752684 -0.00750603 -0.0019878   0.          0.         -0.00731243\n",
      " -0.01432637  0.         -0.00092186  0.         -0.00657735  0.\n",
      "  0.          0.          0.01162676  0.01855278  0.01380128  0.01980572\n",
      "  0.02092212  0.01162153  0.01304192  0.         -0.00873179 -0.02475537\n",
      " -0.02207296 -0.03848042 -0.04118434 -0.03040749 -0.03690089 -0.02205613\n",
      " -0.0258437  -0.00340857  0.0057189   0.02717924  0.02760369  0.03990533\n",
      "  0.05154224  0.05164152  0.04899602  0.03870604  0.03426235  0.00983889\n",
      "  0.         -0.02588243 -0.04121739 -0.06165865 -0.07762019 -0.09248302\n",
      " -0.09542106 -0.1008781  -0.091901   -0.07524498 -0.04379226  0.\n",
      "  0.05387696  0.09175405  0.14672814  0.1794876   0.19356734  0.13074828]\n"
     ]
    },
    {
     "name": "stdout",
     "output_type": "stream",
     "text": [
      "\u001b[1m1/1\u001b[0m \u001b[32m━━━━━━━━━━━━━━━━━━━━\u001b[0m\u001b[37m\u001b[0m \u001b[1m0s\u001b[0m 21ms/step\n",
      "\u001b[1m1/1\u001b[0m \u001b[32m━━━━━━━━━━━━━━━━━━━━\u001b[0m\u001b[37m\u001b[0m \u001b[1m0s\u001b[0m 30ms/step\n"
     ]
    },
    {
     "name": "stderr",
     "output_type": "stream",
     "text": [
      "2025-03-07 10:56:12,489 - INFO - num_full_subsets = 1\n",
      "2025-03-07 10:56:12,490 - INFO - remaining_weight_vector = [0.11638774 0.07825501 0.05919721 0.04776958 0.04015718 0.03472504\n",
      " 0.0306557  0.027495   0.02497046 0.02290868 0.02119406 0.01974659\n",
      " 0.0185091  0.01743969 0.01650692 0.01568675 0.01496052 0.01431345\n",
      " 0.01373375 0.01321188 0.01274003 0.01231175 0.01192166 0.01156527\n",
      " 0.01123875 0.01093887 0.01066285 0.0104083  0.01017315 0.0099556\n",
      " 0.00975409 0.00956723 0.00939381 0.00923278 0.00908317 0.00894416\n",
      " 0.00881499 0.008695   0.0085836  0.00848024 0.00838447 0.00829583\n",
      " 0.00821397 0.00813852 0.00806919 0.00800569 0.00794777 0.00789523\n",
      " 0.00784786 0.00780549 0.00776796 0.00773515 0.00770693 0.00768322\n",
      " 0.00766393 0.00764899 0.00763835 0.00763198 0.00762986]\n",
      "2025-03-07 10:56:12,499 - INFO - num_paired_subset_sizes = 59\n",
      "2025-03-07 10:56:12,610 - INFO - weight_left = 0.8118838194333013\n"
     ]
    },
    {
     "name": "stdout",
     "output_type": "stream",
     "text": [
      "\u001b[1m313/313\u001b[0m \u001b[32m━━━━━━━━━━━━━━━━━━━━\u001b[0m\u001b[37m\u001b[0m \u001b[1m1s\u001b[0m 4ms/step\n"
     ]
    },
    {
     "name": "stderr",
     "output_type": "stream",
     "text": [
      "2025-03-07 10:56:13,853 - INFO - np.sum(w_aug) = 120.00000000000001\n",
      "2025-03-07 10:56:13,854 - INFO - np.sum(self.kernelWeights) = 0.9999999999999999\n",
      "2025-03-07 10:56:14,110 - INFO - phi = [ 0.1740317   0.25530379  0.26134692  0.20979654  0.12912851  0.04155768\n",
      " -0.02913602 -0.09504215 -0.13758149 -0.14719112 -0.15042012 -0.14175777\n",
      " -0.11607268 -0.09192316 -0.04628987 -0.01497607  0.0231677   0.03635727\n",
      "  0.06079916  0.06553717  0.05912204  0.06076857  0.05507584  0.03375318\n",
      "  0.01159341  0.         -0.01551003 -0.03627762 -0.028483   -0.02877225\n",
      " -0.03186968 -0.03235709 -0.02547906 -0.01140523 -0.00300791  0.00996207\n",
      "  0.01809855  0.01234699  0.01306519  0.01969779  0.00260458  0.00657726\n",
      "  0.00995632  0.00120458 -0.01164746 -0.01156851 -0.00340478 -0.01670977\n",
      " -0.01192041 -0.00686776 -0.00261974  0.          0.00795369  0.00234022\n",
      "  0.00533247  0.00416087  0.00357612  0.          0.00232108  0.0039579\n",
      "  0.0041776  -0.00346713 -0.00211579 -0.00370851 -0.00271429 -0.0045285\n",
      "  0.00487421  0.00907228 -0.00552328  0.00228983  0.          0.00388238\n",
      " -0.00514195 -0.00318807  0.          0.          0.00197866  0.00343274\n",
      " -0.01219385  0.00251832  0.          0.         -0.00318995 -0.00351978\n",
      " -0.00722011  0.00154922  0.          0.00450846  0.          0.\n",
      "  0.00322231  0.          0.00498322 -0.00181671  0.00181056 -0.00636113\n",
      "  0.          0.00412016 -0.002748    0.00218126 -0.0033641  -0.00455982\n",
      " -0.00256282  0.         -0.00419836  0.         -0.00545296  0.00227676\n",
      " -0.00164755  0.00285449  0.          0.          0.          0.00258166\n",
      " -0.00182324  0.00327745  0.00684589  0.007623    0.          0.00157571]\n"
     ]
    },
    {
     "name": "stdout",
     "output_type": "stream",
     "text": [
      "Correlation for sequence 277: 0.9363\n"
     ]
    },
    {
     "data": {
      "application/vnd.plotly.v1+json": {
       "config": {
        "plotlyServerURL": "https://plot.ly"
       },
       "data": [
        {
         "line": {
          "color": "blue"
         },
         "mode": "lines+markers",
         "name": "SHAP",
         "type": "scatter",
         "x": {
          "bdata": "AAECAwQFBgcICQoLDA0ODxAREhMUFRYXGBkaGxwdHh8gISIjJCUmJygpKissLS4vMDEyMzQ1Njc4OTo7PD0+P0BBQkNERUZHSElKS0xNTk9QUVJTVFVWV1hZWltcXV5fYGFiY2RlZmdoaWprbG1ub3BxcnN0dXZ3",
          "dtype": "i1"
         },
         "y": {
          "bdata": "KzCxgSvldT/qVRl9lI91P6LH5VW9/oa/AAAAAAAAAACZgUCOkvhwPyx8BzwjzYY/QFA4faF+er/lW+IJS22DPwAAAAAAAAAAYUZOQIMgb7+sW0EsDQx4vyTWtfwHZ4C/AAAAAAAAAABPYguLO9FyPyu57nKkB3o/1qm9oDMxbD+RPdS0sDiHvzbQoJZXiHo/0Y407Zvfgj9KlyLd0ReKv9nL+AlKMHS/AAAAAAAAAAD5AQ6VWLJdv6J26rrIx2a/AAAAAAAAAADbemCwlqt1vwAAAAAAAAAAEPtswcuKhr/0x/GDD6BnP9yQxZ3kHGW/kpY397BJXr8AAAAAAAAAAPWSwhvxtnm/PLIVy9EvcT8AAAAAAAAAAOSpHE1MaG+/AAAAAAAAAACWymrRJvCPPwAAAAAAAAAAAo94dOXuhT9I/41mJ7eDPwAAAAAAAAAA3DAEXLwMer8AAAAAAAAAAD75faStKm+/AAAAAAAAAABYZ0NMYEZ2P6DlEhB79IU/LHWPm5nzZT8AAAAAAAAAAE6xAc9ccXe/yvYUUgJbg7+0XFNMGlxmP8LfvFJ2lF2/AAAAAAAAAAAAAAAAAAAAAIK5aLE5uHS/+70f+h05jD9IRuk9KPmBv7yc/2nCaHk/cN40g3fUfj8vHAROpL5+vwhI2F+5SGC/AAAAAAAAAAAAAAAAAAAAAH79/Auj832/aqKzziRXjb8AAAAAAAAAAEnTSkMiNU6/AAAAAAAAAAAF35+G2vB6vwAAAAAAAAAAAAAAAAAAAAAAAAAAAAAAABxDN3jFz4c/1x+2J4D/kj9n5fDH2EOMPxFwgVzzR5Q/v5Q3d5tslT8HluUCCM2HP5zSrOe4tYo/AAAAAAAAAAB8daDP+OGBvze5HpV4WZm/rxYgYEualr+l6tm0tLOjv8pajU0dFqW/TiU2DyQjn798y1hmrOSiv/OL8orhlZa/9Ji4PcV2mr+Jq77BSOxrvzy3I/KzbHc/rWUlLODUmz98vUs8JEScP1Ax/pl4bqQ/+y7lnb5jqj9GVte2wXCqP3uSBooBFqk/Rj0ONEfRoz9L5PCk1YqhPzyfZsppJoQ/AAAAAAAAAAAWIvuq7ICav9YTSf9xGqW/m3s8ArmRr78NL7iy6t6zv7vqdZP3rLe/3S050INtuL80ozqiJdO5vwiETuTShre/VK4yREFDs7/VRLdX8GumvwAAAAAAAAAAsT7Y2MKVqz9mMEuMMX23P50Wks/8x8I/R/pCHXP5xj/mYuKJ0MbIPzy2VQ5cvMA/",
          "dtype": "f8"
         }
        },
        {
         "line": {
          "color": "red"
         },
         "mode": "lines+markers",
         "name": "TimeSHAP",
         "type": "scatter",
         "x": {
          "bdata": "AAECAwQFBgcICQoLDA0ODxAREhMUFRYXGBkaGxwdHh8gISIjJCUmJygpKissLS4vMDEyMzQ1Njc4OTo7PD0+P0BBQkNERUZHSElKS0xNTk9QUVJTVFVWV1hZWltcXV5fYGFiY2RlZmdoaWprbG1ub3BxcnN0dXZ3",
          "dtype": "i1"
         },
         "y": {
          "bdata": "AHfXT/7QWT8AAAAAAAAAAEDq1EVMOX8/YBcAiG4KfD+ALZlVUNlqP8AJsVs3312/gL2BfSQmZT8AAAAAAAAAAAAAAAAAAAAAAAAAAAAAAADArzSDTWJnP4Bywq5W/lq/ABvuXremYj/AHnaR1lV2vwAAAAAAAAAAQHM4OE0ycb8AAAAAAAAAAEBFdgSh/mS/wDhVeVKtcr8A78pvCI9rvwCucK1x3mE/wPuDsvaCZr8AMYnsTeBwPwAAAAAAAAAAAOEVwSAOer8ANOPWCapdPwAaBGTVw12/4IsLdUhpdD8AAAAAAAAAAMBgT9muZWo/AAAAAAAAAAAAAAAAAAAAAMBy7+J1d3I/AAAAAAAAAACAudk44mFZP+A0WHzWkn2/QNUdwYHVbL9AID+p0SFqvwAAAAAAAAAAAAAAAAAAAABAqAF7TqFkP/CvG6QW+Yi/4NPTsPoebD9AP5zKjTVgPwAAAAAAAAAAAAAAAAAAAAAAo+722x1qv+Cfv8y4D3W/ACtexfDNbz8AAAAAAAAAAAAfSrEcwmI/oBufUZSfdr+Qvl63fJSCP+Apr8H69nM/oOdJBnqMcr/AjUSlRzxmv4C51PpPYW6/gBMf/h9VYb/AqfXLFmdsv2CLivuHHHE/wBFRfyc2cD/ALZyzqANjPwAAAAAAAAAAQKde6qxLbT8AKJW0+wpxP4A7FwyB13U/wPrwE8srYz/QxJtjBkqAPwAAAAAAAAAAQJNNKvx1Zb/gyTF5XiF8v/Aun4q6aYi/kG692V0ckb8AR9EkVeRrv2CGOs86sYe/MGLNKaDah7+AiOxuX7xTP9Cwqjr6Y4Q/gEyeBMPwej9AfyaWNFZlP7h59BKoK5Q/oDe4nuzBij9gwh5xYUmJP2DYteNsiJI/oA1DXf5mhD8gYbiNCqRovzAICBKgW4e/uCAp2C4Xmr8wjbbgG5Ggv2Tz0Q05UaC/8P2yKnl2nb9gAyHspSqdv0yMGPj6kqK/8EHeoLnDj78AAAAAAAAAAMAyu75Ivoc/PN8vzxhIoT/2EcF15jKsP7RIu/gOHa8/nBdylj5Frj/uDqc8C8ewP/REJU4RIa8/xKBFfGudoj8o7KrERbmXP3BFIonFq46/yMk1LU6zp79wuHy0Roi3v2ZignXwtr2/ZKD5Wh4lwr9m4opm90DDv3K20JEo18K/VzgIJ0Wcwb/Uq56grlS4v6hMJnXV1Z2/xLf3fgxHpT/O+4pvSIfAPyML5/ic2so/eE7Xbui50D/y1QG65VbQP0cESb6rRsY/",
          "dtype": "f8"
         }
        }
       ],
       "layout": {
        "shapes": [
         {
          "line": {
           "color": "gray",
           "dash": "dash"
          },
          "type": "line",
          "x0": 0,
          "x1": 1,
          "xref": "x domain",
          "y0": 0,
          "y1": 0,
          "yref": "y"
         }
        ],
        "template": {
         "data": {
          "bar": [
           {
            "error_x": {
             "color": "#2a3f5f"
            },
            "error_y": {
             "color": "#2a3f5f"
            },
            "marker": {
             "line": {
              "color": "white",
              "width": 0.5
             },
             "pattern": {
              "fillmode": "overlay",
              "size": 10,
              "solidity": 0.2
             }
            },
            "type": "bar"
           }
          ],
          "barpolar": [
           {
            "marker": {
             "line": {
              "color": "white",
              "width": 0.5
             },
             "pattern": {
              "fillmode": "overlay",
              "size": 10,
              "solidity": 0.2
             }
            },
            "type": "barpolar"
           }
          ],
          "carpet": [
           {
            "aaxis": {
             "endlinecolor": "#2a3f5f",
             "gridcolor": "#C8D4E3",
             "linecolor": "#C8D4E3",
             "minorgridcolor": "#C8D4E3",
             "startlinecolor": "#2a3f5f"
            },
            "baxis": {
             "endlinecolor": "#2a3f5f",
             "gridcolor": "#C8D4E3",
             "linecolor": "#C8D4E3",
             "minorgridcolor": "#C8D4E3",
             "startlinecolor": "#2a3f5f"
            },
            "type": "carpet"
           }
          ],
          "choropleth": [
           {
            "colorbar": {
             "outlinewidth": 0,
             "ticks": ""
            },
            "type": "choropleth"
           }
          ],
          "contour": [
           {
            "colorbar": {
             "outlinewidth": 0,
             "ticks": ""
            },
            "colorscale": [
             [
              0,
              "#0d0887"
             ],
             [
              0.1111111111111111,
              "#46039f"
             ],
             [
              0.2222222222222222,
              "#7201a8"
             ],
             [
              0.3333333333333333,
              "#9c179e"
             ],
             [
              0.4444444444444444,
              "#bd3786"
             ],
             [
              0.5555555555555556,
              "#d8576b"
             ],
             [
              0.6666666666666666,
              "#ed7953"
             ],
             [
              0.7777777777777778,
              "#fb9f3a"
             ],
             [
              0.8888888888888888,
              "#fdca26"
             ],
             [
              1,
              "#f0f921"
             ]
            ],
            "type": "contour"
           }
          ],
          "contourcarpet": [
           {
            "colorbar": {
             "outlinewidth": 0,
             "ticks": ""
            },
            "type": "contourcarpet"
           }
          ],
          "heatmap": [
           {
            "colorbar": {
             "outlinewidth": 0,
             "ticks": ""
            },
            "colorscale": [
             [
              0,
              "#0d0887"
             ],
             [
              0.1111111111111111,
              "#46039f"
             ],
             [
              0.2222222222222222,
              "#7201a8"
             ],
             [
              0.3333333333333333,
              "#9c179e"
             ],
             [
              0.4444444444444444,
              "#bd3786"
             ],
             [
              0.5555555555555556,
              "#d8576b"
             ],
             [
              0.6666666666666666,
              "#ed7953"
             ],
             [
              0.7777777777777778,
              "#fb9f3a"
             ],
             [
              0.8888888888888888,
              "#fdca26"
             ],
             [
              1,
              "#f0f921"
             ]
            ],
            "type": "heatmap"
           }
          ],
          "histogram": [
           {
            "marker": {
             "pattern": {
              "fillmode": "overlay",
              "size": 10,
              "solidity": 0.2
             }
            },
            "type": "histogram"
           }
          ],
          "histogram2d": [
           {
            "colorbar": {
             "outlinewidth": 0,
             "ticks": ""
            },
            "colorscale": [
             [
              0,
              "#0d0887"
             ],
             [
              0.1111111111111111,
              "#46039f"
             ],
             [
              0.2222222222222222,
              "#7201a8"
             ],
             [
              0.3333333333333333,
              "#9c179e"
             ],
             [
              0.4444444444444444,
              "#bd3786"
             ],
             [
              0.5555555555555556,
              "#d8576b"
             ],
             [
              0.6666666666666666,
              "#ed7953"
             ],
             [
              0.7777777777777778,
              "#fb9f3a"
             ],
             [
              0.8888888888888888,
              "#fdca26"
             ],
             [
              1,
              "#f0f921"
             ]
            ],
            "type": "histogram2d"
           }
          ],
          "histogram2dcontour": [
           {
            "colorbar": {
             "outlinewidth": 0,
             "ticks": ""
            },
            "colorscale": [
             [
              0,
              "#0d0887"
             ],
             [
              0.1111111111111111,
              "#46039f"
             ],
             [
              0.2222222222222222,
              "#7201a8"
             ],
             [
              0.3333333333333333,
              "#9c179e"
             ],
             [
              0.4444444444444444,
              "#bd3786"
             ],
             [
              0.5555555555555556,
              "#d8576b"
             ],
             [
              0.6666666666666666,
              "#ed7953"
             ],
             [
              0.7777777777777778,
              "#fb9f3a"
             ],
             [
              0.8888888888888888,
              "#fdca26"
             ],
             [
              1,
              "#f0f921"
             ]
            ],
            "type": "histogram2dcontour"
           }
          ],
          "mesh3d": [
           {
            "colorbar": {
             "outlinewidth": 0,
             "ticks": ""
            },
            "type": "mesh3d"
           }
          ],
          "parcoords": [
           {
            "line": {
             "colorbar": {
              "outlinewidth": 0,
              "ticks": ""
             }
            },
            "type": "parcoords"
           }
          ],
          "pie": [
           {
            "automargin": true,
            "type": "pie"
           }
          ],
          "scatter": [
           {
            "fillpattern": {
             "fillmode": "overlay",
             "size": 10,
             "solidity": 0.2
            },
            "type": "scatter"
           }
          ],
          "scatter3d": [
           {
            "line": {
             "colorbar": {
              "outlinewidth": 0,
              "ticks": ""
             }
            },
            "marker": {
             "colorbar": {
              "outlinewidth": 0,
              "ticks": ""
             }
            },
            "type": "scatter3d"
           }
          ],
          "scattercarpet": [
           {
            "marker": {
             "colorbar": {
              "outlinewidth": 0,
              "ticks": ""
             }
            },
            "type": "scattercarpet"
           }
          ],
          "scattergeo": [
           {
            "marker": {
             "colorbar": {
              "outlinewidth": 0,
              "ticks": ""
             }
            },
            "type": "scattergeo"
           }
          ],
          "scattergl": [
           {
            "marker": {
             "colorbar": {
              "outlinewidth": 0,
              "ticks": ""
             }
            },
            "type": "scattergl"
           }
          ],
          "scattermap": [
           {
            "marker": {
             "colorbar": {
              "outlinewidth": 0,
              "ticks": ""
             }
            },
            "type": "scattermap"
           }
          ],
          "scattermapbox": [
           {
            "marker": {
             "colorbar": {
              "outlinewidth": 0,
              "ticks": ""
             }
            },
            "type": "scattermapbox"
           }
          ],
          "scatterpolar": [
           {
            "marker": {
             "colorbar": {
              "outlinewidth": 0,
              "ticks": ""
             }
            },
            "type": "scatterpolar"
           }
          ],
          "scatterpolargl": [
           {
            "marker": {
             "colorbar": {
              "outlinewidth": 0,
              "ticks": ""
             }
            },
            "type": "scatterpolargl"
           }
          ],
          "scatterternary": [
           {
            "marker": {
             "colorbar": {
              "outlinewidth": 0,
              "ticks": ""
             }
            },
            "type": "scatterternary"
           }
          ],
          "surface": [
           {
            "colorbar": {
             "outlinewidth": 0,
             "ticks": ""
            },
            "colorscale": [
             [
              0,
              "#0d0887"
             ],
             [
              0.1111111111111111,
              "#46039f"
             ],
             [
              0.2222222222222222,
              "#7201a8"
             ],
             [
              0.3333333333333333,
              "#9c179e"
             ],
             [
              0.4444444444444444,
              "#bd3786"
             ],
             [
              0.5555555555555556,
              "#d8576b"
             ],
             [
              0.6666666666666666,
              "#ed7953"
             ],
             [
              0.7777777777777778,
              "#fb9f3a"
             ],
             [
              0.8888888888888888,
              "#fdca26"
             ],
             [
              1,
              "#f0f921"
             ]
            ],
            "type": "surface"
           }
          ],
          "table": [
           {
            "cells": {
             "fill": {
              "color": "#EBF0F8"
             },
             "line": {
              "color": "white"
             }
            },
            "header": {
             "fill": {
              "color": "#C8D4E3"
             },
             "line": {
              "color": "white"
             }
            },
            "type": "table"
           }
          ]
         },
         "layout": {
          "annotationdefaults": {
           "arrowcolor": "#2a3f5f",
           "arrowhead": 0,
           "arrowwidth": 1
          },
          "autotypenumbers": "strict",
          "coloraxis": {
           "colorbar": {
            "outlinewidth": 0,
            "ticks": ""
           }
          },
          "colorscale": {
           "diverging": [
            [
             0,
             "#8e0152"
            ],
            [
             0.1,
             "#c51b7d"
            ],
            [
             0.2,
             "#de77ae"
            ],
            [
             0.3,
             "#f1b6da"
            ],
            [
             0.4,
             "#fde0ef"
            ],
            [
             0.5,
             "#f7f7f7"
            ],
            [
             0.6,
             "#e6f5d0"
            ],
            [
             0.7,
             "#b8e186"
            ],
            [
             0.8,
             "#7fbc41"
            ],
            [
             0.9,
             "#4d9221"
            ],
            [
             1,
             "#276419"
            ]
           ],
           "sequential": [
            [
             0,
             "#0d0887"
            ],
            [
             0.1111111111111111,
             "#46039f"
            ],
            [
             0.2222222222222222,
             "#7201a8"
            ],
            [
             0.3333333333333333,
             "#9c179e"
            ],
            [
             0.4444444444444444,
             "#bd3786"
            ],
            [
             0.5555555555555556,
             "#d8576b"
            ],
            [
             0.6666666666666666,
             "#ed7953"
            ],
            [
             0.7777777777777778,
             "#fb9f3a"
            ],
            [
             0.8888888888888888,
             "#fdca26"
            ],
            [
             1,
             "#f0f921"
            ]
           ],
           "sequentialminus": [
            [
             0,
             "#0d0887"
            ],
            [
             0.1111111111111111,
             "#46039f"
            ],
            [
             0.2222222222222222,
             "#7201a8"
            ],
            [
             0.3333333333333333,
             "#9c179e"
            ],
            [
             0.4444444444444444,
             "#bd3786"
            ],
            [
             0.5555555555555556,
             "#d8576b"
            ],
            [
             0.6666666666666666,
             "#ed7953"
            ],
            [
             0.7777777777777778,
             "#fb9f3a"
            ],
            [
             0.8888888888888888,
             "#fdca26"
            ],
            [
             1,
             "#f0f921"
            ]
           ]
          },
          "colorway": [
           "#636efa",
           "#EF553B",
           "#00cc96",
           "#ab63fa",
           "#FFA15A",
           "#19d3f3",
           "#FF6692",
           "#B6E880",
           "#FF97FF",
           "#FECB52"
          ],
          "font": {
           "color": "#2a3f5f"
          },
          "geo": {
           "bgcolor": "white",
           "lakecolor": "white",
           "landcolor": "white",
           "showlakes": true,
           "showland": true,
           "subunitcolor": "#C8D4E3"
          },
          "hoverlabel": {
           "align": "left"
          },
          "hovermode": "closest",
          "mapbox": {
           "style": "light"
          },
          "paper_bgcolor": "white",
          "plot_bgcolor": "white",
          "polar": {
           "angularaxis": {
            "gridcolor": "#EBF0F8",
            "linecolor": "#EBF0F8",
            "ticks": ""
           },
           "bgcolor": "white",
           "radialaxis": {
            "gridcolor": "#EBF0F8",
            "linecolor": "#EBF0F8",
            "ticks": ""
           }
          },
          "scene": {
           "xaxis": {
            "backgroundcolor": "white",
            "gridcolor": "#DFE8F3",
            "gridwidth": 2,
            "linecolor": "#EBF0F8",
            "showbackground": true,
            "ticks": "",
            "zerolinecolor": "#EBF0F8"
           },
           "yaxis": {
            "backgroundcolor": "white",
            "gridcolor": "#DFE8F3",
            "gridwidth": 2,
            "linecolor": "#EBF0F8",
            "showbackground": true,
            "ticks": "",
            "zerolinecolor": "#EBF0F8"
           },
           "zaxis": {
            "backgroundcolor": "white",
            "gridcolor": "#DFE8F3",
            "gridwidth": 2,
            "linecolor": "#EBF0F8",
            "showbackground": true,
            "ticks": "",
            "zerolinecolor": "#EBF0F8"
           }
          },
          "shapedefaults": {
           "line": {
            "color": "#2a3f5f"
           }
          },
          "ternary": {
           "aaxis": {
            "gridcolor": "#DFE8F3",
            "linecolor": "#A2B1C6",
            "ticks": ""
           },
           "baxis": {
            "gridcolor": "#DFE8F3",
            "linecolor": "#A2B1C6",
            "ticks": ""
           },
           "bgcolor": "white",
           "caxis": {
            "gridcolor": "#DFE8F3",
            "linecolor": "#A2B1C6",
            "ticks": ""
           }
          },
          "title": {
           "x": 0.05
          },
          "xaxis": {
           "automargin": true,
           "gridcolor": "#EBF0F8",
           "linecolor": "#EBF0F8",
           "ticks": "",
           "title": {
            "standoff": 15
           },
           "zerolinecolor": "#EBF0F8",
           "zerolinewidth": 2
          },
          "yaxis": {
           "automargin": true,
           "gridcolor": "#EBF0F8",
           "linecolor": "#EBF0F8",
           "ticks": "",
           "title": {
            "standoff": 15
           },
           "zerolinecolor": "#EBF0F8",
           "zerolinewidth": 2
          }
         }
        },
        "title": {
         "text": "SHAP vs TimeSHAP for Test Sequence 277"
        },
        "xaxis": {
         "title": {
          "text": "Timestep/Event Number"
         }
        },
        "yaxis": {
         "title": {
          "text": "Explanation Value"
         }
        }
       }
      }
     },
     "metadata": {},
     "output_type": "display_data"
    },
    {
     "name": "stdout",
     "output_type": "stream",
     "text": [
      "\u001b[1m2/2\u001b[0m \u001b[32m━━━━━━━━━━━━━━━━━━━━\u001b[0m\u001b[37m\u001b[0m \u001b[1m0s\u001b[0m 15ms/step\n"
     ]
    },
    {
     "data": {
      "application/vnd.jupyter.widget-view+json": {
       "model_id": "ca02bfd7adb04f29b63d81891d649434",
       "version_major": 2,
       "version_minor": 0
      },
      "text/plain": [
       "  0%|          | 0/1 [00:00<?, ?it/s]"
      ]
     },
     "metadata": {},
     "output_type": "display_data"
    },
    {
     "name": "stdout",
     "output_type": "stream",
     "text": [
      "\u001b[1m1/1\u001b[0m \u001b[32m━━━━━━━━━━━━━━━━━━━━\u001b[0m\u001b[37m\u001b[0m \u001b[1m0s\u001b[0m 14ms/step\n"
     ]
    },
    {
     "name": "stderr",
     "output_type": "stream",
     "text": [
      "2025-03-07 10:56:14,461 - INFO - num_full_subsets = 1\n",
      "2025-03-07 10:56:14,461 - INFO - remaining_weight_vector = [0.11638774 0.07825501 0.05919721 0.04776958 0.04015718 0.03472504\n",
      " 0.0306557  0.027495   0.02497046 0.02290868 0.02119406 0.01974659\n",
      " 0.0185091  0.01743969 0.01650692 0.01568675 0.01496052 0.01431345\n",
      " 0.01373375 0.01321188 0.01274003 0.01231175 0.01192166 0.01156527\n",
      " 0.01123875 0.01093887 0.01066285 0.0104083  0.01017315 0.0099556\n",
      " 0.00975409 0.00956723 0.00939381 0.00923278 0.00908317 0.00894416\n",
      " 0.00881499 0.008695   0.0085836  0.00848024 0.00838447 0.00829583\n",
      " 0.00821397 0.00813852 0.00806919 0.00800569 0.00794777 0.00789523\n",
      " 0.00784786 0.00780549 0.00776796 0.00773515 0.00770693 0.00768322\n",
      " 0.00766393 0.00764899 0.00763835 0.00763198 0.00762986]\n",
      "2025-03-07 10:56:14,461 - INFO - num_paired_subset_sizes = 59\n",
      "2025-03-07 10:56:14,488 - INFO - weight_left = 0.8118838194333013\n"
     ]
    },
    {
     "name": "stdout",
     "output_type": "stream",
     "text": [
      "\u001b[1m3575/3575\u001b[0m \u001b[32m━━━━━━━━━━━━━━━━━━━━\u001b[0m\u001b[37m\u001b[0m \u001b[1m14s\u001b[0m 4ms/step\n"
     ]
    },
    {
     "name": "stderr",
     "output_type": "stream",
     "text": [
      "2025-03-07 10:56:28,541 - INFO - np.sum(w_aug) = 120.0\n",
      "2025-03-07 10:56:28,542 - INFO - np.sum(self.kernelWeights) = 1.0000000000000002\n",
      "2025-03-07 10:56:28,622 - INFO - phi = [-0.00629187 -0.00753007  0.00957698 -0.00248249 -0.00180646 -0.00664138\n",
      "  0.00291543 -0.00430061 -0.00182232  0.00414588  0.00194198  0.00723266\n",
      " -0.0038621  -0.00309381 -0.00289832 -0.00041329  0.00733354 -0.00286548\n",
      " -0.0035879   0.00829572  0.00164274 -0.00205543  0.00211964  0.00080784\n",
      "  0.          0.00420209  0.00478633  0.0065825   0.          0.00289309\n",
      "  0.00339065  0.00405791  0.00380151 -0.00310109  0.00251067 -0.00158375\n",
      "  0.         -0.01057267  0.00110052 -0.00555457 -0.00682893  0.00326484\n",
      "  0.00788954 -0.00215534  0.00286906  0.         -0.00472607 -0.00826341\n",
      " -0.00427136  0.          0.00537185  0.00296685 -0.00494837  0.00248518\n",
      " -0.00359733  0.00051237  0.00131565 -0.00971652  0.00608561 -0.00442618\n",
      " -0.0035031   0.00214146  0.00309191  0.0017448   0.          0.00418361\n",
      "  0.00759351  0.00316572  0.          0.          0.00455931 -0.0042849\n",
      " -0.00350739 -0.00077514 -0.00743837 -0.00973688 -0.00742861 -0.00813684\n",
      " -0.01055929 -0.0058248  -0.00823517 -0.00051112  0.00202697  0.00434212\n",
      "  0.00389818  0.01321869  0.01363299  0.01105813  0.01860691  0.01343269\n",
      "  0.0172465   0.00834839  0.00857893 -0.00459452  0.00434766 -0.00894218\n",
      " -0.01600805 -0.02444114 -0.02477685 -0.02391624 -0.02622051 -0.02025975\n",
      " -0.01191422  0.00170671  0.00994131  0.0253933   0.03739279  0.05061197\n",
      "  0.0548278   0.06492233  0.0609383   0.05692133  0.03913344  0.01070688\n",
      " -0.02028256 -0.05139825 -0.08612262 -0.10272007 -0.11206582 -0.07599583]\n"
     ]
    },
    {
     "name": "stdout",
     "output_type": "stream",
     "text": [
      "\u001b[1m1/1\u001b[0m \u001b[32m━━━━━━━━━━━━━━━━━━━━\u001b[0m\u001b[37m\u001b[0m \u001b[1m0s\u001b[0m 23ms/step\n",
      "\u001b[1m1/1\u001b[0m \u001b[32m━━━━━━━━━━━━━━━━━━━━\u001b[0m\u001b[37m\u001b[0m \u001b[1m0s\u001b[0m 25ms/step\n"
     ]
    },
    {
     "name": "stderr",
     "output_type": "stream",
     "text": [
      "2025-03-07 10:56:28,775 - INFO - num_full_subsets = 1\n",
      "2025-03-07 10:56:28,779 - INFO - remaining_weight_vector = [0.11638774 0.07825501 0.05919721 0.04776958 0.04015718 0.03472504\n",
      " 0.0306557  0.027495   0.02497046 0.02290868 0.02119406 0.01974659\n",
      " 0.0185091  0.01743969 0.01650692 0.01568675 0.01496052 0.01431345\n",
      " 0.01373375 0.01321188 0.01274003 0.01231175 0.01192166 0.01156527\n",
      " 0.01123875 0.01093887 0.01066285 0.0104083  0.01017315 0.0099556\n",
      " 0.00975409 0.00956723 0.00939381 0.00923278 0.00908317 0.00894416\n",
      " 0.00881499 0.008695   0.0085836  0.00848024 0.00838447 0.00829583\n",
      " 0.00821397 0.00813852 0.00806919 0.00800569 0.00794777 0.00789523\n",
      " 0.00784786 0.00780549 0.00776796 0.00773515 0.00770693 0.00768322\n",
      " 0.00766393 0.00764899 0.00763835 0.00763198 0.00762986]\n",
      "2025-03-07 10:56:28,781 - INFO - num_paired_subset_sizes = 59\n",
      "2025-03-07 10:56:28,909 - INFO - weight_left = 0.8118838194333013\n"
     ]
    },
    {
     "name": "stdout",
     "output_type": "stream",
     "text": [
      "\u001b[1m313/313\u001b[0m \u001b[32m━━━━━━━━━━━━━━━━━━━━\u001b[0m\u001b[37m\u001b[0m \u001b[1m1s\u001b[0m 4ms/step\n"
     ]
    },
    {
     "name": "stderr",
     "output_type": "stream",
     "text": [
      "2025-03-07 10:56:30,153 - INFO - np.sum(w_aug) = 120.00000000000001\n",
      "2025-03-07 10:56:30,153 - INFO - np.sum(self.kernelWeights) = 0.9999999999999999\n",
      "2025-03-07 10:56:30,350 - INFO - phi = [-0.03071483 -0.03512017 -0.03148008 -0.0216285  -0.01043614  0.\n",
      "  0.00832177  0.01377332  0.01631226  0.01668793  0.01510653  0.01257598\n",
      "  0.00938785  0.00600337  0.00308671  0.         -0.0016761  -0.0034011\n",
      " -0.00443444 -0.00478695 -0.00458699 -0.00406597 -0.0032477  -0.00231297\n",
      " -0.00106078  0.          0.00110031  0.00199825  0.00256765  0.00305165\n",
      "  0.00310537  0.00288024  0.00244222  0.00198317  0.00125109  0.00032832\n",
      " -0.00061633 -0.00109766 -0.00175485 -0.00251858 -0.00276792 -0.00261547\n",
      " -0.00229466 -0.00178253 -0.00156096 -0.00073259  0.          0.00048316\n",
      "  0.00122285  0.00160581  0.0021545   0.00232395  0.00229981  0.00219371\n",
      "  0.00167567  0.00133407  0.00052638  0.         -0.00037069 -0.00113094\n",
      " -0.00156112 -0.00188995 -0.00194554 -0.00199376 -0.00178276 -0.0018427\n",
      " -0.00123117 -0.00064766  0.          0.00023559  0.00086624  0.00128732\n",
      "  0.00175897  0.00175904  0.00180306  0.00160614  0.00148717  0.00119744\n",
      "  0.00077099  0.         -0.00032103 -0.00077205 -0.00130479 -0.00141905\n",
      " -0.00162006 -0.00133573 -0.00104635 -0.00069718 -0.0003075   0.\n",
      "  0.00053178  0.00081125  0.000833    0.00115209  0.00061053  0.00076136\n",
      "  0.00032001  0.         -0.0002523  -0.00021758 -0.00043849  0.\n",
      "  0.         -0.0002525   0.          0.          0.          0.\n",
      "  0.          0.          0.          0.          0.          0.\n",
      "  0.          0.          0.          0.          0.          0.        ]\n"
     ]
    },
    {
     "name": "stdout",
     "output_type": "stream",
     "text": [
      "Correlation for sequence 85: 0.9492\n"
     ]
    },
    {
     "data": {
      "application/vnd.plotly.v1+json": {
       "config": {
        "plotlyServerURL": "https://plot.ly"
       },
       "data": [
        {
         "line": {
          "color": "blue"
         },
         "mode": "lines+markers",
         "name": "SHAP",
         "type": "scatter",
         "x": {
          "bdata": "AAECAwQFBgcICQoLDA0ODxAREhMUFRYXGBkaGxwdHh8gISIjJCUmJygpKissLS4vMDEyMzQ1Njc4OTo7PD0+P0BBQkNERUZHSElKS0xNTk9QUVJTVFVWV1hZWltcXV5fYGFiY2RlZmdoaWprbG1ub3BxcnN0dXZ3",
          "dtype": "i1"
         },
         "y": {
          "bdata": "866HA4HFeb9tXS9z2dd+v5wJGN0XnYM/ov3dlClWZL+bQk5B1Jhdv1qRXEH+M3u/T6hQuhniZz/pyyoIhJ1xv78+U4Ji212/g39NqkX7cD+ZW7ZVQtFfP/AyLsL+n30/A8uYhGmjb78/kx1GM1hpv9OkClU4vme/2OMV1e0VO78gLUU5xgl+P2e2WHVXeWe/4TlE311kbb99KDAMWf2AP7QTfwIk6lo/dxMROorWYL+fET6iM11hP/HM+8mjeEo/AAAAAAAAAADZTrzMNjZxPwUfY1fVmnM/IkvHL0D2ej8AAAAAAAAAAAXTmdJBs2c/bFtQwrXGaz+zep24B59wP7QwzkJZJG8/jimHGnNnab/bvqweRJFkP3dhf+e38lm/AAAAAAAAAADZe50yIKeFv1SCTnvmB1I/pwX+tWTAdr9Gj7cJpvh7vyocWZXevmo/+1CztmMogD8Rx5P+E6hhv3+0c43ZgGc/AAAAAAAAAAAQitxepVtzv3aZIiJo7IC/H8UNnth+cb8AAAAAAAAAAI2/Im7LAHY/e0Y+V+9NaD/oVvLKvER0vzxHxgjNW2Q/MohILCh4bb/LSCS7G8pAP0tMFcU8jlU/IE67tkHmg784V5i4Oe14P6jHxncuIXK/BuPQnIeybL+HL5Ku+IphPx909lo0VGk/BxqdMTaWXD8AAAAAAAAAACDJoCXWInE/qA03Ol4afz8dIxczAO9pPwAAAAAAAAAAAAAAAAAAAACS+SZuyKxyP11uOdkJjXG/8ihit4a7bL9OkWYoVmZJv2KX5Puxd36/KSFxDe7wg78qHL+XdW1+v7zPGTQMqoC/fcKQWRyghb9FkbJ5vtt3v/+YfWSZ3YC/NYz8lJu/QL9/6E6b3ZpgPyiR/yQLyXE/v+5NPhHvbz/xRT8jZxKLP1MQAkWd64s/WWMKe6Slhj91fSvIsA2TP8i199mYgos/fDZkOBGpkT8MrNol9hiBP5KyExPUkYE/ayc9t7PRcr+SAsBu2c5xPwU1W4pHUIK/29Bs7GlkkL+gn3I9GQeZv4TUGIoaX5m/+Nyrnn99mL9RiXfwjNmav+GDNpD4vpS/Prhn6XtmiL/1N7HccvZbPwa9kf8bXIQ/nMsFn7MAmj9cy/z1JSWjP3Auu9zP6ak/ttbuomMSrD/KIv3jv56wP+IYdehNM68/C26828okrT8oUKZ+TAmkPwLXv7B97YU/nLSz2/PElL/mxZ4931CqvziWruAhDLa/n1NW3dxLur8icLd0WLC8vwNDMoV2dLO/",
          "dtype": "f8"
         }
        },
        {
         "line": {
          "color": "red"
         },
         "mode": "lines+markers",
         "name": "TimeSHAP",
         "type": "scatter",
         "x": {
          "bdata": "AAECAwQFBgcICQoLDA0ODxAREhMUFRYXGBkaGxwdHh8gISIjJCUmJygpKissLS4vMDEyMzQ1Njc4OTo7PD0+P0BBQkNERUZHSElKS0xNTk9QUVJTVFVWV1hZWltcXV5fYGFiY2RlZmdoaWprbG1ub3BxcnN0dXZ3",
          "dtype": "i1"
         },
         "y": {
          "bdata": "AAAAAAAAAAAAAAAAAAAAAAAAAAAAAAAAAAAAAAAAAAAAAAAAAAAAAAAAAAAAAAAAAAAAAAAAAAAAAAAAAAAAAAAAAAAAAAAAAAAAAAAAAAAAAAAAAAAAAAAAAAAAAAAAAAAAAAAAAAAAAAAAAAAAAAAAAAAAAAAAAAAAAAAAAAAAlOvUL4wwvwAAAAAAAAAAAAAAAAAAAAAA9ZzHsbw8v4A3qTHqhCy/gCBQHtSIML8AAAAAAAAAAEA0bBzu+DQ/YBoevb7ySD/ABUS7dAFEP6BEdnE74FI/IDo1ALZLSz/At1T6PJVKPzAXQnPvbEE/AAAAAAAAAADA+wMg7CY0vyDGSBlW2Ea/kOCBt7EkUb/APs/TcuJVv7CwNFUCi1q/QFHy0us/V79QV1hLr2BVv2A5sKNlTEm/oH0VSwgKNb8AAAAAAAAAAIClWKR/Q0k/YFcd/G6eUz/ANOPqol1YP2Bdj52fUFo/YBJHx5aKXT8ANBAg8tFcP1C9qpmm0Vw/oEgY9WsXVT/gCHBKkGJMP4AcUSAA4S4/AAAAAAAAAABg3bEU8DhFv1BvOtflK1S/QAFF+NUwXr8wXUBfbjVdvwgctU86VWC/kOf48yzgX79QHqteBPdev7B5F9TUk1m/cJbZfYGHUr8A1/jhK0s4vwAAAAAAAAAAgD1mnJo/QT9w7+FDe9tVP4g1mdVDdFs/8FNOrI34YT8QesY7C9diPwhD9DerCWM/uI1ok06mYT/A5dGoRU9aP6B+JjQFCVQ/QD4xCimqPz8AAAAAAAAAAMDjw2tiAUi/AEJqNSeTWb8Af+3PdDRdv3AFuFRBzGK/OOFZZwhtZb841iB1wKxmvyDN8zXZoWS/MGqEAl/AXL/wdtVy7vtRv0DlEhAlMkS/wA3YRDyENT/AIcA+dH9UP7hFMZIEP2A/mP8+jbIBZD8glt45TphnP9BGcnpxcGk/hBkfjMf/aD8IyDPevghlPyhog32hXmA/0JPeCwsHUj8AAAAAAAAAACBJGHg/YVG/IDe5oqbyYr9AZqWk6ppqv7Aj5rt7p3C/wDLx+s7Jcr/cbCeneptzv8jfhOzXKXK/eOHVT57ca78watJaFXZbvwAAAAAAAAAAACKovUtJaT+icO/V/JZ4P28oETfwOYM/qht0wW/BiT9KtOCLK/COP8sCveCjFpE/sxn7cSm0kD9ZpQtgMDWMP6XahR0BC4E/AAAAAAAAAACacKBVi1+Fv9j+nQnIJZa/XiF8TigeoL/khkJsRfuhvzjL2Au1c5+/",
          "dtype": "f8"
         }
        }
       ],
       "layout": {
        "shapes": [
         {
          "line": {
           "color": "gray",
           "dash": "dash"
          },
          "type": "line",
          "x0": 0,
          "x1": 1,
          "xref": "x domain",
          "y0": 0,
          "y1": 0,
          "yref": "y"
         }
        ],
        "template": {
         "data": {
          "bar": [
           {
            "error_x": {
             "color": "#2a3f5f"
            },
            "error_y": {
             "color": "#2a3f5f"
            },
            "marker": {
             "line": {
              "color": "white",
              "width": 0.5
             },
             "pattern": {
              "fillmode": "overlay",
              "size": 10,
              "solidity": 0.2
             }
            },
            "type": "bar"
           }
          ],
          "barpolar": [
           {
            "marker": {
             "line": {
              "color": "white",
              "width": 0.5
             },
             "pattern": {
              "fillmode": "overlay",
              "size": 10,
              "solidity": 0.2
             }
            },
            "type": "barpolar"
           }
          ],
          "carpet": [
           {
            "aaxis": {
             "endlinecolor": "#2a3f5f",
             "gridcolor": "#C8D4E3",
             "linecolor": "#C8D4E3",
             "minorgridcolor": "#C8D4E3",
             "startlinecolor": "#2a3f5f"
            },
            "baxis": {
             "endlinecolor": "#2a3f5f",
             "gridcolor": "#C8D4E3",
             "linecolor": "#C8D4E3",
             "minorgridcolor": "#C8D4E3",
             "startlinecolor": "#2a3f5f"
            },
            "type": "carpet"
           }
          ],
          "choropleth": [
           {
            "colorbar": {
             "outlinewidth": 0,
             "ticks": ""
            },
            "type": "choropleth"
           }
          ],
          "contour": [
           {
            "colorbar": {
             "outlinewidth": 0,
             "ticks": ""
            },
            "colorscale": [
             [
              0,
              "#0d0887"
             ],
             [
              0.1111111111111111,
              "#46039f"
             ],
             [
              0.2222222222222222,
              "#7201a8"
             ],
             [
              0.3333333333333333,
              "#9c179e"
             ],
             [
              0.4444444444444444,
              "#bd3786"
             ],
             [
              0.5555555555555556,
              "#d8576b"
             ],
             [
              0.6666666666666666,
              "#ed7953"
             ],
             [
              0.7777777777777778,
              "#fb9f3a"
             ],
             [
              0.8888888888888888,
              "#fdca26"
             ],
             [
              1,
              "#f0f921"
             ]
            ],
            "type": "contour"
           }
          ],
          "contourcarpet": [
           {
            "colorbar": {
             "outlinewidth": 0,
             "ticks": ""
            },
            "type": "contourcarpet"
           }
          ],
          "heatmap": [
           {
            "colorbar": {
             "outlinewidth": 0,
             "ticks": ""
            },
            "colorscale": [
             [
              0,
              "#0d0887"
             ],
             [
              0.1111111111111111,
              "#46039f"
             ],
             [
              0.2222222222222222,
              "#7201a8"
             ],
             [
              0.3333333333333333,
              "#9c179e"
             ],
             [
              0.4444444444444444,
              "#bd3786"
             ],
             [
              0.5555555555555556,
              "#d8576b"
             ],
             [
              0.6666666666666666,
              "#ed7953"
             ],
             [
              0.7777777777777778,
              "#fb9f3a"
             ],
             [
              0.8888888888888888,
              "#fdca26"
             ],
             [
              1,
              "#f0f921"
             ]
            ],
            "type": "heatmap"
           }
          ],
          "histogram": [
           {
            "marker": {
             "pattern": {
              "fillmode": "overlay",
              "size": 10,
              "solidity": 0.2
             }
            },
            "type": "histogram"
           }
          ],
          "histogram2d": [
           {
            "colorbar": {
             "outlinewidth": 0,
             "ticks": ""
            },
            "colorscale": [
             [
              0,
              "#0d0887"
             ],
             [
              0.1111111111111111,
              "#46039f"
             ],
             [
              0.2222222222222222,
              "#7201a8"
             ],
             [
              0.3333333333333333,
              "#9c179e"
             ],
             [
              0.4444444444444444,
              "#bd3786"
             ],
             [
              0.5555555555555556,
              "#d8576b"
             ],
             [
              0.6666666666666666,
              "#ed7953"
             ],
             [
              0.7777777777777778,
              "#fb9f3a"
             ],
             [
              0.8888888888888888,
              "#fdca26"
             ],
             [
              1,
              "#f0f921"
             ]
            ],
            "type": "histogram2d"
           }
          ],
          "histogram2dcontour": [
           {
            "colorbar": {
             "outlinewidth": 0,
             "ticks": ""
            },
            "colorscale": [
             [
              0,
              "#0d0887"
             ],
             [
              0.1111111111111111,
              "#46039f"
             ],
             [
              0.2222222222222222,
              "#7201a8"
             ],
             [
              0.3333333333333333,
              "#9c179e"
             ],
             [
              0.4444444444444444,
              "#bd3786"
             ],
             [
              0.5555555555555556,
              "#d8576b"
             ],
             [
              0.6666666666666666,
              "#ed7953"
             ],
             [
              0.7777777777777778,
              "#fb9f3a"
             ],
             [
              0.8888888888888888,
              "#fdca26"
             ],
             [
              1,
              "#f0f921"
             ]
            ],
            "type": "histogram2dcontour"
           }
          ],
          "mesh3d": [
           {
            "colorbar": {
             "outlinewidth": 0,
             "ticks": ""
            },
            "type": "mesh3d"
           }
          ],
          "parcoords": [
           {
            "line": {
             "colorbar": {
              "outlinewidth": 0,
              "ticks": ""
             }
            },
            "type": "parcoords"
           }
          ],
          "pie": [
           {
            "automargin": true,
            "type": "pie"
           }
          ],
          "scatter": [
           {
            "fillpattern": {
             "fillmode": "overlay",
             "size": 10,
             "solidity": 0.2
            },
            "type": "scatter"
           }
          ],
          "scatter3d": [
           {
            "line": {
             "colorbar": {
              "outlinewidth": 0,
              "ticks": ""
             }
            },
            "marker": {
             "colorbar": {
              "outlinewidth": 0,
              "ticks": ""
             }
            },
            "type": "scatter3d"
           }
          ],
          "scattercarpet": [
           {
            "marker": {
             "colorbar": {
              "outlinewidth": 0,
              "ticks": ""
             }
            },
            "type": "scattercarpet"
           }
          ],
          "scattergeo": [
           {
            "marker": {
             "colorbar": {
              "outlinewidth": 0,
              "ticks": ""
             }
            },
            "type": "scattergeo"
           }
          ],
          "scattergl": [
           {
            "marker": {
             "colorbar": {
              "outlinewidth": 0,
              "ticks": ""
             }
            },
            "type": "scattergl"
           }
          ],
          "scattermap": [
           {
            "marker": {
             "colorbar": {
              "outlinewidth": 0,
              "ticks": ""
             }
            },
            "type": "scattermap"
           }
          ],
          "scattermapbox": [
           {
            "marker": {
             "colorbar": {
              "outlinewidth": 0,
              "ticks": ""
             }
            },
            "type": "scattermapbox"
           }
          ],
          "scatterpolar": [
           {
            "marker": {
             "colorbar": {
              "outlinewidth": 0,
              "ticks": ""
             }
            },
            "type": "scatterpolar"
           }
          ],
          "scatterpolargl": [
           {
            "marker": {
             "colorbar": {
              "outlinewidth": 0,
              "ticks": ""
             }
            },
            "type": "scatterpolargl"
           }
          ],
          "scatterternary": [
           {
            "marker": {
             "colorbar": {
              "outlinewidth": 0,
              "ticks": ""
             }
            },
            "type": "scatterternary"
           }
          ],
          "surface": [
           {
            "colorbar": {
             "outlinewidth": 0,
             "ticks": ""
            },
            "colorscale": [
             [
              0,
              "#0d0887"
             ],
             [
              0.1111111111111111,
              "#46039f"
             ],
             [
              0.2222222222222222,
              "#7201a8"
             ],
             [
              0.3333333333333333,
              "#9c179e"
             ],
             [
              0.4444444444444444,
              "#bd3786"
             ],
             [
              0.5555555555555556,
              "#d8576b"
             ],
             [
              0.6666666666666666,
              "#ed7953"
             ],
             [
              0.7777777777777778,
              "#fb9f3a"
             ],
             [
              0.8888888888888888,
              "#fdca26"
             ],
             [
              1,
              "#f0f921"
             ]
            ],
            "type": "surface"
           }
          ],
          "table": [
           {
            "cells": {
             "fill": {
              "color": "#EBF0F8"
             },
             "line": {
              "color": "white"
             }
            },
            "header": {
             "fill": {
              "color": "#C8D4E3"
             },
             "line": {
              "color": "white"
             }
            },
            "type": "table"
           }
          ]
         },
         "layout": {
          "annotationdefaults": {
           "arrowcolor": "#2a3f5f",
           "arrowhead": 0,
           "arrowwidth": 1
          },
          "autotypenumbers": "strict",
          "coloraxis": {
           "colorbar": {
            "outlinewidth": 0,
            "ticks": ""
           }
          },
          "colorscale": {
           "diverging": [
            [
             0,
             "#8e0152"
            ],
            [
             0.1,
             "#c51b7d"
            ],
            [
             0.2,
             "#de77ae"
            ],
            [
             0.3,
             "#f1b6da"
            ],
            [
             0.4,
             "#fde0ef"
            ],
            [
             0.5,
             "#f7f7f7"
            ],
            [
             0.6,
             "#e6f5d0"
            ],
            [
             0.7,
             "#b8e186"
            ],
            [
             0.8,
             "#7fbc41"
            ],
            [
             0.9,
             "#4d9221"
            ],
            [
             1,
             "#276419"
            ]
           ],
           "sequential": [
            [
             0,
             "#0d0887"
            ],
            [
             0.1111111111111111,
             "#46039f"
            ],
            [
             0.2222222222222222,
             "#7201a8"
            ],
            [
             0.3333333333333333,
             "#9c179e"
            ],
            [
             0.4444444444444444,
             "#bd3786"
            ],
            [
             0.5555555555555556,
             "#d8576b"
            ],
            [
             0.6666666666666666,
             "#ed7953"
            ],
            [
             0.7777777777777778,
             "#fb9f3a"
            ],
            [
             0.8888888888888888,
             "#fdca26"
            ],
            [
             1,
             "#f0f921"
            ]
           ],
           "sequentialminus": [
            [
             0,
             "#0d0887"
            ],
            [
             0.1111111111111111,
             "#46039f"
            ],
            [
             0.2222222222222222,
             "#7201a8"
            ],
            [
             0.3333333333333333,
             "#9c179e"
            ],
            [
             0.4444444444444444,
             "#bd3786"
            ],
            [
             0.5555555555555556,
             "#d8576b"
            ],
            [
             0.6666666666666666,
             "#ed7953"
            ],
            [
             0.7777777777777778,
             "#fb9f3a"
            ],
            [
             0.8888888888888888,
             "#fdca26"
            ],
            [
             1,
             "#f0f921"
            ]
           ]
          },
          "colorway": [
           "#636efa",
           "#EF553B",
           "#00cc96",
           "#ab63fa",
           "#FFA15A",
           "#19d3f3",
           "#FF6692",
           "#B6E880",
           "#FF97FF",
           "#FECB52"
          ],
          "font": {
           "color": "#2a3f5f"
          },
          "geo": {
           "bgcolor": "white",
           "lakecolor": "white",
           "landcolor": "white",
           "showlakes": true,
           "showland": true,
           "subunitcolor": "#C8D4E3"
          },
          "hoverlabel": {
           "align": "left"
          },
          "hovermode": "closest",
          "mapbox": {
           "style": "light"
          },
          "paper_bgcolor": "white",
          "plot_bgcolor": "white",
          "polar": {
           "angularaxis": {
            "gridcolor": "#EBF0F8",
            "linecolor": "#EBF0F8",
            "ticks": ""
           },
           "bgcolor": "white",
           "radialaxis": {
            "gridcolor": "#EBF0F8",
            "linecolor": "#EBF0F8",
            "ticks": ""
           }
          },
          "scene": {
           "xaxis": {
            "backgroundcolor": "white",
            "gridcolor": "#DFE8F3",
            "gridwidth": 2,
            "linecolor": "#EBF0F8",
            "showbackground": true,
            "ticks": "",
            "zerolinecolor": "#EBF0F8"
           },
           "yaxis": {
            "backgroundcolor": "white",
            "gridcolor": "#DFE8F3",
            "gridwidth": 2,
            "linecolor": "#EBF0F8",
            "showbackground": true,
            "ticks": "",
            "zerolinecolor": "#EBF0F8"
           },
           "zaxis": {
            "backgroundcolor": "white",
            "gridcolor": "#DFE8F3",
            "gridwidth": 2,
            "linecolor": "#EBF0F8",
            "showbackground": true,
            "ticks": "",
            "zerolinecolor": "#EBF0F8"
           }
          },
          "shapedefaults": {
           "line": {
            "color": "#2a3f5f"
           }
          },
          "ternary": {
           "aaxis": {
            "gridcolor": "#DFE8F3",
            "linecolor": "#A2B1C6",
            "ticks": ""
           },
           "baxis": {
            "gridcolor": "#DFE8F3",
            "linecolor": "#A2B1C6",
            "ticks": ""
           },
           "bgcolor": "white",
           "caxis": {
            "gridcolor": "#DFE8F3",
            "linecolor": "#A2B1C6",
            "ticks": ""
           }
          },
          "title": {
           "x": 0.05
          },
          "xaxis": {
           "automargin": true,
           "gridcolor": "#EBF0F8",
           "linecolor": "#EBF0F8",
           "ticks": "",
           "title": {
            "standoff": 15
           },
           "zerolinecolor": "#EBF0F8",
           "zerolinewidth": 2
          },
          "yaxis": {
           "automargin": true,
           "gridcolor": "#EBF0F8",
           "linecolor": "#EBF0F8",
           "ticks": "",
           "title": {
            "standoff": 15
           },
           "zerolinecolor": "#EBF0F8",
           "zerolinewidth": 2
          }
         }
        },
        "title": {
         "text": "SHAP vs TimeSHAP for Test Sequence 85"
        },
        "xaxis": {
         "title": {
          "text": "Timestep/Event Number"
         }
        },
        "yaxis": {
         "title": {
          "text": "Explanation Value"
         }
        }
       }
      }
     },
     "metadata": {},
     "output_type": "display_data"
    },
    {
     "name": "stdout",
     "output_type": "stream",
     "text": [
      "\u001b[1m2/2\u001b[0m \u001b[32m━━━━━━━━━━━━━━━━━━━━\u001b[0m\u001b[37m\u001b[0m \u001b[1m0s\u001b[0m 25ms/step\n"
     ]
    },
    {
     "data": {
      "application/vnd.jupyter.widget-view+json": {
       "model_id": "df8cdb97b30744bda4de5d7058eea029",
       "version_major": 2,
       "version_minor": 0
      },
      "text/plain": [
       "  0%|          | 0/1 [00:00<?, ?it/s]"
      ]
     },
     "metadata": {},
     "output_type": "display_data"
    },
    {
     "name": "stdout",
     "output_type": "stream",
     "text": [
      "\u001b[1m1/1\u001b[0m \u001b[32m━━━━━━━━━━━━━━━━━━━━\u001b[0m\u001b[37m\u001b[0m \u001b[1m0s\u001b[0m 15ms/step\n"
     ]
    },
    {
     "name": "stderr",
     "output_type": "stream",
     "text": [
      "2025-03-07 10:56:30,732 - INFO - num_full_subsets = 1\n",
      "2025-03-07 10:56:30,733 - INFO - remaining_weight_vector = [0.11638774 0.07825501 0.05919721 0.04776958 0.04015718 0.03472504\n",
      " 0.0306557  0.027495   0.02497046 0.02290868 0.02119406 0.01974659\n",
      " 0.0185091  0.01743969 0.01650692 0.01568675 0.01496052 0.01431345\n",
      " 0.01373375 0.01321188 0.01274003 0.01231175 0.01192166 0.01156527\n",
      " 0.01123875 0.01093887 0.01066285 0.0104083  0.01017315 0.0099556\n",
      " 0.00975409 0.00956723 0.00939381 0.00923278 0.00908317 0.00894416\n",
      " 0.00881499 0.008695   0.0085836  0.00848024 0.00838447 0.00829583\n",
      " 0.00821397 0.00813852 0.00806919 0.00800569 0.00794777 0.00789523\n",
      " 0.00784786 0.00780549 0.00776796 0.00773515 0.00770693 0.00768322\n",
      " 0.00766393 0.00764899 0.00763835 0.00763198 0.00762986]\n",
      "2025-03-07 10:56:30,733 - INFO - num_paired_subset_sizes = 59\n",
      "2025-03-07 10:56:30,760 - INFO - weight_left = 0.8118838194333013\n"
     ]
    },
    {
     "name": "stdout",
     "output_type": "stream",
     "text": [
      "\u001b[1m3575/3575\u001b[0m \u001b[32m━━━━━━━━━━━━━━━━━━━━\u001b[0m\u001b[37m\u001b[0m \u001b[1m14s\u001b[0m 4ms/step\n"
     ]
    },
    {
     "name": "stderr",
     "output_type": "stream",
     "text": [
      "2025-03-07 10:56:44,685 - INFO - np.sum(w_aug) = 120.0\n",
      "2025-03-07 10:56:44,685 - INFO - np.sum(self.kernelWeights) = 1.0000000000000002\n",
      "2025-03-07 10:56:44,819 - INFO - phi = [-0.00886437 -0.00500194  0.00908745  0.          0.         -0.00496414\n",
      "  0.00607457 -0.00556886  0.          0.00543735  0.          0.00672949\n",
      " -0.00310891 -0.00182714 -0.00404417 -0.00217399  0.00524666 -0.00232086\n",
      " -0.00354752  0.00799057  0.00358655  0.          0.          0.\n",
      "  0.00190967  0.00372036  0.00460647  0.00575913  0.00223489  0.00244468\n",
      "  0.00403919  0.00501639  0.00586413 -0.00343834  0.0025267   0.\n",
      " -0.00189511 -0.01060329  0.         -0.0074355  -0.00657301  0.00581839\n",
      "  0.00521907  0.          0.00519785  0.         -0.0040378  -0.00548393\n",
      " -0.00380713  0.          0.00593672 -0.0012406  -0.00612537  0.\n",
      " -0.00461078  0.          0.         -0.00901658  0.00248864 -0.00554236\n",
      " -0.00481801  0.0015154   0.00276298  0.          0.          0.00609371\n",
      "  0.00718021  0.00255475  0.00223769  0.00316889  0.00278021 -0.0035684\n",
      " -0.00533246 -0.00112057 -0.00891262 -0.01213808 -0.00658745 -0.01167072\n",
      " -0.01396554 -0.00752619 -0.01013779  0.          0.0033132   0.00413763\n",
      "  0.00664503  0.01391206  0.0184742   0.01588655  0.0241938   0.01690321\n",
      "  0.02042531  0.01292471  0.00893496 -0.00820263 -0.00149262 -0.01499284\n",
      " -0.02484219 -0.03183983 -0.03299308 -0.03058489 -0.03029943 -0.02154849\n",
      " -0.00905832  0.0055512   0.01559795  0.03063888  0.04484708  0.05564971\n",
      "  0.05370435  0.06034078  0.05171896  0.04645535  0.02688264  0.\n",
      " -0.02393728 -0.04608835 -0.0694047  -0.07288673 -0.074759   -0.04267273]\n"
     ]
    },
    {
     "name": "stdout",
     "output_type": "stream",
     "text": [
      "\u001b[1m1/1\u001b[0m \u001b[32m━━━━━━━━━━━━━━━━━━━━\u001b[0m\u001b[37m\u001b[0m \u001b[1m0s\u001b[0m 31ms/step\n",
      "\u001b[1m1/1\u001b[0m \u001b[32m━━━━━━━━━━━━━━━━━━━━\u001b[0m\u001b[37m\u001b[0m \u001b[1m0s\u001b[0m 29ms/step\n"
     ]
    },
    {
     "name": "stderr",
     "output_type": "stream",
     "text": [
      "2025-03-07 10:56:44,961 - INFO - num_full_subsets = 1\n",
      "2025-03-07 10:56:44,962 - INFO - remaining_weight_vector = [0.11638774 0.07825501 0.05919721 0.04776958 0.04015718 0.03472504\n",
      " 0.0306557  0.027495   0.02497046 0.02290868 0.02119406 0.01974659\n",
      " 0.0185091  0.01743969 0.01650692 0.01568675 0.01496052 0.01431345\n",
      " 0.01373375 0.01321188 0.01274003 0.01231175 0.01192166 0.01156527\n",
      " 0.01123875 0.01093887 0.01066285 0.0104083  0.01017315 0.0099556\n",
      " 0.00975409 0.00956723 0.00939381 0.00923278 0.00908317 0.00894416\n",
      " 0.00881499 0.008695   0.0085836  0.00848024 0.00838447 0.00829583\n",
      " 0.00821397 0.00813852 0.00806919 0.00800569 0.00794777 0.00789523\n",
      " 0.00784786 0.00780549 0.00776796 0.00773515 0.00770693 0.00768322\n",
      " 0.00766393 0.00764899 0.00763835 0.00763198 0.00762986]\n",
      "2025-03-07 10:56:44,963 - INFO - num_paired_subset_sizes = 59\n",
      "2025-03-07 10:56:45,095 - INFO - weight_left = 0.8118838194333013\n"
     ]
    },
    {
     "name": "stdout",
     "output_type": "stream",
     "text": [
      "\u001b[1m313/313\u001b[0m \u001b[32m━━━━━━━━━━━━━━━━━━━━\u001b[0m\u001b[37m\u001b[0m \u001b[1m1s\u001b[0m 4ms/step\n"
     ]
    },
    {
     "name": "stderr",
     "output_type": "stream",
     "text": [
      "2025-03-07 10:56:46,526 - INFO - np.sum(w_aug) = 120.00000000000001\n",
      "2025-03-07 10:56:46,526 - INFO - np.sum(self.kernelWeights) = 0.9999999999999999\n",
      "2025-03-07 10:56:47,072 - INFO - phi = [ 0.00678839  0.00773743  0.00652099  0.00443574  0.00199605  0.00029343\n",
      " -0.00067493 -0.00074832 -0.00062016  0.          0.00091221  0.00144081\n",
      "  0.00156837  0.00143951  0.00123838  0.00049625 -0.00026457 -0.00114947\n",
      " -0.0019822  -0.00273402 -0.00308155 -0.00321521 -0.00300002 -0.00266468\n",
      " -0.00176712 -0.00088515  0.          0.00108465  0.00189223  0.00259217\n",
      "  0.00300523  0.00336668  0.00313512  0.00285672  0.00239582  0.00143581\n",
      "  0.00049305 -0.00035344 -0.0011877  -0.00218824 -0.00276891 -0.00309321\n",
      " -0.00324195 -0.00307382 -0.0030005  -0.00220077 -0.00158082 -0.00065186\n",
      "  0.00042821  0.00121212  0.00211856  0.00291354  0.00327297  0.00355689\n",
      "  0.00349031  0.00317438  0.00251102  0.00193216  0.00109044  0.\n",
      " -0.00102592 -0.00196979 -0.00241986 -0.00311378 -0.00345238 -0.00375958\n",
      " -0.00330227 -0.00287216 -0.00218592 -0.00144386 -0.00049057  0.00046377\n",
      "  0.00139014  0.00210014  0.00276626  0.00313669  0.00318291  0.00304244\n",
      "  0.00272769  0.00188521  0.00112364  0.         -0.00070081 -0.00135881\n",
      " -0.00207283 -0.00227218 -0.00236408 -0.00203951 -0.00170232 -0.00110316\n",
      " -0.00026138  0.          0.00075233  0.00111425  0.00100707  0.00120508\n",
      "  0.00087079  0.0005662   0.00020876  0.         -0.00036785  0.\n",
      " -0.00024246 -0.00028046  0.          0.          0.          0.\n",
      "  0.          0.          0.          0.          0.          0.\n",
      "  0.          0.          0.          0.          0.          0.        ]\n"
     ]
    },
    {
     "name": "stdout",
     "output_type": "stream",
     "text": [
      "Correlation for sequence 205: -0.0424\n"
     ]
    },
    {
     "data": {
      "application/vnd.plotly.v1+json": {
       "config": {
        "plotlyServerURL": "https://plot.ly"
       },
       "data": [
        {
         "line": {
          "color": "blue"
         },
         "mode": "lines+markers",
         "name": "SHAP",
         "type": "scatter",
         "x": {
          "bdata": "AAECAwQFBgcICQoLDA0ODxAREhMUFRYXGBkaGxwdHh8gISIjJCUmJygpKissLS4vMDEyMzQ1Njc4OTo7PD0+P0BBQkNERUZHSElKS0xNTk9QUVJTVFVWV1hZWltcXV5fYGFiY2RlZmdoaWprbG1ub3BxcnN0dXZ3",
          "dtype": "i1"
         },
         "y": {
          "bdata": "GY8vEnwngr+993wp6nx0v6xmhlJwnII/AAAAAAAAAAAAAAAAAAAAAA8fKKlGVXS/qL50MqXheD9leVKfXs92vwAAAAAAAAAA/vqLX3pFdj8AAAAAAAAAAKWlY7pikHs/LYcR5Np3ab8oM952lu9dv7idpv+ekHC/rkkPczLPYb/SBBKDhH11P5JckdYvA2O/Hndi1q8Pbb8UAn66W12AP1zMYlCKYW0/AAAAAAAAAAAAAAAAAAAAAAAAAAAAAAAAvCmv2blJXz+cQ8u0K3puP6FXncA83nI/HmVErOOWdz9g26Gq5U5iP6P2WZXdBmQ/EjNrs2aLcD+XVptuEYx0PxT3ERT8BHg/n+e3NLsqbL/UHZOF3bJkPwAAAAAAAAAAcOyVjKgMX7+l4zEvLbeFvwAAAAAAAAAAfLtqt7B0fr8o0rfSTOx6v760LEcF1Xc/m2DsgZdgdT8AAAAAAAAAAPZJnUtYSnU/AAAAAAAAAAAO7ftG8Ilwv/XbXJtRdna/eEVQyiEwb78AAAAAAAAAAMzMTI8ZUXg/KuHlTXRTVL9aIaZ96xZ5vwAAAAAAAAAACCJOJMHicr8AAAAAAAAAAAAAAAAAAAAAD05+YUl3gr/yUcPbDWNkP58OGw6Ws3a/FQ4Log28c7/4zh54DNRYP+IzmGpjomY/AAAAAAAAAAAAAAAAAAAAAE7AZi649Xg//zwmvf9ofT8FahHttO1kPyi/VvzHVGI/yPUWs6L1aT/yBTOMhcZmP1aifAJ6O22/dZfTdX7Xdb8Qrcj5B1xSv5OEEhLIQIK/GDfd/tjbiL+C7Tvocft6v9FYwd/Q5oe/Ls7Gp/aZjL/ICAGEyNN+v2xkz6Ifw4S/AAAAAAAAAACsCHVlSCRrP7sVwR+f8nA/yzX3LNE3ez+GfffJ7H2MP8mIbcXm6pI/FuD2iJBEkD8tbu1VQsaYP/hKk+YST5E/4V72I1/qlD97dS54RXiKP3FOlON9TII/xGIHA4rMgL90BvJQf3RYv4RzsHiQtI6/unBueDtwmb8Mq/J8T02gv8zvfOV35KC/iyfz9KRRn79Aj5CN0Aafvz8IlYTOEJa/wyeVhyqNgr/Ga8X/2rx2P0x0b8XQ8Y8/EZvaTMxfnz9Q9A5bMvamP4EHkUMefqw/UbE41iJ/qz8d0VeX/OSuP1BuHkDoeqo/fyg4yv7Ipz/fcMFAH4ebPwAAAAAAAAAANj7X7gODmL8eBu5t5Jinv+KVM6WBxLG/nUI/YbSosr9ImDLmZyOzv+JfSlMz2aW/",
          "dtype": "f8"
         }
        },
        {
         "line": {
          "color": "red"
         },
         "mode": "lines+markers",
         "name": "TimeSHAP",
         "type": "scatter",
         "x": {
          "bdata": "AAECAwQFBgcICQoLDA0ODxAREhMUFRYXGBkaGxwdHh8gISIjJCUmJygpKissLS4vMDEyMzQ1Njc4OTo7PD0+P0BBQkNERUZHSElKS0xNTk9QUVJTVFVWV1hZWltcXV5fYGFiY2RlZmdoaWprbG1ub3BxcnN0dXZ3",
          "dtype": "i1"
         },
         "y": {
          "bdata": "AAAAAAAAAAAAAAAAAAAAAAAAAAAAAAAAAAAAAAAAAAAAAAAAAAAAAAAAAAAAAAAAAAAAAAAAAAAAAAAAAAAAAAAAAAAAAAAAAAAAAAAAAAAAAAAAAAAAAAAAAAAAAAAAAAAAAAAAAAAAAAAAAAAAAAAAAAAAAAAAAAAAAAAAAAAAms98ZGEyv0CB4bCHxy+/AAAAAAAAAAAgPLogfhs4vwAAAAAAAAAAAHLh869cKz8ANPWzqI1CP2CrOQW4iEw/gKI9SnW+Uz9QmAPl9H9QPziH7OyCQVI/AD+svfumSD8AAAAAAAAAAABYfAxAITG/kMeuCPwSUr+QrumKCeRbv9jBKNcptWC/nCpjwNZdY7+Y407uHZ1iv9iA0gAK+2C/wC2uRkhDVr8wHBdkyPZGvwAAAAAAAAAA0CH9kuVoUj84rpMRJONeP7j2Aa5hWGY/KLz+aXbsaD9QMJ7LDBNqPzChXPAasmk/YLoQN0WpZj+QF4qzTzRhP/DUM02txlY/wB3GRrJkPj+wnLOrNxNAv1iyin74p1e/+DH0EDboYb9SVQD4XIdnvzzzdjVbDWu/oH6piWnMbr/IdeKcK0hsv+iNa7kQgmm/vAuL387SY7/wxhFF8SJgv/iYSKkGz1C/AAAAAAAAAACwSdaqpt1RP5DeseQQqF8/3I4Gn/uRZD90rwa3JwFqP4S4EEW3l2w/oNs6WFgjbT/Q3D+y6s9qP1CHHy0i3mc/0NC/x/BaYT/grOdiAtxTPwCq8Wk4EDw/4D+iRCpcRb/oZpSIbOZZv5C1Sj1YB2K/nP3sZH+UaL88/e+xRi5pv0DXvvLajmq/oBq+iO1Wab/s/0uJ0a5mvyzy0O0T7WG/cLiWkpd1U7/ATQrHsCk3vzD/jkEDKEA/KAVGLj2GVz9Up5FPZaBjPwhhWM/5Zmc/2D8219SuaT8w0T9kcJRrPxgXi6Nrnmg/+PPKZS08ZT+AJJMbmABfP0gJnzFcxVE/AAAAAAAAAABAAIHlLwFNv/gyVeDT81y/QNhG0TrUZb/Qd9TogJNov7CBDejKVmq/mLFsqXo+ab9skjGMpWVmv5ygsSn6PGC/cGIIrzzVUr+g297uvFYxvxCImCniQkA/aI8eAyNKVD9g5c3TuZVXPzg9R3s3slk/cPC2hS2bVz/AQOiiIeRNPwAAAAAAAAAAEJU4e0RSRL/gYXdmVoVIv+BAluzCHUa/ANixqP06Mz+kQEphA1pgP774Xfs1K3I/cEEp7MC1ej9W4Q5kR7F/P6IiR5Mjzns/",
          "dtype": "f8"
         }
        }
       ],
       "layout": {
        "shapes": [
         {
          "line": {
           "color": "gray",
           "dash": "dash"
          },
          "type": "line",
          "x0": 0,
          "x1": 1,
          "xref": "x domain",
          "y0": 0,
          "y1": 0,
          "yref": "y"
         }
        ],
        "template": {
         "data": {
          "bar": [
           {
            "error_x": {
             "color": "#2a3f5f"
            },
            "error_y": {
             "color": "#2a3f5f"
            },
            "marker": {
             "line": {
              "color": "white",
              "width": 0.5
             },
             "pattern": {
              "fillmode": "overlay",
              "size": 10,
              "solidity": 0.2
             }
            },
            "type": "bar"
           }
          ],
          "barpolar": [
           {
            "marker": {
             "line": {
              "color": "white",
              "width": 0.5
             },
             "pattern": {
              "fillmode": "overlay",
              "size": 10,
              "solidity": 0.2
             }
            },
            "type": "barpolar"
           }
          ],
          "carpet": [
           {
            "aaxis": {
             "endlinecolor": "#2a3f5f",
             "gridcolor": "#C8D4E3",
             "linecolor": "#C8D4E3",
             "minorgridcolor": "#C8D4E3",
             "startlinecolor": "#2a3f5f"
            },
            "baxis": {
             "endlinecolor": "#2a3f5f",
             "gridcolor": "#C8D4E3",
             "linecolor": "#C8D4E3",
             "minorgridcolor": "#C8D4E3",
             "startlinecolor": "#2a3f5f"
            },
            "type": "carpet"
           }
          ],
          "choropleth": [
           {
            "colorbar": {
             "outlinewidth": 0,
             "ticks": ""
            },
            "type": "choropleth"
           }
          ],
          "contour": [
           {
            "colorbar": {
             "outlinewidth": 0,
             "ticks": ""
            },
            "colorscale": [
             [
              0,
              "#0d0887"
             ],
             [
              0.1111111111111111,
              "#46039f"
             ],
             [
              0.2222222222222222,
              "#7201a8"
             ],
             [
              0.3333333333333333,
              "#9c179e"
             ],
             [
              0.4444444444444444,
              "#bd3786"
             ],
             [
              0.5555555555555556,
              "#d8576b"
             ],
             [
              0.6666666666666666,
              "#ed7953"
             ],
             [
              0.7777777777777778,
              "#fb9f3a"
             ],
             [
              0.8888888888888888,
              "#fdca26"
             ],
             [
              1,
              "#f0f921"
             ]
            ],
            "type": "contour"
           }
          ],
          "contourcarpet": [
           {
            "colorbar": {
             "outlinewidth": 0,
             "ticks": ""
            },
            "type": "contourcarpet"
           }
          ],
          "heatmap": [
           {
            "colorbar": {
             "outlinewidth": 0,
             "ticks": ""
            },
            "colorscale": [
             [
              0,
              "#0d0887"
             ],
             [
              0.1111111111111111,
              "#46039f"
             ],
             [
              0.2222222222222222,
              "#7201a8"
             ],
             [
              0.3333333333333333,
              "#9c179e"
             ],
             [
              0.4444444444444444,
              "#bd3786"
             ],
             [
              0.5555555555555556,
              "#d8576b"
             ],
             [
              0.6666666666666666,
              "#ed7953"
             ],
             [
              0.7777777777777778,
              "#fb9f3a"
             ],
             [
              0.8888888888888888,
              "#fdca26"
             ],
             [
              1,
              "#f0f921"
             ]
            ],
            "type": "heatmap"
           }
          ],
          "histogram": [
           {
            "marker": {
             "pattern": {
              "fillmode": "overlay",
              "size": 10,
              "solidity": 0.2
             }
            },
            "type": "histogram"
           }
          ],
          "histogram2d": [
           {
            "colorbar": {
             "outlinewidth": 0,
             "ticks": ""
            },
            "colorscale": [
             [
              0,
              "#0d0887"
             ],
             [
              0.1111111111111111,
              "#46039f"
             ],
             [
              0.2222222222222222,
              "#7201a8"
             ],
             [
              0.3333333333333333,
              "#9c179e"
             ],
             [
              0.4444444444444444,
              "#bd3786"
             ],
             [
              0.5555555555555556,
              "#d8576b"
             ],
             [
              0.6666666666666666,
              "#ed7953"
             ],
             [
              0.7777777777777778,
              "#fb9f3a"
             ],
             [
              0.8888888888888888,
              "#fdca26"
             ],
             [
              1,
              "#f0f921"
             ]
            ],
            "type": "histogram2d"
           }
          ],
          "histogram2dcontour": [
           {
            "colorbar": {
             "outlinewidth": 0,
             "ticks": ""
            },
            "colorscale": [
             [
              0,
              "#0d0887"
             ],
             [
              0.1111111111111111,
              "#46039f"
             ],
             [
              0.2222222222222222,
              "#7201a8"
             ],
             [
              0.3333333333333333,
              "#9c179e"
             ],
             [
              0.4444444444444444,
              "#bd3786"
             ],
             [
              0.5555555555555556,
              "#d8576b"
             ],
             [
              0.6666666666666666,
              "#ed7953"
             ],
             [
              0.7777777777777778,
              "#fb9f3a"
             ],
             [
              0.8888888888888888,
              "#fdca26"
             ],
             [
              1,
              "#f0f921"
             ]
            ],
            "type": "histogram2dcontour"
           }
          ],
          "mesh3d": [
           {
            "colorbar": {
             "outlinewidth": 0,
             "ticks": ""
            },
            "type": "mesh3d"
           }
          ],
          "parcoords": [
           {
            "line": {
             "colorbar": {
              "outlinewidth": 0,
              "ticks": ""
             }
            },
            "type": "parcoords"
           }
          ],
          "pie": [
           {
            "automargin": true,
            "type": "pie"
           }
          ],
          "scatter": [
           {
            "fillpattern": {
             "fillmode": "overlay",
             "size": 10,
             "solidity": 0.2
            },
            "type": "scatter"
           }
          ],
          "scatter3d": [
           {
            "line": {
             "colorbar": {
              "outlinewidth": 0,
              "ticks": ""
             }
            },
            "marker": {
             "colorbar": {
              "outlinewidth": 0,
              "ticks": ""
             }
            },
            "type": "scatter3d"
           }
          ],
          "scattercarpet": [
           {
            "marker": {
             "colorbar": {
              "outlinewidth": 0,
              "ticks": ""
             }
            },
            "type": "scattercarpet"
           }
          ],
          "scattergeo": [
           {
            "marker": {
             "colorbar": {
              "outlinewidth": 0,
              "ticks": ""
             }
            },
            "type": "scattergeo"
           }
          ],
          "scattergl": [
           {
            "marker": {
             "colorbar": {
              "outlinewidth": 0,
              "ticks": ""
             }
            },
            "type": "scattergl"
           }
          ],
          "scattermap": [
           {
            "marker": {
             "colorbar": {
              "outlinewidth": 0,
              "ticks": ""
             }
            },
            "type": "scattermap"
           }
          ],
          "scattermapbox": [
           {
            "marker": {
             "colorbar": {
              "outlinewidth": 0,
              "ticks": ""
             }
            },
            "type": "scattermapbox"
           }
          ],
          "scatterpolar": [
           {
            "marker": {
             "colorbar": {
              "outlinewidth": 0,
              "ticks": ""
             }
            },
            "type": "scatterpolar"
           }
          ],
          "scatterpolargl": [
           {
            "marker": {
             "colorbar": {
              "outlinewidth": 0,
              "ticks": ""
             }
            },
            "type": "scatterpolargl"
           }
          ],
          "scatterternary": [
           {
            "marker": {
             "colorbar": {
              "outlinewidth": 0,
              "ticks": ""
             }
            },
            "type": "scatterternary"
           }
          ],
          "surface": [
           {
            "colorbar": {
             "outlinewidth": 0,
             "ticks": ""
            },
            "colorscale": [
             [
              0,
              "#0d0887"
             ],
             [
              0.1111111111111111,
              "#46039f"
             ],
             [
              0.2222222222222222,
              "#7201a8"
             ],
             [
              0.3333333333333333,
              "#9c179e"
             ],
             [
              0.4444444444444444,
              "#bd3786"
             ],
             [
              0.5555555555555556,
              "#d8576b"
             ],
             [
              0.6666666666666666,
              "#ed7953"
             ],
             [
              0.7777777777777778,
              "#fb9f3a"
             ],
             [
              0.8888888888888888,
              "#fdca26"
             ],
             [
              1,
              "#f0f921"
             ]
            ],
            "type": "surface"
           }
          ],
          "table": [
           {
            "cells": {
             "fill": {
              "color": "#EBF0F8"
             },
             "line": {
              "color": "white"
             }
            },
            "header": {
             "fill": {
              "color": "#C8D4E3"
             },
             "line": {
              "color": "white"
             }
            },
            "type": "table"
           }
          ]
         },
         "layout": {
          "annotationdefaults": {
           "arrowcolor": "#2a3f5f",
           "arrowhead": 0,
           "arrowwidth": 1
          },
          "autotypenumbers": "strict",
          "coloraxis": {
           "colorbar": {
            "outlinewidth": 0,
            "ticks": ""
           }
          },
          "colorscale": {
           "diverging": [
            [
             0,
             "#8e0152"
            ],
            [
             0.1,
             "#c51b7d"
            ],
            [
             0.2,
             "#de77ae"
            ],
            [
             0.3,
             "#f1b6da"
            ],
            [
             0.4,
             "#fde0ef"
            ],
            [
             0.5,
             "#f7f7f7"
            ],
            [
             0.6,
             "#e6f5d0"
            ],
            [
             0.7,
             "#b8e186"
            ],
            [
             0.8,
             "#7fbc41"
            ],
            [
             0.9,
             "#4d9221"
            ],
            [
             1,
             "#276419"
            ]
           ],
           "sequential": [
            [
             0,
             "#0d0887"
            ],
            [
             0.1111111111111111,
             "#46039f"
            ],
            [
             0.2222222222222222,
             "#7201a8"
            ],
            [
             0.3333333333333333,
             "#9c179e"
            ],
            [
             0.4444444444444444,
             "#bd3786"
            ],
            [
             0.5555555555555556,
             "#d8576b"
            ],
            [
             0.6666666666666666,
             "#ed7953"
            ],
            [
             0.7777777777777778,
             "#fb9f3a"
            ],
            [
             0.8888888888888888,
             "#fdca26"
            ],
            [
             1,
             "#f0f921"
            ]
           ],
           "sequentialminus": [
            [
             0,
             "#0d0887"
            ],
            [
             0.1111111111111111,
             "#46039f"
            ],
            [
             0.2222222222222222,
             "#7201a8"
            ],
            [
             0.3333333333333333,
             "#9c179e"
            ],
            [
             0.4444444444444444,
             "#bd3786"
            ],
            [
             0.5555555555555556,
             "#d8576b"
            ],
            [
             0.6666666666666666,
             "#ed7953"
            ],
            [
             0.7777777777777778,
             "#fb9f3a"
            ],
            [
             0.8888888888888888,
             "#fdca26"
            ],
            [
             1,
             "#f0f921"
            ]
           ]
          },
          "colorway": [
           "#636efa",
           "#EF553B",
           "#00cc96",
           "#ab63fa",
           "#FFA15A",
           "#19d3f3",
           "#FF6692",
           "#B6E880",
           "#FF97FF",
           "#FECB52"
          ],
          "font": {
           "color": "#2a3f5f"
          },
          "geo": {
           "bgcolor": "white",
           "lakecolor": "white",
           "landcolor": "white",
           "showlakes": true,
           "showland": true,
           "subunitcolor": "#C8D4E3"
          },
          "hoverlabel": {
           "align": "left"
          },
          "hovermode": "closest",
          "mapbox": {
           "style": "light"
          },
          "paper_bgcolor": "white",
          "plot_bgcolor": "white",
          "polar": {
           "angularaxis": {
            "gridcolor": "#EBF0F8",
            "linecolor": "#EBF0F8",
            "ticks": ""
           },
           "bgcolor": "white",
           "radialaxis": {
            "gridcolor": "#EBF0F8",
            "linecolor": "#EBF0F8",
            "ticks": ""
           }
          },
          "scene": {
           "xaxis": {
            "backgroundcolor": "white",
            "gridcolor": "#DFE8F3",
            "gridwidth": 2,
            "linecolor": "#EBF0F8",
            "showbackground": true,
            "ticks": "",
            "zerolinecolor": "#EBF0F8"
           },
           "yaxis": {
            "backgroundcolor": "white",
            "gridcolor": "#DFE8F3",
            "gridwidth": 2,
            "linecolor": "#EBF0F8",
            "showbackground": true,
            "ticks": "",
            "zerolinecolor": "#EBF0F8"
           },
           "zaxis": {
            "backgroundcolor": "white",
            "gridcolor": "#DFE8F3",
            "gridwidth": 2,
            "linecolor": "#EBF0F8",
            "showbackground": true,
            "ticks": "",
            "zerolinecolor": "#EBF0F8"
           }
          },
          "shapedefaults": {
           "line": {
            "color": "#2a3f5f"
           }
          },
          "ternary": {
           "aaxis": {
            "gridcolor": "#DFE8F3",
            "linecolor": "#A2B1C6",
            "ticks": ""
           },
           "baxis": {
            "gridcolor": "#DFE8F3",
            "linecolor": "#A2B1C6",
            "ticks": ""
           },
           "bgcolor": "white",
           "caxis": {
            "gridcolor": "#DFE8F3",
            "linecolor": "#A2B1C6",
            "ticks": ""
           }
          },
          "title": {
           "x": 0.05
          },
          "xaxis": {
           "automargin": true,
           "gridcolor": "#EBF0F8",
           "linecolor": "#EBF0F8",
           "ticks": "",
           "title": {
            "standoff": 15
           },
           "zerolinecolor": "#EBF0F8",
           "zerolinewidth": 2
          },
          "yaxis": {
           "automargin": true,
           "gridcolor": "#EBF0F8",
           "linecolor": "#EBF0F8",
           "ticks": "",
           "title": {
            "standoff": 15
           },
           "zerolinecolor": "#EBF0F8",
           "zerolinewidth": 2
          }
         }
        },
        "title": {
         "text": "SHAP vs TimeSHAP for Test Sequence 205"
        },
        "xaxis": {
         "title": {
          "text": "Timestep/Event Number"
         }
        },
        "yaxis": {
         "title": {
          "text": "Explanation Value"
         }
        }
       }
      }
     },
     "metadata": {},
     "output_type": "display_data"
    },
    {
     "name": "stdout",
     "output_type": "stream",
     "text": [
      "\u001b[1m2/2\u001b[0m \u001b[32m━━━━━━━━━━━━━━━━━━━━\u001b[0m\u001b[37m\u001b[0m \u001b[1m0s\u001b[0m 16ms/step\n"
     ]
    },
    {
     "data": {
      "application/vnd.jupyter.widget-view+json": {
       "model_id": "f406f16911a349369ca06541d876c4db",
       "version_major": 2,
       "version_minor": 0
      },
      "text/plain": [
       "  0%|          | 0/1 [00:00<?, ?it/s]"
      ]
     },
     "metadata": {},
     "output_type": "display_data"
    },
    {
     "name": "stdout",
     "output_type": "stream",
     "text": [
      "\u001b[1m1/1\u001b[0m \u001b[32m━━━━━━━━━━━━━━━━━━━━\u001b[0m\u001b[37m\u001b[0m \u001b[1m0s\u001b[0m 14ms/step\n"
     ]
    },
    {
     "name": "stderr",
     "output_type": "stream",
     "text": [
      "2025-03-07 10:56:47,458 - INFO - num_full_subsets = 1\n",
      "2025-03-07 10:56:47,465 - INFO - remaining_weight_vector = [0.11638774 0.07825501 0.05919721 0.04776958 0.04015718 0.03472504\n",
      " 0.0306557  0.027495   0.02497046 0.02290868 0.02119406 0.01974659\n",
      " 0.0185091  0.01743969 0.01650692 0.01568675 0.01496052 0.01431345\n",
      " 0.01373375 0.01321188 0.01274003 0.01231175 0.01192166 0.01156527\n",
      " 0.01123875 0.01093887 0.01066285 0.0104083  0.01017315 0.0099556\n",
      " 0.00975409 0.00956723 0.00939381 0.00923278 0.00908317 0.00894416\n",
      " 0.00881499 0.008695   0.0085836  0.00848024 0.00838447 0.00829583\n",
      " 0.00821397 0.00813852 0.00806919 0.00800569 0.00794777 0.00789523\n",
      " 0.00784786 0.00780549 0.00776796 0.00773515 0.00770693 0.00768322\n",
      " 0.00766393 0.00764899 0.00763835 0.00763198 0.00762986]\n",
      "2025-03-07 10:56:47,468 - INFO - num_paired_subset_sizes = 59\n",
      "2025-03-07 10:56:47,662 - INFO - weight_left = 0.8118838194333013\n"
     ]
    },
    {
     "name": "stdout",
     "output_type": "stream",
     "text": [
      "\u001b[1m3575/3575\u001b[0m \u001b[32m━━━━━━━━━━━━━━━━━━━━\u001b[0m\u001b[37m\u001b[0m \u001b[1m14s\u001b[0m 4ms/step\n"
     ]
    },
    {
     "name": "stderr",
     "output_type": "stream",
     "text": [
      "2025-03-07 10:57:01,586 - INFO - np.sum(w_aug) = 120.0\n",
      "2025-03-07 10:57:01,588 - INFO - np.sum(self.kernelWeights) = 1.0000000000000002\n",
      "2025-03-07 10:57:01,782 - INFO - phi = [-0.0029062  -0.00715253  0.00824553  0.         -0.00497618 -0.00757802\n",
      "  0.         -0.0034376  -0.00389246  0.00182666  0.00534757  0.00726049\n",
      "  0.         -0.00418048 -0.00163374  0.          0.00932838 -0.00432487\n",
      " -0.00371075  0.00932593 -0.00254649 -0.00226316  0.00245372  0.00154861\n",
      " -0.00157766  0.00480683  0.00317774  0.00619064 -0.00234799  0.00422542\n",
      "  0.00236823  0.00252326  0.         -0.00270745  0.          0.\n",
      "  0.00225965 -0.0107872   0.00351085 -0.00439157 -0.0073427   0.\n",
      "  0.00950132 -0.00448311  0.          0.         -0.00472125 -0.01021851\n",
      " -0.00430162  0.          0.00592276  0.00785071 -0.00178443  0.00506168\n",
      "  0.          0.00172494  0.00129941 -0.01088823  0.01055099 -0.00240354\n",
      "  0.          0.00509577  0.00259251  0.00240358  0.00275453  0.00394519\n",
      "  0.00917975  0.00483004 -0.00410572 -0.00304329  0.00542079 -0.00432466\n",
      "  0.         -0.00286139 -0.0078431  -0.00891299 -0.00837766 -0.00539164\n",
      " -0.00558185 -0.00481132 -0.00445571 -0.00226499  0.          0.00708204\n",
      "  0.0022864   0.01236115  0.00878013  0.00581149  0.01198237  0.00952476\n",
      "  0.01321631  0.00275044  0.00508448 -0.00324073  0.00668642 -0.00568854\n",
      " -0.00863658 -0.01656761 -0.01602457 -0.01697276 -0.02282824 -0.01498328\n",
      " -0.01218435  0.          0.00369374  0.01959975  0.02706121  0.0401377\n",
      "  0.05060345  0.06163823  0.06370555  0.06007419  0.04818718  0.0209507\n",
      " -0.01535636 -0.04810071 -0.09273345 -0.12510017 -0.14379208 -0.10891331]\n"
     ]
    },
    {
     "name": "stdout",
     "output_type": "stream",
     "text": [
      "\u001b[1m1/1\u001b[0m \u001b[32m━━━━━━━━━━━━━━━━━━━━\u001b[0m\u001b[37m\u001b[0m \u001b[1m0s\u001b[0m 43ms/step\n",
      "\u001b[1m1/1\u001b[0m \u001b[32m━━━━━━━━━━━━━━━━━━━━\u001b[0m\u001b[37m\u001b[0m \u001b[1m0s\u001b[0m 15ms/step\n"
     ]
    },
    {
     "name": "stderr",
     "output_type": "stream",
     "text": [
      "2025-03-07 10:57:02,078 - INFO - num_full_subsets = 1\n",
      "2025-03-07 10:57:02,079 - INFO - remaining_weight_vector = [0.11638774 0.07825501 0.05919721 0.04776958 0.04015718 0.03472504\n",
      " 0.0306557  0.027495   0.02497046 0.02290868 0.02119406 0.01974659\n",
      " 0.0185091  0.01743969 0.01650692 0.01568675 0.01496052 0.01431345\n",
      " 0.01373375 0.01321188 0.01274003 0.01231175 0.01192166 0.01156527\n",
      " 0.01123875 0.01093887 0.01066285 0.0104083  0.01017315 0.0099556\n",
      " 0.00975409 0.00956723 0.00939381 0.00923278 0.00908317 0.00894416\n",
      " 0.00881499 0.008695   0.0085836  0.00848024 0.00838447 0.00829583\n",
      " 0.00821397 0.00813852 0.00806919 0.00800569 0.00794777 0.00789523\n",
      " 0.00784786 0.00780549 0.00776796 0.00773515 0.00770693 0.00768322\n",
      " 0.00766393 0.00764899 0.00763835 0.00763198 0.00762986]\n",
      "2025-03-07 10:57:02,079 - INFO - num_paired_subset_sizes = 59\n",
      "2025-03-07 10:57:02,186 - INFO - weight_left = 0.8118838194333013\n"
     ]
    },
    {
     "name": "stdout",
     "output_type": "stream",
     "text": [
      "\u001b[1m313/313\u001b[0m \u001b[32m━━━━━━━━━━━━━━━━━━━━\u001b[0m\u001b[37m\u001b[0m \u001b[1m1s\u001b[0m 4ms/step\n"
     ]
    },
    {
     "name": "stderr",
     "output_type": "stream",
     "text": [
      "2025-03-07 10:57:03,505 - INFO - np.sum(w_aug) = 120.00000000000001\n",
      "2025-03-07 10:57:03,505 - INFO - np.sum(self.kernelWeights) = 0.9999999999999999\n",
      "2025-03-07 10:57:03,806 - INFO - phi = [-0.06945073 -0.07312027 -0.06169488 -0.0398562  -0.01760125  0.00241317\n",
      "  0.01683204  0.02563214  0.02846749  0.0276479   0.02324939  0.01818542\n",
      "  0.01302201  0.00794559  0.00398664 -0.00059593 -0.00204549 -0.00363237\n",
      " -0.00519681 -0.00463958 -0.004335   -0.00297326 -0.00238928 -0.001223\n",
      "  0.          0.00101934  0.00141579  0.00203445  0.00258254  0.00292804\n",
      "  0.00307909  0.00150938  0.00054758  0.00128793  0.         -0.0005373\n",
      " -0.00111109 -0.00056197 -0.00131394 -0.00223375 -0.00203136 -0.0016176\n",
      " -0.00099665 -0.00052905 -0.00084976  0.00044057  0.00046772  0.00047366\n",
      "  0.00073884  0.00117552  0.00186921  0.00085926  0.00093977  0.0012264\n",
      "  0.00036316  0.00076098  0.         -0.00037515 -0.00063792 -0.00076835\n",
      " -0.00054076 -0.0004802  -0.00122839 -0.00124823 -0.00062243  0.\n",
      " -0.00057906  0.00044849  0.          0.          0.          0.00117822\n",
      "  0.00114178  0.          0.00095656  0.          0.00099791  0.\n",
      "  0.00056885  0.          0.          0.          0.         -0.00076007\n",
      " -0.00100914 -0.00045689  0.          0.         -0.00047212  0.\n",
      "  0.          0.00062526  0.          0.00043904  0.          0.\n",
      "  0.          0.         -0.00050946  0.          0.          0.\n",
      "  0.00079033 -0.00044831 -0.00064024  0.00041254 -0.00082527  0.\n",
      "  0.         -0.00056588  0.00091674 -0.00061376  0.          0.\n",
      "  0.          0.          0.00039365  0.          0.         -0.00087107]\n"
     ]
    },
    {
     "name": "stdout",
     "output_type": "stream",
     "text": [
      "Correlation for sequence 226: 0.9628\n"
     ]
    },
    {
     "data": {
      "application/vnd.plotly.v1+json": {
       "config": {
        "plotlyServerURL": "https://plot.ly"
       },
       "data": [
        {
         "line": {
          "color": "blue"
         },
         "mode": "lines+markers",
         "name": "SHAP",
         "type": "scatter",
         "x": {
          "bdata": "AAECAwQFBgcICQoLDA0ODxAREhMUFRYXGBkaGxwdHh8gISIjJCUmJygpKissLS4vMDEyMzQ1Njc4OTo7PD0+P0BBQkNERUZHSElKS0xNTk9QUVJTVFVWV1hZWltcXV5fYGFiY2RlZmdoaWprbG1ub3BxcnN0dXZ3",
          "dtype": "i1"
         },
         "y": {
          "bdata": "TwQ3j77OZ7/SooXe+Ut9v9ROdKgH44A/AAAAAAAAAAATjzBo6GF0v7ouRFciCn+/AAAAAAAAAAAZROoUKSlsv/Oktd0T42+/HKVd7pHtXT9u+cPdVOd1P4hQwkAsvX0/AAAAAAAAAAC8JjUPjR9xvxQX94lqxFq/AAAAAAAAAABSKm7QwRqDP5DmxJb0tnG/QQUXr/9lbr+2taCMeBmDP6E+aGJf3GS/AXDyxy+KYr+lPf7W0hlkP9fW+mdbX1k/tzHtFSzZWb/tj612VLBzP+Kblls1CGo/mqUCNVxbeT8mT+vBGDxjv2orBjisTnE/iRqKSIhmYz9VES3CqKtkPwAAAAAAAAAAj6HIte4tZr8AAAAAAAAAAAAAAAAAAAAAPoSKY9SCYj8S8i7DmReGvw510FnJwmw/uuuoyOP8cb94+xPFXxN+vwAAAAAAAAAA7SthwW11gz/sNvn+4FxyvwAAAAAAAAAAAAAAAAAAAABl493/l1Zzvx2YaYNx7YS/ouZl6pKecb8AAAAAAAAAAHe4Rox3Qng/7LmR9wcUgD+u67mTbzxdvw2SEpmPu3Q/AAAAAAAAAACKjTqj6EJcPyA/GgIeSlU/aOM/m5FMhr+VBgYZwpuFP9YimZiYsGO/AAAAAAAAAAAXdhQBTt90P++YM/TkPGU/qpNvLK6wYz9lOhrFrJBmP2O2DV3UKHA/4IE8fdXMgj8XTQerqchzPynYBjwp0XC//uE1hT7uaL8WIDdQHTR2Pw3YMeS7tnG/AAAAAAAAAACNJ0EOx3Bnv5n/LrMKEIC/D/lWwvhAgr8eOBfITiiBv+sNy6GKFXa/O0gzsP7cdr8hZKVOCLVzv8uiSJQnQHK/708wlAmOYr8AAAAAAAAAADVFVY0NAn0/FdIQEO26Yj/u463xzVCJP6Fj855Q+4E/BVWJHsvNdz+OFgFLNoqIP1hOUFy3gYM/vpH9KicRiz+faVMLFYhmP731LpB203Q/Qyl9IEuMar8Rph0hN2N7P0GOUpPeTHe/ch2vrQ6wgb+a5bmBGfeQv7mB/sy+aJC/fNKkZk5hkb8kj5IcSWCXvyXIqfiNr46/DAS0GBz0iL8AAAAAAAAAAAUB1D5VQm4/SDM5DPURlD/NJIe/7rWbPzk8l8jtjKQ/knYyELLoqT+hSE3OC4+vP8mHCNYBT7A/U0caTQvCrj9QkJeH/auoP87F94AZdJU/0QFL8Cdzj79oymwiqKCovy1p2TNhvbe/aOCISUgDwL/t1mNix2fCv27kRBe+4bu/",
          "dtype": "f8"
         }
        },
        {
         "line": {
          "color": "red"
         },
         "mode": "lines+markers",
         "name": "TimeSHAP",
         "type": "scatter",
         "x": {
          "bdata": "AAECAwQFBgcICQoLDA0ODxAREhMUFRYXGBkaGxwdHh8gISIjJCUmJygpKissLS4vMDEyMzQ1Njc4OTo7PD0+P0BBQkNERUZHSElKS0xNTk9QUVJTVFVWV1hZWltcXV5fYGFiY2RlZmdoaWprbG1ub3BxcnN0dXZ3",
          "dtype": "i1"
         },
         "y": {
          "bdata": "gP2gshiLTL8AAAAAAAAAAAAAAAAAAAAAR0vLrkrMOT8AAAAAAAAAAAAAAAAAAAAAAAAAAAAAAAAAAAAAAAAAAFw4iLCWHES/IazwtCIKTj9+f1/P64pCvwAAAAAAAAAAAAAAAAAAAAAiLhH83wpLvwEE4TY8CTs/ejO9ILP6RL/gt4VyZGE9vysnfR+95Uk/AAAAAAAAAAAAAAAAAAAAAAAAAAAAAAAALc5zaa2xQL8AAAAAAAAAAAAAAAAAAAAAAAAAAAAAAAAAAAAAAAAAAGcq2mDwxTw/AAAAAAAAAAC6Ay3LCn1EPwAAAAAAAAAAAAAAAAAAAACJfiu4zPA+vwAAAAAAAAAAAAAAAAAAAABRQZsBVPE9v1y9m8GniFC/6t6H+eXnSL8AAAAAAAAAAAAAAAAAAAAAAAAAAAAAAAAAAAAAAAAAAPfOYOXVo0I/AAAAAAAAAABxPQJDhVlQPwAAAAAAAAAA6VcdhjpYTz8AAAAAAAAAAAJpB4v4tFI/S7jHC85NUz8AAAAAAAAAAAAAAAAAAAAAAAAAAAAAAADaHuAncmQ9P7aImVuM+UK/AAAAAAAAAADK7Nw7WWVEv5j06gx5c1S/CyJEA0EgVL/D2hqQbXg/v9hgCKMxuEG/5UT5l2QtSb9YbOQZQedEv6GlegnolTi/AAAAAAAAAABqtw+ele9IPyWp7TXEzDc/sDj1mOYXVD9IKDrFYstOP+SmuO35J0w/dXCGAwygXj+TDpTkf0JTP/uSZYfXNUg/9ih+C8MKPz+4KOQiAKc+PxO2xS523zw/kcWUqkvYS79LMYWT81VBv4euXzNDVFC/lGHhabCAWr9T+flcEaRgvyBkJIuETGK/6XvXPgyHVb/C23rMHWpCv/olNi0/NFK/4wnOEy+bQb8AAAAAAAAAALCpdCv5GVU/itp+DWjxQT92Tvn7zbpYP+oMunZSOWk/Nm1MBYn8Zz/RKgBJ+SdlPzR7VHSOqmA/YLVuezwyVz9cUUNAb7NQPwAAAAAAAAAA5vgs/p0JVL+uHq/7rpJjvyr+q8lfW2i/IvZztZLBcb/SgzlS8wBzv1MnWik/SXW/7vY1IqHBbb9JVht5tcFgv0U+P+4Eh0O/+mwuAUtUcD85Wx7nxkWAPwwhXXVIq4o/rNrZxTKfkj+XdAIEsM6XPwYDXvy6T5w/uIfLJpUmnT/T3yULUD+aP5D7eFprPJE/WAGfEsfEYz8gLXoWEAaSv0jnXhAIaKS/CjnoxniWr7+YqPmFAriyvyiicu6Fx7G/",
          "dtype": "f8"
         }
        }
       ],
       "layout": {
        "shapes": [
         {
          "line": {
           "color": "gray",
           "dash": "dash"
          },
          "type": "line",
          "x0": 0,
          "x1": 1,
          "xref": "x domain",
          "y0": 0,
          "y1": 0,
          "yref": "y"
         }
        ],
        "template": {
         "data": {
          "bar": [
           {
            "error_x": {
             "color": "#2a3f5f"
            },
            "error_y": {
             "color": "#2a3f5f"
            },
            "marker": {
             "line": {
              "color": "white",
              "width": 0.5
             },
             "pattern": {
              "fillmode": "overlay",
              "size": 10,
              "solidity": 0.2
             }
            },
            "type": "bar"
           }
          ],
          "barpolar": [
           {
            "marker": {
             "line": {
              "color": "white",
              "width": 0.5
             },
             "pattern": {
              "fillmode": "overlay",
              "size": 10,
              "solidity": 0.2
             }
            },
            "type": "barpolar"
           }
          ],
          "carpet": [
           {
            "aaxis": {
             "endlinecolor": "#2a3f5f",
             "gridcolor": "#C8D4E3",
             "linecolor": "#C8D4E3",
             "minorgridcolor": "#C8D4E3",
             "startlinecolor": "#2a3f5f"
            },
            "baxis": {
             "endlinecolor": "#2a3f5f",
             "gridcolor": "#C8D4E3",
             "linecolor": "#C8D4E3",
             "minorgridcolor": "#C8D4E3",
             "startlinecolor": "#2a3f5f"
            },
            "type": "carpet"
           }
          ],
          "choropleth": [
           {
            "colorbar": {
             "outlinewidth": 0,
             "ticks": ""
            },
            "type": "choropleth"
           }
          ],
          "contour": [
           {
            "colorbar": {
             "outlinewidth": 0,
             "ticks": ""
            },
            "colorscale": [
             [
              0,
              "#0d0887"
             ],
             [
              0.1111111111111111,
              "#46039f"
             ],
             [
              0.2222222222222222,
              "#7201a8"
             ],
             [
              0.3333333333333333,
              "#9c179e"
             ],
             [
              0.4444444444444444,
              "#bd3786"
             ],
             [
              0.5555555555555556,
              "#d8576b"
             ],
             [
              0.6666666666666666,
              "#ed7953"
             ],
             [
              0.7777777777777778,
              "#fb9f3a"
             ],
             [
              0.8888888888888888,
              "#fdca26"
             ],
             [
              1,
              "#f0f921"
             ]
            ],
            "type": "contour"
           }
          ],
          "contourcarpet": [
           {
            "colorbar": {
             "outlinewidth": 0,
             "ticks": ""
            },
            "type": "contourcarpet"
           }
          ],
          "heatmap": [
           {
            "colorbar": {
             "outlinewidth": 0,
             "ticks": ""
            },
            "colorscale": [
             [
              0,
              "#0d0887"
             ],
             [
              0.1111111111111111,
              "#46039f"
             ],
             [
              0.2222222222222222,
              "#7201a8"
             ],
             [
              0.3333333333333333,
              "#9c179e"
             ],
             [
              0.4444444444444444,
              "#bd3786"
             ],
             [
              0.5555555555555556,
              "#d8576b"
             ],
             [
              0.6666666666666666,
              "#ed7953"
             ],
             [
              0.7777777777777778,
              "#fb9f3a"
             ],
             [
              0.8888888888888888,
              "#fdca26"
             ],
             [
              1,
              "#f0f921"
             ]
            ],
            "type": "heatmap"
           }
          ],
          "histogram": [
           {
            "marker": {
             "pattern": {
              "fillmode": "overlay",
              "size": 10,
              "solidity": 0.2
             }
            },
            "type": "histogram"
           }
          ],
          "histogram2d": [
           {
            "colorbar": {
             "outlinewidth": 0,
             "ticks": ""
            },
            "colorscale": [
             [
              0,
              "#0d0887"
             ],
             [
              0.1111111111111111,
              "#46039f"
             ],
             [
              0.2222222222222222,
              "#7201a8"
             ],
             [
              0.3333333333333333,
              "#9c179e"
             ],
             [
              0.4444444444444444,
              "#bd3786"
             ],
             [
              0.5555555555555556,
              "#d8576b"
             ],
             [
              0.6666666666666666,
              "#ed7953"
             ],
             [
              0.7777777777777778,
              "#fb9f3a"
             ],
             [
              0.8888888888888888,
              "#fdca26"
             ],
             [
              1,
              "#f0f921"
             ]
            ],
            "type": "histogram2d"
           }
          ],
          "histogram2dcontour": [
           {
            "colorbar": {
             "outlinewidth": 0,
             "ticks": ""
            },
            "colorscale": [
             [
              0,
              "#0d0887"
             ],
             [
              0.1111111111111111,
              "#46039f"
             ],
             [
              0.2222222222222222,
              "#7201a8"
             ],
             [
              0.3333333333333333,
              "#9c179e"
             ],
             [
              0.4444444444444444,
              "#bd3786"
             ],
             [
              0.5555555555555556,
              "#d8576b"
             ],
             [
              0.6666666666666666,
              "#ed7953"
             ],
             [
              0.7777777777777778,
              "#fb9f3a"
             ],
             [
              0.8888888888888888,
              "#fdca26"
             ],
             [
              1,
              "#f0f921"
             ]
            ],
            "type": "histogram2dcontour"
           }
          ],
          "mesh3d": [
           {
            "colorbar": {
             "outlinewidth": 0,
             "ticks": ""
            },
            "type": "mesh3d"
           }
          ],
          "parcoords": [
           {
            "line": {
             "colorbar": {
              "outlinewidth": 0,
              "ticks": ""
             }
            },
            "type": "parcoords"
           }
          ],
          "pie": [
           {
            "automargin": true,
            "type": "pie"
           }
          ],
          "scatter": [
           {
            "fillpattern": {
             "fillmode": "overlay",
             "size": 10,
             "solidity": 0.2
            },
            "type": "scatter"
           }
          ],
          "scatter3d": [
           {
            "line": {
             "colorbar": {
              "outlinewidth": 0,
              "ticks": ""
             }
            },
            "marker": {
             "colorbar": {
              "outlinewidth": 0,
              "ticks": ""
             }
            },
            "type": "scatter3d"
           }
          ],
          "scattercarpet": [
           {
            "marker": {
             "colorbar": {
              "outlinewidth": 0,
              "ticks": ""
             }
            },
            "type": "scattercarpet"
           }
          ],
          "scattergeo": [
           {
            "marker": {
             "colorbar": {
              "outlinewidth": 0,
              "ticks": ""
             }
            },
            "type": "scattergeo"
           }
          ],
          "scattergl": [
           {
            "marker": {
             "colorbar": {
              "outlinewidth": 0,
              "ticks": ""
             }
            },
            "type": "scattergl"
           }
          ],
          "scattermap": [
           {
            "marker": {
             "colorbar": {
              "outlinewidth": 0,
              "ticks": ""
             }
            },
            "type": "scattermap"
           }
          ],
          "scattermapbox": [
           {
            "marker": {
             "colorbar": {
              "outlinewidth": 0,
              "ticks": ""
             }
            },
            "type": "scattermapbox"
           }
          ],
          "scatterpolar": [
           {
            "marker": {
             "colorbar": {
              "outlinewidth": 0,
              "ticks": ""
             }
            },
            "type": "scatterpolar"
           }
          ],
          "scatterpolargl": [
           {
            "marker": {
             "colorbar": {
              "outlinewidth": 0,
              "ticks": ""
             }
            },
            "type": "scatterpolargl"
           }
          ],
          "scatterternary": [
           {
            "marker": {
             "colorbar": {
              "outlinewidth": 0,
              "ticks": ""
             }
            },
            "type": "scatterternary"
           }
          ],
          "surface": [
           {
            "colorbar": {
             "outlinewidth": 0,
             "ticks": ""
            },
            "colorscale": [
             [
              0,
              "#0d0887"
             ],
             [
              0.1111111111111111,
              "#46039f"
             ],
             [
              0.2222222222222222,
              "#7201a8"
             ],
             [
              0.3333333333333333,
              "#9c179e"
             ],
             [
              0.4444444444444444,
              "#bd3786"
             ],
             [
              0.5555555555555556,
              "#d8576b"
             ],
             [
              0.6666666666666666,
              "#ed7953"
             ],
             [
              0.7777777777777778,
              "#fb9f3a"
             ],
             [
              0.8888888888888888,
              "#fdca26"
             ],
             [
              1,
              "#f0f921"
             ]
            ],
            "type": "surface"
           }
          ],
          "table": [
           {
            "cells": {
             "fill": {
              "color": "#EBF0F8"
             },
             "line": {
              "color": "white"
             }
            },
            "header": {
             "fill": {
              "color": "#C8D4E3"
             },
             "line": {
              "color": "white"
             }
            },
            "type": "table"
           }
          ]
         },
         "layout": {
          "annotationdefaults": {
           "arrowcolor": "#2a3f5f",
           "arrowhead": 0,
           "arrowwidth": 1
          },
          "autotypenumbers": "strict",
          "coloraxis": {
           "colorbar": {
            "outlinewidth": 0,
            "ticks": ""
           }
          },
          "colorscale": {
           "diverging": [
            [
             0,
             "#8e0152"
            ],
            [
             0.1,
             "#c51b7d"
            ],
            [
             0.2,
             "#de77ae"
            ],
            [
             0.3,
             "#f1b6da"
            ],
            [
             0.4,
             "#fde0ef"
            ],
            [
             0.5,
             "#f7f7f7"
            ],
            [
             0.6,
             "#e6f5d0"
            ],
            [
             0.7,
             "#b8e186"
            ],
            [
             0.8,
             "#7fbc41"
            ],
            [
             0.9,
             "#4d9221"
            ],
            [
             1,
             "#276419"
            ]
           ],
           "sequential": [
            [
             0,
             "#0d0887"
            ],
            [
             0.1111111111111111,
             "#46039f"
            ],
            [
             0.2222222222222222,
             "#7201a8"
            ],
            [
             0.3333333333333333,
             "#9c179e"
            ],
            [
             0.4444444444444444,
             "#bd3786"
            ],
            [
             0.5555555555555556,
             "#d8576b"
            ],
            [
             0.6666666666666666,
             "#ed7953"
            ],
            [
             0.7777777777777778,
             "#fb9f3a"
            ],
            [
             0.8888888888888888,
             "#fdca26"
            ],
            [
             1,
             "#f0f921"
            ]
           ],
           "sequentialminus": [
            [
             0,
             "#0d0887"
            ],
            [
             0.1111111111111111,
             "#46039f"
            ],
            [
             0.2222222222222222,
             "#7201a8"
            ],
            [
             0.3333333333333333,
             "#9c179e"
            ],
            [
             0.4444444444444444,
             "#bd3786"
            ],
            [
             0.5555555555555556,
             "#d8576b"
            ],
            [
             0.6666666666666666,
             "#ed7953"
            ],
            [
             0.7777777777777778,
             "#fb9f3a"
            ],
            [
             0.8888888888888888,
             "#fdca26"
            ],
            [
             1,
             "#f0f921"
            ]
           ]
          },
          "colorway": [
           "#636efa",
           "#EF553B",
           "#00cc96",
           "#ab63fa",
           "#FFA15A",
           "#19d3f3",
           "#FF6692",
           "#B6E880",
           "#FF97FF",
           "#FECB52"
          ],
          "font": {
           "color": "#2a3f5f"
          },
          "geo": {
           "bgcolor": "white",
           "lakecolor": "white",
           "landcolor": "white",
           "showlakes": true,
           "showland": true,
           "subunitcolor": "#C8D4E3"
          },
          "hoverlabel": {
           "align": "left"
          },
          "hovermode": "closest",
          "mapbox": {
           "style": "light"
          },
          "paper_bgcolor": "white",
          "plot_bgcolor": "white",
          "polar": {
           "angularaxis": {
            "gridcolor": "#EBF0F8",
            "linecolor": "#EBF0F8",
            "ticks": ""
           },
           "bgcolor": "white",
           "radialaxis": {
            "gridcolor": "#EBF0F8",
            "linecolor": "#EBF0F8",
            "ticks": ""
           }
          },
          "scene": {
           "xaxis": {
            "backgroundcolor": "white",
            "gridcolor": "#DFE8F3",
            "gridwidth": 2,
            "linecolor": "#EBF0F8",
            "showbackground": true,
            "ticks": "",
            "zerolinecolor": "#EBF0F8"
           },
           "yaxis": {
            "backgroundcolor": "white",
            "gridcolor": "#DFE8F3",
            "gridwidth": 2,
            "linecolor": "#EBF0F8",
            "showbackground": true,
            "ticks": "",
            "zerolinecolor": "#EBF0F8"
           },
           "zaxis": {
            "backgroundcolor": "white",
            "gridcolor": "#DFE8F3",
            "gridwidth": 2,
            "linecolor": "#EBF0F8",
            "showbackground": true,
            "ticks": "",
            "zerolinecolor": "#EBF0F8"
           }
          },
          "shapedefaults": {
           "line": {
            "color": "#2a3f5f"
           }
          },
          "ternary": {
           "aaxis": {
            "gridcolor": "#DFE8F3",
            "linecolor": "#A2B1C6",
            "ticks": ""
           },
           "baxis": {
            "gridcolor": "#DFE8F3",
            "linecolor": "#A2B1C6",
            "ticks": ""
           },
           "bgcolor": "white",
           "caxis": {
            "gridcolor": "#DFE8F3",
            "linecolor": "#A2B1C6",
            "ticks": ""
           }
          },
          "title": {
           "x": 0.05
          },
          "xaxis": {
           "automargin": true,
           "gridcolor": "#EBF0F8",
           "linecolor": "#EBF0F8",
           "ticks": "",
           "title": {
            "standoff": 15
           },
           "zerolinecolor": "#EBF0F8",
           "zerolinewidth": 2
          },
          "yaxis": {
           "automargin": true,
           "gridcolor": "#EBF0F8",
           "linecolor": "#EBF0F8",
           "ticks": "",
           "title": {
            "standoff": 15
           },
           "zerolinecolor": "#EBF0F8",
           "zerolinewidth": 2
          }
         }
        },
        "title": {
         "text": "SHAP vs TimeSHAP for Test Sequence 226"
        },
        "xaxis": {
         "title": {
          "text": "Timestep/Event Number"
         }
        },
        "yaxis": {
         "title": {
          "text": "Explanation Value"
         }
        }
       }
      }
     },
     "metadata": {},
     "output_type": "display_data"
    },
    {
     "name": "stdout",
     "output_type": "stream",
     "text": [
      "\u001b[1m2/2\u001b[0m \u001b[32m━━━━━━━━━━━━━━━━━━━━\u001b[0m\u001b[37m\u001b[0m \u001b[1m0s\u001b[0m 21ms/step\n"
     ]
    },
    {
     "data": {
      "application/vnd.jupyter.widget-view+json": {
       "model_id": "5cc149da99584474846dff91d047d725",
       "version_major": 2,
       "version_minor": 0
      },
      "text/plain": [
       "  0%|          | 0/1 [00:00<?, ?it/s]"
      ]
     },
     "metadata": {},
     "output_type": "display_data"
    },
    {
     "name": "stdout",
     "output_type": "stream",
     "text": [
      "\u001b[1m1/1\u001b[0m \u001b[32m━━━━━━━━━━━━━━━━━━━━\u001b[0m\u001b[37m\u001b[0m \u001b[1m0s\u001b[0m 20ms/step\n"
     ]
    },
    {
     "name": "stderr",
     "output_type": "stream",
     "text": [
      "2025-03-07 10:57:04,253 - INFO - num_full_subsets = 1\n",
      "2025-03-07 10:57:04,255 - INFO - remaining_weight_vector = [0.11638774 0.07825501 0.05919721 0.04776958 0.04015718 0.03472504\n",
      " 0.0306557  0.027495   0.02497046 0.02290868 0.02119406 0.01974659\n",
      " 0.0185091  0.01743969 0.01650692 0.01568675 0.01496052 0.01431345\n",
      " 0.01373375 0.01321188 0.01274003 0.01231175 0.01192166 0.01156527\n",
      " 0.01123875 0.01093887 0.01066285 0.0104083  0.01017315 0.0099556\n",
      " 0.00975409 0.00956723 0.00939381 0.00923278 0.00908317 0.00894416\n",
      " 0.00881499 0.008695   0.0085836  0.00848024 0.00838447 0.00829583\n",
      " 0.00821397 0.00813852 0.00806919 0.00800569 0.00794777 0.00789523\n",
      " 0.00784786 0.00780549 0.00776796 0.00773515 0.00770693 0.00768322\n",
      " 0.00766393 0.00764899 0.00763835 0.00763198 0.00762986]\n",
      "2025-03-07 10:57:04,255 - INFO - num_paired_subset_sizes = 59\n",
      "2025-03-07 10:57:04,319 - INFO - weight_left = 0.8118838194333013\n"
     ]
    },
    {
     "name": "stdout",
     "output_type": "stream",
     "text": [
      "\u001b[1m3575/3575\u001b[0m \u001b[32m━━━━━━━━━━━━━━━━━━━━\u001b[0m\u001b[37m\u001b[0m \u001b[1m14s\u001b[0m 4ms/step\n"
     ]
    },
    {
     "name": "stderr",
     "output_type": "stream",
     "text": [
      "2025-03-07 10:57:18,381 - INFO - np.sum(w_aug) = 120.0\n",
      "2025-03-07 10:57:18,381 - INFO - np.sum(self.kernelWeights) = 1.0000000000000002\n",
      "2025-03-07 10:57:18,530 - INFO - phi = [-8.03571298e-03  3.13513995e-03  3.69396378e-03  0.00000000e+00\n",
      "  8.41537873e-04  0.00000000e+00  6.75164628e-03 -6.11669905e-03\n",
      "  0.00000000e+00  6.58877002e-03 -3.21448430e-03  2.27537251e-03\n",
      " -1.43828077e-03  0.00000000e+00 -3.17311518e-03 -2.02086492e-03\n",
      "  0.00000000e+00  0.00000000e+00 -2.03453721e-03  3.52325389e-03\n",
      "  6.22599706e-03  2.31122442e-03  0.00000000e+00 -2.44774191e-03\n",
      "  4.92524348e-03  0.00000000e+00  0.00000000e+00  2.92629275e-03\n",
      "  3.32841512e-03  0.00000000e+00  3.47357119e-03  5.47372864e-03\n",
      "  9.10469469e-03 -2.45624770e-03  2.82163505e-03  2.49366092e-03\n",
      " -3.38954060e-03 -7.77570332e-03 -4.52508279e-03 -6.40148616e-03\n",
      " -4.50891843e-03  6.04100320e-03 -1.50969486e-03  4.26538026e-03\n",
      "  7.30774213e-03  2.34829469e-05  0.00000000e+00  1.65018065e-03\n",
      " -1.10270284e-03 -1.34464454e-03  3.31213118e-03 -8.20109815e-03\n",
      " -6.57825202e-03 -7.75091621e-03 -8.37093342e-03 -3.48384045e-03\n",
      " -2.92133668e-03 -5.26376618e-03 -2.63690158e-03 -3.26274640e-03\n",
      " -4.02616075e-03  4.82284937e-03  6.52529565e-03  4.66767439e-03\n",
      "  5.27203176e-03  1.00706506e-02  8.04768401e-03  4.24462779e-03\n",
      "  7.21484825e-03  4.32792852e-03 -4.27999338e-03 -2.44166923e-03\n",
      " -1.23958956e-02 -7.12958362e-03 -1.56501368e-02 -1.76467003e-02\n",
      " -1.00882737e-02 -1.52244054e-02 -1.70582111e-02 -6.11903474e-03\n",
      " -4.78297871e-03  8.02450185e-03  8.46375093e-03  6.86384638e-03\n",
      "  1.70028909e-02  1.74419025e-02  2.56423496e-02  2.14142171e-02\n",
      "  2.30848022e-02  1.35760140e-02  1.50263259e-02  8.40299599e-03\n",
      " -1.95462871e-03 -1.48109664e-02 -1.94669922e-02 -2.79363394e-02\n",
      " -3.28922885e-02 -3.31108325e-02 -3.13421919e-02 -2.54367524e-02\n",
      " -1.78725469e-02 -1.00373740e-02  4.34143898e-03  1.30155994e-02\n",
      "  1.72304657e-02  2.76751979e-02  3.87004483e-02  4.03950024e-02\n",
      "  2.96645117e-02  2.78920545e-02  1.99111085e-02  1.41406372e-02\n",
      "  0.00000000e+00 -1.18303112e-02 -1.51743511e-02 -1.75137048e-02\n",
      " -1.97910300e-02 -5.15888258e-03  0.00000000e+00  1.37305822e-02]\n"
     ]
    },
    {
     "name": "stdout",
     "output_type": "stream",
     "text": [
      "\u001b[1m1/1\u001b[0m \u001b[32m━━━━━━━━━━━━━━━━━━━━\u001b[0m\u001b[37m\u001b[0m \u001b[1m0s\u001b[0m 26ms/step\n",
      "\u001b[1m1/1\u001b[0m \u001b[32m━━━━━━━━━━━━━━━━━━━━\u001b[0m\u001b[37m\u001b[0m \u001b[1m0s\u001b[0m 24ms/step\n"
     ]
    },
    {
     "name": "stderr",
     "output_type": "stream",
     "text": [
      "2025-03-07 10:57:18,665 - INFO - num_full_subsets = 1\n",
      "2025-03-07 10:57:18,666 - INFO - remaining_weight_vector = [0.11638774 0.07825501 0.05919721 0.04776958 0.04015718 0.03472504\n",
      " 0.0306557  0.027495   0.02497046 0.02290868 0.02119406 0.01974659\n",
      " 0.0185091  0.01743969 0.01650692 0.01568675 0.01496052 0.01431345\n",
      " 0.01373375 0.01321188 0.01274003 0.01231175 0.01192166 0.01156527\n",
      " 0.01123875 0.01093887 0.01066285 0.0104083  0.01017315 0.0099556\n",
      " 0.00975409 0.00956723 0.00939381 0.00923278 0.00908317 0.00894416\n",
      " 0.00881499 0.008695   0.0085836  0.00848024 0.00838447 0.00829583\n",
      " 0.00821397 0.00813852 0.00806919 0.00800569 0.00794777 0.00789523\n",
      " 0.00784786 0.00780549 0.00776796 0.00773515 0.00770693 0.00768322\n",
      " 0.00766393 0.00764899 0.00763835 0.00763198 0.00762986]\n",
      "2025-03-07 10:57:18,666 - INFO - num_paired_subset_sizes = 59\n",
      "2025-03-07 10:57:18,805 - INFO - weight_left = 0.8118838194333013\n"
     ]
    },
    {
     "name": "stdout",
     "output_type": "stream",
     "text": [
      "\u001b[1m313/313\u001b[0m \u001b[32m━━━━━━━━━━━━━━━━━━━━\u001b[0m\u001b[37m\u001b[0m \u001b[1m1s\u001b[0m 4ms/step\n"
     ]
    },
    {
     "name": "stderr",
     "output_type": "stream",
     "text": [
      "2025-03-07 10:57:20,224 - INFO - np.sum(w_aug) = 120.00000000000001\n",
      "2025-03-07 10:57:20,225 - INFO - np.sum(self.kernelWeights) = 0.9999999999999999\n",
      "2025-03-07 10:57:20,438 - INFO - phi = [ 0.07628475  0.10105733  0.09831625  0.07816265  0.04913203  0.01793009\n",
      " -0.00867284 -0.03047318 -0.04575992 -0.05429981 -0.05751134 -0.0549056\n",
      " -0.048314   -0.03872593 -0.02767245 -0.01603913 -0.00483809  0.00411926\n",
      "  0.01209525  0.01763986  0.02072064  0.02195272  0.02134606  0.0191804\n",
      "  0.01470708  0.0105331   0.00621485  0.00061433 -0.00258559 -0.00679893\n",
      " -0.00943602 -0.0110154  -0.01151505 -0.01124307 -0.01044055 -0.0085962\n",
      " -0.00570864 -0.00436971 -0.00147389  0.00212797  0.00240789  0.00436401\n",
      "  0.00656356  0.00692161  0.0074759   0.00618454  0.00630251  0.00442648\n",
      "  0.0034053   0.00208327  0.         -0.00108592 -0.00187852 -0.00335341\n",
      " -0.00434783 -0.00460385 -0.00507661 -0.00435891 -0.0041712  -0.00358594\n",
      " -0.00236233 -0.00114931 -0.00024421  0.00120758  0.00218037  0.00339981\n",
      "  0.00497228  0.00494115  0.00472023  0.0054719   0.00398697  0.00324968\n",
      "  0.00142502  0.         -0.00126898 -0.00313551 -0.00406468 -0.00473569\n",
      " -0.00566911 -0.00481893 -0.00441478 -0.00298895 -0.00126996  0.00070627\n",
      "  0.00246638  0.00334862  0.00362251  0.00276041  0.00279859  0.00140771\n",
      "  0.00072206 -0.00108525 -0.00077725 -0.0013847  -0.00085826 -0.00108413\n",
      " -0.00018855  0.          0.          0.00059049  0.00043663  0.\n",
      " -0.00040617  0.         -0.00017504  0.          0.          0.\n",
      " -0.00037939  0.00035823 -0.00071785  0.          0.          0.\n",
      "  0.         -0.0003077   0.00063319 -0.00034898  0.          0.0008931 ]\n"
     ]
    },
    {
     "name": "stdout",
     "output_type": "stream",
     "text": [
      "Correlation for sequence 59: -0.5363\n"
     ]
    },
    {
     "data": {
      "application/vnd.plotly.v1+json": {
       "config": {
        "plotlyServerURL": "https://plot.ly"
       },
       "data": [
        {
         "line": {
          "color": "blue"
         },
         "mode": "lines+markers",
         "name": "SHAP",
         "type": "scatter",
         "x": {
          "bdata": "AAECAwQFBgcICQoLDA0ODxAREhMUFRYXGBkaGxwdHh8gISIjJCUmJygpKissLS4vMDEyMzQ1Njc4OTo7PD0+P0BBQkNERUZHSElKS0xNTk9QUVJTVFVWV1hZWltcXV5fYGFiY2RlZmdoaWprbG1ub3BxcnN0dXZ3",
          "dtype": "i1"
         },
         "y": {
          "bdata": "rMitIwd1gL92OCty3a5pP5f2JLTNQm4/AAAAAAAAAAAyBznSVJNLPwAAAAAAAAAAwJmuP52nez8ImjPm0g15vwAAAAAAAAAAhCQnfNP8ej9DZYMeQ1Vqv8QBFlHNo2I/ETppOJaQV78AAAAAAAAAAEIMJD6B/mm/iSj5lw+OYL8AAAAAAAAAAAAAAAAAAAAA0p9z2buqYL89jfOHzNxsP/fOAFxugHk/Z60FKf3uYj8AAAAAAAAAABOR2G1JDWS/5yXU+n0sdD8AAAAAAAAAAAAAAAAAAAAAAZhRdeH4Zz9Pj2FCMURrPwAAAAAAAAAACbJ7VZt0bD9EV8fXnmt2P+zQdW97pYI/ajAe8R8fZL+YsNHIZR1nP6PJoAKWbWQ/xM/jwGHEa79Yvyt3atl/v/NrdqnkiHK/CupT23E4er/2bjiT8Xdyv2DpInNzvng/jqkdhB68WL8m/NNLk3hxP9LOKhe57n0/92fi0qef+D4AAAAAAAAAACC4MfpbCVs/Ei88KRIRUr9uvzkV2QdWv82fvuMKIms/gXKYwrzLgL/FQ+IUzPF6vz2RY7psv3+/S2E/qsckgb8O/OqZJIpsv43L5q987me/TYO0eXWPdb+n86TB+5llv8SiL6J5umq/1QQqTLx9cL8GBvbEH8FzP7GVcbZEuno/T8qBTWkecz9fB+I/IJh1P+AjGNjrn4Q/a8D73E17gD8QJeWY0GJxP09sYxRRjX0/3TN8dym6cT/Lbp355Ydxv10ZHi+NAGS/16h38gRjib+KIOIH6TN9v+pc+OaWBpC/XAtGA/oRkr+uS1ksKamEv3Tw7Rr5LY+/Yb72K7V3kb8SFWvhRRB5v5Gv3hFRl3O/so8laCZvgD+x47hrcVWBP1tB1LtDHXw/dUHQsTRpkT+WQ8BCStyRPwAnrPP8QZo/xOjjyJvtlT9ba7raiqOXP6nbaL+9zYs/aGg3VB/Gjj/HL7wHlzWBP5rrsEwnA2C//rCWQzZVjr8w1JC6J++Tv5DN2f9Xm5y/zud5DkLXoL82uUwt5/Ogv2BhK3IVDKC/eW4/jxcMmr+/p/pRLk2Sv+Wk94h5joS//YsdJ1TIcT+kA/ou7KeKPyhv7/ncpJE/Bvz/FuNWnD83D46Pi9CjP3ZtVVynrqQ//IrErl9gnj9XXFgXvI+cP31Kp96TY5Q/IHzCMcT1jD8AAAAAAAAAABdAbHx9Ooi/KCmY7boTj7+0prbVHO+Rv1WnJ4oZRJS/1rq6/3ohdb8AAAAAAAAAAJw2DozHHow/",
          "dtype": "f8"
         }
        },
        {
         "line": {
          "color": "red"
         },
         "mode": "lines+markers",
         "name": "TimeSHAP",
         "type": "scatter",
         "x": {
          "bdata": "AAECAwQFBgcICQoLDA0ODxAREhMUFRYXGBkaGxwdHh8gISIjJCUmJygpKissLS4vMDEyMzQ1Njc4OTo7PD0+P0BBQkNERUZHSElKS0xNTk9QUVJTVFVWV1hZWltcXV5fYGFiY2RlZmdoaWprbG1ub3BxcnN0dXZ3",
          "dtype": "i1"
         },
         "y": {
          "bdata": "AHpzPt1DTT8AAAAAAAAAAM5D6Wfu3ja/I6tFZpq/RD/vo5ePaCo0vwAAAAAAAAAAAAAAAAAAAAAAAAAAAAAAAAAAAAAAAAAAnFf9aruFR7/J+n2JGno3PxVoG6wh3Ti/AAAAAAAAAAAAAAAAAAAAAAAAAAAAAAAAXAZThmTxJr8AAAAAAAAAAIrTQOdwnjq/AAAAAAAAAABkQxVVaJ08PyUSW4BZWUM/AAAAAAAAAAAAAAAAAAAAANCEiJSWtii/F3deci/DUb8OGFtsoh9Mv9fZfpvYr1a/nkrg4Q94Sb9hi+9h38dRv9W3CZEbqUc/av8tb18QVz9WHzsCE+1mPwSr0F3/nGY/LuHanvOsbT9XZWNjkW5rP40sSVthNGQ/bHe6QaIkRz8NtlkalM5Uv5fguyxIfGi/KnaXVDoVcr/mo8Y2BL1zv1B0q559OHe/gUgDAbtlc7+hc5+wIKZwvzgIMKClr2m/s5AMMX/KVL8AAAAAAAAAABtSGHP5WFc/x1gTHxKfaj+PAE5GpVRwPzZhxrSyaXY/rn1FPoVVcz+rg+LtKj10P3t+i+jPXXQ/t/o/fOjZaz/YLSiCkdxhP72zYCL6yFM/ojxVtiMBML903R8RkdRSv+0/JdsrWmO/8F3U8EBgbb/BiTZj0RVxv8EsVeSm2nG/+UtzkTbLdL+zn2E9fNtyv7bfRKYIz3G/KnhRYJx4a7+lI1tFF8devz3wEZirylG/AAAAAAAAAAAvEKDN7xBhP/S3yO1u5Ws/ctuoFX8hcj9wEIklqtB5Pwy15PT1VHk/E4DL0wyffj8Tqn5E1ll8P/dAQDVl4no/C1M7X//fcT+18cHAtrljP87MfTavbmE/el1pAvUlWL9dL/ve+eVxv6McNXfyYXe/q+02ruKagb/8tEtZ2mGFv0HQhtGbBoe/J+j53TOVh79ihgfoPY+Gv/0koMgwU4O/r6uDoDHZe78rJUwWYi5lv91cM6VXIUQ/5GkV2r50eT8Td6UOYZKFPzxsPT6/Ho4/1sGpwAakkz8QCjL+vduVP2PLLtbFepY/zEfQ4co3lT9xYhcULxCSP9OeGVllxYg/0taqTFrfcD9A8untGdFzv+8NwOePbJC/PrbOgypWnL+9B8yA4tOjv9tTvbicvKi/1cceM5YcrL/WoUJFIHKtv97rQUovzau/lWiiKthtp79Q0zeQXDSfv2m96oARw4G/UBMjvkNckj/jQJVp1SepP3B//6R3ArQ/fS+Y40AruT/r1j2x5N65P0JiNMVlh7M/",
          "dtype": "f8"
         }
        }
       ],
       "layout": {
        "shapes": [
         {
          "line": {
           "color": "gray",
           "dash": "dash"
          },
          "type": "line",
          "x0": 0,
          "x1": 1,
          "xref": "x domain",
          "y0": 0,
          "y1": 0,
          "yref": "y"
         }
        ],
        "template": {
         "data": {
          "bar": [
           {
            "error_x": {
             "color": "#2a3f5f"
            },
            "error_y": {
             "color": "#2a3f5f"
            },
            "marker": {
             "line": {
              "color": "white",
              "width": 0.5
             },
             "pattern": {
              "fillmode": "overlay",
              "size": 10,
              "solidity": 0.2
             }
            },
            "type": "bar"
           }
          ],
          "barpolar": [
           {
            "marker": {
             "line": {
              "color": "white",
              "width": 0.5
             },
             "pattern": {
              "fillmode": "overlay",
              "size": 10,
              "solidity": 0.2
             }
            },
            "type": "barpolar"
           }
          ],
          "carpet": [
           {
            "aaxis": {
             "endlinecolor": "#2a3f5f",
             "gridcolor": "#C8D4E3",
             "linecolor": "#C8D4E3",
             "minorgridcolor": "#C8D4E3",
             "startlinecolor": "#2a3f5f"
            },
            "baxis": {
             "endlinecolor": "#2a3f5f",
             "gridcolor": "#C8D4E3",
             "linecolor": "#C8D4E3",
             "minorgridcolor": "#C8D4E3",
             "startlinecolor": "#2a3f5f"
            },
            "type": "carpet"
           }
          ],
          "choropleth": [
           {
            "colorbar": {
             "outlinewidth": 0,
             "ticks": ""
            },
            "type": "choropleth"
           }
          ],
          "contour": [
           {
            "colorbar": {
             "outlinewidth": 0,
             "ticks": ""
            },
            "colorscale": [
             [
              0,
              "#0d0887"
             ],
             [
              0.1111111111111111,
              "#46039f"
             ],
             [
              0.2222222222222222,
              "#7201a8"
             ],
             [
              0.3333333333333333,
              "#9c179e"
             ],
             [
              0.4444444444444444,
              "#bd3786"
             ],
             [
              0.5555555555555556,
              "#d8576b"
             ],
             [
              0.6666666666666666,
              "#ed7953"
             ],
             [
              0.7777777777777778,
              "#fb9f3a"
             ],
             [
              0.8888888888888888,
              "#fdca26"
             ],
             [
              1,
              "#f0f921"
             ]
            ],
            "type": "contour"
           }
          ],
          "contourcarpet": [
           {
            "colorbar": {
             "outlinewidth": 0,
             "ticks": ""
            },
            "type": "contourcarpet"
           }
          ],
          "heatmap": [
           {
            "colorbar": {
             "outlinewidth": 0,
             "ticks": ""
            },
            "colorscale": [
             [
              0,
              "#0d0887"
             ],
             [
              0.1111111111111111,
              "#46039f"
             ],
             [
              0.2222222222222222,
              "#7201a8"
             ],
             [
              0.3333333333333333,
              "#9c179e"
             ],
             [
              0.4444444444444444,
              "#bd3786"
             ],
             [
              0.5555555555555556,
              "#d8576b"
             ],
             [
              0.6666666666666666,
              "#ed7953"
             ],
             [
              0.7777777777777778,
              "#fb9f3a"
             ],
             [
              0.8888888888888888,
              "#fdca26"
             ],
             [
              1,
              "#f0f921"
             ]
            ],
            "type": "heatmap"
           }
          ],
          "histogram": [
           {
            "marker": {
             "pattern": {
              "fillmode": "overlay",
              "size": 10,
              "solidity": 0.2
             }
            },
            "type": "histogram"
           }
          ],
          "histogram2d": [
           {
            "colorbar": {
             "outlinewidth": 0,
             "ticks": ""
            },
            "colorscale": [
             [
              0,
              "#0d0887"
             ],
             [
              0.1111111111111111,
              "#46039f"
             ],
             [
              0.2222222222222222,
              "#7201a8"
             ],
             [
              0.3333333333333333,
              "#9c179e"
             ],
             [
              0.4444444444444444,
              "#bd3786"
             ],
             [
              0.5555555555555556,
              "#d8576b"
             ],
             [
              0.6666666666666666,
              "#ed7953"
             ],
             [
              0.7777777777777778,
              "#fb9f3a"
             ],
             [
              0.8888888888888888,
              "#fdca26"
             ],
             [
              1,
              "#f0f921"
             ]
            ],
            "type": "histogram2d"
           }
          ],
          "histogram2dcontour": [
           {
            "colorbar": {
             "outlinewidth": 0,
             "ticks": ""
            },
            "colorscale": [
             [
              0,
              "#0d0887"
             ],
             [
              0.1111111111111111,
              "#46039f"
             ],
             [
              0.2222222222222222,
              "#7201a8"
             ],
             [
              0.3333333333333333,
              "#9c179e"
             ],
             [
              0.4444444444444444,
              "#bd3786"
             ],
             [
              0.5555555555555556,
              "#d8576b"
             ],
             [
              0.6666666666666666,
              "#ed7953"
             ],
             [
              0.7777777777777778,
              "#fb9f3a"
             ],
             [
              0.8888888888888888,
              "#fdca26"
             ],
             [
              1,
              "#f0f921"
             ]
            ],
            "type": "histogram2dcontour"
           }
          ],
          "mesh3d": [
           {
            "colorbar": {
             "outlinewidth": 0,
             "ticks": ""
            },
            "type": "mesh3d"
           }
          ],
          "parcoords": [
           {
            "line": {
             "colorbar": {
              "outlinewidth": 0,
              "ticks": ""
             }
            },
            "type": "parcoords"
           }
          ],
          "pie": [
           {
            "automargin": true,
            "type": "pie"
           }
          ],
          "scatter": [
           {
            "fillpattern": {
             "fillmode": "overlay",
             "size": 10,
             "solidity": 0.2
            },
            "type": "scatter"
           }
          ],
          "scatter3d": [
           {
            "line": {
             "colorbar": {
              "outlinewidth": 0,
              "ticks": ""
             }
            },
            "marker": {
             "colorbar": {
              "outlinewidth": 0,
              "ticks": ""
             }
            },
            "type": "scatter3d"
           }
          ],
          "scattercarpet": [
           {
            "marker": {
             "colorbar": {
              "outlinewidth": 0,
              "ticks": ""
             }
            },
            "type": "scattercarpet"
           }
          ],
          "scattergeo": [
           {
            "marker": {
             "colorbar": {
              "outlinewidth": 0,
              "ticks": ""
             }
            },
            "type": "scattergeo"
           }
          ],
          "scattergl": [
           {
            "marker": {
             "colorbar": {
              "outlinewidth": 0,
              "ticks": ""
             }
            },
            "type": "scattergl"
           }
          ],
          "scattermap": [
           {
            "marker": {
             "colorbar": {
              "outlinewidth": 0,
              "ticks": ""
             }
            },
            "type": "scattermap"
           }
          ],
          "scattermapbox": [
           {
            "marker": {
             "colorbar": {
              "outlinewidth": 0,
              "ticks": ""
             }
            },
            "type": "scattermapbox"
           }
          ],
          "scatterpolar": [
           {
            "marker": {
             "colorbar": {
              "outlinewidth": 0,
              "ticks": ""
             }
            },
            "type": "scatterpolar"
           }
          ],
          "scatterpolargl": [
           {
            "marker": {
             "colorbar": {
              "outlinewidth": 0,
              "ticks": ""
             }
            },
            "type": "scatterpolargl"
           }
          ],
          "scatterternary": [
           {
            "marker": {
             "colorbar": {
              "outlinewidth": 0,
              "ticks": ""
             }
            },
            "type": "scatterternary"
           }
          ],
          "surface": [
           {
            "colorbar": {
             "outlinewidth": 0,
             "ticks": ""
            },
            "colorscale": [
             [
              0,
              "#0d0887"
             ],
             [
              0.1111111111111111,
              "#46039f"
             ],
             [
              0.2222222222222222,
              "#7201a8"
             ],
             [
              0.3333333333333333,
              "#9c179e"
             ],
             [
              0.4444444444444444,
              "#bd3786"
             ],
             [
              0.5555555555555556,
              "#d8576b"
             ],
             [
              0.6666666666666666,
              "#ed7953"
             ],
             [
              0.7777777777777778,
              "#fb9f3a"
             ],
             [
              0.8888888888888888,
              "#fdca26"
             ],
             [
              1,
              "#f0f921"
             ]
            ],
            "type": "surface"
           }
          ],
          "table": [
           {
            "cells": {
             "fill": {
              "color": "#EBF0F8"
             },
             "line": {
              "color": "white"
             }
            },
            "header": {
             "fill": {
              "color": "#C8D4E3"
             },
             "line": {
              "color": "white"
             }
            },
            "type": "table"
           }
          ]
         },
         "layout": {
          "annotationdefaults": {
           "arrowcolor": "#2a3f5f",
           "arrowhead": 0,
           "arrowwidth": 1
          },
          "autotypenumbers": "strict",
          "coloraxis": {
           "colorbar": {
            "outlinewidth": 0,
            "ticks": ""
           }
          },
          "colorscale": {
           "diverging": [
            [
             0,
             "#8e0152"
            ],
            [
             0.1,
             "#c51b7d"
            ],
            [
             0.2,
             "#de77ae"
            ],
            [
             0.3,
             "#f1b6da"
            ],
            [
             0.4,
             "#fde0ef"
            ],
            [
             0.5,
             "#f7f7f7"
            ],
            [
             0.6,
             "#e6f5d0"
            ],
            [
             0.7,
             "#b8e186"
            ],
            [
             0.8,
             "#7fbc41"
            ],
            [
             0.9,
             "#4d9221"
            ],
            [
             1,
             "#276419"
            ]
           ],
           "sequential": [
            [
             0,
             "#0d0887"
            ],
            [
             0.1111111111111111,
             "#46039f"
            ],
            [
             0.2222222222222222,
             "#7201a8"
            ],
            [
             0.3333333333333333,
             "#9c179e"
            ],
            [
             0.4444444444444444,
             "#bd3786"
            ],
            [
             0.5555555555555556,
             "#d8576b"
            ],
            [
             0.6666666666666666,
             "#ed7953"
            ],
            [
             0.7777777777777778,
             "#fb9f3a"
            ],
            [
             0.8888888888888888,
             "#fdca26"
            ],
            [
             1,
             "#f0f921"
            ]
           ],
           "sequentialminus": [
            [
             0,
             "#0d0887"
            ],
            [
             0.1111111111111111,
             "#46039f"
            ],
            [
             0.2222222222222222,
             "#7201a8"
            ],
            [
             0.3333333333333333,
             "#9c179e"
            ],
            [
             0.4444444444444444,
             "#bd3786"
            ],
            [
             0.5555555555555556,
             "#d8576b"
            ],
            [
             0.6666666666666666,
             "#ed7953"
            ],
            [
             0.7777777777777778,
             "#fb9f3a"
            ],
            [
             0.8888888888888888,
             "#fdca26"
            ],
            [
             1,
             "#f0f921"
            ]
           ]
          },
          "colorway": [
           "#636efa",
           "#EF553B",
           "#00cc96",
           "#ab63fa",
           "#FFA15A",
           "#19d3f3",
           "#FF6692",
           "#B6E880",
           "#FF97FF",
           "#FECB52"
          ],
          "font": {
           "color": "#2a3f5f"
          },
          "geo": {
           "bgcolor": "white",
           "lakecolor": "white",
           "landcolor": "white",
           "showlakes": true,
           "showland": true,
           "subunitcolor": "#C8D4E3"
          },
          "hoverlabel": {
           "align": "left"
          },
          "hovermode": "closest",
          "mapbox": {
           "style": "light"
          },
          "paper_bgcolor": "white",
          "plot_bgcolor": "white",
          "polar": {
           "angularaxis": {
            "gridcolor": "#EBF0F8",
            "linecolor": "#EBF0F8",
            "ticks": ""
           },
           "bgcolor": "white",
           "radialaxis": {
            "gridcolor": "#EBF0F8",
            "linecolor": "#EBF0F8",
            "ticks": ""
           }
          },
          "scene": {
           "xaxis": {
            "backgroundcolor": "white",
            "gridcolor": "#DFE8F3",
            "gridwidth": 2,
            "linecolor": "#EBF0F8",
            "showbackground": true,
            "ticks": "",
            "zerolinecolor": "#EBF0F8"
           },
           "yaxis": {
            "backgroundcolor": "white",
            "gridcolor": "#DFE8F3",
            "gridwidth": 2,
            "linecolor": "#EBF0F8",
            "showbackground": true,
            "ticks": "",
            "zerolinecolor": "#EBF0F8"
           },
           "zaxis": {
            "backgroundcolor": "white",
            "gridcolor": "#DFE8F3",
            "gridwidth": 2,
            "linecolor": "#EBF0F8",
            "showbackground": true,
            "ticks": "",
            "zerolinecolor": "#EBF0F8"
           }
          },
          "shapedefaults": {
           "line": {
            "color": "#2a3f5f"
           }
          },
          "ternary": {
           "aaxis": {
            "gridcolor": "#DFE8F3",
            "linecolor": "#A2B1C6",
            "ticks": ""
           },
           "baxis": {
            "gridcolor": "#DFE8F3",
            "linecolor": "#A2B1C6",
            "ticks": ""
           },
           "bgcolor": "white",
           "caxis": {
            "gridcolor": "#DFE8F3",
            "linecolor": "#A2B1C6",
            "ticks": ""
           }
          },
          "title": {
           "x": 0.05
          },
          "xaxis": {
           "automargin": true,
           "gridcolor": "#EBF0F8",
           "linecolor": "#EBF0F8",
           "ticks": "",
           "title": {
            "standoff": 15
           },
           "zerolinecolor": "#EBF0F8",
           "zerolinewidth": 2
          },
          "yaxis": {
           "automargin": true,
           "gridcolor": "#EBF0F8",
           "linecolor": "#EBF0F8",
           "ticks": "",
           "title": {
            "standoff": 15
           },
           "zerolinecolor": "#EBF0F8",
           "zerolinewidth": 2
          }
         }
        },
        "title": {
         "text": "SHAP vs TimeSHAP for Test Sequence 59"
        },
        "xaxis": {
         "title": {
          "text": "Timestep/Event Number"
         }
        },
        "yaxis": {
         "title": {
          "text": "Explanation Value"
         }
        }
       }
      }
     },
     "metadata": {},
     "output_type": "display_data"
    },
    {
     "name": "stdout",
     "output_type": "stream",
     "text": [
      "\u001b[1m2/2\u001b[0m \u001b[32m━━━━━━━━━━━━━━━━━━━━\u001b[0m\u001b[37m\u001b[0m \u001b[1m0s\u001b[0m 20ms/step\n"
     ]
    },
    {
     "data": {
      "application/vnd.jupyter.widget-view+json": {
       "model_id": "424da5ab901f47c3a9075b3f551c124d",
       "version_major": 2,
       "version_minor": 0
      },
      "text/plain": [
       "  0%|          | 0/1 [00:00<?, ?it/s]"
      ]
     },
     "metadata": {},
     "output_type": "display_data"
    },
    {
     "name": "stdout",
     "output_type": "stream",
     "text": [
      "\u001b[1m1/1\u001b[0m \u001b[32m━━━━━━━━━━━━━━━━━━━━\u001b[0m\u001b[37m\u001b[0m \u001b[1m0s\u001b[0m 14ms/step\n"
     ]
    },
    {
     "name": "stderr",
     "output_type": "stream",
     "text": [
      "2025-03-07 10:57:20,788 - INFO - num_full_subsets = 1\n",
      "2025-03-07 10:57:20,788 - INFO - remaining_weight_vector = [0.11638774 0.07825501 0.05919721 0.04776958 0.04015718 0.03472504\n",
      " 0.0306557  0.027495   0.02497046 0.02290868 0.02119406 0.01974659\n",
      " 0.0185091  0.01743969 0.01650692 0.01568675 0.01496052 0.01431345\n",
      " 0.01373375 0.01321188 0.01274003 0.01231175 0.01192166 0.01156527\n",
      " 0.01123875 0.01093887 0.01066285 0.0104083  0.01017315 0.0099556\n",
      " 0.00975409 0.00956723 0.00939381 0.00923278 0.00908317 0.00894416\n",
      " 0.00881499 0.008695   0.0085836  0.00848024 0.00838447 0.00829583\n",
      " 0.00821397 0.00813852 0.00806919 0.00800569 0.00794777 0.00789523\n",
      " 0.00784786 0.00780549 0.00776796 0.00773515 0.00770693 0.00768322\n",
      " 0.00766393 0.00764899 0.00763835 0.00763198 0.00762986]\n",
      "2025-03-07 10:57:20,788 - INFO - num_paired_subset_sizes = 59\n",
      "2025-03-07 10:57:20,817 - INFO - weight_left = 0.8118838194333013\n"
     ]
    },
    {
     "name": "stdout",
     "output_type": "stream",
     "text": [
      "\u001b[1m3575/3575\u001b[0m \u001b[32m━━━━━━━━━━━━━━━━━━━━\u001b[0m\u001b[37m\u001b[0m \u001b[1m14s\u001b[0m 4ms/step\n"
     ]
    },
    {
     "name": "stderr",
     "output_type": "stream",
     "text": [
      "2025-03-07 10:57:34,730 - INFO - np.sum(w_aug) = 120.0\n",
      "2025-03-07 10:57:34,730 - INFO - np.sum(self.kernelWeights) = 1.0000000000000002\n",
      "2025-03-07 10:57:34,885 - INFO - phi = [ 0.00551564  0.          0.00502201  0.         -0.00588429 -0.00907278\n",
      " -0.00490539  0.          0.         -0.00576752  0.00653308  0.00354042\n",
      "  0.          0.          0.         -0.00445128  0.01078365  0.\n",
      "  0.          0.00540455  0.         -0.00250229  0.          0.00528508\n",
      " -0.00574866  0.0057852   0.          0.0048581  -0.00435257  0.\n",
      "  0.         -0.00471627  0.          0.         -0.00722048  0.\n",
      "  0.         -0.00918527  0.          0.         -0.00505397  0.\n",
      "  0.         -0.00458829  0.          0.          0.          0.\n",
      "  0.          0.          0.          0.01207262  0.          0.00578104\n",
      "  0.          0.          0.         -0.00920774  0.01054115  0.\n",
      "  0.          0.00612577  0.          0.          0.00468905  0.00592592\n",
      "  0.00827714  0.          0.          0.          0.00658725  0.\n",
      "  0.00763801  0.         -0.00831647 -0.01042825 -0.00734659 -0.0056372\n",
      "  0.          0.          0.         -0.0062121  -0.00686851  0.01233545\n",
      "  0.          0.01319647  0.00311545  0.          0.00496653  0.00868952\n",
      "  0.00979143  0.          0.          0.          0.          0.\n",
      "  0.         -0.00810069 -0.01134412 -0.00720313 -0.01590019 -0.00459919\n",
      " -0.01166319  0.          0.00972751  0.01477096  0.01117955  0.02712792\n",
      "  0.03708375  0.04598798  0.04655902  0.03819054  0.03377897  0.01180839\n",
      " -0.02722684 -0.04917742 -0.09148528 -0.13921276 -0.15471608 -0.12140841]\n"
     ]
    },
    {
     "name": "stdout",
     "output_type": "stream",
     "text": [
      "\u001b[1m1/1\u001b[0m \u001b[32m━━━━━━━━━━━━━━━━━━━━\u001b[0m\u001b[37m\u001b[0m \u001b[1m0s\u001b[0m 25ms/step\n",
      "\u001b[1m1/1\u001b[0m \u001b[32m━━━━━━━━━━━━━━━━━━━━\u001b[0m\u001b[37m\u001b[0m \u001b[1m0s\u001b[0m 24ms/step\n"
     ]
    },
    {
     "name": "stderr",
     "output_type": "stream",
     "text": [
      "2025-03-07 10:57:34,991 - INFO - num_full_subsets = 1\n",
      "2025-03-07 10:57:34,992 - INFO - remaining_weight_vector = [0.11638774 0.07825501 0.05919721 0.04776958 0.04015718 0.03472504\n",
      " 0.0306557  0.027495   0.02497046 0.02290868 0.02119406 0.01974659\n",
      " 0.0185091  0.01743969 0.01650692 0.01568675 0.01496052 0.01431345\n",
      " 0.01373375 0.01321188 0.01274003 0.01231175 0.01192166 0.01156527\n",
      " 0.01123875 0.01093887 0.01066285 0.0104083  0.01017315 0.0099556\n",
      " 0.00975409 0.00956723 0.00939381 0.00923278 0.00908317 0.00894416\n",
      " 0.00881499 0.008695   0.0085836  0.00848024 0.00838447 0.00829583\n",
      " 0.00821397 0.00813852 0.00806919 0.00800569 0.00794777 0.00789523\n",
      " 0.00784786 0.00780549 0.00776796 0.00773515 0.00770693 0.00768322\n",
      " 0.00766393 0.00764899 0.00763835 0.00763198 0.00762986]\n",
      "2025-03-07 10:57:34,992 - INFO - num_paired_subset_sizes = 59\n",
      "2025-03-07 10:57:35,092 - INFO - weight_left = 0.8118838194333013\n"
     ]
    },
    {
     "name": "stdout",
     "output_type": "stream",
     "text": [
      "\u001b[1m313/313\u001b[0m \u001b[32m━━━━━━━━━━━━━━━━━━━━\u001b[0m\u001b[37m\u001b[0m \u001b[1m1s\u001b[0m 4ms/step\n"
     ]
    },
    {
     "name": "stderr",
     "output_type": "stream",
     "text": [
      "2025-03-07 10:57:36,385 - INFO - np.sum(w_aug) = 120.00000000000001\n",
      "2025-03-07 10:57:36,385 - INFO - np.sum(self.kernelWeights) = 0.9999999999999999\n",
      "2025-03-07 10:57:36,782 - INFO - phi = [-0.09939493 -0.09486669 -0.07962701 -0.0564664  -0.03413231 -0.01267253\n",
      "  0.00515487  0.01992955  0.0236978   0.02581429  0.02227176  0.01489736\n",
      "  0.01265004  0.0095132   0.00540048 -0.00211893  0.         -0.00263862\n",
      " -0.0074835  -0.00286827 -0.00429909 -0.00132616  0.          0.\n",
      "  0.00198487  0.00102731  0.00125021  0.00142568  0.00379641  0.00221318\n",
      "  0.00621778 -0.00150244 -0.00337731  0.0019571   0.          0.\n",
      "  0.          0.00178734  0.         -0.00225408 -0.00177895  0.\n",
      "  0.          0.          0.          0.          0.          0.\n",
      "  0.          0.          0.00276111  0.          0.          0.00128355\n",
      "  0.          0.0009652   0.          0.          0.          0.\n",
      "  0.          0.          0.         -0.00370604  0.          0.00126358\n",
      " -0.00178672  0.00279811  0.          0.          0.          0.00214987\n",
      "  0.00187631 -0.00157544  0.          0.          0.00230377  0.\n",
      "  0.          0.00162568  0.          0.00199533  0.00188591  0.\n",
      " -0.00209513  0.          0.          0.          0.          0.00135157\n",
      "  0.00129911  0.00169363  0.          0.          0.          0.00109989\n",
      "  0.00116507  0.          0.          0.         -0.00277733  0.\n",
      "  0.00252288  0.         -0.0033755   0.00182702 -0.00351443  0.\n",
      "  0.         -0.00297547  0.0034806  -0.00364717  0.         -0.00132285\n",
      "  0.          0.          0.00226542  0.          0.         -0.00216287]\n"
     ]
    },
    {
     "name": "stdout",
     "output_type": "stream",
     "text": [
      "Correlation for sequence 248: 0.9655\n"
     ]
    },
    {
     "data": {
      "application/vnd.plotly.v1+json": {
       "config": {
        "plotlyServerURL": "https://plot.ly"
       },
       "data": [
        {
         "line": {
          "color": "blue"
         },
         "mode": "lines+markers",
         "name": "SHAP",
         "type": "scatter",
         "x": {
          "bdata": "AAECAwQFBgcICQoLDA0ODxAREhMUFRYXGBkaGxwdHh8gISIjJCUmJygpKissLS4vMDEyMzQ1Njc4OTo7PD0+P0BBQkNERUZHSElKS0xNTk9QUVJTVFVWV1hZWltcXV5fYGFiY2RlZmdoaWprbG1ub3BxcnN0dXZ3",
          "dtype": "i1"
         },
         "y": {
          "bdata": "UouH75GXdj8AAAAAAAAAAMLBx9H0kXQ/AAAAAAAAAABh8YtgHxp4v1RZBLm/lIK/tkGAwKwXdL8AAAAAAAAAAAAAAAAAAAAAqxsyE7Cfd7+mo0QRbcJ6Py57bJ7KAG0/AAAAAAAAAAAAAAAAAAAAAAAAAAAAAAAAS4X0GYE7cr+QectwvBWGPwAAAAAAAAAAAAAAAAAAAACznW4aFSN2PwAAAAAAAAAAEsbK2Kx/ZL8AAAAAAAAAAOJncfXOpXU/CFjPLumLd7/a4swuObJ3PwAAAAAAAAAAwz3dIhXmcz8etjRVANRxvwAAAAAAAAAAAAAAAAAAAADVlodcXlFzvwAAAAAAAAAAAAAAAAAAAADc8mSjOJN9vwAAAAAAAAAAAAAAAAAAAADhvtM1us+CvwAAAAAAAAAAAAAAAAAAAACv9BXtd7N0vwAAAAAAAAAAAAAAAAAAAAArUjqoK8tyvwAAAAAAAAAAAAAAAAAAAAAAAAAAAAAAAAAAAAAAAAAAAAAAAAAAAAAAAAAAAAAAAAAAAAAAAAAATUGKHIe5iD8AAAAAAAAAAP5eB5TbrXc/AAAAAAAAAAAAAAAAAAAAAAAAAAAAAAAAJI/9i4Hbgr/0T6+ZmZaFPwAAAAAAAAAAAAAAAAAAAAAIMbcLVhd5PwAAAAAAAAAAAAAAAAAAAAAu3sJ00jRzPxZ9WzDGRXg/y7xHd5vzgD8AAAAAAAAAAAAAAAAAAAAAAAAAAAAAAADtZJv6O/t6PwAAAAAAAAAAO2bm8gdJfz8AAAAAAAAAAEFIrRQ5CIG/EmQRw2dbhb9QmmR7dhd+v1uKjOcHF3e/AAAAAAAAAAAAAAAAAAAAAAAAAAAAAAAAjdBmj9txeb+SZbnOJiJ8v9nN8aJUQ4k/AAAAAAAAAADcqnaQvwaLP+uac32RhWk/AAAAAAAAAAANqrNJyFd0Py1zTQrPy4E/J8S4BYcNhD8AAAAAAAAAAAAAAAAAAAAAAAAAAAAAAAAAAAAAAAAAAAAAAAAAAAAAAAAAAAAAAAAfOGrUF5eAv8SkvWyVO4e/KNR9ZAeBfb+YwKUFJEiQv9m0SMya1nK/qCZ+5t7ih78AAAAAAAAAAMUDkacD7IM/wZzbBjxAjj//VAfJTeWGPxPxZqFrx5s/e/ANTqT8oj9oJtJwvIunP5xaN4+V1qc/6P7U9bWNoz80LlMwekuhP3WvyHf/Log/GXqXPVrhm7+MLfpbyC2pv4MQVkSUa7e/evD2S7nRwb+e4EONvM3Dv4TIsBSfFL+/",
          "dtype": "f8"
         }
        },
        {
         "line": {
          "color": "red"
         },
         "mode": "lines+markers",
         "name": "TimeSHAP",
         "type": "scatter",
         "x": {
          "bdata": "AAECAwQFBgcICQoLDA0ODxAREhMUFRYXGBkaGxwdHh8gISIjJCUmJygpKissLS4vMDEyMzQ1Njc4OTo7PD0+P0BBQkNERUZHSElKS0xNTk9QUVJTVFVWV1hZWltcXV5fYGFiY2RlZmdoaWprbG1ub3BxcnN0dXZ3",
          "dtype": "i1"
         },
         "y": {
          "bdata": "AK+kY9+3Yb8AAAAAAAAAAAAAAAAAAAAAgASZ4O6OYj8AAAAAAAAAAAAAAAAAAAAAADcp52usVb8AAAAAAAAAAACQMj+s4G2/gBIN21eDbD/gd3bDA2BovwAAAAAAAAAAAAAAAAAAAADA1DyeTcpsv4CTzhQZ710/4PS7DvCma78AAAAAAAAAAOD1ZnfeqmQ/AAAAAAAAAABgge8resBmvwAAAAAAAAAAAAAAAAAAAAAAAAAAAAAAAMBLsh+qFlM/QDfCUUQFUj8AAAAAAAAAAAAAAAAAAAAAAAAAAAAAAAAAo1GEmr9bPwBP2T7aSFU/gAE7VOokVj8AAAAAAAAAAAAAAAAAAAAAAAAAAAAAAAAAAAAAAAAAAGBV0YnQKWG/AAAAAAAAAACAR7RjEOZeP0DAcTeEWGA/AAAAAAAAAADA1mTSlKJaPwAAAAAAAAAAAAAAAAAAAAAANVnCWd9iPwAAAAAAAAAAAAAAAAAAAACAIZbb3c9Zv4DZfrPSvV4/AAQoRpicYT8AAAAAAAAAAAAAAAAAAAAAAAAAAAAAAADglhDlDuxmP8DkgwAHRl2/gJBtAtezVD8AAAAAAAAAAEDxMG0eXG6/AAAAAAAAAAAAAAAAAAAAAAAAAAAAAAAAAAAAAAAAAAAAAAAAAAAAAAAAAAAAAAAAAAAAAAAAAAAA6rnQraBPPwAAAAAAAAAAgIUdPpQHVT8AAAAAAAAAAAAAAAAAAAAAgIutlHeeZj8AAAAAAAAAAAAAAAAAAAAAAAAAAAAAAAAAAAAAAAAAAAAAAAAAAAAAAAAAAAAAAAAAAAAAAAAAAAAAAAAAAAAAAAAAAAAAAACAr7bWcSVdvwAHulcjd2K/AAAAAAAAAAAAO/Kzo0hdPwAAAAAAAAAAAAAAAAAAAAAAAAAAAAAAAMCcklJXCGA/wAPoSrmqa7+AMLr2tJ1Yv8Doy8jRd3k/QLSPR2AhYj9gsselpxlvPwB3OBm4W1c/QJYb6cJ7VD9AqU9C2dRQP6DV2TOUQmA/AAAAAAAAAAAAAAAAAAAAAICVwZhMulW/gOWKEeubcb/ACk8tMX9nv6DRsuUEp36/ACaB3pedZb8AAAAAAAAAAMCWYlO4W2G/4I7pUs8edj+IucioqHuDP6BDoDFD6Ik/+Mh1X4KCjj+IgXpLaM6WPwCnCPAPb5o/fMU3fTxEmD9ArTF4aWiUPyDAZ0FFHXU/8HOxnw70ib+EY3o+ynmhvyw4V+Ip6ay/fB96hm9itL/QMCX0Lkm4v1R3Fzbycbm/",
          "dtype": "f8"
         }
        }
       ],
       "layout": {
        "shapes": [
         {
          "line": {
           "color": "gray",
           "dash": "dash"
          },
          "type": "line",
          "x0": 0,
          "x1": 1,
          "xref": "x domain",
          "y0": 0,
          "y1": 0,
          "yref": "y"
         }
        ],
        "template": {
         "data": {
          "bar": [
           {
            "error_x": {
             "color": "#2a3f5f"
            },
            "error_y": {
             "color": "#2a3f5f"
            },
            "marker": {
             "line": {
              "color": "white",
              "width": 0.5
             },
             "pattern": {
              "fillmode": "overlay",
              "size": 10,
              "solidity": 0.2
             }
            },
            "type": "bar"
           }
          ],
          "barpolar": [
           {
            "marker": {
             "line": {
              "color": "white",
              "width": 0.5
             },
             "pattern": {
              "fillmode": "overlay",
              "size": 10,
              "solidity": 0.2
             }
            },
            "type": "barpolar"
           }
          ],
          "carpet": [
           {
            "aaxis": {
             "endlinecolor": "#2a3f5f",
             "gridcolor": "#C8D4E3",
             "linecolor": "#C8D4E3",
             "minorgridcolor": "#C8D4E3",
             "startlinecolor": "#2a3f5f"
            },
            "baxis": {
             "endlinecolor": "#2a3f5f",
             "gridcolor": "#C8D4E3",
             "linecolor": "#C8D4E3",
             "minorgridcolor": "#C8D4E3",
             "startlinecolor": "#2a3f5f"
            },
            "type": "carpet"
           }
          ],
          "choropleth": [
           {
            "colorbar": {
             "outlinewidth": 0,
             "ticks": ""
            },
            "type": "choropleth"
           }
          ],
          "contour": [
           {
            "colorbar": {
             "outlinewidth": 0,
             "ticks": ""
            },
            "colorscale": [
             [
              0,
              "#0d0887"
             ],
             [
              0.1111111111111111,
              "#46039f"
             ],
             [
              0.2222222222222222,
              "#7201a8"
             ],
             [
              0.3333333333333333,
              "#9c179e"
             ],
             [
              0.4444444444444444,
              "#bd3786"
             ],
             [
              0.5555555555555556,
              "#d8576b"
             ],
             [
              0.6666666666666666,
              "#ed7953"
             ],
             [
              0.7777777777777778,
              "#fb9f3a"
             ],
             [
              0.8888888888888888,
              "#fdca26"
             ],
             [
              1,
              "#f0f921"
             ]
            ],
            "type": "contour"
           }
          ],
          "contourcarpet": [
           {
            "colorbar": {
             "outlinewidth": 0,
             "ticks": ""
            },
            "type": "contourcarpet"
           }
          ],
          "heatmap": [
           {
            "colorbar": {
             "outlinewidth": 0,
             "ticks": ""
            },
            "colorscale": [
             [
              0,
              "#0d0887"
             ],
             [
              0.1111111111111111,
              "#46039f"
             ],
             [
              0.2222222222222222,
              "#7201a8"
             ],
             [
              0.3333333333333333,
              "#9c179e"
             ],
             [
              0.4444444444444444,
              "#bd3786"
             ],
             [
              0.5555555555555556,
              "#d8576b"
             ],
             [
              0.6666666666666666,
              "#ed7953"
             ],
             [
              0.7777777777777778,
              "#fb9f3a"
             ],
             [
              0.8888888888888888,
              "#fdca26"
             ],
             [
              1,
              "#f0f921"
             ]
            ],
            "type": "heatmap"
           }
          ],
          "histogram": [
           {
            "marker": {
             "pattern": {
              "fillmode": "overlay",
              "size": 10,
              "solidity": 0.2
             }
            },
            "type": "histogram"
           }
          ],
          "histogram2d": [
           {
            "colorbar": {
             "outlinewidth": 0,
             "ticks": ""
            },
            "colorscale": [
             [
              0,
              "#0d0887"
             ],
             [
              0.1111111111111111,
              "#46039f"
             ],
             [
              0.2222222222222222,
              "#7201a8"
             ],
             [
              0.3333333333333333,
              "#9c179e"
             ],
             [
              0.4444444444444444,
              "#bd3786"
             ],
             [
              0.5555555555555556,
              "#d8576b"
             ],
             [
              0.6666666666666666,
              "#ed7953"
             ],
             [
              0.7777777777777778,
              "#fb9f3a"
             ],
             [
              0.8888888888888888,
              "#fdca26"
             ],
             [
              1,
              "#f0f921"
             ]
            ],
            "type": "histogram2d"
           }
          ],
          "histogram2dcontour": [
           {
            "colorbar": {
             "outlinewidth": 0,
             "ticks": ""
            },
            "colorscale": [
             [
              0,
              "#0d0887"
             ],
             [
              0.1111111111111111,
              "#46039f"
             ],
             [
              0.2222222222222222,
              "#7201a8"
             ],
             [
              0.3333333333333333,
              "#9c179e"
             ],
             [
              0.4444444444444444,
              "#bd3786"
             ],
             [
              0.5555555555555556,
              "#d8576b"
             ],
             [
              0.6666666666666666,
              "#ed7953"
             ],
             [
              0.7777777777777778,
              "#fb9f3a"
             ],
             [
              0.8888888888888888,
              "#fdca26"
             ],
             [
              1,
              "#f0f921"
             ]
            ],
            "type": "histogram2dcontour"
           }
          ],
          "mesh3d": [
           {
            "colorbar": {
             "outlinewidth": 0,
             "ticks": ""
            },
            "type": "mesh3d"
           }
          ],
          "parcoords": [
           {
            "line": {
             "colorbar": {
              "outlinewidth": 0,
              "ticks": ""
             }
            },
            "type": "parcoords"
           }
          ],
          "pie": [
           {
            "automargin": true,
            "type": "pie"
           }
          ],
          "scatter": [
           {
            "fillpattern": {
             "fillmode": "overlay",
             "size": 10,
             "solidity": 0.2
            },
            "type": "scatter"
           }
          ],
          "scatter3d": [
           {
            "line": {
             "colorbar": {
              "outlinewidth": 0,
              "ticks": ""
             }
            },
            "marker": {
             "colorbar": {
              "outlinewidth": 0,
              "ticks": ""
             }
            },
            "type": "scatter3d"
           }
          ],
          "scattercarpet": [
           {
            "marker": {
             "colorbar": {
              "outlinewidth": 0,
              "ticks": ""
             }
            },
            "type": "scattercarpet"
           }
          ],
          "scattergeo": [
           {
            "marker": {
             "colorbar": {
              "outlinewidth": 0,
              "ticks": ""
             }
            },
            "type": "scattergeo"
           }
          ],
          "scattergl": [
           {
            "marker": {
             "colorbar": {
              "outlinewidth": 0,
              "ticks": ""
             }
            },
            "type": "scattergl"
           }
          ],
          "scattermap": [
           {
            "marker": {
             "colorbar": {
              "outlinewidth": 0,
              "ticks": ""
             }
            },
            "type": "scattermap"
           }
          ],
          "scattermapbox": [
           {
            "marker": {
             "colorbar": {
              "outlinewidth": 0,
              "ticks": ""
             }
            },
            "type": "scattermapbox"
           }
          ],
          "scatterpolar": [
           {
            "marker": {
             "colorbar": {
              "outlinewidth": 0,
              "ticks": ""
             }
            },
            "type": "scatterpolar"
           }
          ],
          "scatterpolargl": [
           {
            "marker": {
             "colorbar": {
              "outlinewidth": 0,
              "ticks": ""
             }
            },
            "type": "scatterpolargl"
           }
          ],
          "scatterternary": [
           {
            "marker": {
             "colorbar": {
              "outlinewidth": 0,
              "ticks": ""
             }
            },
            "type": "scatterternary"
           }
          ],
          "surface": [
           {
            "colorbar": {
             "outlinewidth": 0,
             "ticks": ""
            },
            "colorscale": [
             [
              0,
              "#0d0887"
             ],
             [
              0.1111111111111111,
              "#46039f"
             ],
             [
              0.2222222222222222,
              "#7201a8"
             ],
             [
              0.3333333333333333,
              "#9c179e"
             ],
             [
              0.4444444444444444,
              "#bd3786"
             ],
             [
              0.5555555555555556,
              "#d8576b"
             ],
             [
              0.6666666666666666,
              "#ed7953"
             ],
             [
              0.7777777777777778,
              "#fb9f3a"
             ],
             [
              0.8888888888888888,
              "#fdca26"
             ],
             [
              1,
              "#f0f921"
             ]
            ],
            "type": "surface"
           }
          ],
          "table": [
           {
            "cells": {
             "fill": {
              "color": "#EBF0F8"
             },
             "line": {
              "color": "white"
             }
            },
            "header": {
             "fill": {
              "color": "#C8D4E3"
             },
             "line": {
              "color": "white"
             }
            },
            "type": "table"
           }
          ]
         },
         "layout": {
          "annotationdefaults": {
           "arrowcolor": "#2a3f5f",
           "arrowhead": 0,
           "arrowwidth": 1
          },
          "autotypenumbers": "strict",
          "coloraxis": {
           "colorbar": {
            "outlinewidth": 0,
            "ticks": ""
           }
          },
          "colorscale": {
           "diverging": [
            [
             0,
             "#8e0152"
            ],
            [
             0.1,
             "#c51b7d"
            ],
            [
             0.2,
             "#de77ae"
            ],
            [
             0.3,
             "#f1b6da"
            ],
            [
             0.4,
             "#fde0ef"
            ],
            [
             0.5,
             "#f7f7f7"
            ],
            [
             0.6,
             "#e6f5d0"
            ],
            [
             0.7,
             "#b8e186"
            ],
            [
             0.8,
             "#7fbc41"
            ],
            [
             0.9,
             "#4d9221"
            ],
            [
             1,
             "#276419"
            ]
           ],
           "sequential": [
            [
             0,
             "#0d0887"
            ],
            [
             0.1111111111111111,
             "#46039f"
            ],
            [
             0.2222222222222222,
             "#7201a8"
            ],
            [
             0.3333333333333333,
             "#9c179e"
            ],
            [
             0.4444444444444444,
             "#bd3786"
            ],
            [
             0.5555555555555556,
             "#d8576b"
            ],
            [
             0.6666666666666666,
             "#ed7953"
            ],
            [
             0.7777777777777778,
             "#fb9f3a"
            ],
            [
             0.8888888888888888,
             "#fdca26"
            ],
            [
             1,
             "#f0f921"
            ]
           ],
           "sequentialminus": [
            [
             0,
             "#0d0887"
            ],
            [
             0.1111111111111111,
             "#46039f"
            ],
            [
             0.2222222222222222,
             "#7201a8"
            ],
            [
             0.3333333333333333,
             "#9c179e"
            ],
            [
             0.4444444444444444,
             "#bd3786"
            ],
            [
             0.5555555555555556,
             "#d8576b"
            ],
            [
             0.6666666666666666,
             "#ed7953"
            ],
            [
             0.7777777777777778,
             "#fb9f3a"
            ],
            [
             0.8888888888888888,
             "#fdca26"
            ],
            [
             1,
             "#f0f921"
            ]
           ]
          },
          "colorway": [
           "#636efa",
           "#EF553B",
           "#00cc96",
           "#ab63fa",
           "#FFA15A",
           "#19d3f3",
           "#FF6692",
           "#B6E880",
           "#FF97FF",
           "#FECB52"
          ],
          "font": {
           "color": "#2a3f5f"
          },
          "geo": {
           "bgcolor": "white",
           "lakecolor": "white",
           "landcolor": "white",
           "showlakes": true,
           "showland": true,
           "subunitcolor": "#C8D4E3"
          },
          "hoverlabel": {
           "align": "left"
          },
          "hovermode": "closest",
          "mapbox": {
           "style": "light"
          },
          "paper_bgcolor": "white",
          "plot_bgcolor": "white",
          "polar": {
           "angularaxis": {
            "gridcolor": "#EBF0F8",
            "linecolor": "#EBF0F8",
            "ticks": ""
           },
           "bgcolor": "white",
           "radialaxis": {
            "gridcolor": "#EBF0F8",
            "linecolor": "#EBF0F8",
            "ticks": ""
           }
          },
          "scene": {
           "xaxis": {
            "backgroundcolor": "white",
            "gridcolor": "#DFE8F3",
            "gridwidth": 2,
            "linecolor": "#EBF0F8",
            "showbackground": true,
            "ticks": "",
            "zerolinecolor": "#EBF0F8"
           },
           "yaxis": {
            "backgroundcolor": "white",
            "gridcolor": "#DFE8F3",
            "gridwidth": 2,
            "linecolor": "#EBF0F8",
            "showbackground": true,
            "ticks": "",
            "zerolinecolor": "#EBF0F8"
           },
           "zaxis": {
            "backgroundcolor": "white",
            "gridcolor": "#DFE8F3",
            "gridwidth": 2,
            "linecolor": "#EBF0F8",
            "showbackground": true,
            "ticks": "",
            "zerolinecolor": "#EBF0F8"
           }
          },
          "shapedefaults": {
           "line": {
            "color": "#2a3f5f"
           }
          },
          "ternary": {
           "aaxis": {
            "gridcolor": "#DFE8F3",
            "linecolor": "#A2B1C6",
            "ticks": ""
           },
           "baxis": {
            "gridcolor": "#DFE8F3",
            "linecolor": "#A2B1C6",
            "ticks": ""
           },
           "bgcolor": "white",
           "caxis": {
            "gridcolor": "#DFE8F3",
            "linecolor": "#A2B1C6",
            "ticks": ""
           }
          },
          "title": {
           "x": 0.05
          },
          "xaxis": {
           "automargin": true,
           "gridcolor": "#EBF0F8",
           "linecolor": "#EBF0F8",
           "ticks": "",
           "title": {
            "standoff": 15
           },
           "zerolinecolor": "#EBF0F8",
           "zerolinewidth": 2
          },
          "yaxis": {
           "automargin": true,
           "gridcolor": "#EBF0F8",
           "linecolor": "#EBF0F8",
           "ticks": "",
           "title": {
            "standoff": 15
           },
           "zerolinecolor": "#EBF0F8",
           "zerolinewidth": 2
          }
         }
        },
        "title": {
         "text": "SHAP vs TimeSHAP for Test Sequence 248"
        },
        "xaxis": {
         "title": {
          "text": "Timestep/Event Number"
         }
        },
        "yaxis": {
         "title": {
          "text": "Explanation Value"
         }
        }
       }
      }
     },
     "metadata": {},
     "output_type": "display_data"
    },
    {
     "name": "stdout",
     "output_type": "stream",
     "text": [
      "\u001b[1m2/2\u001b[0m \u001b[32m━━━━━━━━━━━━━━━━━━━━\u001b[0m\u001b[37m\u001b[0m \u001b[1m0s\u001b[0m 14ms/step\n"
     ]
    },
    {
     "data": {
      "application/vnd.jupyter.widget-view+json": {
       "model_id": "3a20cf9b9f8344ac957e77eb28398607",
       "version_major": 2,
       "version_minor": 0
      },
      "text/plain": [
       "  0%|          | 0/1 [00:00<?, ?it/s]"
      ]
     },
     "metadata": {},
     "output_type": "display_data"
    },
    {
     "name": "stdout",
     "output_type": "stream",
     "text": [
      "\u001b[1m1/1\u001b[0m \u001b[32m━━━━━━━━━━━━━━━━━━━━\u001b[0m\u001b[37m\u001b[0m \u001b[1m0s\u001b[0m 19ms/step\n"
     ]
    },
    {
     "name": "stderr",
     "output_type": "stream",
     "text": [
      "2025-03-07 10:57:37,111 - INFO - num_full_subsets = 1\n",
      "2025-03-07 10:57:37,111 - INFO - remaining_weight_vector = [0.11638774 0.07825501 0.05919721 0.04776958 0.04015718 0.03472504\n",
      " 0.0306557  0.027495   0.02497046 0.02290868 0.02119406 0.01974659\n",
      " 0.0185091  0.01743969 0.01650692 0.01568675 0.01496052 0.01431345\n",
      " 0.01373375 0.01321188 0.01274003 0.01231175 0.01192166 0.01156527\n",
      " 0.01123875 0.01093887 0.01066285 0.0104083  0.01017315 0.0099556\n",
      " 0.00975409 0.00956723 0.00939381 0.00923278 0.00908317 0.00894416\n",
      " 0.00881499 0.008695   0.0085836  0.00848024 0.00838447 0.00829583\n",
      " 0.00821397 0.00813852 0.00806919 0.00800569 0.00794777 0.00789523\n",
      " 0.00784786 0.00780549 0.00776796 0.00773515 0.00770693 0.00768322\n",
      " 0.00766393 0.00764899 0.00763835 0.00763198 0.00762986]\n",
      "2025-03-07 10:57:37,112 - INFO - num_paired_subset_sizes = 59\n",
      "2025-03-07 10:57:37,157 - INFO - weight_left = 0.8118838194333013\n"
     ]
    },
    {
     "name": "stdout",
     "output_type": "stream",
     "text": [
      "\u001b[1m3575/3575\u001b[0m \u001b[32m━━━━━━━━━━━━━━━━━━━━\u001b[0m\u001b[37m\u001b[0m \u001b[1m14s\u001b[0m 4ms/step\n"
     ]
    },
    {
     "name": "stderr",
     "output_type": "stream",
     "text": [
      "2025-03-07 10:57:51,487 - INFO - np.sum(w_aug) = 120.0\n",
      "2025-03-07 10:57:51,488 - INFO - np.sum(self.kernelWeights) = 1.0000000000000002\n",
      "2025-03-07 10:57:51,761 - INFO - phi = [ 0.0046206   0.          0.00464345  0.         -0.00554192 -0.00934199\n",
      "  0.          0.         -0.00486028  0.          0.0068026   0.00461705\n",
      "  0.          0.          0.         -0.00358526  0.01179807 -0.00358256\n",
      "  0.          0.00570327  0.         -0.00242265  0.00318808  0.00482221\n",
      " -0.0044261   0.00475279  0.          0.00544735 -0.00340233  0.\n",
      "  0.         -0.00421892  0.          0.         -0.00534557  0.\n",
      "  0.         -0.00966195  0.         -0.00224849 -0.00533132  0.\n",
      "  0.         -0.00474548  0.          0.         -0.00480185 -0.00665022\n",
      "  0.          0.          0.          0.0122117   0.          0.00602987\n",
      "  0.          0.          0.         -0.00836339  0.01124866  0.\n",
      "  0.          0.00724041  0.          0.          0.0056253   0.00589109\n",
      "  0.00771422  0.          0.          0.          0.00652042  0.\n",
      "  0.00699012  0.         -0.00784266 -0.01004012 -0.00672285 -0.00655969\n",
      "  0.         -0.00367728  0.         -0.00487858 -0.00525574  0.01212955\n",
      "  0.          0.0138299   0.00450036  0.          0.00556761  0.00862396\n",
      "  0.01073513  0.          0.          0.          0.          0.\n",
      "  0.         -0.00811814 -0.0114372  -0.00870327 -0.01758866 -0.00573405\n",
      " -0.01264053  0.          0.00787589  0.01577348  0.01502914  0.02869407\n",
      "  0.03912352  0.04746089  0.04986429  0.04098546  0.03664479  0.01314426\n",
      " -0.02590928 -0.04935535 -0.09144981 -0.13901439 -0.15494978 -0.12243655]\n"
     ]
    },
    {
     "name": "stdout",
     "output_type": "stream",
     "text": [
      "\u001b[1m1/1\u001b[0m \u001b[32m━━━━━━━━━━━━━━━━━━━━\u001b[0m\u001b[37m\u001b[0m \u001b[1m0s\u001b[0m 28ms/step\n",
      "\u001b[1m1/1\u001b[0m \u001b[32m━━━━━━━━━━━━━━━━━━━━\u001b[0m\u001b[37m\u001b[0m \u001b[1m0s\u001b[0m 28ms/step\n"
     ]
    },
    {
     "name": "stderr",
     "output_type": "stream",
     "text": [
      "2025-03-07 10:57:51,933 - INFO - num_full_subsets = 1\n",
      "2025-03-07 10:57:51,936 - INFO - remaining_weight_vector = [0.11638774 0.07825501 0.05919721 0.04776958 0.04015718 0.03472504\n",
      " 0.0306557  0.027495   0.02497046 0.02290868 0.02119406 0.01974659\n",
      " 0.0185091  0.01743969 0.01650692 0.01568675 0.01496052 0.01431345\n",
      " 0.01373375 0.01321188 0.01274003 0.01231175 0.01192166 0.01156527\n",
      " 0.01123875 0.01093887 0.01066285 0.0104083  0.01017315 0.0099556\n",
      " 0.00975409 0.00956723 0.00939381 0.00923278 0.00908317 0.00894416\n",
      " 0.00881499 0.008695   0.0085836  0.00848024 0.00838447 0.00829583\n",
      " 0.00821397 0.00813852 0.00806919 0.00800569 0.00794777 0.00789523\n",
      " 0.00784786 0.00780549 0.00776796 0.00773515 0.00770693 0.00768322\n",
      " 0.00766393 0.00764899 0.00763835 0.00763198 0.00762986]\n",
      "2025-03-07 10:57:51,937 - INFO - num_paired_subset_sizes = 59\n",
      "2025-03-07 10:57:52,056 - INFO - weight_left = 0.8118838194333013\n"
     ]
    },
    {
     "name": "stdout",
     "output_type": "stream",
     "text": [
      "\u001b[1m313/313\u001b[0m \u001b[32m━━━━━━━━━━━━━━━━━━━━\u001b[0m\u001b[37m\u001b[0m \u001b[1m1s\u001b[0m 4ms/step\n"
     ]
    },
    {
     "name": "stderr",
     "output_type": "stream",
     "text": [
      "2025-03-07 10:57:53,327 - INFO - np.sum(w_aug) = 120.00000000000001\n",
      "2025-03-07 10:57:53,327 - INFO - np.sum(self.kernelWeights) = 0.9999999999999999\n",
      "2025-03-07 10:57:53,551 - INFO - phi = [-0.09758339 -0.09487863 -0.07915769 -0.05521238 -0.03224937 -0.01061862\n",
      "  0.0070449   0.02141031  0.02518102  0.02686724  0.02294637  0.01643341\n",
      "  0.01349084  0.00990961  0.00564267 -0.00189593  0.         -0.00293253\n",
      " -0.0074744  -0.00351937 -0.00467106 -0.00153243  0.          0.\n",
      "  0.00196664  0.00131855  0.00152696  0.00192963  0.00372187  0.00242969\n",
      "  0.00574722  0.         -0.00286573  0.00189569  0.          0.\n",
      "  0.          0.00149259  0.         -0.00240659 -0.00181259  0.\n",
      "  0.          0.          0.          0.          0.          0.\n",
      "  0.          0.          0.00279471  0.          0.          0.00111724\n",
      "  0.          0.00105329  0.          0.          0.          0.\n",
      "  0.          0.          0.         -0.00332406  0.          0.00118853\n",
      "  0.          0.00277788  0.          0.          0.          0.00200957\n",
      "  0.00180158 -0.0014932   0.          0.          0.00204752  0.\n",
      "  0.          0.00153568  0.          0.00198266  0.00164023  0.\n",
      " -0.00177927  0.          0.          0.          0.          0.\n",
      "  0.          0.00126995  0.          0.          0.          0.\n",
      "  0.          0.          0.          0.         -0.00223691  0.\n",
      "  0.00228138  0.         -0.00335131  0.00163287 -0.0033114   0.\n",
      "  0.         -0.00265004  0.00334509 -0.00344872  0.          0.\n",
      "  0.          0.          0.00199938  0.          0.         -0.00233702]\n"
     ]
    },
    {
     "name": "stdout",
     "output_type": "stream",
     "text": [
      "Correlation for sequence 373: 0.9687\n"
     ]
    },
    {
     "data": {
      "application/vnd.plotly.v1+json": {
       "config": {
        "plotlyServerURL": "https://plot.ly"
       },
       "data": [
        {
         "line": {
          "color": "blue"
         },
         "mode": "lines+markers",
         "name": "SHAP",
         "type": "scatter",
         "x": {
          "bdata": "AAECAwQFBgcICQoLDA0ODxAREhMUFRYXGBkaGxwdHh8gISIjJCUmJygpKissLS4vMDEyMzQ1Njc4OTo7PD0+P0BBQkNERUZHSElKS0xNTk9QUVJTVFVWV1hZWltcXV5fYGFiY2RlZmdoaWprbG1ub3BxcnN0dXZ3",
          "dtype": "i1"
         },
         "y": {
          "bdata": "Kqs8Ww3tcj8AAAAAAAAAAB+nB9IBBXM/AAAAAAAAAAA0AJpwH7N2v2QblofkIYO/AAAAAAAAAAAAAAAAAAAAANSRoWpe6HO/AAAAAAAAAACcFhzCCt17Px3+LHBU6XI/AAAAAAAAAAAAAAAAAAAAAAAAAAAAAAAAxRhKBtVebb+4NWGHlimIP+0YnpUuWW2/AAAAAAAAAACYjT4gUVx3PwAAAAAAAAAAXQlld6vYY7++X6rw4B1qP5o2pMx0wHM/kR075Bghcr+dVCsJqHdzPwAAAAAAAAAAsf9f+vRPdj+WDZOQMd9rvwAAAAAAAAAAAAAAAAAAAAA0aSYT3EdxvwAAAAAAAAAAAAAAAAAAAABAz8qRPOV1vwAAAAAAAAAAAAAAAAAAAAC8XWY2pcmDvwAAAAAAAAAA94MbXW1rYr8nxZDyStZ1vwAAAAAAAAAAAAAAAAAAAADV9UFz/29zvwAAAAAAAAAAAAAAAAAAAAAAr+meGqtzv33iZrpCPXu/AAAAAAAAAAAAAAAAAAAAAAAAAAAAAAAAjqkHUHICiT8AAAAAAAAAAPsiAdfFsng/AAAAAAAAAAAAAAAAAAAAAAAAAAAAAAAArZyhTtMggb+s+pDziAmHPwAAAAAAAAAAAAAAAAAAAAAWkBVLH6h9PwAAAAAAAAAAAAAAAAAAAAC7WXHbjAp3P+DWNxRBIXg/0Lj8gvKYfz8AAAAAAAAAAAAAAAAAAAAAAAAAAAAAAAA133feKLV6PwAAAAAAAAAAQKmptKuhfD8AAAAAAAAAAAISLIXQD4C/a2jjtumPhL/iabpobIl7v9R+565W3nq/AAAAAAAAAAD3rY/70R9uvwAAAAAAAAAAROzdNI/7c78b2eOoCYd1v/HPYDNg14g/AAAAAAAAAAA1evmG2VKMPz62SXX3bnI/AAAAAAAAAAD1kBcpEc52P7dLvDZwqYE/d8xKeUz8hT8AAAAAAAAAAAAAAAAAAAAAAAAAAAAAAAAAAAAAAAAAAAAAAAAAAAAAAAAAAAAAAAAJxMjmPqCAv+VCGfhibIe/v9DVRgXTgb8z3GAkwwKSv36Oa1qXfHe/CgWEqkfjib8AAAAAAAAAAF7RfhY8IYA/zQpDZewmkD89D66dmMeOP/PHFG/6YZ0/n4nsfP8HpD/qNkRCy0yoPzU/t8nPh6k//uJqxAv8pD9paA73GsOiP26z2nlg64o/YqO0CvaHmr+TMvbVGkWpv3iByiFBabe/mm7rOTnLwb9G8HvwZNXDv/Kwe3IAWL+/",
          "dtype": "f8"
         }
        },
        {
         "line": {
          "color": "red"
         },
         "mode": "lines+markers",
         "name": "TimeSHAP",
         "type": "scatter",
         "x": {
          "bdata": "AAECAwQFBgcICQoLDA0ODxAREhMUFRYXGBkaGxwdHh8gISIjJCUmJygpKissLS4vMDEyMzQ1Njc4OTo7PD0+P0BBQkNERUZHSElKS0xNTk9QUVJTVFVWV1hZWltcXV5fYGFiY2RlZmdoaWprbG1ub3BxcnN0dXZ3",
          "dtype": "i1"
         },
         "y": {
          "bdata": "wANolRclY78AAAAAAAAAAAAAAAAAAAAAKAJfKABhYD8AAAAAAAAAAAAAAAAAAAAAAAAAAAAAAAAAAAAAAAAAALi68HV/QGy/t5Ixhidnaz+fcHl5irVlvwAAAAAAAAAAAAAAAAAAAACgrRkXgSBrvzItE73FwFo/rAXznTJ0a78AAAAAAAAAADulsaJlsGI/AAAAAAAAAACa6fRRIlNivwAAAAAAAAAAAAAAAAAAAAAAAAAAAAAAAAAAAAAAAAAAAAAAAAAAAAAAAAAAAAAAAAAAAAAAAAAAAAAAAAAAAAA7OEL7jc5UPwAAAAAAAAAAAAAAAAAAAAAAAAAAAAAAAAAAAAAAAAAAAAAAAAAAAAAAAAAAAAAAAHN/TEnPJl2/AAAAAAAAAABuEAbMot9aPwq7kiLzPWA/AAAAAAAAAAAv+L5+IClZPwAAAAAAAAAAAAAAAAAAAABtzRiZ9MVgPwAAAAAAAAAAAAAAAAAAAACArkGp83ZYv/6qx0dchF0/prg2emF2YD8AAAAAAAAAAAAAAAAAAAAAAAAAAAAAAACt0uaDoMFmPwAAAAAAAAAA73tPwQx5Uz8AAAAAAAAAADqrnNcMO2u/AAAAAAAAAAAAAAAAAAAAAAAAAAAAAAAAAAAAAAAAAAAAAAAAAAAAAAAAAAAAAAAAAAAAAAAAAADyzh1azEFRPwAAAAAAAAAAfXRLYwxOUj8AAAAAAAAAAAAAAAAAAAAA0NZOk+7kZj8AAAAAAAAAAAAAAAAAAAAAAAAAAAAAAAAAAAAAAAAAAAAAAAAAAAAAAAAAAAAAAAAAAAAAAAAAAAAAAAAAAAAAAAAAAAAAAAATJjQ1irJdvxgm5bD5tmO/AAAAAAAAAACCOgd9XnRYPwAAAAAAAAAAAAAAAAAAAAAAAAAAAAAAAD4dCeMXD18/rZwcV915Z78AAAAAAAAAAMRrtWRlinc/PUM3e3DnYz9zFdqJVX1uP7+98FhxnV8/XVYCsYMEWT+SLj5wappVP/1wLLxYHGA/AAAAAAAAAAAAAAAAAAAAAJs0Lcx7G1m/f/FaivYhc7/QVTRkqNRsvxayx2Z6nX6/6X3movMFaL8AAAAAAAAAAKWw8yYeEF+/eXQ268Qcdz9StvjxfEuEP4YV1cwVoYs/RPSyTevTkD/xSsqyQH+XP9rbZ+4Vg5s/ZcpemQ3JmT/9qFi+leyVP8pQ2RUe23w/DQh5hje/hb8VGA1P/YKgv8Je3enLRKy/B09Qs61DtL/iccNR90m4v4Ik/5M5+7i/",
          "dtype": "f8"
         }
        }
       ],
       "layout": {
        "shapes": [
         {
          "line": {
           "color": "gray",
           "dash": "dash"
          },
          "type": "line",
          "x0": 0,
          "x1": 1,
          "xref": "x domain",
          "y0": 0,
          "y1": 0,
          "yref": "y"
         }
        ],
        "template": {
         "data": {
          "bar": [
           {
            "error_x": {
             "color": "#2a3f5f"
            },
            "error_y": {
             "color": "#2a3f5f"
            },
            "marker": {
             "line": {
              "color": "white",
              "width": 0.5
             },
             "pattern": {
              "fillmode": "overlay",
              "size": 10,
              "solidity": 0.2
             }
            },
            "type": "bar"
           }
          ],
          "barpolar": [
           {
            "marker": {
             "line": {
              "color": "white",
              "width": 0.5
             },
             "pattern": {
              "fillmode": "overlay",
              "size": 10,
              "solidity": 0.2
             }
            },
            "type": "barpolar"
           }
          ],
          "carpet": [
           {
            "aaxis": {
             "endlinecolor": "#2a3f5f",
             "gridcolor": "#C8D4E3",
             "linecolor": "#C8D4E3",
             "minorgridcolor": "#C8D4E3",
             "startlinecolor": "#2a3f5f"
            },
            "baxis": {
             "endlinecolor": "#2a3f5f",
             "gridcolor": "#C8D4E3",
             "linecolor": "#C8D4E3",
             "minorgridcolor": "#C8D4E3",
             "startlinecolor": "#2a3f5f"
            },
            "type": "carpet"
           }
          ],
          "choropleth": [
           {
            "colorbar": {
             "outlinewidth": 0,
             "ticks": ""
            },
            "type": "choropleth"
           }
          ],
          "contour": [
           {
            "colorbar": {
             "outlinewidth": 0,
             "ticks": ""
            },
            "colorscale": [
             [
              0,
              "#0d0887"
             ],
             [
              0.1111111111111111,
              "#46039f"
             ],
             [
              0.2222222222222222,
              "#7201a8"
             ],
             [
              0.3333333333333333,
              "#9c179e"
             ],
             [
              0.4444444444444444,
              "#bd3786"
             ],
             [
              0.5555555555555556,
              "#d8576b"
             ],
             [
              0.6666666666666666,
              "#ed7953"
             ],
             [
              0.7777777777777778,
              "#fb9f3a"
             ],
             [
              0.8888888888888888,
              "#fdca26"
             ],
             [
              1,
              "#f0f921"
             ]
            ],
            "type": "contour"
           }
          ],
          "contourcarpet": [
           {
            "colorbar": {
             "outlinewidth": 0,
             "ticks": ""
            },
            "type": "contourcarpet"
           }
          ],
          "heatmap": [
           {
            "colorbar": {
             "outlinewidth": 0,
             "ticks": ""
            },
            "colorscale": [
             [
              0,
              "#0d0887"
             ],
             [
              0.1111111111111111,
              "#46039f"
             ],
             [
              0.2222222222222222,
              "#7201a8"
             ],
             [
              0.3333333333333333,
              "#9c179e"
             ],
             [
              0.4444444444444444,
              "#bd3786"
             ],
             [
              0.5555555555555556,
              "#d8576b"
             ],
             [
              0.6666666666666666,
              "#ed7953"
             ],
             [
              0.7777777777777778,
              "#fb9f3a"
             ],
             [
              0.8888888888888888,
              "#fdca26"
             ],
             [
              1,
              "#f0f921"
             ]
            ],
            "type": "heatmap"
           }
          ],
          "histogram": [
           {
            "marker": {
             "pattern": {
              "fillmode": "overlay",
              "size": 10,
              "solidity": 0.2
             }
            },
            "type": "histogram"
           }
          ],
          "histogram2d": [
           {
            "colorbar": {
             "outlinewidth": 0,
             "ticks": ""
            },
            "colorscale": [
             [
              0,
              "#0d0887"
             ],
             [
              0.1111111111111111,
              "#46039f"
             ],
             [
              0.2222222222222222,
              "#7201a8"
             ],
             [
              0.3333333333333333,
              "#9c179e"
             ],
             [
              0.4444444444444444,
              "#bd3786"
             ],
             [
              0.5555555555555556,
              "#d8576b"
             ],
             [
              0.6666666666666666,
              "#ed7953"
             ],
             [
              0.7777777777777778,
              "#fb9f3a"
             ],
             [
              0.8888888888888888,
              "#fdca26"
             ],
             [
              1,
              "#f0f921"
             ]
            ],
            "type": "histogram2d"
           }
          ],
          "histogram2dcontour": [
           {
            "colorbar": {
             "outlinewidth": 0,
             "ticks": ""
            },
            "colorscale": [
             [
              0,
              "#0d0887"
             ],
             [
              0.1111111111111111,
              "#46039f"
             ],
             [
              0.2222222222222222,
              "#7201a8"
             ],
             [
              0.3333333333333333,
              "#9c179e"
             ],
             [
              0.4444444444444444,
              "#bd3786"
             ],
             [
              0.5555555555555556,
              "#d8576b"
             ],
             [
              0.6666666666666666,
              "#ed7953"
             ],
             [
              0.7777777777777778,
              "#fb9f3a"
             ],
             [
              0.8888888888888888,
              "#fdca26"
             ],
             [
              1,
              "#f0f921"
             ]
            ],
            "type": "histogram2dcontour"
           }
          ],
          "mesh3d": [
           {
            "colorbar": {
             "outlinewidth": 0,
             "ticks": ""
            },
            "type": "mesh3d"
           }
          ],
          "parcoords": [
           {
            "line": {
             "colorbar": {
              "outlinewidth": 0,
              "ticks": ""
             }
            },
            "type": "parcoords"
           }
          ],
          "pie": [
           {
            "automargin": true,
            "type": "pie"
           }
          ],
          "scatter": [
           {
            "fillpattern": {
             "fillmode": "overlay",
             "size": 10,
             "solidity": 0.2
            },
            "type": "scatter"
           }
          ],
          "scatter3d": [
           {
            "line": {
             "colorbar": {
              "outlinewidth": 0,
              "ticks": ""
             }
            },
            "marker": {
             "colorbar": {
              "outlinewidth": 0,
              "ticks": ""
             }
            },
            "type": "scatter3d"
           }
          ],
          "scattercarpet": [
           {
            "marker": {
             "colorbar": {
              "outlinewidth": 0,
              "ticks": ""
             }
            },
            "type": "scattercarpet"
           }
          ],
          "scattergeo": [
           {
            "marker": {
             "colorbar": {
              "outlinewidth": 0,
              "ticks": ""
             }
            },
            "type": "scattergeo"
           }
          ],
          "scattergl": [
           {
            "marker": {
             "colorbar": {
              "outlinewidth": 0,
              "ticks": ""
             }
            },
            "type": "scattergl"
           }
          ],
          "scattermap": [
           {
            "marker": {
             "colorbar": {
              "outlinewidth": 0,
              "ticks": ""
             }
            },
            "type": "scattermap"
           }
          ],
          "scattermapbox": [
           {
            "marker": {
             "colorbar": {
              "outlinewidth": 0,
              "ticks": ""
             }
            },
            "type": "scattermapbox"
           }
          ],
          "scatterpolar": [
           {
            "marker": {
             "colorbar": {
              "outlinewidth": 0,
              "ticks": ""
             }
            },
            "type": "scatterpolar"
           }
          ],
          "scatterpolargl": [
           {
            "marker": {
             "colorbar": {
              "outlinewidth": 0,
              "ticks": ""
             }
            },
            "type": "scatterpolargl"
           }
          ],
          "scatterternary": [
           {
            "marker": {
             "colorbar": {
              "outlinewidth": 0,
              "ticks": ""
             }
            },
            "type": "scatterternary"
           }
          ],
          "surface": [
           {
            "colorbar": {
             "outlinewidth": 0,
             "ticks": ""
            },
            "colorscale": [
             [
              0,
              "#0d0887"
             ],
             [
              0.1111111111111111,
              "#46039f"
             ],
             [
              0.2222222222222222,
              "#7201a8"
             ],
             [
              0.3333333333333333,
              "#9c179e"
             ],
             [
              0.4444444444444444,
              "#bd3786"
             ],
             [
              0.5555555555555556,
              "#d8576b"
             ],
             [
              0.6666666666666666,
              "#ed7953"
             ],
             [
              0.7777777777777778,
              "#fb9f3a"
             ],
             [
              0.8888888888888888,
              "#fdca26"
             ],
             [
              1,
              "#f0f921"
             ]
            ],
            "type": "surface"
           }
          ],
          "table": [
           {
            "cells": {
             "fill": {
              "color": "#EBF0F8"
             },
             "line": {
              "color": "white"
             }
            },
            "header": {
             "fill": {
              "color": "#C8D4E3"
             },
             "line": {
              "color": "white"
             }
            },
            "type": "table"
           }
          ]
         },
         "layout": {
          "annotationdefaults": {
           "arrowcolor": "#2a3f5f",
           "arrowhead": 0,
           "arrowwidth": 1
          },
          "autotypenumbers": "strict",
          "coloraxis": {
           "colorbar": {
            "outlinewidth": 0,
            "ticks": ""
           }
          },
          "colorscale": {
           "diverging": [
            [
             0,
             "#8e0152"
            ],
            [
             0.1,
             "#c51b7d"
            ],
            [
             0.2,
             "#de77ae"
            ],
            [
             0.3,
             "#f1b6da"
            ],
            [
             0.4,
             "#fde0ef"
            ],
            [
             0.5,
             "#f7f7f7"
            ],
            [
             0.6,
             "#e6f5d0"
            ],
            [
             0.7,
             "#b8e186"
            ],
            [
             0.8,
             "#7fbc41"
            ],
            [
             0.9,
             "#4d9221"
            ],
            [
             1,
             "#276419"
            ]
           ],
           "sequential": [
            [
             0,
             "#0d0887"
            ],
            [
             0.1111111111111111,
             "#46039f"
            ],
            [
             0.2222222222222222,
             "#7201a8"
            ],
            [
             0.3333333333333333,
             "#9c179e"
            ],
            [
             0.4444444444444444,
             "#bd3786"
            ],
            [
             0.5555555555555556,
             "#d8576b"
            ],
            [
             0.6666666666666666,
             "#ed7953"
            ],
            [
             0.7777777777777778,
             "#fb9f3a"
            ],
            [
             0.8888888888888888,
             "#fdca26"
            ],
            [
             1,
             "#f0f921"
            ]
           ],
           "sequentialminus": [
            [
             0,
             "#0d0887"
            ],
            [
             0.1111111111111111,
             "#46039f"
            ],
            [
             0.2222222222222222,
             "#7201a8"
            ],
            [
             0.3333333333333333,
             "#9c179e"
            ],
            [
             0.4444444444444444,
             "#bd3786"
            ],
            [
             0.5555555555555556,
             "#d8576b"
            ],
            [
             0.6666666666666666,
             "#ed7953"
            ],
            [
             0.7777777777777778,
             "#fb9f3a"
            ],
            [
             0.8888888888888888,
             "#fdca26"
            ],
            [
             1,
             "#f0f921"
            ]
           ]
          },
          "colorway": [
           "#636efa",
           "#EF553B",
           "#00cc96",
           "#ab63fa",
           "#FFA15A",
           "#19d3f3",
           "#FF6692",
           "#B6E880",
           "#FF97FF",
           "#FECB52"
          ],
          "font": {
           "color": "#2a3f5f"
          },
          "geo": {
           "bgcolor": "white",
           "lakecolor": "white",
           "landcolor": "white",
           "showlakes": true,
           "showland": true,
           "subunitcolor": "#C8D4E3"
          },
          "hoverlabel": {
           "align": "left"
          },
          "hovermode": "closest",
          "mapbox": {
           "style": "light"
          },
          "paper_bgcolor": "white",
          "plot_bgcolor": "white",
          "polar": {
           "angularaxis": {
            "gridcolor": "#EBF0F8",
            "linecolor": "#EBF0F8",
            "ticks": ""
           },
           "bgcolor": "white",
           "radialaxis": {
            "gridcolor": "#EBF0F8",
            "linecolor": "#EBF0F8",
            "ticks": ""
           }
          },
          "scene": {
           "xaxis": {
            "backgroundcolor": "white",
            "gridcolor": "#DFE8F3",
            "gridwidth": 2,
            "linecolor": "#EBF0F8",
            "showbackground": true,
            "ticks": "",
            "zerolinecolor": "#EBF0F8"
           },
           "yaxis": {
            "backgroundcolor": "white",
            "gridcolor": "#DFE8F3",
            "gridwidth": 2,
            "linecolor": "#EBF0F8",
            "showbackground": true,
            "ticks": "",
            "zerolinecolor": "#EBF0F8"
           },
           "zaxis": {
            "backgroundcolor": "white",
            "gridcolor": "#DFE8F3",
            "gridwidth": 2,
            "linecolor": "#EBF0F8",
            "showbackground": true,
            "ticks": "",
            "zerolinecolor": "#EBF0F8"
           }
          },
          "shapedefaults": {
           "line": {
            "color": "#2a3f5f"
           }
          },
          "ternary": {
           "aaxis": {
            "gridcolor": "#DFE8F3",
            "linecolor": "#A2B1C6",
            "ticks": ""
           },
           "baxis": {
            "gridcolor": "#DFE8F3",
            "linecolor": "#A2B1C6",
            "ticks": ""
           },
           "bgcolor": "white",
           "caxis": {
            "gridcolor": "#DFE8F3",
            "linecolor": "#A2B1C6",
            "ticks": ""
           }
          },
          "title": {
           "x": 0.05
          },
          "xaxis": {
           "automargin": true,
           "gridcolor": "#EBF0F8",
           "linecolor": "#EBF0F8",
           "ticks": "",
           "title": {
            "standoff": 15
           },
           "zerolinecolor": "#EBF0F8",
           "zerolinewidth": 2
          },
          "yaxis": {
           "automargin": true,
           "gridcolor": "#EBF0F8",
           "linecolor": "#EBF0F8",
           "ticks": "",
           "title": {
            "standoff": 15
           },
           "zerolinecolor": "#EBF0F8",
           "zerolinewidth": 2
          }
         }
        },
        "title": {
         "text": "SHAP vs TimeSHAP for Test Sequence 373"
        },
        "xaxis": {
         "title": {
          "text": "Timestep/Event Number"
         }
        },
        "yaxis": {
         "title": {
          "text": "Explanation Value"
         }
        }
       }
      }
     },
     "metadata": {},
     "output_type": "display_data"
    },
    {
     "name": "stdout",
     "output_type": "stream",
     "text": [
      "\u001b[1m2/2\u001b[0m \u001b[32m━━━━━━━━━━━━━━━━━━━━\u001b[0m\u001b[37m\u001b[0m \u001b[1m0s\u001b[0m 40ms/step \n"
     ]
    },
    {
     "data": {
      "application/vnd.jupyter.widget-view+json": {
       "model_id": "a7f165383fa247e0bd0e813ea14ec0e3",
       "version_major": 2,
       "version_minor": 0
      },
      "text/plain": [
       "  0%|          | 0/1 [00:00<?, ?it/s]"
      ]
     },
     "metadata": {},
     "output_type": "display_data"
    },
    {
     "name": "stdout",
     "output_type": "stream",
     "text": [
      "\u001b[1m1/1\u001b[0m \u001b[32m━━━━━━━━━━━━━━━━━━━━\u001b[0m\u001b[37m\u001b[0m \u001b[1m0s\u001b[0m 15ms/step\n"
     ]
    },
    {
     "name": "stderr",
     "output_type": "stream",
     "text": [
      "2025-03-07 10:57:53,953 - INFO - num_full_subsets = 1\n",
      "2025-03-07 10:57:53,954 - INFO - remaining_weight_vector = [0.11638774 0.07825501 0.05919721 0.04776958 0.04015718 0.03472504\n",
      " 0.0306557  0.027495   0.02497046 0.02290868 0.02119406 0.01974659\n",
      " 0.0185091  0.01743969 0.01650692 0.01568675 0.01496052 0.01431345\n",
      " 0.01373375 0.01321188 0.01274003 0.01231175 0.01192166 0.01156527\n",
      " 0.01123875 0.01093887 0.01066285 0.0104083  0.01017315 0.0099556\n",
      " 0.00975409 0.00956723 0.00939381 0.00923278 0.00908317 0.00894416\n",
      " 0.00881499 0.008695   0.0085836  0.00848024 0.00838447 0.00829583\n",
      " 0.00821397 0.00813852 0.00806919 0.00800569 0.00794777 0.00789523\n",
      " 0.00784786 0.00780549 0.00776796 0.00773515 0.00770693 0.00768322\n",
      " 0.00766393 0.00764899 0.00763835 0.00763198 0.00762986]\n",
      "2025-03-07 10:57:53,955 - INFO - num_paired_subset_sizes = 59\n",
      "2025-03-07 10:57:53,988 - INFO - weight_left = 0.8118838194333013\n"
     ]
    },
    {
     "name": "stdout",
     "output_type": "stream",
     "text": [
      "\u001b[1m3575/3575\u001b[0m \u001b[32m━━━━━━━━━━━━━━━━━━━━\u001b[0m\u001b[37m\u001b[0m \u001b[1m14s\u001b[0m 4ms/step\n"
     ]
    },
    {
     "name": "stderr",
     "output_type": "stream",
     "text": [
      "2025-03-07 10:58:08,500 - INFO - np.sum(w_aug) = 120.0\n",
      "2025-03-07 10:58:08,500 - INFO - np.sum(self.kernelWeights) = 1.0000000000000002\n",
      "2025-03-07 10:58:08,718 - INFO - phi = [-0.0056491  -0.00778288  0.00954583 -0.00249349 -0.00222652 -0.00691025\n",
      "  0.00223285 -0.0041601  -0.00210511  0.00378531  0.00242533  0.00721999\n",
      " -0.003625   -0.00336258 -0.0026588   0.          0.00773022 -0.00306185\n",
      " -0.00367054  0.00853856  0.00090705 -0.00235172  0.00229231  0.00095221\n",
      "  0.          0.00438309  0.00449526  0.00673594 -0.00053651  0.00305045\n",
      "  0.0033572   0.003763    0.00334904 -0.00305994  0.00237697 -0.00156838\n",
      "  0.         -0.01049736  0.00159006 -0.00530476 -0.00693814  0.00247568\n",
      "  0.00838055 -0.00272972  0.00231246  0.         -0.00491508 -0.00892136\n",
      " -0.00421498  0.          0.00534537  0.00389869 -0.00459739  0.00323583\n",
      " -0.00331806  0.00083072  0.00157849 -0.0097932   0.00697819 -0.00414854\n",
      " -0.00317848  0.00255829  0.00329604  0.00199911  0.          0.00392042\n",
      "  0.00775607  0.00347652 -0.00107363  0.          0.0048689  -0.0043637\n",
      " -0.00311676 -0.00095087 -0.00734152 -0.00938353 -0.00754793 -0.00730837\n",
      " -0.00956409 -0.00549169 -0.00752948 -0.0006878   0.00173557  0.00459803\n",
      "  0.00353118  0.01303567  0.0124832   0.00999739  0.01734138  0.01261438\n",
      "  0.0164581   0.00716526  0.00811781 -0.00411408  0.00521395 -0.00804656\n",
      " -0.01433253 -0.02294315 -0.02284039 -0.02255709 -0.02541758 -0.01963891\n",
      " -0.01227766  0.00108668  0.00892238  0.0242731   0.03580102  0.04925177\n",
      "  0.0548811   0.06544497  0.06264451  0.05878919  0.04160711  0.01285827\n",
      " -0.01938977 -0.05173185 -0.08874423 -0.10793253 -0.11891252 -0.08251682]\n"
     ]
    },
    {
     "name": "stdout",
     "output_type": "stream",
     "text": [
      "\u001b[1m1/1\u001b[0m \u001b[32m━━━━━━━━━━━━━━━━━━━━\u001b[0m\u001b[37m\u001b[0m \u001b[1m0s\u001b[0m 21ms/step\n",
      "\u001b[1m1/1\u001b[0m \u001b[32m━━━━━━━━━━━━━━━━━━━━\u001b[0m\u001b[37m\u001b[0m \u001b[1m0s\u001b[0m 31ms/step\n"
     ]
    },
    {
     "name": "stderr",
     "output_type": "stream",
     "text": [
      "2025-03-07 10:58:08,849 - INFO - num_full_subsets = 1\n",
      "2025-03-07 10:58:08,852 - INFO - remaining_weight_vector = [0.11638774 0.07825501 0.05919721 0.04776958 0.04015718 0.03472504\n",
      " 0.0306557  0.027495   0.02497046 0.02290868 0.02119406 0.01974659\n",
      " 0.0185091  0.01743969 0.01650692 0.01568675 0.01496052 0.01431345\n",
      " 0.01373375 0.01321188 0.01274003 0.01231175 0.01192166 0.01156527\n",
      " 0.01123875 0.01093887 0.01066285 0.0104083  0.01017315 0.0099556\n",
      " 0.00975409 0.00956723 0.00939381 0.00923278 0.00908317 0.00894416\n",
      " 0.00881499 0.008695   0.0085836  0.00848024 0.00838447 0.00829583\n",
      " 0.00821397 0.00813852 0.00806919 0.00800569 0.00794777 0.00789523\n",
      " 0.00784786 0.00780549 0.00776796 0.00773515 0.00770693 0.00768322\n",
      " 0.00766393 0.00764899 0.00763835 0.00763198 0.00762986]\n",
      "2025-03-07 10:58:08,852 - INFO - num_paired_subset_sizes = 59\n",
      "2025-03-07 10:58:08,996 - INFO - weight_left = 0.8118838194333013\n"
     ]
    },
    {
     "name": "stdout",
     "output_type": "stream",
     "text": [
      "\u001b[1m313/313\u001b[0m \u001b[32m━━━━━━━━━━━━━━━━━━━━\u001b[0m\u001b[37m\u001b[0m \u001b[1m1s\u001b[0m 4ms/step\n"
     ]
    },
    {
     "name": "stderr",
     "output_type": "stream",
     "text": [
      "2025-03-07 10:58:10,269 - INFO - np.sum(w_aug) = 120.00000000000001\n",
      "2025-03-07 10:58:10,270 - INFO - np.sum(self.kernelWeights) = 0.9999999999999999\n",
      "2025-03-07 10:58:10,523 - INFO - phi = [-0.03800652 -0.04304149 -0.03827292 -0.02610499 -0.01236131  0.00036698\n",
      "  0.01036974  0.01680299  0.01968167  0.01990308  0.01773781  0.01458774\n",
      "  0.0107316   0.00672357  0.00332764  0.         -0.00200223 -0.00378866\n",
      " -0.00484799 -0.00505259 -0.00473402 -0.00406615 -0.00318007 -0.00212548\n",
      " -0.0008721   0.00040209  0.00125967  0.00212161  0.00259926  0.00303998\n",
      "  0.00303768  0.0026466   0.0020929   0.0017418   0.00095663  0.\n",
      " -0.00076285 -0.00109889 -0.00172892 -0.00241544 -0.00256534 -0.00235139\n",
      " -0.00196944 -0.0014685  -0.00127249 -0.00045121  0.          0.00057098\n",
      "  0.00119975  0.00151715  0.00203355  0.00204376  0.0020015   0.00189248\n",
      "  0.00134519  0.00107859  0.0002364   0.         -0.00049012 -0.00112376\n",
      " -0.00139354 -0.00163918 -0.00170047 -0.00170366 -0.00145016 -0.00144988\n",
      " -0.00097376 -0.00040117  0.          0.0002533   0.00079949  0.00120028\n",
      "  0.0015747   0.00148735  0.00150281  0.0012119   0.00118165  0.00090203\n",
      "  0.00056247  0.         -0.00035746 -0.00066392 -0.00113168 -0.00121661\n",
      " -0.00137987 -0.00104712 -0.00069207 -0.00042506  0.          0.\n",
      "  0.00050269  0.00075327  0.00065914  0.00099283  0.00042774  0.00056264\n",
      "  0.          0.         -0.0003554  -0.00022385 -0.00038946  0.\n",
      "  0.         -0.00023151  0.          0.          0.          0.\n",
      "  0.          0.          0.          0.          0.          0.\n",
      "  0.          0.          0.          0.          0.          0.        ]\n"
     ]
    },
    {
     "name": "stdout",
     "output_type": "stream",
     "text": [
      "Correlation for sequence 87: 0.9539\n"
     ]
    },
    {
     "data": {
      "application/vnd.plotly.v1+json": {
       "config": {
        "plotlyServerURL": "https://plot.ly"
       },
       "data": [
        {
         "line": {
          "color": "blue"
         },
         "mode": "lines+markers",
         "name": "SHAP",
         "type": "scatter",
         "x": {
          "bdata": "AAECAwQFBgcICQoLDA0ODxAREhMUFRYXGBkaGxwdHh8gISIjJCUmJygpKissLS4vMDEyMzQ1Njc4OTo7PD0+P0BBQkNERUZHSElKS0xNTk9QUVJTVFVWV1hZWltcXV5fYGFiY2RlZmdoaWprbG1ub3BxcnN0dXZ3",
          "dtype": "i1"
         },
         "y": {
          "bdata": "S3qi04Ijd7+fF/eQ8OB/v87I4VfDjIM//IXevThtZL9AG8EuVz1ivy59jG3rTXy/IIhKwp5KYj/8b7ldLQpxvwCFAoe7PmG/ULZ0Ul0Cbz/ghuskSd5jPwSNhge1kn0/kNuD1Cuybb8YfhL01otrvwBybR7qx2W/AAAAAAAAAAAKNL+quKl/P0AR5wIoFWm/Hg96kq4Rbr+C3xJPqnyBP6C9bD7juE0/UJLHl+xDY7+89aymUMdiP8Dga/e3M08/AAAAAAAAAABITLy5APRxP66qreyeaXI/II5KWCWXez8AbsvYjJRBv9SUnexD/Wg/7OTN/IyAaz+fZXGllNNuP6D+WKBvb2s/YKN/lScRab+4Cmpe4HhjP+hakXhHslm/AAAAAAAAAACQya9co3+Fv8DX4bItDVo/mEMtgnG6db+ujmb/Kmt8v1y/TlHfR2Q/wjWyDdIpgT8gY+M1oVxmv0h+VriU8WI/AAAAAAAAAACQiSM31iF0v3CY+r1cRYK/YDd3K7pDcb8AAAAAAAAAANTWcEcH5XU/+GdNpyLwbz+4ah3rtdRyv2BoVRIIgmo/YMyzt3gua7+g+FP8kThLP9BMsdau3Fk/uj9ZpnQOhL9ExM0AKpV8PySXngYQ/nC/sJQeJcAJar+ahFPiHPVkP+hNwVlNAGs/z+aeI25gYD8AAAAAAAAAACi0l+naDnA/6PH1wNTEfz9CCW6jzHpsPwAhgawel1G/AAAAAAAAAABgtVC2aPFzP+POBCOr33G/mAx/2k+Iab9gUhLXfihPvzxCOZMjEn6/KKzdAqw3g7+oFLj3k+p+v/Z/w11i732/WEESTVaWg79NFDpGdX52v58joZQ7136/QBEXMq2JRr/eW7x6fW9cPzKpXZhi1XI/qLaF4GvtbD9aUClpcrKKP4eXLQLLkIk/RemXWIN5hD/6KxAh8MGRP/aGvI2R1Yk/oUYLn2TakD8G5jo3UVl9P32IwIURoIA/e4mLzOvZcL90TY5eOVt1P7cxMQG3eoC/7NA4JGBajb/+zhnAaH6Xv2TdEYV4Y5e/hBqBXjQZl7/xVEq9EAeav2SdZtU4HJS/fpCInAclib+gKJbR4M1RP51gPWTlRYI/TjuOMgzbmD/O3B76glSiP2v4CTeHN6k/TaBhSGAZrD/NK79nAMGwP1jyNXx4CbA/NEyz9p0Zrj9pSLbRhk2lP0prZAJwVYo/HVeLP+nak78ZK87EmHyqv+4RhzDxt7a/fPx1W3ehu7+Sk8QADXG+v6gaDY/SH7W/",
          "dtype": "f8"
         }
        },
        {
         "line": {
          "color": "red"
         },
         "mode": "lines+markers",
         "name": "TimeSHAP",
         "type": "scatter",
         "x": {
          "bdata": "AAECAwQFBgcICQoLDA0ODxAREhMUFRYXGBkaGxwdHh8gISIjJCUmJygpKissLS4vMDEyMzQ1Njc4OTo7PD0+P0BBQkNERUZHSElKS0xNTk9QUVJTVFVWV1hZWltcXV5fYGFiY2RlZmdoaWprbG1ub3BxcnN0dXZ3",
          "dtype": "i1"
         },
         "y": {
          "bdata": "AAAAAAAAAAAAAAAAAAAAAAAAAAAAAAAAAAAAAAAAAAAAAAAAAAAAAAAAAAAAAAAAAAAAAAAAAAAAAAAAAAAAAAAAAAAAAAAAAAAAAAAAAAAAAAAAAAAAAAAAAAAAAAAAAAAAAAAAAAAAAAAAAAAAAAAAAAAAAAAAAAAAAAAAAAAAG5K0S1guvwAAAAAAAAAAAAAAAAAAAAAXCcA++YU5vzNU47QNVy2/T19zRIpKN78AAAAAAAAAAAAAAAAAAAAAtcBLlchvQj8xTMO9VAg8P2MCO2I7RFA/RHzpgz2ZRT/8cSXk2q5IP5zHrXvgeEA/AAAAAAAAAAAAAAAAAAAAAM6puVFV2zu/Tlmg/oOtRr//hd1y7idRv1q/wkecm1a/R/w6ZNDuU7+qanjimIpSv6vq3ltjwUW/jwzi7BptN78AAAAAAAAAAEqzM2thbkI/XLss8ryOTT+EpHBBNVxTP4C/yRgW21M/zUM4kT+fWD+GWWBjZ15YP3CdO2bHzFk/4OZeXFqqUz/cs8QakjJKP01qAoi2mTA/AAAAAAAAAAAexXvtfUo6v8a+LmaD6E+/sylNvEHBV7+ma6o9asJXv2vqpRSp6Vu/ATKHdk3cW78nHU6TONtavyQ4e6jy1Fa/bzjEcmFpUr/X8nA1aA9AvwAAAAAAAAAAuQRlek/8Lj/W//W48atRP/f8QIgfClY/mw9sj6EBXz9zACikdWVgP4btES8VvmA/+L0EZKeoYD9zHSWnYdtYPxyKhqIYqFM/o7uxR7+1Qj8AAAAAAAAAABpsiN4akj2/I7NAcjjZVL8S+IcxWw9Yv7WZZLk0ImC/L+DiZjdDY78NomKM5wNlv8zarDyMyWO/vHWcN6JTXL8NLycDGQFSv/K/T2JD/0i/AAAAAAAAAACsMngC0VhPPzfbC+SeiVw/9gh4GSMlYT9WWj5TVK5lPwuaP1p54mg/mPxij07naD8WS3qeCUtlPyNuG5lYYWE/trkFwnGjVD/WwxCvAlo6P4Su62C+k0y/MLcehnZpYb+iYlpUFQ1qv20wPQGqp3C/KzoYfPljc78NjoBWB7J0vzoDv/p723O/EzGVm2cJb79RXFRO+mZgvwAAAAAAAAAAtojMsZFCaz+5XYf0K4p7P46Hs1ly+oU/6eOPby3gjT991daW3CmSP7C+Mdl4YZQ/5rKdU24nlD8MS0CezTSRP0GHvCm7PIU/5o/BAOsMOD/TfbWa41CJv2Z69/9Du5q/OJO2NIKYo7+FlkXFiAmmv3FyTAyXdaO/",
          "dtype": "f8"
         }
        }
       ],
       "layout": {
        "shapes": [
         {
          "line": {
           "color": "gray",
           "dash": "dash"
          },
          "type": "line",
          "x0": 0,
          "x1": 1,
          "xref": "x domain",
          "y0": 0,
          "y1": 0,
          "yref": "y"
         }
        ],
        "template": {
         "data": {
          "bar": [
           {
            "error_x": {
             "color": "#2a3f5f"
            },
            "error_y": {
             "color": "#2a3f5f"
            },
            "marker": {
             "line": {
              "color": "white",
              "width": 0.5
             },
             "pattern": {
              "fillmode": "overlay",
              "size": 10,
              "solidity": 0.2
             }
            },
            "type": "bar"
           }
          ],
          "barpolar": [
           {
            "marker": {
             "line": {
              "color": "white",
              "width": 0.5
             },
             "pattern": {
              "fillmode": "overlay",
              "size": 10,
              "solidity": 0.2
             }
            },
            "type": "barpolar"
           }
          ],
          "carpet": [
           {
            "aaxis": {
             "endlinecolor": "#2a3f5f",
             "gridcolor": "#C8D4E3",
             "linecolor": "#C8D4E3",
             "minorgridcolor": "#C8D4E3",
             "startlinecolor": "#2a3f5f"
            },
            "baxis": {
             "endlinecolor": "#2a3f5f",
             "gridcolor": "#C8D4E3",
             "linecolor": "#C8D4E3",
             "minorgridcolor": "#C8D4E3",
             "startlinecolor": "#2a3f5f"
            },
            "type": "carpet"
           }
          ],
          "choropleth": [
           {
            "colorbar": {
             "outlinewidth": 0,
             "ticks": ""
            },
            "type": "choropleth"
           }
          ],
          "contour": [
           {
            "colorbar": {
             "outlinewidth": 0,
             "ticks": ""
            },
            "colorscale": [
             [
              0,
              "#0d0887"
             ],
             [
              0.1111111111111111,
              "#46039f"
             ],
             [
              0.2222222222222222,
              "#7201a8"
             ],
             [
              0.3333333333333333,
              "#9c179e"
             ],
             [
              0.4444444444444444,
              "#bd3786"
             ],
             [
              0.5555555555555556,
              "#d8576b"
             ],
             [
              0.6666666666666666,
              "#ed7953"
             ],
             [
              0.7777777777777778,
              "#fb9f3a"
             ],
             [
              0.8888888888888888,
              "#fdca26"
             ],
             [
              1,
              "#f0f921"
             ]
            ],
            "type": "contour"
           }
          ],
          "contourcarpet": [
           {
            "colorbar": {
             "outlinewidth": 0,
             "ticks": ""
            },
            "type": "contourcarpet"
           }
          ],
          "heatmap": [
           {
            "colorbar": {
             "outlinewidth": 0,
             "ticks": ""
            },
            "colorscale": [
             [
              0,
              "#0d0887"
             ],
             [
              0.1111111111111111,
              "#46039f"
             ],
             [
              0.2222222222222222,
              "#7201a8"
             ],
             [
              0.3333333333333333,
              "#9c179e"
             ],
             [
              0.4444444444444444,
              "#bd3786"
             ],
             [
              0.5555555555555556,
              "#d8576b"
             ],
             [
              0.6666666666666666,
              "#ed7953"
             ],
             [
              0.7777777777777778,
              "#fb9f3a"
             ],
             [
              0.8888888888888888,
              "#fdca26"
             ],
             [
              1,
              "#f0f921"
             ]
            ],
            "type": "heatmap"
           }
          ],
          "histogram": [
           {
            "marker": {
             "pattern": {
              "fillmode": "overlay",
              "size": 10,
              "solidity": 0.2
             }
            },
            "type": "histogram"
           }
          ],
          "histogram2d": [
           {
            "colorbar": {
             "outlinewidth": 0,
             "ticks": ""
            },
            "colorscale": [
             [
              0,
              "#0d0887"
             ],
             [
              0.1111111111111111,
              "#46039f"
             ],
             [
              0.2222222222222222,
              "#7201a8"
             ],
             [
              0.3333333333333333,
              "#9c179e"
             ],
             [
              0.4444444444444444,
              "#bd3786"
             ],
             [
              0.5555555555555556,
              "#d8576b"
             ],
             [
              0.6666666666666666,
              "#ed7953"
             ],
             [
              0.7777777777777778,
              "#fb9f3a"
             ],
             [
              0.8888888888888888,
              "#fdca26"
             ],
             [
              1,
              "#f0f921"
             ]
            ],
            "type": "histogram2d"
           }
          ],
          "histogram2dcontour": [
           {
            "colorbar": {
             "outlinewidth": 0,
             "ticks": ""
            },
            "colorscale": [
             [
              0,
              "#0d0887"
             ],
             [
              0.1111111111111111,
              "#46039f"
             ],
             [
              0.2222222222222222,
              "#7201a8"
             ],
             [
              0.3333333333333333,
              "#9c179e"
             ],
             [
              0.4444444444444444,
              "#bd3786"
             ],
             [
              0.5555555555555556,
              "#d8576b"
             ],
             [
              0.6666666666666666,
              "#ed7953"
             ],
             [
              0.7777777777777778,
              "#fb9f3a"
             ],
             [
              0.8888888888888888,
              "#fdca26"
             ],
             [
              1,
              "#f0f921"
             ]
            ],
            "type": "histogram2dcontour"
           }
          ],
          "mesh3d": [
           {
            "colorbar": {
             "outlinewidth": 0,
             "ticks": ""
            },
            "type": "mesh3d"
           }
          ],
          "parcoords": [
           {
            "line": {
             "colorbar": {
              "outlinewidth": 0,
              "ticks": ""
             }
            },
            "type": "parcoords"
           }
          ],
          "pie": [
           {
            "automargin": true,
            "type": "pie"
           }
          ],
          "scatter": [
           {
            "fillpattern": {
             "fillmode": "overlay",
             "size": 10,
             "solidity": 0.2
            },
            "type": "scatter"
           }
          ],
          "scatter3d": [
           {
            "line": {
             "colorbar": {
              "outlinewidth": 0,
              "ticks": ""
             }
            },
            "marker": {
             "colorbar": {
              "outlinewidth": 0,
              "ticks": ""
             }
            },
            "type": "scatter3d"
           }
          ],
          "scattercarpet": [
           {
            "marker": {
             "colorbar": {
              "outlinewidth": 0,
              "ticks": ""
             }
            },
            "type": "scattercarpet"
           }
          ],
          "scattergeo": [
           {
            "marker": {
             "colorbar": {
              "outlinewidth": 0,
              "ticks": ""
             }
            },
            "type": "scattergeo"
           }
          ],
          "scattergl": [
           {
            "marker": {
             "colorbar": {
              "outlinewidth": 0,
              "ticks": ""
             }
            },
            "type": "scattergl"
           }
          ],
          "scattermap": [
           {
            "marker": {
             "colorbar": {
              "outlinewidth": 0,
              "ticks": ""
             }
            },
            "type": "scattermap"
           }
          ],
          "scattermapbox": [
           {
            "marker": {
             "colorbar": {
              "outlinewidth": 0,
              "ticks": ""
             }
            },
            "type": "scattermapbox"
           }
          ],
          "scatterpolar": [
           {
            "marker": {
             "colorbar": {
              "outlinewidth": 0,
              "ticks": ""
             }
            },
            "type": "scatterpolar"
           }
          ],
          "scatterpolargl": [
           {
            "marker": {
             "colorbar": {
              "outlinewidth": 0,
              "ticks": ""
             }
            },
            "type": "scatterpolargl"
           }
          ],
          "scatterternary": [
           {
            "marker": {
             "colorbar": {
              "outlinewidth": 0,
              "ticks": ""
             }
            },
            "type": "scatterternary"
           }
          ],
          "surface": [
           {
            "colorbar": {
             "outlinewidth": 0,
             "ticks": ""
            },
            "colorscale": [
             [
              0,
              "#0d0887"
             ],
             [
              0.1111111111111111,
              "#46039f"
             ],
             [
              0.2222222222222222,
              "#7201a8"
             ],
             [
              0.3333333333333333,
              "#9c179e"
             ],
             [
              0.4444444444444444,
              "#bd3786"
             ],
             [
              0.5555555555555556,
              "#d8576b"
             ],
             [
              0.6666666666666666,
              "#ed7953"
             ],
             [
              0.7777777777777778,
              "#fb9f3a"
             ],
             [
              0.8888888888888888,
              "#fdca26"
             ],
             [
              1,
              "#f0f921"
             ]
            ],
            "type": "surface"
           }
          ],
          "table": [
           {
            "cells": {
             "fill": {
              "color": "#EBF0F8"
             },
             "line": {
              "color": "white"
             }
            },
            "header": {
             "fill": {
              "color": "#C8D4E3"
             },
             "line": {
              "color": "white"
             }
            },
            "type": "table"
           }
          ]
         },
         "layout": {
          "annotationdefaults": {
           "arrowcolor": "#2a3f5f",
           "arrowhead": 0,
           "arrowwidth": 1
          },
          "autotypenumbers": "strict",
          "coloraxis": {
           "colorbar": {
            "outlinewidth": 0,
            "ticks": ""
           }
          },
          "colorscale": {
           "diverging": [
            [
             0,
             "#8e0152"
            ],
            [
             0.1,
             "#c51b7d"
            ],
            [
             0.2,
             "#de77ae"
            ],
            [
             0.3,
             "#f1b6da"
            ],
            [
             0.4,
             "#fde0ef"
            ],
            [
             0.5,
             "#f7f7f7"
            ],
            [
             0.6,
             "#e6f5d0"
            ],
            [
             0.7,
             "#b8e186"
            ],
            [
             0.8,
             "#7fbc41"
            ],
            [
             0.9,
             "#4d9221"
            ],
            [
             1,
             "#276419"
            ]
           ],
           "sequential": [
            [
             0,
             "#0d0887"
            ],
            [
             0.1111111111111111,
             "#46039f"
            ],
            [
             0.2222222222222222,
             "#7201a8"
            ],
            [
             0.3333333333333333,
             "#9c179e"
            ],
            [
             0.4444444444444444,
             "#bd3786"
            ],
            [
             0.5555555555555556,
             "#d8576b"
            ],
            [
             0.6666666666666666,
             "#ed7953"
            ],
            [
             0.7777777777777778,
             "#fb9f3a"
            ],
            [
             0.8888888888888888,
             "#fdca26"
            ],
            [
             1,
             "#f0f921"
            ]
           ],
           "sequentialminus": [
            [
             0,
             "#0d0887"
            ],
            [
             0.1111111111111111,
             "#46039f"
            ],
            [
             0.2222222222222222,
             "#7201a8"
            ],
            [
             0.3333333333333333,
             "#9c179e"
            ],
            [
             0.4444444444444444,
             "#bd3786"
            ],
            [
             0.5555555555555556,
             "#d8576b"
            ],
            [
             0.6666666666666666,
             "#ed7953"
            ],
            [
             0.7777777777777778,
             "#fb9f3a"
            ],
            [
             0.8888888888888888,
             "#fdca26"
            ],
            [
             1,
             "#f0f921"
            ]
           ]
          },
          "colorway": [
           "#636efa",
           "#EF553B",
           "#00cc96",
           "#ab63fa",
           "#FFA15A",
           "#19d3f3",
           "#FF6692",
           "#B6E880",
           "#FF97FF",
           "#FECB52"
          ],
          "font": {
           "color": "#2a3f5f"
          },
          "geo": {
           "bgcolor": "white",
           "lakecolor": "white",
           "landcolor": "white",
           "showlakes": true,
           "showland": true,
           "subunitcolor": "#C8D4E3"
          },
          "hoverlabel": {
           "align": "left"
          },
          "hovermode": "closest",
          "mapbox": {
           "style": "light"
          },
          "paper_bgcolor": "white",
          "plot_bgcolor": "white",
          "polar": {
           "angularaxis": {
            "gridcolor": "#EBF0F8",
            "linecolor": "#EBF0F8",
            "ticks": ""
           },
           "bgcolor": "white",
           "radialaxis": {
            "gridcolor": "#EBF0F8",
            "linecolor": "#EBF0F8",
            "ticks": ""
           }
          },
          "scene": {
           "xaxis": {
            "backgroundcolor": "white",
            "gridcolor": "#DFE8F3",
            "gridwidth": 2,
            "linecolor": "#EBF0F8",
            "showbackground": true,
            "ticks": "",
            "zerolinecolor": "#EBF0F8"
           },
           "yaxis": {
            "backgroundcolor": "white",
            "gridcolor": "#DFE8F3",
            "gridwidth": 2,
            "linecolor": "#EBF0F8",
            "showbackground": true,
            "ticks": "",
            "zerolinecolor": "#EBF0F8"
           },
           "zaxis": {
            "backgroundcolor": "white",
            "gridcolor": "#DFE8F3",
            "gridwidth": 2,
            "linecolor": "#EBF0F8",
            "showbackground": true,
            "ticks": "",
            "zerolinecolor": "#EBF0F8"
           }
          },
          "shapedefaults": {
           "line": {
            "color": "#2a3f5f"
           }
          },
          "ternary": {
           "aaxis": {
            "gridcolor": "#DFE8F3",
            "linecolor": "#A2B1C6",
            "ticks": ""
           },
           "baxis": {
            "gridcolor": "#DFE8F3",
            "linecolor": "#A2B1C6",
            "ticks": ""
           },
           "bgcolor": "white",
           "caxis": {
            "gridcolor": "#DFE8F3",
            "linecolor": "#A2B1C6",
            "ticks": ""
           }
          },
          "title": {
           "x": 0.05
          },
          "xaxis": {
           "automargin": true,
           "gridcolor": "#EBF0F8",
           "linecolor": "#EBF0F8",
           "ticks": "",
           "title": {
            "standoff": 15
           },
           "zerolinecolor": "#EBF0F8",
           "zerolinewidth": 2
          },
          "yaxis": {
           "automargin": true,
           "gridcolor": "#EBF0F8",
           "linecolor": "#EBF0F8",
           "ticks": "",
           "title": {
            "standoff": 15
           },
           "zerolinecolor": "#EBF0F8",
           "zerolinewidth": 2
          }
         }
        },
        "title": {
         "text": "SHAP vs TimeSHAP for Test Sequence 87"
        },
        "xaxis": {
         "title": {
          "text": "Timestep/Event Number"
         }
        },
        "yaxis": {
         "title": {
          "text": "Explanation Value"
         }
        }
       }
      }
     },
     "metadata": {},
     "output_type": "display_data"
    },
    {
     "name": "stdout",
     "output_type": "stream",
     "text": [
      "\u001b[1m2/2\u001b[0m \u001b[32m━━━━━━━━━━━━━━━━━━━━\u001b[0m\u001b[37m\u001b[0m \u001b[1m0s\u001b[0m 11ms/step \n"
     ]
    },
    {
     "data": {
      "application/vnd.jupyter.widget-view+json": {
       "model_id": "14212b83188c4c7294a5b67ef755427e",
       "version_major": 2,
       "version_minor": 0
      },
      "text/plain": [
       "  0%|          | 0/1 [00:00<?, ?it/s]"
      ]
     },
     "metadata": {},
     "output_type": "display_data"
    },
    {
     "name": "stdout",
     "output_type": "stream",
     "text": [
      "\u001b[1m1/1\u001b[0m \u001b[32m━━━━━━━━━━━━━━━━━━━━\u001b[0m\u001b[37m\u001b[0m \u001b[1m0s\u001b[0m 16ms/step\n"
     ]
    },
    {
     "name": "stderr",
     "output_type": "stream",
     "text": [
      "2025-03-07 10:58:10,880 - INFO - num_full_subsets = 1\n",
      "2025-03-07 10:58:10,880 - INFO - remaining_weight_vector = [0.11638774 0.07825501 0.05919721 0.04776958 0.04015718 0.03472504\n",
      " 0.0306557  0.027495   0.02497046 0.02290868 0.02119406 0.01974659\n",
      " 0.0185091  0.01743969 0.01650692 0.01568675 0.01496052 0.01431345\n",
      " 0.01373375 0.01321188 0.01274003 0.01231175 0.01192166 0.01156527\n",
      " 0.01123875 0.01093887 0.01066285 0.0104083  0.01017315 0.0099556\n",
      " 0.00975409 0.00956723 0.00939381 0.00923278 0.00908317 0.00894416\n",
      " 0.00881499 0.008695   0.0085836  0.00848024 0.00838447 0.00829583\n",
      " 0.00821397 0.00813852 0.00806919 0.00800569 0.00794777 0.00789523\n",
      " 0.00784786 0.00780549 0.00776796 0.00773515 0.00770693 0.00768322\n",
      " 0.00766393 0.00764899 0.00763835 0.00763198 0.00762986]\n",
      "2025-03-07 10:58:10,881 - INFO - num_paired_subset_sizes = 59\n",
      "2025-03-07 10:58:10,910 - INFO - weight_left = 0.8118838194333013\n"
     ]
    },
    {
     "name": "stdout",
     "output_type": "stream",
     "text": [
      "\u001b[1m3575/3575\u001b[0m \u001b[32m━━━━━━━━━━━━━━━━━━━━\u001b[0m\u001b[37m\u001b[0m \u001b[1m14s\u001b[0m 4ms/step\n"
     ]
    },
    {
     "name": "stderr",
     "output_type": "stream",
     "text": [
      "2025-03-07 10:58:25,527 - INFO - np.sum(w_aug) = 120.0\n",
      "2025-03-07 10:58:25,527 - INFO - np.sum(self.kernelWeights) = 1.0000000000000002\n",
      "2025-03-07 10:58:25,784 - INFO - phi = [ 0.00728183  0.          0.00711424  0.         -0.01099033  0.\n",
      " -0.01086385  0.          0.          0.          0.          0.\n",
      "  0.          0.          0.00788497 -0.01035443  0.          0.00855484\n",
      "  0.          0.          0.         -0.00504132  0.          0.009654\n",
      " -0.01371756  0.0118833   0.004507    0.007347   -0.00378157  0.\n",
      "  0.         -0.00923097  0.          0.         -0.01127557  0.\n",
      "  0.          0.          0.          0.          0.00559468  0.\n",
      " -0.00721654  0.         -0.00500239  0.          0.          0.008392\n",
      "  0.          0.          0.          0.00858097  0.          0.\n",
      "  0.00505685  0.          0.         -0.01004115  0.          0.\n",
      "  0.          0.          0.00431869  0.          0.          0.\n",
      "  0.         -0.00419287  0.          0.          0.         -0.00732557\n",
      "  0.01645531  0.         -0.00680308  0.         -0.00663736  0.\n",
      "  0.          0.          0.         -0.01196312 -0.00866116  0.01242543\n",
      "  0.          0.00768604  0.          0.          0.          0.01155485\n",
      "  0.          0.          0.          0.          0.          0.\n",
      " -0.00638096  0.         -0.01267918  0.         -0.0110406   0.\n",
      " -0.00692199  0.          0.01404468  0.01552641  0.          0.02498112\n",
      "  0.02703577  0.03333673  0.03164234  0.02850815  0.02315769  0.00618266\n",
      " -0.03032151 -0.04282958 -0.07357178 -0.13051504 -0.14897605 -0.11820559]\n"
     ]
    },
    {
     "name": "stdout",
     "output_type": "stream",
     "text": [
      "\u001b[1m1/1\u001b[0m \u001b[32m━━━━━━━━━━━━━━━━━━━━\u001b[0m\u001b[37m\u001b[0m \u001b[1m0s\u001b[0m 31ms/step\n",
      "\u001b[1m1/1\u001b[0m \u001b[32m━━━━━━━━━━━━━━━━━━━━\u001b[0m\u001b[37m\u001b[0m \u001b[1m0s\u001b[0m 17ms/step\n"
     ]
    },
    {
     "name": "stderr",
     "output_type": "stream",
     "text": [
      "2025-03-07 10:58:25,925 - INFO - num_full_subsets = 1\n",
      "2025-03-07 10:58:25,955 - INFO - remaining_weight_vector = [0.11638774 0.07825501 0.05919721 0.04776958 0.04015718 0.03472504\n",
      " 0.0306557  0.027495   0.02497046 0.02290868 0.02119406 0.01974659\n",
      " 0.0185091  0.01743969 0.01650692 0.01568675 0.01496052 0.01431345\n",
      " 0.01373375 0.01321188 0.01274003 0.01231175 0.01192166 0.01156527\n",
      " 0.01123875 0.01093887 0.01066285 0.0104083  0.01017315 0.0099556\n",
      " 0.00975409 0.00956723 0.00939381 0.00923278 0.00908317 0.00894416\n",
      " 0.00881499 0.008695   0.0085836  0.00848024 0.00838447 0.00829583\n",
      " 0.00821397 0.00813852 0.00806919 0.00800569 0.00794777 0.00789523\n",
      " 0.00784786 0.00780549 0.00776796 0.00773515 0.00770693 0.00768322\n",
      " 0.00766393 0.00764899 0.00763835 0.00763198 0.00762986]\n",
      "2025-03-07 10:58:25,962 - INFO - num_paired_subset_sizes = 59\n",
      "2025-03-07 10:58:26,067 - INFO - weight_left = 0.8118838194333013\n"
     ]
    },
    {
     "name": "stdout",
     "output_type": "stream",
     "text": [
      "\u001b[1m313/313\u001b[0m \u001b[32m━━━━━━━━━━━━━━━━━━━━\u001b[0m\u001b[37m\u001b[0m \u001b[1m1s\u001b[0m 4ms/step\n"
     ]
    },
    {
     "name": "stderr",
     "output_type": "stream",
     "text": [
      "2025-03-07 10:58:27,351 - INFO - np.sum(w_aug) = 120.00000000000001\n",
      "2025-03-07 10:58:27,351 - INFO - np.sum(self.kernelWeights) = 0.9999999999999999\n",
      "2025-03-07 10:58:27,572 - INFO - phi = [-0.11217801 -0.09392918 -0.0758166  -0.05433818 -0.03794048 -0.01889836\n",
      " -0.00400327  0.01094827  0.01594972  0.02004861  0.01847769  0.00628787\n",
      "  0.00857248  0.00765298  0.00730804  0.          0.         -0.00228182\n",
      " -0.00888257 -0.00312139  0.         -0.00234827  0.          0.\n",
      "  0.00255808  0.          0.          0.          0.00608665  0.\n",
      "  0.00730806 -0.00184299 -0.00576404  0.          0.00274179  0.\n",
      "  0.          0.          0.          0.         -0.00214786  0.00235482\n",
      "  0.          0.          0.          0.         -0.00223236  0.\n",
      "  0.          0.          0.         -0.00295323  0.          0.00201248\n",
      "  0.          0.          0.          0.          0.          0.\n",
      "  0.          0.          0.         -0.00570993  0.          0.\n",
      " -0.00455896  0.          0.         -0.00205011  0.00228763  0.\n",
      "  0.00196178 -0.002957    0.          0.          0.00408157  0.\n",
      "  0.          0.00319701  0.          0.00227844  0.00304111  0.\n",
      " -0.00362889  0.          0.          0.          0.          0.00476275\n",
      "  0.00381184  0.00447527  0.00362075 -0.00228589  0.          0.\n",
      "  0.00386154  0.          0.          0.00404704 -0.00387016  0.\n",
      "  0.00231877  0.          0.          0.002589   -0.00527595  0.\n",
      "  0.         -0.00471021  0.00629666 -0.00325157  0.          0.\n",
      "  0.          0.          0.00225931  0.          0.00163049  0.        ]\n"
     ]
    },
    {
     "name": "stdout",
     "output_type": "stream",
     "text": [
      "Correlation for sequence 272: 0.9465\n"
     ]
    },
    {
     "data": {
      "application/vnd.plotly.v1+json": {
       "config": {
        "plotlyServerURL": "https://plot.ly"
       },
       "data": [
        {
         "line": {
          "color": "blue"
         },
         "mode": "lines+markers",
         "name": "SHAP",
         "type": "scatter",
         "x": {
          "bdata": "AAECAwQFBgcICQoLDA0ODxAREhMUFRYXGBkaGxwdHh8gISIjJCUmJygpKissLS4vMDEyMzQ1Njc4OTo7PD0+P0BBQkNERUZHSElKS0xNTk9QUVJTVFVWV1hZWltcXV5fYGFiY2RlZmdoaWprbG1ub3BxcnN0dXZ3",
          "dtype": "i1"
         },
         "y": {
          "bdata": "wI63jI7TfT8AAAAAAAAAACDTGifSI30/AAAAAAAAAAAQ6mLXGIKGvwAAAAAAAAAAMHNfUMk/hr8AAAAAAAAAAAAAAAAAAAAAAAAAAAAAAAAAAAAAAAAAAAAAAAAAAAAAAAAAAAAAAAAAAAAAAAAAAKhvxBz+JYA/uGZ0OLQ0hb8AAAAAAAAAADi7V84zhYE/AAAAAAAAAAAAAAAAAAAAAAAAAAAAAAAAoFaqHTWmdL8AAAAAAAAAAOAbMgp6xYM/uCi7YfQXjL/gIjqVRVaIP+BgqV7udXI/wK5DmOIXfj/Ao4Lbh/puvwAAAAAAAAAAAAAAAAAAAAAANMphr+eCvwAAAAAAAAAAAAAAAAAAAACArHjOpBeHvwAAAAAAAAAAAAAAAAAAAAAAAAAAAAAAAAAAAAAAAAAAAAAAAAAAAADAH1NYcup2PwAAAAAAAAAAoEoYaRaPfb8AAAAAAAAAAICnLBdkfXS/AAAAAAAAAAAAAAAAAAAAAGCpwDrTL4E/AAAAAAAAAAAAAAAAAAAAAAAAAAAAAAAASBe83uWSgT8AAAAAAAAAAAAAAAAAAAAAALDf0H22dD8AAAAAAAAAAAAAAAAAAAAAIJFT2HOQhL8AAAAAAAAAAAAAAAAAAAAAAAAAAAAAAAAAAAAAAAAAAIDMVnh4sHE/AAAAAAAAAAAAAAAAAAAAAAAAAAAAAAAAAAAAAAAAAABgFFwniixxvwAAAAAAAAAAAAAAAAAAAAAAAAAAAAAAAKCmQ4NqAX6/sLC4VKnZkD8AAAAAAAAAAICe1wOL3Xu/AAAAAAAAAAAgMaN6xS97vwAAAAAAAAAAAAAAAAAAAAAAAAAAAAAAAAAAAAAAAAAA0AhMgx6AiL+ITR7h8byBvyx3BwqBcok/AAAAAAAAAACAPNRPZXt/PwAAAAAAAAAAAAAAAAAAAAAAAAAAAAAAAHh5cWkRqoc/AAAAAAAAAAAAAAAAAAAAAAAAAAAAAAAAAAAAAAAAAAAAAAAAAAAAAAAAAAAAAAAAUDAZMu0ier8AAAAAAAAAAHC8PkeL94m/AAAAAAAAAAC4TWCidJyGvwAAAAAAAAAAwKzjujxafL8AAAAAAAAAAODHXHh0w4w/4H1U00/Mjz8AAAAAAAAAADg8nUKmlJk/dMA8q0Ovmz900g8IgxGhPxLkQthsM6A/cCFuwz0xnT/AaE3/pbaXP7AV+Kf8Unk/QG+e2JkMn7/cbCkbwu2lv0CJH56Z1bK/e9adhre0wL/A7s+wpRHDvySxrsG4Qr6/",
          "dtype": "f8"
         }
        },
        {
         "line": {
          "color": "red"
         },
         "mode": "lines+markers",
         "name": "TimeSHAP",
         "type": "scatter",
         "x": {
          "bdata": "AAECAwQFBgcICQoLDA0ODxAREhMUFRYXGBkaGxwdHh8gISIjJCUmJygpKissLS4vMDEyMzQ1Njc4OTo7PD0+P0BBQkNERUZHSElKS0xNTk9QUVJTVFVWV1hZWltcXV5fYGFiY2RlZmdoaWprbG1ub3BxcnN0dXZ3",
          "dtype": "i1"
         },
         "y": {
          "bdata": "AAAAAAAAAAAAnm6LyLZaPwAAAAAAAAAAwAwbix6CYj8AAAAAAAAAAAAAAAAAAAAAAAAAAAAAAAAAAAAAAAAAAECHZ+8Ho2q/ANXBq4fKeT+gL1NABEtzvwAAAAAAAAAAAAAAAAAAAACAWIIPPJx1vwCuZY6HNWU/AAAAAAAAAAAAAAAAAAAAAOCPZufO/mI/AAAAAAAAAACA5K5EUrRvv4CJr2qhk3A/AAAAAAAAAAAAAAAAAAAAAAAYj7A7om8/AAAAAAAAAAAAAAAAAAAAAEAXTorauWK/gEnV6USpbT8AEhzkqVRyP4CawQYDOm8/ABN00xmCcz8AAAAAAAAAAAAAAAAAAAAAAAAAAAAAAAAAAAAAAAAAAACwxcdTum2/AAAAAAAAAABAcVLKqeloP8AdwKc6qmI/AAAAAAAAAAAAdZOVnjBqPwAAAAAAAAAAAAAAAAAAAACAtPM81rdwPwAAAAAAAAAAAAAAAAAAAABAluwaSDlov0DUKDYnEmA/AAAAAAAAAADAhhNrhL1iP8Bm9fpmy2C/AAAAAAAAAAAAAAAAAAAAAKC4owprrHK/AAAAAAAAAAAAAAAAAAAAAKAGsoxKY3e/AAAAAAAAAAAAAAAAAAAAAAAAAAAAAAAAAAAAAAAAAAAAAAAAAAAAAAAAAAAAAAAAAAAAAAAAAAAAAAAAAAAAAAAAAAAAAAAAQAo5w3h8YD8AAAAAAAAAAIAcVhxfMWi/AAAAAAAAAAAAAAAAAAAAAAAAAAAAAAAAAAAAAAAAAAAAnwXAm0livwAAAAAAAAAAAAAAAAAAAAAAAAAAAAAAAAAAAAAAAAAAwCuRPmtKYz/AjfeEYphhvwAAAAAAAAAAAAAAAAAAAAAAAAAAAAAAAAAAAAAAAAAAAAAAAAAAAABA696u83VmPwAAAAAAAAAAADcPGQmcd78ApqTODzJev4AjdAkP730/AAAAAAAAAABg/HMeUO54PwAAAAAAAAAAAAAAAAAAAAAAAAAAAAAAAIAsQVqx9GQ/AAAAAAAAAAAAAAAAAAAAAMBqymOtPGO/AAAAAAAAAADAViWbCZJpv7B2AEIGMYK/AEfaElOxYr8AAAAAAAAAAAAAAAAAAAAAYEXzIwnvfT+gO2+AvFh/P0DLNHZyjoE/YAKOZ0/BeT9oKRK80OuSPzhmFEyfh5Q/WBta2h9VkD+AvjXoC2yGPwAwx0i8ZXC/6JM6mxdak79swAIy72yjvzCcgJs20qu/qkDxcbdos78matQnvgu4v0zdXMGyt7y/",
          "dtype": "f8"
         }
        }
       ],
       "layout": {
        "shapes": [
         {
          "line": {
           "color": "gray",
           "dash": "dash"
          },
          "type": "line",
          "x0": 0,
          "x1": 1,
          "xref": "x domain",
          "y0": 0,
          "y1": 0,
          "yref": "y"
         }
        ],
        "template": {
         "data": {
          "bar": [
           {
            "error_x": {
             "color": "#2a3f5f"
            },
            "error_y": {
             "color": "#2a3f5f"
            },
            "marker": {
             "line": {
              "color": "white",
              "width": 0.5
             },
             "pattern": {
              "fillmode": "overlay",
              "size": 10,
              "solidity": 0.2
             }
            },
            "type": "bar"
           }
          ],
          "barpolar": [
           {
            "marker": {
             "line": {
              "color": "white",
              "width": 0.5
             },
             "pattern": {
              "fillmode": "overlay",
              "size": 10,
              "solidity": 0.2
             }
            },
            "type": "barpolar"
           }
          ],
          "carpet": [
           {
            "aaxis": {
             "endlinecolor": "#2a3f5f",
             "gridcolor": "#C8D4E3",
             "linecolor": "#C8D4E3",
             "minorgridcolor": "#C8D4E3",
             "startlinecolor": "#2a3f5f"
            },
            "baxis": {
             "endlinecolor": "#2a3f5f",
             "gridcolor": "#C8D4E3",
             "linecolor": "#C8D4E3",
             "minorgridcolor": "#C8D4E3",
             "startlinecolor": "#2a3f5f"
            },
            "type": "carpet"
           }
          ],
          "choropleth": [
           {
            "colorbar": {
             "outlinewidth": 0,
             "ticks": ""
            },
            "type": "choropleth"
           }
          ],
          "contour": [
           {
            "colorbar": {
             "outlinewidth": 0,
             "ticks": ""
            },
            "colorscale": [
             [
              0,
              "#0d0887"
             ],
             [
              0.1111111111111111,
              "#46039f"
             ],
             [
              0.2222222222222222,
              "#7201a8"
             ],
             [
              0.3333333333333333,
              "#9c179e"
             ],
             [
              0.4444444444444444,
              "#bd3786"
             ],
             [
              0.5555555555555556,
              "#d8576b"
             ],
             [
              0.6666666666666666,
              "#ed7953"
             ],
             [
              0.7777777777777778,
              "#fb9f3a"
             ],
             [
              0.8888888888888888,
              "#fdca26"
             ],
             [
              1,
              "#f0f921"
             ]
            ],
            "type": "contour"
           }
          ],
          "contourcarpet": [
           {
            "colorbar": {
             "outlinewidth": 0,
             "ticks": ""
            },
            "type": "contourcarpet"
           }
          ],
          "heatmap": [
           {
            "colorbar": {
             "outlinewidth": 0,
             "ticks": ""
            },
            "colorscale": [
             [
              0,
              "#0d0887"
             ],
             [
              0.1111111111111111,
              "#46039f"
             ],
             [
              0.2222222222222222,
              "#7201a8"
             ],
             [
              0.3333333333333333,
              "#9c179e"
             ],
             [
              0.4444444444444444,
              "#bd3786"
             ],
             [
              0.5555555555555556,
              "#d8576b"
             ],
             [
              0.6666666666666666,
              "#ed7953"
             ],
             [
              0.7777777777777778,
              "#fb9f3a"
             ],
             [
              0.8888888888888888,
              "#fdca26"
             ],
             [
              1,
              "#f0f921"
             ]
            ],
            "type": "heatmap"
           }
          ],
          "histogram": [
           {
            "marker": {
             "pattern": {
              "fillmode": "overlay",
              "size": 10,
              "solidity": 0.2
             }
            },
            "type": "histogram"
           }
          ],
          "histogram2d": [
           {
            "colorbar": {
             "outlinewidth": 0,
             "ticks": ""
            },
            "colorscale": [
             [
              0,
              "#0d0887"
             ],
             [
              0.1111111111111111,
              "#46039f"
             ],
             [
              0.2222222222222222,
              "#7201a8"
             ],
             [
              0.3333333333333333,
              "#9c179e"
             ],
             [
              0.4444444444444444,
              "#bd3786"
             ],
             [
              0.5555555555555556,
              "#d8576b"
             ],
             [
              0.6666666666666666,
              "#ed7953"
             ],
             [
              0.7777777777777778,
              "#fb9f3a"
             ],
             [
              0.8888888888888888,
              "#fdca26"
             ],
             [
              1,
              "#f0f921"
             ]
            ],
            "type": "histogram2d"
           }
          ],
          "histogram2dcontour": [
           {
            "colorbar": {
             "outlinewidth": 0,
             "ticks": ""
            },
            "colorscale": [
             [
              0,
              "#0d0887"
             ],
             [
              0.1111111111111111,
              "#46039f"
             ],
             [
              0.2222222222222222,
              "#7201a8"
             ],
             [
              0.3333333333333333,
              "#9c179e"
             ],
             [
              0.4444444444444444,
              "#bd3786"
             ],
             [
              0.5555555555555556,
              "#d8576b"
             ],
             [
              0.6666666666666666,
              "#ed7953"
             ],
             [
              0.7777777777777778,
              "#fb9f3a"
             ],
             [
              0.8888888888888888,
              "#fdca26"
             ],
             [
              1,
              "#f0f921"
             ]
            ],
            "type": "histogram2dcontour"
           }
          ],
          "mesh3d": [
           {
            "colorbar": {
             "outlinewidth": 0,
             "ticks": ""
            },
            "type": "mesh3d"
           }
          ],
          "parcoords": [
           {
            "line": {
             "colorbar": {
              "outlinewidth": 0,
              "ticks": ""
             }
            },
            "type": "parcoords"
           }
          ],
          "pie": [
           {
            "automargin": true,
            "type": "pie"
           }
          ],
          "scatter": [
           {
            "fillpattern": {
             "fillmode": "overlay",
             "size": 10,
             "solidity": 0.2
            },
            "type": "scatter"
           }
          ],
          "scatter3d": [
           {
            "line": {
             "colorbar": {
              "outlinewidth": 0,
              "ticks": ""
             }
            },
            "marker": {
             "colorbar": {
              "outlinewidth": 0,
              "ticks": ""
             }
            },
            "type": "scatter3d"
           }
          ],
          "scattercarpet": [
           {
            "marker": {
             "colorbar": {
              "outlinewidth": 0,
              "ticks": ""
             }
            },
            "type": "scattercarpet"
           }
          ],
          "scattergeo": [
           {
            "marker": {
             "colorbar": {
              "outlinewidth": 0,
              "ticks": ""
             }
            },
            "type": "scattergeo"
           }
          ],
          "scattergl": [
           {
            "marker": {
             "colorbar": {
              "outlinewidth": 0,
              "ticks": ""
             }
            },
            "type": "scattergl"
           }
          ],
          "scattermap": [
           {
            "marker": {
             "colorbar": {
              "outlinewidth": 0,
              "ticks": ""
             }
            },
            "type": "scattermap"
           }
          ],
          "scattermapbox": [
           {
            "marker": {
             "colorbar": {
              "outlinewidth": 0,
              "ticks": ""
             }
            },
            "type": "scattermapbox"
           }
          ],
          "scatterpolar": [
           {
            "marker": {
             "colorbar": {
              "outlinewidth": 0,
              "ticks": ""
             }
            },
            "type": "scatterpolar"
           }
          ],
          "scatterpolargl": [
           {
            "marker": {
             "colorbar": {
              "outlinewidth": 0,
              "ticks": ""
             }
            },
            "type": "scatterpolargl"
           }
          ],
          "scatterternary": [
           {
            "marker": {
             "colorbar": {
              "outlinewidth": 0,
              "ticks": ""
             }
            },
            "type": "scatterternary"
           }
          ],
          "surface": [
           {
            "colorbar": {
             "outlinewidth": 0,
             "ticks": ""
            },
            "colorscale": [
             [
              0,
              "#0d0887"
             ],
             [
              0.1111111111111111,
              "#46039f"
             ],
             [
              0.2222222222222222,
              "#7201a8"
             ],
             [
              0.3333333333333333,
              "#9c179e"
             ],
             [
              0.4444444444444444,
              "#bd3786"
             ],
             [
              0.5555555555555556,
              "#d8576b"
             ],
             [
              0.6666666666666666,
              "#ed7953"
             ],
             [
              0.7777777777777778,
              "#fb9f3a"
             ],
             [
              0.8888888888888888,
              "#fdca26"
             ],
             [
              1,
              "#f0f921"
             ]
            ],
            "type": "surface"
           }
          ],
          "table": [
           {
            "cells": {
             "fill": {
              "color": "#EBF0F8"
             },
             "line": {
              "color": "white"
             }
            },
            "header": {
             "fill": {
              "color": "#C8D4E3"
             },
             "line": {
              "color": "white"
             }
            },
            "type": "table"
           }
          ]
         },
         "layout": {
          "annotationdefaults": {
           "arrowcolor": "#2a3f5f",
           "arrowhead": 0,
           "arrowwidth": 1
          },
          "autotypenumbers": "strict",
          "coloraxis": {
           "colorbar": {
            "outlinewidth": 0,
            "ticks": ""
           }
          },
          "colorscale": {
           "diverging": [
            [
             0,
             "#8e0152"
            ],
            [
             0.1,
             "#c51b7d"
            ],
            [
             0.2,
             "#de77ae"
            ],
            [
             0.3,
             "#f1b6da"
            ],
            [
             0.4,
             "#fde0ef"
            ],
            [
             0.5,
             "#f7f7f7"
            ],
            [
             0.6,
             "#e6f5d0"
            ],
            [
             0.7,
             "#b8e186"
            ],
            [
             0.8,
             "#7fbc41"
            ],
            [
             0.9,
             "#4d9221"
            ],
            [
             1,
             "#276419"
            ]
           ],
           "sequential": [
            [
             0,
             "#0d0887"
            ],
            [
             0.1111111111111111,
             "#46039f"
            ],
            [
             0.2222222222222222,
             "#7201a8"
            ],
            [
             0.3333333333333333,
             "#9c179e"
            ],
            [
             0.4444444444444444,
             "#bd3786"
            ],
            [
             0.5555555555555556,
             "#d8576b"
            ],
            [
             0.6666666666666666,
             "#ed7953"
            ],
            [
             0.7777777777777778,
             "#fb9f3a"
            ],
            [
             0.8888888888888888,
             "#fdca26"
            ],
            [
             1,
             "#f0f921"
            ]
           ],
           "sequentialminus": [
            [
             0,
             "#0d0887"
            ],
            [
             0.1111111111111111,
             "#46039f"
            ],
            [
             0.2222222222222222,
             "#7201a8"
            ],
            [
             0.3333333333333333,
             "#9c179e"
            ],
            [
             0.4444444444444444,
             "#bd3786"
            ],
            [
             0.5555555555555556,
             "#d8576b"
            ],
            [
             0.6666666666666666,
             "#ed7953"
            ],
            [
             0.7777777777777778,
             "#fb9f3a"
            ],
            [
             0.8888888888888888,
             "#fdca26"
            ],
            [
             1,
             "#f0f921"
            ]
           ]
          },
          "colorway": [
           "#636efa",
           "#EF553B",
           "#00cc96",
           "#ab63fa",
           "#FFA15A",
           "#19d3f3",
           "#FF6692",
           "#B6E880",
           "#FF97FF",
           "#FECB52"
          ],
          "font": {
           "color": "#2a3f5f"
          },
          "geo": {
           "bgcolor": "white",
           "lakecolor": "white",
           "landcolor": "white",
           "showlakes": true,
           "showland": true,
           "subunitcolor": "#C8D4E3"
          },
          "hoverlabel": {
           "align": "left"
          },
          "hovermode": "closest",
          "mapbox": {
           "style": "light"
          },
          "paper_bgcolor": "white",
          "plot_bgcolor": "white",
          "polar": {
           "angularaxis": {
            "gridcolor": "#EBF0F8",
            "linecolor": "#EBF0F8",
            "ticks": ""
           },
           "bgcolor": "white",
           "radialaxis": {
            "gridcolor": "#EBF0F8",
            "linecolor": "#EBF0F8",
            "ticks": ""
           }
          },
          "scene": {
           "xaxis": {
            "backgroundcolor": "white",
            "gridcolor": "#DFE8F3",
            "gridwidth": 2,
            "linecolor": "#EBF0F8",
            "showbackground": true,
            "ticks": "",
            "zerolinecolor": "#EBF0F8"
           },
           "yaxis": {
            "backgroundcolor": "white",
            "gridcolor": "#DFE8F3",
            "gridwidth": 2,
            "linecolor": "#EBF0F8",
            "showbackground": true,
            "ticks": "",
            "zerolinecolor": "#EBF0F8"
           },
           "zaxis": {
            "backgroundcolor": "white",
            "gridcolor": "#DFE8F3",
            "gridwidth": 2,
            "linecolor": "#EBF0F8",
            "showbackground": true,
            "ticks": "",
            "zerolinecolor": "#EBF0F8"
           }
          },
          "shapedefaults": {
           "line": {
            "color": "#2a3f5f"
           }
          },
          "ternary": {
           "aaxis": {
            "gridcolor": "#DFE8F3",
            "linecolor": "#A2B1C6",
            "ticks": ""
           },
           "baxis": {
            "gridcolor": "#DFE8F3",
            "linecolor": "#A2B1C6",
            "ticks": ""
           },
           "bgcolor": "white",
           "caxis": {
            "gridcolor": "#DFE8F3",
            "linecolor": "#A2B1C6",
            "ticks": ""
           }
          },
          "title": {
           "x": 0.05
          },
          "xaxis": {
           "automargin": true,
           "gridcolor": "#EBF0F8",
           "linecolor": "#EBF0F8",
           "ticks": "",
           "title": {
            "standoff": 15
           },
           "zerolinecolor": "#EBF0F8",
           "zerolinewidth": 2
          },
          "yaxis": {
           "automargin": true,
           "gridcolor": "#EBF0F8",
           "linecolor": "#EBF0F8",
           "ticks": "",
           "title": {
            "standoff": 15
           },
           "zerolinecolor": "#EBF0F8",
           "zerolinewidth": 2
          }
         }
        },
        "title": {
         "text": "SHAP vs TimeSHAP for Test Sequence 272"
        },
        "xaxis": {
         "title": {
          "text": "Timestep/Event Number"
         }
        },
        "yaxis": {
         "title": {
          "text": "Explanation Value"
         }
        }
       }
      }
     },
     "metadata": {},
     "output_type": "display_data"
    },
    {
     "name": "stdout",
     "output_type": "stream",
     "text": [
      "\n",
      "Mean Correlation: 0.7039\n",
      "Median Correlation: 0.9478\n",
      "Min Correlation: -0.5363\n",
      "Max Correlation: 0.9687\n"
     ]
    }
   ],
   "source": [
    "for idx in seq_indices:\n",
    "    # Prepare test sequence\n",
    "    test_3d = X_test[idx:idx+1]  # Shape: (1, 120, 1)\n",
    "    test_2d = test_3d.reshape(1, -1)  # Shape: (1, 120)\n",
    "    \n",
    "    # SHAP Computation\n",
    "    explainer = shap.KernelExplainer(predict_wrapper, background_2d)\n",
    "    shap_values = explainer.shap_values(test_2d)\n",
    "    shap_first = shap_values[0].flatten()  # Shape: (120,)\n",
    "    \n",
    "    # TimeSHAP Computation\n",
    "    event_explanation = local_event_explainer(\n",
    "        f,\n",
    "        test_3d,\n",
    "        baseline_sequence,\n",
    "        pruned_idx=0,\n",
    "        nsamples=10000\n",
    "    )\n",
    "    \n",
    "    # Compute correlation\n",
    "    correlation, _ = pearsonr(shap_first, event_explanation[\"Shapley Value\"])\n",
    "    correlations.append(correlation)\n",
    "    print(f\"Correlation for sequence {idx}: {correlation:.4f}\")\n",
    "    \n",
    "    # Optional: Plot for each sequence\n",
    "    fig = go.Figure()\n",
    "    fig.add_trace(go.Scatter(x=np.arange(120), y=shap_first, mode='lines+markers', name='SHAP',\n",
    "                             line=dict(color='blue')))\n",
    "    fig.add_trace(go.Scatter(x=event_explanation.index, y=event_explanation[\"Shapley Value\"],\n",
    "                             mode='lines+markers', name='TimeSHAP',\n",
    "                             line=dict(color='red')))\n",
    "    fig.update_layout(\n",
    "        title=f\"SHAP vs TimeSHAP for Test Sequence {idx}\",\n",
    "        xaxis_title=\"Timestep/Event Number\",\n",
    "        yaxis_title=\"Explanation Value\",\n",
    "        template=\"plotly_white\"\n",
    "    )\n",
    "    fig.add_hline(y=0, line_dash=\"dash\", line_color=\"gray\")\n",
    "    fig.show()\n",
    "\n",
    "# Summarize correlations\n",
    "print(f\"\\nMean Correlation: {np.mean(correlations):.4f}\")\n",
    "print(f\"Median Correlation: {np.median(correlations):.4f}\")\n",
    "print(f\"Min Correlation: {np.min(correlations):.4f}\")\n",
    "print(f\"Max Correlation: {np.max(correlations):.4f}\")"
   ]
  },
  {
   "cell_type": "code",
   "execution_count": 25,
   "metadata": {},
   "outputs": [
    {
     "name": "stdout",
     "output_type": "stream",
     "text": [
      "\u001b[1m1/1\u001b[0m \u001b[32m━━━━━━━━━━━━━━━━━━━━\u001b[0m\u001b[37m\u001b[0m \u001b[1m0s\u001b[0m 16ms/step\n"
     ]
    },
    {
     "data": {
      "application/vnd.jupyter.widget-view+json": {
       "model_id": "c7f8824326c84aa184745528fe4e998d",
       "version_major": 2,
       "version_minor": 0
      },
      "text/plain": [
       "  0%|          | 0/1 [00:00<?, ?it/s]"
      ]
     },
     "metadata": {},
     "output_type": "display_data"
    },
    {
     "name": "stdout",
     "output_type": "stream",
     "text": [
      "\u001b[1m1/1\u001b[0m \u001b[32m━━━━━━━━━━━━━━━━━━━━\u001b[0m\u001b[37m\u001b[0m \u001b[1m0s\u001b[0m 21ms/step\n"
     ]
    },
    {
     "name": "stderr",
     "output_type": "stream",
     "text": [
      "2025-03-07 10:47:23,415 - INFO - num_full_subsets = 1\n",
      "2025-03-07 10:47:23,416 - INFO - remaining_weight_vector = [0.11638774 0.07825501 0.05919721 0.04776958 0.04015718 0.03472504\n",
      " 0.0306557  0.027495   0.02497046 0.02290868 0.02119406 0.01974659\n",
      " 0.0185091  0.01743969 0.01650692 0.01568675 0.01496052 0.01431345\n",
      " 0.01373375 0.01321188 0.01274003 0.01231175 0.01192166 0.01156527\n",
      " 0.01123875 0.01093887 0.01066285 0.0104083  0.01017315 0.0099556\n",
      " 0.00975409 0.00956723 0.00939381 0.00923278 0.00908317 0.00894416\n",
      " 0.00881499 0.008695   0.0085836  0.00848024 0.00838447 0.00829583\n",
      " 0.00821397 0.00813852 0.00806919 0.00800569 0.00794777 0.00789523\n",
      " 0.00784786 0.00780549 0.00776796 0.00773515 0.00770693 0.00768322\n",
      " 0.00766393 0.00764899 0.00763835 0.00763198 0.00762986]\n",
      "2025-03-07 10:47:23,416 - INFO - num_paired_subset_sizes = 59\n",
      "2025-03-07 10:47:23,454 - INFO - weight_left = 0.8118838194333013\n"
     ]
    },
    {
     "name": "stdout",
     "output_type": "stream",
     "text": [
      "\u001b[1m72/72\u001b[0m \u001b[32m━━━━━━━━━━━━━━━━━━━━\u001b[0m\u001b[37m\u001b[0m \u001b[1m0s\u001b[0m 4ms/step\n"
     ]
    },
    {
     "name": "stderr",
     "output_type": "stream",
     "text": [
      "2025-03-07 10:47:23,766 - INFO - np.sum(w_aug) = 120.00000000000001\n",
      "2025-03-07 10:47:23,766 - INFO - np.sum(self.kernelWeights) = 1.0\n",
      "2025-03-07 10:47:23,901 - INFO - phi = [ 0.02124378  0.00665764  0.          0.         -0.00623207  0.00355916\n",
      " -0.014806    0.00617817  0.          0.01398734  0.02122288  0.\n",
      "  0.         -0.00244307 -0.00463124  0.00743662 -0.0044769  -0.00363848\n",
      " -0.01088095 -0.01175544 -0.00642707  0.00855512  0.00709385  0.01003191\n",
      "  0.00329732 -0.01799739 -0.01441561 -0.0102144   0.          0.00773642\n",
      " -0.00684286 -0.013469    0.01205829 -0.01783688  0.          0.00817126\n",
      " -0.00909222  0.01218446 -0.00410924  0.00680776  0.01653948  0.\n",
      "  0.00703704 -0.00568613  0.00611024  0.         -0.00506551  0.\n",
      " -0.02184613  0.00542645  0.00944289 -0.01520694 -0.02876686  0.\n",
      "  0.00628743 -0.0050066  -0.00727373  0.02006135 -0.01594917  0.00309915\n",
      "  0.          0.01238171 -0.00919289  0.01099103 -0.00915708  0.00999377\n",
      "  0.00672705 -0.00916957  0.0117973   0.01921255  0.00706461 -0.00929429\n",
      "  0.00682709 -0.02557264 -0.0113699  -0.0052939   0.01777493 -0.00516168\n",
      "  0.          0.01237628 -0.00700535  0.00985308  0.00508927  0.00391358\n",
      "  0.01194258 -0.00681833  0.         -0.02066708 -0.00878751 -0.0297866\n",
      " -0.03101945 -0.03007382 -0.03904272 -0.03079438  0.          0.00282404\n",
      "  0.02210482  0.04703276  0.06596746  0.06134878  0.05549376  0.05515498\n",
      "  0.02805782  0.01675024 -0.00840485 -0.04251938 -0.07787729 -0.09946404\n",
      " -0.13545087 -0.1512792  -0.14403517 -0.12260333 -0.09191425 -0.03578946\n",
      "  0.05910735  0.11785559  0.2180156   0.26455966  0.28917364  0.14599853]\n"
     ]
    },
    {
     "data": {
      "application/vnd.plotly.v1+json": {
       "config": {
        "plotlyServerURL": "https://plot.ly"
       },
       "data": [
        {
         "mode": "lines+markers",
         "type": "scatter",
         "x": {
          "bdata": "AAECAwQFBgcICQoLDA0ODxAREhMUFRYXGBkaGxwdHh8gISIjJCUmJygpKissLS4vMDEyMzQ1Njc4OTo7PD0+P0BBQkNERUZHSElKS0xNTk9QUVJTVFVWV1hZWltcXV5fYGFiY2RlZmdoaWprbG1ub3BxcnN0dXZ3",
          "dtype": "i1"
         },
         "y": {
          "bdata": "vm/y/+3AlT8gUm1ICkV7PwAAAAAAAAAAAAAAAAAAAACg7Ivky4Z5v3ii0TwbKG0/uINu/ZtSjr/AV2QzR055PwAAAAAAAAAAAOSgW2SljD/Es7CXc7uVPwAAAAAAAAAAAAAAAAAAAACA2uClfgNkvwDgZXM0+HK/oG9Qct11fj/Q6AkhXlZyv4D6V1dwzm2/4Otx08BIhr/g4NXMPBOIv4AFr2BGU3q/UNn5WViFgT/AACmScA59PwBWpo+bi4Q/gJCP//sCaz/wnLGK6G2Sv/DGGC7uhY2/0DurF0rrhL8AAAAAAAAAADDf4qY5sH8/oN7FckIHfL/QWIkho5WLv6B+TOEDsog/DFHPy9RDkr8AAAAAAAAAAHgYrIkXvIA/JMFKtfGegr/4DGQcKvSIP9BGTRDZ1HC/IHTe+XLiez9II735ue+QPwAAAAAAAAAA4Peaat7SfD/wVbZCVkp3vwBj+6ENB3k/AAAAAAAAAABAIsygkb90vwAAAAAAAAAA0FmMztRelr+QHGd/Czp2P4BRkH7LVoM/gaU8F9Ekj7+P4TqCD3WdvwAAAAAAAAAAQJZ5+9nAeT+gizlNzYF0v9CgYS0Qy32/OAlhI/aKlD8gI797+lSQv4Bslc1jY2k/AAAAAAAAAADg/UKdlFuJP2DNKou404K/KLxuoXeChj9A+qCz8sCCv7AshuKcd4Q/4H9/F9ONez/AtxVjf8eCv4C9+KkuKYg/XMLugXSskz/wH13gx+98P7DXuCviCIO/sLIt77f2ez9ed6flti+av0DumJgZSYe/EEN8Qg+vdb98utpHlzOSP5gC5fJpJHW/AAAAAAAAAAAmpLBtvFiJPyC6MdSksXy/fMhaX9kthD+w+UIgfNh0P8CSya+vB3A/FDvCs1l1iD+A1iA4iO17vwAAAAAAAAAAFEpKZsAplb9QGs81MP+Bv/pUmt9ggJ6/BLatEZDDn78gSXw2rMuev5Xohk1o/aO/0Bl00I+In78AAAAAAAAAAPBTx6ZuImc/Ln8qXKWilj8AZa10rRSoP1R/hl0+47A/Eq+ikBtprz9+N0CrrWmsP5ZsVydGPaw/VDoVRjC7nD/U1ink+SaRPzACoVOPNoG/FCh9lhnFpb8c3PMexO+zv5RXTZ95drm/OX9ZNnRWwb9hwb3uHV3Dv6HHc5W+b8K/oM4Nou5iv78yP61DsYe3v9A+ywb/UqK/BNTcplFDrj+ubQ6gyCu+P1Kdkm/v58s/ILqcoovu0D8xy98s0oHSP7gUN2sUsMI/",
          "dtype": "f8"
         }
        }
       ],
       "layout": {
        "template": {
         "data": {
          "bar": [
           {
            "error_x": {
             "color": "#2a3f5f"
            },
            "error_y": {
             "color": "#2a3f5f"
            },
            "marker": {
             "line": {
              "color": "#E5ECF6",
              "width": 0.5
             },
             "pattern": {
              "fillmode": "overlay",
              "size": 10,
              "solidity": 0.2
             }
            },
            "type": "bar"
           }
          ],
          "barpolar": [
           {
            "marker": {
             "line": {
              "color": "#E5ECF6",
              "width": 0.5
             },
             "pattern": {
              "fillmode": "overlay",
              "size": 10,
              "solidity": 0.2
             }
            },
            "type": "barpolar"
           }
          ],
          "carpet": [
           {
            "aaxis": {
             "endlinecolor": "#2a3f5f",
             "gridcolor": "white",
             "linecolor": "white",
             "minorgridcolor": "white",
             "startlinecolor": "#2a3f5f"
            },
            "baxis": {
             "endlinecolor": "#2a3f5f",
             "gridcolor": "white",
             "linecolor": "white",
             "minorgridcolor": "white",
             "startlinecolor": "#2a3f5f"
            },
            "type": "carpet"
           }
          ],
          "choropleth": [
           {
            "colorbar": {
             "outlinewidth": 0,
             "ticks": ""
            },
            "type": "choropleth"
           }
          ],
          "contour": [
           {
            "colorbar": {
             "outlinewidth": 0,
             "ticks": ""
            },
            "colorscale": [
             [
              0,
              "#0d0887"
             ],
             [
              0.1111111111111111,
              "#46039f"
             ],
             [
              0.2222222222222222,
              "#7201a8"
             ],
             [
              0.3333333333333333,
              "#9c179e"
             ],
             [
              0.4444444444444444,
              "#bd3786"
             ],
             [
              0.5555555555555556,
              "#d8576b"
             ],
             [
              0.6666666666666666,
              "#ed7953"
             ],
             [
              0.7777777777777778,
              "#fb9f3a"
             ],
             [
              0.8888888888888888,
              "#fdca26"
             ],
             [
              1,
              "#f0f921"
             ]
            ],
            "type": "contour"
           }
          ],
          "contourcarpet": [
           {
            "colorbar": {
             "outlinewidth": 0,
             "ticks": ""
            },
            "type": "contourcarpet"
           }
          ],
          "heatmap": [
           {
            "colorbar": {
             "outlinewidth": 0,
             "ticks": ""
            },
            "colorscale": [
             [
              0,
              "#0d0887"
             ],
             [
              0.1111111111111111,
              "#46039f"
             ],
             [
              0.2222222222222222,
              "#7201a8"
             ],
             [
              0.3333333333333333,
              "#9c179e"
             ],
             [
              0.4444444444444444,
              "#bd3786"
             ],
             [
              0.5555555555555556,
              "#d8576b"
             ],
             [
              0.6666666666666666,
              "#ed7953"
             ],
             [
              0.7777777777777778,
              "#fb9f3a"
             ],
             [
              0.8888888888888888,
              "#fdca26"
             ],
             [
              1,
              "#f0f921"
             ]
            ],
            "type": "heatmap"
           }
          ],
          "histogram": [
           {
            "marker": {
             "pattern": {
              "fillmode": "overlay",
              "size": 10,
              "solidity": 0.2
             }
            },
            "type": "histogram"
           }
          ],
          "histogram2d": [
           {
            "colorbar": {
             "outlinewidth": 0,
             "ticks": ""
            },
            "colorscale": [
             [
              0,
              "#0d0887"
             ],
             [
              0.1111111111111111,
              "#46039f"
             ],
             [
              0.2222222222222222,
              "#7201a8"
             ],
             [
              0.3333333333333333,
              "#9c179e"
             ],
             [
              0.4444444444444444,
              "#bd3786"
             ],
             [
              0.5555555555555556,
              "#d8576b"
             ],
             [
              0.6666666666666666,
              "#ed7953"
             ],
             [
              0.7777777777777778,
              "#fb9f3a"
             ],
             [
              0.8888888888888888,
              "#fdca26"
             ],
             [
              1,
              "#f0f921"
             ]
            ],
            "type": "histogram2d"
           }
          ],
          "histogram2dcontour": [
           {
            "colorbar": {
             "outlinewidth": 0,
             "ticks": ""
            },
            "colorscale": [
             [
              0,
              "#0d0887"
             ],
             [
              0.1111111111111111,
              "#46039f"
             ],
             [
              0.2222222222222222,
              "#7201a8"
             ],
             [
              0.3333333333333333,
              "#9c179e"
             ],
             [
              0.4444444444444444,
              "#bd3786"
             ],
             [
              0.5555555555555556,
              "#d8576b"
             ],
             [
              0.6666666666666666,
              "#ed7953"
             ],
             [
              0.7777777777777778,
              "#fb9f3a"
             ],
             [
              0.8888888888888888,
              "#fdca26"
             ],
             [
              1,
              "#f0f921"
             ]
            ],
            "type": "histogram2dcontour"
           }
          ],
          "mesh3d": [
           {
            "colorbar": {
             "outlinewidth": 0,
             "ticks": ""
            },
            "type": "mesh3d"
           }
          ],
          "parcoords": [
           {
            "line": {
             "colorbar": {
              "outlinewidth": 0,
              "ticks": ""
             }
            },
            "type": "parcoords"
           }
          ],
          "pie": [
           {
            "automargin": true,
            "type": "pie"
           }
          ],
          "scatter": [
           {
            "fillpattern": {
             "fillmode": "overlay",
             "size": 10,
             "solidity": 0.2
            },
            "type": "scatter"
           }
          ],
          "scatter3d": [
           {
            "line": {
             "colorbar": {
              "outlinewidth": 0,
              "ticks": ""
             }
            },
            "marker": {
             "colorbar": {
              "outlinewidth": 0,
              "ticks": ""
             }
            },
            "type": "scatter3d"
           }
          ],
          "scattercarpet": [
           {
            "marker": {
             "colorbar": {
              "outlinewidth": 0,
              "ticks": ""
             }
            },
            "type": "scattercarpet"
           }
          ],
          "scattergeo": [
           {
            "marker": {
             "colorbar": {
              "outlinewidth": 0,
              "ticks": ""
             }
            },
            "type": "scattergeo"
           }
          ],
          "scattergl": [
           {
            "marker": {
             "colorbar": {
              "outlinewidth": 0,
              "ticks": ""
             }
            },
            "type": "scattergl"
           }
          ],
          "scattermap": [
           {
            "marker": {
             "colorbar": {
              "outlinewidth": 0,
              "ticks": ""
             }
            },
            "type": "scattermap"
           }
          ],
          "scattermapbox": [
           {
            "marker": {
             "colorbar": {
              "outlinewidth": 0,
              "ticks": ""
             }
            },
            "type": "scattermapbox"
           }
          ],
          "scatterpolar": [
           {
            "marker": {
             "colorbar": {
              "outlinewidth": 0,
              "ticks": ""
             }
            },
            "type": "scatterpolar"
           }
          ],
          "scatterpolargl": [
           {
            "marker": {
             "colorbar": {
              "outlinewidth": 0,
              "ticks": ""
             }
            },
            "type": "scatterpolargl"
           }
          ],
          "scatterternary": [
           {
            "marker": {
             "colorbar": {
              "outlinewidth": 0,
              "ticks": ""
             }
            },
            "type": "scatterternary"
           }
          ],
          "surface": [
           {
            "colorbar": {
             "outlinewidth": 0,
             "ticks": ""
            },
            "colorscale": [
             [
              0,
              "#0d0887"
             ],
             [
              0.1111111111111111,
              "#46039f"
             ],
             [
              0.2222222222222222,
              "#7201a8"
             ],
             [
              0.3333333333333333,
              "#9c179e"
             ],
             [
              0.4444444444444444,
              "#bd3786"
             ],
             [
              0.5555555555555556,
              "#d8576b"
             ],
             [
              0.6666666666666666,
              "#ed7953"
             ],
             [
              0.7777777777777778,
              "#fb9f3a"
             ],
             [
              0.8888888888888888,
              "#fdca26"
             ],
             [
              1,
              "#f0f921"
             ]
            ],
            "type": "surface"
           }
          ],
          "table": [
           {
            "cells": {
             "fill": {
              "color": "#EBF0F8"
             },
             "line": {
              "color": "white"
             }
            },
            "header": {
             "fill": {
              "color": "#C8D4E3"
             },
             "line": {
              "color": "white"
             }
            },
            "type": "table"
           }
          ]
         },
         "layout": {
          "annotationdefaults": {
           "arrowcolor": "#2a3f5f",
           "arrowhead": 0,
           "arrowwidth": 1
          },
          "autotypenumbers": "strict",
          "coloraxis": {
           "colorbar": {
            "outlinewidth": 0,
            "ticks": ""
           }
          },
          "colorscale": {
           "diverging": [
            [
             0,
             "#8e0152"
            ],
            [
             0.1,
             "#c51b7d"
            ],
            [
             0.2,
             "#de77ae"
            ],
            [
             0.3,
             "#f1b6da"
            ],
            [
             0.4,
             "#fde0ef"
            ],
            [
             0.5,
             "#f7f7f7"
            ],
            [
             0.6,
             "#e6f5d0"
            ],
            [
             0.7,
             "#b8e186"
            ],
            [
             0.8,
             "#7fbc41"
            ],
            [
             0.9,
             "#4d9221"
            ],
            [
             1,
             "#276419"
            ]
           ],
           "sequential": [
            [
             0,
             "#0d0887"
            ],
            [
             0.1111111111111111,
             "#46039f"
            ],
            [
             0.2222222222222222,
             "#7201a8"
            ],
            [
             0.3333333333333333,
             "#9c179e"
            ],
            [
             0.4444444444444444,
             "#bd3786"
            ],
            [
             0.5555555555555556,
             "#d8576b"
            ],
            [
             0.6666666666666666,
             "#ed7953"
            ],
            [
             0.7777777777777778,
             "#fb9f3a"
            ],
            [
             0.8888888888888888,
             "#fdca26"
            ],
            [
             1,
             "#f0f921"
            ]
           ],
           "sequentialminus": [
            [
             0,
             "#0d0887"
            ],
            [
             0.1111111111111111,
             "#46039f"
            ],
            [
             0.2222222222222222,
             "#7201a8"
            ],
            [
             0.3333333333333333,
             "#9c179e"
            ],
            [
             0.4444444444444444,
             "#bd3786"
            ],
            [
             0.5555555555555556,
             "#d8576b"
            ],
            [
             0.6666666666666666,
             "#ed7953"
            ],
            [
             0.7777777777777778,
             "#fb9f3a"
            ],
            [
             0.8888888888888888,
             "#fdca26"
            ],
            [
             1,
             "#f0f921"
            ]
           ]
          },
          "colorway": [
           "#636efa",
           "#EF553B",
           "#00cc96",
           "#ab63fa",
           "#FFA15A",
           "#19d3f3",
           "#FF6692",
           "#B6E880",
           "#FF97FF",
           "#FECB52"
          ],
          "font": {
           "color": "#2a3f5f"
          },
          "geo": {
           "bgcolor": "white",
           "lakecolor": "white",
           "landcolor": "#E5ECF6",
           "showlakes": true,
           "showland": true,
           "subunitcolor": "white"
          },
          "hoverlabel": {
           "align": "left"
          },
          "hovermode": "closest",
          "mapbox": {
           "style": "light"
          },
          "paper_bgcolor": "white",
          "plot_bgcolor": "#E5ECF6",
          "polar": {
           "angularaxis": {
            "gridcolor": "white",
            "linecolor": "white",
            "ticks": ""
           },
           "bgcolor": "#E5ECF6",
           "radialaxis": {
            "gridcolor": "white",
            "linecolor": "white",
            "ticks": ""
           }
          },
          "scene": {
           "xaxis": {
            "backgroundcolor": "#E5ECF6",
            "gridcolor": "white",
            "gridwidth": 2,
            "linecolor": "white",
            "showbackground": true,
            "ticks": "",
            "zerolinecolor": "white"
           },
           "yaxis": {
            "backgroundcolor": "#E5ECF6",
            "gridcolor": "white",
            "gridwidth": 2,
            "linecolor": "white",
            "showbackground": true,
            "ticks": "",
            "zerolinecolor": "white"
           },
           "zaxis": {
            "backgroundcolor": "#E5ECF6",
            "gridcolor": "white",
            "gridwidth": 2,
            "linecolor": "white",
            "showbackground": true,
            "ticks": "",
            "zerolinecolor": "white"
           }
          },
          "shapedefaults": {
           "line": {
            "color": "#2a3f5f"
           }
          },
          "ternary": {
           "aaxis": {
            "gridcolor": "white",
            "linecolor": "white",
            "ticks": ""
           },
           "baxis": {
            "gridcolor": "white",
            "linecolor": "white",
            "ticks": ""
           },
           "bgcolor": "#E5ECF6",
           "caxis": {
            "gridcolor": "white",
            "linecolor": "white",
            "ticks": ""
           }
          },
          "title": {
           "x": 0.05
          },
          "xaxis": {
           "automargin": true,
           "gridcolor": "white",
           "linecolor": "white",
           "ticks": "",
           "title": {
            "standoff": 15
           },
           "zerolinecolor": "white",
           "zerolinewidth": 2
          },
          "yaxis": {
           "automargin": true,
           "gridcolor": "white",
           "linecolor": "white",
           "ticks": "",
           "title": {
            "standoff": 15
           },
           "zerolinecolor": "white",
           "zerolinewidth": 2
          }
         }
        },
        "title": {
         "text": "First SHAP Values over Timesteps"
        },
        "xaxis": {
         "title": {
          "text": "Timestep Index"
         }
        },
        "yaxis": {
         "title": {
          "text": "SHAP Value"
         }
        }
       }
      }
     },
     "metadata": {},
     "output_type": "display_data"
    }
   ],
   "source": [
    "# Create a wrapper for the model's predict function\n",
    "def predict_wrapper(X):\n",
    "    # Reshape X from (n, 120) to (n, 120, 1)\n",
    "    return lstm_model.predict(X.reshape(-1, 120, 1))\n",
    "\n",
    "# Initialize the KernelExplainer with the 2D background data and the wrapper function\n",
    "explainer = shap.KernelExplainer(predict_wrapper, background)\n",
    "\n",
    "# Compute the SHAP values using the 2D test set\n",
    "shap_values = explainer.shap_values(test_2d)\n",
    "\n",
    "# Flatten it to a 1D array (120,)\n",
    "shap_first = shap_values[0].flatten()\n",
    "\n",
    "# Create the x-axis as timestep indices (0 to 119)\n",
    "timesteps = np.arange(len(shap_first))\n",
    "\n",
    "# Create a Plotly scatter plot\n",
    "fig = go.Figure(data=go.Scatter(x=timesteps, y=shap_first, mode='lines+markers'))\n",
    "fig.update_layout(\n",
    "    title=\"First SHAP Values over Timesteps\",\n",
    "    xaxis_title=\"Timestep Index\",\n",
    "    yaxis_title=\"SHAP Value\"\n",
    ")\n",
    "fig.show()"
   ]
  },
  {
   "cell_type": "markdown",
   "metadata": {},
   "source": [
    "## Timeshap"
   ]
  },
  {
   "cell_type": "code",
   "execution_count": 26,
   "metadata": {},
   "outputs": [
    {
     "name": "stdout",
     "output_type": "stream",
     "text": [
      "\u001b[1m1/1\u001b[0m \u001b[32m━━━━━━━━━━━━━━━━━━━━\u001b[0m\u001b[37m\u001b[0m \u001b[1m0s\u001b[0m 45ms/step\n",
      "\u001b[1m1/1\u001b[0m \u001b[32m━━━━━━━━━━━━━━━━━━━━\u001b[0m\u001b[37m\u001b[0m \u001b[1m0s\u001b[0m 14ms/step\n"
     ]
    },
    {
     "name": "stderr",
     "output_type": "stream",
     "text": [
      "2025-03-07 10:47:25,765 - INFO - num_full_subsets = 1\n",
      "2025-03-07 10:47:25,766 - INFO - remaining_weight_vector = [0.11638774 0.07825501 0.05919721 0.04776958 0.04015718 0.03472504\n",
      " 0.0306557  0.027495   0.02497046 0.02290868 0.02119406 0.01974659\n",
      " 0.0185091  0.01743969 0.01650692 0.01568675 0.01496052 0.01431345\n",
      " 0.01373375 0.01321188 0.01274003 0.01231175 0.01192166 0.01156527\n",
      " 0.01123875 0.01093887 0.01066285 0.0104083  0.01017315 0.0099556\n",
      " 0.00975409 0.00956723 0.00939381 0.00923278 0.00908317 0.00894416\n",
      " 0.00881499 0.008695   0.0085836  0.00848024 0.00838447 0.00829583\n",
      " 0.00821397 0.00813852 0.00806919 0.00800569 0.00794777 0.00789523\n",
      " 0.00784786 0.00780549 0.00776796 0.00773515 0.00770693 0.00768322\n",
      " 0.00766393 0.00764899 0.00763835 0.00763198 0.00762986]\n",
      "2025-03-07 10:47:25,766 - INFO - num_paired_subset_sizes = 59\n",
      "2025-03-07 10:47:25,844 - INFO - weight_left = 0.8118838194333013\n"
     ]
    },
    {
     "name": "stdout",
     "output_type": "stream",
     "text": [
      "\u001b[1m313/313\u001b[0m \u001b[32m━━━━━━━━━━━━━━━━━━━━\u001b[0m\u001b[37m\u001b[0m \u001b[1m1s\u001b[0m 4ms/step\n"
     ]
    },
    {
     "name": "stderr",
     "output_type": "stream",
     "text": [
      "2025-03-07 10:47:27,275 - INFO - np.sum(w_aug) = 120.00000000000001\n",
      "2025-03-07 10:47:27,276 - INFO - np.sum(self.kernelWeights) = 0.9999999999999999\n",
      "2025-03-07 10:47:27,523 - INFO - phi = [ 0.18000211  0.26423353  0.27160698  0.21685941  0.13221483  0.04214997\n",
      " -0.03071926 -0.09880717 -0.14103815 -0.14901333 -0.15078289 -0.14030062\n",
      " -0.11304305 -0.08723795 -0.04128571 -0.00960564  0.02779587  0.03994905\n",
      "  0.06305583  0.06548853  0.05637232  0.05602887  0.0489487   0.02634557\n",
      "  0.00260853 -0.00488099 -0.02059058 -0.0391893  -0.03020033 -0.02659862\n",
      " -0.02733562 -0.02731917 -0.02086301 -0.00587976  0.00296182  0.01443573\n",
      "  0.02105442  0.01272135  0.01164783  0.01466704 -0.00358944  0.\n",
      "  0.00386721 -0.00307622 -0.01420357 -0.01141503 -0.00142938 -0.01457911\n",
      " -0.00980128 -0.00372918  0.          0.          0.00825336  0.00182186\n",
      "  0.00559874  0.00320828  0.00417191  0.          0.00125852  0.00421099\n",
      "  0.0022686  -0.00297451 -0.00184832 -0.00334528 -0.00151924 -0.00276709\n",
      "  0.00567349  0.0100293  -0.00699167  0.00280668  0.          0.00347435\n",
      " -0.00494672 -0.0051864   0.          0.          0.00171308  0.\n",
      " -0.01260348  0.00174861  0.          0.         -0.00375867 -0.0032954\n",
      " -0.00767018  0.          0.          0.00499872  0.          0.00235978\n",
      "  0.00242486  0.          0.00507642  0.          0.         -0.00752251\n",
      "  0.00182946  0.00357341 -0.00411762  0.00310011 -0.00489022 -0.00563906\n",
      " -0.00162119  0.         -0.0042457   0.         -0.00511131  0.00339844\n",
      "  0.          0.0035005   0.          0.          0.          0.00248288\n",
      " -0.00203641  0.00382269  0.00710528  0.00768042  0.          0.        ]\n"
     ]
    },
    {
     "data": {
      "application/vnd.plotly.v1+json": {
       "config": {
        "plotlyServerURL": "https://plot.ly"
       },
       "data": [
        {
         "mode": "lines",
         "name": "Shapley Value",
         "type": "scatter",
         "x": {
          "bdata": "AAECAwQFBgcICQoLDA0ODxAREhMUFRYXGBkaGxwdHh8gISIjJCUmJygpKissLS4vMDEyMzQ1Njc4OTo7PD0+P0BBQkNERUZHSElKS0xNTk9QUVJTVFVWV1hZWltcXV5fYGFiY2RlZmdoaWprbG1ub3BxcnN0dXZ3",
          "dtype": "i1"
         },
         "xaxis": "x",
         "y": {
          "bdata": "AAAAAAAAAAAAAAAAAAAAAEA8zyyBdX8/XuvvXm4afT9WD4anw1BvP2HU6DCormC/hgoihfdWZD8AAAAAAAAAAAAAAAAAAAAAAAAAAAAAAADXDqyME61sPwAAAAAAAAAAB38x6gvXaz+0NPrtme90vwAAAAAAAAAAFEs0ge9jcb8AAAAAAAAAAKCJR/vDj1q/zRVaFPsYd78V1loXxQd0v+a+c9VkZWk/rR04SqPdcL8HLMpj+kVtP+IprKVS+V0/QtJPG+vPfr8AAAAAAAAAAAAAAAAAAAAANOUWwQLLdD8AAAAAAAAAAKkNe2RL3WM/S0n3CtFUYz8AAAAAAAAAAOnLNdqKeXQ/AAAAAAAAAAAAAAAAAAAAAIGFDfHEan+/3cXpXfb+ar9mbNo2gMpuvwAAAAAAAAAAAAAAAAAAAABmS87gNKZcP3LeIWHaz4m/AAAAAAAAAADWyrt2LxFcPwAAAAAAAAAAAAAAAAAAAAC3ILy4VD51v9hqKIoCQ3S/+wDBGUB2bD8AAAAAAAAAADvwb6sJ/mY/RRyS0EyjfL9xrC4qPoqEP5kfamkVPXc/102ybgGrZr+/q602KORYv0qEkEGNZ2u/yjpmmmpIXr+A9+7//11ov8ydrYiZlWI/NASCfYs/cT8sZoQCm55UPwAAAAAAAAAApy6r9pAWcT8tlyc2QEhqP4LI9Q+07nY/ze5bdmzZXT/BeVzJI+eAPwAAAAAAAAAAAAAAAAAAAABJ0CHVpYxuv2kPnMuxEoS/OSq1Z6bbjb+7vckYQ2tXv5Ph5eDCYIe/rkJRRsMWjb85LuFSTjNpv/OVDyQerm8/AAAAAAAAAABw013UmGdtv5xERFDACY4/KwwCG9Hahz+ZbPhrpg2KP+gRPhlKj5U/TM5e0XqQjT+AaSZnZUNoP5L0HyhhFXi/+83l0xxdlb/wL4Ejjvmbvzkynnfe/Zu/4X0rNqs8m7/IoWnj1eyevy+trIyeEKS/LfMqLbIVlb8tidnEF/5zvxP45jV7XmU/IQ3GYFX6mj9JaxPWzQ+pP/qCCubQr6w/m5l0HNXcrD9qiWEp28OwP12V2VltJLA/yZNkijN0pD+nRfkOhXacP8g4yRcfrIO/OTsqb2Yjpb8TveftOVW2v7wcdZhj8Ly/SfuK3l71wb9vNWeP2kzDv+olhG7eEsO/0IBlwIkNwr8jS/cvbUu5v9eRFMHedJ+/t66rKK6UpT9ONr1cauzAP6g9Y5sMwss/tjwsQAJi0T8BdwfAM+nQPw35aSBPCsc/",
          "dtype": "f8"
         },
         "yaxis": "y"
        },
        {
         "mode": "lines",
         "name": "Sequence Value",
         "type": "scatter",
         "x": {
          "bdata": "AAECAwQFBgcICQoLDA0ODxAREhMUFRYXGBkaGxwdHh8gISIjJCUmJygpKissLS4vMDEyMzQ1Njc4OTo7PD0+P0BBQkNERUZHSElKS0xNTk9QUVJTVFVWV1hZWltcXV5fYGFiY2RlZmdoaWprbG1ub3BxcnN0dXZ3",
          "dtype": "i1"
         },
         "xaxis": "x",
         "y": {
          "bdata": "hHzzaDpQ7z/s4iLvLzPvP6wg3f46Fu8/FIs7R1357j9Yd1d3mNzuP8Q6Sj7uv+4/lCotS2Cj7j8MnBlN8IbuP3TkKPOfau4/BFl07HBO7j8ATxXoZDLuP7AbJZV9Fu4/VBS9orz67T8sjva/I9/tP3ze6pu0w+0/hFqz5XCo7T+IV2lMWo3tP8gqJn9ycu0/iCkDLbtX7T8IqRkFNj3tP5D+grbkIu0/WH9Y8MgI7T+sgLNh5O7sP8RXrbk41ew/7Flfp8e77D9k3OLZkqLsP2w0UQCciew/QLfDyeRw7D8sulPlbljsP3CSGgI8QOw/SJUxz00o7D/8F7L7pRDsP/AzciRF+es/TPZC9iHi6z/g4IqNOMvrP/BmGjyHtOs/yPvBUwye6z+oElImxofrP9gemwWzces/oJNtQ9Fb6z9I5JkxH0brPxCE8CGbMOs/ROZBZkMb6z8sfl5QFgbrPwS/FjIS8eo/GBw7XTXc6j+0CJwjfsfqPxj4Cdfqsuo/iF1VyXme6j9QrE5MKYrqP7RXxrH3deo/+NKMS+Nh6j9okXJr6k3qP0QGSGMLOuo/1KTdhEQm6j9g4AMilBLqPzAsi4z4/uk/hPtDFnDr6T+kwf4Q+dfpP9zxi86RxOk/bP+7oDix6T+cXV/Z653pP7h/Rsqpiuk/+NhBxXB36T+w3CEcP2TpPyD+tiATUek/kLDRJOs96T9MZ0J6xSrpP5CV2XKgF+k/pK5nYHoE6T/UJb2UUfHoP2BuqmEk3ug/kPv/GPHK6D+wQI4MtrfoPwCxJY5xpOg/xL+W7yGR6D9I4LGCxX3oP9CFR5laaug/pCMohd9W6D8MLSSYUkPoP0gVDCSyL+g/oE+wevwb6D9cT+HtLwjoP8CHb89K9Oc/GGwrcUvg5z+ob+UkMMznP7AFbjz3t+c/fKGVCZ+j5z9QtizeJY/nP3C3AwyKeuc/rNjXNcll5z802zjg4lDnPzTahB7aO+c/7NhJF7Im5z+o2hXxbRHnP6TidtIQ/OY/MPT64Z3m5j+IEjBGGNHmP/RApCWDu+Y/uILlpuGl5j8c24HwNpDmP2BNBymGeuY/0NwDd9Jk5j+wjAUBH0/mPzxgmu1uOeY/wFpQY8Uj5j+Ef7WIJQ7mP8jRV4SS+OU/1FTFfA/j5T/oC4yYn83lP1D6Of5FuOU/UCNd1AWj5T8kioNB4o3lPxwyO2zeeOU/eB4Se/1j5T98UpaUQk/lP3DRVd+wOuU/mJ7egUsm5T88vb6iFRLlP5gwhGgS/uQ/",
          "dtype": "f8"
         },
         "yaxis": "y2"
        }
       ],
       "layout": {
        "height": 600,
        "template": {
         "data": {
          "bar": [
           {
            "error_x": {
             "color": "#2a3f5f"
            },
            "error_y": {
             "color": "#2a3f5f"
            },
            "marker": {
             "line": {
              "color": "#E5ECF6",
              "width": 0.5
             },
             "pattern": {
              "fillmode": "overlay",
              "size": 10,
              "solidity": 0.2
             }
            },
            "type": "bar"
           }
          ],
          "barpolar": [
           {
            "marker": {
             "line": {
              "color": "#E5ECF6",
              "width": 0.5
             },
             "pattern": {
              "fillmode": "overlay",
              "size": 10,
              "solidity": 0.2
             }
            },
            "type": "barpolar"
           }
          ],
          "carpet": [
           {
            "aaxis": {
             "endlinecolor": "#2a3f5f",
             "gridcolor": "white",
             "linecolor": "white",
             "minorgridcolor": "white",
             "startlinecolor": "#2a3f5f"
            },
            "baxis": {
             "endlinecolor": "#2a3f5f",
             "gridcolor": "white",
             "linecolor": "white",
             "minorgridcolor": "white",
             "startlinecolor": "#2a3f5f"
            },
            "type": "carpet"
           }
          ],
          "choropleth": [
           {
            "colorbar": {
             "outlinewidth": 0,
             "ticks": ""
            },
            "type": "choropleth"
           }
          ],
          "contour": [
           {
            "colorbar": {
             "outlinewidth": 0,
             "ticks": ""
            },
            "colorscale": [
             [
              0,
              "#0d0887"
             ],
             [
              0.1111111111111111,
              "#46039f"
             ],
             [
              0.2222222222222222,
              "#7201a8"
             ],
             [
              0.3333333333333333,
              "#9c179e"
             ],
             [
              0.4444444444444444,
              "#bd3786"
             ],
             [
              0.5555555555555556,
              "#d8576b"
             ],
             [
              0.6666666666666666,
              "#ed7953"
             ],
             [
              0.7777777777777778,
              "#fb9f3a"
             ],
             [
              0.8888888888888888,
              "#fdca26"
             ],
             [
              1,
              "#f0f921"
             ]
            ],
            "type": "contour"
           }
          ],
          "contourcarpet": [
           {
            "colorbar": {
             "outlinewidth": 0,
             "ticks": ""
            },
            "type": "contourcarpet"
           }
          ],
          "heatmap": [
           {
            "colorbar": {
             "outlinewidth": 0,
             "ticks": ""
            },
            "colorscale": [
             [
              0,
              "#0d0887"
             ],
             [
              0.1111111111111111,
              "#46039f"
             ],
             [
              0.2222222222222222,
              "#7201a8"
             ],
             [
              0.3333333333333333,
              "#9c179e"
             ],
             [
              0.4444444444444444,
              "#bd3786"
             ],
             [
              0.5555555555555556,
              "#d8576b"
             ],
             [
              0.6666666666666666,
              "#ed7953"
             ],
             [
              0.7777777777777778,
              "#fb9f3a"
             ],
             [
              0.8888888888888888,
              "#fdca26"
             ],
             [
              1,
              "#f0f921"
             ]
            ],
            "type": "heatmap"
           }
          ],
          "histogram": [
           {
            "marker": {
             "pattern": {
              "fillmode": "overlay",
              "size": 10,
              "solidity": 0.2
             }
            },
            "type": "histogram"
           }
          ],
          "histogram2d": [
           {
            "colorbar": {
             "outlinewidth": 0,
             "ticks": ""
            },
            "colorscale": [
             [
              0,
              "#0d0887"
             ],
             [
              0.1111111111111111,
              "#46039f"
             ],
             [
              0.2222222222222222,
              "#7201a8"
             ],
             [
              0.3333333333333333,
              "#9c179e"
             ],
             [
              0.4444444444444444,
              "#bd3786"
             ],
             [
              0.5555555555555556,
              "#d8576b"
             ],
             [
              0.6666666666666666,
              "#ed7953"
             ],
             [
              0.7777777777777778,
              "#fb9f3a"
             ],
             [
              0.8888888888888888,
              "#fdca26"
             ],
             [
              1,
              "#f0f921"
             ]
            ],
            "type": "histogram2d"
           }
          ],
          "histogram2dcontour": [
           {
            "colorbar": {
             "outlinewidth": 0,
             "ticks": ""
            },
            "colorscale": [
             [
              0,
              "#0d0887"
             ],
             [
              0.1111111111111111,
              "#46039f"
             ],
             [
              0.2222222222222222,
              "#7201a8"
             ],
             [
              0.3333333333333333,
              "#9c179e"
             ],
             [
              0.4444444444444444,
              "#bd3786"
             ],
             [
              0.5555555555555556,
              "#d8576b"
             ],
             [
              0.6666666666666666,
              "#ed7953"
             ],
             [
              0.7777777777777778,
              "#fb9f3a"
             ],
             [
              0.8888888888888888,
              "#fdca26"
             ],
             [
              1,
              "#f0f921"
             ]
            ],
            "type": "histogram2dcontour"
           }
          ],
          "mesh3d": [
           {
            "colorbar": {
             "outlinewidth": 0,
             "ticks": ""
            },
            "type": "mesh3d"
           }
          ],
          "parcoords": [
           {
            "line": {
             "colorbar": {
              "outlinewidth": 0,
              "ticks": ""
             }
            },
            "type": "parcoords"
           }
          ],
          "pie": [
           {
            "automargin": true,
            "type": "pie"
           }
          ],
          "scatter": [
           {
            "fillpattern": {
             "fillmode": "overlay",
             "size": 10,
             "solidity": 0.2
            },
            "type": "scatter"
           }
          ],
          "scatter3d": [
           {
            "line": {
             "colorbar": {
              "outlinewidth": 0,
              "ticks": ""
             }
            },
            "marker": {
             "colorbar": {
              "outlinewidth": 0,
              "ticks": ""
             }
            },
            "type": "scatter3d"
           }
          ],
          "scattercarpet": [
           {
            "marker": {
             "colorbar": {
              "outlinewidth": 0,
              "ticks": ""
             }
            },
            "type": "scattercarpet"
           }
          ],
          "scattergeo": [
           {
            "marker": {
             "colorbar": {
              "outlinewidth": 0,
              "ticks": ""
             }
            },
            "type": "scattergeo"
           }
          ],
          "scattergl": [
           {
            "marker": {
             "colorbar": {
              "outlinewidth": 0,
              "ticks": ""
             }
            },
            "type": "scattergl"
           }
          ],
          "scattermap": [
           {
            "marker": {
             "colorbar": {
              "outlinewidth": 0,
              "ticks": ""
             }
            },
            "type": "scattermap"
           }
          ],
          "scattermapbox": [
           {
            "marker": {
             "colorbar": {
              "outlinewidth": 0,
              "ticks": ""
             }
            },
            "type": "scattermapbox"
           }
          ],
          "scatterpolar": [
           {
            "marker": {
             "colorbar": {
              "outlinewidth": 0,
              "ticks": ""
             }
            },
            "type": "scatterpolar"
           }
          ],
          "scatterpolargl": [
           {
            "marker": {
             "colorbar": {
              "outlinewidth": 0,
              "ticks": ""
             }
            },
            "type": "scatterpolargl"
           }
          ],
          "scatterternary": [
           {
            "marker": {
             "colorbar": {
              "outlinewidth": 0,
              "ticks": ""
             }
            },
            "type": "scatterternary"
           }
          ],
          "surface": [
           {
            "colorbar": {
             "outlinewidth": 0,
             "ticks": ""
            },
            "colorscale": [
             [
              0,
              "#0d0887"
             ],
             [
              0.1111111111111111,
              "#46039f"
             ],
             [
              0.2222222222222222,
              "#7201a8"
             ],
             [
              0.3333333333333333,
              "#9c179e"
             ],
             [
              0.4444444444444444,
              "#bd3786"
             ],
             [
              0.5555555555555556,
              "#d8576b"
             ],
             [
              0.6666666666666666,
              "#ed7953"
             ],
             [
              0.7777777777777778,
              "#fb9f3a"
             ],
             [
              0.8888888888888888,
              "#fdca26"
             ],
             [
              1,
              "#f0f921"
             ]
            ],
            "type": "surface"
           }
          ],
          "table": [
           {
            "cells": {
             "fill": {
              "color": "#EBF0F8"
             },
             "line": {
              "color": "white"
             }
            },
            "header": {
             "fill": {
              "color": "#C8D4E3"
             },
             "line": {
              "color": "white"
             }
            },
            "type": "table"
           }
          ]
         },
         "layout": {
          "annotationdefaults": {
           "arrowcolor": "#2a3f5f",
           "arrowhead": 0,
           "arrowwidth": 1
          },
          "autotypenumbers": "strict",
          "coloraxis": {
           "colorbar": {
            "outlinewidth": 0,
            "ticks": ""
           }
          },
          "colorscale": {
           "diverging": [
            [
             0,
             "#8e0152"
            ],
            [
             0.1,
             "#c51b7d"
            ],
            [
             0.2,
             "#de77ae"
            ],
            [
             0.3,
             "#f1b6da"
            ],
            [
             0.4,
             "#fde0ef"
            ],
            [
             0.5,
             "#f7f7f7"
            ],
            [
             0.6,
             "#e6f5d0"
            ],
            [
             0.7,
             "#b8e186"
            ],
            [
             0.8,
             "#7fbc41"
            ],
            [
             0.9,
             "#4d9221"
            ],
            [
             1,
             "#276419"
            ]
           ],
           "sequential": [
            [
             0,
             "#0d0887"
            ],
            [
             0.1111111111111111,
             "#46039f"
            ],
            [
             0.2222222222222222,
             "#7201a8"
            ],
            [
             0.3333333333333333,
             "#9c179e"
            ],
            [
             0.4444444444444444,
             "#bd3786"
            ],
            [
             0.5555555555555556,
             "#d8576b"
            ],
            [
             0.6666666666666666,
             "#ed7953"
            ],
            [
             0.7777777777777778,
             "#fb9f3a"
            ],
            [
             0.8888888888888888,
             "#fdca26"
            ],
            [
             1,
             "#f0f921"
            ]
           ],
           "sequentialminus": [
            [
             0,
             "#0d0887"
            ],
            [
             0.1111111111111111,
             "#46039f"
            ],
            [
             0.2222222222222222,
             "#7201a8"
            ],
            [
             0.3333333333333333,
             "#9c179e"
            ],
            [
             0.4444444444444444,
             "#bd3786"
            ],
            [
             0.5555555555555556,
             "#d8576b"
            ],
            [
             0.6666666666666666,
             "#ed7953"
            ],
            [
             0.7777777777777778,
             "#fb9f3a"
            ],
            [
             0.8888888888888888,
             "#fdca26"
            ],
            [
             1,
             "#f0f921"
            ]
           ]
          },
          "colorway": [
           "#636efa",
           "#EF553B",
           "#00cc96",
           "#ab63fa",
           "#FFA15A",
           "#19d3f3",
           "#FF6692",
           "#B6E880",
           "#FF97FF",
           "#FECB52"
          ],
          "font": {
           "color": "#2a3f5f"
          },
          "geo": {
           "bgcolor": "white",
           "lakecolor": "white",
           "landcolor": "#E5ECF6",
           "showlakes": true,
           "showland": true,
           "subunitcolor": "white"
          },
          "hoverlabel": {
           "align": "left"
          },
          "hovermode": "closest",
          "mapbox": {
           "style": "light"
          },
          "paper_bgcolor": "white",
          "plot_bgcolor": "#E5ECF6",
          "polar": {
           "angularaxis": {
            "gridcolor": "white",
            "linecolor": "white",
            "ticks": ""
           },
           "bgcolor": "#E5ECF6",
           "radialaxis": {
            "gridcolor": "white",
            "linecolor": "white",
            "ticks": ""
           }
          },
          "scene": {
           "xaxis": {
            "backgroundcolor": "#E5ECF6",
            "gridcolor": "white",
            "gridwidth": 2,
            "linecolor": "white",
            "showbackground": true,
            "ticks": "",
            "zerolinecolor": "white"
           },
           "yaxis": {
            "backgroundcolor": "#E5ECF6",
            "gridcolor": "white",
            "gridwidth": 2,
            "linecolor": "white",
            "showbackground": true,
            "ticks": "",
            "zerolinecolor": "white"
           },
           "zaxis": {
            "backgroundcolor": "#E5ECF6",
            "gridcolor": "white",
            "gridwidth": 2,
            "linecolor": "white",
            "showbackground": true,
            "ticks": "",
            "zerolinecolor": "white"
           }
          },
          "shapedefaults": {
           "line": {
            "color": "#2a3f5f"
           }
          },
          "ternary": {
           "aaxis": {
            "gridcolor": "white",
            "linecolor": "white",
            "ticks": ""
           },
           "baxis": {
            "gridcolor": "white",
            "linecolor": "white",
            "ticks": ""
           },
           "bgcolor": "#E5ECF6",
           "caxis": {
            "gridcolor": "white",
            "linecolor": "white",
            "ticks": ""
           }
          },
          "title": {
           "x": 0.05
          },
          "xaxis": {
           "automargin": true,
           "gridcolor": "white",
           "linecolor": "white",
           "ticks": "",
           "title": {
            "standoff": 15
           },
           "zerolinecolor": "white",
           "zerolinewidth": 2
          },
          "yaxis": {
           "automargin": true,
           "gridcolor": "white",
           "linecolor": "white",
           "ticks": "",
           "title": {
            "standoff": 15
           },
           "zerolinecolor": "white",
           "zerolinewidth": 2
          }
         }
        },
        "title": {
         "text": "Event Explanation"
        },
        "width": 1000,
        "xaxis": {
         "anchor": "y",
         "domain": [
          0,
          0.94
         ],
         "title": {
          "text": "Event Number"
         }
        },
        "yaxis": {
         "anchor": "x",
         "domain": [
          0,
          1
         ],
         "title": {
          "text": "Shapley Value"
         }
        },
        "yaxis2": {
         "anchor": "x",
         "overlaying": "y",
         "side": "right",
         "title": {
          "text": "Sequence Value"
         }
        }
       }
      }
     },
     "metadata": {},
     "output_type": "display_data"
    }
   ],
   "source": [
    "from src.TimeSHAP import local_event_explainer, plot_local_event_explanation\n",
    "\n",
    "# Extract the same sequence from the test set \n",
    "test_3d = X_test[0:1]\n",
    "\n",
    "f = lambda x: lstm_model.predict(x)\n",
    "\n",
    "background_3d = background.reshape(1, 120, 1)\n",
    "\n",
    "\n",
    "# Call the functions\n",
    "pruned_idx = 0  # Start explanation from the first timestep\n",
    "time_shap_df = local_event_explainer(f, test_3d, background_3d, pruned_idx, nsamples=10000)\n",
    "time_shap_fig = plot_local_event_explanation(time_shap_df)\n",
    "time_shap_fig.show()"
   ]
  },
  {
   "cell_type": "code",
   "execution_count": 27,
   "metadata": {},
   "outputs": [
    {
     "name": "stdout",
     "output_type": "stream",
     "text": [
      "Correlation between SHAP and TimeSHAP: 0.9787056616053802\n"
     ]
    }
   ],
   "source": [
    "# Compute correlation for quantitative comparison\n",
    "from scipy.stats import pearsonr\n",
    "correlation, _ = pearsonr(shap_first, time_shap_df[\"Shapley Value\"])\n",
    "print(\"Correlation between SHAP and TimeSHAP:\", correlation)"
   ]
  },
  {
   "cell_type": "code",
   "execution_count": null,
   "metadata": {},
   "outputs": [],
   "source": []
  }
 ],
 "metadata": {
  "kernelspec": {
   "display_name": "timeshap_env",
   "language": "python",
   "name": "python3"
  },
  "language_info": {
   "codemirror_mode": {
    "name": "ipython",
    "version": 3
   },
   "file_extension": ".py",
   "mimetype": "text/x-python",
   "name": "python",
   "nbconvert_exporter": "python",
   "pygments_lexer": "ipython3",
   "version": "3.9.21"
  }
 },
 "nbformat": 4,
 "nbformat_minor": 2
}
